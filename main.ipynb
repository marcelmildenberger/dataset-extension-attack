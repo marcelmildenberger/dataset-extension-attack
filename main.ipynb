{
 "cells": [
  {
   "cell_type": "markdown",
   "metadata": {},
   "source": [
    "# Privacy-Preserving Record Linkage (PPRL): Investigating Dataset Extension Attacks"
   ]
  },
  {
   "cell_type": "markdown",
   "metadata": {},
   "source": [
    "## Setup"
   ]
  },
  {
   "cell_type": "code",
   "execution_count": 1,
   "metadata": {},
   "outputs": [
    {
     "name": "stdout",
     "output_type": "stream",
     "text": [
      "System Version: 3.10.16 | packaged by conda-forge | (main, Dec  5 2024, 14:20:01) [Clang 18.1.8 ]\n",
      "PyTorch version 2.1.2\n",
      "Torchvision version 0.16.2\n",
      "Numpy version 1.24.4\n",
      "Pandas version 2.0.3\n"
     ]
    }
   ],
   "source": [
    "import os\n",
    "\n",
    "import torch\n",
    "from torch.utils.tensorboard import SummaryWriter\n",
    "import torch.nn as nn\n",
    "import torch.optim as optim\n",
    "from torch.utils.data import DataLoader, random_split\n",
    "import torchvision\n",
    "\n",
    "from utils import *\n",
    "\n",
    "import matplotlib.pyplot as plt # For data viz\n",
    "import pandas as pd\n",
    "import hickle as hkl\n",
    "import numpy as np\n",
    "import string\n",
    "import sys\n",
    "from tqdm.notebook import tqdm\n",
    "\n",
    "from graphMatching.gma import run_gma\n",
    "\n",
    "from datasets.bloom_filter_dataset import BloomFilterDataset\n",
    "from datasets.tab_min_hash_dataset import TabMinHashDataset\n",
    "from datasets.two_step_hash_dataset_padding import TwoStepHashDatasetPadding\n",
    "from datasets.two_step_hash_dataset_frequency_string import TwoStepHashDatasetFrequencyString\n",
    "from datasets.two_step_hash_dataset_one_hot_encoding import TwoStepHashDatasetOneHotEncoding\n",
    "\n",
    "from pytorch_models.bloom_filter_to_two_gram_classifier import BloomFilterToTwoGramClassifier\n",
    "from pytorch_models.tab_min_hash_to_two_gram_classifier import TabMinHashToTwoGramClassifier\n",
    "from pytorch_models.two_step_hash_to_two_gram_classifier import TwoStepHashToTwoGramClassifier\n",
    "\n",
    "print('System Version:', sys.version)\n",
    "print('PyTorch version', torch.__version__)\n",
    "print('Torchvision version', torchvision.__version__)\n",
    "print('Numpy version', np.__version__)\n",
    "print('Pandas version', pd.__version__)"
   ]
  },
  {
   "cell_type": "markdown",
   "metadata": {},
   "source": [
    "## Run GMA"
   ]
  },
  {
   "cell_type": "code",
   "execution_count": 2,
   "metadata": {},
   "outputs": [],
   "source": [
    "# Parameters\n",
    "GLOBAL_CONFIG = {\n",
    "    \"Data\": \"./data/datasets/fakename_5k.tsv\",\n",
    "    \"Overlap\": 0.9,\n",
    "    \"DropFrom\": \"Both\",\n",
    "    \"Verbose\": True,  # Print Status Messages\n",
    "    \"MatchingMetric\": \"cosine\",\n",
    "    \"Matching\": \"MinWeight\",\n",
    "    \"Workers\": -1,\n",
    "    \"SaveAliceEncs\": False,\n",
    "    \"SaveEveEncs\": False,\n",
    "    \"DevMode\": True,\n",
    "}\n",
    "\n",
    "\n",
    "DEA_CONFIG = {\n",
    "    #Padding / FrequencyString / OneHotEncoding\n",
    "    \"TSHMode\": \"OneHotEncoding\",\n",
    "    \"DevMode\": False,\n",
    "    # BCEWithLogitsLoss / MultiLabelSoftMarginLoss\n",
    "    \"LossFunction:\": \"BCEWithLogitsLoss\",\n",
    "    # Adam / AdamW / SGD / RMSprop\n",
    "    \"Optimizer\": \"AdamW\",\n",
    "    \"LearningRate\": 0.001,\n",
    "    # SGD only\n",
    "    \"Momentum\": 0.9,\n",
    "    \"BatchSize\": 32,\n",
    "    \"Epochs\": 10,\n",
    "    # TestSize calculated accordingly\n",
    "    \"TrainSize\": 0.8,\n",
    "    \"FilterThreshold\": 0.5,\n",
    "}\n",
    "\n",
    "ENC_CONFIG = {\n",
    "    \"AliceAlgo\": \"TwoStepHash\",\n",
    "    \"AliceSecret\": \"SuperSecretSalt1337\",\n",
    "    \"AliceN\": 2,\n",
    "    \"AliceMetric\": \"dice\",\n",
    "    \"EveAlgo\": \"None\",\n",
    "    \"EveSecret\": \"ATotallyDifferentString42\",\n",
    "    \"EveN\": 2,\n",
    "    \"EveMetric\": \"dice\",\n",
    "    # For BF encoding\n",
    "    \"AliceBFLength\": 1024,\n",
    "    \"AliceBits\": 10,\n",
    "    \"AliceDiffuse\": False,\n",
    "    \"AliceT\": 10,\n",
    "    \"AliceEldLength\": 1024,\n",
    "    \"EveBFLength\": 1024,\n",
    "    \"EveBits\": 10,\n",
    "    \"EveDiffuse\": False,\n",
    "    \"EveT\": 10,\n",
    "    \"EveEldLength\": 1024,\n",
    "    # For TMH encoding\n",
    "    \"AliceNHash\": 1024,\n",
    "    \"AliceNHashBits\": 64,\n",
    "    \"AliceNSubKeys\": 8,\n",
    "    \"Alice1BitHash\": True,\n",
    "    \"EveNHash\": 1024,\n",
    "    \"EveNHashBits\": 64,\n",
    "    \"EveNSubKeys\": 8,\n",
    "    \"Eve1BitHash\": True,\n",
    "    # For 2SH encoding\n",
    "    \"AliceNHashFunc\": 10,\n",
    "    \"AliceNHashCol\": 1000,\n",
    "    \"AliceRandMode\": \"PNG\",\n",
    "    \"EveNHashFunc\": 10,\n",
    "    \"EveNHashCol\": 1000,\n",
    "    \"EveRandMode\": \"PNG\",\n",
    "}\n",
    "\n",
    "EMB_CONFIG = {\n",
    "    \"Algo\": \"Node2Vec\",\n",
    "    \"AliceQuantile\": 0.9,\n",
    "    \"AliceDiscretize\": False,\n",
    "    \"AliceDim\": 128,\n",
    "    \"AliceContext\": 10,\n",
    "    \"AliceNegative\": 1,\n",
    "    \"AliceNormalize\": True,\n",
    "    \"EveQuantile\": 0.9,\n",
    "    \"EveDiscretize\": False,\n",
    "    \"EveDim\": 128,\n",
    "    \"EveContext\": 10,\n",
    "    \"EveNegative\": 1,\n",
    "    \"EveNormalize\": True,\n",
    "    # For Node2Vec\n",
    "    \"AliceWalkLen\": 100,\n",
    "    \"AliceNWalks\": 20,\n",
    "    \"AliceP\": 250,\n",
    "    \"AliceQ\": 300,\n",
    "    \"AliceEpochs\": 5,\n",
    "    \"AliceSeed\": 42,\n",
    "    \"EveWalkLen\": 100,\n",
    "    \"EveNWalks\": 20,\n",
    "    \"EveP\": 250,\n",
    "    \"EveQ\": 300,\n",
    "    \"EveEpochs\": 5,\n",
    "    \"EveSeed\": 42\n",
    "}\n",
    "\n",
    "ALIGN_CONFIG = {\n",
    "    \"RegWS\": max(0.1, GLOBAL_CONFIG[\"Overlap\"]/2), #0005\n",
    "    \"RegInit\":1, # For BF 0.25\n",
    "    \"Batchsize\": 1, # 1 = 100%\n",
    "    \"LR\": 200.0,\n",
    "    \"NIterWS\": 100,\n",
    "    \"NIterInit\": 5 ,  # 800\n",
    "    \"NEpochWS\": 100,\n",
    "    \"LRDecay\": 1,\n",
    "    \"Sqrt\": True,\n",
    "    \"EarlyStopping\": 10,\n",
    "    \"Selection\": \"None\",\n",
    "    \"MaxLoad\": None,\n",
    "    \"Wasserstein\": True\n",
    "}"
   ]
  },
  {
   "cell_type": "code",
   "execution_count": 3,
   "metadata": {},
   "outputs": [],
   "source": [
    "eve_enc_hash, alice_enc_hash, eve_emb_hash, alice_emb_hash = get_hashes(GLOBAL_CONFIG, ENC_CONFIG, EMB_CONFIG)\n",
    "\n",
    "if(os.path.isfile(\"./data/available_to_eve/reidentified_individuals_%s_%s_%s_%s.h5\" % (eve_enc_hash, alice_enc_hash, eve_emb_hash, alice_emb_hash)) & os.path.isfile(\"./data/available_to_eve/not_reidentified_individuals_%s_%s_%s_%s.h5\" % (eve_enc_hash, alice_enc_hash, eve_emb_hash, alice_emb_hash))):\n",
    "    #Load Disk From Data\n",
    "    #TODO: Replace pd.read_csv with hkl.load\n",
    "    reidentified_individuals = hkl.load('./data/available_to_eve/reidentified_individuals_%s_%s_%s_%s.h5' % (eve_enc_hash, alice_enc_hash, eve_emb_hash, alice_emb_hash))\n",
    "    df_reidentified_individuals = pd.DataFrame(reidentified_individuals[1:], columns=reidentified_individuals[0])\n",
    "\n",
    "    not_reidentified_individuals = hkl.load('./data/available_to_eve/not_reidentified_individuals_%s_%s_%s_%s.h5' % (eve_enc_hash, alice_enc_hash, eve_emb_hash, alice_emb_hash))\n",
    "    df_not_reidentified_individuals = pd.DataFrame(not_reidentified_individuals[1:], columns=not_reidentified_individuals[0])\n",
    "\n",
    "else:\n",
    "    reidentified_individuals, not_reidentified_individuals = run_gma(GLOBAL_CONFIG, ENC_CONFIG, EMB_CONFIG, ALIGN_CONFIG, DEA_CONFIG, eve_enc_hash, alice_enc_hash, eve_emb_hash, alice_emb_hash)\n",
    "\n",
    "    df_reidentified_individuals = pd.DataFrame(reidentified_individuals[1:], columns=reidentified_individuals[0])\n",
    "    df_not_reidentified_individuals = pd.DataFrame(not_reidentified_individuals[1:], columns=not_reidentified_individuals[0])"
   ]
  },
  {
   "cell_type": "markdown",
   "metadata": {},
   "source": [
    "## Create Datasets "
   ]
  },
  {
   "cell_type": "code",
   "execution_count": 4,
   "metadata": {},
   "outputs": [],
   "source": [
    "#Create the 2-grams with dictionary\n",
    "\n",
    "#Generate all 2-grams\n",
    "alphabet = string.ascii_lowercase\n",
    "\n",
    "# Generate all letter-letter 2-grams (aa-zz)\n",
    "alphabet = string.ascii_lowercase\n",
    "letter_letter_grams = [a + b for a in alphabet for b in alphabet]\n",
    "\n",
    "# Generate all digit-digit 2-grams (00-99)\n",
    "digits = string.digits\n",
    "digit_digit_grams = [d1 + d2 for d1 in digits for d2 in digits]\n",
    "\n",
    "# Generate all letter-digit 2-grams (a0-z9)\n",
    "letter_digit_grams = [l + d for l in alphabet for d in digits]\n",
    "\n",
    "# Combine all sets\n",
    "all_two_grams = letter_letter_grams  + letter_digit_grams + digit_digit_grams\n",
    "\n",
    "# Get a dictionary associating each 2-gram with an index\n",
    "two_gram_dict = {i: two_gram for i, two_gram in enumerate(all_two_grams)}"
   ]
  },
  {
   "cell_type": "code",
   "execution_count": 5,
   "metadata": {},
   "outputs": [],
   "source": [
    "# Create Datasets based on chosen encoding\n",
    "if ENC_CONFIG[\"AliceAlgo\"] == \"BloomFilter\":\n",
    "    data_labeled = BloomFilterDataset(df_reidentified_individuals, is_labeled=True, all_two_grams=all_two_grams, dev_mode=GLOBAL_CONFIG[\"DevMode\"])\n",
    "    data_not_labeled = BloomFilterDataset(df_not_reidentified_individuals, is_labeled=False, all_two_grams=all_two_grams, dev_mode=GLOBAL_CONFIG[\"DevMode\"])\n",
    "    bloomfilter_length = len(df_reidentified_individuals[\"bloomfilter\"][0])\n",
    "\n",
    "if ENC_CONFIG[\"AliceAlgo\"] == \"TabMinHash\":\n",
    "    data_labeled = TabMinHashDataset(df_reidentified_individuals, is_labeled=True, all_two_grams=all_two_grams, dev_mode=GLOBAL_CONFIG[\"DevMode\"])\n",
    "    data_not_labeled = TabMinHashDataset(df_not_reidentified_individuals, is_labeled=False, all_two_grams=all_two_grams, dev_mode=GLOBAL_CONFIG[\"DevMode\"])\n",
    "    tabminhash_length = len(df_reidentified_individuals[\"tabminhash\"][0])\n",
    "\n",
    "if (ENC_CONFIG[\"AliceAlgo\"] == \"TwoStepHash\") & (DEA_CONFIG[\"TSHMode\"] == \"Padding\"):\n",
    "    max_length_reidentified = df_reidentified_individuals[\"twostephash\"].apply(lambda x: len(list(x))).max()\n",
    "    max_length_not_reidentified = df_not_reidentified_individuals[\"twostephash\"].apply(lambda x: len(list(x))).max()\n",
    "    max_twostephash_length = max(max_length_reidentified, max_length_not_reidentified)\n",
    "    data_labeled = TwoStepHashDatasetPadding(df_reidentified_individuals, is_labeled=True, all_two_grams=all_two_grams, max_set_size=max_twostephash_length, dev_mode=GLOBAL_CONFIG[\"DevMode\"])\n",
    "    data_not_labeled = TwoStepHashDatasetPadding(df_not_reidentified_individuals, is_labeled=False, all_two_grams=all_two_grams, max_set_size=max_twostephash_length, dev_mode=GLOBAL_CONFIG[\"DevMode\"])\n",
    "\n",
    "if (ENC_CONFIG[\"AliceAlgo\"] == \"TwoStepHash\") & (DEA_CONFIG[\"TSHMode\"] == \"FrequencyString\"):\n",
    "    max_length_reidentified = df_reidentified_individuals[\"twostephash\"].apply(lambda x: max(x)).max()\n",
    "    max_length_not_reidentified = df_not_reidentified_individuals[\"twostephash\"].apply(lambda x: max(x)).max()\n",
    "    max_twostephash_length = max(max_length_reidentified, max_length_not_reidentified)\n",
    "    data_labeled = TwoStepHashDatasetFrequencyString(df_reidentified_individuals, is_labeled=True, all_two_grams=all_two_grams, frequency_string_length=max_twostephash_length, dev_mode=GLOBAL_CONFIG[\"DevMode\"])\n",
    "    data_not_labeled = TwoStepHashDatasetFrequencyString(df_not_reidentified_individuals, is_labeled=False, all_two_grams=all_two_grams, frequency_string_length=max_twostephash_length, dev_mode=GLOBAL_CONFIG[\"DevMode\"])\n",
    "\n",
    "if (ENC_CONFIG[\"AliceAlgo\"] == \"TwoStepHash\") & (DEA_CONFIG[\"TSHMode\"] == \"OneHotEncoding\"):\n",
    "    unique_integers_reidentified = set().union(*df_reidentified_individuals[\"twostephash\"])\n",
    "    unique_integers_not_reidentified = set().union(*df_not_reidentified_individuals[\"twostephash\"])\n",
    "    unique_integers_sorted = sorted(unique_integers_reidentified.union(unique_integers_not_reidentified))\n",
    "    unique_integers_dict = {i: val for i, val in enumerate(unique_integers_sorted)}\n",
    "    data_labeled = TwoStepHashDatasetOneHotEncoding(df_reidentified_individuals, is_labeled=True, all_integers=unique_integers_sorted, all_two_grams=all_two_grams, dev_mode=GLOBAL_CONFIG[\"DevMode\"])\n",
    "    data_not_labeled = TwoStepHashDatasetOneHotEncoding(df_not_reidentified_individuals, is_labeled=False, all_integers=unique_integers_sorted, all_two_grams=all_two_grams, dev_mode=GLOBAL_CONFIG[\"DevMode\"])"
   ]
  },
  {
   "cell_type": "markdown",
   "metadata": {},
   "source": [
    "## Create Dataloader"
   ]
  },
  {
   "cell_type": "code",
   "execution_count": 6,
   "metadata": {},
   "outputs": [],
   "source": [
    "# Split proportions\n",
    "train_size = int(DEA_CONFIG[\"TrainSize\"] * len(data_labeled))\n",
    "val_size = len(data_labeled) - train_size\n",
    "\n",
    "#Split dataset of reidentified individuals\n",
    "data_train, data_val = random_split(data_labeled, [train_size, val_size])\n",
    "\n",
    "# Create dataloader\n",
    "dataloader_train = DataLoader(data_train, batch_size=DEA_CONFIG[\"BatchSize\"], shuffle=True)\n",
    "dataloader_val = DataLoader(data_val, batch_size=DEA_CONFIG[\"BatchSize\"], shuffle=True)\n",
    "dataloader_test = DataLoader(data_not_labeled, batch_size=DEA_CONFIG[\"BatchSize\"], shuffle=False)"
   ]
  },
  {
   "cell_type": "markdown",
   "metadata": {},
   "source": [
    "## Pytorch Model"
   ]
  },
  {
   "cell_type": "code",
   "execution_count": 37,
   "metadata": {},
   "outputs": [],
   "source": [
    "# Create Models based on chosen encoding scheme\n",
    "if ENC_CONFIG[\"AliceAlgo\"] == \"BloomFilter\":\n",
    "    model = BloomFilterToTwoGramClassifier(input_dim=bloomfilter_length, num_two_grams=len(all_two_grams))\n",
    "\n",
    "if ENC_CONFIG[\"AliceAlgo\"] == \"TabMinHash\":\n",
    "    model = TabMinHashToTwoGramClassifier(input_dim=tabminhash_length, num_two_grams=len(all_two_grams))\n",
    "\n",
    "if (ENC_CONFIG[\"AliceAlgo\"] == \"TwoStepHash\") & (DEA_CONFIG[\"TSHMode\"] == \"Padding\"):\n",
    "    model = TwoStepHashToTwoGramClassifier(input_dim=max_twostephash_length, num_two_grams=len(all_two_grams))\n",
    "\n",
    "if (ENC_CONFIG[\"AliceAlgo\"] == \"TwoStepHash\") & (DEA_CONFIG[\"TSHMode\"] == \"FrequencyString\"):\n",
    "    model = TabMinHashToTwoGramClassifier(input_dim=max_twostephash_length, num_two_grams=len(all_two_grams))\n",
    "\n",
    "if (ENC_CONFIG[\"AliceAlgo\"] == \"TwoStepHash\") & (DEA_CONFIG[\"TSHMode\"] == \"OneHotEncoding\"):\n",
    "    model = TabMinHashToTwoGramClassifier(input_dim=len(unique_integers_sorted), num_two_grams=len(all_two_grams))\n"
   ]
  },
  {
   "cell_type": "markdown",
   "metadata": {},
   "source": [
    "## Training Loop"
   ]
  },
  {
   "cell_type": "code",
   "execution_count": 46,
   "metadata": {},
   "outputs": [],
   "source": [
    "#Setup Writer\n",
    "experiment_name = DEA_CONFIG[\"LossFunction:\"] + \"_\" + DEA_CONFIG[\"Optimizer\"] + \"_\" + ENC_CONFIG[\"AliceAlgo\"] + \"_\" + DEA_CONFIG[\"TSHMode\"]\n",
    "writer = SummaryWriter(\"runs/%s\" % experiment_name)"
   ]
  },
  {
   "cell_type": "code",
   "execution_count": 41,
   "metadata": {},
   "outputs": [
    {
     "data": {
      "text/plain": [
       "TabMinHashToTwoGramClassifier(\n",
       "  (model): Sequential(\n",
       "    (0): Linear(in_features=12606, out_features=512, bias=True)\n",
       "    (1): ReLU()\n",
       "    (2): Dropout(p=0.2, inplace=False)\n",
       "    (3): Linear(in_features=512, out_features=512, bias=True)\n",
       "    (4): ReLU()\n",
       "    (5): Dropout(p=0.2, inplace=False)\n",
       "    (6): Linear(in_features=512, out_features=1036, bias=True)\n",
       "  )\n",
       ")"
      ]
     },
     "execution_count": 41,
     "metadata": {},
     "output_type": "execute_result"
    }
   ],
   "source": [
    "# Define Device\n",
    "device = torch.device(\"cuda:0\" if torch.cuda.is_available() else \"cpu\")\n",
    "model.to(device)"
   ]
  },
  {
   "cell_type": "code",
   "execution_count": 42,
   "metadata": {},
   "outputs": [],
   "source": [
    "# Loss function for multi-label classification\n",
    "if(DEA_CONFIG[\"LossFunction:\"] == \"BCEWithLogitsLoss\"):\n",
    "    criterion = nn.BCEWithLogitsLoss()\n",
    "if(DEA_CONFIG[\"LossFunction:\"] == \"MultiLabelSoftMarginLoss\"):\n",
    "    criterion = nn.MultiLabelSoftMarginLoss()"
   ]
  },
  {
   "cell_type": "code",
   "execution_count": 43,
   "metadata": {},
   "outputs": [],
   "source": [
    "# Optimizer\n",
    "if(DEA_CONFIG[\"Optimizer\"] == \"Adam\"):\n",
    "    optimizer = optim.Adam(model.parameters(), lr=DEA_CONFIG[\"LearningRate\"])\n",
    "if(DEA_CONFIG[\"Optimizer\"] == \"AdamW\"):\n",
    "    optimizer = optim.AdamW(model.parameters(), lr=DEA_CONFIG[\"LearningRate\"])\n",
    "if(DEA_CONFIG[\"Optimizer\"] == \"SGD\"):\n",
    "    optimizer = optim.SGD(model.parameters(), lr=DEA_CONFIG[\"LearningRate\"], momentum=DEA_CONFIG[\"Momentum\"])\n",
    "if(DEA_CONFIG[\"Optimizer\"] == \"RMSprop\"):\n",
    "    optimizer = optim.RMSprop(model.parameters(), lr=DEA_CONFIG[\"LearningRate\"])"
   ]
  },
  {
   "cell_type": "code",
   "execution_count": 44,
   "metadata": {},
   "outputs": [
    {
     "data": {
      "application/vnd.jupyter.widget-view+json": {
       "model_id": "e8d4cdbef03e4c8e8014e521f16b59a0",
       "version_major": 2,
       "version_minor": 0
      },
      "text/plain": [
       "Training loop:   0%|          | 0/103 [00:00<?, ?it/s]"
      ]
     },
     "metadata": {},
     "output_type": "display_data"
    },
    {
     "data": {
      "application/vnd.jupyter.widget-view+json": {
       "model_id": "6db949e6d8744935b271f17a2ab413e2",
       "version_major": 2,
       "version_minor": 0
      },
      "text/plain": [
       "Validation loop:   0%|          | 0/26 [00:00<?, ?it/s]"
      ]
     },
     "metadata": {},
     "output_type": "display_data"
    },
    {
     "name": "stdout",
     "output_type": "stream",
     "text": [
      "Epoch 1/10 - Train loss: 0.1054, Validation loss: 0.0632\n"
     ]
    },
    {
     "data": {
      "application/vnd.jupyter.widget-view+json": {
       "model_id": "e037d688f16543a7899840a505c91e97",
       "version_major": 2,
       "version_minor": 0
      },
      "text/plain": [
       "Training loop:   0%|          | 0/103 [00:00<?, ?it/s]"
      ]
     },
     "metadata": {},
     "output_type": "display_data"
    },
    {
     "data": {
      "application/vnd.jupyter.widget-view+json": {
       "model_id": "c83a5fb9135a42af8af74a686764d841",
       "version_major": 2,
       "version_minor": 0
      },
      "text/plain": [
       "Validation loop:   0%|          | 0/26 [00:00<?, ?it/s]"
      ]
     },
     "metadata": {},
     "output_type": "display_data"
    },
    {
     "name": "stdout",
     "output_type": "stream",
     "text": [
      "Epoch 2/10 - Train loss: 0.0593, Validation loss: 0.0525\n"
     ]
    },
    {
     "data": {
      "application/vnd.jupyter.widget-view+json": {
       "model_id": "f07a31ebad2647bfbf1034d3c44a4e1b",
       "version_major": 2,
       "version_minor": 0
      },
      "text/plain": [
       "Training loop:   0%|          | 0/103 [00:00<?, ?it/s]"
      ]
     },
     "metadata": {},
     "output_type": "display_data"
    },
    {
     "data": {
      "application/vnd.jupyter.widget-view+json": {
       "model_id": "41e314af3e9a49369f8eaa48954f0cc8",
       "version_major": 2,
       "version_minor": 0
      },
      "text/plain": [
       "Validation loop:   0%|          | 0/26 [00:00<?, ?it/s]"
      ]
     },
     "metadata": {},
     "output_type": "display_data"
    },
    {
     "name": "stdout",
     "output_type": "stream",
     "text": [
      "Epoch 3/10 - Train loss: 0.0468, Validation loss: 0.0399\n"
     ]
    },
    {
     "data": {
      "application/vnd.jupyter.widget-view+json": {
       "model_id": "a6f4e0bdc030467f9bd2e6de06884590",
       "version_major": 2,
       "version_minor": 0
      },
      "text/plain": [
       "Training loop:   0%|          | 0/103 [00:00<?, ?it/s]"
      ]
     },
     "metadata": {},
     "output_type": "display_data"
    },
    {
     "data": {
      "application/vnd.jupyter.widget-view+json": {
       "model_id": "a4eda57e7b1f4dcd933179dbeb575096",
       "version_major": 2,
       "version_minor": 0
      },
      "text/plain": [
       "Validation loop:   0%|          | 0/26 [00:00<?, ?it/s]"
      ]
     },
     "metadata": {},
     "output_type": "display_data"
    },
    {
     "name": "stdout",
     "output_type": "stream",
     "text": [
      "Epoch 4/10 - Train loss: 0.0360, Validation loss: 0.0322\n"
     ]
    },
    {
     "data": {
      "application/vnd.jupyter.widget-view+json": {
       "model_id": "32c49c6c2e3d4c8e91ad4dc8e192f958",
       "version_major": 2,
       "version_minor": 0
      },
      "text/plain": [
       "Training loop:   0%|          | 0/103 [00:00<?, ?it/s]"
      ]
     },
     "metadata": {},
     "output_type": "display_data"
    },
    {
     "data": {
      "application/vnd.jupyter.widget-view+json": {
       "model_id": "1e1c733d21f94761b10aec8774a78b98",
       "version_major": 2,
       "version_minor": 0
      },
      "text/plain": [
       "Validation loop:   0%|          | 0/26 [00:00<?, ?it/s]"
      ]
     },
     "metadata": {},
     "output_type": "display_data"
    },
    {
     "name": "stdout",
     "output_type": "stream",
     "text": [
      "Epoch 5/10 - Train loss: 0.0285, Validation loss: 0.0272\n"
     ]
    },
    {
     "data": {
      "application/vnd.jupyter.widget-view+json": {
       "model_id": "8368a89005884ee8b89a964e730148b5",
       "version_major": 2,
       "version_minor": 0
      },
      "text/plain": [
       "Training loop:   0%|          | 0/103 [00:00<?, ?it/s]"
      ]
     },
     "metadata": {},
     "output_type": "display_data"
    },
    {
     "data": {
      "application/vnd.jupyter.widget-view+json": {
       "model_id": "2537bd1e182f44a4bac0e0410559bb62",
       "version_major": 2,
       "version_minor": 0
      },
      "text/plain": [
       "Validation loop:   0%|          | 0/26 [00:00<?, ?it/s]"
      ]
     },
     "metadata": {},
     "output_type": "display_data"
    },
    {
     "name": "stdout",
     "output_type": "stream",
     "text": [
      "Epoch 6/10 - Train loss: 0.0233, Validation loss: 0.0237\n"
     ]
    },
    {
     "data": {
      "application/vnd.jupyter.widget-view+json": {
       "model_id": "665ea04c3ed3421ead4dcebe605d61f5",
       "version_major": 2,
       "version_minor": 0
      },
      "text/plain": [
       "Training loop:   0%|          | 0/103 [00:00<?, ?it/s]"
      ]
     },
     "metadata": {},
     "output_type": "display_data"
    },
    {
     "data": {
      "application/vnd.jupyter.widget-view+json": {
       "model_id": "d28b93e0442a457cbc18cfa9a92ad27d",
       "version_major": 2,
       "version_minor": 0
      },
      "text/plain": [
       "Validation loop:   0%|          | 0/26 [00:00<?, ?it/s]"
      ]
     },
     "metadata": {},
     "output_type": "display_data"
    },
    {
     "name": "stdout",
     "output_type": "stream",
     "text": [
      "Epoch 7/10 - Train loss: 0.0194, Validation loss: 0.0217\n"
     ]
    },
    {
     "data": {
      "application/vnd.jupyter.widget-view+json": {
       "model_id": "81a79377328341889b492e2cb4c781fa",
       "version_major": 2,
       "version_minor": 0
      },
      "text/plain": [
       "Training loop:   0%|          | 0/103 [00:00<?, ?it/s]"
      ]
     },
     "metadata": {},
     "output_type": "display_data"
    },
    {
     "data": {
      "application/vnd.jupyter.widget-view+json": {
       "model_id": "329ce59713d444d58d4a6eec449a7fe4",
       "version_major": 2,
       "version_minor": 0
      },
      "text/plain": [
       "Validation loop:   0%|          | 0/26 [00:00<?, ?it/s]"
      ]
     },
     "metadata": {},
     "output_type": "display_data"
    },
    {
     "name": "stdout",
     "output_type": "stream",
     "text": [
      "Epoch 8/10 - Train loss: 0.0166, Validation loss: 0.0203\n"
     ]
    },
    {
     "data": {
      "application/vnd.jupyter.widget-view+json": {
       "model_id": "90286790ae8047beaeee8b6ec469e8e8",
       "version_major": 2,
       "version_minor": 0
      },
      "text/plain": [
       "Training loop:   0%|          | 0/103 [00:00<?, ?it/s]"
      ]
     },
     "metadata": {},
     "output_type": "display_data"
    },
    {
     "data": {
      "application/vnd.jupyter.widget-view+json": {
       "model_id": "f8653cdab07c486b9acb5d3c2812c501",
       "version_major": 2,
       "version_minor": 0
      },
      "text/plain": [
       "Validation loop:   0%|          | 0/26 [00:00<?, ?it/s]"
      ]
     },
     "metadata": {},
     "output_type": "display_data"
    },
    {
     "name": "stdout",
     "output_type": "stream",
     "text": [
      "Epoch 9/10 - Train loss: 0.0142, Validation loss: 0.0195\n"
     ]
    },
    {
     "data": {
      "application/vnd.jupyter.widget-view+json": {
       "model_id": "7f6e80006a4c4a28a34bc54999765349",
       "version_major": 2,
       "version_minor": 0
      },
      "text/plain": [
       "Training loop:   0%|          | 0/103 [00:00<?, ?it/s]"
      ]
     },
     "metadata": {},
     "output_type": "display_data"
    },
    {
     "data": {
      "application/vnd.jupyter.widget-view+json": {
       "model_id": "3d5c9bc1fc034f9c90bf717f8a81a1c5",
       "version_major": 2,
       "version_minor": 0
      },
      "text/plain": [
       "Validation loop:   0%|          | 0/26 [00:00<?, ?it/s]"
      ]
     },
     "metadata": {},
     "output_type": "display_data"
    },
    {
     "name": "stdout",
     "output_type": "stream",
     "text": [
      "Epoch 10/10 - Train loss: 0.0127, Validation loss: 0.0183\n"
     ]
    }
   ],
   "source": [
    "train_losses, val_losses = [], []\n",
    "\n",
    "for epoch in range(DEA_CONFIG[\"Epochs\"]):\n",
    "    # Training\n",
    "    model.train()\n",
    "    running_loss = 0.0\n",
    "    for data, labels in tqdm(dataloader_train, desc=\"Training loop\"):\n",
    "        # Move data to device\n",
    "        data, labels = data.to(device), labels.to(device)\n",
    "        optimizer.zero_grad()\n",
    "        outputs = model(data)\n",
    "        loss = criterion(outputs, labels)\n",
    "        loss.backward()\n",
    "        optimizer.step()\n",
    "        running_loss += loss.item() * labels.size(0)\n",
    "    train_loss = running_loss / len(dataloader_train.dataset)\n",
    "    train_losses.append(train_loss)\n",
    "    writer.add_scalar(\"Loss/train\", train_loss, epoch + 1)\n",
    "\n",
    "    #Calculate true training loss?\n",
    "\n",
    "    #Validation\n",
    "    model.eval()\n",
    "    running_loss = 0.0\n",
    "    with torch.no_grad():\n",
    "        for data, labels in tqdm(dataloader_val, desc=\"Validation loop\"):\n",
    "            # Move data to device\n",
    "            data, labels = data.to(device), labels.to(device)\n",
    "\n",
    "            outputs = model(data)\n",
    "            loss = criterion(outputs, labels)\n",
    "            running_loss += loss.item() * labels.size(0)\n",
    "        val_loss = running_loss / len(dataloader_val.dataset)\n",
    "        val_losses.append(val_loss)\n",
    "        writer.add_scalar(\"Loss/validation\", val_loss, epoch + 1)\n",
    "    print(f\"Epoch {epoch + 1}/{DEA_CONFIG['Epochs']} - Train loss: {train_loss:.4f}, Validation loss: {val_loss:.4f}\")\n",
    "\n",
    "writer.flush()\n",
    "writer.close()"
   ]
  },
  {
   "cell_type": "markdown",
   "metadata": {},
   "source": [
    "## Visualize Losses and Performance Metrics"
   ]
  },
  {
   "cell_type": "code",
   "execution_count": 45,
   "metadata": {},
   "outputs": [
    {
     "data": {
      "image/png": "[encoded data removed]",
      "text/plain": [
       "<Figure size 640x480 with 1 Axes>"
      ]
     },
     "metadata": {},
     "output_type": "display_data"
    }
   ],
   "source": [
    "plt.plot(train_losses, label='Training loss')\n",
    "plt.plot(val_losses, label='Validation loss')\n",
    "plt.legend()\n",
    "plt.title(\"Loss over epochs\")\n",
    "plt.show()"
   ]
  },
  {
   "cell_type": "markdown",
   "metadata": {},
   "source": [
    "## Re-Identify Not-Reidentified Individuals"
   ]
  },
  {
   "cell_type": "markdown",
   "metadata": {},
   "source": [
    "### Apply Model to Not-Reiditentified Individuals"
   ]
  },
  {
   "cell_type": "code",
   "execution_count": 14,
   "metadata": {},
   "outputs": [
    {
     "data": {
      "application/vnd.jupyter.widget-view+json": {
       "model_id": "2d2ba9587f144977b2875faba6d4fc2a",
       "version_major": 2,
       "version_minor": 0
      },
      "text/plain": [
       "Test loop:   0%|          | 0/15 [00:00<?, ?it/s]"
      ]
     },
     "metadata": {},
     "output_type": "display_data"
    },
    {
     "name": "stdout",
     "output_type": "stream",
     "text": [
      "Decoded Test Results:  [['elly', '1910299', 'we', 'max', 'l1', 'nm'], ['1952', 'wood', 'ayhar', '71', 'yw', '91'], ['thenet', '2001', 'annva', 'kev', 'ns', '52'], ['1996', 'ente', 're', 'ar', '51', '21'], ['johns1200251', '22', '52'], ['198', 'stergeor12', '71', 'fo'], ['197', 'er11', 'arys', '01', 'hage', 'la', 'rr', 'il', '30'], ['1987', 'erela', '10', 'neshe', 'rr1', '61', 'in'], ['19717', 'aros', 'n81', 'ton', 'rt', 'ba'], ['1985', 'ner', 'ann', '10', 't1'], ['194', 'br', 'an', 's110', 'sa', 'us', 'ig'], ['ellenerse', '1946', '313', 's3', 'ls'], ['1973', 'ron', 'ar', '11', 'aw', 'st'], ['1971', 'sel', '27', 'ycru', 'ey', 'ke'], ['oreth', '196', 'e11231', 'abeliza', 'mo'], ['196', 'anger51', 'in', 'ha', 'sti', 'us', '52'], ['19429102', 'mal', 'nd', 'on', 'bo', '01'], ['19971', 'erthomas', 'bet', 'rob', '42'], ['1944', 'haelmich', '211', '22', 'er', 's2', 'me'], ['th', '003113', 'marg', '20', 'et', 'it', 're', 'ke', '12'], ['19', 'riatr', 'icil', 'pachi', '312'], ['19515', 'esbrenname', 'an', 'ja'], ['1946', '1211', 'man1', 'ary', '22', 'wa'], ['erobe', '196', 'yrt', 'rry', '10', 's11'], ['195', 'ry', '23122', 'er1', 'arr', 'nte', 'ha'], ['1941', 'rillis', 'ag', '448'], ['19610151', 'ng', 'an', 'ram', 'es', 'fr'], ['19', 'erobes', 'the', '21', '2251', 'rt', '52'], ['198', 'ennyb', '41', 'er', 'de', '61', 'nd'], ['199', 'netho', 'nn', 'en', 'ke', 'ie'], ['00', '5120', 'nem', 'ere', '21'], ['194121', 'queline', 'jacq', 'br', 'n1'], ['1956', 'sephamel71', 'os', 'jo'], ['1995', 'ry', 'eron', '81', '28', 'rr', '91'], ['erspes', '197', 'ted', '616', 'ce', 'rc', 'me'], ['196', 'wilis12141', 'ams', 'lo', 'll', 'ia'], ['19', '101', 'ther', 'amon', 'at', 'ha', 'sh', 'mm', 'im'], ['19851', 'onnawi', '61', 'do', 'ck'], ['1964', 'llilel', 'is6', 'wi', '301', '93'], ['20031', 'llil', 'iama', 'wi', 'ho', 'th', '01'], ['1985', 'liah', '61', '87'], ['manmcarm', 'or', 'n5200', 'em', 'cl', '42', 'no', '14'], ['1964', 'th', 'ley21', 'nenn', 'et', 'ke', '22'], ['rys', '198', 'regrr', 'or', '102', 'ely', 'go', '31', 'll'], ['197121', 'ott', 'sscos', 'ro', 'ys'], ['19', 'nnifen', 'olin', 'co', '51', 'er', 'je', 's7'], ['197', '515', 're', 'nr', '61', 'tin', 'us'], ['1998', 'ark', 'tin', 'ma', '71', 'st', '91', 'us'], ['197', 'rart', 'er', '31', 'sa', 'ebe', '51'], ['195', 'homash', 'ook', 'ro', 'th', '21', 'br'], ['attan', 'brite195', '121', '71', 'ypr', '27'], ['197117', 'ner', 'in', 'st', 'es'], ['199', 'nng', 'ani', 'hath', '10281'], ['1963', 'haro', '10251', 'ah', '01'], ['200', 'thevat', 'ca', 'ne', 'rin', 'ka', '25'], ['1988', 'ckey', 'ice', 'ac', '21', '22', 'mi', 'ra'], ['1995', 'an', '1141', 'er1', 'assa', 'esn', 'de', 'va', '01'], ['1971', 'orand', 'mon', 'ym', 'ay', '27', 'ga', 'rg'], ['1939', 'man', '51', 'ken', 'ie', 'ry', 'ck'], ['th', '1947', 'mit', 'smon', '81', '28', 'ys'], ['194', 'on121', 'daviddso'], ['on102001', 'rgeror', 'inso'], ['198187', 'al', 'wandrer', 'ew', 'ke'], ['196231', 'ta', 'per', 'cor', 'pr'], ['1967', 'arle', 'alha', '91', 'ca', '29', 'ch'], ['19811', 'iarietter', 'lic', 'ul', 'di'], ['1967', '311332', 'ris', 'on3', 'hr', 'ch', 'mo'], ['200', 'eried', '1282', 'al', 'ch'], ['1981', '282', 'lisab', 's72', 'gg'], ['as', 'thomaugh', '1955', 'ba', '01'], ['197', 'riang', 'br', '51', 'ood', '31'], ['1941', 'er', 'les', '242', '40', 'ee'], ['ar', '98419', 'lena', '24', 'ell'], ['196', 'larence', 'pa', 'sons', '31', 'rs', '41'], ['ar', '200', 'lon', 'al', 'ea', 'ca', 'ga', '6126'], ['519525', 'ke12', 'it', 'ew', 'hi'], ['1944', 'nnifer', 'cook', '818', 'en'], ['illiatrick', '197', 'wi', 'pams261', '21', '22'], ['194', 'san', 'usse', '71', '27', 'osu', 'ro'], ['198', 'aryal', 'ma', '10271', 'n1', 'in'], ['194', 'stan', 'lac', 's12', 'll', '01'], ['1944', 'ann', 'dea', 'er', 'se'], ['esteve', '2003', 'jame', 'son82', 'ss', '02'], ['194', 'ey', 'thy', '301', 'le', 'nl', 'ut', 'ru', 'fi'], ['da', 'ndelid', 'he', 'in', '00', '41420', '19'], ['200', 'steresas', 'ca', '3251', 'tr'], ['1961', 'orimes', 'he', 'gr', '21', '99'], ['1988', 'n121', 'eni', 'man', 'dem', 'ad'], ['1993', 'heilawat', 'sh', '51', 'n8', 'son', '25'], ['195', 'aryb', 'ma', 'tett', '3101', 'urc'], ['1967', 'arga', 'ma', 'geth', '61'], ['196', '1211', 'ndavis1', 'an', 'ra', 'dy'], ['003', 'la', 'er', '20', 'll', 'el', 'stey', 'me', '11', '52'], ['1976', 'avida', 'ha', '313'], ['1993', 'michael', 'an41', 'bry', '42'], ['19', 'ryand31', 'lar', '71', '27', '32', 'mc'], ['198', 'ris14101', 'ardorr', 'ha'], ['1961', 'ar', 'made', 'is', 'ch', 'la', '66'], ['9619', '313', 'ras', 'ri', 'va', '67'], ['194', 'heley1', 'ch', '61', 'rac'], ['197', 'sane', '91', 'us', 'pay'], ['1990', 'th', 'orlizabelet', '61'], ['michelesm', '197', 'th12511', 'it', 'll'], ['197', 'igh', 'nd', 'lin', '1121', 'ri', 'aw'], ['198313', 'andre', 'ay', '71', 'kat'], ['199', 'iliams', 'wi', 'll', 'nny', '414', 'hn', 'joh', '11'], ['198301', 'araur', 'la', 'ga'], ['198', 'icell', '515', 'weatri', 'ow'], ['197', 'aryc', '61', '31', 're', 'ma'], ['1937', 'osesanter', 'ce'], ['1961', 'erandy', 'in', 'te', '21'], ['1971', 'gra', '51', 'enmc', 're', '79'], ['196', 'ry', 'n10', 'oregr', 'on', 'so', 'er', 'ma', 'go', 'em'], ['1981', 'ker83', 'natuck', '282'], ['1971', 'scosele', 'tt', '272'], ['1986', 'hett717', 'ur', 'ch', 'bu', 'eb', 'tc'], ['198108', 'illin', 'hi', '01', 'ti'], ['197', '1121', 'lis', 'lle', 'yl'], ['1942612', 'nev', 'arl', 'ha', 'tten1', 'in', 'ch', 'ti'], ['193', 'lly', 'hel', 'rac', '61', 'sh'], ['196', 'le4', 'rkee', 'ur', 'bu', '91'], ['195', 'johnb', '81', '28'], ['joseph', '197', '4124'], ['1976', 'en1', 'seph', 're', 'jos', '31', 'gr'], ['199131', 'isenni', 'der93'], ['jod', 'ohn', '197', '251', 'oo', 'wo'], ['197', 'or', 'lis', '61', 'mol', '26', 'do'], ['195', 'erstendex', 'le', 'anm', 'al', '241'], ['193', 'ry', 'gar', '101', 'e6'], ['198', 'gar', 'lisa', 'ner', 'mel', '312', 'ss'], ['196', 'vialenirgin11', '21'], ['198', 'hnstoh', 'jo', 'ut', '91'], ['res977', '19', 'fr', 'ey', 'eff', 'je', 'ga'], ['michaen196', 'elgree', '29', '12'], ['196', 'erc', 'esbam', 'ja', 'ke', '515'], ['199', 'igh', '51', 'inelai', '25', 'ug', 'ew'], ['1942', 'eryan', 'ilei', '818', 'r45'], ['1965', '1211', 'herines1', 'th', 'at', 'ca', 'eh'], ['aryred196', 'ma', '2011', 'ee'], ['195', '212', 'liam', 'in', 'hi', 'gi', 'ha'], ['194', 'on', 'so', 'vickers', 'ddidav', '61'], ['19651', 'er7', 'nen', 'te', 'ith', 'sa'], ['197', 'oric', 'trd', 'iafo', 'sta', 'pa', '81'], ['198', 'anchenn', 'sa', 'ez', '41', 'is', 'de', '21'], ['michaelsm', '1987', 'th1', 'it', '41', '89'], ['98419', 'ope', 'risp', '24', 'chr', '82'], ['319423', 'onpate', 'am', 'ra', 'tt'], ['7197', 'ertobes', '27', 'te', 'ro', '42'], ['1971', 'jameson8', 'an', 'ma'], ['196', 'effreyb', 'sh', 'us', 'je', '51'], ['ongo', '196', 'lezal', '101', 'nz', 'so', 'as', 'ja'], ['198', 'cker', 'sab', 'loc', '21', 'is', 'li'], ['1992', 'liaterell', '818', 'ul', 'rr'], ['1971', 'erobe', 'rtt', '270', '42'], ['1951', 'marym', '71', 'on41', 'so', 'as'], ['1981', 'vidav', 'ley89', 'kell', 'e8'], ['195291', 'ndan', 'tatist', 'ba', '51'], ['195141', 'ven', 'er', 'av', 'ea', '21', 'he'], ['1981', 'erth', 'ile', 'll', 'ar', '88', 'ur', 'mi'], ['1941', 'ardwa', 'er', '31', 'gedl', 'dg'], ['191', 'ohnwalter97', 'jo'], ['198', 'onearlto', 'aul', '121', 'ca', 'n1'], ['198', 'ancon', 'ra', '99', 'fr', '21', '51'], ['194', 'reffrryb', 'jey', '71', 's31', 'ws'], ['19', 'net', 'on', '71', 'jo', '27', 'es'], ['1978', 'harich', '11', 'rd', 'on1', 'so', 'gi'], ['194142', 'ley', 'nni', 'en', 'ark', '11', 'de'], ['1938', 'er10261', 'le', 'on', 'yl', 'to', 'ay'], ['arenchaw', '19', 'la', 'rrison', 'ceh', 'cl', '51', 'ur'], ['1985', '01', '30', 'iel', 'bri', '33', 'ru'], ['195', 'ndran5', 'on', 'sa', 'so', 'ch', '29', 'is'], ['195', 'thy', 'on', 'orot', 'do', '010', 'so', 'ud', '71'], ['199', 'lon', 'oyd', '21', '22', '71'], ['199', 'erandr11', 'sas', '21', 'ge', 'am', 'ca'], ['1980', 'istin', 'hri', 'ch', '21', '42', 'to'], ['965', '19', 'night', 'an', 'el', '141', '61', 'ie', '67'], ['003', '20', 'len112', 'anb', 'll', 'ma'], ['198', 'lille', 'wiam', '271', 'ano', '221'], ['196', 'andleyha', '71', 'na', 'ye'], ['194', 'eroni', '21', 'st', 'ca', 'gu'], ['194', 'eler', 'as', 'ola', '71', 'nich', 'll'], ['1978', 'serosobeph', '313', 'jon61', 'rtc'], ['2001', 'aneterio', 'tt', '2422', 'eat', 'ie'], ['1967', 'sab', 'lis22', 'es', 'ur'], ['challd', '195', '21122', 'el', 'ic', 'ae', 'mi'], ['1953', 'heristophrs', 'ch', '414', 'loc'], ['197', 'rthur', 'lar', '11', '51', 'y1', 'll'], ['194', 'rianharr', '81', 'br', 'on2', 'so', 'is', '38'], ['1987', 'erlyst', '911', 'sh', 'r1', 'mb', 'kim'], ['1954', 'mesb', 'jam', '91', 'oo'], ['1993', 'olym', '71', '91', 'ay', 'hy', 'll'], ['31947', '1023', 'it', 's1', 'cai'], ['1967', 'and', 'lon', 'ala', 'fra', '131', '21', 'el', 'ie'], ['1983', 'lins8271', 'ond', 'mol', 's7'], ['n1200', 'onedm', 'annd', 'lea', 'so'], ['ler196', 'mill', 'est', 'ne', '11', '01', '20'], ['1948', 'oneso', 'jackst', 'ar', '212', 'ea'], ['00', '20', 'sess', '11', 'pru', 'tt', 'jet', '21'], ['1971', 'rian', 'bredick', '73'], ['marth', '196', 'ned', 'tin', '1412'], ['199', 'daniels', 'ond', '21', 'ho'], ['1963', 'aril', 'd11', 'rd', 'pr', 'ap'], ['ellhanie', '200', '112', 'dal', '42'], ['198', '101', '41', 'th', 'ra', 'gr', '64'], ['197', 'kelly', 'th', 'it', '221', 'ei'], ['erank', '193', '61', 'fr1', 'deld'], ['197', 'veloli', '11', 'no', '31', 'er'], ['monitan7194', 'sor', 'am', 'ua', '01'], ['003202', 'ersohe', 'jo', 'nhn'], ['1976', 'maney', 'et', 'ja', '91', '21', '92'], ['1989', 'en', '41', 'ora', 'de', 're'], ['gary', '1955', 'egre', 'ori', '27122', 'go', 'tag', 'ma'], ['19521', 'on281', 'hompso', 'th', 'and'], ['196', 'iegrel', 'an', '101', 'ry', '221', 'or', 'da'], ['197', 'er', 'ampe', 'te', '251', 'ada'], ['es120022', 'nejon', 'cen', 'ic'], ['19524', 'raid6', 'ood', 'wo'], ['194', 'joshanno', '81', 'ph', 'sep'], ['196', 'erson', 'ay', 'tet', 'pe', 'la', 'ha', '921'], ['195', '11', 'ie', 'ni', 'co', 'ark', 'ha', 'ma', 'ch', 'nn1'], ['198', 'ma', '251', 'ie', 'ry', '91'], ['1979', 'antho', 'sh', '121', 'ys1'], ['19818', 'thomasscher', 'or'], ['1993', 'william', 'hite', '61', '91'], ['196', 'ngel', 'orti', 'an', '271', 'th', '22'], ['19', 'er', 'enis', 'de', 'nte'], ['alviner195', '10281', 'wa', 'ca'], ['1942', 'heristophra', 'ch', 'ez', 're'], ['195', 'ng', '10', 'in', '112', 'umm', 'cu', 'te'], ['198', 'ie', 'rri', 'ge', '31'], ['195', 'christin', 'he', '12', 'co'], ['193138', 'har', '121'], ['1945', 'arl', 'il', 'ey', 'ca', 'ke'], ['193', 'lynn', '41', 'ile', 'ha'], ['198', 'oriad', '212', 'glo', 'ur', 'tin'], ['1964', 'tist', 'ri', 'or', 'hr', 'ch', '211', 'fo', 'af', '61'], ['1965', 'arball', 'ma', 'ha', 'be', 'sh'], ['on1', '003', '20', 'anderso', 'na', 'nn', '27'], ['196', 'erte', 'lli', 'col', 'al', '41', '24', 'tm', 'to'], ['1955', 'iler', 'as', 'll', '21', 'pi', 'na'], ['ohns', '1971', 'jo', 'kinjenk'], ['1978', 'ema', 'ree', '61', 'mc', '76'], ['1955171', 'aul', 'sa', '53'], ['196', 'ew', 'mathe', '2181', 'ry2', 'ow'], ['196', 'del', 'hey', 'id', 'mur', 'sh'], ['195', 'n1271', 'olden', 'araho'], ['ll', '19', 'el', '71', 'amil', 'ca', 'be', '27', '42', '41'], ['1995', 'ler101', 'andes', '31', 'al', 'ex'], ['199', 'enmure', 'rrar', '71', '51'], ['195', 'mano', 'arm', 'petery', '31'], ['197', 'lorell', 's1121', 'we', 'fl', 'ow'], ['197', 'ly', '31', 'no', 'ellen', '81'], ['196', 'garg', 'ma', 'ret', '291', 'lm', '92', 'ol'], ['241984', 'on122', 'so', 'pars', 'kat'], ['194', 'aryb', '91', '29', 'rr', 'ha', 'oye'], ['197', 'orand', '11', '31', 'rn', 'ch'], ['196', 'al', 'ing', '1241', 'on1', 'sa', 'to', 'wa', '21'], ['1998', 'nes11', '31', 'the', 'on', 're', 'jo'], ['199', 'arysa12141', 'ma'], ['1911', 'arank', 'wa', 'rd1', '99', 'fr', 'df'], ['197', 'rah', 'sar', '51', 'ur', 'mu'], ['0020', '42', 'ken', '52'], ['1985', 'nnifen', '616', 'ss', 'jer', 'las', '31', '36'], ['195', 'baul', '717', 'pates21'], ['1948', 'ick', 'rin', 'tr', '616', 'pati', 'ag', 'st', '44'], ['194', 'ele', 'ie', 'ani', 'll', 'da', '61', '99', '51'], ['196', 'ne', 'an', '81', '71', 'ia', 'di'], ['191', '98', '9929', 'incra', 'vi', 'el', 'me'], ['198', 'an', 'rap', '7141', 'asar', 'ta', '42'], ['1938', 'ns121', 'thad', 'kin', 'bet', '22'], ['198128', 'th1', 'smarys', 'mit'], ['198', 'gleng', 'atricia', 'pa', '51'], ['199', 'arly', '11', 'rd1', 'wa', 'er', 'vev', '71'], ['1937', '41', 'urick', 'erk', '42'], ['2001', 'anetea', 'rer', 'nn', 'tt', 'jes'], ['ordon', '197', '281', 'ki', 'ko'], ['195', 'lan', '101', '261', 'li', 'al', 'pl', '02', 'ce'], ['1947', 'enry', 'hett', 'ge', 'pa'], ['1985', 'wiliambrig', 'll', '91', 's61'], ['19', 'ndad10141', 'ra', 'ord', 'br', 'on', 'ho', '73', 'id'], ['940', '19', '3123', 'nnin', 'lemc', 's11', 'is', 'ee', 'gi'], ['19', 'ilar', '71', 'im', '27', 'ai', 'll', 'ge'], ['1967', 'mes261', 'lam', 're', 'ali', 'ar'], ['anda', '1977', 'iela', 'll', '21', 'ni', '22', '51'], ['197', 'llis', 'el', 'orio', '91', '51', '29', 'do'], ['199', 'jamer11', 'es', '51', 'ke', 'ak', 'ba'], ['1958', 'stone', '271', 'ys'], ['195', 'al', 'rton', '10181', 'ber'], ['198', 'er', '313', 'he', '51', 'ur'], ['steris198', 'hen', 'ophrs', '312', 'to', 'ch', 'vev'], ['195', '101', 'an', '71', 'le', 'la', 'kl', 'kir', 'd1'], ['200122', 'old', 'ar', 'no'], ['195', 'thiach', 'le', 'ynt', 'cy', '818'], ['n12001', 'anden', 'son', 'lersa', 'ell'], ['198', 'onan', '717', '31', 'atso', 'aw'], ['19414', 'ay', 'nne', '21', 'lonie'], ['1964', 'arclah', 'ma', 'ell', 'n1221', 'dson'], ['19922', 'sara', 'ck', 'qu', 'ja'], ['197', '011', 'ti', 'ema', 'ck1'], ['20199', 'rob', 'er', '42', 'ur'], ['194', 'ieveland', '717', 'bo', '51', 'ec', 'll'], ['on199', 'hnnsoh', 'jo', '6126', 'ie', '21'], ['193', 'os', 'heron92', 'jo', '41', '91'], ['194', 'indy', 'calvi', '121', '22'], ['195', 'chel', 'ice', 'ri', 'rac', '211', 'pr'], ['1986126', 'ick', 'isassh', 'ri', 'me', 'li'], ['0020', 'le', 'arl', 'ira', 'hi', '72'], ['ertg', '197', 'be', 'rob', 've', 'r5', '91'], ['ongordod', '00', 'oo', '20', '52'], ['1949', 'pauline1161', 'race', 'gr'], ['ence', '19', 're', 'an', 'awr', 'lam', '51'], ['lill', 'wiams5', '1968', 'dand', '41', 'aw', '24', 'ma'], ['1971', 'alerar', 'vana', 'll', 'o727'], ['1944', 'tisthrin', 'ch', 'ort', 'an', '121'], ['n11', 'onso', '81', 'anehinh', 'ch', '200', 'tc'], ['sta', '19', 'il', '211', '72', 'ra'], ['195', 'alas', 'er211', 'wa', 'ke', 'lk', 'll'], ['197', 'erage', '6126', 'ar1', 'ma', 'rk'], ['200102', 'perez', 'onic', '313'], ['198', 'olo', 'aro', '6151', 'la', 'mo'], ['311', 'ieri', '2003', 'ar', 'or', 'ma', '73'], ['198', 'ines71', 'nnag', 'em', 'qu', '91'], ['1951', 'andramcco', 'sa', '41'], ['1975', 'night', 'kn', 'en', '291', '71', '72'], ['aricha', '1952', 'ord', 'mo', 'is', 'rr', '92'], ['197', 'atherinele', '41', '24', '221'], ['1983', 'hardb', 'ich', 'eck11', 'ri'], ['thomar', '193', 's1051', 'as', '01'], ['194', 'erow', '31', 'se', 'am', '99', 'os', 'br', '81'], ['chael', 'ic', 'rasher5', 'mi', '95', '19', '01', '20'], ['002010', 'th', 'atty', 'judi'], ['194', 'aricha', 'redrd', '313'], ['19421', 'ter', 'et', 'pe', 'mant', '92', '49'], ['1991', 'er', 'lisaw', '71', '61'], ['19681', 'chaello', 'micast', 'il', '61'], ['197301', 'enn', 'rade', '99', 'or', 'y7'], ['19631', 'reb', 'ca', 'cc', 'ec', 'ee', 'un'], ['194101', 'car', 'ol', 'ich', 'ck1', 'sc'], ['1961', 'lesllilagl', 'ie', '26'], ['1977', 'leri', '61', 'ar', 'la', 'ol', 'yl'], ['193818', 'n11', 'on', 'iliackso', 'ja', 'em'], ['199', 'ridler', 'and', 'cha', '271', '42', 'he', 'br', 'ge'], ['194', 'ardwav', '811', '28', 'ed', 'ea'], ['198', 'irerargia1011', 'vin'], ['195', 'arey', 'ca', 'odc', 'oo', '81', '28', 'wo', 'in', '31'], ['haelich', '195', 'mis', '61', 'lle', '26', '41'], ['198', 'wiss', 'er', 'it'], ['196', 'iliam', 'wi', 'll', '101', 'ru'], ['19', 'nco', 'an', 'ra', 'fr', 'st', 'ce', 'isci'], ['1944', '71', 'sa', 'lis', 'il', 'ol'], ['ith', 'mi', 'ysm', '201', '943', '52'], ['1941', 'ght1', 'aloll'], ['196', '31', 'ard', 'ero', '23', 'wa', 'yw', 'he', 'sh'], ['197', 'n2181', 'jo', 'ense', 'hav', 'dan'], ['lenthlor', '19311', 'atayl', 'ka', '37', 'ee'], ['193', 'erly', 'mbe', 'kim', '51', 'in', 'rr'], ['1951611', 'ry', 'marm', 'an', 'err', 'he'], ['196', 'har', 'ns', 'in', 'ma', 'kieh', '41', 'ch', 'wk'], ['iliams198', 'wi', 'thyw', 'll', 'kat', '61'], ['194313', 'on11', 'acksoli', 'ja', 'ej'], ['199', 'ers1411', 'emy', 'es'], ['19931', 'aker3', 'ybr', 'ba', '51'], ['196', 'saco', '91', 'ra', 'ys'], ['194', 'nzaleliez', 'oni', '313', '99', 'go', 'an', '71', 'da'], ['erton1611', '200', 'elt', 'be', 'ro'], ['195', 'hon', 'as', 'lat', 'es', 'ol', 'ch', 'ma'], ['19911', 'ley', 'nd', '94', 'rlin'], ['195', 'ark', 'ley', '31', 'mall', '2321'], ['197', 'th1', 'smit', '21', 'ns', 'in', 'obi', 'ro', '01'], ['19711', 'by', 'na', 'bobb', '41'], ['1971', 'er31', 'deindid', 'he', 'lil', '79'], ['195101', 'ller', 'lil', 'min'], ['194', 'nson10', 'john', 'en', 'phep', 'ste', '51'], ['199', 'on1261', 'dadso', 'nd', 'in', 'vid', 'av', 'li'], ['194', 'iliam', 'll', 'wi', '7127', 'eri', 'he'], ['194', 'onsohnejo', '71', 'an7', 'lia'], ['197', 'mes', 'ami', 'on', 'to', 'elt', '61', '41', 'ja'], ['199', '414', 'haronad', '11', 'sh'], ['wiliams199', 'll', '2122', 'eri', 'caw'], ['1972', 'is71', 'ori', 'rr', 'li', '91', 'gemog'], ['19885', 'iler', 'll', '61', 'ey', 'ta', 'st', 'mi'], ['198', 'stense', 'chn', 'ohris', 'jo', '01', '30'], ['197', '10', 'len', '818', 'he'], ['19812', 'er11', 'hell', 'mitch'], ['199', 'illiegari', 'wi', '41', 'rry', 'er'], ['lerl', '193', 'har5', 'ches', '41', 'ic'], ['195', 'gan11', 'marg', 'et', '21', 're'], ['jon19412', 'ohnsosej'], ['197', 'aton', 'len', 'co', 'ee', 'th', '51', 'tt', 'ca'], ['200102', 'james', 'mat', '62'], ['1971', 'ertenst', 'in9', 'be', 'li', 'rob', '41'], ['197', 'reddies', 'fr', 'mang', '61'], ['1950', 'ch', 'el', 'ina', '161', 'ti', 'tc'], ['1998', 'es', 'rell', 'amerr', '31', 'ja', 'te'], ['198422', 'car', 'ole', 'ins', 'vi', '41'], ['195', '81', 'ian928', 'ck', 'ab', 'ec', 'di', 'ma'], ['1977', 'enethale', 'nn', 'ke'], ['1981', '51', 'raham', 'onald', '25'], ['1978', 'arickson9', 'rd', 'hach', 'ja'], ['195', 'ryer', 'an', '61', 'va', 'jev', '21', 'he'], ['196', '511', 're', 'd1', 'ondmo', 'im'], ['197', 'avidage11', 'ma', '91', '31'], ['1972', 'hngru', 'oh', 'jo'], ['19', 'kathanhr', '71', 'yn'], ['1960', 'iebonni', '1131', 'e1'], ['1954', '71', 'hn', 'joh', 'lio'], ['196', 'chac', '414', 'saeliss', 'ez', 've', 'av'], ['1955', 'steve1271', 'ri', 'ur'], ['an', '197', '11', 'vau', 'ev', 's1', '61', 'ma'], ['199', 'johnm', 'z261', 'unoz', '22'], ['194', 'on110', 'somps', 'ho', 'da', 'th', 'id', 'vi'], ['19710', 'ardwa', 'ing', '74', 'ed', 'mi'], ['197', 'heristophr', 'ch', 'eav', '612', 'we'], ['rym', '199', 'arr', '01', 'er', '30'], ['196', 'alder', 'ndana', 'lex', '211', 'on', 'do'], ['196', '21', 'viadav', '22', 'is', 'la'], ['on19', 'areld', 'nolso', '102', 'rr', 'ha'], ['anklin19', 'rad', 'fr', '71', 'am', 'nd'], ['194', 'iguez', 'ri', 'drod', '21', 'wi', 'ht', 'qu'], ['199', 'llel', 'il', 'mi', '221', 'ar', 'ey', 'sm', 'de'], ['196', 'ndan1011', 'linab', 'ha'], ['196', 'oneric', '81', '28', 'to', 'st'], ['195', 'dand', 'is', '61', 'elavid', '26', '21'], ['19411', 'on', 'ce', 'aco', 've', '46', 'to'], ['197', 'man', '11', 'rm', 'or', 'tt', 'it'], ['1960', 'rymorr', '51', 'ar', 'ga', '25'], ['2001', 'am', 'nda', 'in', '51', 'li', 'el'], ['1944', 'th', 'ritt', '515', 'mat', 'fiff', 'gr'], ['195', 'ricks', 'orergedeg', 'fr', 'ia', 'eo'], ['195', 'on211', 'vidav', 'rso', 'er', 'pate'], ['198', '515', 'alermawa', 'll', '21', '25'], ['199', 'eristophe', 'chr', '271', '221', 'ke', '72'], ['19', 'wardwod1151', 'edd', 'oo'], ['1988', 'er', 'em', '241', 'ste'], ['197', 'illiphi', 'ps', 'hel', 'th', '11'], ['19', 'glage', '51', 'pa', 'ys'], ['rsonden96', '19', 'an', '301', 'er', 'he'], ['195', 'riech', 'co', 'ar', '11', '21', 'ma'], ['1941', '243', 'aul'], ['196', 'nd', 'ertenglan', '211', 'be', 'ob'], ['1944811', 'rey', 'or', 'th', 'do', '31', 'ea'], ['196', 'anti', '71', 'ony', 'ro', '31', 'fa', 'er'], ['198', 'freff', 'll', 'eys', '515', 'je', 'al', '21'], ['2001', 'ra', 's71', 'es', 'yg', '72', '42'], ['196', 'ambery', 'ia', 'ili', 'wi', 'll', '10171', 'rr'], ['rya', '19851', 'err', 'ony'], ['linda', '944', '19', 'rtiz', 'el', 'or', '71', '01', 'me'], ['195', '3121', 'ari', 'ma', 'dra', 'nd'], ['194', 'llybe', 'tty', '010', 'ol'], ['1997', 'orti', '515', 'ali', '41'], ['1976', 'martha', 'ilmo', 'wi', '101', '91'], ['1991', 'ascac', 'ou', 'ho', 'do', '81', 'la'], ['1993', 'ew', 'matthello', '261', 'ie'], ['1967', 'll', 'wel', '221', 'geow', 'org', 'po', 'ep'], ['19821', 'rogers', '2231', 'ki'], ['195', '71727', 'anhola', 'in7'], ['198', 'ganeley5291', 'org', 'mo', '92']]\n"
     ]
    }
   ],
   "source": [
    "# List to store decoded 2-gram scores for all test samples\n",
    "decoded_test_results = []\n",
    "\n",
    "# Switch to evaluation mode\n",
    "model.eval()\n",
    "\n",
    "# Define Threshhold\n",
    "threshold = DEA_CONFIG[\"FilterThreshold\"]\n",
    "\n",
    "# Loop through the test dataloader\n",
    "with torch.no_grad():  # No need to compute gradients during inference\n",
    "    for data_batch in tqdm(dataloader_test, desc=\"Test loop\"):\n",
    "        # Move data to device\n",
    "        data_batch = data_batch.to(device)\n",
    "\n",
    "        # Apply model\n",
    "        logits = model(data_batch)\n",
    "\n",
    "        # Convert logits to probabilities using sigmoid (for binary classification)\n",
    "        probabilities = torch.sigmoid(logits)\n",
    "\n",
    "        # Convert probabilities into 2-gram scores (use your two_gram_dict as before)\n",
    "        batch_two_gram_scores = [\n",
    "            {two_gram_dict[i]: score.item() for i, score in enumerate(probabilities[i])}\n",
    "            for i in range(probabilities.size(0))  # Iterate over each sample in the batch\n",
    "        ]\n",
    "\n",
    "        # Apply threshold to filter 2-gram scores (values above threshold are kept)\n",
    "        batch_filtered_two_gram_scores = [\n",
    "            {two_gram: score for two_gram, score in two_gram_scores.items() if score > threshold}\n",
    "            for two_gram_scores in batch_two_gram_scores\n",
    "        ]\n",
    "\n",
    "        # Reconstruct words for each sample in the batch\n",
    "        batch_reconstructed_words = [\n",
    "            reconstruct_words(filtered_scores) for filtered_scores in batch_filtered_two_gram_scores\n",
    "        ]\n",
    "\n",
    "        # Append the results for this batch\n",
    "        decoded_test_results.extend(batch_reconstructed_words)\n",
    "\n",
    "# Now `decoded_test_results` contains the reconstructed words for all test samples\n",
    "print(\"Decoded Test Results: \", decoded_test_results)\n"
   ]
  },
  {
   "cell_type": "markdown",
   "metadata": {},
   "source": [
    "## Visualize Performance for Re-Identification"
   ]
  },
  {
   "cell_type": "code",
   "execution_count": 15,
   "metadata": {},
   "outputs": [
    {
     "ename": "SystemExit",
     "evalue": "Stopping execution at this cell.",
     "output_type": "error",
     "traceback": [
      "An exception has occurred, use %tb to see the full traceback.\n",
      "\u001b[0;31mSystemExit\u001b[0m\u001b[0;31m:\u001b[0m Stopping execution at this cell.\n"
     ]
    },
    {
     "name": "stderr",
     "output_type": "stream",
     "text": [
      "/Users/I538952/Desktop/master/4-semester-thesis/dataset-extension-attack/.conda/lib/python3.10/site-packages/IPython/core/interactiveshell.py:3587: UserWarning: To exit: use 'exit', 'quit', or Ctrl-D.\n",
      "  warn(\"To exit: use 'exit', 'quit', or Ctrl-D.\", stacklevel=1)\n"
     ]
    }
   ],
   "source": [
    "sys.exit(\"Stopping execution at this cell.\")"
   ]
  },
  {
   "cell_type": "markdown",
   "metadata": {},
   "source": [
    "## Testing Area"
   ]
  },
  {
   "cell_type": "code",
   "execution_count": null,
   "metadata": {},
   "outputs": [],
   "source": [
    "for data, labels in dataloader_train:\n",
    "    data, labels = data.to(device), labels.to(device)\n",
    "    print(data.shape)\n",
    "    print(labels.shape)\n",
    "    print(data)\n",
    "    break"
   ]
  },
  {
   "cell_type": "code",
   "execution_count": null,
   "metadata": {},
   "outputs": [],
   "source": [
    "print('Reidentified Individuals:')\n",
    "print(df_reidentified_individuals.head())\n",
    "print('Not Reidentified Individuals:')\n",
    "print(df_not_reidentified_individuals.head())"
   ]
  },
  {
   "cell_type": "code",
   "execution_count": null,
   "metadata": {},
   "outputs": [],
   "source": [
    "data_labeled.labelTensors[1]"
   ]
  },
  {
   "cell_type": "code",
   "execution_count": null,
   "metadata": {},
   "outputs": [],
   "source": [
    "for data, labels in dataloader_train:\n",
    "    data, labels = data.to(device), labels.to(device)\n",
    "    print(data.shape)\n",
    "    print(labels.shape)\n",
    "    break"
   ]
  },
  {
   "cell_type": "code",
   "execution_count": null,
   "metadata": {},
   "outputs": [],
   "source": [
    "print(\"To Decode: \",df_not_reidentified_individuals.iloc[1])\n",
    "torch.set_printoptions(profile=\"full\")\n",
    "#torch.set_printoptions(profile=\"default\")\n",
    "print(\"Tensor: \", data_not_labeled[1])\n",
    "# Apply model\n",
    "model.eval()\n",
    "logits = model(data_not_labeled[1])\n",
    "probabilities = torch.sigmoid(logits)\n",
    "print(\"Prob: \", probabilities)\n",
    "two_gram_scores = {two_gram_dict[i]: score.item() for i, score in enumerate(probabilities)}\n",
    "threshold = 0.5\n",
    "filtered_two_gram_scores = {two_gram: score for two_gram, score in two_gram_scores.items() if score > threshold}\n",
    "print(\"Decoded 2grams: \", filtered_two_gram_scores)\n",
    "\n",
    "print(reconstruct_words(filtered_two_gram_scores))\n",
    "\n",
    "# person is: Ray Haywood 9/27/1959\n",
    "# ra -"
   ]
  },
  {
   "cell_type": "code",
   "execution_count": null,
   "metadata": {},
   "outputs": [],
   "source": [
    "model = nn.Linear(20, 5) # predict logits for 5 classes\n",
    "x = torch.randn(1, 20)\n",
    "print(x.shape)\n",
    "y = torch.tensor([[1., 0., 1., 0., 0.]]) # get classA and classC as active\n",
    "print(y.shape)\n",
    "\n",
    "criterion = nn.BCEWithLogitsLoss()\n",
    "optimizer = optim.SGD(model.parameters(), lr=1e-1)\n",
    "\n",
    "for epoch in range(20):\n",
    "    optimizer.zero_grad()\n",
    "    output = model(x)\n",
    "    loss = criterion(output, y)\n",
    "    loss.backward()\n",
    "    optimizer.step()\n",
    "    print('Loss: {:.3f}'.format(loss.item()))"
   ]
  }
 ],
 "metadata": {
  "kernelspec": {
   "display_name": "Python 3",
   "language": "python",
   "name": "python3"
  },
  "language_info": {
   "codemirror_mode": {
    "name": "ipython",
    "version": 3
   },
   "file_extension": ".py",
   "mimetype": "text/x-python",
   "name": "python",
   "nbconvert_exporter": "python",
   "pygments_lexer": "ipython3",
   "version": "3.10.16"
  }
 },
 "nbformat": 4,
 "nbformat_minor": 2
}
