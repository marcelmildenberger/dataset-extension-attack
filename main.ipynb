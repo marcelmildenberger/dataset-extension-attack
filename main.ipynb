{
 "cells": [
  {
   "cell_type": "code",
   "execution_count": 20,
   "id": "3398ccd8",
   "metadata": {},
   "outputs": [],
   "source": [
    "import os\n",
    "import pickle\n",
    "from utils import get_cache_path\n",
    "identifier = '3724f21c81d258e672c7a55fc25fadd7_f1084cbc4400de5426071b9e676e0910_8e15dea74a547a17a51aedd3a9ecf505_cab570f625526a1935fcfc2927c2fe16'\n",
    "alice_enc_hash = 'f1084cbc4400de5426071b9e676e0910'\n",
    "splits=(\"train\", \"val\", \"test\")\n",
    "\n",
    "toggle = True\n",
    "\n",
    "if toggle:\n",
    "    identifier = \"73dd8854339a0c92b060783aefd0fdd8_df50a7ac7d8383c54c936ca43fc0edf6_0d291589f92d0e6b54923f2cdf57f062_40255e09e475b0c582af75220b7d74c1\"\n",
    "    alice_enc_hash = \"df50a7ac7d8383c54c936ca43fc0edf6\"\n",
    "    \n",
    "\n",
    "true_path = \"data/cache/dataset_3724f21c81d258e672c7a55fc25fadd7_f1084cbc4400de5426071b9e676e0910_8e15dea74a547a17a51aedd3a9ecf505_cab570f625526a1935fcfc2927c2fe16_f1084cbc4400de5426071b9e676e0910.pkl\"\n",
    "\n",
    "cache_path = get_cache_path(\"data\", identifier, alice_enc_hash)\n",
    "if os.path.exists(cache_path):\n",
    "    with open(cache_path, 'rb') as f:\n",
    "        cached = pickle.load(f)\n",
    "        if isinstance(cached, dict):\n",
    "            datasets =  {k: cached.get(k) for k in splits}\n",
    "        else:\n",
    "            train, val, test = cached\n",
    "            datasets = {\"train\": train, \"val\": val, \"test\": test}\n",
    "data_train, data_val, data_test = datasets[\"train\"], datasets[\"val\"], datasets[\"test\"]"
   ]
  },
  {
   "cell_type": "code",
   "execution_count": null,
   "id": "38306910",
   "metadata": {},
   "outputs": [
    {
     "data": {
      "text/plain": [
       "10171"
      ]
     },
     "execution_count": 30,
     "metadata": {},
     "output_type": "execute_result"
    }
   ],
   "source": []
  },
  {
   "cell_type": "code",
   "execution_count": null,
   "id": "d1cf3364",
   "metadata": {},
   "outputs": [],
   "source": []
  }
 ],
 "metadata": {
  "kernelspec": {
   "display_name": "venv",
   "language": "python",
   "name": "python3"
  },
  "language_info": {
   "codemirror_mode": {
    "name": "ipython",
    "version": 3
   },
   "file_extension": ".py",
   "mimetype": "text/x-python",
   "name": "python",
   "nbconvert_exporter": "python",
   "pygments_lexer": "ipython3",
   "version": "3.10.11"
  }
 },
 "nbformat": 4,
 "nbformat_minor": 5
}
