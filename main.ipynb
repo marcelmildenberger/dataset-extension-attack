{
 "cells": [
  {
   "cell_type": "markdown",
   "metadata": {},
   "source": [
    "# Privacy-Preserving Record Linkage (PPRL): Investigating Dataset Extension Attacks"
   ]
  },
  {
   "cell_type": "markdown",
   "metadata": {},
   "source": [
    "## Imports\n",
    "\n",
    "Import all relevant libraries and classes used throughout the project. Key components include:\n",
    "\n",
    "- **Torch** – for tensor operations and neural network functionality  \n",
    "- **Datasets** – for handling training and evaluation data  \n",
    "- **PyTorch Models** – custom and pre-defined models for the DEA  \n",
    "- **Graph Matching Attack (GMA)** – core logic for the initial re-identification phase\n"
   ]
  },
  {
   "cell_type": "code",
   "execution_count": 13,
   "metadata": {},
   "outputs": [
    {
     "name": "stdout",
     "output_type": "stream",
     "text": [
      "System Version: 3.10.16 | packaged by conda-forge | (main, Dec  5 2024, 14:20:01) [Clang 18.1.8 ]\n",
      "PyTorch version 2.1.2\n",
      "Torchvision version 0.16.2\n",
      "Numpy version 1.24.4\n",
      "Pandas version 2.0.3\n"
     ]
    }
   ],
   "source": [
    "import os\n",
    "\n",
    "import torch\n",
    "from torch.utils.tensorboard import SummaryWriter\n",
    "import torch.nn as nn\n",
    "import torch.optim as optim\n",
    "from torch.utils.data import DataLoader, random_split\n",
    "import torchvision\n",
    "\n",
    "from utils import *\n",
    "\n",
    "import matplotlib.pyplot as plt # For data viz\n",
    "import pandas as pd\n",
    "import hickle as hkl\n",
    "import numpy as np\n",
    "import string\n",
    "import sys\n",
    "from tqdm.notebook import tqdm\n",
    "\n",
    "from graphMatching.gma import run_gma\n",
    "\n",
    "from datasets.bloom_filter_dataset import BloomFilterDataset\n",
    "from datasets.tab_min_hash_dataset import TabMinHashDataset\n",
    "from datasets.two_step_hash_dataset_padding import TwoStepHashDatasetPadding\n",
    "from datasets.two_step_hash_dataset_frequency_string import TwoStepHashDatasetFrequencyString\n",
    "from datasets.two_step_hash_dataset_one_hot_encoding import TwoStepHashDatasetOneHotEncoding\n",
    "\n",
    "from pytorch_models.bloom_filter_to_two_gram_classifier import BloomFilterToTwoGramClassifier\n",
    "from pytorch_models.tab_min_hash_to_two_gram_classifier import TabMinHashToTwoGramClassifier\n",
    "from pytorch_models.two_step_hash_to_two_gram_classifier import TwoStepHashToTwoGramClassifier\n",
    "\n",
    "from early_stopping.early_stopping import EarlyStopping\n",
    "\n",
    "print('System Version:', sys.version)\n",
    "print('PyTorch version', torch.__version__)\n",
    "print('Torchvision version', torchvision.__version__)\n",
    "print('Numpy version', np.__version__)\n",
    "print('Pandas version', pd.__version__)"
   ]
  },
  {
   "cell_type": "markdown",
   "metadata": {},
   "source": [
    "## Parameters\n",
    "\n",
    "Configuration and parameters for the Graph Matching Attack (GMA) and Dataset Extension Attack (DEA). For details and possible values, refer to the documentation at ```./docs/parameters.md```."
   ]
  },
  {
   "cell_type": "code",
   "execution_count": 14,
   "metadata": {},
   "outputs": [],
   "source": [
    "# Parameters\n",
    "GLOBAL_CONFIG = {\n",
    "    \"Data\": \"./data/datasets/fakename_1k.tsv\",\n",
    "    \"Overlap\": 0.59,\n",
    "    \"DropFrom\": \"Both\",\n",
    "    \"Verbose\": True,  # Print Status Messages\n",
    "    \"MatchingMetric\": \"cosine\",\n",
    "    \"Matching\": \"MinWeight\",\n",
    "    \"Workers\": -1,\n",
    "    \"SaveAliceEncs\": False,\n",
    "    \"SaveEveEncs\": False,\n",
    "    \"DevMode\": False,\n",
    "}\n",
    "\n",
    "\n",
    "DEA_CONFIG = {\n",
    "    #Padding / FrequencyString / OneHotEncoding\n",
    "    \"TSHMode\": \"OneHotEncoding\",\n",
    "    \"DevMode\": False,\n",
    "    # BCEWithLogitsLoss / MultiLabelSoftMarginLoss\n",
    "    \"LossFunction:\": \"BCEWithLogitsLoss\",\n",
    "    # Adam / AdamW / SGD / RMSprop\n",
    "    \"Optimizer\": \"Adam\",\n",
    "    \"LearningRate\": 0.001,\n",
    "    # SGD only\n",
    "    \"Momentum\": 0.9,\n",
    "    \"BatchSize\": 16,\n",
    "    \"Epochs\": 10,\n",
    "    # TestSize calculated accordingly\n",
    "    \"TrainSize\": 0.8,\n",
    "    \"FilterThreshold\": 0.5,\n",
    "    \"Patience\": 5,\n",
    "    \"MinDelta\": 0.001,\n",
    "}\n",
    "\n",
    "ENC_CONFIG = {\n",
    "    # TwoStepHash / TabMinHash / BloomFilter\n",
    "    \"AliceAlgo\": \"BloomFilter\",\n",
    "    \"AliceSecret\": \"SuperSecretSalt1337\",\n",
    "    \"AliceN\": 2,\n",
    "    \"AliceMetric\": \"dice\",\n",
    "    \"EveAlgo\": \"None\",\n",
    "    \"EveSecret\": \"ATotallyDifferentString42\",\n",
    "    \"EveN\": 2,\n",
    "    \"EveMetric\": \"dice\",\n",
    "    # For BF encoding\n",
    "    \"AliceBFLength\": 1024,\n",
    "    \"AliceBits\": 10,\n",
    "    \"AliceDiffuse\": False,\n",
    "    \"AliceT\": 10,\n",
    "    \"AliceEldLength\": 1024,\n",
    "    \"EveBFLength\": 1024,\n",
    "    \"EveBits\": 10,\n",
    "    \"EveDiffuse\": False,\n",
    "    \"EveT\": 10,\n",
    "    \"EveEldLength\": 1024,\n",
    "    # For TMH encoding\n",
    "    \"AliceNHash\": 1024,\n",
    "    \"AliceNHashBits\": 64,\n",
    "    \"AliceNSubKeys\": 8,\n",
    "    \"Alice1BitHash\": True,\n",
    "    \"EveNHash\": 1024,\n",
    "    \"EveNHashBits\": 64,\n",
    "    \"EveNSubKeys\": 8,\n",
    "    \"Eve1BitHash\": True,\n",
    "    # For 2SH encoding\n",
    "    \"AliceNHashFunc\": 10,\n",
    "    \"AliceNHashCol\": 1000,\n",
    "    \"AliceRandMode\": \"PNG\",\n",
    "    \"EveNHashFunc\": 10,\n",
    "    \"EveNHashCol\": 1000,\n",
    "    \"EveRandMode\": \"PNG\",\n",
    "}\n",
    "\n",
    "EMB_CONFIG = {\n",
    "    \"Algo\": \"Node2Vec\",\n",
    "    \"AliceQuantile\": 0.9,\n",
    "    \"AliceDiscretize\": False,\n",
    "    \"AliceDim\": 128,\n",
    "    \"AliceContext\": 10,\n",
    "    \"AliceNegative\": 1,\n",
    "    \"AliceNormalize\": True,\n",
    "    \"EveQuantile\": 0.9,\n",
    "    \"EveDiscretize\": False,\n",
    "    \"EveDim\": 128,\n",
    "    \"EveContext\": 10,\n",
    "    \"EveNegative\": 1,\n",
    "    \"EveNormalize\": True,\n",
    "    # For Node2Vec\n",
    "    \"AliceWalkLen\": 100,\n",
    "    \"AliceNWalks\": 20,\n",
    "    \"AliceP\": 250,\n",
    "    \"AliceQ\": 300,\n",
    "    \"AliceEpochs\": 5,\n",
    "    \"AliceSeed\": 42,\n",
    "    \"EveWalkLen\": 100,\n",
    "    \"EveNWalks\": 20,\n",
    "    \"EveP\": 250,\n",
    "    \"EveQ\": 300,\n",
    "    \"EveEpochs\": 5,\n",
    "    \"EveSeed\": 42\n",
    "}\n",
    "\n",
    "ALIGN_CONFIG = {\n",
    "    \"RegWS\": max(0.1, GLOBAL_CONFIG[\"Overlap\"]/2), #0005\n",
    "    \"RegInit\":1, # For BF 0.25\n",
    "    \"Batchsize\": 1, # 1 = 100%\n",
    "    \"LR\": 200.0,\n",
    "    \"NIterWS\": 100,\n",
    "    \"NIterInit\": 5 ,  # 800\n",
    "    \"NEpochWS\": 100,\n",
    "    \"LRDecay\": 1,\n",
    "    \"Sqrt\": True,\n",
    "    \"EarlyStopping\": 10,\n",
    "    \"Selection\": \"None\",\n",
    "    \"MaxLoad\": None,\n",
    "    \"Wasserstein\": True\n",
    "}"
   ]
  },
  {
   "cell_type": "markdown",
   "metadata": {},
   "source": [
    "## 🔍 Data Preparation: Load or Compute Graph Matching Attack (GMA) Results\n",
    "\n",
    "This code snippet either loads previously computed Graph Matching Attack (GMA) results from disk or runs the attack if no saved data is found.\n",
    "\n",
    "1. **Generate Configuration Hashes:**  \n",
    "   The function `get_hashes` creates unique hash values based on the encoding and embedding configurations. These are used to create distinct filenames for the data.\n",
    "\n",
    "2. **Create File Paths:**  \n",
    "   Based on the configuration hashes, paths are generated for:\n",
    "   - Reidentified individuals\n",
    "   - Not reidentified individuals\n",
    "   - All individuals in Alice’s dataset (with encoding)\n",
    "\n",
    "3. **Load Results from Disk (if available):**  \n",
    "   If the `.h5` files already exist, they are loaded using `hickle` and converted into `pandas.DataFrames`.  \n",
    "   The data format assumes that the first row contains the column headers, and the rest is the data — hence the slicing `[1:]` and `columns=...`.\n",
    "\n",
    "4. **Run GMA If Data Is Not Available:**  \n",
    "   If the files are missing, the GMA is executed via `run_gma()`. The results are again converted to `DataFrames`.\n"
   ]
  },
  {
   "cell_type": "code",
   "execution_count": 15,
   "metadata": {},
   "outputs": [],
   "source": [
    "# Get unique hash identifiers for the encoding and embedding configurations\n",
    "eve_enc_hash, alice_enc_hash, eve_emb_hash, alice_emb_hash = get_hashes(GLOBAL_CONFIG, ENC_CONFIG, EMB_CONFIG)\n",
    "\n",
    "# Define file paths based on the configuration hashes\n",
    "path_reidentified = f\"./data/available_to_eve/reidentified_individuals_{eve_enc_hash}_{alice_enc_hash}_{eve_emb_hash}_{alice_emb_hash}.h5\"\n",
    "path_not_reidentified = f\"./data/available_to_eve/not_reidentified_individuals_{eve_enc_hash}_{alice_enc_hash}_{eve_emb_hash}_{alice_emb_hash}.h5\"\n",
    "path_all = f\"./data/dev/alice_data_complete_with_encoding_{eve_enc_hash}_{alice_enc_hash}_{eve_emb_hash}_{alice_emb_hash}.h5\"\n",
    "\n",
    "# Check if the output files already exist\n",
    "if os.path.isfile(path_reidentified) and os.path.isfile(path_not_reidentified) and os.path.isfile(path_all):\n",
    "    # Load previously saved attack results\n",
    "    reidentified_data = hkl.load(path_reidentified)\n",
    "    not_reidentified_data = hkl.load(path_not_reidentified)\n",
    "    all_data = hkl.load(path_all)\n",
    "\n",
    "else:\n",
    "    # Run Graph Matching Attack if files are not found\n",
    "    reidentified_data, not_reidentified_data, all_data = run_gma(\n",
    "        GLOBAL_CONFIG, ENC_CONFIG, EMB_CONFIG, ALIGN_CONFIG, DEA_CONFIG,\n",
    "        eve_enc_hash, alice_enc_hash, eve_emb_hash, alice_emb_hash\n",
    "    )\n",
    "\n",
    "# Convert lists to DataFrames\n",
    "df_reidentified = pd.DataFrame(reidentified_data[1:], columns=reidentified_data[0])\n",
    "df_not_reidentified = pd.DataFrame(not_reidentified_data[1:], columns=not_reidentified_data[0])\n",
    "df_all = pd.DataFrame(all_data[1:], columns=all_data[0])"
   ]
  },
  {
   "cell_type": "markdown",
   "metadata": {},
   "source": [
    "## 🔤 Create 2-Gram Dictionary (Letters & Digits)\n",
    "\n",
    "This code creates a comprehensive dictionary of all possible **2-grams** (two-character combinations) that consist of lowercase letters and digits.\n",
    "\n",
    "1. **Character Sets:**\n",
    "   - `string.ascii_lowercase`: the lowercase English alphabet ('a' to 'z')\n",
    "   - `string.digits`: the digits '0' to '9'\n",
    "\n",
    "2. **2-Gram Types Generated:**\n",
    "   - **Letter-Letter (LL):** All combinations like `'aa'`, `'ab'`, ..., `'zz'` (26×26 = 676)\n",
    "   - **Digit-Digit (DD):** All combinations like `'00'`, `'01'`, ..., `'99'` (10×10 = 100)\n",
    "   - **Letter-Digit (LD):** All combinations like `'a0'`, `'a1'`, ..., `'z9'` (26×10 = 260)\n",
    "\n",
    "3. **Combining All 2-Grams:**\n",
    "   - All three types are concatenated into a single list.\n",
    "\n",
    "4. **Indexed Dictionary:**\n",
    "   - The `enumerate()` function is used to assign each 2-gram a unique index in `two_gram_dict`.\n"
   ]
  },
  {
   "cell_type": "code",
   "execution_count": 16,
   "metadata": {},
   "outputs": [],
   "source": [
    "# --- Generate a dictionary of all possible 2-grams from letters and digits ---\n",
    "\n",
    "# Lowercase alphabet: 'a' to 'z'\n",
    "alphabet = string.ascii_lowercase\n",
    "\n",
    "# Digits: '0' to '9'\n",
    "digits = string.digits\n",
    "\n",
    "# Generate all letter-letter 2-grams (e.g., 'aa', 'ab', ..., 'zz')\n",
    "letter_letter_grams = [a + b for a in alphabet for b in alphabet]\n",
    "\n",
    "# Generate all digit-digit 2-grams (e.g., '00', '01', ..., '99')\n",
    "digit_digit_grams = [d1 + d2 for d1 in digits for d2 in digits]\n",
    "\n",
    "# Generate all letter-digit 2-grams (e.g., 'a0', 'a1', ..., 'z9')\n",
    "letter_digit_grams = [l + d for l in alphabet for d in digits]\n",
    "\n",
    "# Combine all generated 2-grams into one list\n",
    "all_two_grams = letter_letter_grams + letter_digit_grams + digit_digit_grams\n",
    "\n",
    "# Create a dictionary mapping index to each 2-gram\n",
    "two_gram_dict = {i: two_gram for i, two_gram in enumerate(all_two_grams)}"
   ]
  },
  {
   "cell_type": "markdown",
   "metadata": {},
   "source": [
    "## 🧩 Dataset Creation Based on Alice’s Encoding Scheme\n",
    "\n",
    "This section initializes the dataset objects depending on which encoding method Alice used. Each encoding requires a different preprocessing strategy for compatibility with downstream neural models.\n",
    "\n",
    "### 1. Bloom Filter (`\"BloomFilter\"`)\n",
    "- Uses binary Bloom filters to represent identifiers.\n",
    "- Loads `BloomFilterDataset` objects.\n",
    "- Stores the bit-length of the bloom filter.\n",
    "\n",
    "### 2. Tabulation MinHash (`\"TabMinHash\"`)\n",
    "- Applies a MinHash-based encoding.\n",
    "- Loads `TabMinHashDataset`.\n",
    "- Captures the length of each encoded vector.\n",
    "\n",
    "### 3. Two-Step Hash with Padding Mode (`\"TwoStepHash\"` + `\"Padding\"`)\n",
    "- Determines the **maximum set size** (i.e., number of hash values) to pad sets to equal length.\n",
    "- Initializes datasets using `TwoStepHashDatasetPadding`.\n",
    "\n",
    "### 4. Two-Step Hash with Frequency String Mode (`\"TwoStepHash\"` + `\"FrequencyString\"`)\n",
    "- Finds the **maximum frequency value** for any hashed token.\n",
    "- Initializes frequency-based vector datasets using `TwoStepHashDatasetFrequencyString`.\n",
    "\n",
    "### 5. Two-Step Hash with One-Hot Encoding (`\"TwoStepHash\"` + `\"OneHotEncoding\"`)\n",
    "- Extracts all **unique hash values** to build a consistent one-hot vector space.\n",
    "- Constructs datasets using `TwoStepHashDatasetOneHotEncoding`.\n",
    "\n",
    "> ⚙️ All dataset constructors are passed:\n",
    "> - Whether the data is labeled\n",
    "> - The full 2-gram list (used as feature tokens)\n",
    "> - Additional encoding-specific configurations\n",
    "> - Dev mode toggle (for debugging or smaller runs)\n"
   ]
  },
  {
   "cell_type": "code",
   "execution_count": 17,
   "metadata": {},
   "outputs": [],
   "source": [
    "# 1️⃣ Bloom Filter Encoding\n",
    "if ENC_CONFIG[\"AliceAlgo\"] == \"BloomFilter\":\n",
    "    data_labeled = BloomFilterDataset(\n",
    "        df_reidentified,\n",
    "        is_labeled=True,\n",
    "        all_two_grams=all_two_grams,\n",
    "        dev_mode=GLOBAL_CONFIG[\"DevMode\"]\n",
    "    )\n",
    "    data_not_labeled = BloomFilterDataset(\n",
    "        df_not_reidentified,\n",
    "        is_labeled=False,\n",
    "        all_two_grams=all_two_grams,\n",
    "        dev_mode=GLOBAL_CONFIG[\"DevMode\"]\n",
    "    )\n",
    "    bloomfilter_length = len(df_reidentified[\"bloomfilter\"][0])\n",
    "\n",
    "# 2️⃣ Tabulation MinHash Encoding\n",
    "elif ENC_CONFIG[\"AliceAlgo\"] == \"TabMinHash\":\n",
    "    data_labeled = TabMinHashDataset(\n",
    "        df_reidentified,\n",
    "        is_labeled=True,\n",
    "        all_two_grams=all_two_grams,\n",
    "        dev_mode=GLOBAL_CONFIG[\"DevMode\"]\n",
    "    )\n",
    "    data_not_labeled = TabMinHashDataset(\n",
    "        df_not_reidentified,\n",
    "        is_labeled=False,\n",
    "        all_two_grams=all_two_grams,\n",
    "        dev_mode=GLOBAL_CONFIG[\"DevMode\"]\n",
    "    )\n",
    "    tabminhash_length = len(df_reidentified[\"tabminhash\"][0])\n",
    "\n",
    "# 3️⃣ Two-Step Hash Encoding (Padding Mode)\n",
    "elif ENC_CONFIG[\"AliceAlgo\"] == \"TwoStepHash\" and DEA_CONFIG[\"TSHMode\"] == \"Padding\":\n",
    "    max_len_reid = df_reidentified[\"twostephash\"].apply(lambda x: len(list(x))).max()\n",
    "    max_len_not_reid = df_not_reidentified[\"twostephash\"].apply(lambda x: len(list(x))).max()\n",
    "    max_twostephash_length = max(max_len_reid, max_len_not_reid)\n",
    "\n",
    "    data_labeled = TwoStepHashDatasetPadding(\n",
    "        df_reidentified,\n",
    "        is_labeled=True,\n",
    "        all_two_grams=all_two_grams,\n",
    "        max_set_size=max_twostephash_length,\n",
    "        dev_mode=GLOBAL_CONFIG[\"DevMode\"]\n",
    "    )\n",
    "    data_not_labeled = TwoStepHashDatasetPadding(\n",
    "        df_not_reidentified,\n",
    "        is_labeled=False,\n",
    "        all_two_grams=all_two_grams,\n",
    "        max_set_size=max_twostephash_length,\n",
    "        dev_mode=GLOBAL_CONFIG[\"DevMode\"]\n",
    "    )\n",
    "\n",
    "# 4️⃣ Two-Step Hash Encoding (Frequency String Mode)\n",
    "elif ENC_CONFIG[\"AliceAlgo\"] == \"TwoStepHash\" and DEA_CONFIG[\"TSHMode\"] == \"FrequencyString\":\n",
    "    max_len_reid = df_reidentified[\"twostephash\"].apply(lambda x: max(x)).max()\n",
    "    max_len_not_reid = df_not_reidentified[\"twostephash\"].apply(lambda x: max(x)).max()\n",
    "    max_twostephash_length = max(max_len_reid, max_len_not_reid)\n",
    "\n",
    "    data_labeled = TwoStepHashDatasetFrequencyString(\n",
    "        df_reidentified,\n",
    "        is_labeled=True,\n",
    "        all_two_grams=all_two_grams,\n",
    "        frequency_string_length=max_twostephash_length,\n",
    "        dev_mode=GLOBAL_CONFIG[\"DevMode\"]\n",
    "    )\n",
    "    data_not_labeled = TwoStepHashDatasetFrequencyString(\n",
    "        df_not_reidentified,\n",
    "        is_labeled=False,\n",
    "        all_two_grams=all_two_grams,\n",
    "        frequency_string_length=max_twostephash_length,\n",
    "        dev_mode=GLOBAL_CONFIG[\"DevMode\"]\n",
    "    )\n",
    "\n",
    "# 5️⃣ Two-Step Hash Encoding (One-Hot Encoding Mode)\n",
    "elif ENC_CONFIG[\"AliceAlgo\"] == \"TwoStepHash\" and DEA_CONFIG[\"TSHMode\"] == \"OneHotEncoding\":\n",
    "    # Collect all unique integers across both reidentified and non-reidentified data\n",
    "    unique_ints_reid = set().union(*df_reidentified[\"twostephash\"])\n",
    "    unique_ints_not_reid = set().union(*df_not_reidentified[\"twostephash\"])\n",
    "    unique_ints_sorted = sorted(unique_ints_reid.union(unique_ints_not_reid))\n",
    "    unique_integers_dict = {i: val for i, val in enumerate(unique_ints_sorted)}\n",
    "\n",
    "    data_labeled = TwoStepHashDatasetOneHotEncoding(\n",
    "        df_reidentified,\n",
    "        is_labeled=True,\n",
    "        all_integers=unique_ints_sorted,\n",
    "        all_two_grams=all_two_grams,\n",
    "        dev_mode=GLOBAL_CONFIG[\"DevMode\"]\n",
    "    )\n",
    "    data_not_labeled = TwoStepHashDatasetOneHotEncoding(\n",
    "        df_not_reidentified,\n",
    "        is_labeled=False,\n",
    "        all_integers=unique_ints_sorted,\n",
    "        all_two_grams=all_two_grams,\n",
    "        dev_mode=GLOBAL_CONFIG[\"DevMode\"]\n",
    "    )"
   ]
  },
  {
   "cell_type": "markdown",
   "metadata": {},
   "source": [
    "## Data Splitting & Loader Setup\n",
    "\n",
    "After preprocessing the encoded data, we divide it into training, validation, and test sets using PyTorch's `DataLoader` and `random_split`.\n",
    "\n",
    "### Dataset Proportions\n",
    "- The proportion for the training set is defined in `DEA_CONFIG[\"TrainSize\"]`.\n",
    "- The remainder is used for validation.\n",
    "\n",
    "### Splitting\n",
    "- `data_labeled` (the reidentified individuals) is split into:\n",
    "  - `data_train` for training\n",
    "  - `data_val` for validation\n",
    "- `data_not_labeled` (unidentified individuals) is used exclusively for testing.\n",
    "\n",
    "### Dataloader Configuration\n",
    "- **Training Loader**: shuffled for learning generalization.\n",
    "- **Validation Loader**: also shuffled to vary batches during evaluation.\n",
    "- **Test Loader**: also shuffled.\n"
   ]
  },
  {
   "cell_type": "code",
   "execution_count": 18,
   "metadata": {},
   "outputs": [],
   "source": [
    "# Define dataset split proportions\n",
    "train_size = int(DEA_CONFIG[\"TrainSize\"] * len(data_labeled))\n",
    "val_size = len(data_labeled) - train_size\n",
    "\n",
    "# Split the reidentified dataset into training and validation sets\n",
    "data_train, data_val = random_split(data_labeled, [train_size, val_size])\n",
    "\n",
    "# Create DataLoaders for training, validation, and testing\n",
    "dataloader_train = DataLoader(\n",
    "    data_train,\n",
    "    batch_size=DEA_CONFIG[\"BatchSize\"],\n",
    "    shuffle=True  # Important for training\n",
    ")\n",
    "\n",
    "dataloader_val = DataLoader(\n",
    "    data_val,\n",
    "    batch_size=DEA_CONFIG[\"BatchSize\"],\n",
    "    shuffle=True  # Allows variation in validation batches\n",
    ")\n",
    "\n",
    "dataloader_test = DataLoader(\n",
    "    data_not_labeled,\n",
    "    batch_size=DEA_CONFIG[\"BatchSize\"],\n",
    "    shuffle=True\n",
    ")"
   ]
  },
  {
   "cell_type": "markdown",
   "metadata": {},
   "source": [
    "## Model Instantiation Based on Encoding Scheme\n",
    "\n",
    "The neural network model is selected dynamically based on the encoding technique used for Alice’s data.\n",
    "\n",
    "### Supported Models:\n",
    "\n",
    "- **BloomFilter** → `BloomFilterToTwoGramClassifier`  \n",
    "  - Input: Binary vector (Bloom filter)  \n",
    "  - Output: 2-gram prediction\n",
    "\n",
    "- **TabMinHash** → `TabMinHashToTwoGramClassifier`  \n",
    "  - Input: Tabulated MinHash signature  \n",
    "  - Output: 2-gram prediction\n",
    "\n",
    "- **TwoStepHash**\n",
    "  - **Padding Mode** → `TwoStepHashToTwoGramClassifier`  \n",
    "  - **FrequencyString** → `TabMinHashToTwoGramClassifier`  \n",
    "  - **OneHotEncoding** → `TabMinHashToTwoGramClassifier`  \n",
    "    \n",
    "Each model outputs predictions over the set of all possible 2-grams (`all_two_grams`), and the input dimension is dynamically configured based on the dataset.\n"
   ]
  },
  {
   "cell_type": "code",
   "execution_count": 19,
   "metadata": {},
   "outputs": [],
   "source": [
    "# Instantiate model based on selected encoding scheme\n",
    "if ENC_CONFIG[\"AliceAlgo\"] == \"BloomFilter\":\n",
    "    model = BloomFilterToTwoGramClassifier(\n",
    "        input_dim=bloomfilter_length,\n",
    "        num_two_grams=len(all_two_grams)\n",
    "    )\n",
    "\n",
    "elif ENC_CONFIG[\"AliceAlgo\"] == \"TabMinHash\":\n",
    "    model = TabMinHashToTwoGramClassifier(\n",
    "        input_dim=tabminhash_length,\n",
    "        num_two_grams=len(all_two_grams)\n",
    "    )\n",
    "\n",
    "elif ENC_CONFIG[\"AliceAlgo\"] == \"TwoStepHash\" and DEA_CONFIG[\"TSHMode\"] == \"Padding\":\n",
    "    model = TwoStepHashToTwoGramClassifier(\n",
    "        input_dim=max_twostephash_length,\n",
    "        num_two_grams=len(all_two_grams)\n",
    "    )\n",
    "\n",
    "elif ENC_CONFIG[\"AliceAlgo\"] == \"TwoStepHash\" and DEA_CONFIG[\"TSHMode\"] == \"FrequencyString\":\n",
    "    model = TabMinHashToTwoGramClassifier(\n",
    "        input_dim=max_twostephash_length,\n",
    "        num_two_grams=len(all_two_grams)\n",
    "    )\n",
    "\n",
    "elif ENC_CONFIG[\"AliceAlgo\"] == \"TwoStepHash\" and DEA_CONFIG[\"TSHMode\"] == \"OneHotEncoding\":\n",
    "    model = TabMinHashToTwoGramClassifier(\n",
    "        input_dim=len(unique_ints_sorted),\n",
    "        num_two_grams=len(all_two_grams)\n",
    "    )"
   ]
  },
  {
   "cell_type": "markdown",
   "metadata": {},
   "source": [
    "## Training Environment Setup\n",
    "This code initializes the core components needed for training a neural network model.\n",
    "\n",
    "1. TensorBoard Setup\n",
    "    - Creates unique run name by combining:\n",
    "    - Loss function type\n",
    "    - Optimizer choice\n",
    "    - Alice's algorithm\n",
    "    - TSH mode\n",
    "    - Initializes TensorBoard writer in runs directory\n",
    "2. Device Configuration\n",
    "    - Automatically selects GPU if available, falls back to CPU\n",
    "    - Moves model to selected device\n",
    "3. Loss Functions\n",
    "    - `BCEWithLogitsLoss`: Binary Cross Entropy with Logits\n",
    "    - `MultiLabelSoftMarginLoss`: Multi-Label Soft Margin Loss\n",
    "4. Optimizers:\n",
    "    - `Adam`: Adaptive Moment Estimation\n",
    "    - `AdamW`: Adam with Weight Decay\n",
    "    - `SGD`: Stochastic Gradient Descent (with momentum)\n",
    "    - `RMSprop`: Root Mean Square Propagation"
   ]
  },
  {
   "cell_type": "code",
   "execution_count": 20,
   "metadata": {},
   "outputs": [],
   "source": [
    "# Setup tensorboard logging\n",
    "run_name = \"\".join([\n",
    "    DEA_CONFIG[\"LossFunction:\"],\n",
    "    DEA_CONFIG[\"Optimizer\"],\n",
    "    ENC_CONFIG[\"AliceAlgo\"],\n",
    "    DEA_CONFIG[\"TSHMode\"]\n",
    "])\n",
    "tb_writer = SummaryWriter(f\"runs/{run_name}\")\n",
    "\n",
    "# Setup compute device (GPU/CPU)\n",
    "compute_device = torch.device(\"cuda:0\" if torch.cuda.is_available() else \"cpu\")\n",
    "model.to(compute_device)\n",
    "\n",
    "# Initialize loss function\n",
    "match DEA_CONFIG[\"LossFunction:\"]:\n",
    "    case \"BCEWithLogitsLoss\":\n",
    "        criterion = nn.BCEWithLogitsLoss(reduction='mean')\n",
    "    case \"MultiLabelSoftMarginLoss\":\n",
    "        criterion = nn.MultiLabelSoftMarginLoss(reduction='mean')\n",
    "    case _:\n",
    "        raise ValueError(f\"Unsupported loss function: {DEA_CONFIG['LossFunction:']}\")\n",
    "\n",
    "# Initialize optimizer\n",
    "match DEA_CONFIG[\"Optimizer\"]:\n",
    "    case \"Adam\":\n",
    "        optimizer = optim.Adam(model.parameters(), lr=DEA_CONFIG[\"LearningRate\"])\n",
    "    case \"AdamW\":\n",
    "        optimizer = optim.AdamW(model.parameters(), lr=DEA_CONFIG[\"LearningRate\"])\n",
    "    case \"SGD\":\n",
    "        optimizer = optim.SGD(model.parameters(),\n",
    "                            lr=DEA_CONFIG[\"LearningRate\"],\n",
    "                            momentum=DEA_CONFIG[\"Momentum\"])\n",
    "    case \"RMSprop\":\n",
    "        optimizer = optim.RMSprop(model.parameters(), lr=DEA_CONFIG[\"LearningRate\"])\n",
    "    case _:\n",
    "        raise ValueError(f\"Unsupported optimizer: {DEA_CONFIG['Optimizer']}\")"
   ]
  },
  {
   "cell_type": "markdown",
   "metadata": {},
   "source": [
    "## Model Training with Early Stopping\n",
    "\n",
    "The function `train_model` orchestrates the training process for the neural network, including both training and validation phases for each epoch. It also utilizes **early stopping** to halt training when the validation loss fails to improve over multiple epochs, avoiding overfitting.\n",
    "\n",
    "### Key Phases:\n",
    "1. **Training Phase**: \n",
    "   - The model is trained on the `dataloader_train`, computing the training loss using the specified loss function (`criterion`) and optimizer. Gradients are calculated, and the model parameters are updated.\n",
    "  \n",
    "2. **Validation Phase**:\n",
    "   - The model is evaluated on the `dataloader_val` without updating weights. The validation loss is computed to track model performance on unseen data.\n",
    "\n",
    "3. **Logging**: \n",
    "   - Training and validation losses are logged to both the console and **TensorBoard** for tracking model performance during training.\n",
    "\n",
    "4. **Early Stopping**: \n",
    "   - If the validation loss does not improve after a certain number of epochs (defined by `DEA_CONFIG[\"Patience\"]`), the training process is halted to prevent overfitting.\n",
    "\n",
    "### Helper Functions:\n",
    "- `run_epoch`: Handles a single epoch, either for training or validation, depending on the flag `is_training`.\n",
    "- `log_metrics`: Logs the training and validation losses to the console and TensorBoard for each epoch.\n"
   ]
  },
  {
   "cell_type": "code",
   "execution_count": 21,
   "metadata": {},
   "outputs": [
    {
     "data": {
      "application/vnd.jupyter.widget-view+json": {
       "model_id": "c850bd889a6b43b5b77c1347537a4901",
       "version_major": 2,
       "version_minor": 0
      },
      "text/plain": [
       "Training:   0%|          | 0/1 [00:00<?, ?it/s]"
      ]
     },
     "metadata": {},
     "output_type": "display_data"
    },
    {
     "data": {
      "application/vnd.jupyter.widget-view+json": {
       "model_id": "4f2ee442a24e43a6902027bdb31a0c78",
       "version_major": 2,
       "version_minor": 0
      },
      "text/plain": [
       "Validation:   0%|          | 0/1 [00:00<?, ?it/s]"
      ]
     },
     "metadata": {},
     "output_type": "display_data"
    },
    {
     "name": "stdout",
     "output_type": "stream",
     "text": [
      "Epoch 1/10 - Train loss: 0.6925, Validation loss: 0.6893\n",
      "best_loss updated from  inf  to  0.6893244385719299\n"
     ]
    },
    {
     "data": {
      "application/vnd.jupyter.widget-view+json": {
       "model_id": "194704dfa18240a694559f9e0e1a16af",
       "version_major": 2,
       "version_minor": 0
      },
      "text/plain": [
       "Training:   0%|          | 0/1 [00:00<?, ?it/s]"
      ]
     },
     "metadata": {},
     "output_type": "display_data"
    },
    {
     "data": {
      "application/vnd.jupyter.widget-view+json": {
       "model_id": "8777e3560c3c4383ae2bddcbc3f0e75e",
       "version_major": 2,
       "version_minor": 0
      },
      "text/plain": [
       "Validation:   0%|          | 0/1 [00:00<?, ?it/s]"
      ]
     },
     "metadata": {},
     "output_type": "display_data"
    },
    {
     "name": "stdout",
     "output_type": "stream",
     "text": [
      "Epoch 2/10 - Train loss: 0.6889, Validation loss: 0.6846\n",
      "best_loss updated from  0.6893244385719299  to  0.684601902961731\n"
     ]
    },
    {
     "data": {
      "application/vnd.jupyter.widget-view+json": {
       "model_id": "f327ba87bbf745b1afc0a63bcca17020",
       "version_major": 2,
       "version_minor": 0
      },
      "text/plain": [
       "Training:   0%|          | 0/1 [00:00<?, ?it/s]"
      ]
     },
     "metadata": {},
     "output_type": "display_data"
    },
    {
     "data": {
      "application/vnd.jupyter.widget-view+json": {
       "model_id": "4a273e47cdcd4fcb9e63af7e44224f4a",
       "version_major": 2,
       "version_minor": 0
      },
      "text/plain": [
       "Validation:   0%|          | 0/1 [00:00<?, ?it/s]"
      ]
     },
     "metadata": {},
     "output_type": "display_data"
    },
    {
     "name": "stdout",
     "output_type": "stream",
     "text": [
      "Epoch 3/10 - Train loss: 0.6826, Validation loss: 0.6766\n",
      "best_loss updated from  0.684601902961731  to  0.6766443252563477\n"
     ]
    },
    {
     "data": {
      "application/vnd.jupyter.widget-view+json": {
       "model_id": "c4a63a88cda54b14be8ba15ebf2b8dfc",
       "version_major": 2,
       "version_minor": 0
      },
      "text/plain": [
       "Training:   0%|          | 0/1 [00:00<?, ?it/s]"
      ]
     },
     "metadata": {},
     "output_type": "display_data"
    },
    {
     "data": {
      "application/vnd.jupyter.widget-view+json": {
       "model_id": "48f175b33d1247e3b06bcea42d8b9e27",
       "version_major": 2,
       "version_minor": 0
      },
      "text/plain": [
       "Validation:   0%|          | 0/1 [00:00<?, ?it/s]"
      ]
     },
     "metadata": {},
     "output_type": "display_data"
    },
    {
     "name": "stdout",
     "output_type": "stream",
     "text": [
      "Epoch 4/10 - Train loss: 0.6707, Validation loss: 0.6624\n",
      "best_loss updated from  0.6766443252563477  to  0.6624286770820618\n"
     ]
    },
    {
     "data": {
      "application/vnd.jupyter.widget-view+json": {
       "model_id": "b9f4d0bd883340399fe7045bc87c127e",
       "version_major": 2,
       "version_minor": 0
      },
      "text/plain": [
       "Training:   0%|          | 0/1 [00:00<?, ?it/s]"
      ]
     },
     "metadata": {},
     "output_type": "display_data"
    },
    {
     "data": {
      "application/vnd.jupyter.widget-view+json": {
       "model_id": "6af165bf58b44f86831d6495d89f7c06",
       "version_major": 2,
       "version_minor": 0
      },
      "text/plain": [
       "Validation:   0%|          | 0/1 [00:00<?, ?it/s]"
      ]
     },
     "metadata": {},
     "output_type": "display_data"
    },
    {
     "name": "stdout",
     "output_type": "stream",
     "text": [
      "Epoch 5/10 - Train loss: 0.6480, Validation loss: 0.6379\n",
      "best_loss updated from  0.6624286770820618  to  0.6379130482673645\n"
     ]
    },
    {
     "data": {
      "application/vnd.jupyter.widget-view+json": {
       "model_id": "abb168f4ebab4f1e93fe99137e715b41",
       "version_major": 2,
       "version_minor": 0
      },
      "text/plain": [
       "Training:   0%|          | 0/1 [00:00<?, ?it/s]"
      ]
     },
     "metadata": {},
     "output_type": "display_data"
    },
    {
     "data": {
      "application/vnd.jupyter.widget-view+json": {
       "model_id": "9070706978d6449d99b359e2c5317b0b",
       "version_major": 2,
       "version_minor": 0
      },
      "text/plain": [
       "Validation:   0%|          | 0/1 [00:00<?, ?it/s]"
      ]
     },
     "metadata": {},
     "output_type": "display_data"
    },
    {
     "name": "stdout",
     "output_type": "stream",
     "text": [
      "Epoch 6/10 - Train loss: 0.6187, Validation loss: 0.5964\n",
      "best_loss updated from  0.6379130482673645  to  0.5964034795761108\n"
     ]
    },
    {
     "data": {
      "application/vnd.jupyter.widget-view+json": {
       "model_id": "83dac843e9e9407e9ba684fa60d0c45c",
       "version_major": 2,
       "version_minor": 0
      },
      "text/plain": [
       "Training:   0%|          | 0/1 [00:00<?, ?it/s]"
      ]
     },
     "metadata": {},
     "output_type": "display_data"
    },
    {
     "data": {
      "application/vnd.jupyter.widget-view+json": {
       "model_id": "361573e219f24cf39de495a7f26b4a66",
       "version_major": 2,
       "version_minor": 0
      },
      "text/plain": [
       "Validation:   0%|          | 0/1 [00:00<?, ?it/s]"
      ]
     },
     "metadata": {},
     "output_type": "display_data"
    },
    {
     "name": "stdout",
     "output_type": "stream",
     "text": [
      "Epoch 7/10 - Train loss: 0.5663, Validation loss: 0.5303\n",
      "best_loss updated from  0.5964034795761108  to  0.5303005576133728\n"
     ]
    },
    {
     "data": {
      "application/vnd.jupyter.widget-view+json": {
       "model_id": "7ea18ce6fea4455e82bd75dab3e30ff0",
       "version_major": 2,
       "version_minor": 0
      },
      "text/plain": [
       "Training:   0%|          | 0/1 [00:00<?, ?it/s]"
      ]
     },
     "metadata": {},
     "output_type": "display_data"
    },
    {
     "data": {
      "application/vnd.jupyter.widget-view+json": {
       "model_id": "9e5c8bc1bc8a46d6ad6ec3a8d8052170",
       "version_major": 2,
       "version_minor": 0
      },
      "text/plain": [
       "Validation:   0%|          | 0/1 [00:00<?, ?it/s]"
      ]
     },
     "metadata": {},
     "output_type": "display_data"
    },
    {
     "name": "stdout",
     "output_type": "stream",
     "text": [
      "Epoch 8/10 - Train loss: 0.4764, Validation loss: 0.4348\n",
      "best_loss updated from  0.5303005576133728  to  0.4348388612270355\n"
     ]
    },
    {
     "data": {
      "application/vnd.jupyter.widget-view+json": {
       "model_id": "be87c1bf70e74d5999323efcc9b70ec5",
       "version_major": 2,
       "version_minor": 0
      },
      "text/plain": [
       "Training:   0%|          | 0/1 [00:00<?, ?it/s]"
      ]
     },
     "metadata": {},
     "output_type": "display_data"
    },
    {
     "data": {
      "application/vnd.jupyter.widget-view+json": {
       "model_id": "1dc4a44629a0424dbf6e9093b9950d7b",
       "version_major": 2,
       "version_minor": 0
      },
      "text/plain": [
       "Validation:   0%|          | 0/1 [00:00<?, ?it/s]"
      ]
     },
     "metadata": {},
     "output_type": "display_data"
    },
    {
     "name": "stdout",
     "output_type": "stream",
     "text": [
      "Epoch 9/10 - Train loss: 0.3552, Validation loss: 0.3138\n",
      "best_loss updated from  0.4348388612270355  to  0.31381818652153015\n"
     ]
    },
    {
     "data": {
      "application/vnd.jupyter.widget-view+json": {
       "model_id": "e78c62ad85234e99ba46478ef720528b",
       "version_major": 2,
       "version_minor": 0
      },
      "text/plain": [
       "Training:   0%|          | 0/1 [00:00<?, ?it/s]"
      ]
     },
     "metadata": {},
     "output_type": "display_data"
    },
    {
     "data": {
      "application/vnd.jupyter.widget-view+json": {
       "model_id": "cb25f2c316d64bd1b9cfbf4587985eaa",
       "version_major": 2,
       "version_minor": 0
      },
      "text/plain": [
       "Validation:   0%|          | 0/1 [00:00<?, ?it/s]"
      ]
     },
     "metadata": {},
     "output_type": "display_data"
    },
    {
     "name": "stdout",
     "output_type": "stream",
     "text": [
      "Epoch 10/10 - Train loss: 0.2496, Validation loss: 0.1931\n",
      "best_loss updated from  0.31381818652153015  to  0.19314877688884735\n"
     ]
    }
   ],
   "source": [
    "def train_model(model, dataloader_train, dataloader_val, criterion, optimizer, device):\n",
    "    train_losses, val_losses = [], []\n",
    "    early_stopper = EarlyStopping(patience=DEA_CONFIG[\"Patience\"], min_delta=DEA_CONFIG[\"MinDelta\"])\n",
    "\n",
    "    for epoch in range(DEA_CONFIG[\"Epochs\"]):\n",
    "        # Training phase\n",
    "        model.train()\n",
    "        train_loss = run_epoch(\n",
    "            model, dataloader_train, criterion, optimizer,\n",
    "            device, is_training=True\n",
    "        )\n",
    "        train_losses.append(train_loss)\n",
    "\n",
    "        # Validation phase\n",
    "        model.eval()\n",
    "        val_loss = run_epoch(\n",
    "            model, dataloader_val, criterion, optimizer,\n",
    "            device, is_training=False\n",
    "        )\n",
    "        val_losses.append(val_loss)\n",
    "\n",
    "        # Logging\n",
    "        log_metrics(train_loss, val_loss, epoch, DEA_CONFIG[\"Epochs\"])\n",
    "\n",
    "        # Early stopping check\n",
    "        if early_stopper(val_loss):\n",
    "            print(f\"Early stopping triggered at epoch {epoch + 1}\")\n",
    "            break\n",
    "\n",
    "    return train_losses, val_losses\n",
    "\n",
    "def run_epoch(model, dataloader, criterion, optimizer, device, is_training):\n",
    "    running_loss = 0.0\n",
    "    with torch.set_grad_enabled(is_training):\n",
    "        for data, labels, _ in tqdm(dataloader,\n",
    "                                  desc=\"Training\" if is_training else \"Validation\"):\n",
    "            data, labels = data.to(device), labels.to(device)\n",
    "\n",
    "            if is_training:\n",
    "                optimizer.zero_grad()\n",
    "\n",
    "            outputs = model(data)\n",
    "            loss = criterion(outputs, labels)\n",
    "\n",
    "            if is_training:\n",
    "                loss.backward()\n",
    "                optimizer.step()\n",
    "\n",
    "            running_loss += loss.item() * labels.size(0)\n",
    "\n",
    "    return running_loss / len(dataloader.dataset)\n",
    "\n",
    "def log_metrics(train_loss, val_loss, epoch, total_epochs):\n",
    "    print(f\"Epoch {epoch + 1}/{total_epochs} - \"\n",
    "          f\"Train loss: {train_loss:.4f}, \"\n",
    "          f\"Validation loss: {val_loss:.4f}\")\n",
    "    tb_writer.add_scalar(\"Loss/train\", train_loss, epoch + 1)\n",
    "    tb_writer.add_scalar(\"Loss/validation\", val_loss, epoch + 1)\n",
    "\n",
    "train_losses, val_losses = train_model(\n",
    "    model, dataloader_train, dataloader_val,\n",
    "    criterion, optimizer, compute_device\n",
    "    )"
   ]
  },
  {
   "cell_type": "markdown",
   "metadata": {},
   "source": [
    "## Loss Visualization over Epochs\n",
    "\n",
    "This code snippet generates a plot to visualize the **training loss** and **validation loss** across epochs. It's useful for tracking model performance during training and evaluating if overfitting is occurring (i.e., when validation loss starts increasing while training loss continues to decrease).\n",
    "\n",
    "### Key Elements:\n",
    "1. **Plotting the Losses**: \n",
    "   - The `train_losses` and `val_losses` are plotted over the epochs. \n",
    "   - The **blue line** represents the training loss, and the **red line** represents the validation loss.\n",
    "\n",
    "2. **Legend**: \n",
    "   - A legend is added to distinguish between training and validation losses.\n",
    "\n",
    "3. **Title and Labels**: \n",
    "   - The plot is titled \"Training and Validation Loss over Epochs\" for context.\n",
    "   - **X-axis** represents the epoch number, and **Y-axis** represents the loss value.\n"
   ]
  },
  {
   "cell_type": "code",
   "execution_count": 22,
   "metadata": {},
   "outputs": [
    {
     "data": {
      "image/png": "[encoded data removed]",
      "text/plain": [
       "<Figure size 640x480 with 1 Axes>"
      ]
     },
     "metadata": {},
     "output_type": "display_data"
    }
   ],
   "source": [
    "# Plot the training and validation losses over epochs\n",
    "plt.plot(train_losses, label='Training loss', color='blue')\n",
    "plt.plot(val_losses, label='Validation loss', color='red')\n",
    "\n",
    "# Adding a legend to the plot\n",
    "plt.legend()\n",
    "\n",
    "# Setting the title and labels for clarity\n",
    "plt.title(\"Training and Validation Loss over Epochs\")\n",
    "plt.xlabel(\"Epochs\")\n",
    "plt.ylabel(\"Loss\")\n",
    "\n",
    "# Show the plot\n",
    "plt.show()"
   ]
  },
  {
   "cell_type": "markdown",
   "metadata": {},
   "source": [
    "## Model Inference and 2-Gram Comparison\n",
    "\n",
    "This code performs inference on the test data and compares the predicted 2-grams with the actual 2-grams, providing a performance evaluation based on the **Dice similarity coefficient**.\n",
    "\n",
    "### Key Steps:\n",
    "\n",
    "1. **Prepare for Evaluation**:\n",
    "   - The model is switched to **evaluation mode** (`model.eval()`), ensuring no gradient computation.\n",
    "   \n",
    "2. **Thresholding**:\n",
    "   - A threshold (`DEA_CONFIG[\"FilterThreshold\"]`) is applied to filter out low-probability predictions, retaining only the most confident predictions.\n",
    "\n",
    "3. **Inference and 2-Gram Scoring**:\n",
    "   - The model is applied to the batch, and the **logits** are converted into probabilities using the **sigmoid function**.\n",
    "   - The probabilities are then mapped to **2-gram scores**, and scores below the threshold are discarded.\n",
    "\n",
    "4. **Reconstructing Words**:\n",
    "   - For each sample in the batch, **2-grams** are reconstructed into words based on the filtered scores.\n",
    "\n",
    "5. **Performance Metrics**:\n",
    "   - The actual 2-grams (from the test dataset) are compared with the predicted 2-grams, and the **Dice similarity coefficient** is calculated for each sample.\n",
    "\n",
    "### Result:\n",
    "- The code generates a list `combined_results_performance`, which contains a detailed comparison for each UID, including:\n",
    "  - **Actual 2-grams** (from the test data)\n",
    "  - **Predicted 2-grams** (from the model)\n",
    "  - **Dice similarity** score indicating how similar the actual and predicted 2-grams are."
   ]
  },
  {
   "cell_type": "code",
   "execution_count": 23,
   "metadata": {},
   "outputs": [
    {
     "data": {
      "application/vnd.jupyter.widget-view+json": {
       "model_id": "103f09af0b334d81bdde9ef396899ac5",
       "version_major": 2,
       "version_minor": 0
      },
      "text/plain": [
       "Test loop:   0%|          | 0/44 [00:00<?, ?it/s]"
      ]
     },
     "metadata": {},
     "output_type": "display_data"
    },
    {
     "name": "stdout",
     "output_type": "stream",
     "text": [
      "[{'uid': '54630', 'actual_two_grams': ['er', 'ri', 'ic', 'cm', 'mo', 'or', 'rg', 'ga', 'an', 'n2', '21', '19', '91', '19', '95', '56'], 'predicted_two_grams': {'ra', 'st', '19'}, 'dice_similarity': 0.1111}, {'uid': '42674', 'actual_two_grams': ['ch', 'ha', 'ar', 'rl', 'le', 'es', 'sm', 'mo', 'ol', 'li', 'in', 'na', 'a1', '12', '27', '71', '19', '93', '38'], 'predicted_two_grams': {'ra', 'st', '19'}, 'dice_similarity': 0.0909}, {'uid': '76286', 'actual_two_grams': ['el', 'll', 'le', 'en', 'nm', 'mc', 'ck', 'ka', 'ay', 'y1', '11', '18', '81', '19', '95', '59'], 'predicted_two_grams': {'ra', 'st', '19'}, 'dice_similarity': 0.1053}, {'uid': '89340', 'actual_two_grams': ['ed', 'dw', 'wa', 'ar', 'rd', 'do', 'ow', 'wi', 'in', 'ng', 'gs', 's1', '18', '81', '19', '96', '69'], 'predicted_two_grams': {'ra', 'st', '19'}, 'dice_similarity': 0.1}, {'uid': '61941', 'actual_two_grams': ['be', 'et', 'tt', 'ty', 'yy', 'yo', 'ow', 'we', 'el', 'll', 'l7', '71', '17', '71', '19', '94', '49'], 'predicted_two_grams': {'ra', 'st', '19'}, 'dice_similarity': 0.1053}, {'uid': '19722', 'actual_two_grams': ['an', 'nd', 'dr', 're', 'ew', 'ws', 'si', 'is', 'sc', 'co', 'o2', '22', '25', '52', '20', '00', '02'], 'predicted_two_grams': {'ra', 'st', '19'}, 'dice_similarity': 0.0}, {'uid': '75525', 'actual_two_grams': ['da', 'av', 'vi', 'id', 'dc', 'co', 'oo', 'op', 'pe', 'er', 'r1', '10', '01', '14', '41', '19', '95', '54'], 'predicted_two_grams': {'ra', 'st', '19'}, 'dice_similarity': 0.0952}, {'uid': '92639', 'actual_two_grams': ['ju', 'ud', 'dy', 'ym', 'ma', 'ar', 'rt', 'ti', 'in', 'ne', 'ez', 'z1', '12', '25', '51', '19', '98', '89'], 'predicted_two_grams': {'ra', 'st', '19'}, 'dice_similarity': 0.0952}, {'uid': '99133', 'actual_two_grams': ['ol', 'll', 'li', 'ie', 'em', 'mc', 'cc', 'cr', 're', 'ea', 'a7', '71', '12', '21', '19', '96', '62'], 'predicted_two_grams': {'ra', 'st', '19'}, 'dice_similarity': 0.1}, {'uid': '40882', 'actual_two_grams': ['ap', 'pr', 'ri', 'il', 'lp', 'pe', 'et', 'te', 'er', 'rs', 'so', 'on', 'n1', '11', '16', '61', '19', '94', '45'], 'predicted_two_grams': {'ra', 'st', '19'}, 'dice_similarity': 0.0909}, {'uid': '88924', 'actual_two_grams': ['ju', 'us', 'st', 'ti', 'in', 'nb', 'ba', 'al', 'ld', 'dw', 'wi', 'in', 'n1', '10', '02', '27', '71', '19', '96', '60'], 'predicted_two_grams': {'ra', 'st', '19'}, 'dice_similarity': 0.1818}, {'uid': '59452', 'actual_two_grams': ['gl', 'lo', 'or', 'ri', 'ia', 'aw', 'wi', 'il', 'll', 'li', 'ia', 'am', 'ms', 's4', '41', '15', '51', '19', '94', '43'], 'predicted_two_grams': {'ra', 'st', '19'}, 'dice_similarity': 0.0909}, {'uid': '2380', 'actual_two_grams': ['jo', 'oh', 'hn', 'nd', 'do', 'oz', 'zi', 'ie', 'er', 'r1', '11', '11', '19', '91', '19', '99', '99'], 'predicted_two_grams': {'ra', 'st', '19'}, 'dice_similarity': 0.1176}, {'uid': '43273', 'actual_two_grams': ['ma', 'ar', 'ry', 'yc', 'co', 'ov', 'vi', 'in', 'ng', 'gt', 'to', 'on', 'n6', '62', '23', '31', '19', '98', '86'], 'predicted_two_grams': {'ra', 'st', '19'}, 'dice_similarity': 0.0909}, {'uid': '50978', 'actual_two_grams': ['ky', 'yl', 'le', 'er', 'rh', 'ho', 'oa', 'ad', 'ds', 's7', '73', '30', '01', '19', '94', '49'], 'predicted_two_grams': {'ra', 'st', '19'}, 'dice_similarity': 0.1053}, {'uid': '57833', 'actual_two_grams': ['re', 'ey', 'yn', 'na', 'al', 'ld', 'do', 'oc', 'ca', 'ab', 'br', 're', 'er', 'ra', 'a1', '10', '01', '18', '82', '20', '00', '00'], 'predicted_two_grams': {'ra', 'st', '19'}, 'dice_similarity': 0.087}, {'uid': '41963', 'actual_two_grams': ['je', 'er', 'rr', 'ry', 'ym', 'mc', 'cc', 'ca', 'ar', 'rt', 'th', 'hy', 'y5', '53', '31', '11', '19', '96', '62'], 'predicted_two_grams': {'ra', 'st', '19'}, 'dice_similarity': 0.0909}, {'uid': '15674', 'actual_two_grams': ['ar', 'rt', 'th', 'hu', 'ur', 'rp', 'pa', 'at', 'tr', 'ri', 'ic', 'ck', 'k1', '12', '22', '25', '51', '19', '99', '98'], 'predicted_two_grams': {'ra', 'st', '19'}, 'dice_similarity': 0.087}, {'uid': '72031', 'actual_two_grams': ['ja', 'an', 'ne', 'et', 'tt', 'tw', 'wa', 'al', 'lt', 'to', 'on', 'n1', '13', '30', '02', '20', '00', '02'], 'predicted_two_grams': {'ra', 'st', '19'}, 'dice_similarity': 0.0}, {'uid': '85160', 'actual_two_grams': ['gi', 'in', 'na', 'al', 'le', 'et', 'to', 'ou', 'ur', 'rn', 'ne', 'ea', 'au', 'u1', '12', '22', '25', '52', '20', '00', '02'], 'predicted_two_grams': {'ra', 'st', '19'}, 'dice_similarity': 0.0}, {'uid': '94740', 'actual_two_grams': ['ka', 'ar', 're', 'ee', 'em', 'mc', 'cl', 'la', 'ar', 'rk', 'k1', '10', '02', '20', '01', '19', '95', '50'], 'predicted_two_grams': {'ra', 'st', '19'}, 'dice_similarity': 0.1}, {'uid': '23513', 'actual_two_grams': ['wi', 'il', 'lb', 'be', 'er', 'rt', 'tc', 'co', 'os', 'sm', 'me', 'e8', '87', '71', '19', '94', '42'], 'predicted_two_grams': {'ra', 'st', '19'}, 'dice_similarity': 0.1}, {'uid': '23596', 'actual_two_grams': ['ca', 'ar', 'rm', 'mi', 'in', 'ne', 'er', 're', 'et', 'th', 'he', 'er', 'rf', 'fo', 'or', 'rd', 'd3', '31', '17', '71', '19', '96', '63'], 'predicted_two_grams': {'ra', 'st', '19'}, 'dice_similarity': 0.08}, {'uid': '27513', 'actual_two_grams': ['ke', 'ev', 'vi', 'in', 'nw', 'we', 'eb', 'bs', 'st', 'te', 'er', 'r6', '62', '22', '21', '19', '93', '38'], 'predicted_two_grams': {'ra', 'st', '19'}, 'dice_similarity': 0.1905}, {'uid': '67990', 'actual_two_grams': ['pe', 'ea', 'ar', 'rl', 'lb', 'br', 'ri', 'it', 'tt', 'to', 'on', 'n6', '62', '21', '19', '95', '53'], 'predicted_two_grams': {'ra', 'st', '19'}, 'dice_similarity': 0.1}, {'uid': '56171', 'actual_two_grams': ['do', 'on', 'nn', 'na', 'ac', 'cu', 'us', 'sh', 'hm', 'ma', 'an', 'n1', '12', '20', '01', '19', '94', '47'], 'predicted_two_grams': {'ra', 'st', '19'}, 'dice_similarity': 0.0952}, {'uid': '15077', 'actual_two_grams': ['to', 'om', 'mm', 'my', 'yf', 'fo', 'ol', 'ls', 'so', 'om', 'm2', '29', '91', '19', '98', '81'], 'predicted_two_grams': {'ra', 'st', '19'}, 'dice_similarity': 0.1111}, {'uid': '77732', 'actual_two_grams': ['do', 'or', 'ro', 'ot', 'th', 'hy', 'yr', 'ru', 'us', 'sh', 'h9', '91', '12', '21', '19', '93', '38'], 'predicted_two_grams': {'ra', 'st', '19'}, 'dice_similarity': 0.1}, {'uid': '44791', 'actual_two_grams': ['sh', 'he', 'el', 'li', 'ia', 'as', 'sc', 'co', 'ot', 'tt', 't5', '55', '52', '20', '00', '01'], 'predicted_two_grams': {'ra', 'st', '19'}, 'dice_similarity': 0.0}, {'uid': '4735', 'actual_two_grams': ['je', 'es', 'ss', 'si', 'ic', 'ca', 'ar', 'ro', 'od', 'dr', 'ri', 'iq', 'qu', 'ue', 'ez', 'z6', '63', '30', '01', '19', '98', '82'], 'predicted_two_grams': {'ra', 'st', '19'}, 'dice_similarity': 0.08}, {'uid': '89761', 'actual_two_grams': ['mo', 'or', 'rt', 'to', 'on', 'nr', 'ro', 'ol', 'll', 'li', 'in', 'ns', 's7', '71', '17', '72', '20', '00', '02'], 'predicted_two_grams': {'ra', 'st', '19'}, 'dice_similarity': 0.0}, {'uid': '83494', 'actual_two_grams': ['jo', 'on', 'na', 'ah', 'hj', 'jo', 'on', 'ne', 'es', 's1', '12', '22', '25', '51', '19', '93', '37'], 'predicted_two_grams': {'ra', 'st', '19'}, 'dice_similarity': 0.1111}, {'uid': '17536', 'actual_two_grams': ['br', 're', 'en', 'nd', 'da', 'am', 'mc', 'cg', 'gr', 'ri', 'if', 'ff', 'f1', '12', '22', '24', '41', '19', '98', '84'], 'predicted_two_grams': {'ra', 'st', '19'}, 'dice_similarity': 0.087}, {'uid': '75097', 'actual_two_grams': ['ja', 'as', 'sm', 'mi', 'in', 'ne', 'eh', 'ha', 'at', 'tc', 'ch', 'he', 'er', 'r5', '58', '81', '19', '93', '39'], 'predicted_two_grams': {'ra', 'st', '19'}, 'dice_similarity': 0.0909}, {'uid': '93305', 'actual_two_grams': ['di', 'ia', 'an', 'na', 'am', 'mi', 'il', 'll', 'le', 'er', 'r3', '33', '30', '01', '19', '95', '50'], 'predicted_two_grams': {'ra', 'st', '19'}, 'dice_similarity': 0.1}, {'uid': '22328', 'actual_two_grams': ['mi', 'il', 'ld', 'dr', 're', 'ed', 'dr', 're', 'ee', 'ev', 've', 'es', 's1', '10', '08', '81', '19', '97', '71'], 'predicted_two_grams': {'ra', 'st', '19'}, 'dice_similarity': 0.1}, {'uid': '11704', 'actual_two_grams': ['do', 'on', 'na', 'al', 'ld', 'dl', 'la', 'au', 'ue', 'er', 'r9', '93', '31', '19', '99', '92'], 'predicted_two_grams': {'ra', 'st', '19'}, 'dice_similarity': 0.1053}, {'uid': '72229', 'actual_two_grams': ['cl', 'li', 'if', 'ff', 'fo', 'or', 'rd', 'dn', 'na', 'ai', 'ir', 'r1', '12', '27', '71', '19', '96', '62'], 'predicted_two_grams': {'ra', 'st', '19'}, 'dice_similarity': 0.0952}, {'uid': '13482', 'actual_two_grams': ['ka', 'at', 'th', 'he', 'er', 'ri', 'in', 'ne', 'ed', 'do', 'oz', 'zi', 'ie', 'er', 'r1', '12', '21', '18', '81', '19', '96', '62'], 'predicted_two_grams': {'ra', 'st', '19'}, 'dice_similarity': 0.0833}, {'uid': '52891', 'actual_two_grams': ['be', 'et', 'th', 'hj', 'ja', 'ac', 'ck', 'ks', 'so', 'on', 'n1', '12', '22', '20', '01', '19', '98', '85'], 'predicted_two_grams': {'ra', 'st', '19'}, 'dice_similarity': 0.0952}, {'uid': '28072', 'actual_two_grams': ['ry', 'ya', 'an', 'np', 'pa', 'au', 'ul', 'li', 'in', 'ng', 'g3', '31', '11', '11', '19', '96', '66'], 'predicted_two_grams': {'ra', 'st', '19'}, 'dice_similarity': 0.1053}, {'uid': '48064', 'actual_two_grams': ['ri', 'ic', 'ch', 'ha', 'ar', 'rd', 'dm', 'me', 'ey', 'ye', 'er', 'rs', 's3', '31', '17', '71', '19', '95', '51'], 'predicted_two_grams': {'ra', 'st', '19'}, 'dice_similarity': 0.0909}, {'uid': '73788', 'actual_two_grams': ['da', 'av', 'vi', 'id', 'dc', 'co', 'oo', 'op', 'pe', 'er', 'r1', '12', '21', '18', '81', '19', '97', '73'], 'predicted_two_grams': {'ra', 'st', '19'}, 'dice_similarity': 0.0952}, {'uid': '54826', 'actual_two_grams': ['ma', 'ar', 'rt', 'ti', 'in', 'np', 'pi', 'it', 'tt', 'ts', 's8', '82', '21', '19', '94', '48'], 'predicted_two_grams': {'ra', 'st', '19'}, 'dice_similarity': 0.1053}, {'uid': '13554', 'actual_two_grams': ['th', 'ho', 'om', 'ma', 'as', 'sb', 'ba', 'an', 'ne', 'e1', '11', '12', '27', '71', '19', '94', '42'], 'predicted_two_grams': {'ra', 'st', '19'}, 'dice_similarity': 0.1}, {'uid': '40629', 'actual_two_grams': ['ce', 'el', 'le', 'es', 'st', 'te', 'et', 'tu', 'ur', 'rn', 'ne', 'er', 'r2', '24', '41', '19', '99', '92'], 'predicted_two_grams': {'ra', 'st', '19'}, 'dice_similarity': 0.1905}, {'uid': '87889', 'actual_two_grams': ['ja', 'ay', 'ym', 'ma', 'ar', 'rr', 'ri', 'io', 'ot', 'tt', 't2', '21', '16', '61', '19', '95', '50'], 'predicted_two_grams': {'ra', 'st', '19'}, 'dice_similarity': 0.1}, {'uid': '90039', 'actual_two_grams': ['an', 'nd', 'dr', 're', 'ea', 'af', 'fl', 'le', 'em', 'mi', 'in', 'ng', 'g1', '13', '31', '11', '19', '94', '43'], 'predicted_two_grams': {'ra', 'st', '19'}, 'dice_similarity': 0.0909}, {'uid': '85617', 'actual_two_grams': ['da', 'av', 'vi', 'id', 'dl', 'la', 'aw', 'ws', 'so', 'on', 'n7', '75', '51', '19', '99', '91'], 'predicted_two_grams': {'ra', 'st', '19'}, 'dice_similarity': 0.1053}, {'uid': '1465', 'actual_two_grams': ['gr', 're', 'eg', 'go', 'or', 'ri', 'io', 'op', 'pa', 'ar', 'rk', 'ke', 'er', 'r2', '21', '14', '41', '19', '99', '98'], 'predicted_two_grams': {'ra', 'st', '19'}, 'dice_similarity': 0.087}, {'uid': '60367', 'actual_two_grams': ['eu', 'ug', 'ge', 'en', 'ne', 'es', 'st', 'te', 'ev', 've', 'en', 'ns', 's1', '12', '21', '11', '19', '98', '87'], 'predicted_two_grams': {'ra', 'st', '19'}, 'dice_similarity': 0.1905}, {'uid': '71624', 'actual_two_grams': ['an', 'nn', 'ni', 'ie', 'eh', 'ha', 'ac', 'ck', 'kl', 'le', 'er', 'r2', '22', '28', '81', '19', '95', '59'], 'predicted_two_grams': {'ra', 'st', '19'}, 'dice_similarity': 0.0952}, {'uid': '38083', 'actual_two_grams': ['le', 'ee', 'ek', 'ke', 'en', 'nn', 'ne', 'ed', 'dy', 'y6', '64', '41', '19', '98', '86'], 'predicted_two_grams': {'ra', 'st', '19'}, 'dice_similarity': 0.1111}, {'uid': '84297', 'actual_two_grams': ['ja', 'am', 'me', 'es', 'sf', 'fo', 'ox', 'xw', 'we', 'el', 'll', 'l7', '71', '17', '71', '19', '96', '61'], 'predicted_two_grams': {'ra', 'st', '19'}, 'dice_similarity': 0.1}, {'uid': '88068', 'actual_two_grams': ['ch', 'he', 'er', 'ry', 'yl', 'ln', 'ne', 'ee', 'el', 'le', 'ey', 'y1', '10', '01', '19', '91', '19', '97', '79'], 'predicted_two_grams': {'ra', 'st', '19'}, 'dice_similarity': 0.0952}, {'uid': '97312', 'actual_two_grams': ['an', 'nn', 'nw', 'wa', 'ag', 'gn', 'ne', 'er', 'r9', '97', '71', '19', '98', '87'], 'predicted_two_grams': {'ra', 'st', '19'}, 'dice_similarity': 0.1176}, {'uid': '26314', 'actual_two_grams': ['al', 'le', 'en', 'ne', 'eh', 'he', 'er', 'rn', 'na', 'an', 'nd', 'de', 'ez', 'z6', '63', '30', '01', '19', '98', '84'], 'predicted_two_grams': {'ra', 'st', '19'}, 'dice_similarity': 0.087}, {'uid': '84485', 'actual_two_grams': ['la', 'au', 'ur', 'ra', 'am', 'mi', 'il', 'll', 'le', 'er', 'r1', '12', '21', '11', '19', '93', '37'], 'predicted_two_grams': {'ra', 'st', '19'}, 'dice_similarity': 0.2}, {'uid': '30772', 'actual_two_grams': ['st', 'ta', 'an', 'nl', 'le', 'ey', 'yw', 'wa', 'an', 'ng', 'g1', '10', '01', '19', '91', '19', '96', '60'], 'predicted_two_grams': {'ra', 'st', '19'}, 'dice_similarity': 0.2105}, {'uid': '90900', 'actual_two_grams': ['pa', 'at', 'tr', 'ri', 'ic', 'ce', 'ee', 'en', 'ng', 'ge', 'el', 'l2', '21', '11', '11', '19', '98', '89'], 'predicted_two_grams': {'ra', 'st', '19'}, 'dice_similarity': 0.1}, {'uid': '8237', 'actual_two_grams': ['ad', 'dr', 'ri', 'ia', 'an', 'np', 'pa', 'at', 'tt', 't9', '91', '13', '31', '19', '98', '83'], 'predicted_two_grams': {'ra', 'st', '19'}, 'dice_similarity': 0.1053}, {'uid': '37287', 'actual_two_grams': ['jo', 'os', 'se', 'ep', 'ph', 'hn', 'ni', 'ic', 'ch', 'ho', 'ol', 'ls', 's5', '51', '14', '41', '19', '97', '76'], 'predicted_two_grams': {'ra', 'st', '19'}, 'dice_similarity': 0.0909}, {'uid': '83048', 'actual_two_grams': ['ea', 'ar', 'rt', 'th', 'ha', 'at', 'ta', 'ay', 'yl', 'lo', 'or', 'r5', '51', '12', '22', '20', '00', '02'], 'predicted_two_grams': {'ra', 'st', '19'}, 'dice_similarity': 0.0}, {'uid': '98952', 'actual_two_grams': ['do', 'or', 'ro', 'ot', 'th', 'hy', 'yc', 'co', 'or', 'rt', 'te', 'ez', 'z6', '62', '20', '01', '19', '98', '84'], 'predicted_two_grams': {'ra', 'st', '19'}, 'dice_similarity': 0.0952}, {'uid': '38394', 'actual_two_grams': ['th', 'ho', 'om', 'ma', 'as', 'sh', 'ha', 'al', 'll', 'l5', '59', '91', '19', '94', '49'], 'predicted_two_grams': {'ra', 'st', '19'}, 'dice_similarity': 0.1111}, {'uid': '86017', 'actual_two_grams': ['de', 'ea', 'an', 'na', 'at', 'ty', 'yr', 're', 'el', 'll', 'l1', '10', '07', '71', '19', '95', '53'], 'predicted_two_grams': {'ra', 'st', '19'}, 'dice_similarity': 0.1}, {'uid': '23851', 'actual_two_grams': ['ag', 'gn', 'ne', 'es', 'sc', 'ca', 'am', 'mp', 'p5', '56', '61', '19', '99', '91'], 'predicted_two_grams': {'ra', 'st', '19'}, 'dice_similarity': 0.1176}, {'uid': '86228', 'actual_two_grams': ['de', 'eb', 'bb', 'bi', 'ie', 'ew', 'wo', 'oo', 'od', 'ds', 's1', '12', '22', '24', '41', '19', '95', '59'], 'predicted_two_grams': {'ra', 'st', '19'}, 'dice_similarity': 0.0952}, {'uid': '2865', 'actual_two_grams': ['ro', 'os', 'sa', 'am', 'mc', 'cg', 'gr', 're', 'ee', 'ev', 'vy', 'y8', '82', '27', '71', '19', '94', '45'], 'predicted_two_grams': {'ra', 'st', '19'}, 'dice_similarity': 0.0952}, {'uid': '8466', 'actual_two_grams': ['di', 'ia', 'an', 'ne', 'eb', 'bi', 'is', 'ss', 'se', 'et', 'tt', 'te', 'e8', '81', '14', '42', '20', '00', '03'], 'predicted_two_grams': {'ra', 'st', '19'}, 'dice_similarity': 0.0}, {'uid': '92478', 'actual_two_grams': ['je', 'er', 'ra', 'al', 'ld', 'dh', 'he', 'en', 'nd', 'de', 'er', 'rs', 'so', 'on', 'n9', '92', '29', '91', '19', '99', '98'], 'predicted_two_grams': {'ra', 'st', '19'}, 'dice_similarity': 0.1739}, {'uid': '34365', 'actual_two_grams': ['el', 'll', 'la', 'ab', 'bl', 'la', 'an', 'nc', 'ch', 'ha', 'ar', 'rd', 'd9', '93', '30', '01', '19', '94', '41'], 'predicted_two_grams': {'ra', 'st', '19'}, 'dice_similarity': 0.0952}, {'uid': '44863', 'actual_two_grams': ['ma', 'ar', 'rj', 'jo', 'or', 'ri', 'ie', 'ek', 'ko', 'ov', 'va', 'ar', 'r6', '61', '18', '81', '19', '93', '38'], 'predicted_two_grams': {'ra', 'st', '19'}, 'dice_similarity': 0.0952}, {'uid': '88065', 'actual_two_grams': ['al', 'la', 'an', 'nm', 'mc', 'cc', 'cl', 'la', 'ai', 'in', 'n6', '61', '16', '61', '19', '94', '49'], 'predicted_two_grams': {'ra', 'st', '19'}, 'dice_similarity': 0.1111}, {'uid': '92330', 'actual_two_grams': ['ju', 'ul', 'li', 'ia', 'ar', 'ro', 'od', 'dr', 'ri', 'ig', 'gu', 'ue', 'ez', 'z6', '61', '19', '91', '19', '98', '87'], 'predicted_two_grams': {'ra', 'st', '19'}, 'dice_similarity': 0.0909}, {'uid': '88811', 'actual_two_grams': ['lu', 'ui', 'is', 'sw', 'wh', 'hi', 'it', 'te', 'e7', '72', '20', '01', '19', '94', '47'], 'predicted_two_grams': {'ra', 'st', '19'}, 'dice_similarity': 0.1111}, {'uid': '13308', 'actual_two_grams': ['la', 'av', 'vo', 'on', 'nm', 'ma', 'ar', 'rt', 'ti', 'in', 'ne', 'ez', 'z8', '82', '27', '71', '19', '97', '74'], 'predicted_two_grams': {'ra', 'st', '19'}, 'dice_similarity': 0.0909}, {'uid': '90203', 'actual_two_grams': ['ma', 'ar', 'rc', 'ce', 'el', 'li', 'in', 'no', 'ov', 'va', 'an', 'nh', 'ho', 'oo', 'os', 'se', 'e5', '51', '13', '31', '19', '96', '64'], 'predicted_two_grams': {'ra', 'st', '19'}, 'dice_similarity': 0.0769}, {'uid': '5562', 'actual_two_grams': ['de', 'el', 'li', 'ia', 'ad', 'da', 'an', 'ni', 'ie', 'el', 'l4', '41', '12', '21', '19', '94', '45'], 'predicted_two_grams': {'ra', 'st', '19'}, 'dice_similarity': 0.1053}, {'uid': '9853', 'actual_two_grams': ['ma', 'at', 'tt', 'th', 'he', 'ew', 'wr', 'ro', 'op', 'pe', 'er', 'r2', '22', '22', '21', '19', '99', '98'], 'predicted_two_grams': {'ra', 'st', '19'}, 'dice_similarity': 0.1}, {'uid': '4175', 'actual_two_grams': ['be', 'ev', 've', 'er', 'rl', 'ly', 'yd', 'do', 'ot', 'ts', 'so', 'on', 'n1', '10', '01', '19', '91', '19', '98', '85'], 'predicted_two_grams': {'ra', 'st', '19'}, 'dice_similarity': 0.0909}, {'uid': '23663', 'actual_two_grams': ['ar', 'rt', 'th', 'hu', 'ur', 'rm', 'ma', 'ar', 'rt', 'ti', 'in', 'n1', '10', '02', '28', '81', '19', '96', '69'], 'predicted_two_grams': {'ra', 'st', '19'}, 'dice_similarity': 0.1}, {'uid': '35139', 'actual_two_grams': ['pa', 'at', 'tr', 'ri', 'ic', 'ci', 'ia', 'ah', 'ho', 'or', 'rt', 'to', 'on', 'n7', '73', '31', '11', '19', '98', '88'], 'predicted_two_grams': {'ra', 'st', '19'}, 'dice_similarity': 0.087}, {'uid': '47395', 'actual_two_grams': ['do', 'on', 'na', 'al', 'ld', 'df', 'fe', 'er', 'rg', 'gu', 'us', 's9', '92', '20', '01', '19', '97', '74'], 'predicted_two_grams': {'ra', 'st', '19'}, 'dice_similarity': 0.0952}, {'uid': '35446', 'actual_two_grams': ['da', 'av', 'vi', 'id', 'dm', 'ma', 'as', 'so', 'on', 'n3', '31', '14', '41', '19', '95', '55'], 'predicted_two_grams': {'ra', 'st', '19'}, 'dice_similarity': 0.1053}, {'uid': '32098', 'actual_two_grams': ['ma', 'ar', 'rg', 'ga', 'ar', 're', 'et', 'tt', 'tu', 'ur', 'rn', 'ne', 'er', 'r1', '12', '22', '25', '51', '19', '97', '75'], 'predicted_two_grams': {'ra', 'st', '19'}, 'dice_similarity': 0.087}, {'uid': '45139', 'actual_two_grams': ['ma', 'ar', 'ry', 'yb', 'bu', 'ut', 'tl', 'le', 'er', 'r3', '32', '20', '01', '19', '97', '71'], 'predicted_two_grams': {'ra', 'st', '19'}, 'dice_similarity': 0.1053}, {'uid': '65142', 'actual_two_grams': ['an', 'nn', 'ni', 'ie', 'eh', 'hy', 'yd', 'de', 'e4', '42', '23', '31', '19', '94', '49'], 'predicted_two_grams': {'ra', 'st', '19'}, 'dice_similarity': 0.1111}, {'uid': '83263', 'actual_two_grams': ['co', 'on', 'nc', 'ce', 'et', 'tt', 'ta', 'af', 'fo', 'or', 'rb', 'be', 'es', 's8', '82', '24', '41', '19', '95', '52'], 'predicted_two_grams': {'ra', 'st', '19'}, 'dice_similarity': 0.087}, {'uid': '26353', 'actual_two_grams': ['me', 'el', 'lv', 'vi', 'in', 'nh', 'hi', 'il', 'll', 'l3', '31', '13', '31', '19', '94', '43'], 'predicted_two_grams': {'ra', 'st', '19'}, 'dice_similarity': 0.1111}, {'uid': '37506', 'actual_two_grams': ['la', 'au', 'ur', 'ra', 'at', 'to', 'ov', 'va', 'ar', 'r4', '41', '13', '31', '19', '95', '52'], 'predicted_two_grams': {'ra', 'st', '19'}, 'dice_similarity': 0.2105}, {'uid': '5136', 'actual_two_grams': ['ka', 'at', 'tr', 'ri', 'in', 'na', 'ab', 'bu', 'ur', 'rt', 'to', 'on', 'n1', '11', '11', '19', '91', '19', '98', '80'], 'predicted_two_grams': {'ra', 'st', '19'}, 'dice_similarity': 0.0952}, {'uid': '93608', 'actual_two_grams': ['ho', 'or', 'rt', 'te', 'en', 'nc', 'ci', 'ia', 'al', 'la', 'ab', 'ba', 'ar', 'rr', 're', 'e3', '31', '15', '51', '19', '98', '82'], 'predicted_two_grams': {'ra', 'st', '19'}, 'dice_similarity': 0.08}, {'uid': '15493', 'actual_two_grams': ['al', 'lo', 'on', 'nz', 'zo', 'on', 'ne', 'el', 'ls', 'so', 'on', 'n1', '12', '22', '26', '61', '19', '99', '98'], 'predicted_two_grams': {'ra', 'st', '19'}, 'dice_similarity': 0.1}, {'uid': '51702', 'actual_two_grams': ['ju', 'ul', 'li', 'ie', 'em', 'mi', 'il', 'll', 'le', 'er', 'r2', '22', '28', '81', '19', '98', '89'], 'predicted_two_grams': {'ra', 'st', '19'}, 'dice_similarity': 0.1}, {'uid': '55970', 'actual_two_grams': ['de', 'en', 'nn', 'ni', 'is', 'sj', 'ja', 'ac', 'ck', 'ks', 'so', 'on', 'n1', '10', '02', '23', '31', '19', '97', '70'], 'predicted_two_grams': {'ra', 'st', '19'}, 'dice_similarity': 0.087}, {'uid': '83181', 'actual_two_grams': ['sc', 'co', 'ot', 'tt', 'tp', 'ph', 'hi', 'il', 'll', 'li', 'ip', 'ps', 's3', '35', '51', '19', '93', '39'], 'predicted_two_grams': {'ra', 'st', '19'}, 'dice_similarity': 0.0952}, {'uid': '48285', 'actual_two_grams': ['an', 'ng', 'ge', 'el', 'la', 'aw', 'wi', 'il', 'ld', 'de', 'e1', '12', '23', '31', '11', '19', '97', '76'], 'predicted_two_grams': {'ra', 'st', '19'}, 'dice_similarity': 0.0952}, {'uid': '63866', 'actual_two_grams': ['sa', 'am', 'mu', 'ue', 'el', 'lr', 're', 'ee', 'ed', 'd1', '12', '21', '11', '11', '19', '98', '85'], 'predicted_two_grams': {'ra', 'st', '19'}, 'dice_similarity': 0.1053}, {'uid': '71515', 'actual_two_grams': ['ha', 'ar', 'rv', 've', 'ey', 'yf', 'fe', 'ee', 'en', 'ne', 'ey', 'y7', '71', '16', '61', '19', '97', '77'], 'predicted_two_grams': {'ra', 'st', '19'}, 'dice_similarity': 0.1}, {'uid': '65854', 'actual_two_grams': ['ro', 'ob', 'be', 'er', 'rt', 'ta', 'am', 'ma', 'at', 'to', 'o1', '15', '51', '19', '94', '43'], 'predicted_two_grams': {'ra', 'st', '19'}, 'dice_similarity': 0.1053}, {'uid': '57832', 'actual_two_grams': ['br', 'ri', 'it', 'tt', 'ta', 'an', 'ny', 'yc', 'ch', 'hr', 'ri', 'is', 'st', 'ti', 'ia', 'an', 'n5', '54', '41', '19', '98', '84'], 'predicted_two_grams': {'ra', 'st', '19'}, 'dice_similarity': 0.1739}, {'uid': '5162', 'actual_two_grams': ['fr', 'ra', 'an', 'nc', 'ce', 'es', 'sj', 'ja', 'ac', 'co', 'ob', 'bs', 's1', '11', '12', '29', '91', '19', '99', '93'], 'predicted_two_grams': {'ra', 'st', '19'}, 'dice_similarity': 0.1739}, {'uid': '59014', 'actual_two_grams': ['th', 'ho', 'om', 'ma', 'as', 'sa', 'an', 'nd', 'de', 'er', 'rs', 'so', 'on', 'n1', '11', '11', '16', '61', '19', '96', '67'], 'predicted_two_grams': {'ra', 'st', '19'}, 'dice_similarity': 0.087}, {'uid': '49348', 'actual_two_grams': ['ma', 'ar', 'rt', 'th', 'ha', 'am', 'mo', 'oo', 'od', 'dy', 'y8', '89', '91', '19', '94', '48'], 'predicted_two_grams': {'ra', 'st', '19'}, 'dice_similarity': 0.1053}, {'uid': '10366', 'actual_two_grams': ['jo', 'oe', 'el', 'lg', 'ga', 'ai', 'in', 'n6', '69', '91', '19', '96', '60'], 'predicted_two_grams': {'ra', 'st', '19'}, 'dice_similarity': 0.125}, {'uid': '35737', 'actual_two_grams': ['ta', 'am', 'ma', 'ar', 'ra', 'af', 'fo', 'ot', 'ti', 'i9', '98', '81', '19', '97', '79'], 'predicted_two_grams': {'ra', 'st', '19'}, 'dice_similarity': 0.2222}, {'uid': '43082', 'actual_two_grams': ['te', 'er', 'rr', 'ri', 'il', 'lo', 'op', 'pe', 'ez', 'z9', '91', '12', '21', '19', '96', '64'], 'predicted_two_grams': {'ra', 'st', '19'}, 'dice_similarity': 0.1053}, {'uid': '19764', 'actual_two_grams': ['ma', 'ar', 'rk', 'kl', 'le', 'ea', 'a6', '61', '10', '01', '19', '99', '95'], 'predicted_two_grams': {'ra', 'st', '19'}, 'dice_similarity': 0.125}, {'uid': '71211', 'actual_two_grams': ['to', 'om', 'mh', 'ha', 'ar', 'rr', 'ri', 'is', 'so', 'on', 'n2', '22', '25', '51', '19', '96', '69'], 'predicted_two_grams': {'ra', 'st', '19'}, 'dice_similarity': 0.1}, {'uid': '70686', 'actual_two_grams': ['el', 'li', 'iz', 'za', 'ab', 'be', 'et', 'th', 'hg', 'gr', 're', 'ee', 'en', 'ne', 'e9', '93', '30', '01', '19', '94', '43'], 'predicted_two_grams': {'ra', 'st', '19'}, 'dice_similarity': 0.0833}, {'uid': '93440', 'actual_two_grams': ['ha', 'ar', 'ro', 'ol', 'ld', 'dw', 'wo', 'oo', 'od', 'ds', 's3', '32', '22', '21', '19', '97', '77'], 'predicted_two_grams': {'ra', 'st', '19'}, 'dice_similarity': 0.1}, {'uid': '56270', 'actual_two_grams': ['ed', 'dw', 'wa', 'ar', 'rd', 'dj', 'jo', 'oh', 'hn', 'ns', 'so', 'on', 'n2', '22', '21', '11', '19', '96', '60'], 'predicted_two_grams': {'ra', 'st', '19'}, 'dice_similarity': 0.0909}, {'uid': '27855', 'actual_two_grams': ['ka', 'at', 'th', 'hl', 'le', 'ee', 'en', 'ns', 'sa', 'ao', 'o3', '31', '10', '01', '19', '94', '44'], 'predicted_two_grams': {'ra', 'st', '19'}, 'dice_similarity': 0.1}, {'uid': '50587', 'actual_two_grams': ['br', 're', 'en', 'nd', 'da', 'ab', 'ba', 'ar', 'rn', 'ne', 'es', 's1', '11', '11', '12', '21', '19', '94', '46'], 'predicted_two_grams': {'ra', 'st', '19'}, 'dice_similarity': 0.0952}, {'uid': '36761', 'actual_two_grams': ['ma', 'ar', 'rk', 'kt', 'ta', 'an', 'nn', 'ne', 'er', 'r9', '91', '16', '62', '20', '00', '02'], 'predicted_two_grams': {'ra', 'st', '19'}, 'dice_similarity': 0.0}, {'uid': '95362', 'actual_two_grams': ['ma', 'ar', 'ry', 'yh', 'ho', 'ow', 'wa', 'ar', 'rd', 'd7', '73', '31', '19', '97', '73'], 'predicted_two_grams': {'ra', 'st', '19'}, 'dice_similarity': 0.125}, {'uid': '21334', 'actual_two_grams': ['th', 'ho', 'om', 'ma', 'as', 'sb', 'bo', 'on', 'ne', 'e3', '31', '17', '71', '19', '99', '95'], 'predicted_two_grams': {'ra', 'st', '19'}, 'dice_similarity': 0.1053}, {'uid': '59175', 'actual_two_grams': ['ja', 'am', 'me', 'es', 'sh', 'hi', 'il', 'll', 'l3', '32', '24', '41', '19', '98', '80'], 'predicted_two_grams': {'ra', 'st', '19'}, 'dice_similarity': 0.1111}, {'uid': '74038', 'actual_two_grams': ['pa', 'at', 'tr', 'ri', 'ic', 'ci', 'ia', 'ah', 'ha', 'an', 'nf', 'fo', 'or', 'rd', 'd1', '10', '03', '31', '11', '19', '94', '49'], 'predicted_two_grams': {'ra', 'st', '19'}, 'dice_similarity': 0.08}, {'uid': '15566', 'actual_two_grams': ['ch', 'ha', 'ar', 'rl', 'le', 'es', 'sm', 'mc', 'cm', 'mi', 'il', 'll', 'li', 'ia', 'an', 'n1', '11', '12', '29', '91', '19', '99', '91'], 'predicted_two_grams': {'ra', 'st', '19'}, 'dice_similarity': 0.08}, {'uid': '64942', 'actual_two_grams': ['an', 'nn', 'ne', 'em', 'ma', 'ar', 'ri', 'ie', 'ew', 'wr', 'ri', 'ig', 'gh', 'ht', 't1', '11', '11', '12', '21', '19', '99', '95'], 'predicted_two_grams': {'ra', 'st', '19'}, 'dice_similarity': 0.087}, {'uid': '24853', 'actual_two_grams': ['li', 'in', 'nd', 'da', 'ah', 'ho', 'or', 'rg', 'ga', 'an', 'n4', '41', '10', '01', '19', '95', '55'], 'predicted_two_grams': {'ra', 'st', '19'}, 'dice_similarity': 0.1}, {'uid': '27824', 'actual_two_grams': ['mi', 'ic', 'ch', 'ha', 'ae', 'el', 'lw', 'wi', 'il', 'lc', 'co', 'ox', 'x1', '10', '01', '16', '61', '19', '99', '92'], 'predicted_two_grams': {'ra', 'st', '19'}, 'dice_similarity': 0.087}, {'uid': '22090', 'actual_two_grams': ['da', 'al', 'le', 'es', 'sm', 'mi', 'it', 'th', 'h9', '92', '28', '81', '19', '94', '40'], 'predicted_two_grams': {'ra', 'st', '19'}, 'dice_similarity': 0.1111}, {'uid': '46378', 'actual_two_grams': ['ka', 'ar', 're', 'en', 'nb', 'br', 'ro', 'ow', 'wn', 'n3', '31', '18', '81', '19', '99', '99'], 'predicted_two_grams': {'ra', 'st', '19'}, 'dice_similarity': 0.1111}, {'uid': '71416', 'actual_two_grams': ['ke', 'en', 'nn', 'ne', 'et', 'th', 'hj', 'ja', 'ac', 'ck', 'ks', 'so', 'on', 'n4', '42', '21', '11', '19', '98', '85'], 'predicted_two_grams': {'ra', 'st', '19'}, 'dice_similarity': 0.087}, {'uid': '73325', 'actual_two_grams': ['ev', 've', 'er', 're', 'et', 'tt', 'ta', 'ag', 'gu', 'ui', 'il', 'le', 'er', 'ra', 'a3', '31', '13', '31', '19', '95', '59'], 'predicted_two_grams': {'ra', 'st', '19'}, 'dice_similarity': 0.1818}, {'uid': '78196', 'actual_two_grams': ['ti', 'if', 'ff', 'fa', 'an', 'ny', 'yt', 'ta', 'an', 'n4', '41', '14', '41', '19', '99', '96'], 'predicted_two_grams': {'ra', 'st', '19'}, 'dice_similarity': 0.1176}, {'uid': '62338', 'actual_two_grams': ['ga', 'ar', 'ry', 'yc', 'ch', 'hu', 'ur', 'rc', 'ch', 'h9', '91', '12', '21', '19', '98', '80'], 'predicted_two_grams': {'ra', 'st', '19'}, 'dice_similarity': 0.1111}, {'uid': '40303', 'actual_two_grams': ['ma', 'ar', 'rk', 'kr', 'ri', 'in', 'ng', 'g7', '72', '26', '61', '19', '96', '69'], 'predicted_two_grams': {'ra', 'st', '19'}, 'dice_similarity': 0.1176}, {'uid': '83883', 'actual_two_grams': ['je', 'en', 'nn', 'ni', 'if', 'fe', 'er', 'rh', 'hu', 'ut', 'tc', 'ch', 'hi', 'in', 'ns', 's3', '39', '91', '19', '97', '76'], 'predicted_two_grams': {'ra', 'st', '19'}, 'dice_similarity': 0.0833}, {'uid': '50380', 'actual_two_grams': ['ba', 'ar', 'rb', 'ba', 'ar', 'ra', 'ab', 'by', 'yr', 'rd', 'd8', '83', '30', '01', '19', '98', '85'], 'predicted_two_grams': {'ra', 'st', '19'}, 'dice_similarity': 0.2222}, {'uid': '33403', 'actual_two_grams': ['eu', 'ug', 'ge', 'en', 'ne', 'ep', 'pl', 'la', 'ai', 'is', 'st', 'te', 'ed', 'd7', '72', '29', '91', '19', '95', '51'], 'predicted_two_grams': {'ra', 'st', '19'}, 'dice_similarity': 0.1739}, {'uid': '14557', 'actual_two_grams': ['je', 'en', 'nn', 'ni', 'if', 'fe', 'er', 'rf', 'fl', 'ly', 'yn', 'nn', 'n3', '33', '31', '11', '19', '99', '93'], 'predicted_two_grams': {'ra', 'st', '19'}, 'dice_similarity': 0.0952}, {'uid': '34602', 'actual_two_grams': ['he', 'en', 'nr', 'ry', 'yr', 'ro', 'os', 'ss', 's2', '22', '21', '11', '19', '98', '80'], 'predicted_two_grams': {'ra', 'st', '19'}, 'dice_similarity': 0.1111}, {'uid': '2524', 'actual_two_grams': ['to', 'on', 'ni', 'ik', 'ke', 'ea', 'an', 'ne', 'e4', '41', '12', '21', '19', '94', '47'], 'predicted_two_grams': {'ra', 'st', '19'}, 'dice_similarity': 0.1111}, {'uid': '73463', 'actual_two_grams': ['ro', 'og', 'ge', 'er', 'rj', 'jo', 'oh', 'hn', 'ns', 'so', 'on', 'n3', '32', '21', '11', '19', '98', '82'], 'predicted_two_grams': {'ra', 'st', '19'}, 'dice_similarity': 0.0952}, {'uid': '26139', 'actual_two_grams': ['he', 'ec', 'ct', 'to', 'or', 'rm', 'mc', 'cc', 'cr', 'ra', 'ay', 'y7', '71', '10', '01', '19', '96', '67'], 'predicted_two_grams': {'ra', 'st', '19'}, 'dice_similarity': 0.1905}, {'uid': '18828', 'actual_two_grams': ['ha', 'an', 'ns', 'ss', 'si', 'in', 'nc', 'cl', 'la', 'ai', 'ir', 'r9', '92', '21', '19', '98', '81'], 'predicted_two_grams': {'ra', 'st', '19'}, 'dice_similarity': 0.1}, {'uid': '30193', 'actual_two_grams': ['ba', 'ar', 'rb', 'ba', 'ar', 'ra', 'aa', 'at', 'tk', 'ki', 'in', 'ns', 's9', '92', '20', '01', '19', '99', '90'], 'predicted_two_grams': {'ra', 'st', '19'}, 'dice_similarity': 0.2}, {'uid': '36903', 'actual_two_grams': ['sh', 'ha', 'an', 'nn', 'no', 'on', 'nh', 'he', 'er', 'rn', 'na', 'an', 'nd', 'de', 'ez', 'z3', '32', '23', '31', '19', '97', '76'], 'predicted_two_grams': {'ra', 'st', '19'}, 'dice_similarity': 0.0833}, {'uid': '32326', 'actual_two_grams': ['jo', 'os', 'se', 'ep', 'ph', 'hb', 'br', 'ro', 'oo', 'ok', 'ks', 's6', '61', '10', '01', '19', '96', '61'], 'predicted_two_grams': {'ra', 'st', '19'}, 'dice_similarity': 0.1}, {'uid': '46067', 'actual_two_grams': ['wi', 'il', 'll', 'li', 'ia', 'am', 'mg', 'gr', 're', 'eg', 'go', 'or', 'ry', 'y1', '10', '02', '20', '01', '19', '96', '66'], 'predicted_two_grams': {'ra', 'st', '19'}, 'dice_similarity': 0.0833}, {'uid': '89370', 'actual_two_grams': ['je', 'ew', 'we', 'el', 'lc', 'ca', 'am', 'mp', 'pb', 'be', 'el', 'll', 'l1', '11', '17', '71', '19', '98', '82'], 'predicted_two_grams': {'ra', 'st', '19'}, 'dice_similarity': 0.0952}, {'uid': '50856', 'actual_two_grams': ['do', 'on', 'na', 'al', 'ld', 'dt', 'th', 'ho', 'om', 'ma', 'as', 's1', '11', '19', '91', '19', '97', '71'], 'predicted_two_grams': {'ra', 'st', '19'}, 'dice_similarity': 0.1}, {'uid': '22487', 'actual_two_grams': ['cl', 'la', 'ar', 're', 'en', 'nc', 'ce', 'eg', 'gr', 'ri', 'if', 'ff', 'fi', 'it', 'th', 'h7', '72', '29', '91', '19', '98', '89'], 'predicted_two_grams': {'ra', 'st', '19'}, 'dice_similarity': 0.08}, {'uid': '49806', 'actual_two_grams': ['do', 'or', 'ro', 'ot', 'th', 'hy', 'yp', 'pe', 'et', 'te', 'er', 'rs', 'so', 'on', 'n1', '10', '01', '11', '19', '99', '93'], 'predicted_two_grams': {'ra', 'st', '19'}, 'dice_similarity': 0.0833}, {'uid': '60903', 'actual_two_grams': ['ch', 'ha', 'ar', 'rl', 'le', 'es', 'sm', 'mi', 'il', 'll', 'le', 'er', 'r7', '72', '27', '71', '19', '96', '64'], 'predicted_two_grams': {'ra', 'st', '19'}, 'dice_similarity': 0.0952}, {'uid': '53100', 'actual_two_grams': ['la', 'ar', 'rr', 'ry', 'ym', 'me', 'en', 'nd', 'de', 'ez', 'z1', '11', '11', '11', '11', '19', '96', '64'], 'predicted_two_grams': {'ra', 'st', '19'}, 'dice_similarity': 0.1111}, {'uid': '65375', 'actual_two_grams': ['ju', 'ua', 'an', 'ni', 'it', 'ta', 'ao', 'od', 'de', 'en', 'n1', '13', '31', '19', '94', '49'], 'predicted_two_grams': {'ra', 'st', '19'}, 'dice_similarity': 0.1053}, {'uid': '57301', 'actual_two_grams': ['ja', 'as', 'so', 'on', 'nh', 'ha', 'am', 'mm', 'mo', 'on', 'nd', 'd8', '81', '16', '62', '20', '00', '00'], 'predicted_two_grams': {'ra', 'st', '19'}, 'dice_similarity': 0.0}, {'uid': '6592', 'actual_two_grams': ['la', 'au', 'ur', 'ra', 'ab', 'ba', 'al', 'll', 'l1', '12', '21', '19', '94', '47'], 'predicted_two_grams': {'ra', 'st', '19'}, 'dice_similarity': 0.2353}, {'uid': '80488', 'actual_two_grams': ['br', 'ra', 'ad', 'dy', 'ys', 'sa', 'an', 'nd', 'de', 'er', 'rs', 's3', '31', '18', '81', '19', '99', '94'], 'predicted_two_grams': {'ra', 'st', '19'}, 'dice_similarity': 0.1905}, {'uid': '82076', 'actual_two_grams': ['sa', 'am', 'ma', 'an', 'nt', 'th', 'ha', 'ab', 'bl', 'la', 'ai', 'ir', 'r5', '57', '71', '19', '94', '43'], 'predicted_two_grams': {'ra', 'st', '19'}, 'dice_similarity': 0.0952}, {'uid': '49568', 'actual_two_grams': ['he', 'en', 'nr', 'ry', 'ys', 'sa', 'av', 'va', 'ag', 'ge', 'e2', '25', '51', '19', '94', '44'], 'predicted_two_grams': {'ra', 'st', '19'}, 'dice_similarity': 0.1053}, {'uid': '71906', 'actual_two_grams': ['ch', 'ha', 'ad', 'dn', 'ne', 'ew', 'wb', 'by', 'y5', '51', '19', '91', '19', '97', '72'], 'predicted_two_grams': {'ra', 'st', '19'}, 'dice_similarity': 0.1176}, {'uid': '87720', 'actual_two_grams': ['fr', 'ra', 'an', 'nc', 'ce', 'es', 'sr', 're', 'en', 'na', 'ar', 'rd', 'd2', '21', '14', '41', '19', '97', '73'], 'predicted_two_grams': {'ra', 'st', '19'}, 'dice_similarity': 0.1818}, {'uid': '52314', 'actual_two_grams': ['ja', 'am', 'me', 'es', 'sc', 'cu', 'um', 'mm', 'mi', 'in', 'ng', 'gs', 's1', '13', '31', '19', '99', '95'], 'predicted_two_grams': {'ra', 'st', '19'}, 'dice_similarity': 0.0952}, {'uid': '55316', 'actual_two_grams': ['to', 'om', 'mm', 'my', 'yb', 'bu', 'us', 'sh', 'h1', '10', '03', '31', '19', '99', '92'], 'predicted_two_grams': {'ra', 'st', '19'}, 'dice_similarity': 0.1111}, {'uid': '45085', 'actual_two_grams': ['do', 'on', 'nn', 'ne', 'es', 'ss', 's9', '92', '22', '21', '19', '96', '67'], 'predicted_two_grams': {'ra', 'st', '19'}, 'dice_similarity': 0.125}, {'uid': '68687', 'actual_two_grams': ['sa', 'am', 'mu', 'ue', 'el', 'lt', 'th', 'ho', 'om', 'mp', 'ps', 'so', 'on', 'n5', '52', '29', '91', '19', '97', '77'], 'predicted_two_grams': {'ra', 'st', '19'}, 'dice_similarity': 0.087}, {'uid': '4674', 'actual_two_grams': ['de', 'ea', 'an', 'nn', 'ne', 'ec', 'ch', 'hu', 'un', 'n6', '63', '31', '19', '96', '67'], 'predicted_two_grams': {'ra', 'st', '19'}, 'dice_similarity': 0.1111}, {'uid': '87747', 'actual_two_grams': ['ja', 'ac', 'ck', 'ki', 'ie', 'eg', 'gr', 're', 'ee', 'en', 'nb', 'ba', 'au', 'um', 'm1', '10', '01', '15', '51', '19', '99', '94'], 'predicted_two_grams': {'ra', 'st', '19'}, 'dice_similarity': 0.08}, {'uid': '19056', 'actual_two_grams': ['mi', 'ic', 'ch', 'ha', 'ae', 'el', 'lg', 'gr', 're', 'en', 'ni', 'ie', 'er', 'r3', '32', '25', '51', '19', '95', '56'], 'predicted_two_grams': {'ra', 'st', '19'}, 'dice_similarity': 0.087}, {'uid': '14249', 'actual_two_grams': ['ro', 'og', 'ge', 'er', 'rt', 'ty', 'yl', 'le', 'er', 'r3', '32', '23', '31', '19', '97', '76'], 'predicted_two_grams': {'ra', 'st', '19'}, 'dice_similarity': 0.1111}, {'uid': '22753', 'actual_two_grams': ['jo', 'os', 'sh', 'hu', 'ua', 'al', 'li', 'im', 'ma', 'a3', '32', '22', '21', '19', '99', '90'], 'predicted_two_grams': {'ra', 'st', '19'}, 'dice_similarity': 0.1053}, {'uid': '55632', 'actual_two_grams': ['ra', 'al', 'lp', 'ph', 'hm', 'ma', 'an', 'nu', 'ue', 'el', 'l1', '11', '12', '27', '71', '19', '96', '61'], 'predicted_two_grams': {'ra', 'st', '19'}, 'dice_similarity': 0.1905}, {'uid': '55004', 'actual_two_grams': ['fr', 're', 'ed', 'db', 'bu', 'ur', 'rt', 'to', 'on', 'n5', '51', '10', '01', '19', '95', '59'], 'predicted_two_grams': {'ra', 'st', '19'}, 'dice_similarity': 0.1053}, {'uid': '81894', 'actual_two_grams': ['ka', 'ay', 'yl', 'la', 'ah', 'hu', 'ug', 'gh', 'he', 'es', 's1', '11', '16', '61', '19', '99', '91'], 'predicted_two_grams': {'ra', 'st', '19'}, 'dice_similarity': 0.1}, {'uid': '91182', 'actual_two_grams': ['ma', 'ar', 'rl', 'le', 'en', 'ne', 'ek', 'ki', 'il', 'lg', 'go', 'or', 're', 'e7', '75', '51', '19', '99', '95'], 'predicted_two_grams': {'ra', 'st', '19'}, 'dice_similarity': 0.0909}, {'uid': '97330', 'actual_two_grams': ['ze', 'el', 'lm', 'ma', 'aw', 'wa', 'ag', 'gn', 'ne', 'er', 'r1', '10', '01', '16', '61', '19', '94', '44'], 'predicted_two_grams': {'ra', 'st', '19'}, 'dice_similarity': 0.0952}, {'uid': '6681', 'actual_two_grams': ['ga', 'ar', 'ry', 'yh', 'hi', 'in', 'no', 'oj', 'jo', 'os', 'sa', 'a5', '59', '91', '19', '98', '85'], 'predicted_two_grams': {'ra', 'st', '19'}, 'dice_similarity': 0.1}, {'uid': '64759', 'actual_two_grams': ['la', 'ar', 'rr', 'ry', 'yr', 'ro', 'ob', 'bi', 'in', 'ns', 'so', 'on', 'n3', '32', '22', '21', '19', '95', '55'], 'predicted_two_grams': {'ra', 'st', '19'}, 'dice_similarity': 0.0909}, {'uid': '14632', 'actual_two_grams': ['ju', 'ul', 'li', 'ie', 'eb', 'bl', 'lo', 'oo', 'om', 'me', 'er', 'r1', '11', '19', '91', '19', '97', '72'], 'predicted_two_grams': {'ra', 'st', '19'}, 'dice_similarity': 0.1}, {'uid': '31552', 'actual_two_grams': ['ri', 'ic', 'ch', 'ha', 'ar', 'rd', 'dd', 'du', 'ut', 'tr', 'ra', 'a5', '53', '30', '01', '19', '99', '96'], 'predicted_two_grams': {'ra', 'st', '19'}, 'dice_similarity': 0.1905}, {'uid': '47088', 'actual_two_grams': ['em', 'mm', 'ma', 'ag', 'ga', 'ar', 'rc', 'ci', 'ia', 'a7', '71', '13', '31', '19', '98', '85'], 'predicted_two_grams': {'ra', 'st', '19'}, 'dice_similarity': 0.1053}, {'uid': '5450', 'actual_two_grams': ['as', 'sh', 'hl', 'le', 'ee', 'ef', 'fy', 'yf', 'fe', 'e1', '12', '22', '21', '19', '99', '90'], 'predicted_two_grams': {'ra', 'st', '19'}, 'dice_similarity': 0.1053}, {'uid': '78747', 'actual_two_grams': ['le', 'en', 'na', 'aw', 'wi', 'il', 'll', 'li', 'is', 's5', '52', '22', '21', '19', '98', '80'], 'predicted_two_grams': {'ra', 'st', '19'}, 'dice_similarity': 0.1053}, {'uid': '18844', 'actual_two_grams': ['da', 'av', 'vi', 'id', 'dm', 'mi', 'il', 'll', 'le', 'er', 'r6', '62', '25', '51', '19', '95', '50'], 'predicted_two_grams': {'ra', 'st', '19'}, 'dice_similarity': 0.1}, {'uid': '60237', 'actual_two_grams': ['ch', 'hr', 'ri', 'is', 'st', 'to', 'op', 'ph', 'he', 'er', 'rh', 'ha', 'ay', 'yd', 'do', 'on', 'n1', '11', '10', '01', '19', '97', '70'], 'predicted_two_grams': {'ra', 'st', '19'}, 'dice_similarity': 0.1538}, {'uid': '9764', 'actual_two_grams': ['ry', 'ya', 'an', 'nb', 'bu', 'ut', 'tl', 'le', 'er', 'r1', '11', '12', '21', '19', '96', '66'], 'predicted_two_grams': {'ra', 'st', '19'}, 'dice_similarity': 0.1053}, {'uid': '6523', 'actual_two_grams': ['tr', 'ra', 'ac', 'ce', 'ey', 'ys', 'si', 'il', 'le', 'er', 'r8', '81', '12', '21', '19', '94', '42'], 'predicted_two_grams': {'ra', 'st', '19'}, 'dice_similarity': 0.2}, {'uid': '99596', 'actual_two_grams': ['wi', 'il', 'll', 'li', 'ia', 'am', 'mv', 've', 'en', 'nt', 'tu', 'ur', 'ra', 'a5', '51', '16', '61', '19', '94', '45'], 'predicted_two_grams': {'ra', 'st', '19'}, 'dice_similarity': 0.1739}, {'uid': '53093', 'actual_two_grams': ['li', 'in', 'nd', 'da', 'av', 've', 'ei', 'ig', 'ga', 'a9', '91', '11', '11', '19', '97', '79'], 'predicted_two_grams': {'ra', 'st', '19'}, 'dice_similarity': 0.1111}, {'uid': '11247', 'actual_two_grams': ['vi', 'ir', 'rg', 'gi', 'in', 'ni', 'ia', 'ak', 'ke', 'ee', 'en', 'na', 'an', 'n3', '32', '29', '91', '19', '95', '59'], 'predicted_two_grams': {'ra', 'st', '19'}, 'dice_similarity': 0.087}, {'uid': '47246', 'actual_two_grams': ['bo', 'ob', 'bb', 'bi', 'it', 'ta', 'ay', 'yl', 'lo', 'or', 'r8', '81', '15', '51', '19', '97', '70'], 'predicted_two_grams': {'ra', 'st', '19'}, 'dice_similarity': 0.1}, {'uid': '37562', 'actual_two_grams': ['ro', 'ox', 'xa', 'an', 'nn', 'ne', 'ec', 'ca', 'am', 'mp', 'pb', 'be', 'el', 'll', 'l7', '72', '20', '01', '19', '96', '67'], 'predicted_two_grams': {'ra', 'st', '19'}, 'dice_similarity': 0.0833}, {'uid': '91995', 'actual_two_grams': ['sy', 'yd', 'dn', 'ne', 'ey', 'yg', 'gu', 'uz', 'zm', 'ma', 'an', 'n9', '91', '14', '41', '19', '98', '80'], 'predicted_two_grams': {'ra', 'st', '19'}, 'dice_similarity': 0.0952}, {'uid': '84501', 'actual_two_grams': ['un', 'na', 'ao', \"o'\", \"'s\", 'su', 'ul', 'll', 'li', 'iv', 'va', 'an', 'n2', '22', '22', '21', '19', '96', '67'], 'predicted_two_grams': {'ra', 'st', '19'}, 'dice_similarity': 0.0952}, {'uid': '41681', 'actual_two_grams': ['yo', 'ol', 'la', 'an', 'nd', 'da', 'ad', 'di', 'ic', 'ck', 'ki', 'is', 'so', 'on', 'n8', '83', '31', '19', '96', '69'], 'predicted_two_grams': {'ra', 'st', '19'}, 'dice_similarity': 0.087}, {'uid': '67652', 'actual_two_grams': ['sa', 'an', 'nd', 'dr', 'ra', 'aj', 'jo', 'oh', 'hn', 'ns', 'so', 'on', 'n2', '22', '20', '01', '19', '94', '46'], 'predicted_two_grams': {'ra', 'st', '19'}, 'dice_similarity': 0.1818}, {'uid': '74296', 'actual_two_grams': ['ho', 'ol', 'll', 'ly', 'yh', 'ho', 'oy', 'yt', 't5', '51', '16', '61', '19', '93', '39'], 'predicted_two_grams': {'ra', 'st', '19'}, 'dice_similarity': 0.1176}, {'uid': '5881', 'actual_two_grams': ['re', 'ei', 'in', 'na', 'ah', 'ha', 'an', 'nl', 'le', 'ey', 'y4', '47', '71', '19', '94', '49'], 'predicted_two_grams': {'ra', 'st', '19'}, 'dice_similarity': 0.1053}, {'uid': '5786', 'actual_two_grams': ['da', 'an', 'na', 'am', 'me', 'en', 'n7', '72', '28', '81', '19', '96', '65'], 'predicted_two_grams': {'ra', 'st', '19'}, 'dice_similarity': 0.125}, {'uid': '28671', 'actual_two_grams': ['ma', 'ar', 'ri', 'ia', 'ab', 'bo', 'ot', 'tt', 'ts', 's6', '61', '10', '01', '19', '94', '41'], 'predicted_two_grams': {'ra', 'st', '19'}, 'dice_similarity': 0.1053}, {'uid': '20788', 'actual_two_grams': ['al', 'li', 'is', 'ss', 'sa', 'as', 'st', 'to', 'oc', 'ck', 'km', 'ma', 'an', 'n5', '51', '12', '21', '19', '96', '69'], 'predicted_two_grams': {'ra', 'st', '19'}, 'dice_similarity': 0.1739}, {'uid': '24302', 'actual_two_grams': ['ka', 'at', 'th', 'hl', 'le', 'ee', 'en', 'nn', 'na', 'ap', 'pp', 'pe', 'er', 'r3', '32', '21', '11', '19', '97', '77'], 'predicted_two_grams': {'ra', 'st', '19'}, 'dice_similarity': 0.087}, {'uid': '10905', 'actual_two_grams': ['ka', 'ay', 'yl', 'la', 'ah', 'ha', 'am', 'mm', 'm1', '18', '81', '19', '94', '47'], 'predicted_two_grams': {'ra', 'st', '19'}, 'dice_similarity': 0.1176}, {'uid': '30781', 'actual_two_grams': ['al', 'le', 'ex', 'xa', 'an', 'nd', 'de', 'er', 'rl', 'lo', 'ow', 'we', 'e3', '31', '10', '01', '19', '95', '50'], 'predicted_two_grams': {'ra', 'st', '19'}, 'dice_similarity': 0.0909}, {'uid': '95588', 'actual_two_grams': ['de', 'eb', 'br', 'ra', 'aj', 'ja', 'ac', 'ck', 'ks', 'so', 'on', 'n1', '12', '26', '61', '19', '94', '41'], 'predicted_two_grams': {'ra', 'st', '19'}, 'dice_similarity': 0.1905}, {'uid': '93848', 'actual_two_grams': ['ma', 'ar', 'ri', 'ie', 'ec', 'co', 'or', 'rn', 'nw', 'we', 'el', 'll', 'l1', '12', '21', '11', '19', '95', '54'], 'predicted_two_grams': {'ra', 'st', '19'}, 'dice_similarity': 0.0909}, {'uid': '52283', 'actual_two_grams': ['re', 'en', 'ne', 'em', 'mi', 'il', 'le', 'es', 's2', '21', '14', '41', '19', '97', '70'], 'predicted_two_grams': {'ra', 'st', '19'}, 'dice_similarity': 0.1111}, {'uid': '78943', 'actual_two_grams': ['jo', 'oy', 'yc', 'ce', 'eb', 'ba', 'ag', 'gl', 'le', 'ey', 'y7', '72', '29', '91', '19', '95', '51'], 'predicted_two_grams': {'ra', 'st', '19'}, 'dice_similarity': 0.1}, {'uid': '42413', 'actual_two_grams': ['jo', 'os', 'se', 'ep', 'ph', 'hi', 'in', 'ne', 'ed', 'di', 'ix', 'xo', 'on', 'n1', '11', '12', '25', '51', '19', '99', '98'], 'predicted_two_grams': {'ra', 'st', '19'}, 'dice_similarity': 0.0833}, {'uid': '57667', 'actual_two_grams': ['ev', 'va', 'as', 'sh', 'he', 'el', 'll', 'l2', '22', '23', '31', '19', '95', '51'], 'predicted_two_grams': {'ra', 'st', '19'}, 'dice_similarity': 0.1176}, {'uid': '53281', 'actual_two_grams': ['br', 'ra', 'an', 'nd', 'do', 'on', 'ns', 'si', 'im', 'mm', 'mo', 'on', 'ns', 's1', '10', '01', '18', '81', '19', '98', '87'], 'predicted_two_grams': {'ra', 'st', '19'}, 'dice_similarity': 0.1818}, {'uid': '79616', 'actual_two_grams': ['jo', 'oh', 'hn', 'na', 'al', 'lb', 'ba', 'ar', 'ra', 'ad', 'do', 'o1', '12', '21', '13', '31', '19', '95', '56'], 'predicted_two_grams': {'ra', 'st', '19'}, 'dice_similarity': 0.1818}, {'uid': '84802', 'actual_two_grams': ['be', 'et', 'tt', 'ty', 'yt', 'ta', 'ay', 'yl', 'lo', 'or', 'r8', '81', '17', '71', '19', '95', '53'], 'predicted_two_grams': {'ra', 'st', '19'}, 'dice_similarity': 0.1}, {'uid': '54706', 'actual_two_grams': ['ka', 'at', 'th', 'hl', 'le', 'ee', 'en', 'nh', 'hi', 'il', 'll', 'l1', '11', '12', '24', '41', '19', '99', '96'], 'predicted_two_grams': {'ra', 'st', '19'}, 'dice_similarity': 0.0909}, {'uid': '44425', 'actual_two_grams': ['su', 'us', 'sa', 'an', 'nc', 'ca', 'as', 'sa', 'ad', 'do', 'os', 's9', '91', '17', '71', '19', '95', '52'], 'predicted_two_grams': {'ra', 'st', '19'}, 'dice_similarity': 0.1}, {'uid': '6142', 'actual_two_grams': ['sh', 'hi', 'ir', 'rl', 'le', 'ey', 'yw', 'wi', 'is', 'se', 'e1', '12', '21', '19', '99', '96'], 'predicted_two_grams': {'ra', 'st', '19'}, 'dice_similarity': 0.1053}, {'uid': '46996', 'actual_two_grams': ['ph', 'hi', 'il', 'li', 'ip', 'pp', 'pe', 'el', 'la', 'ay', 'yo', 'o7', '71', '17', '71', '19', '94', '42'], 'predicted_two_grams': {'ra', 'st', '19'}, 'dice_similarity': 0.1}, {'uid': '70517', 'actual_two_grams': ['cl', 'la', 'ar', 're', 'en', 'nc', 'ce', 'eg', 'ga', 'am', 'mb', 'br', 're', 'el', 'll', 'l6', '62', '21', '11', '19', '98', '85'], 'predicted_two_grams': {'ra', 'st', '19'}, 'dice_similarity': 0.0833}, {'uid': '697', 'actual_two_grams': ['ha', 'az', 'ze', 'el', 'lr', 'ro', 'od', 'dr', 'ri', 'ig', 'gu', 'ue', 'ez', 'z8', '83', '31', '19', '97', '76'], 'predicted_two_grams': {'ra', 'st', '19'}, 'dice_similarity': 0.0909}, {'uid': '56667', 'actual_two_grams': ['le', 'ee', 'ej', 'jo', 'on', 'ne', 'es', 's7', '72', '21', '19', '94', '40'], 'predicted_two_grams': {'ra', 'st', '19'}, 'dice_similarity': 0.125}, {'uid': '37370', 'actual_two_grams': ['be', 'et', 'tt', 'ty', 'yc', 'co', 'or', 'rd', 'de', 'er', 'ro', 'o1', '10', '01', '11', '19', '96', '60'], 'predicted_two_grams': {'ra', 'st', '19'}, 'dice_similarity': 0.0952}, {'uid': '56831', 'actual_two_grams': ['vi', 'ic', 'ct', 'to', 'or', 'rr', 'ro', 'oh', 'hr', 'r2', '21', '16', '61', '19', '99', '96'], 'predicted_two_grams': {'ra', 'st', '19'}, 'dice_similarity': 0.1053}, {'uid': '7493', 'actual_two_grams': ['wi', 'il', 'lf', 'fr', 're', 'ed', 'dm', 'mc', 'cc', 'cu', 'ur', 'rl', 'le', 'ey', 'y1', '10', '01', '16', '61', '19', '96', '62'], 'predicted_two_grams': {'ra', 'st', '19'}, 'dice_similarity': 0.08}, {'uid': '68451', 'actual_two_grams': ['ma', 'at', 'tt', 'th', 'he', 'ew', 'wb', 'be', 'en', 'na', 'av', 'vi', 'id', 'de', 'es', 's9', '92', '26', '61', '19', '94', '41'], 'predicted_two_grams': {'ra', 'st', '19'}, 'dice_similarity': 0.08}, {'uid': '62692', 'actual_two_grams': ['pa', 'ab', 'bl', 'lo', 'oh', 'he', 'er', 'rn', 'na', 'an', 'nd', 'de', 'ez', 'z5', '51', '13', '31', '19', '97', '78'], 'predicted_two_grams': {'ra', 'st', '19'}, 'dice_similarity': 0.087}, {'uid': '73140', 'actual_two_grams': ['ma', 'ar', 'rg', 'ga', 'ar', 're', 'et', 'th', 'ho', 'oo', 'od', 'd1', '14', '41', '19', '97', '79'], 'predicted_two_grams': {'ra', 'st', '19'}, 'dice_similarity': 0.1053}, {'uid': '29446', 'actual_two_grams': ['ja', 'ac', 'ck', 'ki', 'ie', 'eg', 'gu', 'uz', 'zm', 'ma', 'an', 'n1', '11', '13', '30', '01', '19', '94', '47'], 'predicted_two_grams': {'ra', 'st', '19'}, 'dice_similarity': 0.0909}, {'uid': '64755', 'actual_two_grams': ['ri', 'ic', 'ch', 'ha', 'ar', 'rd', 'db', 'br', 'ro', 'ow', 'wn', 'n8', '81', '19', '91', '19', '93', '37'], 'predicted_two_grams': {'ra', 'st', '19'}, 'dice_similarity': 0.1}, {'uid': '9543', 'actual_two_grams': ['na', 'an', 'nc', 'cy', 'yo', 'or', 'rr', 'r1', '12', '20', '01', '19', '94', '40'], 'predicted_two_grams': {'ra', 'st', '19'}, 'dice_similarity': 0.1176}, {'uid': '37621', 'actual_two_grams': ['al', 'lm', 'ma', 'am', 'mo', 'ot', 'ty', 'yk', 'ka', 'a8', '87', '71', '19', '96', '64'], 'predicted_two_grams': {'ra', 'st', '19'}, 'dice_similarity': 0.1111}, {'uid': '58423', 'actual_two_grams': ['vi', 'ic', 'ct', 'to', 'or', 'rs', 'si', 'il', 'lv', 'va', 'a2', '21', '16', '61', '19', '98', '89'], 'predicted_two_grams': {'ra', 'st', '19'}, 'dice_similarity': 0.1}, {'uid': '60430', 'actual_two_grams': ['wa', 'al', 'lt', 'te', 'er', 'rl', 'ly', 'yn', 'nc', 'ch', 'h3', '32', '21', '11', '19', '94', '48'], 'predicted_two_grams': {'ra', 'st', '19'}, 'dice_similarity': 0.1}, {'uid': '85312', 'actual_two_grams': ['ra', 'ac', 'ch', 'he', 'el', 'lm', 'ma', 'au', 'ul', 'ld', 'di', 'in', 'n1', '12', '22', '22', '21', '19', '99', '94'], 'predicted_two_grams': {'ra', 'st', '19'}, 'dice_similarity': 0.1818}, {'uid': '40260', 'actual_two_grams': ['lu', 'uc', 'ci', 'in', 'nd', 'da', 'ak', 'kn', 'na', 'ap', 'pp', 'p1', '11', '13', '31', '19', '96', '65'], 'predicted_two_grams': {'ra', 'st', '19'}, 'dice_similarity': 0.0952}, {'uid': '8164', 'actual_two_grams': ['an', 'nn', 'ni', 'ie', 'eh', 'ho', 'ou', 'uc', 'ck', 'k8', '82', '21', '11', '19', '97', '73'], 'predicted_two_grams': {'ra', 'st', '19'}, 'dice_similarity': 0.1053}, {'uid': '50406', 'actual_two_grams': ['ca', 'ar', 'rr', 'ri', 'ie', 'ej', 'ju', 'us', 'st', 'tu', 'us', 's7', '76', '61', '19', '94', '46'], 'predicted_two_grams': {'ra', 'st', '19'}, 'dice_similarity': 0.2105}, {'uid': '20532', 'actual_two_grams': ['am', 'my', 'yn', 'na', 'ag', 'gy', 'y6', '61', '12', '21', '19', '99', '97'], 'predicted_two_grams': {'ra', 'st', '19'}, 'dice_similarity': 0.125}, {'uid': '17376', 'actual_two_grams': ['fr', 're', 'ed', 'da', 'as', 'si', 'in', 'ng', 'ge', 'er', 'r7', '71', '14', '41', '19', '98', '89'], 'predicted_two_grams': {'ra', 'st', '19'}, 'dice_similarity': 0.1}, {'uid': '63880', 'actual_two_grams': ['jo', 'oe', 'el', 'lb', 'bu', 'ur', 'rl', 'le', 'ey', 'y1', '12', '21', '19', '91', '19', '96', '67'], 'predicted_two_grams': {'ra', 'st', '19'}, 'dice_similarity': 0.1053}, {'uid': '42320', 'actual_two_grams': ['es', 'st', 'te', 'el', 'll', 'le', 'ea', 'an', 'nd', 'dr', 're', 'ew', 'ws', 's9', '96', '61', '19', '94', '43'], 'predicted_two_grams': {'ra', 'st', '19'}, 'dice_similarity': 0.1818}, {'uid': '24821', 'actual_two_grams': ['ed', 'di', 'it', 'th', 'hr', 'ro', 'oc', 'ck', 'k1', '11', '13', '30', '01', '19', '97', '77'], 'predicted_two_grams': {'ra', 'st', '19'}, 'dice_similarity': 0.1053}, {'uid': '93063', 'actual_two_grams': ['ch', 'hr', 'ri', 'is', 'st', 'to', 'op', 'ph', 'he', 'er', 'rc', 'cr', 'ra', 'am', 'me', 'er', 'r9', '91', '18', '81', '19', '94', '41'], 'predicted_two_grams': {'ra', 'st', '19'}, 'dice_similarity': 0.24}, {'uid': '89966', 'actual_two_grams': ['de', 'en', 'nn', 'ni', 'is', 'sv', 'vo', 'og', 'ge', 'el', 'l4', '47', '71', '19', '93', '38'], 'predicted_two_grams': {'ra', 'st', '19'}, 'dice_similarity': 0.1053}, {'uid': '46920', 'actual_two_grams': ['ch', 'ha', 'ar', 'rl', 'le', 'es', 'sw', 'wr', 'ri', 'ig', 'gh', 'ht', 't1', '12', '20', '01', '19', '95', '52'], 'predicted_two_grams': {'ra', 'st', '19'}, 'dice_similarity': 0.0909}, {'uid': '9218', 'actual_two_grams': ['ma', 'ar', 'ri', 'ia', 'an', 'nn', 'nc', 'cl', 'le', 'em', 'me', 'en', 'nt', 't7', '71', '10', '01', '19', '97', '74'], 'predicted_two_grams': {'ra', 'st', '19'}, 'dice_similarity': 0.087}, {'uid': '40477', 'actual_two_grams': ['ma', 'ar', 'ry', 'yp', 'pa', 'ar', 'rt', 'ti', 'id', 'da', 'a1', '10', '02', '20', '01', '19', '98', '80'], 'predicted_two_grams': {'ra', 'st', '19'}, 'dice_similarity': 0.1}, {'uid': '4145', 'actual_two_grams': ['am', 'me', 'el', 'li', 'ia', 'ad', 'de', 'es', 'sm', 'ma', 'ar', 'ra', 'ai', 'is', 's7', '71', '19', '91', '19', '96', '69'], 'predicted_two_grams': {'ra', 'st', '19'}, 'dice_similarity': 0.1739}, {'uid': '33688', 'actual_two_grams': ['la', 'ac', 'cy', 'ym', 'mo', 'or', 'rr', 'ri', 'is', 'ss', 'se', 'ey', 'y5', '53', '30', '01', '19', '96', '62'], 'predicted_two_grams': {'ra', 'st', '19'}, 'dice_similarity': 0.0909}, {'uid': '57159', 'actual_two_grams': ['fr', 'ra', 'an', 'nk', 'kh', 'hu', 'ug', 'ge', 'es', 's1', '11', '11', '11', '19', '98', '87'], 'predicted_two_grams': {'ra', 'st', '19'}, 'dice_similarity': 0.2353}, {'uid': '31857', 'actual_two_grams': ['er', 'ri', 'ic', 'cb', 'ba', 'ai', 'il', 'le', 'ey', 'y3', '31', '17', '71', '19', '94', '40'], 'predicted_two_grams': {'ra', 'st', '19'}, 'dice_similarity': 0.1053}, {'uid': '57846', 'actual_two_grams': ['an', 'nt', 'th', 'ho', 'on', 'ny', 'yl', 'le', 'ew', 'wi', 'is', 's1', '12', '21', '19', '91', '19', '99', '93'], 'predicted_two_grams': {'ra', 'st', '19'}, 'dice_similarity': 0.0952}, {'uid': '98926', 'actual_two_grams': ['ro', 'od', 'dn', 'ne', 'ey', 'yh', 'he', 'er', 'rn', 'nd', 'do', 'on', 'n2', '22', '25', '51', '19', '96', '61'], 'predicted_two_grams': {'ra', 'st', '19'}, 'dice_similarity': 0.0909}, {'uid': '40826', 'actual_two_grams': ['wi', 'il', 'll', 'li', 'ia', 'am', 'mc', 'co', 'oo', 'ol', 'le', 'ey', 'y4', '41', '16', '62', '20', '00', '01'], 'predicted_two_grams': {'ra', 'st', '19'}, 'dice_similarity': 0.0}, {'uid': '55047', 'actual_two_grams': ['ri', 'ic', 'ch', 'ha', 'ar', 'rd', 'dd', 'da', 'al', 'le', 'ey', 'y5', '51', '13', '31', '19', '94', '43'], 'predicted_two_grams': {'ra', 'st', '19'}, 'dice_similarity': 0.0952}, {'uid': '80319', 'actual_two_grams': ['be', 'et', 'tt', 'ty', 'yp', 'pl', 'la', 'an', 'nt', 't2', '24', '41', '19', '94', '46'], 'predicted_two_grams': {'ra', 'st', '19'}, 'dice_similarity': 0.1111}, {'uid': '3812', 'actual_two_grams': ['pa', 'au', 'ul', 'lv', 'va', 'al', 'le', 'er', 'ra', 'a1', '10', '01', '12', '21', '19', '97', '71'], 'predicted_two_grams': {'ra', 'st', '19'}, 'dice_similarity': 0.2}, {'uid': '33669', 'actual_two_grams': ['ch', 'hr', 'ri', 'is', 'st', 'ti', 'ia', 'an', 'no', 'ot', 'tt', 'to', 'o1', '12', '22', '27', '71', '19', '97', '76'], 'predicted_two_grams': {'ra', 'st', '19'}, 'dice_similarity': 0.1739}, {'uid': '20671', 'actual_two_grams': ['te', 'er', 'rr', 'ry', 'yw', 'wa', 'at', 'tk', 'ki', 'in', 'ns', 's1', '12', '22', '22', '21', '19', '96', '66'], 'predicted_two_grams': {'ra', 'st', '19'}, 'dice_similarity': 0.0952}, {'uid': '8449', 'actual_two_grams': ['ma', 'ar', 'ry', 'ys', 'sc', 'ch', 'ho', 'oc', 'ck', 'k4', '41', '14', '41', '19', '98', '81'], 'predicted_two_grams': {'ra', 'st', '19'}, 'dice_similarity': 0.1111}, {'uid': '57878', 'actual_two_grams': ['ji', 'il', 'll', 'ls', 'si', 'ip', 'pe', 'es', 's9', '92', '23', '31', '19', '97', '72'], 'predicted_two_grams': {'ra', 'st', '19'}, 'dice_similarity': 0.1111}, {'uid': '23098', 'actual_two_grams': ['jo', 'os', 'se', 'eh', 'hi', 'il', 'll', 'ls', 's1', '10', '01', '14', '41', '19', '99', '96'], 'predicted_two_grams': {'ra', 'st', '19'}, 'dice_similarity': 0.1053}, {'uid': '1350', 'actual_two_grams': ['fa', 'ay', 'ye', 'ew', 'wa', 'ar', 'rd', 'd5', '51', '12', '20', '00', '02'], 'predicted_two_grams': {'ra', 'st', '19'}, 'dice_similarity': 0.0}, {'uid': '91751', 'actual_two_grams': ['vi', 'il', 'lm', 'ma', 'ao', 'on', 'ne', 'ea', 'al', 'l3', '31', '16', '61', '19', '99', '96'], 'predicted_two_grams': {'ra', 'st', '19'}, 'dice_similarity': 0.1053}, {'uid': '47121', 'actual_two_grams': ['wi', 'il', 'll', 'li', 'ia', 'am', 'mr', 'ro', 'od', 'dr', 'ri', 'ig', 'gu', 'ue', 'ez', 'z1', '11', '12', '29', '91', '19', '99', '92'], 'predicted_two_grams': {'ra', 'st', '19'}, 'dice_similarity': 0.0769}, {'uid': '95148', 'actual_two_grams': ['kr', 'ri', 'is', 'st', 'ty', 'yc', 'co', 'oo', 'op', 'pe', 'er', 'r1', '12', '21', '12', '21', '19', '98', '86'], 'predicted_two_grams': {'ra', 'st', '19'}, 'dice_similarity': 0.2}, {'uid': '43076', 'actual_two_grams': ['he', 'el', 'le', 'en', 'np', 'pa', 'ay', 'yn', 'ne', 'e7', '72', '21', '19', '94', '41'], 'predicted_two_grams': {'ra', 'st', '19'}, 'dice_similarity': 0.1111}, {'uid': '45199', 'actual_two_grams': ['ma', 'ar', 'ri', 'ie', 'eh', 'ha', 'am', 'mb', 'bl', 'li', 'in', 'n8', '81', '10', '01', '19', '98', '87'], 'predicted_two_grams': {'ra', 'st', '19'}, 'dice_similarity': 0.0952}, {'uid': '97775', 'actual_two_grams': ['de', 'el', 'll', 'la', 'ar', 'ro', 'oo', 'on', 'ne', 'ey', 'y1', '12', '25', '52', '20', '00', '00'], 'predicted_two_grams': {'ra', 'st', '19'}, 'dice_similarity': 0.0}, {'uid': '25041', 'actual_two_grams': ['wi', 'il', 'll', 'li', 'ia', 'am', 'ms', 'st', 'te', 'ev', 've', 'en', 'ns', 'so', 'on', 'n1', '12', '28', '81', '19', '97', '78'], 'predicted_two_grams': {'ra', 'st', '19'}, 'dice_similarity': 0.16}, {'uid': '65425', 'actual_two_grams': ['ev', 've', 'el', 'ly', 'yn', 'nn', 'ne', 'el', 'ls', 'so', 'on', 'n7', '72', '28', '81', '19', '98', '89'], 'predicted_two_grams': {'ra', 'st', '19'}, 'dice_similarity': 0.1}, {'uid': '15356', 'actual_two_grams': ['je', 'en', 'nn', 'ni', 'if', 'fe', 'er', 'rb', 'be', 'ea', 'al', 'l4', '42', '24', '41', '19', '97', '77'], 'predicted_two_grams': {'ra', 'st', '19'}, 'dice_similarity': 0.0952}, {'uid': '54060', 'actual_two_grams': ['ea', 'ar', 'rl', 'lw', 'wh', 'ha', 'ar', 'rt', 'to', 'on', 'n6', '69', '91', '19', '97', '73'], 'predicted_two_grams': {'ra', 'st', '19'}, 'dice_similarity': 0.1111}, {'uid': '76340', 'actual_two_grams': ['no', 'or', 'rm', 'ma', 'an', 'nh', 'ha', 'ar', 'rg', 'gr', 'ro', 'ov', 've', 'e9', '91', '13', '31', '19', '95', '56'], 'predicted_two_grams': {'ra', 'st', '19'}, 'dice_similarity': 0.087}, {'uid': '97782', 'actual_two_grams': ['da', 'av', 'vi', 'id', 'dw', 'wi', 'il', 'll', 'li', 'ia', 'am', 'ms', 's1', '11', '13', '30', '01', '19', '96', '68'], 'predicted_two_grams': {'ra', 'st', '19'}, 'dice_similarity': 0.087}, {'uid': '63887', 'actual_two_grams': ['am', 'ma', 'an', 'nd', 'da', 'aw', 'wr', 'ri', 'ig', 'gh', 'ht', 't1', '11', '17', '71', '19', '96', '62'], 'predicted_two_grams': {'ra', 'st', '19'}, 'dice_similarity': 0.0952}, {'uid': '33787', 'actual_two_grams': ['el', 'lb', 'ba', 'ab', 'be', 'ec', 'ck', 'ke', 'er', 'r5', '54', '41', '19', '93', '38'], 'predicted_two_grams': {'ra', 'st', '19'}, 'dice_similarity': 0.1111}, {'uid': '21438', 'actual_two_grams': ['ji', 'im', 'mm', 'my', 'yh', 'he', 'ea', 'at', 'th', 'h7', '73', '31', '19', '95', '50'], 'predicted_two_grams': {'ra', 'st', '19'}, 'dice_similarity': 0.1111}, {'uid': '7346', 'actual_two_grams': ['na', 'at', 'ta', 'as', 'sh', 'ha', 'ah', 'hu', 'un', 'nt', 't4', '41', '11', '11', '19', '96', '65'], 'predicted_two_grams': {'ra', 'st', '19'}, 'dice_similarity': 0.1053}, {'uid': '83691', 'actual_two_grams': ['cy', 'yn', 'nt', 'th', 'hi', 'ia', 'aw', 'wi', 'il', 'ls', 'so', 'on', 'n1', '11', '11', '11', '11', '19', '94', '46'], 'predicted_two_grams': {'ra', 'st', '19'}, 'dice_similarity': 0.1}, {'uid': '63428', 'actual_two_grams': ['am', 'mb', 'be', 'er', 'rg', 'ga', 'as', 'st', 'to', 'on', 'n5', '51', '12', '21', '19', '97', '71'], 'predicted_two_grams': {'ra', 'st', '19'}, 'dice_similarity': 0.2}, {'uid': '78474', 'actual_two_grams': ['th', 'he', 'er', 're', 'es', 'sa', 'au', 'ur', 'rs', 'so', 'o6', '62', '26', '61', '19', '99', '98'], 'predicted_two_grams': {'ra', 'st', '19'}, 'dice_similarity': 0.1}, {'uid': '16988', 'actual_two_grams': ['an', 'ng', 'ge', 'el', 'la', 'ab', 'bo', 'or', 'rd', 'de', 'en', 'n1', '11', '19', '91', '19', '95', '55'], 'predicted_two_grams': {'ra', 'st', '19'}, 'dice_similarity': 0.1}, {'uid': '39037', 'actual_two_grams': ['jo', 'os', 'se', 'ep', 'ph', 'hi', 'in', 'ne', 'em', 'mi', 'ir', 'ra', 'an', 'nd', 'da', 'a1', '10', '01', '16', '61', '19', '99', '97'], 'predicted_two_grams': {'ra', 'st', '19'}, 'dice_similarity': 0.1538}, {'uid': '74578', 'actual_two_grams': ['re', 'en', 'na', 'ac', 'co', 'ok', 'ke', 'er', 'r1', '12', '22', '22', '21', '19', '96', '61'], 'predicted_two_grams': {'ra', 'st', '19'}, 'dice_similarity': 0.1111}, {'uid': '35812', 'actual_two_grams': ['da', 'an', 'ni', 'it', 'ta', 'al', 'lu', 'un', 'ns', 'sf', 'fo', 'or', 'rd', 'd1', '12', '23', '31', '19', '94', '48'], 'predicted_two_grams': {'ra', 'st', '19'}, 'dice_similarity': 0.087}, {'uid': '54563', 'actual_two_grams': ['ro', 'on', 'na', 'al', 'ld', 'dc', 'co', 'ol', 'll', 'le', 'ey', 'y8', '82', '26', '62', '20', '00', '02'], 'predicted_two_grams': {'ra', 'st', '19'}, 'dice_similarity': 0.0}, {'uid': '11612', 'actual_two_grams': ['st', 'te', 'ep', 'ph', 'ha', 'an', 'ni', 'ie', 'ew', 'wh', 'hi', 'it', 'ta', 'ak', 'ke', 'er', 'r6', '62', '28', '81', '19', '94', '48'], 'predicted_two_grams': {'ra', 'st', '19'}, 'dice_similarity': 0.1538}, {'uid': '85822', 'actual_two_grams': ['re', 'eb', 'be', 'ec', 'cc', 'ca', 'ao', 'oc', 'cc', 'ch', 'hi', 'ip', 'pi', 'in', 'nt', 'ti', 'i7', '72', '29', '92', '20', '00', '02'], 'predicted_two_grams': {'ra', 'st', '19'}, 'dice_similarity': 0.0}, {'uid': '51569', 'actual_two_grams': ['jo', 'oy', 'yc', 'ce', 'ek', 'ka', 'ah', 'hn', 'n1', '11', '11', '11', '11', '19', '96', '69'], 'predicted_two_grams': {'ra', 'st', '19'}, 'dice_similarity': 0.125}, {'uid': '58127', 'actual_two_grams': ['jo', 'os', 'se', 'ep', 'ph', 'hs', 'sa', 'an', 'nt', 'to', 'os', 's9', '99', '91', '19', '97', '76'], 'predicted_two_grams': {'ra', 'st', '19'}, 'dice_similarity': 0.1053}, {'uid': '31765', 'actual_two_grams': ['le', 'ew', 'wi', 'is', 'sb', 'be', 'el', 'll', 'l5', '55', '51', '19', '97', '77'], 'predicted_two_grams': {'ra', 'st', '19'}, 'dice_similarity': 0.1176}, {'uid': '10396', 'actual_two_grams': ['hi', 'il', 'la', 'ar', 'ry', 'yp', 'pu', 'ug', 'gh', 'h1', '11', '11', '15', '51', '19', '99', '97'], 'predicted_two_grams': {'ra', 'st', '19'}, 'dice_similarity': 0.1053}, {'uid': '74998', 'actual_two_grams': ['br', 'ra', 'an', 'nd', 'do', 'on', 'nl', 'le', 'ec', 'cl', 'la', 'ai', 'ir', 're', 'e3', '32', '28', '81', '19', '98', '86'], 'predicted_two_grams': {'ra', 'st', '19'}, 'dice_similarity': 0.1667}, {'uid': '58359', 'actual_two_grams': ['ki', 'im', 'mb', 'be', 'er', 'rl', 'ly', 'ys', 'si', 'ie', 'eg', 'ge', 'el', 'l2', '21', '14', '41', '19', '96', '66'], 'predicted_two_grams': {'ra', 'st', '19'}, 'dice_similarity': 0.087}, {'uid': '37185', 'actual_two_grams': ['li', 'is', 'sa', 'an', 'ne', 'ea', 'ar', 'ry', 'y1', '10', '02', '25', '51', '19', '99', '97'], 'predicted_two_grams': {'ra', 'st', '19'}, 'dice_similarity': 0.1053}, {'uid': '71690', 'actual_two_grams': ['pa', 'au', 'ul', 'ls', 'sp', 'pu', 'ur', 'rl', 'li', 'in', 'ng', 'g9', '96', '61', '19', '98', '80'], 'predicted_two_grams': {'ra', 'st', '19'}, 'dice_similarity': 0.1}, {'uid': '98167', 'actual_two_grams': ['ja', 'am', 'me', 'es', 'so', 'oc', 'ch', 'hs', 's9', '96', '61', '19', '97', '79'], 'predicted_two_grams': {'ra', 'st', '19'}, 'dice_similarity': 0.1176}, {'uid': '35267', 'actual_two_grams': ['re', 'eb', 'be', 'ec', 'cc', 'ca', 'as', 'sm', 'mi', 'it', 'th', 'h3', '31', '19', '91', '19', '99', '91'], 'predicted_two_grams': {'ra', 'st', '19'}, 'dice_similarity': 0.1053}, {'uid': '47981', 'actual_two_grams': ['le', 'ee', 'ew', 'we', 'el', 'll', 'ls', 's5', '52', '29', '91', '19', '93', '39'], 'predicted_two_grams': {'ra', 'st', '19'}, 'dice_similarity': 0.1176}, {'uid': '71121', 'actual_two_grams': ['ge', 'eo', 'or', 'rg', 'ge', 'es', 'sa', 'an', 'nd', 'de', 'ef', 'fu', 'ur', 'r3', '32', '26', '61', '19', '97', '75'], 'predicted_two_grams': {'ra', 'st', '19'}, 'dice_similarity': 0.0909}, {'uid': '29859', 'actual_two_grams': ['me', 'el', 'lv', 'vi', 'in', 'nm', 'mo', 'oo', 'or', 're', 'e1', '12', '21', '13', '32', '20', '00', '02'], 'predicted_two_grams': {'ra', 'st', '19'}, 'dice_similarity': 0.0}, {'uid': '78487', 'actual_two_grams': ['am', 'ma', 'an', 'nd', 'da', 'aa', 'av', 'va', 'al', 'll', 'lo', 'on', 'ne', 'e7', '72', '24', '41', '19', '96', '66'], 'predicted_two_grams': {'ra', 'st', '19'}, 'dice_similarity': 0.087}, {'uid': '14776', 'actual_two_grams': ['sa', 'ar', 'ra', 'ah', 'hm', 'mo', 'or', 'rg', 'ga', 'an', 'n3', '32', '22', '21', '19', '99', '93'], 'predicted_two_grams': {'ra', 'st', '19'}, 'dice_similarity': 0.2}, {'uid': '7974', 'actual_two_grams': ['be', 'er', 'rn', 'na', 'ar', 'rd', 'dh', 'ha', 'am', 'mi', 'il', 'lt', 'to', 'on', 'n8', '87', '71', '19', '95', '53'], 'predicted_two_grams': {'ra', 'st', '19'}, 'dice_similarity': 0.087}, {'uid': '26573', 'actual_two_grams': ['mo', 'or', 'rr', 'ri', 'is', 'sp', 'pe', 'et', 'te', 'er', 'rs', 'so', 'on', 'n7', '71', '19', '91', '19', '98', '84'], 'predicted_two_grams': {'ra', 'st', '19'}, 'dice_similarity': 0.0909}, {'uid': '5570', 'actual_two_grams': ['br', 're', 'en', 'nd', 'da', 'ah', 'ha', 'al', 'll', 'l7', '71', '15', '51', '19', '98', '86'], 'predicted_two_grams': {'ra', 'st', '19'}, 'dice_similarity': 0.1053}, {'uid': '30098', 'actual_two_grams': ['ri', 'ic', 'ch', 'ha', 'ar', 'rd', 'dg', 'ga', 'ar', 'rd', 'dn', 'ne', 'er', 'r1', '11', '12', '23', '31', '19', '99', '98'], 'predicted_two_grams': {'ra', 'st', '19'}, 'dice_similarity': 0.0909}, {'uid': '99817', 'actual_two_grams': ['ph', 'hy', 'yl', 'll', 'li', 'is', 'se', 'em', 'mm', 'ma', 'an', 'nu', 'ue', 'el', 'l1', '10', '01', '17', '71', '19', '98', '83'], 'predicted_two_grams': {'ra', 'st', '19'}, 'dice_similarity': 0.08}, {'uid': '5306', 'actual_two_grams': ['te', 'er', 'rr', 'ri', 'it', 'th', 'ho', 'om', 'mp', 'ps', 'so', 'on', 'n2', '21', '18', '81', '19', '98', '81'], 'predicted_two_grams': {'ra', 'st', '19'}, 'dice_similarity': 0.0952}, {'uid': '50326', 'actual_two_grams': ['ge', 'eo', 'or', 'rg', 'ge', 'ev', 'vi', 'in', 'nc', 'ce', 'en', 'nt', 't1', '11', '15', '51', '19', '99', '92'], 'predicted_two_grams': {'ra', 'st', '19'}, 'dice_similarity': 0.0952}, {'uid': '61389', 'actual_two_grams': ['ja', 'am', 'mi', 'if', 'fl', 'ly', 'yn', 'nn', 'n6', '62', '25', '51', '19', '97', '77'], 'predicted_two_grams': {'ra', 'st', '19'}, 'dice_similarity': 0.1111}, {'uid': '93898', 'actual_two_grams': ['gr', 'ra', 'ac', 'ce', 'em', 'mi', 'ir', 're', 'el', 'le', 'es', 's8', '81', '14', '41', '19', '95', '54'], 'predicted_two_grams': {'ra', 'st', '19'}, 'dice_similarity': 0.1905}, {'uid': '87797', 'actual_two_grams': ['wi', 'il', 'll', 'li', 'ie', 'el', 'le', 'ea', 'ak', 'k1', '12', '22', '22', '21', '19', '94', '47'], 'predicted_two_grams': {'ra', 'st', '19'}, 'dice_similarity': 0.1053}, {'uid': '23692', 'actual_two_grams': ['eu', 'ug', 'ge', 'en', 'ne', 'es', 'se', 'el', 'lz', 'ze', 'er', 'r1', '12', '22', '21', '19', '98', '83'], 'predicted_two_grams': {'ra', 'st', '19'}, 'dice_similarity': 0.0952}, {'uid': '39036', 'actual_two_grams': ['vi', 'ir', 'rg', 'gi', 'in', 'ni', 'ia', 'as', 'sh', 'ha', 'ap', 'pi', 'ir', 'ro', 'o2', '22', '25', '51', '19', '97', '78'], 'predicted_two_grams': {'ra', 'st', '19'}, 'dice_similarity': 0.087}, {'uid': '6566', 'actual_two_grams': ['do', 'ol', 'lo', 'or', 're', 'es', 'sp', 'pa', 'al', 'la', 'ac', 'ci', 'io', 'os', 's1', '11', '17', '71', '19', '96', '63'], 'predicted_two_grams': {'ra', 'st', '19'}, 'dice_similarity': 0.0833}, {'uid': '23134', 'actual_two_grams': ['te', 'er', 're', 'es', 'sa', 'ad', 'do', 'ol', 'le', 'es', 's4', '41', '11', '19', '96', '66'], 'predicted_two_grams': {'ra', 'st', '19'}, 'dice_similarity': 0.1111}, {'uid': '23275', 'actual_two_grams': ['ja', 'am', 'me', 'es', 'sn', 'nu', 'un', 'ne', 'ez', 'z3', '37', '71', '19', '96', '60'], 'predicted_two_grams': {'ra', 'st', '19'}, 'dice_similarity': 0.1111}, {'uid': '52993', 'actual_two_grams': ['he', 'el', 'le', 'en', 'nm', 'mc', 'cn', 'ne', 'ee', 'el', 'le', 'ey', 'y5', '52', '25', '51', '19', '94', '45'], 'predicted_two_grams': {'ra', 'st', '19'}, 'dice_similarity': 0.1}, {'uid': '62930', 'actual_two_grams': ['su', 'us', 'sa', 'an', 'ns', 'st', 'tr', 'ri', 'ic', 'ck', 'kl', 'la', 'an', 'nd', 'd1', '11', '12', '23', '31', '19', '98', '83'], 'predicted_two_grams': {'ra', 'st', '19'}, 'dice_similarity': 0.1667}, {'uid': '5051', 'actual_two_grams': ['st', 'te', 'ep', 'ph', 'ha', 'an', 'ni', 'ie', 'eh', 'he', 'er', 'rs', 'sh', 'hm', 'ma', 'an', 'n8', '82', '28', '81', '19', '98', '83'], 'predicted_two_grams': {'ra', 'st', '19'}, 'dice_similarity': 0.16}, {'uid': '34118', 'actual_two_grams': ['jo', 'os', 'sh', 'hu', 'ua', 'ac', 'ca', 'ar', 'rr', 'ri', 'il', 'll', 'lo', 'o7', '71', '13', '31', '19', '96', '68'], 'predicted_two_grams': {'ra', 'st', '19'}, 'dice_similarity': 0.087}, {'uid': '5274', 'actual_two_grams': ['je', 'er', 're', 'em', 'my', 'yf', 'fa', 'ar', 'rr', 'ri', 'is', 's1', '10', '02', '27', '71', '19', '98', '89'], 'predicted_two_grams': {'ra', 'st', '19'}, 'dice_similarity': 0.0909}, {'uid': '65157', 'actual_two_grams': ['sh', 'he', 'el', 'ld', 'do', 'on', 'ng', 'ga', 'an', 'nn', 'na', 'aw', 'wa', 'ay', 'y1', '12', '29', '91', '19', '96', '60'], 'predicted_two_grams': {'ra', 'st', '19'}, 'dice_similarity': 0.0833}, {'uid': '62302', 'actual_two_grams': ['to', 'on', 'ny', 'yc', 'co', 'on', 'nw', 'wa', 'ay', 'y3', '32', '27', '71', '19', '97', '74'], 'predicted_two_grams': {'ra', 'st', '19'}, 'dice_similarity': 0.1111}, {'uid': '92210', 'actual_two_grams': ['ke', 'el', 'll', 'li', 'id', 'da', 'av', 'vi', 'is', 's1', '10', '07', '71', '19', '96', '63'], 'predicted_two_grams': {'ra', 'st', '19'}, 'dice_similarity': 0.1053}, {'uid': '58954', 'actual_two_grams': ['ju', 'ud', 'di', 'it', 'th', 'hn', 'ng', 'gu', 'uy', 'ye', 'en', 'n6', '63', '30', '01', '19', '96', '62'], 'predicted_two_grams': {'ra', 'st', '19'}, 'dice_similarity': 0.0952}, {'uid': '20140', 'actual_two_grams': ['je', 'en', 'nn', 'ni', 'if', 'fe', 'er', 'rc', 'co', 'oy', 'yn', 'ne', 'e1', '11', '12', '21', '19', '98', '81'], 'predicted_two_grams': {'ra', 'st', '19'}, 'dice_similarity': 0.0909}, {'uid': '59746', 'actual_two_grams': ['yv', 'vo', 'on', 'nn', 'ne', 'en', 'nu', 'un', 'ne', 'ez', 'z1', '12', '21', '14', '41', '19', '95', '54'], 'predicted_two_grams': {'ra', 'st', '19'}, 'dice_similarity': 0.1}, {'uid': '66642', 'actual_two_grams': ['ta', 'am', 'mm', 'my', 'yp', 'pa', 'at', 'tt', 'te', 'er', 'rs', 'so', 'on', 'n3', '31', '14', '41', '19', '96', '66'], 'predicted_two_grams': {'ra', 'st', '19'}, 'dice_similarity': 0.087}, {'uid': '8121', 'actual_two_grams': ['ja', 'am', 'me', 'es', 'sd', 'de', 'ee', 'em', 'm3', '39', '91', '19', '96', '61'], 'predicted_two_grams': {'ra', 'st', '19'}, 'dice_similarity': 0.1176}, {'uid': '50293', 'actual_two_grams': ['tr', 'ra', 'av', 'vi', 'is', 'sm', 'mi', 'il', 'lt', 'te', 'en', 'nb', 'be', 'er', 'rg', 'ge', 'er', 'r1', '10', '02', '20', '01', '19', '98', '80'], 'predicted_two_grams': {'ra', 'st', '19'}, 'dice_similarity': 0.1481}, {'uid': '30993', 'actual_two_grams': ['ro', 'os', 'ss', 'sc', 'cu', 'us', 'st', 'te', 'er', 'r9', '92', '21', '11', '19', '95', '58'], 'predicted_two_grams': {'ra', 'st', '19'}, 'dice_similarity': 0.2105}, {'uid': '60951', 'actual_two_grams': ['de', 'eb', 'br', 'ra', 'ah', 'ho', 'oa', 'ad', 'dl', 'le', 'ey', 'y5', '51', '15', '51', '19', '96', '64'], 'predicted_two_grams': {'ra', 'st', '19'}, 'dice_similarity': 0.2}, {'uid': '11656', 'actual_two_grams': ['ma', 'ar', 'rk', 'km', 'mo', 'oo', 'od', 'dy', 'y8', '81', '18', '81', '19', '94', '41'], 'predicted_two_grams': {'ra', 'st', '19'}, 'dice_similarity': 0.1176}, {'uid': '89346', 'actual_two_grams': ['da', 'av', 'vi', 'id', 'dj', 'jo', 'on', 'ne', 'es', 's3', '31', '15', '51', '19', '94', '46'], 'predicted_two_grams': {'ra', 'st', '19'}, 'dice_similarity': 0.1053}, {'uid': '26251', 'actual_two_grams': ['jo', 'os', 'se', 'ep', 'ph', 'hi', 'in', 'ne', 'ew', 'we', 'el', 'll', 'ls', 's1', '11', '11', '14', '41', '19', '96', '64'], 'predicted_two_grams': {'ra', 'st', '19'}, 'dice_similarity': 0.087}, {'uid': '11908', 'actual_two_grams': ['je', 'en', 'nn', 'ni', 'if', 'fe', 'er', 'rs', 'so', 'ol', 'lo', 'om', 'mo', 'on', 'n1', '10', '02', '25', '51', '19', '99', '91'], 'predicted_two_grams': {'ra', 'st', '19'}, 'dice_similarity': 0.08}, {'uid': '31209', 'actual_two_grams': ['vi', 'ir', 'rg', 'gi', 'in', 'ni', 'ia', 'aa', 'au', 'us', 'st', 'ti', 'in', 'n4', '42', '25', '51', '19', '93', '39'], 'predicted_two_grams': {'ra', 'st', '19'}, 'dice_similarity': 0.1818}, {'uid': '58620', 'actual_two_grams': ['es', 'st', 'th', 'he', 'er', 'rr', 'ro', 'ou', 'us', 'se', 'e1', '11', '11', '18', '81', '19', '95', '58'], 'predicted_two_grams': {'ra', 'st', '19'}, 'dice_similarity': 0.2}, {'uid': '31920', 'actual_two_grams': ['ve', 'er', 'ra', 'aj', 'jo', 'oh', 'hn', 'ns', 'so', 'on', 'n7', '71', '19', '91', '19', '97', '73'], 'predicted_two_grams': {'ra', 'st', '19'}, 'dice_similarity': 0.2105}, {'uid': '41936', 'actual_two_grams': ['fr', 're', 'ed', 'dm', 'mc', 'cc', 'cl', 'lu', 'ur', 're', 'e1', '11', '18', '81', '19', '97', '72'], 'predicted_two_grams': {'ra', 'st', '19'}, 'dice_similarity': 0.1053}, {'uid': '29998', 'actual_two_grams': ['ad', 'da', 'am', 'mg', 'go', 'ol', 'ld', 'ds', 'st', 'te', 'ei', 'in', 'n8', '83', '31', '11', '19', '97', '79'], 'predicted_two_grams': {'ra', 'st', '19'}, 'dice_similarity': 0.1818}, {'uid': '14742', 'actual_two_grams': ['ar', 'rm', 'ma', 'an', 'nd', 'do', 'om', 'mc', 'ck', 'ka', 'ay', 'y9', '99', '91', '19', '98', '81'], 'predicted_two_grams': {'ra', 'st', '19'}, 'dice_similarity': 0.1}, {'uid': '76831', 'actual_two_grams': ['co', 'or', 'ri', 'in', 'nn', 'ne', 'eg', 'gr', 'ro', 'ov', 've', 'es', 's3', '33', '31', '11', '19', '95', '52'], 'predicted_two_grams': {'ra', 'st', '19'}, 'dice_similarity': 0.0909}, {'uid': '75074', 'actual_two_grams': ['ed', 'dn', 'na', 'ag', 'gr', 'ra', 'av', 've', 'es', 's4', '41', '15', '51', '19', '93', '37'], 'predicted_two_grams': {'ra', 'st', '19'}, 'dice_similarity': 0.2105}, {'uid': '53855', 'actual_two_grams': ['de', 'en', 'nn', 'ni', 'is', 'sf', 'fr', 'ra', 'an', 'nc', 'ci', 'is', 's1', '10', '01', '14', '41', '19', '98', '86'], 'predicted_two_grams': {'ra', 'st', '19'}, 'dice_similarity': 0.1818}, {'uid': '13379', 'actual_two_grams': ['la', 'au', 'ur', 're', 'en', 'nl', 'lu', 'uc', 'ca', 'as', 's9', '92', '29', '91', '19', '95', '53'], 'predicted_two_grams': {'ra', 'st', '19'}, 'dice_similarity': 0.1}, {'uid': '58601', 'actual_two_grams': ['es', 'st', 'te', 'el', 'll', 'la', 'as', 'sw', 'we', 'ee', 'et', 't4', '42', '21', '11', '19', '95', '58'], 'predicted_two_grams': {'ra', 'st', '19'}, 'dice_similarity': 0.1905}, {'uid': '29690', 'actual_two_grams': ['do', 'or', 'ro', 'ot', 'th', 'hy', 'ys', 'st', 'ta', 'af', 'ff', 'fo', 'or', 'rd', 'd8', '86', '61', '19', '98', '89'], 'predicted_two_grams': {'ra', 'st', '19'}, 'dice_similarity': 0.1818}, {'uid': '48558', 'actual_two_grams': ['mi', 'ic', 'ch', 'he', 'el', 'le', 'es', 'sa', 'au', 'un', 'nd', 'de', 'er', 'rs', 's9', '96', '61', '19', '95', '54'], 'predicted_two_grams': {'ra', 'st', '19'}, 'dice_similarity': 0.087}, {'uid': '99910', 'actual_two_grams': ['wi', 'il', 'll', 'li', 'ia', 'am', 'mb', 'bl', 'la', 'an', 'nc', 'ch', 'ha', 'ar', 'rd', 'd1', '12', '21', '18', '81', '19', '99', '98'], 'predicted_two_grams': {'ra', 'st', '19'}, 'dice_similarity': 0.0769}, {'uid': '14827', 'actual_two_grams': ['ke', 'en', 'nn', 'ne', 'et', 'th', 'hh', 'ha', 'am', 'mm', 'mo', 'on', 'ns', 's9', '91', '11', '11', '19', '97', '70'], 'predicted_two_grams': {'ra', 'st', '19'}, 'dice_similarity': 0.0909}, {'uid': '44723', 'actual_two_grams': ['jo', 'oh', 'hn', 'nl', 'le', 'es', 'sh', 'he', 'er', 'r1', '12', '21', '19', '91', '19', '99', '92'], 'predicted_two_grams': {'ra', 'st', '19'}, 'dice_similarity': 0.1053}, {'uid': '40215', 'actual_two_grams': ['da', 'al', 'le', 'el', 'lo', 'op', 'pe', 'ez', 'z4', '42', '21', '11', '19', '99', '90'], 'predicted_two_grams': {'ra', 'st', '19'}, 'dice_similarity': 0.1111}, {'uid': '19596', 'actual_two_grams': ['ni', 'ic', 'ch', 'ho', 'ol', 'la', 'as', 'sb', 'ba', 'ak', 'ke', 'er', 'r3', '31', '15', '51', '19', '97', '75'], 'predicted_two_grams': {'ra', 'st', '19'}, 'dice_similarity': 0.0909}, {'uid': '58291', 'actual_two_grams': ['cr', 'ry', 'ys', 'st', 'ta', 'al', 'lh', 'hi', 'ic', 'ck', 'ke', 'ey', 'y1', '12', '21', '15', '51', '19', '95', '58'], 'predicted_two_grams': {'ra', 'st', '19'}, 'dice_similarity': 0.1739}, {'uid': '14883', 'actual_two_grams': ['br', 'ra', 'an', 'nd', 'do', 'on', 'nf', 'fl', 'lo', 'or', 're', 'es', 's6', '62', '20', '01', '19', '96', '64'], 'predicted_two_grams': {'ra', 'st', '19'}, 'dice_similarity': 0.1818}, {'uid': '90160', 'actual_two_grams': ['ma', 'ar', 'ri', 'ia', 'aw', 'wa', 'al', 'll', 'la', 'ac', 'ce', 'e8', '81', '15', '51', '19', '97', '78'], 'predicted_two_grams': {'ra', 'st', '19'}, 'dice_similarity': 0.0952}, {'uid': '65137', 'actual_two_grams': ['wi', 'il', 'll', 'li', 'ie', 'ej', 'jo', 'oh', 'hn', 'ns', 'so', 'on', 'n1', '12', '21', '17', '71', '19', '98', '84'], 'predicted_two_grams': {'ra', 'st', '19'}, 'dice_similarity': 0.087}, {'uid': '61674', 'actual_two_grams': ['wi', 'il', 'll', 'li', 'ia', 'am', 'mr', 'ri', 'ic', 'co', 'o2', '24', '41', '19', '95', '53'], 'predicted_two_grams': {'ra', 'st', '19'}, 'dice_similarity': 0.1053}, {'uid': '13761', 'actual_two_grams': ['ro', 'on', 'na', 'al', 'ld', 'dr', 'ro', 'ot', 'th', 'hs', 'st', 'te', 'ei', 'in', 'n1', '12', '20', '01', '19', '98', '83'], 'predicted_two_grams': {'ra', 'st', '19'}, 'dice_similarity': 0.1739}, {'uid': '34792', 'actual_two_grams': ['em', 'mm', 'ma', 'aa', 'aa', 'ar', 'ro', 'on', 'n6', '64', '41', '19', '95', '54'], 'predicted_two_grams': {'ra', 'st', '19'}, 'dice_similarity': 0.125}, {'uid': '10217', 'actual_two_grams': ['ho', 'op', 'pe', 'ec', 'co', 'os', 'sn', 'ne', 'er', 'r1', '10', '02', '21', '19', '95', '57'], 'predicted_two_grams': {'ra', 'st', '19'}, 'dice_similarity': 0.1053}, {'uid': '83311', 'actual_two_grams': ['ky', 'ym', 'md', 'du', 'ud', 'dg', 'ge', 'eo', 'on', 'n7', '71', '11', '11', '19', '95', '56'], 'predicted_two_grams': {'ra', 'st', '19'}, 'dice_similarity': 0.1111}, {'uid': '38821', 'actual_two_grams': ['gu', 'ua', 'ad', 'da', 'al', 'lu', 'up', 'pe', 'ek', 'ki', 'ir', 'rk', 'kp', 'pa', 'at', 'tr', 'ri', 'ic', 'ck', 'k1', '11', '12', '26', '61', '19', '95', '51'], 'predicted_two_grams': {'ra', 'st', '19'}, 'dice_similarity': 0.0667}, {'uid': '54517', 'actual_two_grams': ['mo', 'on', 'ni', 'ic', 'ca', 'aj', 'ja', 'ac', 'ck', 'km', 'ma', 'an', 'n7', '78', '81', '19', '93', '38'], 'predicted_two_grams': {'ra', 'st', '19'}, 'dice_similarity': 0.0952}, {'uid': '14166', 'actual_two_grams': ['wi', 'il', 'll', 'li', 'ia', 'am', 'md', 'de', 'el', 'lg', 'ga', 'ad', 'do', 'o4', '43', '30', '01', '19', '97', '73'], 'predicted_two_grams': {'ra', 'st', '19'}, 'dice_similarity': 0.087}, {'uid': '15996', 'actual_two_grams': ['an', 'nt', 'th', 'ho', 'on', 'ny', 'ys', 'sm', 'mi', 'it', 'th', 'h6', '61', '14', '41', '19', '95', '50'], 'predicted_two_grams': {'ra', 'st', '19'}, 'dice_similarity': 0.1}, {'uid': '28035', 'actual_two_grams': ['me', 'el', 'lo', 'od', 'dy', 'yr', 'ri', 'iv', 've', 'er', 'ra', 'a8', '81', '10', '01', '19', '96', '60'], 'predicted_two_grams': {'ra', 'st', '19'}, 'dice_similarity': 0.1905}, {'uid': '49197', 'actual_two_grams': ['sa', 'am', 'mu', 'ue', 'el', 'lb', 'bo', 'oc', 'ck', 'k7', '71', '10', '01', '19', '96', '64'], 'predicted_two_grams': {'ra', 'st', '19'}, 'dice_similarity': 0.1053}, {'uid': '73139', 'actual_two_grams': ['an', 'nn', 'ne', 'et', 'tt', 'te', 'eb', 'by', 'yn', 'nu', 'um', 'm9', '91', '18', '81', '19', '95', '54'], 'predicted_two_grams': {'ra', 'st', '19'}, 'dice_similarity': 0.0952}, {'uid': '95253', 'actual_two_grams': ['pe', 'et', 'te', 'er', 'rc', 'co', 'ot', 'te', 'e1', '18', '81', '19', '98', '86'], 'predicted_two_grams': {'ra', 'st', '19'}, 'dice_similarity': 0.125}, {'uid': '13841', 'actual_two_grams': ['ph', 'hy', 'yl', 'll', 'li', 'is', 'sh', 'ha', 'ar', 'rm', 'mo', 'on', 'n1', '12', '21', '11', '11', '19', '96', '68'], 'predicted_two_grams': {'ra', 'st', '19'}, 'dice_similarity': 0.0909}, {'uid': '70108', 'actual_two_grams': ['jo', 'oh', 'hn', 'nc', 'ca', 'as', 'sa', 'an', 'no', 'ov', 'va', 'a3', '34', '41', '19', '99', '90'], 'predicted_two_grams': {'ra', 'st', '19'}, 'dice_similarity': 0.1}, {'uid': '48470', 'actual_two_grams': ['wi', 'il', 'll', 'li', 'ia', 'am', 'mj', 'jo', 'on', 'ne', 'es', 's6', '63', '30', '01', '19', '97', '73'], 'predicted_two_grams': {'ra', 'st', '19'}, 'dice_similarity': 0.0952}, {'uid': '96339', 'actual_two_grams': ['tr', 'ro', 'oy', 'yj', 'je', 'en', 'nn', 'ni', 'in', 'ng', 'gs', 's5', '52', '22', '21', '19', '98', '88'], 'predicted_two_grams': {'ra', 'st', '19'}, 'dice_similarity': 0.0952}, {'uid': '84996', 'actual_two_grams': ['jo', 'oe', 'el', 'lr', 'ro', 'ol', 'lf', 'fe', 'es', 's4', '41', '15', '51', '19', '96', '61'], 'predicted_two_grams': {'ra', 'st', '19'}, 'dice_similarity': 0.1053}, {'uid': '4354', 'actual_two_grams': ['bo', 'on', 'nn', 'ni', 'ie', 'es', 'sh', 'he', 'ep', 'pp', 'pa', 'ar', 'rd', 'd6', '61', '18', '81', '19', '94', '45'], 'predicted_two_grams': {'ra', 'st', '19'}, 'dice_similarity': 0.087}, {'uid': '81249', 'actual_two_grams': ['ra', 'af', 'fa', 'ae', 'el', 'lk', 'ke', 'el', 'll', 'ly', 'y4', '42', '22', '21', '19', '95', '59'], 'predicted_two_grams': {'ra', 'st', '19'}, 'dice_similarity': 0.2105}, {'uid': '94155', 'actual_two_grams': ['de', 'ei', 'id', 'dr', 'ra', 'af', 'fi', 'ie', 'el', 'ld', 'ds', 's7', '72', '24', '41', '19', '98', '87'], 'predicted_two_grams': {'ra', 'st', '19'}, 'dice_similarity': 0.1905}, {'uid': '1975', 'actual_two_grams': ['mi', 'is', 'st', 'ty', 'ym', 'mc', 'cc', 'ca', 'ar', 'rt', 'te', 'er', 'r1', '10', '03', '31', '19', '94', '46'], 'predicted_two_grams': {'ra', 'st', '19'}, 'dice_similarity': 0.1818}, {'uid': '62181', 'actual_two_grams': ['fr', 'ra', 'an', 'nc', 'ce', 'es', 'ss', 'so', 'ou', 'uz', 'za', 'a7', '79', '91', '19', '97', '70'], 'predicted_two_grams': {'ra', 'st', '19'}, 'dice_similarity': 0.2}, {'uid': '69208', 'actual_two_grams': ['je', 'en', 'nn', 'ni', 'if', 'fe', 'er', 'rr', 'ro', 'om', 'ma', 'an', 'no', 'o6', '61', '11', '19', '99', '99'], 'predicted_two_grams': {'ra', 'st', '19'}, 'dice_similarity': 0.0952}, {'uid': '94011', 'actual_two_grams': ['el', 'li', 'iz', 'za', 'ab', 'be', 'et', 'th', 'hh', 'hu', 'ug', 'gh', 'he', 'es', 's5', '52', '25', '51', '19', '96', '67'], 'predicted_two_grams': {'ra', 'st', '19'}, 'dice_similarity': 0.0833}, {'uid': '35136', 'actual_two_grams': ['ju', 'ul', 'li', 'ia', 'at', 'tu', 'ur', 'rn', 'ne', 'er', 'r1', '12', '22', '21', '19', '95', '56'], 'predicted_two_grams': {'ra', 'st', '19'}, 'dice_similarity': 0.1}, {'uid': '24000', 'actual_two_grams': ['ro', 'ob', 'be', 'er', 'rt', 'th', 'ha', 'al', 'll', 'l6', '62', '24', '41', '19', '94', '47'], 'predicted_two_grams': {'ra', 'st', '19'}, 'dice_similarity': 0.1053}, {'uid': '2178', 'actual_two_grams': ['ke', 'ev', 'vi', 'in', 'nl', 'la', 'ak', 'ke', 'e6', '63', '30', '01', '19', '95', '55'], 'predicted_two_grams': {'ra', 'st', '19'}, 'dice_similarity': 0.1176}, {'uid': '63404', 'actual_two_grams': ['ir', 'ri', 'is', 'sw', 'wi', 'il', 'll', 'li', 'ia', 'am', 'ms', 's6', '65', '51', '19', '95', '52'], 'predicted_two_grams': {'ra', 'st', '19'}, 'dice_similarity': 0.1}, {'uid': '55939', 'actual_two_grams': ['ne', 'ea', 'al', 'lm', 'mc', 'cd', 'do', 'on', 'na', 'al', 'ld', 'd9', '91', '16', '61', '19', '98', '82'], 'predicted_two_grams': {'ra', 'st', '19'}, 'dice_similarity': 0.1}, {'uid': '4946', 'actual_two_grams': ['ja', 'ac', 'co', 'ob', 'bw', 'wi', 'il', 'll', 'li', 'ia', 'am', 'ms', 's1', '13', '31', '12', '20', '00', '00'], 'predicted_two_grams': {'ra', 'st', '19'}, 'dice_similarity': 0.0}, {'uid': '98297', 'actual_two_grams': ['pa', 'au', 'ul', 'la', 'ah', 'ho', 'oo', 'ov', 've', 'er', 'r4', '41', '18', '81', '19', '98', '87'], 'predicted_two_grams': {'ra', 'st', '19'}, 'dice_similarity': 0.1}, {'uid': '38221', 'actual_two_grams': ['jo', 'oh', 'hn', 'nn', 'no', 'ol', 'la', 'an', 'n5', '51', '12', '20', '00', '00'], 'predicted_two_grams': {'ra', 'st', '19'}, 'dice_similarity': 0.0}, {'uid': '58169', 'actual_two_grams': ['fr', 'ra', 'an', 'nk', 'ka', 'al', 'll', 'le', 'en', 'n9', '99', '91', '19', '94', '40'], 'predicted_two_grams': {'ra', 'st', '19'}, 'dice_similarity': 0.2222}, {'uid': '3868', 'actual_two_grams': ['st', 'te', 'ew', 'wa', 'ar', 'rt', 'tk', 'ko', 'ob', 'be', 'er', 'r3', '31', '13', '31', '19', '99', '93'], 'predicted_two_grams': {'ra', 'st', '19'}, 'dice_similarity': 0.2}, {'uid': '14212', 'actual_two_grams': ['do', 'on', 'nn', 'na', 'ak', 'kr', 'ri', 'ie', 'eg', 'g1', '11', '12', '21', '19', '94', '44'], 'predicted_two_grams': {'ra', 'st', '19'}, 'dice_similarity': 0.1053}, {'uid': '25238', 'actual_two_grams': ['fr', 'ra', 'an', 'nc', 'ce', 'es', 'sm', 'mi', 'ic', 'ch', 'he', 'ea', 'al', 'ls', 's6', '61', '19', '91', '19', '99', '99'], 'predicted_two_grams': {'ra', 'st', '19'}, 'dice_similarity': 0.1818}, {'uid': '89309', 'actual_two_grams': ['ra', 'ay', 'ym', 'mo', 'on', 'nd', 'dy', 'yo', 'ou', 'un', 'ng', 'g1', '11', '11', '12', '21', '19', '99', '93'], 'predicted_two_grams': {'ra', 'st', '19'}, 'dice_similarity': 0.1905}, {'uid': '24989', 'actual_two_grams': ['li', 'in', 'nd', 'da', 'aj', 'jo', 'on', 'ne', 'es', 's8', '82', '21', '11', '19', '98', '80'], 'predicted_two_grams': {'ra', 'st', '19'}, 'dice_similarity': 0.1053}, {'uid': '4485', 'actual_two_grams': ['sh', 'he', 'el', 'li', 'ia', 'ar', 'ro', 'ob', 'be', 'er', 'rt', 'ts', 'so', 'on', 'n6', '62', '21', '19', '98', '84'], 'predicted_two_grams': {'ra', 'st', '19'}, 'dice_similarity': 0.087}, {'uid': '22039', 'actual_two_grams': ['da', 'an', 'ni', 'ie', 'el', 'lb', 'ba', 'al', 'lt', 'te', 'es', 's1', '10', '02', '25', '51', '19', '95', '57'], 'predicted_two_grams': {'ra', 'st', '19'}, 'dice_similarity': 0.0909}, {'uid': '78613', 'actual_two_grams': ['br', 'ri', 'ia', 'an', 'nb', 'br', 'ra', 'ax', 'xt', 'to', 'on', 'n1', '17', '71', '19', '95', '54'], 'predicted_two_grams': {'ra', 'st', '19'}, 'dice_similarity': 0.2105}, {'uid': '85773', 'actual_two_grams': ['ea', 'ar', 'rn', 'ne', 'es', 'st', 'ta', 'ar', 'rr', 're', 'ed', 'do', 'on', 'nd', 'do', 'o9', '91', '12', '21', '19', '99', '92'], 'predicted_two_grams': {'ra', 'st', '19'}, 'dice_similarity': 0.1739}, {'uid': '76682', 'actual_two_grams': ['pa', 'at', 'tr', 'ri', 'ic', 'ci', 'ia', 'ab', 'bo', 'oy', 'yc', 'ce', 'e5', '59', '91', '19', '98', '82'], 'predicted_two_grams': {'ra', 'st', '19'}, 'dice_similarity': 0.0952}, {'uid': '45503', 'actual_two_grams': ['ki', 'ir', 'rs', 'st', 'te', 'en', 'nl', 'li', 'it', 'tt', 'tl', 'le', 'e4', '45', '51', '19', '97', '79'], 'predicted_two_grams': {'ra', 'st', '19'}, 'dice_similarity': 0.1905}, {'uid': '91991', 'actual_two_grams': ['da', 'ar', 'rl', 'le', 'en', 'ne', 'ed', 'da', 'av', 'vi', 'is', 's1', '12', '23', '31', '19', '96', '66'], 'predicted_two_grams': {'ra', 'st', '19'}, 'dice_similarity': 0.1}, {'uid': '11677', 'actual_two_grams': ['jo', 'oe', 'el', 'lc', 'co', 'od', 'de', 'er', 'r3', '35', '51', '19', '97', '78'], 'predicted_two_grams': {'ra', 'st', '19'}, 'dice_similarity': 0.1176}, {'uid': '79403', 'actual_two_grams': ['is', 'ss', 'sa', 'ac', 'cs', 'sn', 'ny', 'yd', 'de', 'er', 'r7', '72', '23', '31', '19', '95', '50'], 'predicted_two_grams': {'ra', 'st', '19'}, 'dice_similarity': 0.1}, {'uid': '62440', 'actual_two_grams': ['el', 'li', 'iz', 'za', 'ab', 'be', 'et', 'th', 'hh', 'ha', 'al', 'll', 'le', 'en', 'nb', 'be', 'ec', 'ck', 'k1', '12', '21', '16', '61', '19', '98', '85'], 'predicted_two_grams': {'ra', 'st', '19'}, 'dice_similarity': 0.0714}, {'uid': '88077', 'actual_two_grams': ['da', 'an', 'ni', 'ie', 'el', 'll', 'le', 'es', 'se', 'ey', 'ym', 'mo', 'ou', 'ur', 'r6', '62', '26', '61', '19', '98', '81'], 'predicted_two_grams': {'ra', 'st', '19'}, 'dice_similarity': 0.0833}, {'uid': '81965', 'actual_two_grams': ['ja', 'an', 'ni', 'ic', 'ce', 'eh', 'hi', 'in', 'ns', 'so', 'on', 'n4', '46', '61', '19', '94', '41'], 'predicted_two_grams': {'ra', 'st', '19'}, 'dice_similarity': 0.1}, {'uid': '7631', 'actual_two_grams': ['la', 'au', 'ur', 'ri', 'ie', 'ea', 'ar', 're', 'ev', 'va', 'al', 'lo', 'o6', '61', '18', '81', '19', '94', '44'], 'predicted_two_grams': {'ra', 'st', '19'}, 'dice_similarity': 0.0909}, {'uid': '62539', 'actual_two_grams': ['ma', 'ar', 'rg', 'ga', 'ar', 're', 'et', 'to', 'ow', 'we', 'en', 'ns', 's1', '12', '22', '22', '21', '19', '95', '56'], 'predicted_two_grams': {'ra', 'st', '19'}, 'dice_similarity': 0.0952}, {'uid': '72020', 'actual_two_grams': ['ba', 'ar', 'rb', 'ba', 'ar', 'ra', 'am', 'mi', 'it', 'tc', 'ch', 'he', 'el', 'll', 'l1', '11', '12', '24', '41', '19', '99', '94'], 'predicted_two_grams': {'ra', 'st', '19'}, 'dice_similarity': 0.1739}, {'uid': '86732', 'actual_two_grams': ['be', 'el', 'li', 'in', 'nd', 'da', 'ac', 'co', 'om', 'me', 'er', 'r1', '12', '27', '71', '19', '96', '62'], 'predicted_two_grams': {'ra', 'st', '19'}, 'dice_similarity': 0.0952}, {'uid': '66027', 'actual_two_grams': ['st', 'te', 'ep', 'ph', 'he', 'en', 'ng', 'gr', 'ri', 'id', 'dl', 'le', 'ey', 'y5', '51', '13', '31', '19', '97', '70'], 'predicted_two_grams': {'ra', 'st', '19'}, 'dice_similarity': 0.1739}, {'uid': '73478', 'actual_two_grams': ['de', 'er', 'rr', 'ri', 'ic', 'ck', 'kb', 'br', 'ro', 'ow', 'wn', 'n1', '10', '05', '51', '19', '95', '57'], 'predicted_two_grams': {'ra', 'st', '19'}, 'dice_similarity': 0.0952}, {'uid': '1984', 'actual_two_grams': ['sa', 'am', 'mm', 'mi', 'ie', 'ep', 'pa', 'ar', 're', 'ed', 'de', 'es', 's1', '11', '16', '61', '19', '96', '60'], 'predicted_two_grams': {'ra', 'st', '19'}, 'dice_similarity': 0.0909}, {'uid': '8800', 'actual_two_grams': ['ar', 'rt', 'th', 'hu', 'ur', 'rh', 'ho', 'o8', '82', '21', '11', '19', '95', '55'], 'predicted_two_grams': {'ra', 'st', '19'}, 'dice_similarity': 0.1176}, {'uid': '91004', 'actual_two_grams': ['da', 'ar', 'rl', 'le', 'en', 'ne', 'ed', 'da', 'av', 'vi', 'is', 's1', '12', '22', '21', '12', '20', '00', '02'], 'predicted_two_grams': {'ra', 'st', '19'}, 'dice_similarity': 0.0}, {'uid': '60491', 'actual_two_grams': ['jo', 'os', 'se', 'ec', 'cr', 'ro', 'os', 'ss', 's7', '73', '30', '01', '19', '99', '93'], 'predicted_two_grams': {'ra', 'st', '19'}, 'dice_similarity': 0.1176}, {'uid': '33322', 'actual_two_grams': ['sa', 'ar', 'ra', 'ah', 'hb', 'br', 'ro', 'ow', 'wn', 'ne', 'el', 'll', 'l1', '11', '11', '19', '91', '19', '98', '87'], 'predicted_two_grams': {'ra', 'st', '19'}, 'dice_similarity': 0.1905}, {'uid': '17606', 'actual_two_grams': ['de', 'en', 'nn', 'ni', 'is', 'se', 'es', 'sp', 'pa', 'ar', 'rz', 'za', 'a6', '61', '11', '11', '19', '97', '73'], 'predicted_two_grams': {'ra', 'st', '19'}, 'dice_similarity': 0.0952}, {'uid': '57644', 'actual_two_grams': ['wi', 'il', 'lb', 'bu', 'ur', 'ry', 'yo', 'od', 'de', 'er', 'r9', '91', '16', '61', '19', '96', '61'], 'predicted_two_grams': {'ra', 'st', '19'}, 'dice_similarity': 0.1053}, {'uid': '37359', 'actual_two_grams': ['pi', 'ie', 'er', 'rr', 're', 'ec', 'co', 'ol', 'll', 'li', 'in', 'ns', 's9', '91', '15', '51', '19', '93', '37'], 'predicted_two_grams': {'ra', 'st', '19'}, 'dice_similarity': 0.0909}, {'uid': '50250', 'actual_two_grams': ['me', 'el', 'lv', 'vi', 'in', 'nl', 'le', 'ea', 'al', 'l7', '72', '29', '91', '19', '95', '52'], 'predicted_two_grams': {'ra', 'st', '19'}, 'dice_similarity': 0.1053}, {'uid': '81463', 'actual_two_grams': ['al', 'll', 'le', 'en', 'nr', 'ri', 'iv', 've', 'er', 'ra', 'a1', '11', '12', '26', '61', '19', '99', '91'], 'predicted_two_grams': {'ra', 'st', '19'}, 'dice_similarity': 0.1905}, {'uid': '91595', 'actual_two_grams': ['de', 'el', 'll', 'la', 'as', 'sc', 'co', 'ot', 'tt', 't2', '26', '62', '20', '00', '02'], 'predicted_two_grams': {'ra', 'st', '19'}, 'dice_similarity': 0.0}, {'uid': '10146', 'actual_two_grams': ['ja', 'ac', 'cq', 'qu', 'ue', 'el', 'li', 'in', 'ne', 'es', 'sh', 'hu', 'um', 'mw', 'wa', 'ay', 'y1', '18', '81', '19', '98', '88'], 'predicted_two_grams': {'ra', 'st', '19'}, 'dice_similarity': 0.08}, {'uid': '14409', 'actual_two_grams': ['in', 'ne', 'ez', 'zn', 'ne', 'ev', 'vi', 'il', 'll', 'le', 'e3', '37', '71', '19', '96', '68'], 'predicted_two_grams': {'ra', 'st', '19'}, 'dice_similarity': 0.1111}, {'uid': '87922', 'actual_two_grams': ['ro', 'ob', 'bt', 'tp', 'pa', 'ar', 'rk', 'ke', 'er', 'r1', '10', '01', '18', '81', '19', '97', '74'], 'predicted_two_grams': {'ra', 'st', '19'}, 'dice_similarity': 0.1}, {'uid': '55942', 'actual_two_grams': ['ho', 'ow', 'wa', 'ar', 'rd', 'dp', 'pr', 'ri', 'ic', 'ce', 'e3', '31', '19', '91', '19', '98', '89'], 'predicted_two_grams': {'ra', 'st', '19'}, 'dice_similarity': 0.1053}, {'uid': '52606', 'actual_two_grams': ['al', 'll', 'le', 'en', 'nw', 'we', 'eb', 'bs', 'st', 'te', 'er', 'r2', '22', '26', '61', '19', '94', '41'], 'predicted_two_grams': {'ra', 'st', '19'}, 'dice_similarity': 0.1905}, {'uid': '76654', 'actual_two_grams': ['we', 'en', 'nd', 'dy', 'ys', 'sw', 'wa', 'an', 'nk', 'k8', '82', '22', '21', '19', '96', '69'], 'predicted_two_grams': {'ra', 'st', '19'}, 'dice_similarity': 0.1053}, {'uid': '16736', 'actual_two_grams': ['je', 'es', 'ss', 'se', 'ef', 'fi', 'ia', 'al', 'la', 'a1', '11', '16', '61', '19', '96', '61'], 'predicted_two_grams': {'ra', 'st', '19'}, 'dice_similarity': 0.1111}, {'uid': '32795', 'actual_two_grams': ['mi', 'ic', 'ch', 'ha', 'ae', 'el', 'lm', 'mo', 'on', 'nt', 'te', 'er', 'ro', 'o5', '51', '13', '31', '19', '97', '70'], 'predicted_two_grams': {'ra', 'st', '19'}, 'dice_similarity': 0.087}, {'uid': '25966', 'actual_two_grams': ['ca', 'ar', 'rl', 'lg', 'go', 'on', 'nz', 'za', 'al', 'le', 'ez', 'z4', '41', '18', '81', '19', '98', '81'], 'predicted_two_grams': {'ra', 'st', '19'}, 'dice_similarity': 0.1}, {'uid': '1346', 'actual_two_grams': ['fl', 'lo', 'or', 're', 'en', 'nc', 'ce', 'eb', 'bo', 'os', 'sw', 'we', 'el', 'll', 'l4', '41', '19', '91', '19', '97', '79'], 'predicted_two_grams': {'ra', 'st', '19'}, 'dice_similarity': 0.087}, {'uid': '91336', 'actual_two_grams': ['br', 'ru', 'uc', 'ce', 'em', 'mi', 'il', 'le', 'es', 's3', '32', '23', '31', '19', '96', '65'], 'predicted_two_grams': {'ra', 'st', '19'}, 'dice_similarity': 0.1053}, {'uid': '18525', 'actual_two_grams': ['ti', 'ie', 'er', 'rr', 'ra', 'ah', 'ha', 'ad', 'df', 'fi', 'ie', 'el', 'ld', 'd6', '61', '11', '11', '19', '94', '48'], 'predicted_two_grams': {'ra', 'st', '19'}, 'dice_similarity': 0.1905}, {'uid': '88030', 'actual_two_grams': ['da', 'an', 'ni', 'ie', 'el', 'lh', 'ho', 'ow', 'we', 'er', 'ry', 'y9', '91', '12', '21', '19', '99', '92'], 'predicted_two_grams': {'ra', 'st', '19'}, 'dice_similarity': 0.0952}, {'uid': '17565', 'actual_two_grams': ['je', 'er', 'ro', 'om', 'me', 'ep', 'pa', 'at', 'tt', 'te', 'er', 'rs', 'so', 'on', 'n5', '55', '51', '19', '96', '66'], 'predicted_two_grams': {'ra', 'st', '19'}, 'dice_similarity': 0.0909}, {'uid': '89557', 'actual_two_grams': ['ro', 'ob', 'be', 'er', 'rt', 'tj', 'ju', 'un', 'ng', 'g3', '32', '28', '81', '19', '96', '66'], 'predicted_two_grams': {'ra', 'st', '19'}, 'dice_similarity': 0.1053}, {'uid': '79776', 'actual_two_grams': ['el', 'li', 'iz', 'za', 'ab', 'be', 'et', 'th', 'hw', 'wa', 'as', 'sh', 'hi', 'in', 'ng', 'gt', 'to', 'on', 'n1', '12', '23', '30', '01', '19', '96', '69'], 'predicted_two_grams': {'ra', 'st', '19'}, 'dice_similarity': 0.069}, {'uid': '6007', 'actual_two_grams': ['sh', 'he', 'el', 'li', 'ia', 'ao', 'on', 'ne', 'ey', 'y7', '73', '30', '01', '19', '93', '37'], 'predicted_two_grams': {'ra', 'st', '19'}, 'dice_similarity': 0.1053}, {'uid': '39483', 'actual_two_grams': ['jo', 'os', 'se', 'ep', 'ph', 'hd', 'du', 'un', 'nc', 'ca', 'an', 'n1', '11', '12', '25', '51', '19', '94', '48'], 'predicted_two_grams': {'ra', 'st', '19'}, 'dice_similarity': 0.0909}, {'uid': '4416', 'actual_two_grams': ['ja', 'am', 'me', 'es', 'sr', 'ri', 'iv', 'va', 'as', 's5', '52', '29', '91', '19', '98', '89'], 'predicted_two_grams': {'ra', 'st', '19'}, 'dice_similarity': 0.1053}, {'uid': '44405', 'actual_two_grams': ['sa', 'ar', 'ra', 'ad', 'du', 'up', 'pr', 're', 'ee', 'e3', '31', '13', '31', '19', '97', '70'], 'predicted_two_grams': {'ra', 'st', '19'}, 'dice_similarity': 0.2222}, {'uid': '18579', 'actual_two_grams': ['do', 'or', 'ri', 'is', 'sg', 'go', 'or', 'rm', 'ma', 'an', 'n2', '21', '10', '01', '19', '94', '45'], 'predicted_two_grams': {'ra', 'st', '19'}, 'dice_similarity': 0.1053}, {'uid': '86783', 'actual_two_grams': ['ge', 'eo', 'or', 'rg', 'gi', 'ia', 'am', 'ma', 'ar', 'rt', 'ti', 'in', 'ne', 'ez', 'z1', '12', '21', '17', '71', '19', '99', '90'], 'predicted_two_grams': {'ra', 'st', '19'}, 'dice_similarity': 0.08}, {'uid': '17408', 'actual_two_grams': ['bo', 'on', 'ni', 'it', 'ta', 'at', 'th', 'ho', 'om', 'ma', 'as', 's7', '71', '10', '01', '19', '98', '83'], 'predicted_two_grams': {'ra', 'st', '19'}, 'dice_similarity': 0.0952}, {'uid': '42123', 'actual_two_grams': ['ja', 'am', 'me', 'es', 'sw', 'wh', 'hi', 'it', 'te', 'e1', '15', '52', '20', '00', '01'], 'predicted_two_grams': {'ra', 'st', '19'}, 'dice_similarity': 0.0}, {'uid': '88618', 'actual_two_grams': ['be', 'el', 'li', 'in', 'nd', 'da', 'aw', 'wa', 'at', 'te', 'er', 'rs', 's4', '42', '21', '19', '94', '46'], 'predicted_two_grams': {'ra', 'st', '19'}, 'dice_similarity': 0.0952}, {'uid': '11443', 'actual_two_grams': ['jo', 'oy', 'yc', 'ce', 'es', 'sm', 'mi', 'it', 'th', 'h6', '62', '22', '21', '19', '97', '79'], 'predicted_two_grams': {'ra', 'st', '19'}, 'dice_similarity': 0.1053}, {'uid': '3057', 'actual_two_grams': ['do', 'on', 'np', 'pa', 'ar', 'rk', 'ke', 'er', 'r1', '12', '21', '11', '11', '19', '95', '58'], 'predicted_two_grams': {'ra', 'st', '19'}, 'dice_similarity': 0.1111}, {'uid': '8529', 'actual_two_grams': ['ja', 'am', 'me', 'es', 'sm', 'mc', 'cc', 'ca', 'ai', 'in', 'n1', '12', '29', '91', '19', '99', '99'], 'predicted_two_grams': {'ra', 'st', '19'}, 'dice_similarity': 0.1053}, {'uid': '8057', 'actual_two_grams': ['ju', 'ul', 'li', 'ie', 'eb', 'br', 'ro', 'ow', 'wn', 'n7', '71', '16', '61', '19', '97', '79'], 'predicted_two_grams': {'ra', 'st', '19'}, 'dice_similarity': 0.1053}, {'uid': '61745', 'actual_two_grams': ['jo', 'oh', 'hn', 'nb', 'be', 'ea', 'at', 'tt', 'ty', 'y7', '71', '19', '91', '19', '93', '37'], 'predicted_two_grams': {'ra', 'st', '19'}, 'dice_similarity': 0.1111}, {'uid': '87072', 'actual_two_grams': ['ma', 'ar', 'rk', 'kc', 'ca', 'as', 'st', 'ti', 'il', 'll', 'lo', 'o8', '83', '31', '11', '19', '95', '58'], 'predicted_two_grams': {'ra', 'st', '19'}, 'dice_similarity': 0.1905}, {'uid': '93383', 'actual_two_grams': ['sy', 'yl', 'lv', 'vi', 'ia', 'ab', 'ba', 'as', 'ss', 's9', '99', '91', '19', '98', '88'], 'predicted_two_grams': {'ra', 'st', '19'}, 'dice_similarity': 0.1111}, {'uid': '82097', 'actual_two_grams': ['ma', 'ar', 'ry', 'yj', 'jo', 'ow', 'we', 'eb', 'bb', 'b6', '67', '71', '19', '94', '49'], 'predicted_two_grams': {'ra', 'st', '19'}, 'dice_similarity': 0.1111}, {'uid': '10845', 'actual_two_grams': ['ri', 'ig', 'go', 'ob', 'be', 'er', 'rt', 'to', 'om', 'ma', 'ar', 'rt', 'ti', 'in', 'n1', '10', '01', '13', '31', '19', '97', '78'], 'predicted_two_grams': {'ra', 'st', '19'}, 'dice_similarity': 0.0833}, {'uid': '13436', 'actual_two_grams': ['sh', 'he', 'el', 'lb', 'by', 'ym', 'mo', 'or', 'rr', 'ri', 'is', 's2', '21', '11', '11', '19', '97', '73'], 'predicted_two_grams': {'ra', 'st', '19'}, 'dice_similarity': 0.1}, {'uid': '16245', 'actual_two_grams': ['ro', 'ob', 'be', 'er', 'rt', 'tp', 'pe', 'er', 'ra', 'al', 'lt', 'ta', 'a8', '82', '23', '31', '19', '94', '42'], 'predicted_two_grams': {'ra', 'st', '19'}, 'dice_similarity': 0.1905}, {'uid': '47509', 'actual_two_grams': ['ma', 'ar', 'ry', 'ya', 'an', 'nn', 'nc', 'co', 'ol', 'll', 'li', 'in', 'ns', 's6', '61', '13', '31', '19', '93', '38'], 'predicted_two_grams': {'ra', 'st', '19'}, 'dice_similarity': 0.087}, {'uid': '80590', 'actual_two_grams': ['ra', 'an', 'nd', 'do', 'ol', 'lp', 'ph', 'hc', 'co', 'oa', 'ad', 'dy', 'y4', '42', '27', '71', '19', '95', '58'], 'predicted_two_grams': {'ra', 'st', '19'}, 'dice_similarity': 0.1818}, {'uid': '23022', 'actual_two_grams': ['tr', 'ri', 'in', 'na', 'as', 'st', 'ta', 'an', 'nl', 'le', 'ey', 'y6', '63', '30', '01', '19', '99', '90'], 'predicted_two_grams': {'ra', 'st', '19'}, 'dice_similarity': 0.1905}, {'uid': '95727', 'actual_two_grams': ['vi', 'io', 'ol', 'le', 'et', 'ts', 'su', 'ul', 'll', 'li', 'iv', 'va', 'an', 'n3', '32', '27', '71', '19', '97', '76'], 'predicted_two_grams': {'ra', 'st', '19'}, 'dice_similarity': 0.087}, {'uid': '25989', 'actual_two_grams': ['pa', 'at', 'tr', 'ri', 'ic', 'ci', 'ia', 'ao', 'ow', 'we', 'en', 'n3', '34', '41', '19', '96', '69'], 'predicted_two_grams': {'ra', 'st', '19'}, 'dice_similarity': 0.1}, {'uid': '32126', 'actual_two_grams': ['ka', 'ay', 'yl', 'la', 'am', 'mc', 'ck', 'ke', 'en', 'nz', 'zi', 'ie', 'e2', '21', '11', '11', '19', '95', '59'], 'predicted_two_grams': {'ra', 'st', '19'}, 'dice_similarity': 0.0952}, {'uid': '91205', 'actual_two_grams': ['da', 'av', 'vi', 'id', 'df', 'fr', 're', 'ee', 'em', 'ma', 'an', 'n1', '10', '01', '13', '31', '19', '94', '44'], 'predicted_two_grams': {'ra', 'st', '19'}, 'dice_similarity': 0.0909}, {'uid': '5435', 'actual_two_grams': ['ka', 'at', 'th', 'he', 'er', 'rn', 'nh', 'ha', 'an', 'nk', 'ks', 's1', '11', '11', '11', '19', '98', '81'], 'predicted_two_grams': {'ra', 'st', '19'}, 'dice_similarity': 0.1053}, {'uid': '84387', 'actual_two_grams': ['be', 'ea', 'at', 'tr', 'ri', 'ic', 'ce', 'eb', 'bo', 'ou', 'ur', 'ra', 'as', 'ss', 'sa', 'a3', '37', '71', '19', '98', '84'], 'predicted_two_grams': {'ra', 'st', '19'}, 'dice_similarity': 0.1667}, {'uid': '7183', 'actual_two_grams': ['ma', 'ax', 'xv', 'vi', 'ig', 'gi', 'il', 'l1', '12', '22', '29', '91', '19', '99', '96'], 'predicted_two_grams': {'ra', 'st', '19'}, 'dice_similarity': 0.1111}, {'uid': '22266', 'actual_two_grams': ['ro', 'og', 'ge', 'er', 'rv', 'va', 'ar', 'rg', 'ga', 'as', 's3', '38', '81', '19', '98', '82'], 'predicted_two_grams': {'ra', 'st', '19'}, 'dice_similarity': 0.1053}, {'uid': '47392', 'actual_two_grams': ['do', 'on', 'na', 'al', 'ld', 'dw', 'wi', 'il', 'le', 'ey', 'y8', '87', '71', '19', '96', '67'], 'predicted_two_grams': {'ra', 'st', '19'}, 'dice_similarity': 0.1053}, {'uid': '92952', 'actual_two_grams': ['aa', 'ar', 'ro', 'on', 'ns', 'sm', 'mi', 'it', 'th', 'hs', 'so', 'on', 'n3', '32', '21', '11', '19', '99', '90'], 'predicted_two_grams': {'ra', 'st', '19'}, 'dice_similarity': 0.0952}, {'uid': '24062', 'actual_two_grams': ['st', 'te', 'ev', 've', 'en', 'nh', 'ha', 'am', 'ml', 'li', 'in', 'n1', '12', '21', '18', '81', '19', '94', '49'], 'predicted_two_grams': {'ra', 'st', '19'}, 'dice_similarity': 0.1818}, {'uid': '7332', 'actual_two_grams': ['do', 'ou', 'ug', 'gl', 'la', 'as', 'sm', 'mi', 'il', 'll', 'le', 'er', 'r8', '82', '29', '91', '19', '97', '74'], 'predicted_two_grams': {'ra', 'st', '19'}, 'dice_similarity': 0.0909}, {'uid': '81600', 'actual_two_grams': ['je', 'er', 're', 'em', 'my', 'ym', 'me', 'ea', 'an', 'ns', 's1', '11', '12', '22', '21', '19', '93', '37'], 'predicted_two_grams': {'ra', 'st', '19'}, 'dice_similarity': 0.0952}, {'uid': '71780', 'actual_two_grams': ['ta', 'an', 'ny', 'ya', 'am', 'ma', 'ar', 'rt', 'ti', 'in', 'n2', '21', '16', '61', '19', '99', '97'], 'predicted_two_grams': {'ra', 'st', '19'}, 'dice_similarity': 0.1}, {'uid': '22536', 'actual_two_grams': ['je', 'en', 'nn', 'ni', 'ie', 'ej', 'jo', 'oh', 'hn', 'ns', 'so', 'on', 'n1', '12', '29', '92', '20', '00', '00'], 'predicted_two_grams': {'ra', 'st', '19'}, 'dice_similarity': 0.0}, {'uid': '85137', 'actual_two_grams': ['an', 'nn', 'ne', 'eu', 'ur', 'rb', 'ba', 'an', 'ns', 'sk', 'ki', 'i2', '22', '28', '81', '19', '98', '82'], 'predicted_two_grams': {'ra', 'st', '19'}, 'dice_similarity': 0.1}, {'uid': '93065', 'actual_two_grams': ['ma', 'ar', 'rg', 'ga', 'ar', 're', 'et', 'tm', 'mo', 'oo', 'or', 're', 'e3', '35', '51', '19', '94', '45'], 'predicted_two_grams': {'ra', 'st', '19'}, 'dice_similarity': 0.1053}, {'uid': '27499', 'actual_two_grams': ['ma', 'at', 'tt', 'th', 'he', 'ew', 'wm', 'ma', 'ar', 'rr', 'ru', 'uf', 'fo', 'o2', '21', '11', '19', '96', '67'], 'predicted_two_grams': {'ra', 'st', '19'}, 'dice_similarity': 0.0952}, {'uid': '58431', 'actual_two_grams': ['la', 'ar', 'rr', 'ry', 'ym', 'mu', 'ur', 'rr', 'ry', 'y8', '82', '29', '91', '19', '99', '98'], 'predicted_two_grams': {'ra', 'st', '19'}, 'dice_similarity': 0.1176}, {'uid': '20835', 'actual_two_grams': ['ra', 'an', 'nd', 'do', 'ol', 'lp', 'ph', 'hm', 'mi', 'il', 'll', 'le', 'er', 'r1', '11', '18', '81', '19', '97', '71'], 'predicted_two_grams': {'ra', 'st', '19'}, 'dice_similarity': 0.1739}, {'uid': '48122', 'actual_two_grams': ['sh', 'he', 'er', 'ri', 'it', 'ta', 'al', 'lo', 'og', 'ga', 'an', 'n1', '10', '01', '19', '91', '19', '97', '74'], 'predicted_two_grams': {'ra', 'st', '19'}, 'dice_similarity': 0.0952}, {'uid': '36963', 'actual_two_grams': ['je', 'er', 'ro', 'om', 'me', 'eh', 'ha', 'am', 'mb', 'bl', 'li', 'in', 'n8', '82', '25', '51', '19', '97', '72'], 'predicted_two_grams': {'ra', 'st', '19'}, 'dice_similarity': 0.0909}, {'uid': '15011', 'actual_two_grams': ['er', 'ri', 'in', 'nh', 'he', 'ep', 'pw', 'wo', 'or', 'rt', 'th', 'h4', '42', '28', '81', '19', '99', '92'], 'predicted_two_grams': {'ra', 'st', '19'}, 'dice_similarity': 0.0952}, {'uid': '53716', 'actual_two_grams': ['du', 'us', 'st', 'ti', 'in', 'nr', 'ru', 'ut', 'tz', 'z9', '91', '11', '11', '19', '98', '81'], 'predicted_two_grams': {'ra', 'st', '19'}, 'dice_similarity': 0.2222}, {'uid': '83878', 'actual_two_grams': ['bi', 'il', 'll', 'li', 'ie', 'eq', 'qu', 'ui', 'in', 'nn', 'n7', '72', '21', '19', '96', '66'], 'predicted_two_grams': {'ra', 'st', '19'}, 'dice_similarity': 0.1053}, {'uid': '75903', 'actual_two_grams': ['ma', 'ar', 'ry', 'yc', 'cr', 'ru', 'uz', 'z3', '38', '81', '19', '95', '54'], 'predicted_two_grams': {'ra', 'st', '19'}, 'dice_similarity': 0.125}, {'uid': '50469', 'actual_two_grams': ['sc', 'co', 'ot', 'tt', 'te', 'el', 'li', 'ia', 'as', 's1', '12', '22', '28', '81', '19', '95', '58'], 'predicted_two_grams': {'ra', 'st', '19'}, 'dice_similarity': 0.1}, {'uid': '6445', 'actual_two_grams': ['ju', 'ud', 'di', 'it', 'th', 'hc', 'co', 'om', 'mb', 'bs', 's7', '72', '24', '41', '19', '93', '39'], 'predicted_two_grams': {'ra', 'st', '19'}, 'dice_similarity': 0.1}, {'uid': '39600', 'actual_two_grams': ['al', 'lf', 'fr', 're', 'ed', 'do', 'oy', 'yo', 'ou', 'un', 'ng', 'g1', '12', '23', '31', '19', '94', '48'], 'predicted_two_grams': {'ra', 'st', '19'}, 'dice_similarity': 0.0952}, {'uid': '81646', 'actual_two_grams': ['na', 'at', 'th', 'ha', 'an', 'np', 'pa', 'ac', 'ce', 'e2', '21', '15', '51', '19', '97', '72'], 'predicted_two_grams': {'ra', 'st', '19'}, 'dice_similarity': 0.1053}, {'uid': '92574', 'actual_two_grams': ['je', 'ef', 'ff', 'fr', 're', 'ey', 'ys', 'sc', 'co', 'ot', 'tt', 't1', '11', '12', '26', '62', '20', '00', '01'], 'predicted_two_grams': {'ra', 'st', '19'}, 'dice_similarity': 0.0}, {'uid': '72886', 'actual_two_grams': ['ja', 'am', 'me', 'es', 'sj', 'jo', 'oh', 'hn', 'ns', 'st', 'to', 'on', 'n3', '31', '11', '11', '19', '98', '81'], 'predicted_two_grams': {'ra', 'st', '19'}, 'dice_similarity': 0.1905}, {'uid': '88801', 'actual_two_grams': ['gr', 'ra', 'ac', 'ce', 'et', 'th', 'he', 'er', 'ri', 'ia', 'au', 'ul', 'lt', 't5', '51', '10', '01', '19', '95', '54'], 'predicted_two_grams': {'ra', 'st', '19'}, 'dice_similarity': 0.1739}, {'uid': '89896', 'actual_two_grams': ['do', 'on', 'ns', 'sm', 'mi', 'it', 'th', 'h4', '41', '15', '51', '19', '93', '37'], 'predicted_two_grams': {'ra', 'st', '19'}, 'dice_similarity': 0.1176}, {'uid': '43162', 'actual_two_grams': ['an', 'nd', 'dr', 're', 'ea', 'am', 'mc', 'ck', 'ki', 'in', 'nn', 'no', 'on', 'n1', '12', '27', '71', '19', '96', '69'], 'predicted_two_grams': {'ra', 'st', '19'}, 'dice_similarity': 0.087}, {'uid': '90054', 'actual_two_grams': ['ra', 'al', 'lp', 'ph', 'hh', 'he', 'er', 'rr', 're', 'el', 'll', 'l1', '11', '10', '01', '19', '97', '70'], 'predicted_two_grams': {'ra', 'st', '19'}, 'dice_similarity': 0.1905}, {'uid': '40985', 'actual_two_grams': ['ry', 'ya', 'an', 'nb', 'bo', 'ou', 'ur', 'rg', 'ge', 'et', 't2', '27', '71', '19', '95', '57'], 'predicted_two_grams': {'ra', 'st', '19'}, 'dice_similarity': 0.1053}, {'uid': '97853', 'actual_two_grams': ['pa', 'at', 'tr', 'ri', 'ic', 'ck', 'kb', 'bu', 'ur', 'rr', 'ra', 'ag', 'ge', 'e9', '93', '30', '01', '19', '98', '89'], 'predicted_two_grams': {'ra', 'st', '19'}, 'dice_similarity': 0.1739}, {'uid': '44784', 'actual_two_grams': ['al', 'li', 'ic', 'ce', 'es', 'st', 'ta', 'ac', 'ck', 'ks', 's4', '42', '21', '19', '96', '65'], 'predicted_two_grams': {'ra', 'st', '19'}, 'dice_similarity': 0.2105}, {'uid': '79343', 'actual_two_grams': ['wa', 'ar', 'rr', 're', 'en', 'nz', 'zi', 'im', 'mm', 'me', 'er', 'rm', 'ma', 'an', 'nn', 'n1', '12', '28', '81', '19', '96', '67'], 'predicted_two_grams': {'ra', 'st', '19'}, 'dice_similarity': 0.08}, {'uid': '15958', 'actual_two_grams': ['sh', 'ha', 'ar', 'ro', 'on', 'nm', 'ma', 'ar', 'rt', 'ti', 'in', 'ne', 'ez', 'z3', '31', '11', '11', '19', '95', '53'], 'predicted_two_grams': {'ra', 'st', '19'}, 'dice_similarity': 0.0952}, {'uid': '66449', 'actual_two_grams': ['be', 'et', 'tt', 'ty', 'yi', 'in', 'nm', 'ma', 'an', 'n1', '12', '26', '62', '20', '00', '01'], 'predicted_two_grams': {'ra', 'st', '19'}, 'dice_similarity': 0.0}, {'uid': '90981', 'actual_two_grams': ['cl', 'la', 'ai', 'ir', 're', 'ec', 'ca', 'al', 'ld', 'dw', 'we', 'el', 'll', 'l4', '43', '31', '19', '96', '68'], 'predicted_two_grams': {'ra', 'st', '19'}, 'dice_similarity': 0.0909}, {'uid': '918', 'actual_two_grams': ['wi', 'il', 'll', 'li', 'ia', 'am', 'mr', 'ro', 'ot', 'th', 'h5', '52', '28', '81', '19', '94', '45'], 'predicted_two_grams': {'ra', 'st', '19'}, 'dice_similarity': 0.1}, {'uid': '95988', 'actual_two_grams': ['gi', 'in', 'na', 'ac', 'ch', 'ha', 'an', 'ng', 'g9', '91', '13', '32', '20', '00', '03'], 'predicted_two_grams': {'ra', 'st', '19'}, 'dice_similarity': 0.0}, {'uid': '81764', 'actual_two_grams': ['jo', 'os', 'se', 'ep', 'ph', 'hl', 'le', 'ee', 'e5', '51', '14', '41', '19', '99', '91'], 'predicted_two_grams': {'ra', 'st', '19'}, 'dice_similarity': 0.1111}, {'uid': '42624', 'actual_two_grams': ['sa', 'am', 'mf', 'fl', 'ly', 'yn', 'nn', 'n3', '31', '18', '81', '19', '98', '89'], 'predicted_two_grams': {'ra', 'st', '19'}, 'dice_similarity': 0.1176}, {'uid': '4278', 'actual_two_grams': ['la', 'ar', 'rr', 'ry', 'ye', 'ea', 'ar', 'rl', 'ly', 'y1', '10', '08', '81', '19', '97', '74'], 'predicted_two_grams': {'ra', 'st', '19'}, 'dice_similarity': 0.1111}, {'uid': '8112', 'actual_two_grams': ['mi', 'ic', 'ch', 'he', 'el', 'le', 'eg', 'go', 'on', 'nz', 'za', 'al', 'le', 'ez', 'z5', '56', '61', '19', '96', '68'], 'predicted_two_grams': {'ra', 'st', '19'}, 'dice_similarity': 0.0909}, {'uid': '8959', 'actual_two_grams': ['mi', 'ic', 'ch', 'he', 'el', 'll', 'le', 'eh', 'hu', 'us', 'sb', 'ba', 'an', 'nd', 'd1', '10', '01', '11', '19', '94', '46'], 'predicted_two_grams': {'ra', 'st', '19'}, 'dice_similarity': 0.0833}, {'uid': '77547', 'actual_two_grams': ['da', 'an', 'ni', 'ie', 'el', 'lm', 'mi', 'it', 'tc', 'ch', 'he', 'el', 'll', 'l8', '81', '11', '11', '19', '94', '44'], 'predicted_two_grams': {'ra', 'st', '19'}, 'dice_similarity': 0.0952}, {'uid': '68559', 'actual_two_grams': ['ev', 've', 'el', 'ly', 'yn', 'nh', 'hi', 'il', 'll', 'l1', '11', '12', '28', '81', '19', '96', '67'], 'predicted_two_grams': {'ra', 'st', '19'}, 'dice_similarity': 0.1}, {'uid': '81604', 'actual_two_grams': ['we', 'es', 'sl', 'le', 'ey', 'ym', 'mc', 'cc', 'ca', 'ar', 'rv', 've', 'er', 'r8', '82', '29', '91', '19', '94', '49'], 'predicted_two_grams': {'ra', 'st', '19'}, 'dice_similarity': 0.087}, {'uid': '66221', 'actual_two_grams': ['ra', 'af', 'fa', 'ae', 'el', 'la', 'al', 'lb', 'br', 're', 'ec', 'ch', 'ht', 't5', '51', '10', '01', '19', '93', '39'], 'predicted_two_grams': {'ra', 'st', '19'}, 'dice_similarity': 0.1739}, {'uid': '62063', 'actual_two_grams': ['tr', 'ra', 'ac', 'ci', 'ie', 'er', 'ro', 'ow', 'wa', 'an', 'n2', '22', '21', '11', '19', '93', '37'], 'predicted_two_grams': {'ra', 'st', '19'}, 'dice_similarity': 0.2}, {'uid': '82381', 'actual_two_grams': ['wi', 'il', 'll', 'li', 'ia', 'am', 'mm', 'mi', 'il', 'll', 'le', 'er', 'r1', '12', '22', '21', '19', '96', '62'], 'predicted_two_grams': {'ra', 'st', '19'}, 'dice_similarity': 0.1}, {'uid': '43882', 'actual_two_grams': ['ry', 'ya', 'an', 'nt', 'to', 'or', 'rr', 're', 'es', 's4', '41', '10', '01', '19', '95', '57'], 'predicted_two_grams': {'ra', 'st', '19'}, 'dice_similarity': 0.1053}, {'uid': '55125', 'actual_two_grams': ['yv', 'vo', 'on', 'nn', 'ne', 'ed', 'di', 'il', 'll', 'la', 'ar', 'rd', 'd5', '57', '71', '19', '99', '99'], 'predicted_two_grams': {'ra', 'st', '19'}, 'dice_similarity': 0.1}, {'uid': '85538', 'actual_two_grams': ['da', 'av', 'vi', 'id', 'dh', 'ha', 'ac', 'ck', 'ke', 'et', 'tt', 't6', '63', '31', '19', '97', '70'], 'predicted_two_grams': {'ra', 'st', '19'}, 'dice_similarity': 0.1}, {'uid': '65521', 'actual_two_grams': ['ma', 'ar', 'rk', 'kh', 'he', 'en', 'nd', 'de', 'er', 'rs', 'so', 'on', 'n2', '22', '21', '11', '19', '95', '55'], 'predicted_two_grams': {'ra', 'st', '19'}, 'dice_similarity': 0.0909}, {'uid': '79838', 'actual_two_grams': ['gr', 're', 'eg', 'go', 'or', 'ry', 'yg', 'gr', 're', 'ee', 'en', 'n1', '12', '22', '24', '41', '19', '96', '61'], 'predicted_two_grams': {'ra', 'st', '19'}, 'dice_similarity': 0.1}, {'uid': '93368', 'actual_two_grams': ['ge', 'eo', 'or', 'rg', 'ge', 'ep', 'po', 'ow', 'we', 'el', 'll', 'l4', '42', '22', '21', '19', '96', '61'], 'predicted_two_grams': {'ra', 'st', '19'}, 'dice_similarity': 0.1}, {'uid': '85334', 'actual_two_grams': ['ju', 'ud', 'di', 'it', 'th', 'hd', 'de', 'el', 'lo', 'or', 're', 'en', 'nz', 'zo', 'o5', '52', '24', '41', '19', '95', '59'], 'predicted_two_grams': {'ra', 'st', '19'}, 'dice_similarity': 0.0833}, {'uid': '73037', 'actual_two_grams': ['we', 'es', 'sl', 'le', 'ey', 'yv', 'vi', 'ia', 'at', 'to', 'or', 'r1', '12', '22', '21', '19', '99', '93'], 'predicted_two_grams': {'ra', 'st', '19'}, 'dice_similarity': 0.0952}, {'uid': '11834', 'actual_two_grams': ['ja', 'am', 'me', 'es', 'sb', 'bu', 'ur', 'rr', 're', 'el', 'll', 'l1', '12', '21', '10', '01', '19', '98', '83'], 'predicted_two_grams': {'ra', 'st', '19'}, 'dice_similarity': 0.0909}, {'uid': '79459', 'actual_two_grams': ['th', 'ho', 'om', 'ma', 'as', 'sh', 'hu', 'ut', 'tc', 'ch', 'hi', 'in', 'ns', 's7', '72', '29', '91', '19', '99', '90'], 'predicted_two_grams': {'ra', 'st', '19'}, 'dice_similarity': 0.087}, {'uid': '3570', 'actual_two_grams': ['wi', 'il', 'll', 'li', 'ia', 'am', 'ml', 'le', 'es', 'ss', 'sa', 'ar', 'rd', 'd7', '72', '25', '51', '19', '98', '80'], 'predicted_two_grams': {'ra', 'st', '19'}, 'dice_similarity': 0.087}, {'uid': '24459', 'actual_two_grams': ['br', 'ri', 'ia', 'an', 'np', 'pi', 'ie', 'er', 'rc', 'ce', 'e2', '22', '26', '61', '19', '96', '62'], 'predicted_two_grams': {'ra', 'st', '19'}, 'dice_similarity': 0.1}, {'uid': '83983', 'actual_two_grams': ['an', 'nn', 'ni', 'ie', 'eb', 'bo', 'oy', 'yd', 'd5', '51', '18', '81', '19', '93', '37'], 'predicted_two_grams': {'ra', 'st', '19'}, 'dice_similarity': 0.1111}, {'uid': '73665', 'actual_two_grams': ['ja', 'ac', 'co', 'ob', 'bj', 'jo', 'on', 'ne', 'es', 's2', '26', '61', '19', '93', '37'], 'predicted_two_grams': {'ra', 'st', '19'}, 'dice_similarity': 0.1111}, {'uid': '64806', 'actual_two_grams': ['ad', 'da', 'aw', 'we', 'el', 'll', 'lm', 'ma', 'an', 'n3', '34', '41', '19', '95', '56'], 'predicted_two_grams': {'ra', 'st', '19'}, 'dice_similarity': 0.1111}, {'uid': '58376', 'actual_two_grams': ['mi', 'ic', 'ch', 'ha', 'ae', 'el', 'lk', 'kn', 'no', 'ol', 'll', 'l1', '10', '02', '27', '71', '19', '98', '89'], 'predicted_two_grams': {'ra', 'st', '19'}, 'dice_similarity': 0.0909}, {'uid': '67661', 'actual_two_grams': ['pa', 'at', 'ts', 'sy', 'yl', 'ly', 'yd', 'da', 'a7', '72', '26', '61', '19', '99', '93'], 'predicted_two_grams': {'ra', 'st', '19'}, 'dice_similarity': 0.1111}, {'uid': '28187', 'actual_two_grams': ['ma', 'at', 'tt', 'th', 'he', 'ew', 'wp', 'pu', 'ur', 'rs', 'se', 'el', 'll', 'l2', '28', '81', '19', '96', '64'], 'predicted_two_grams': {'ra', 'st', '19'}, 'dice_similarity': 0.0909}, {'uid': '27148', 'actual_two_grams': ['ja', 'as', 'so', 'on', 'ng', 'gi', 'il', 'll', 'l1', '11', '18', '81', '19', '97', '77'], 'predicted_two_grams': {'ra', 'st', '19'}, 'dice_similarity': 0.1111}, {'uid': '33629', 'actual_two_grams': ['ka', 'ar', 're', 'en', 'nm', 'mu', 'ur', 'rr', 'ra', 'ay', 'y2', '21', '16', '61', '19', '97', '74'], 'predicted_two_grams': {'ra', 'st', '19'}, 'dice_similarity': 0.2}, {'uid': '77955', 'actual_two_grams': ['da', 'an', 'na', 'ad', 'do', 'or', 'rs', 'se', 'ey', 'y4', '47', '71', '19', '94', '43'], 'predicted_two_grams': {'ra', 'st', '19'}, 'dice_similarity': 0.1111}, {'uid': '97651', 'actual_two_grams': ['fr', 'ra', 'an', 'nk', 'kt', 'to', 'op', 'pp', 'pi', 'in', 'ng', 'g1', '10', '02', '24', '41', '19', '99', '98'], 'predicted_two_grams': {'ra', 'st', '19'}, 'dice_similarity': 0.1818}, {'uid': '96819', 'actual_two_grams': ['je', 'er', 'rr', 'ry', 'yb', 'br', 'ra', 'an', 'nt', 'tl', 'le', 'ey', 'y8', '83', '31', '19', '96', '66'], 'predicted_two_grams': {'ra', 'st', '19'}, 'dice_similarity': 0.1905}, {'uid': '40894', 'actual_two_grams': ['an', 'nt', 'to', 'on', 'ni', 'io', 'om', 'ma', 'ah', 'ha', 'ar', 'r9', '95', '51', '19', '99', '91'], 'predicted_two_grams': {'ra', 'st', '19'}, 'dice_similarity': 0.1}, {'uid': '61112', 'actual_two_grams': ['ma', 'an', 'nd', 'dy', 'yc', 'co', 'oo', 'op', 'pe', 'er', 'r3', '31', '11', '19', '93', '38'], 'predicted_two_grams': {'ra', 'st', '19'}, 'dice_similarity': 0.1053}, {'uid': '34111', 'actual_two_grams': ['wi', 'il', 'll', 'li', 'ia', 'am', 'mf', 'fr', 'ra', 'an', 'nk', 'ks', 's1', '11', '11', '11', '19', '99', '93'], 'predicted_two_grams': {'ra', 'st', '19'}, 'dice_similarity': 0.2}, {'uid': '34408', 'actual_two_grams': ['an', 'ng', 'ge', 'el', 'la', 'ab', 'be', 'et', 'tt', 'ts', 's3', '32', '29', '92', '20', '00', '00'], 'predicted_two_grams': {'ra', 'st', '19'}, 'dice_similarity': 0.0}, {'uid': '355', 'actual_two_grams': ['cl', 'la', 'au', 'ud', 'di', 'ia', 'am', 'mo', 'or', 'ra', 'al', 'le', 'es', 's4', '42', '29', '91', '19', '96', '62'], 'predicted_two_grams': {'ra', 'st', '19'}, 'dice_similarity': 0.1739}, {'uid': '96463', 'actual_two_grams': ['ma', 'ar', 'ri', 'ia', 'at', 'ta', 'ay', 'yl', 'lo', 'or', 'r6', '61', '16', '61', '19', '93', '37'], 'predicted_two_grams': {'ra', 'st', '19'}, 'dice_similarity': 0.1053}, {'uid': '60629', 'actual_two_grams': ['ro', 'os', 'sa', 'an', 'nn', 'ne', 'eg', 'gr', 'ra', 'ay', 'yb', 'bi', 'il', 'll', 'l5', '52', '22', '21', '19', '93', '39'], 'predicted_two_grams': {'ra', 'st', '19'}, 'dice_similarity': 0.1667}, {'uid': '81389', 'actual_two_grams': ['jo', 'oe', 'ed', 'do', 'ob', 'bb', 'bi', 'in', 'ns', 's6', '64', '41', '19', '96', '67'], 'predicted_two_grams': {'ra', 'st', '19'}, 'dice_similarity': 0.1111}, {'uid': '72900', 'actual_two_grams': ['cl', 'la', 'ar', 're', 'en', 'nc', 'ce', 'et', 'tu', 'ul', 'll', 'li', 'is', 's4', '41', '10', '01', '19', '99', '97'], 'predicted_two_grams': {'ra', 'st', '19'}, 'dice_similarity': 0.087}, {'uid': '40318', 'actual_two_grams': ['ma', 'al', 'li', 'is', 'ss', 'sa', 'ab', 'bi', 'in', 'nn', 'ns', 's1', '10', '02', '26', '61', '19', '96', '60'], 'predicted_two_grams': {'ra', 'st', '19'}, 'dice_similarity': 0.0909}, {'uid': '22173', 'actual_two_grams': ['ja', 'ac', 'ck', 'kp', 'pi', 'ie', 'er', 'rc', 'ce', 'e4', '41', '11', '11', '19', '98', '84'], 'predicted_two_grams': {'ra', 'st', '19'}, 'dice_similarity': 0.1111}, {'uid': '48691', 'actual_two_grams': ['ri', 'ic', 'ch', 'ha', 'ar', 'rd', 'dw', 'wa', 'ar', 'rr', 're', 'en', 'n4', '41', '17', '71', '19', '97', '72'], 'predicted_two_grams': {'ra', 'st', '19'}, 'dice_similarity': 0.0952}, {'uid': '85676', 'actual_two_grams': ['st', 'ta', 'ac', 'ce', 'ey', 'yc', 'ca', 'ar', 'rr', 'ri', 'il', 'll', 'lo', 'o4', '48', '81', '19', '98', '83'], 'predicted_two_grams': {'ra', 'st', '19'}, 'dice_similarity': 0.1818}, {'uid': '45920', 'actual_two_grams': ['ke', 'en', 'nn', 'ne', 'et', 'th', 'hw', 'wh', 'hi', 'it', 'tn', 'ne', 'ey', 'y8', '85', '51', '19', '99', '96'], 'predicted_two_grams': {'ra', 'st', '19'}, 'dice_similarity': 0.0952}, {'uid': '63585', 'actual_two_grams': ['ro', 'ob', 'be', 'er', 'rt', 'tk', 'ki', 'in', 'ng', 'g1', '12', '23', '31', '19', '96', '60'], 'predicted_two_grams': {'ra', 'st', '19'}, 'dice_similarity': 0.1053}, {'uid': '67729', 'actual_two_grams': ['ch', 'hr', 'ri', 'is', 'sc', 'ch', 'ha', 'am', 'mb', 'bl', 'li', 'is', 'ss', 's7', '71', '10', '02', '20', '00', '01'], 'predicted_two_grams': {'ra', 'st', '19'}, 'dice_similarity': 0.0}, {'uid': '83035', 'actual_two_grams': ['my', 'yr', 'rt', 'tl', 'le', 'es', 'st', 'ta', 'an', 'nd', 'dl', 'le', 'ey', 'y4', '41', '18', '81', '19', '95', '51'], 'predicted_two_grams': {'ra', 'st', '19'}, 'dice_similarity': 0.1818}, {'uid': '24444', 'actual_two_grams': ['jo', 'os', 'se', 'ep', 'ph', 'hc', 'ch', 'he', 'en', 'ne', 'ey', 'y6', '61', '10', '01', '19', '99', '91'], 'predicted_two_grams': {'ra', 'st', '19'}, 'dice_similarity': 0.0952}, {'uid': '57474', 'actual_two_grams': ['lo', 'or', 'ri', 'io', 'ou', 'ut', 'tl', 'la', 'an', 'nd', 'd3', '37', '71', '19', '97', '76'], 'predicted_two_grams': {'ra', 'st', '19'}, 'dice_similarity': 0.1053}, {'uid': '51486', 'actual_two_grams': ['gr', 'ra', 'an', 'nt', 'tv', 'vi', 'il', 'll', 'la', 'al', 'lp', 'pa', 'an', 'nd', 'do', 'o8', '86', '61', '19', '97', '78'], 'predicted_two_grams': {'ra', 'st', '19'}, 'dice_similarity': 0.1739}, {'uid': '14974', 'actual_two_grams': ['te', 'er', 're', 'es', 'sa', 'aw', 'we', 'el', 'ls', 'sc', 'ch', 'h9', '94', '42', '20', '00', '03'], 'predicted_two_grams': {'ra', 'st', '19'}, 'dice_similarity': 0.0}, {'uid': '12476', 'actual_two_grams': ['wi', 'il', 'll', 'li', 'ia', 'am', 'mw', 'wa', 'al', 'll', 'le', 'er', 'r6', '63', '31', '19', '99', '90'], 'predicted_two_grams': {'ra', 'st', '19'}, 'dice_similarity': 0.1}, {'uid': '37697', 'actual_two_grams': ['el', 'll', 'la', 'ap', 'pr', 'ro', 'ov', 've', 'en', 'nc', 'ca', 'al', 'l1', '11', '11', '11', '19', '99', '92'], 'predicted_two_grams': {'ra', 'st', '19'}, 'dice_similarity': 0.1}, {'uid': '54082', 'actual_two_grams': ['al', 'lb', 'be', 'er', 'rt', 'tm', 'mc', 'cc', 'co', 'ol', 'll', 'li', 'is', 'st', 'te', 'er', 'r5', '52', '24', '41', '19', '96', '64'], 'predicted_two_grams': {'ra', 'st', '19'}, 'dice_similarity': 0.16}, {'uid': '86896', 'actual_two_grams': ['ja', 'ac', 'cq', 'qu', 'ue', 'es', 'sw', 'wi', 'il', 'll', 'la', 'ar', 'rd', 'd8', '81', '19', '91', '19', '94', '48'], 'predicted_two_grams': {'ra', 'st', '19'}, 'dice_similarity': 0.0909}, {'uid': '86051', 'actual_two_grams': ['ca', 'am', 'mi', 'il', 'll', 'le', 'ec', 'co', 'oh', 'he', 'en', 'n1', '10', '02', '20', '01', '19', '96', '62'], 'predicted_two_grams': {'ra', 'st', '19'}, 'dice_similarity': 0.0909}, {'uid': '45540', 'actual_two_grams': ['da', 'av', 'vi', 'id', 'dl', 'le', 'ew', 'wi', 'is', 's6', '61', '13', '31', '19', '97', '70'], 'predicted_two_grams': {'ra', 'st', '19'}, 'dice_similarity': 0.1053}, {'uid': '87359', 'actual_two_grams': ['ma', 'at', 'th', 'he', 'ew', 'wh', 'ho', 'ol', 'lb', 'br', 'ro', 'oo', 'ok', 'k8', '82', '24', '41', '19', '95', '51'], 'predicted_two_grams': {'ra', 'st', '19'}, 'dice_similarity': 0.087}, {'uid': '63318', 'actual_two_grams': ['cl', 'la', 'ar', 'ra', 'aw', 'wi', 'il', 'ls', 'so', 'on', 'n4', '42', '23', '31', '19', '96', '63'], 'predicted_two_grams': {'ra', 'st', '19'}, 'dice_similarity': 0.2}, {'uid': '60752', 'actual_two_grams': ['li', 'in', 'nd', 'da', 'al', 'la', 'aw', 'wr', 're', 'en', 'nc', 'ce', 'e2', '25', '51', '19', '99', '98'], 'predicted_two_grams': {'ra', 'st', '19'}, 'dice_similarity': 0.0952}, {'uid': '44317', 'actual_two_grams': ['ma', 'ar', 'rk', 'kh', 'hi', 'ic', 'ck', 'ks', 's9', '91', '16', '62', '20', '00', '02'], 'predicted_two_grams': {'ra', 'st', '19'}, 'dice_similarity': 0.0}, {'uid': '18898', 'actual_two_grams': ['th', 'he', 'el', 'lm', 'ma', 'as', 'si', 'in', 'ne', 'e9', '91', '13', '31', '19', '99', '90'], 'predicted_two_grams': {'ra', 'st', '19'}, 'dice_similarity': 0.1053}, {'uid': '47734', 'actual_two_grams': ['la', 'au', 'ur', 'ra', 'am', 'me', 'en', 'nd', 'do', 'oz', 'za', 'a3', '31', '17', '71', '19', '95', '53'], 'predicted_two_grams': {'ra', 'st', '19'}, 'dice_similarity': 0.1905}, {'uid': '75879', 'actual_two_grams': ['na', 'an', 'nc', 'cy', 'ys', 'sa', 'al', 'la', 'aa', 'am', 'm1', '11', '12', '22', '21', '19', '96', '66'], 'predicted_two_grams': {'ra', 'st', '19'}, 'dice_similarity': 0.0952}, {'uid': '42940', 'actual_two_grams': ['ph', 'hi', 'il', 'li', 'ip', 'pc', 'co', 'oy', 'yl', 'le', 'e5', '57', '71', '19', '97', '71'], 'predicted_two_grams': {'ra', 'st', '19'}, 'dice_similarity': 0.1111}, {'uid': '64937', 'actual_two_grams': ['ro', 'ox', 'xa', 'an', 'nn', 'ne', 'ec', 'co', 'ol', 'lo', 'on', 'n3', '33', '31', '19', '94', '42'], 'predicted_two_grams': {'ra', 'st', '19'}, 'dice_similarity': 0.1}, {'uid': '4564', 'actual_two_grams': ['ma', 'at', 'tt', 'th', 'he', 'ew', 'ww', 'wa', 'al', 'll', 'le', 'er', 'r1', '11', '12', '26', '61', '19', '94', '48'], 'predicted_two_grams': {'ra', 'st', '19'}, 'dice_similarity': 0.087}, {'uid': '53685', 'actual_two_grams': ['sc', 'co', 'ot', 'tt', 'tt', 'ts', 'so', 'os', 'si', 'ie', 'e1', '10', '01', '11', '12', '20', '00', '02'], 'predicted_two_grams': {'ra', 'st', '19'}, 'dice_similarity': 0.0}, {'uid': '33443', 'actual_two_grams': ['gr', 're', 'eg', 'go', 'or', 'ry', 'yt', 'to', 'om', 'mp', 'pk', 'ki', 'in', 'ns', 's7', '73', '30', '01', '19', '95', '51'], 'predicted_two_grams': {'ra', 'st', '19'}, 'dice_similarity': 0.0833}, {'uid': '89066', 'actual_two_grams': ['sa', 'am', 'ma', 'an', 'nt', 'th', 'ha', 'as', 'sh', 'ho', 'oe', 'em', 'ma', 'ak', 'ke', 'e2', '21', '11', '19', '98', '87'], 'predicted_two_grams': {'ra', 'st', '19'}, 'dice_similarity': 0.087}, {'uid': '42694', 'actual_two_grams': ['be', 'ev', 've', 'er', 'rl', 'ly', 'yl', 'lu', 'us', 'sk', 'k1', '12', '21', '12', '21', '19', '98', '81'], 'predicted_two_grams': {'ra', 'st', '19'}, 'dice_similarity': 0.1053}, {'uid': '82274', 'actual_two_grams': ['ga', 'ar', 'ry', 'yb', 'br', 'ro', 'om', 'mb', 'be', 'er', 'rg', 'g2', '22', '21', '19', '98', '89'], 'predicted_two_grams': {'ra', 'st', '19'}, 'dice_similarity': 0.1}, {'uid': '12944', 'actual_two_grams': ['ke', 'el', 'll', 'ly', 'yr', 're', 'ed', 'dd', 'di', 'in', 'ng', 'g2', '24', '41', '19', '98', '83'], 'predicted_two_grams': {'ra', 'st', '19'}, 'dice_similarity': 0.1}, {'uid': '71912', 'actual_two_grams': ['ge', 'eo', 'or', 'rg', 'ge', 'eg', 'gl', 'lo', 'ov', 've', 'er', 'r3', '32', '21', '19', '96', '62'], 'predicted_two_grams': {'ra', 'st', '19'}, 'dice_similarity': 0.1053}, {'uid': '72533', 'actual_two_grams': ['ma', 'ar', 'rk', 'ko', 'ol', 'la', 'ag', 'gu', 'ue', 'e1', '12', '23', '31', '19', '95', '52'], 'predicted_two_grams': {'ra', 'st', '19'}, 'dice_similarity': 0.1053}, {'uid': '70856', 'actual_two_grams': ['je', 'er', 'ri', 'il', 'ly', 'yn', 'nr', 'ri', 'il', 'le', 'ey', 'y1', '10', '03', '31', '19', '96', '63'], 'predicted_two_grams': {'ra', 'st', '19'}, 'dice_similarity': 0.1053}, {'uid': '39750', 'actual_two_grams': ['ga', 'ar', 'ry', 'yj', 'jo', 'oh', 'hn', 'ns', 'so', 'on', 'n1', '11', '11', '18', '81', '19', '98', '86'], 'predicted_two_grams': {'ra', 'st', '19'}, 'dice_similarity': 0.1}, {'uid': '38722', 'actual_two_grams': ['fa', 'an', 'nn', 'ni', 'ie', 'ec', 'co', 'on', 'nn', 'n1', '12', '21', '17', '72', '20', '00', '01'], 'predicted_two_grams': {'ra', 'st', '19'}, 'dice_similarity': 0.0}, {'uid': '1289', 'actual_two_grams': ['sa', 'ar', 'ra', 'ah', 'ho', 'of', 'ff', 'fm', 'ma', 'an', 'n1', '12', '27', '71', '19', '99', '96'], 'predicted_two_grams': {'ra', 'st', '19'}, 'dice_similarity': 0.2}, {'uid': '85068', 'actual_two_grams': ['cr', 'ri', 'is', 'st', 'ti', 'in', 'na', 'am', 'mo', 'oh', 'hr', 'r1', '13', '31', '19', '98', '85'], 'predicted_two_grams': {'ra', 'st', '19'}, 'dice_similarity': 0.2}, {'uid': '8850', 'actual_two_grams': ['sh', 'ha', 'an', 'nn', 'no', 'on', 'nc', 'cu', 'ur', 'rr', 'ri', 'in', 'n8', '82', '24', '41', '19', '97', '74'], 'predicted_two_grams': {'ra', 'st', '19'}, 'dice_similarity': 0.0909}, {'uid': '79788', 'actual_two_grams': ['ra', 'al', 'lp', 'ph', 'hf', 'fe', 'el', 'li', 'ix', 'x5', '52', '20', '01', '19', '96', '63'], 'predicted_two_grams': {'ra', 'st', '19'}, 'dice_similarity': 0.2105}, {'uid': '35476', 'actual_two_grams': ['ja', 'ac', 'ck', 'ki', 'ie', 'em', 'mi', 'it', 'tc', 'ch', 'he', 'el', 'll', 'l4', '45', '51', '19', '99', '91'], 'predicted_two_grams': {'ra', 'st', '19'}, 'dice_similarity': 0.0909}, {'uid': '87817', 'actual_two_grams': ['ti', 'im', 'mo', 'ot', 'th', 'hy', 'yd', 'di', 'ix', 'xo', 'on', 'n3', '33', '30', '01', '19', '94', '48'], 'predicted_two_grams': {'ra', 'st', '19'}, 'dice_similarity': 0.0952}, {'uid': '35220', 'actual_two_grams': ['li', 'is', 'sa', 'ar', 'ra', 'ay', 'ye', 'es', 's3', '33', '31', '19', '99', '91'], 'predicted_two_grams': {'ra', 'st', '19'}, 'dice_similarity': 0.2353}, {'uid': '31743', 'actual_two_grams': ['li', 'is', 'sa', 'ab', 'bu', 'ug', 'gg', 'gs', 's7', '72', '28', '81', '19', '98', '81'], 'predicted_two_grams': {'ra', 'st', '19'}, 'dice_similarity': 0.1176}, {'uid': '3390', 'actual_two_grams': ['mo', 'or', 'rg', 'ga', 'an', 'ns', 'su', 'ua', 'ar', 're', 'ez', 'z4', '48', '81', '19', '94', '46'], 'predicted_two_grams': {'ra', 'st', '19'}, 'dice_similarity': 0.1}, {'uid': '27845', 'actual_two_grams': ['bo', 'on', 'nn', 'ni', 'ie', 'ep', 'pl', 'le', 'ea', 'as', 'sa', 'an', 'nt', 'ts', 's7', '72', '29', '91', '19', '94', '40'], 'predicted_two_grams': {'ra', 'st', '19'}, 'dice_similarity': 0.0833}, {'uid': '57561', 'actual_two_grams': ['no', 'ol', 'la', 'ag', 'gr', 'ra', 'an', 'nt', 't4', '48', '81', '19', '94', '42'], 'predicted_two_grams': {'ra', 'st', '19'}, 'dice_similarity': 0.2353}, {'uid': '47954', 'actual_two_grams': ['ju', 'ud', 'di', 'it', 'th', 'hh', 'ho', 'ou', 'us', 'se', 'er', 'r8', '81', '16', '62', '20', '00', '00'], 'predicted_two_grams': {'ra', 'st', '19'}, 'dice_similarity': 0.0}, {'uid': '32224', 'actual_two_grams': ['ch', 'ha', 'ar', 'rl', 'le', 'es', 'so', \"o'\", \"'n\", 'ne', 'ei', 'il', 'll', 'l5', '51', '11', '11', '19', '93', '37'], 'predicted_two_grams': {'ra', 'st', '19'}, 'dice_similarity': 0.0909}, {'uid': '76922', 'actual_two_grams': ['ed', 'dw', 'wa', 'ar', 'rd', 'dl', 'le', 'ed', 'do', 'ou', 'ux', 'x1', '10', '02', '22', '20', '00', '03'], 'predicted_two_grams': {'ra', 'st', '19'}, 'dice_similarity': 0.0}, {'uid': '38865', 'actual_two_grams': ['ph', 'hi', 'il', 'll', 'li', 'ip', 'pj', 'jo', 'or', 'rd', 'de', 'en', 'n4', '41', '11', '11', '19', '97', '73'], 'predicted_two_grams': {'ra', 'st', '19'}, 'dice_similarity': 0.0952}, {'uid': '92657', 'actual_two_grams': ['ir', 'ri', 'is', 'sd', 'de', 'el', 'lv', 'va', 'al', 'll', 'le', 'e6', '68', '81', '19', '93', '38'], 'predicted_two_grams': {'ra', 'st', '19'}, 'dice_similarity': 0.1}, {'uid': '78679', 'actual_two_grams': ['la', 'ak', 'ki', 'is', 'sh', 'ha', 'as', 'st', 'tr', 'ri', 'ic', 'ck', 'kl', 'la', 'an', 'nd', 'd6', '66', '61', '19', '94', '44'], 'predicted_two_grams': {'ra', 'st', '19'}, 'dice_similarity': 0.1667}, {'uid': '97419', 'actual_two_grams': ['ro', 'ob', 'be', 'er', 'rt', 'to', 'od', 'di', 'ic', 'ck', 'ke', 'en', 'ns', 'so', 'on', 'n5', '53', '30', '01', '19', '95', '57'], 'predicted_two_grams': {'ra', 'st', '19'}, 'dice_similarity': 0.08}, {'uid': '77179', 'actual_two_grams': ['da', 'an', 'ne', 'es', 'st', 'te', 'er', 'rl', 'li', 'in', 'ng', 'g9', '91', '12', '21', '19', '95', '52'], 'predicted_two_grams': {'ra', 'st', '19'}, 'dice_similarity': 0.1905}, {'uid': '82056', 'actual_two_grams': ['ga', 'ar', 'rr', 'ry', 'yb', 'br', 'ro', 'ow', 'wn', 'n1', '11', '19', '91', '19', '94', '49'], 'predicted_two_grams': {'ra', 'st', '19'}, 'dice_similarity': 0.1111}, {'uid': '51188', 'actual_two_grams': ['ri', 'ic', 'ch', 'ha', 'ar', 'rd', 'dp', 'pu', 'uc', 'ck', 'ke', 'et', 'tt', 't5', '54', '41', '19', '99', '93'], 'predicted_two_grams': {'ra', 'st', '19'}, 'dice_similarity': 0.0909}, {'uid': '68086', 'actual_two_grams': ['se', 'ea', 'an', 'nm', 'mi', 'il', 'll', 'ls', 's1', '19', '91', '19', '99', '92'], 'predicted_two_grams': {'ra', 'st', '19'}, 'dice_similarity': 0.125}, {'uid': '25803', 'actual_two_grams': ['ka', 'ar', 're', 'en', 'nr', 'ro', 'ob', 'be', 'er', 'rs', 'so', 'on', 'n2', '21', '13', '31', '19', '95', '53'], 'predicted_two_grams': {'ra', 'st', '19'}, 'dice_similarity': 0.0909}, {'uid': '84226', 'actual_two_grams': ['ir', 're', 'en', 'ne', 'eg', 'go', 'oe', 'et', 'tz', 'z6', '61', '19', '91', '19', '96', '64'], 'predicted_two_grams': {'ra', 'st', '19'}, 'dice_similarity': 0.1111}, {'uid': '46175', 'actual_two_grams': ['ga', 'ar', 'ry', 'yl', 'le', 'ei', 'ig', 'gh', 'h1', '11', '11', '15', '51', '19', '96', '69'], 'predicted_two_grams': {'ra', 'st', '19'}, 'dice_similarity': 0.1111}, {'uid': '36608', 'actual_two_grams': ['as', 'sh', 'hl', 'le', 'ey', 'yf', 'fr', 'ri', 'id', 'da', 'ay', 'y1', '11', '12', '21', '12', '20', '00', '01'], 'predicted_two_grams': {'ra', 'st', '19'}, 'dice_similarity': 0.0}, {'uid': '16782', 'actual_two_grams': ['se', 'ea', 'an', 'nl', 'li', 'in', 'ng', 'ge', 'er', 'r5', '51', '12', '21', '19', '95', '56'], 'predicted_two_grams': {'ra', 'st', '19'}, 'dice_similarity': 0.1053}, {'uid': '8293', 'actual_two_grams': ['li', 'in', 'nd', 'ds', 'se', 'ey', 'yd', 'de', 'em', 'mp', 'ps', 'st', 'te', 'er', 'r6', '62', '20', '01', '19', '94', '45'], 'predicted_two_grams': {'ra', 'st', '19'}, 'dice_similarity': 0.1667}, {'uid': '20184', 'actual_two_grams': ['cl', 'la', 'ar', 'ra', 'ah', 'hy', 'ym', 'me', 'es', 's9', '91', '18', '81', '19', '95', '54'], 'predicted_two_grams': {'ra', 'st', '19'}, 'dice_similarity': 0.2105}, {'uid': '34711', 'actual_two_grams': ['cl', 'la', 'au', 'ud', 'de', 'es', 'sc', 'ch', 'hr', 're', 'ei', 'ie', 'er', 'r1', '12', '21', '17', '71', '19', '99', '93'], 'predicted_two_grams': {'ra', 'st', '19'}, 'dice_similarity': 0.0833}, {'uid': '58810', 'actual_two_grams': ['da', 'ar', 'rl', 'le', 'en', 'ne', 'el', 'lu', 'ut', 'tz', 'z3', '38', '81', '19', '95', '53'], 'predicted_two_grams': {'ra', 'st', '19'}, 'dice_similarity': 0.1053}, {'uid': '94663', 'actual_two_grams': ['ma', 'ar', 'rg', 'ga', 'ar', 're', 'et', 'tl', 'la', 'ar', 'rs', 'se', 'en', 'n2', '29', '91', '19', '99', '92'], 'predicted_two_grams': {'ra', 'st', '19'}, 'dice_similarity': 0.1}, {'uid': '85116', 'actual_two_grams': ['ra', 'an', 'nd', 'dy', 'yb', 'ba', 'al', 'ld', 'dr', 'ri', 'id', 'dg', 'ge', 'e2', '21', '18', '81', '19', '98', '88'], 'predicted_two_grams': {'ra', 'st', '19'}, 'dice_similarity': 0.1739}, {'uid': '37424', 'actual_two_grams': ['be', 'et', 'th', 'hm', 'ma', 'ah', 'hn', 'n1', '11', '11', '12', '21', '19', '95', '52'], 'predicted_two_grams': {'ra', 'st', '19'}, 'dice_similarity': 0.1176}, {'uid': '48637', 'actual_two_grams': ['cl', 'le', 'et', 'ta', 'aj', 'jo', 'on', 'ne', 'es', 's1', '10', '04', '41', '19', '99', '96'], 'predicted_two_grams': {'ra', 'st', '19'}, 'dice_similarity': 0.1053}, {'uid': '95991', 'actual_two_grams': ['ha', 'ar', 'ro', 'ol', 'ld', 'da', 'al', 'lg', 'ge', 'er', 'r1', '12', '21', '11', '19', '98', '88'], 'predicted_two_grams': {'ra', 'st', '19'}, 'dice_similarity': 0.1}, {'uid': '62708', 'actual_two_grams': ['ne', 'ev', 'va', 'ah', 'hu', 'ul', 'li', 'in', 'ng', 'gs', 's3', '31', '13', '31', '19', '98', '84'], 'predicted_two_grams': {'ra', 'st', '19'}, 'dice_similarity': 0.1053}, {'uid': '47539', 'actual_two_grams': ['lu', 'uc', 'ci', 'il', 'll', 'le', 'es', 'st', 'te', 'ev', 've', 'en', 'ns', 'so', 'on', 'n4', '41', '12', '21', '19', '94', '47'], 'predicted_two_grams': {'ra', 'st', '19'}, 'dice_similarity': 0.16}, {'uid': '6958', 'actual_two_grams': ['ce', 'el', 'le', 'es', 'st', 'te', 'et', 'te', 'ea', 'ag', 'gu', 'ue', 'e1', '10', '02', '21', '11', '19', '94', '43'], 'predicted_two_grams': {'ra', 'st', '19'}, 'dice_similarity': 0.1818}, {'uid': '90555', 'actual_two_grams': ['ma', 'at', 'tt', 'th', 'he', 'ew', 'wf', 'fa', 'al', 'll', 'li', 'in', 'n1', '10', '09', '91', '19', '97', '78'], 'predicted_two_grams': {'ra', 'st', '19'}, 'dice_similarity': 0.0909}, {'uid': '54954', 'actual_two_grams': ['am', 'ma', 'an', 'nd', 'da', 'al', 'la', 'aw', 'ws', 'so', 'on', 'n8', '82', '27', '71', '19', '96', '65'], 'predicted_two_grams': {'ra', 'st', '19'}, 'dice_similarity': 0.0952}, {'uid': '11323', 'actual_two_grams': ['sh', 'ha', 'ar', 'ro', 'on', 'ns', 'sm', 'mi', 'it', 'th', 'h8', '82', '21', '11', '19', '99', '97'], 'predicted_two_grams': {'ra', 'st', '19'}, 'dice_similarity': 0.1}, {'uid': '78318', 'actual_two_grams': ['ta', 'ay', 'yl', 'lo', 'or', 'rl', 'le', 'ee', 'e7', '77', '71', '19', '98', '83'], 'predicted_two_grams': {'ra', 'st', '19'}, 'dice_similarity': 0.1176}, {'uid': '52906', 'actual_two_grams': ['ma', 'ar', 'ry', 'yg', 'ga', 'al', 'll', 'lo', 'ow', 'wa', 'ay', 'y1', '10', '08', '81', '19', '97', '78'], 'predicted_two_grams': {'ra', 'st', '19'}, 'dice_similarity': 0.0952}, {'uid': '46581', 'actual_two_grams': ['ju', 'ul', 'li', 'im', 'mc', 'cd', 'da', 'an', 'ni', 'ie', 'el', 'l1', '15', '51', '19', '95', '59'], 'predicted_two_grams': {'ra', 'st', '19'}, 'dice_similarity': 0.1}, {'uid': '62424', 'actual_two_grams': ['li', 'in', 'nd', 'da', 'am', 'ma', 'ar', 'rt', 'ti', 'in', 'ne', 'ez', 'z9', '92', '20', '01', '19', '95', '55'], 'predicted_two_grams': {'ra', 'st', '19'}, 'dice_similarity': 0.0952}, {'uid': '89059', 'actual_two_grams': ['be', 'er', 'rn', 'na', 'ar', 'rd', 'dr', 'ri', 'ic', 'ch', 'hm', 'mo', 'on', 'nd', 'd1', '12', '23', '31', '19', '97', '77'], 'predicted_two_grams': {'ra', 'st', '19'}, 'dice_similarity': 0.0833}, {'uid': '15946', 'actual_two_grams': ['li', 'is', 'sa', 'aq', 'qu', 'ui', 'ir', 'ro', 'oz', 'z1', '10', '02', '26', '61', '19', '98', '88'], 'predicted_two_grams': {'ra', 'st', '19'}, 'dice_similarity': 0.1}, {'uid': '90446', 'actual_two_grams': ['ry', 'ya', 'an', 'nr', 'ro', 'ob', 'be', 'er', 'rt', 'ts', 's8', '81', '19', '91', '19', '99', '96'], 'predicted_two_grams': {'ra', 'st', '19'}, 'dice_similarity': 0.1053}, {'uid': '75795', 'actual_two_grams': ['ma', 'ar', 'ry', 'yk', 'ke', 'ei', 'il', 'l6', '61', '12', '21', '19', '97', '74'], 'predicted_two_grams': {'ra', 'st', '19'}, 'dice_similarity': 0.1176}, {'uid': '56822', 'actual_two_grams': ['ch', 'hr', 'ri', 'is', 'st', 'ti', 'in', 'ne', 'es', 'sh', 'he', 'er', 'rw', 'wo', 'oo', 'od', 'd8', '81', '13', '31', '19', '96', '60'], 'predicted_two_grams': {'ra', 'st', '19'}, 'dice_similarity': 0.1538}, {'uid': '7242', 'actual_two_grams': ['ge', 'eo', 'or', 'rg', 'ge', 'eb', 'ba', 'ak', 'ke', 'er', 'r3', '31', '15', '51', '19', '94', '47'], 'predicted_two_grams': {'ra', 'st', '19'}, 'dice_similarity': 0.1053}, {'uid': '35399', 'actual_two_grams': ['lo', 'or', 're', 'et', 'tt', 'ta', 'aw', 'wi', 'il', 'll', 'li', 'ia', 'am', 'ms', 's1', '10', '02', '23', '31', '19', '97', '71'], 'predicted_two_grams': {'ra', 'st', '19'}, 'dice_similarity': 0.08}, {'uid': '512', 'actual_two_grams': ['ke', 'ei', 'it', 'th', 'hh', 'he', 'er', 'rn', 'na', 'an', 'nd', 'de', 'ez', 'z3', '31', '13', '31', '19', '96', '63'], 'predicted_two_grams': {'ra', 'st', '19'}, 'dice_similarity': 0.0909}, {'uid': '7867', 'actual_two_grams': ['da', 'an', 'ni', 'ie', 'el', 'lr', 'ro', 'om', 'ma', 'an', 'no', 'o1', '10', '05', '52', '20', '00', '01'], 'predicted_two_grams': {'ra', 'st', '19'}, 'dice_similarity': 0.0}, {'uid': '38882', 'actual_two_grams': ['la', 'ar', 'rr', 'ry', 'yd', 'di', 'ia', 'az', 'z9', '96', '61', '19', '94', '47'], 'predicted_two_grams': {'ra', 'st', '19'}, 'dice_similarity': 0.1176}, {'uid': '6000', 'actual_two_grams': ['de', 'en', 'ni', 'is', 'sh', 'ha', 'ab', 'bi', 'ib', 'bl', 'le', 'e7', '74', '41', '19', '96', '64'], 'predicted_two_grams': {'ra', 'st', '19'}, 'dice_similarity': 0.1}, {'uid': '64213', 'actual_two_grams': ['de', 'el', 'll', 'la', 'am', 'ma', 'ar', 'rt', 'ti', 'in', 'n2', '21', '11', '19', '96', '63'], 'predicted_two_grams': {'ra', 'st', '19'}, 'dice_similarity': 0.1053}, {'uid': '1649', 'actual_two_grams': ['su', 'uz', 'za', 'an', 'nn', 'ne', 'ef', 'fr', 'ra', 'az', 'zi', 'ie', 'er', 'r6', '61', '13', '31', '19', '99', '96'], 'predicted_two_grams': {'ra', 'st', '19'}, 'dice_similarity': 0.1739}, {'uid': '85782', 'actual_two_grams': ['li', 'is', 'sa', 'av', 'vo', 'og', 'ge', 'el', 'ls', 'sa', 'an', 'ng', 'g6', '62', '20', '01', '19', '99', '94'], 'predicted_two_grams': {'ra', 'st', '19'}, 'dice_similarity': 0.0952}, {'uid': '34513', 'actual_two_grams': ['id', 'da', 'ad', 'da', 'av', 'vi', 'is', 's1', '11', '19', '91', '19', '96', '62'], 'predicted_two_grams': {'ra', 'st', '19'}, 'dice_similarity': 0.1333}, {'uid': '92308', 'actual_two_grams': ['ma', 'ar', 'ri', 'ia', 'an', 'ns', 'sm', 'mi', 'it', 'th', 'h7', '71', '15', '51', '19', '95', '53'], 'predicted_two_grams': {'ra', 'st', '19'}, 'dice_similarity': 0.1}, {'uid': '24184', 'actual_two_grams': ['ne', 'et', 'tt', 'ti', 'ie', 'em', 'ma', 'ar', 'rt', 'ti', 'in', 'ne', 'ez', 'z1', '10', '02', '26', '61', '19', '95', '59'], 'predicted_two_grams': {'ra', 'st', '19'}, 'dice_similarity': 0.0909}, {'uid': '40600', 'actual_two_grams': ['ju', 'us', 'st', 'ti', 'in', 'nr', 'ra', 'am', 'ms', 'se', 'ey', 'y1', '10', '01', '16', '61', '19', '99', '94'], 'predicted_two_grams': {'ra', 'st', '19'}, 'dice_similarity': 0.2727}, {'uid': '31551', 'actual_two_grams': ['je', 'ea', 'an', 'ni', 'in', 'ne', 'ec', 'co', 'om', 'me', 'ea', 'au', 'u4', '42', '29', '91', '19', '99', '99'], 'predicted_two_grams': {'ra', 'st', '19'}, 'dice_similarity': 0.1}, {'uid': '1131', 'actual_two_grams': ['wi', 'il', 'll', 'li', 'ia', 'am', 'mb', 'ba', 'ar', 'rr', 'ro', 'ow', 'w6', '62', '24', '41', '19', '95', '52'], 'predicted_two_grams': {'ra', 'st', '19'}, 'dice_similarity': 0.0909}, {'uid': '94005', 'actual_two_grams': ['ca', 'ar', 'rm', 'me', 'en', 'nc', 'ca', 'ar', 'rd', 'de', 'en', 'n1', '12', '20', '02', '20', '00', '01'], 'predicted_two_grams': {'ra', 'st', '19'}, 'dice_similarity': 0.0}, {'uid': '15576', 'actual_two_grams': ['ca', 'al', 'le', 'eb', 'bb', 'be', 'ee', 'em', 'm1', '11', '12', '28', '81', '19', '94', '40'], 'predicted_two_grams': {'ra', 'st', '19'}, 'dice_similarity': 0.1053}, {'uid': '45543', 'actual_two_grams': ['ri', 'ic', 'ch', 'ha', 'ar', 'rd', 'dr', 'ri', 'iz', 'zz', 'zo', 'o6', '61', '19', '91', '19', '96', '61'], 'predicted_two_grams': {'ra', 'st', '19'}, 'dice_similarity': 0.1111}, {'uid': '35174', 'actual_two_grams': ['ky', 'ym', 'ms', 'si', 'ip', 'pe', 'es', 's1', '12', '20', '01', '19', '95', '52'], 'predicted_two_grams': {'ra', 'st', '19'}, 'dice_similarity': 0.1176}, {'uid': '58834', 'actual_two_grams': ['sa', 'am', 'ma', 'an', 'nt', 'th', 'ha', 'ap', 'pa', 'ar', 'rk', 'ke', 'er', 'r1', '11', '12', '25', '51', '19', '94', '43'], 'predicted_two_grams': {'ra', 'st', '19'}, 'dice_similarity': 0.0833}, {'uid': '34091', 'actual_two_grams': ['po', 'ol', 'll', 'ly', 'yr', 'ri', 'id', 'dl', 'lo', 'on', 'n1', '12', '22', '22', '20', '00', '02'], 'predicted_two_grams': {'ra', 'st', '19'}, 'dice_similarity': 0.0}, {'uid': '7463', 'actual_two_grams': ['ra', 'aq', 'qu', 'ue', 'el', 'lr', 'ru', 'us', 'ss', 'se', 'el', 'll', 'l9', '95', '51', '19', '98', '84'], 'predicted_two_grams': {'ra', 'st', '19'}, 'dice_similarity': 0.2}, {'uid': '12546', 'actual_two_grams': ['ve', 'er', 'ro', 'on', 'ni', 'ic', 'ca', 'aw', 'wi', 'il', 'll', 'li', 'ia', 'am', 'ms', 's2', '21', '10', '01', '19', '96', '68'], 'predicted_two_grams': {'ra', 'st', '19'}, 'dice_similarity': 0.08}, {'uid': '73416', 'actual_two_grams': ['lu', 'up', 'pe', 'es', 'sm', 'mi', 'it', 'th', 'h5', '52', '25', '51', '19', '94', '46'], 'predicted_two_grams': {'ra', 'st', '19'}, 'dice_similarity': 0.1111}, {'uid': '63745', 'actual_two_grams': ['li', 'il', 'll', 'li', 'ia', 'an', 'nd', 'do', 'ou', 'ug', 'gl', 'la', 'as', 's1', '10', '01', '10', '01', '19', '99', '90'], 'predicted_two_grams': {'ra', 'st', '19'}, 'dice_similarity': 0.0952}, {'uid': '38339', 'actual_two_grams': ['el', 'li', 'iz', 'za', 'ab', 'be', 'et', 'th', 'hw', 'wa', 'at', 'tt', 'ts', 's5', '53', '31', '11', '19', '94', '44'], 'predicted_two_grams': {'ra', 'st', '19'}, 'dice_similarity': 0.087}, {'uid': '1237', 'actual_two_grams': ['sa', 'an', 'nd', 'dr', 'ra', 'aa', 'au', 'ue', 'er', 'r1', '10', '02', '24', '41', '19', '97', '74'], 'predicted_two_grams': {'ra', 'st', '19'}, 'dice_similarity': 0.2}, {'uid': '5646', 'actual_two_grams': ['co', 'on', 'ns', 'st', 'ta', 'an', 'nc', 'ce', 'em', 'mc', 'cc', 'co', 'or', 'rm', 'mi', 'ic', 'ck', 'k9', '92', '21', '19', '99', '98'], 'predicted_two_grams': {'ra', 'st', '19'}, 'dice_similarity': 0.16}, {'uid': '16065', 'actual_two_grams': ['si', 'id', 'dn', 'ne', 'ey', 'yg', 'gr', 're', 'ee', 'en', 'nb', 'be', 'er', 'rg', 'g1', '11', '11', '12', '21', '19', '97', '77'], 'predicted_two_grams': {'ra', 'st', '19'}, 'dice_similarity': 0.0833}, {'uid': '76710', 'actual_two_grams': ['he', 'er', 'rm', 'ma', 'an', 'nt', 'th', 'ho', 'om', 'ma', 'as', 's1', '11', '12', '28', '81', '19', '93', '38'], 'predicted_two_grams': {'ra', 'st', '19'}, 'dice_similarity': 0.0952}, {'uid': '14563', 'actual_two_grams': ['ch', 'hr', 'ri', 'is', 'st', 'ti', 'in', 'ne', 'em', 'mi', 'il', 'll', 'le', 'er', 'r1', '11', '11', '14', '41', '19', '96', '67'], 'predicted_two_grams': {'ra', 'st', '19'}, 'dice_similarity': 0.1667}, {'uid': '31803', 'actual_two_grams': ['de', 'eb', 'bo', 'or', 'ra', 'ah', 'hj', 'jo', 'on', 'ne', 'es', 's1', '11', '11', '12', '21', '19', '96', '64'], 'predicted_two_grams': {'ra', 'st', '19'}, 'dice_similarity': 0.1905}, {'uid': '82716', 'actual_two_grams': ['gi', 'il', 'lb', 'be', 'er', 'rt', 'to', 'ot', 'tu', 'uc', 'ck', 'ke', 'er', 'r5', '54', '41', '19', '97', '79'], 'predicted_two_grams': {'ra', 'st', '19'}, 'dice_similarity': 0.0952}, {'uid': '82025', 'actual_two_grams': ['ry', 'ya', 'an', 'nm', 'ma', 'ar', 'rt', 'ti', 'in', 'ne', 'ez', 'z3', '31', '17', '72', '20', '00', '00'], 'predicted_two_grams': {'ra', 'st', '19'}, 'dice_similarity': 0.0}, {'uid': '12636', 'actual_two_grams': ['ja', 'ac', 'cq', 'qu', 'ue', 'el', 'li', 'in', 'ne', 'ej', 'jo', 'on', 'ne', 'es', 's1', '11', '12', '22', '21', '19', '94', '41'], 'predicted_two_grams': {'ra', 'st', '19'}, 'dice_similarity': 0.0833}, {'uid': '70061', 'actual_two_grams': ['de', 'eb', 'bo', 'or', 'ra', 'ah', 'ho', 'or', 'rr', 'r3', '32', '26', '61', '19', '99', '93'], 'predicted_two_grams': {'ra', 'st', '19'}, 'dice_similarity': 0.2222}, {'uid': '16774', 'actual_two_grams': ['mo', 'on', 'ni', 'ic', 'ca', 'aj', 'ji', 'im', 'me', 'en', 'ne', 'ez', 'z7', '71', '14', '41', '19', '93', '39'], 'predicted_two_grams': {'ra', 'st', '19'}, 'dice_similarity': 0.0909}, {'uid': '72281', 'actual_two_grams': ['al', 'lv', 'vi', 'in', 'nc', 'cl', 'la', 'ar', 'rk', 'k1', '10', '03', '31', '19', '96', '63'], 'predicted_two_grams': {'ra', 'st', '19'}, 'dice_similarity': 0.1053}, {'uid': '81212', 'actual_two_grams': ['ke', 'el', 'lv', 'vi', 'in', 'nv', 'vi', 'io', 'ol', 'la', 'a7', '71', '11', '19', '97', '74'], 'predicted_two_grams': {'ra', 'st', '19'}, 'dice_similarity': 0.1111}, {'uid': '26317', 'actual_two_grams': ['ja', 'as', 'so', 'on', 'np', 'pi', 'in', 'no', 'o3', '32', '23', '31', '19', '99', '95'], 'predicted_two_grams': {'ra', 'st', '19'}, 'dice_similarity': 0.1111}, {'uid': '5662', 'actual_two_grams': ['ed', 'di', 'it', 'th', 'hf', 'fr', 'ra', 'an', 'nk', 'kl', 'li', 'in', 'n1', '10', '02', '28', '81', '19', '94', '42'], 'predicted_two_grams': {'ra', 'st', '19'}, 'dice_similarity': 0.1739}, {'uid': '77287', 'actual_two_grams': ['ke', 'ev', 've', 'en', 'ns', 'si', 'im', 'ms', 's1', '11', '11', '11', '19', '98', '86'], 'predicted_two_grams': {'ra', 'st', '19'}, 'dice_similarity': 0.125}, {'uid': '95981', 'actual_two_grams': ['su', 'uz', 'za', 'an', 'nn', 'ne', 'em', 'mc', 'cr', 're', 'ee', 'e1', '10', '04', '41', '19', '97', '78'], 'predicted_two_grams': {'ra', 'st', '19'}, 'dice_similarity': 0.0952}, {'uid': '85184', 'actual_two_grams': ['st', 'te', 'ev', 've', 'en', 'nr', 'ra', 'am', 'mi', 'ir', 're', 'ez', 'z6', '63', '30', '01', '19', '93', '37'], 'predicted_two_grams': {'ra', 'st', '19'}, 'dice_similarity': 0.2727}, {'uid': '79229', 'actual_two_grams': ['be', 'er', 'rt', 'th', 'ha', 'aj', 'ja', 'am', 'me', 'es', 's3', '31', '13', '31', '19', '98', '80'], 'predicted_two_grams': {'ra', 'st', '19'}, 'dice_similarity': 0.1053}, {'uid': '97946', 'actual_two_grams': ['no', 'oa', 'ah', 'hr', 'ro', 'oo', 'os', 'se', 'ev', 've', 'el', 'lt', 't9', '91', '15', '51', '19', '98', '80'], 'predicted_two_grams': {'ra', 'st', '19'}, 'dice_similarity': 0.0909}, {'uid': '14765', 'actual_two_grams': ['je', 'es', 'su', 'us', 'st', 'tu', 'ut', 'tt', 'tl', 'le', 'e1', '12', '25', '51', '19', '93', '39'], 'predicted_two_grams': {'ra', 'st', '19'}, 'dice_similarity': 0.2}, {'uid': '41575', 'actual_two_grams': ['wi', 'il', 'll', 'li', 'ia', 'am', 'mm', 'ma', 'as', 'se', 'el', 'll', 'li', 'i9', '91', '14', '41', '19', '98', '86'], 'predicted_two_grams': {'ra', 'st', '19'}, 'dice_similarity': 0.0952}, {'uid': '29681', 'actual_two_grams': ['sa', 'am', 'mu', 'ue', 'el', 'lp', 'po', 'ow', 'we', 'el', 'll', 'l2', '21', '11', '19', '99', '94'], 'predicted_two_grams': {'ra', 'st', '19'}, 'dice_similarity': 0.1053}, {'uid': '16474', 'actual_two_grams': ['an', 'nn', 'ni', 'ie', 'ew', 'wa', 'al', 'lk', 'ke', 'er', 'r6', '61', '11', '19', '98', '89'], 'predicted_two_grams': {'ra', 'st', '19'}, 'dice_similarity': 0.1053}, {'uid': '97943', 'actual_two_grams': ['ja', 'ac', 'cq', 'qu', 'ue', 'el', 'ly', 'yn', 'no', 'og', 'gl', 'le', 'e5', '53', '30', '01', '19', '96', '64'], 'predicted_two_grams': {'ra', 'st', '19'}, 'dice_similarity': 0.0909}, {'uid': '87081', 'actual_two_grams': ['mi', 'ir', 'ri', 'ia', 'am', 'ms', 'si', 'ib', 'bl', 'le', 'ey', 'y1', '12', '25', '51', '19', '98', '82'], 'predicted_two_grams': {'ra', 'st', '19'}, 'dice_similarity': 0.0952}, {'uid': '49899', 'actual_two_grams': ['lo', 'ou', 'ui', 'is', 'se', 'ek', 'ki', 'im', 'mu', 'ur', 'ra', 'a2', '21', '12', '21', '19', '97', '79'], 'predicted_two_grams': {'ra', 'st', '19'}, 'dice_similarity': 0.2}, {'uid': '63467', 'actual_two_grams': ['me', 'el', 'li', 'is', 'ss', 'sa', 'ac', 'co', 'ox', 'x8', '81', '17', '71', '19', '96', '64'], 'predicted_two_grams': {'ra', 'st', '19'}, 'dice_similarity': 0.1053}, {'uid': '58595', 'actual_two_grams': ['ni', 'ic', 'co', 'ol', 'la', 'as', 'sb', 'br', 'ro', 'ow', 'wn', 'n1', '11', '15', '51', '19', '94', '45'], 'predicted_two_grams': {'ra', 'st', '19'}, 'dice_similarity': 0.0952}, {'uid': '49224', 'actual_two_grams': ['mi', 'ic', 'ch', 'ha', 'ae', 'el', 'ls', 'sn', 'ny', 'yd', 'de', 'er', 'r1', '10', '07', '71', '19', '97', '75'], 'predicted_two_grams': {'ra', 'st', '19'}, 'dice_similarity': 0.0909}, {'uid': '78929', 'actual_two_grams': ['da', 'av', 'vi', 'id', 'dc', 'ca', 'ar', 'rt', 'te', 'er', 'r8', '82', '21', '19', '98', '89'], 'predicted_two_grams': {'ra', 'st', '19'}, 'dice_similarity': 0.1053}, {'uid': '31559', 'actual_two_grams': ['le', 'ew', 'wi', 'is', 'sb', 'ba', 'ar', 'rn', 'nh', 'ha', 'ar', 'rt', 't8', '82', '23', '31', '19', '98', '87'], 'predicted_two_grams': {'ra', 'st', '19'}, 'dice_similarity': 0.0952}, {'uid': '79745', 'actual_two_grams': ['ba', 'ar', 'rb', 'ba', 'ar', 'ra', 'as', 'sa', 'an', 'nt', 'te', 'ee', 'e5', '52', '21', '19', '99', '93'], 'predicted_two_grams': {'ra', 'st', '19'}, 'dice_similarity': 0.2105}, {'uid': '98254', 'actual_two_grams': ['ja', 'am', 'me', 'es', 'sl', 'la', 'am', 'ma', 'an', 'nn', 'na', 'a5', '58', '81', '19', '94', '48'], 'predicted_two_grams': {'ra', 'st', '19'}, 'dice_similarity': 0.1053}, {'uid': '89238', 'actual_two_grams': ['ve', 'er', 'rg', 'gi', 'ie', 'eh', 'he', 'er', 'rn', 'na', 'an', 'nd', 'de', 'ez', 'z4', '48', '81', '19', '95', '54'], 'predicted_two_grams': {'ra', 'st', '19'}, 'dice_similarity': 0.0909}, {'uid': '21061', 'actual_two_grams': ['ga', 'al', 'le', 'er', 're', 'ec', 'ct', 'to', 'or', 'r3', '32', '29', '91', '19', '94', '43'], 'predicted_two_grams': {'ra', 'st', '19'}, 'dice_similarity': 0.1053}, {'uid': '3573', 'actual_two_grams': ['ol', 'li', 'iv', 've', 'er', 'rr', 'ro', 'ob', 'bi', 'in', 'ns', 'so', 'on', 'n7', '72', '27', '72', '20', '00', '02'], 'predicted_two_grams': {'ra', 'st', '19'}, 'dice_similarity': 0.0}]\n"
     ]
    }
   ],
   "source": [
    "# List to store decoded 2-gram scores for all test samples\n",
    "decoded_test_results_words = []\n",
    "combined_results_performance = []\n",
    "\n",
    "# Switch to evaluation mode (no gradient computation during inference)\n",
    "model.eval()\n",
    "\n",
    "# Define Threshold for filtering predictions\n",
    "threshold = DEA_CONFIG[\"FilterThreshold\"]\n",
    "\n",
    "# Loop through the test dataloader for inference\n",
    "with torch.no_grad():  # No need to compute gradients during inference\n",
    "    for data_batch, uids in tqdm(dataloader_test, desc=\"Test loop\"):\n",
    "        # Filter relevant individuals from the dataset based on UIDs\n",
    "        filtered_df = df_all[df_all[\"uid\"].isin(uids)].drop(df_all.columns[-2], axis=1) # Drop encoding column\n",
    "\n",
    "        # Extract 2-grams from actual data for comparison\n",
    "        actual_two_grams_batch = []\n",
    "        for _, entry in filtered_df.iterrows():\n",
    "            row = entry[:-1]  # Exclude UID from row\n",
    "            extracted_two_grams = extract_two_grams(\"\".join(map(str, row)))  # Extract 2-grams from the row\n",
    "            actual_two_grams_batch.append({\"uid\": entry[\"uid\"], \"two_grams\": extracted_two_grams})\n",
    "\n",
    "        # Move the batch of data to the device (e.g., GPU)\n",
    "        data_batch = data_batch.to(compute_device)\n",
    "\n",
    "        # Apply the model to get logits (raw predictions)\n",
    "        logits = model(data_batch)\n",
    "\n",
    "        # Convert logits to probabilities using sigmoid (binary classification)\n",
    "        probabilities = torch.sigmoid(logits)\n",
    "\n",
    "        # Convert probabilities into 2-gram scores (using the two_gram_dict to map to 2-gram labels)\n",
    "        batch_two_gram_scores = [\n",
    "            {two_gram_dict[j]: score.item() for j, score in enumerate(probabilities[i])}  # Map each probability to its 2-gram\n",
    "            for i in range(probabilities.size(0))  # Iterate over each sample in the batch\n",
    "        ]\n",
    "\n",
    "        # Apply threshold to filter out low-scoring 2-grams\n",
    "        batch_filtered_two_gram_scores = [\n",
    "            {two_gram: score for two_gram, score in two_gram_scores.items() if score > threshold}  # Only keep scores above threshold\n",
    "            for two_gram_scores in batch_two_gram_scores\n",
    "        ]\n",
    "\n",
    "        # Filtered 2-grams per UID in the batch\n",
    "        filtered_two_grams = [\n",
    "            {\"uid\": uid, \"two_grams\": {key for key in two_grams.keys()}}  # Only keep the 2-gram keys (no scores)\n",
    "            for uid, two_grams in zip(uids, batch_filtered_two_gram_scores)\n",
    "        ]\n",
    "\n",
    "        # Reconstruct words from the filtered 2-grams for each sample\n",
    "        batch_reconstructed_words = [\n",
    "            reconstruct_words(filtered_scores) for filtered_scores in batch_filtered_two_gram_scores\n",
    "        ]\n",
    "\n",
    "        # Append the reconstructed words to the results list\n",
    "        decoded_test_results_words.extend(batch_reconstructed_words)\n",
    "\n",
    "        # Compare predicted 2-grams with actual 2-grams and calculate performance metrics\n",
    "        for entry_two_grams_batch in actual_two_grams_batch:  # Loop through each UID in the batch\n",
    "            for entry_filtered_two_grams in filtered_two_grams:\n",
    "                if entry_two_grams_batch[\"uid\"] == entry_filtered_two_grams[\"uid\"]:\n",
    "                    # Calculate Dice similarity between actual and predicted 2-grams\n",
    "                    combined_results_performance.append({\n",
    "                        \"uid\": entry_two_grams_batch[\"uid\"],\n",
    "                        \"actual_two_grams\": entry_two_grams_batch[\"two_grams\"],  # Get actual 2-grams for this UID\n",
    "                        \"predicted_two_grams\": entry_filtered_two_grams[\"two_grams\"],  # Get predicted 2-grams for this UID\n",
    "                        \"dice_similarity\": dice_coefficient(entry_two_grams_batch[\"two_grams\"], entry_filtered_two_grams[\"two_grams\"]),\n",
    "                    })\n",
    "\n",
    "# Now `combined_results_performance` contains detailed comparison for all test samples\n",
    "print(combined_results_performance)\n"
   ]
  },
  {
   "cell_type": "code",
   "execution_count": null,
   "metadata": {},
   "outputs": [],
   "source": [
    "sys.exit(\"Stopping execution at this cell.\")"
   ]
  },
  {
   "cell_type": "markdown",
   "metadata": {},
   "source": [
    "## Visualize Performance for Re-Identification"
   ]
  },
  {
   "cell_type": "markdown",
   "metadata": {},
   "source": [
    "## Testing Area"
   ]
  },
  {
   "cell_type": "code",
   "execution_count": null,
   "metadata": {},
   "outputs": [],
   "source": [
    "print('Reidentified Individuals:')\n",
    "print(df_reidentified.head())\n",
    "print('Not Reidentified Individuals:')\n",
    "print(df_not_reidentified.head())"
   ]
  },
  {
   "cell_type": "code",
   "execution_count": null,
   "metadata": {},
   "outputs": [],
   "source": [
    "data_labeled.labelTensors[1]"
   ]
  },
  {
   "cell_type": "code",
   "execution_count": null,
   "metadata": {},
   "outputs": [],
   "source": [
    "for data, labels in dataloader_train:\n",
    "    data, labels = data.to(compute_device), labels.to(compute_device)\n",
    "    print(data.shape)\n",
    "    print(labels.shape)\n",
    "    break"
   ]
  },
  {
   "cell_type": "code",
   "execution_count": null,
   "metadata": {},
   "outputs": [],
   "source": [
    "print(\"To Decode: \",df_not_reidentified.iloc[1])\n",
    "torch.set_printoptions(profile=\"full\")\n",
    "#torch.set_printoptions(profile=\"default\")\n",
    "print(\"Tensor: \", data_not_labeled[1])\n",
    "# Apply model\n",
    "model.eval()\n",
    "logits = model(data_not_labeled[1])\n",
    "probabilities = torch.sigmoid(logits)\n",
    "print(\"Prob: \", probabilities)\n",
    "two_gram_scores = {two_gram_dict[i]: score.item() for i, score in enumerate(probabilities)}\n",
    "threshold = 0.5\n",
    "filtered_two_gram_scores = {two_gram: score for two_gram, score in two_gram_scores.items() if score > threshold}\n",
    "print(\"Decoded 2grams: \", filtered_two_gram_scores)\n",
    "\n",
    "print(reconstruct_words(filtered_two_gram_scores))\n",
    "\n",
    "# person is: Ray Haywood 9/27/1959\n",
    "# ra -"
   ]
  },
  {
   "cell_type": "code",
   "execution_count": null,
   "metadata": {},
   "outputs": [],
   "source": [
    "model = nn.Linear(20, 5) # predict logits for 5 classes\n",
    "x = torch.randn(1, 20)\n",
    "print(x.shape)\n",
    "y = torch.tensor([[1., 0., 1., 0., 0.]]) # get classA and classC as active\n",
    "print(y.shape)\n",
    "\n",
    "criterion = nn.BCEWithLogitsLoss()\n",
    "optimizer = optim.SGD(model.parameters(), lr=1e-1)\n",
    "\n",
    "for epoch in range(20):\n",
    "    optimizer.zero_grad()\n",
    "    output = model(x)\n",
    "    loss = criterion(output, y)\n",
    "    loss.backward()\n",
    "    optimizer.step()\n",
    "    print('Loss: {:.3f}'.format(loss.item()))"
   ]
  }
 ],
 "metadata": {
  "kernelspec": {
   "display_name": "Python 3",
   "language": "python",
   "name": "python3"
  },
  "language_info": {
   "codemirror_mode": {
    "name": "ipython",
    "version": 3
   },
   "file_extension": ".py",
   "mimetype": "text/x-python",
   "name": "python",
   "nbconvert_exporter": "python",
   "pygments_lexer": "ipython3",
   "version": "3.10.16"
  }
 },
 "nbformat": 4,
 "nbformat_minor": 2
}
