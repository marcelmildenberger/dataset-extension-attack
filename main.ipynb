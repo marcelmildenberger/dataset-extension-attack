{
 "cells": [
  {
   "cell_type": "markdown",
   "metadata": {},
   "source": [
    "# Privacy-Preserving Record Linkage (PPRL): Investigating Dataset Extension Attacks"
   ]
  },
  {
   "cell_type": "markdown",
   "metadata": {},
   "source": [
    "## Imports\n",
    "\n",
    "Import all relevant libraries and classes used throughout the project. Key components include:\n",
    "\n",
    "- **Torch** – for tensor operations and neural network functionality  \n",
    "- **Datasets** – for handling training and evaluation data  \n",
    "- **PyTorch Models** – custom and pre-defined models for the DEA  \n",
    "- **Graph Matching Attack (GMA)** – core logic for the initial re-identification phase\n"
   ]
  },
  {
   "cell_type": "code",
   "execution_count": 1,
   "metadata": {},
   "outputs": [
    {
     "name": "stdout",
     "output_type": "stream",
     "text": [
      "Using NumPy dot (Mac)\n",
      "System Version: 3.10.9 (main, Nov 22 2023, 17:43:49) [Clang 15.0.0 (clang-1500.0.40.1)]\n",
      "PyTorch version 2.2.0\n",
      "Torchvision version 0.17.0\n",
      "Numpy version 1.24.4\n",
      "Pandas version 2.0.3\n"
     ]
    }
   ],
   "source": [
    "import os\n",
    "\n",
    "import torch\n",
    "from torch.utils.tensorboard import SummaryWriter\n",
    "import torch.nn as nn\n",
    "import torch.optim as optim\n",
    "from torch.utils.data import DataLoader, random_split\n",
    "import torchvision\n",
    "\n",
    "from utils import get_hashes, reconstruct_words, run_epoch, convert_to_two_gram_scores, filter_two_grams, calculate_performance_metrics, label_tensors_to_two_grams\n",
    "\n",
    "import matplotlib.pyplot as plt # For data viz\n",
    "import pandas as pd\n",
    "import hickle as hkl\n",
    "import numpy as np\n",
    "import string\n",
    "import sys\n",
    "from tqdm.notebook import tqdm\n",
    "\n",
    "import seaborn as sns\n",
    "\n",
    "from graphMatching.gma import run_gma\n",
    "\n",
    "from datasets.bloom_filter_dataset import BloomFilterDataset\n",
    "from datasets.tab_min_hash_dataset import TabMinHashDataset\n",
    "from datasets.two_step_hash_dataset import TwoStepHashDataset\n",
    "\n",
    "from pytorch_models.bloom_filter_to_two_gram_classifier import BloomFilterToTwoGramClassifier\n",
    "from pytorch_models.tab_min_hash_to_two_gram_classifier import TabMinHashToTwoGramClassifier\n",
    "from pytorch_models.two_step_hash_to_two_gram_classifier import TwoStepHashToTwoGramClassifier\n",
    "from pytorch_models.test_model import TestModel\n",
    "\n",
    "from early_stopping.early_stopping import EarlyStopping\n",
    "\n",
    "print('System Version:', sys.version)\n",
    "print('PyTorch version', torch.__version__)\n",
    "print('Torchvision version', torchvision.__version__)\n",
    "print('Numpy version', np.__version__)\n",
    "print('Pandas version', pd.__version__)"
   ]
  },
  {
   "cell_type": "markdown",
   "metadata": {},
   "source": [
    "## Parameters\n",
    "\n",
    "Configuration and parameters for the Graph Matching Attack (GMA) and Dataset Extension Attack (DEA). For details and possible values, refer to the documentation at ```./docs/parameters.md```."
   ]
  },
  {
   "cell_type": "code",
   "execution_count": 14,
   "metadata": {},
   "outputs": [],
   "source": [
    "# Parameters\n",
    "GLOBAL_CONFIG = {\n",
    "    \"Data\": \"./data/datasets/fakename_1k.tsv\",\n",
    "    \"Overlap\": 0.8,\n",
    "    \"DropFrom\": \"Eve\",\n",
    "    \"Verbose\": True,  # Print Status Messages\n",
    "    \"MatchingMetric\": \"cosine\",\n",
    "    \"Matching\": \"MinWeight\",\n",
    "    \"Workers\": -1,\n",
    "    \"SaveAliceEncs\": False,\n",
    "    \"SaveEveEncs\": False,\n",
    "    \"DevMode\": False,\n",
    "}\n",
    "\n",
    "\n",
    "DEA_CONFIG = {\n",
    "    \"DevMode\": False,\n",
    "    # BCEWithLogitsLoss / MultiLabelSoftMarginLoss\n",
    "    \"LossFunction:\": \"BCEWithLogitsLoss\",\n",
    "    # Adam / AdamW / SGD / RMSprop\n",
    "    \"Optimizer\": \"RMSprop\",\n",
    "    \"LearningRate\": 1.0328170911570209e-05,\n",
    "    # SGD only\n",
    "    \"Momentum\": 0.9,\n",
    "    \"BatchSize\": 64,\n",
    "    \"Epochs\": 20,\n",
    "    # TestSize calculated accordingly\n",
    "    \"TrainSize\": 0.8,\n",
    "    \"FilterThreshold\": 0.36691214615177686,\n",
    "    \"EarlyStoppingPatience\": 10,\n",
    "    \"MinDelta\": 1e-4,\n",
    "    \"TestModel\": True,\n",
    "    # relu / leaky_relu / gelu\n",
    "    \"ActivationFunction\": \"relu\",\n",
    "    # LR Scheduler\n",
    "    \"LRScheduler\": \"ReduceLROnPlateau\",  # StepLR / ExponentialLR / ReduceLROnPlateau / CosineAnnealingLR / CyclicLR / None\n",
    "    # StepLR & ExponentialLR\n",
    "    \"StepSize\": 10,         # Used for StepLR\n",
    "    \"Gamma\": 0.5,           # Used for StepLR & ExponentialLR\n",
    "    # ReduceLROnPlateau\n",
    "    \"Mode\": \"min\",          # Can be \"min\" or \"max\"\n",
    "    \"Factor\": 0.4087306533176449,          # Multiplicative factor of learning rate decay\n",
    "    \"Patience\": 5,          # Epochs with no improvement before reducing\n",
    "    # CosineAnnealingLR\n",
    "    \"T_max\": 50,            # Maximum number of iterations\n",
    "    # CyclicLR\n",
    "    \"BaseLR\": 1e-5,         # Lower bound of learning rate\n",
    "    \"MaxLR\": 1e-3,          # Upper bound of learning rate\n",
    "    \"StepSizeUp\": 2000,     # Steps to increase LR\n",
    "    \"ModeCyclic\": \"triangular2\",  # Can be \"triangular\", \"triangular2\", \"exp_range\"\n",
    "}\n",
    "\n",
    "ENC_CONFIG = {\n",
    "    # TwoStepHash / TabMinHash / BloomFilter\n",
    "    \"AliceAlgo\": \"BloomFilter\",\n",
    "    \"AliceSecret\": \"SuperSecretSalt1337\",\n",
    "    \"AliceN\": 2,\n",
    "    \"AliceMetric\": \"dice\",\n",
    "    \"EveAlgo\": \"None\",\n",
    "    \"EveSecret\": \"ATotallyDifferentString42\",\n",
    "    \"EveN\": 2,\n",
    "    \"EveMetric\": \"dice\",\n",
    "    # For BF encoding\n",
    "    \"AliceBFLength\": 1024,\n",
    "    \"AliceBits\": 10,\n",
    "    \"AliceDiffuse\": False,\n",
    "    \"AliceT\": 10,\n",
    "    \"AliceEldLength\": 1024,\n",
    "    \"EveBFLength\": 1024,\n",
    "    \"EveBits\": 10,\n",
    "    \"EveDiffuse\": False,\n",
    "    \"EveT\": 10,\n",
    "    \"EveEldLength\": 1024,\n",
    "    # For TMH encoding\n",
    "    \"AliceNHash\": 1024,\n",
    "    \"AliceNHashBits\": 64,\n",
    "    \"AliceNSubKeys\": 8,\n",
    "    \"Alice1BitHash\": True,\n",
    "    \"EveNHash\": 1024,\n",
    "    \"EveNHashBits\": 64,\n",
    "    \"EveNSubKeys\": 8,\n",
    "    \"Eve1BitHash\": True,\n",
    "    # For 2SH encoding\n",
    "    \"AliceNHashFunc\": 10,\n",
    "    \"AliceNHashCol\": 1000,\n",
    "    \"AliceRandMode\": \"PNG\",\n",
    "    \"EveNHashFunc\": 10,\n",
    "    \"EveNHashCol\": 1000,\n",
    "    \"EveRandMode\": \"PNG\",\n",
    "}\n",
    "\n",
    "EMB_CONFIG = {\n",
    "    \"Algo\": \"Node2Vec\",\n",
    "    \"AliceQuantile\": 0.9,\n",
    "    \"AliceDiscretize\": False,\n",
    "    \"AliceDim\": 128,\n",
    "    \"AliceContext\": 10,\n",
    "    \"AliceNegative\": 1,\n",
    "    \"AliceNormalize\": True,\n",
    "    \"EveQuantile\": 0.9,\n",
    "    \"EveDiscretize\": False,\n",
    "    \"EveDim\": 128,\n",
    "    \"EveContext\": 10,\n",
    "    \"EveNegative\": 1,\n",
    "    \"EveNormalize\": True,\n",
    "    # For Node2Vec\n",
    "    \"AliceWalkLen\": 100,\n",
    "    \"AliceNWalks\": 20,\n",
    "    \"AliceP\": 250,\n",
    "    \"AliceQ\": 300,\n",
    "    \"AliceEpochs\": 5,\n",
    "    \"AliceSeed\": 42,\n",
    "    \"EveWalkLen\": 100,\n",
    "    \"EveNWalks\": 20,\n",
    "    \"EveP\": 250,\n",
    "    \"EveQ\": 300,\n",
    "    \"EveEpochs\": 5,\n",
    "    \"EveSeed\": 42\n",
    "}\n",
    "\n",
    "ALIGN_CONFIG = {\n",
    "    \"RegWS\": max(0.1, GLOBAL_CONFIG[\"Overlap\"]/2), #0005\n",
    "    \"RegInit\":1, # For BF 0.25\n",
    "    \"Batchsize\": 1, # 1 = 100%\n",
    "    \"LR\": 200.0,\n",
    "    \"NIterWS\": 100,\n",
    "    \"NIterInit\": 5 ,  # 800\n",
    "    \"NEpochWS\": 100,\n",
    "    \"LRDecay\": 1,\n",
    "    \"Sqrt\": True,\n",
    "    \"EarlyStopping\": 10,\n",
    "    \"Selection\": \"None\",\n",
    "    \"MaxLoad\": None,\n",
    "    \"Wasserstein\": True\n",
    "}"
   ]
  },
  {
   "cell_type": "markdown",
   "metadata": {},
   "source": [
    "## 🔍 Data Preparation: Load or Compute Graph Matching Attack (GMA) Results\n",
    "\n",
    "This code snippet either loads previously computed Graph Matching Attack (GMA) results from disk or runs the attack if no saved data is found.\n",
    "\n",
    "1. **Generate Configuration Hashes:**  \n",
    "   The function `get_hashes` creates unique hash values based on the encoding and embedding configurations. These are used to create distinct filenames for the data.\n",
    "\n",
    "2. **Create File Paths:**  \n",
    "   Based on the configuration hashes, paths are generated for:\n",
    "   - Reidentified individuals\n",
    "   - Not reidentified individuals\n",
    "   - All individuals in Alice’s dataset (with encoding)\n",
    "\n",
    "3. **Load Results from Disk (if available):**  \n",
    "   If the `.h5` files already exist, they are loaded using `hickle` and converted into `pandas.DataFrames`.  \n",
    "   The data format assumes that the first row contains the column headers, and the rest is the data — hence the slicing `[1:]` and `columns=...`.\n",
    "\n",
    "4. **Run GMA If Data Is Not Available:**  \n",
    "   If the files are missing, the GMA is executed via `run_gma()`. The results are again converted to `DataFrames`.\n"
   ]
  },
  {
   "cell_type": "code",
   "execution_count": 15,
   "metadata": {},
   "outputs": [
    {
     "name": "stdout",
     "output_type": "stream",
     "text": [
      "Loading previously saved attack results...\n"
     ]
    }
   ],
   "source": [
    "# Get unique hash identifiers for the encoding and embedding configurations\n",
    "eve_enc_hash, alice_enc_hash, eve_emb_hash, alice_emb_hash = get_hashes(GLOBAL_CONFIG, ENC_CONFIG, EMB_CONFIG)\n",
    "\n",
    "# Define file paths based on the configuration hashes\n",
    "path_reidentified = f\"./data/available_to_eve/reidentified_individuals_{eve_enc_hash}_{alice_enc_hash}_{eve_emb_hash}_{alice_emb_hash}.h5\"\n",
    "path_not_reidentified = f\"./data/available_to_eve/not_reidentified_individuals_{eve_enc_hash}_{alice_enc_hash}_{eve_emb_hash}_{alice_emb_hash}.h5\"\n",
    "path_all = f\"./data/dev/alice_data_complete_with_encoding_{eve_enc_hash}_{alice_enc_hash}_{eve_emb_hash}_{alice_emb_hash}.h5\"\n",
    "\n",
    "# Check if the output files already exist\n",
    "if os.path.isfile(path_reidentified) and os.path.isfile(path_not_reidentified) and os.path.isfile(path_all):\n",
    "    # Load previously saved attack results\n",
    "    print(\"Loading previously saved attack results...\")\n",
    "    reidentified_data = hkl.load(path_reidentified)\n",
    "    not_reidentified_data = hkl.load(path_not_reidentified)\n",
    "    all_data = hkl.load(path_all)\n",
    "\n",
    "else:\n",
    "    # Run Graph Matching Attack if files are not found\n",
    "    reidentified_data, not_reidentified_data, all_data = run_gma(\n",
    "        GLOBAL_CONFIG, ENC_CONFIG, EMB_CONFIG, ALIGN_CONFIG, DEA_CONFIG,\n",
    "        eve_enc_hash, alice_enc_hash, eve_emb_hash, alice_emb_hash\n",
    "    )\n",
    "\n",
    "# Convert lists to DataFrames\n",
    "df_reidentified = pd.DataFrame(reidentified_data[1:], columns=reidentified_data[0])\n",
    "df_not_reidentified = pd.DataFrame(not_reidentified_data[1:], columns=not_reidentified_data[0])\n",
    "df_all = pd.DataFrame(all_data[1:], columns=all_data[0])\n",
    "df_not_reidentified_labeled = df_all[df_all[\"uid\"].isin(df_not_reidentified[\"uid\"])].reset_index(drop=True)"
   ]
  },
  {
   "cell_type": "markdown",
   "metadata": {},
   "source": [
    "## 🔤 Create 2-Gram Dictionary (Letters & Digits)\n",
    "\n",
    "This code creates a comprehensive dictionary of all possible **2-grams** (two-character combinations) that consist of lowercase letters and digits.\n",
    "\n",
    "1. **Character Sets:**\n",
    "   - `string.ascii_lowercase`: the lowercase English alphabet ('a' to 'z')\n",
    "   - `string.digits`: the digits '0' to '9'\n",
    "\n",
    "2. **2-Gram Types Generated:**\n",
    "   - **Letter-Letter (LL):** All combinations like `'aa'`, `'ab'`, ..., `'zz'` (26×26 = 676)\n",
    "   - **Digit-Digit (DD):** All combinations like `'00'`, `'01'`, ..., `'99'` (10×10 = 100)\n",
    "   - **Letter-Digit (LD):** All combinations like `'a0'`, `'a1'`, ..., `'z9'` (26×10 = 260)\n",
    "\n",
    "3. **Combining All 2-Grams:**\n",
    "   - All three types are concatenated into a single list.\n",
    "\n",
    "4. **Indexed Dictionary:**\n",
    "   - The `enumerate()` function is used to assign each 2-gram a unique index in `two_gram_dict`.\n"
   ]
  },
  {
   "cell_type": "code",
   "execution_count": 16,
   "metadata": {},
   "outputs": [],
   "source": [
    "# --- Generate a dictionary of all possible 2-grams from letters and digits ---\n",
    "\n",
    "# Lowercase alphabet: 'a' to 'z'\n",
    "alphabet = string.ascii_lowercase\n",
    "\n",
    "# Digits: '0' to '9'\n",
    "digits = string.digits\n",
    "\n",
    "# Generate all letter-letter 2-grams (e.g., 'aa', 'ab', ..., 'zz')\n",
    "letter_letter_grams = [a + b for a in alphabet for b in alphabet]\n",
    "\n",
    "# Generate all digit-digit 2-grams (e.g., '00', '01', ..., '99')\n",
    "digit_digit_grams = [d1 + d2 for d1 in digits for d2 in digits]\n",
    "\n",
    "# Generate all letter-digit 2-grams (e.g., 'a0', 'a1', ..., 'z9')\n",
    "letter_digit_grams = [l + d for l in alphabet for d in digits]\n",
    "\n",
    "# Combine all generated 2-grams into one list\n",
    "all_two_grams = letter_letter_grams + letter_digit_grams + digit_digit_grams\n",
    "\n",
    "# Create a dictionary mapping index to each 2-gram\n",
    "two_gram_dict = {i: two_gram for i, two_gram in enumerate(all_two_grams)}"
   ]
  },
  {
   "cell_type": "markdown",
   "metadata": {},
   "source": [
    "## 🧩 Dataset Creation Based on Alice’s Encoding Scheme\n",
    "\n",
    "This section initializes the dataset objects depending on which encoding method Alice used. Each encoding requires a different preprocessing strategy for compatibility with downstream neural models.\n",
    "\n",
    "### 1. Bloom Filter (`\"BloomFilter\"`)\n",
    "- Uses binary Bloom filters to represent identifiers.\n",
    "- Loads `BloomFilterDataset` objects.\n",
    "- Stores the bit-length of the bloom filter.\n",
    "\n",
    "### 2. Tabulation MinHash (`\"TabMinHash\"`)\n",
    "- Applies a MinHash-based encoding.\n",
    "- Loads `TabMinHashDataset`.\n",
    "- Captures the length of each encoded vector.\n",
    "\n",
    "### 3. Two-Step Hash with One-Hot Encoding (`\"TwoStepHash\"`)\n",
    "- Extracts all **unique hash values** to build a consistent one-hot vector space.\n",
    "- Constructs datasets using `TwoStepHashDatasetOneHotEncoding`.\n",
    "\n",
    "> ⚙️ All dataset constructors are passed:\n",
    "> - Whether the data is labeled\n",
    "> - The full 2-gram list (used as feature tokens)\n",
    "> - Additional encoding-specific configurations\n",
    "> - Dev mode toggle (for debugging or smaller runs)\n"
   ]
  },
  {
   "cell_type": "code",
   "execution_count": 17,
   "metadata": {},
   "outputs": [],
   "source": [
    "# 1️ Bloom Filter Encoding\n",
    "if ENC_CONFIG[\"AliceAlgo\"] == \"BloomFilter\":\n",
    "    data_labeled = BloomFilterDataset(\n",
    "        df_reidentified,\n",
    "        is_labeled=True,\n",
    "        all_two_grams=all_two_grams,\n",
    "        dev_mode=GLOBAL_CONFIG[\"DevMode\"]\n",
    "    )\n",
    "    data_test = BloomFilterDataset(\n",
    "        df_not_reidentified_labeled,\n",
    "        is_labeled=True,\n",
    "        all_two_grams=all_two_grams,\n",
    "        dev_mode=GLOBAL_CONFIG[\"DevMode\"]\n",
    "    )\n",
    "    bloomfilter_length = len(df_reidentified[\"bloomfilter\"][0])\n",
    "\n",
    "# 2️ Tabulation MinHash Encoding\n",
    "elif ENC_CONFIG[\"AliceAlgo\"] == \"TabMinHash\":\n",
    "    data_labeled = TabMinHashDataset(\n",
    "        df_reidentified,\n",
    "        is_labeled=True,\n",
    "        all_two_grams=all_two_grams,\n",
    "        dev_mode=GLOBAL_CONFIG[\"DevMode\"]\n",
    "    )\n",
    "    data_test = TabMinHashDataset(\n",
    "        df_not_reidentified_labeled,\n",
    "        is_labeled=True,\n",
    "        all_two_grams=all_two_grams,\n",
    "        dev_mode=GLOBAL_CONFIG[\"DevMode\"]\n",
    "    )\n",
    "    tabminhash_length = len(df_reidentified[\"tabminhash\"][0])\n",
    "\n",
    "# 3 Two-Step Hash Encoding (One-Hot Encoding Mode)\n",
    "elif ENC_CONFIG[\"AliceAlgo\"] == \"TwoStepHash\":\n",
    "    # Collect all unique integers across both reidentified and non-reidentified data\n",
    "    unique_ints_reid = set().union(*df_reidentified[\"twostephash\"])\n",
    "    unique_ints_not_reid = set().union(*df_not_reidentified_labeled[\"twostephash\"])\n",
    "    unique_ints_sorted = sorted(unique_ints_reid.union(unique_ints_not_reid))\n",
    "    unique_integers_dict = {i: val for i, val in enumerate(unique_ints_sorted)}\n",
    "\n",
    "    data_labeled = TwoStepHashDataset(\n",
    "        df_reidentified,\n",
    "        is_labeled=True,\n",
    "        all_integers=unique_ints_sorted,\n",
    "        all_two_grams=all_two_grams,\n",
    "        dev_mode=GLOBAL_CONFIG[\"DevMode\"]\n",
    "    )\n",
    "    data_test = TwoStepHashDataset(\n",
    "        df_not_reidentified_labeled,\n",
    "        is_labeled=True,\n",
    "        all_integers=unique_ints_sorted,\n",
    "        all_two_grams=all_two_grams,\n",
    "        dev_mode=GLOBAL_CONFIG[\"DevMode\"]\n",
    "    )"
   ]
  },
  {
   "cell_type": "markdown",
   "metadata": {},
   "source": [
    "## Data Splitting & Loader Setup\n",
    "\n",
    "After preprocessing the encoded data, we divide it into training, validation, and test sets using PyTorch's `DataLoader` and `random_split`.\n",
    "\n",
    "### Dataset Proportions\n",
    "- The proportion for the training set is defined in `DEA_CONFIG[\"TrainSize\"]`.\n",
    "- The remainder is used for validation.\n",
    "\n",
    "### Splitting\n",
    "- `data_labeled` (the reidentified individuals) is split into:\n",
    "  - `data_train` for training\n",
    "  - `data_val` for validation\n",
    "- `data_not_labeled` (unidentified individuals) is used exclusively for testing.\n",
    "\n",
    "### Dataloader Configuration\n",
    "- **Training Loader**: shuffled for learning generalization.\n",
    "- **Validation Loader**: also shuffled to vary batches during evaluation.\n",
    "- **Test Loader**: also shuffled.\n"
   ]
  },
  {
   "cell_type": "code",
   "execution_count": 18,
   "metadata": {},
   "outputs": [],
   "source": [
    "# Define dataset split proportions\n",
    "train_size = int(DEA_CONFIG[\"TrainSize\"] * len(data_labeled))\n",
    "val_size = len(data_labeled) - train_size\n",
    "\n",
    "# Split the reidentified dataset into training and validation sets\n",
    "data_train, data_val = random_split(data_labeled, [train_size, val_size])\n",
    "\n",
    "# Create DataLoaders for training, validation, and testing\n",
    "dataloader_train = DataLoader(\n",
    "    data_train,\n",
    "    batch_size=DEA_CONFIG[\"BatchSize\"],\n",
    "    shuffle=True  # Important for training\n",
    ")\n",
    "\n",
    "dataloader_val = DataLoader(\n",
    "    data_val,\n",
    "    batch_size=DEA_CONFIG[\"BatchSize\"],\n",
    "    shuffle=True  # Allows variation in validation batches\n",
    ")\n",
    "\n",
    "dataloader_test = DataLoader(\n",
    "    data_test,\n",
    "    batch_size=DEA_CONFIG[\"BatchSize\"],\n",
    "    shuffle=True\n",
    ")"
   ]
  },
  {
   "cell_type": "markdown",
   "metadata": {},
   "source": [
    "## Model Instantiation Based on Encoding Scheme\n",
    "\n",
    "The neural network model is selected dynamically based on the encoding technique used for Alice’s data.\n",
    "\n",
    "### Supported Models:\n",
    "\n",
    "- **BloomFilter** → `BloomFilterToTwoGramClassifier`  \n",
    "  - Input: Binary vector (Bloom filter)  \n",
    "  - Output: 2-gram prediction\n",
    "\n",
    "- **TabMinHash** → `TabMinHashToTwoGramClassifier`  \n",
    "  - Input: Tabulated MinHash signature  \n",
    "  - Output: 2-gram prediction\n",
    "\n",
    "- **TwoStepHash** → `TwoStepHashToTwoGramClassifier`  \n",
    "  - Input: Length of the unique integers present\n",
    "  - Output: 2-gram predicition\n",
    "    \n",
    "Each model outputs predictions over the set of all possible 2-grams (`all_two_grams`), and the input dimension is dynamically configured based on the dataset.\n"
   ]
  },
  {
   "cell_type": "code",
   "execution_count": 24,
   "metadata": {},
   "outputs": [
    {
     "name": "stdout",
     "output_type": "stream",
     "text": [
      "TestModel(\n",
      "  (model): Sequential(\n",
      "    (0): Linear(in_features=1024, out_features=2048, bias=True)\n",
      "    (1): SELU()\n",
      "    (2): Dropout(p=0.20702933807967946, inplace=False)\n",
      "    (3): Linear(in_features=2048, out_features=1036, bias=True)\n",
      "  )\n",
      ")\n"
     ]
    }
   ],
   "source": [
    "# Instantiate model based on selected encoding scheme\n",
    "\n",
    "if DEA_CONFIG[\"TestModel\"]:\n",
    "    if ENC_CONFIG[\"AliceAlgo\"] == \"BloomFilter\":\n",
    "        model = TestModel(\n",
    "            input_dim=bloomfilter_length,\n",
    "            output_dim=len(all_two_grams),\n",
    "            hidden_layer=2048,\n",
    "            num_layers=1,\n",
    "            dropout_rate=0.20702933807967946,\n",
    "            activation_fn=\"selu\"\n",
    "        )\n",
    "#num_layers,hidden_layer_size,dropout_rate,activation_fn,optimizer,loss_fn,threshold,lr_scheduler,average_dice,average_precision,average_recall,average_f1,len_train,len_val,epochs\n",
    "#1,2048,0.20702933807967946,selu,\"{'name': 'RMSprop', 'lr': 1.0328170911570209e-05}\",BCEWithLogitsLoss,0.36691214615177686,\"{'name': 'ReduceLROnPlateau', 'mode': 'min', 'factor': 0.4087306533176449, 'patience': 5}\",0.9727962500000001,0.9889048970234253,0.9586764533014707,0.9727967135613089,6400,1600,20\n",
    "\n",
    "    elif ENC_CONFIG[\"AliceAlgo\"] == \"TabMinHash\":\n",
    "        model = TestModel(\n",
    "            input_dim=bloomfilter_length,\n",
    "            output_dim=len(all_two_grams),\n",
    "            hidden_layer=2048,\n",
    "            num_layers=1,\n",
    "            dropout_rate=0.220451802221184,\n",
    "            activation_fn=\"relu\"\n",
    "        )\n",
    "    elif ENC_CONFIG[\"AliceAlgo\"] == \"TwoStepHash\":\n",
    "        model = TestModel(\n",
    "            input_dim=bloomfilter_length,\n",
    "            output_dim=len(all_two_grams),\n",
    "            hidden_layer=2048,\n",
    "            num_layers=1,\n",
    "            dropout_rate=0.220451802221184,\n",
    "            activation_fn=\"relu\"\n",
    "        )\n",
    "\n",
    "elif ENC_CONFIG[\"AliceAlgo\"] == \"BloomFilter\":\n",
    "    model = BloomFilterToTwoGramClassifier(\n",
    "        input_dim=bloomfilter_length,\n",
    "        output_dim=len(all_two_grams)\n",
    "    )\n",
    "\n",
    "elif ENC_CONFIG[\"AliceAlgo\"] == \"TabMinHash\":\n",
    "    model = TabMinHashToTwoGramClassifier(\n",
    "        input_dim=tabminhash_length,\n",
    "        output_dim=len(all_two_grams)\n",
    "    )\n",
    "\n",
    "elif ENC_CONFIG[\"AliceAlgo\"] == \"TwoStepHash\":\n",
    "    model = TwoStepHashToTwoGramClassifier(\n",
    "        input_dim=len(unique_ints_sorted),\n",
    "        output_dim=len(all_two_grams)\n",
    "    )\n",
    "\n",
    "print(model)"
   ]
  },
  {
   "cell_type": "markdown",
   "metadata": {},
   "source": [
    "## Training Environment Setup\n",
    "This code initializes the core components needed for training a neural network model.\n",
    "\n",
    "1. TensorBoard Setup\n",
    "    - Creates unique run name by combining:\n",
    "    - Loss function type\n",
    "    - Optimizer choice\n",
    "    - Alice's algorithm\n",
    "    - Initializes TensorBoard writer in runs directory\n",
    "2. Device Configuration\n",
    "    - Automatically selects GPU if available, falls back to CPU\n",
    "    - Moves model to selected device\n",
    "3. Loss Functions\n",
    "    - `BCEWithLogitsLoss`: Binary Cross Entropy with Logits\n",
    "    - `MultiLabelSoftMarginLoss`: Multi-Label Soft Margin Loss\n",
    "4. Optimizers:\n",
    "    - `Adam`: Adaptive Moment Estimation\n",
    "    - `AdamW`: Adam with Weight Decay\n",
    "    - `SGD`: Stochastic Gradient Descent (with momentum)\n",
    "    - `RMSprop`: Root Mean Square Propagation"
   ]
  },
  {
   "cell_type": "code",
   "execution_count": 20,
   "metadata": {},
   "outputs": [],
   "source": [
    "# Setup tensorboard logging\n",
    "run_name = \"\".join([\n",
    "    DEA_CONFIG[\"LossFunction:\"],\n",
    "    DEA_CONFIG[\"Optimizer\"],\n",
    "    ENC_CONFIG[\"AliceAlgo\"],\n",
    "    DEA_CONFIG[\"ActivationFunction\"],\n",
    "])\n",
    "tb_writer = SummaryWriter(f\"runs/{run_name}\")\n",
    "\n",
    "# Setup compute device (GPU/CPU)\n",
    "compute_device = torch.device(\"cuda:0\" if torch.cuda.is_available() else \"cpu\")\n",
    "model.to(compute_device)\n",
    "\n",
    "# Initialize loss function\n",
    "match DEA_CONFIG[\"LossFunction:\"]:\n",
    "    case \"BCEWithLogitsLoss\":\n",
    "        criterion = nn.BCEWithLogitsLoss(reduction='mean')\n",
    "    case \"MultiLabelSoftMarginLoss\":\n",
    "        criterion = nn.MultiLabelSoftMarginLoss(reduction='mean')\n",
    "    case _:\n",
    "        raise ValueError(f\"Unsupported loss function: {DEA_CONFIG['LossFunction:']}\")\n",
    "\n",
    "# Initialize optimizer\n",
    "match DEA_CONFIG[\"Optimizer\"]:\n",
    "    case \"Adam\":\n",
    "        optimizer = optim.Adam(model.parameters(), lr=DEA_CONFIG[\"LearningRate\"])\n",
    "    case \"AdamW\":\n",
    "        optimizer = optim.AdamW(model.parameters(), lr=DEA_CONFIG[\"LearningRate\"])\n",
    "    case \"SGD\":\n",
    "        optimizer = optim.SGD(model.parameters(),\n",
    "                            lr=DEA_CONFIG[\"LearningRate\"],\n",
    "                            momentum=DEA_CONFIG[\"Momentum\"])\n",
    "    case \"RMSprop\":\n",
    "        optimizer = optim.RMSprop(model.parameters(), lr=DEA_CONFIG[\"LearningRate\"])\n",
    "    case _:\n",
    "        raise ValueError(f\"Unsupported optimizer: {DEA_CONFIG['Optimizer']}\")\n",
    "\n",
    "# Initialize learning rate scheduler\n",
    "match DEA_CONFIG[\"LRScheduler\"]:\n",
    "    case \"StepLR\":\n",
    "        scheduler = torch.optim.lr_scheduler.StepLR(\n",
    "            optimizer,\n",
    "            step_size=DEA_CONFIG[\"StepSize\"],\n",
    "            gamma=DEA_CONFIG[\"Gamma\"]\n",
    "        )\n",
    "    case \"ExponentialLR\":\n",
    "        scheduler = torch.optim.lr_scheduler.ExponentialLR(\n",
    "            optimizer,\n",
    "            gamma=DEA_CONFIG[\"Gamma\"]\n",
    "        )\n",
    "    case \"ReduceLROnPlateau\":\n",
    "        scheduler = torch.optim.lr_scheduler.ReduceLROnPlateau(\n",
    "            optimizer,\n",
    "            mode=DEA_CONFIG[\"Mode\"],\n",
    "            factor=DEA_CONFIG[\"Factor\"],\n",
    "            patience=DEA_CONFIG[\"Patience\"]\n",
    "        )\n",
    "    case \"CosineAnnealingLR\":\n",
    "        scheduler = torch.optim.lr_scheduler.CosineAnnealingLR(\n",
    "            optimizer,\n",
    "            T_max=DEA_CONFIG[\"T_max\"]\n",
    "        )\n",
    "    case \"CyclicLR\":\n",
    "        scheduler = torch.optim.lr_scheduler.CyclicLR(\n",
    "            optimizer,\n",
    "            base_lr=DEA_CONFIG[\"BaseLR\"],\n",
    "            max_lr=DEA_CONFIG[\"MaxLR\"],\n",
    "            step_size_up=DEA_CONFIG[\"StepSizeUp\"],\n",
    "            mode=DEA_CONFIG[\"ModeCyclic\"],\n",
    "            cycle_momentum=False  # usually False for Adam/AdamW\n",
    "        )\n",
    "    case None | \"None\":\n",
    "        scheduler = None\n",
    "    case _:\n",
    "        raise ValueError(f\"Unsupported LR scheduler: {DEA_CONFIG['LRScheduler']}\")\n"
   ]
  },
  {
   "cell_type": "markdown",
   "metadata": {},
   "source": [
    "## Model Training with Early Stopping\n",
    "\n",
    "The function `train_model` orchestrates the training process for the neural network, including both training and validation phases for each epoch. It also utilizes **early stopping** to halt training when the validation loss fails to improve over multiple epochs, avoiding overfitting.\n",
    "\n",
    "### Key Phases:\n",
    "1. **Training Phase**: \n",
    "   - The model is trained on the `dataloader_train`, computing the training loss using the specified loss function (`criterion`) and optimizer. Gradients are calculated, and the model parameters are updated.\n",
    "  \n",
    "2. **Validation Phase**:\n",
    "   - The model is evaluated on the `dataloader_val` without updating weights. The validation loss is computed to track model performance on unseen data.\n",
    "\n",
    "3. **Logging**: \n",
    "   - Training and validation losses are logged to both the console and **TensorBoard** for tracking model performance during training.\n",
    "\n",
    "4. **Early Stopping**: \n",
    "   - If the validation loss does not improve after a certain number of epochs (defined by `DEA_CONFIG[\"Patience\"]`), the training process is halted to prevent overfitting.\n",
    "\n",
    "### Helper Functions:\n",
    "- `run_epoch`: Handles a single epoch, either for training or validation, depending on the flag `is_training`.\n",
    "- `log_metrics`: Logs the training and validation losses to the console and TensorBoard for each epoch.\n"
   ]
  },
  {
   "cell_type": "code",
   "execution_count": 21,
   "metadata": {},
   "outputs": [
    {
     "name": "stderr",
     "output_type": "stream",
     "text": [
      "Training: 100%|██████████| 10/10 [00:00<00:00, 114.45it/s]\n",
      "Validation: 100%|██████████| 3/3 [00:00<00:00, 340.56it/s]\n"
     ]
    },
    {
     "name": "stdout",
     "output_type": "stream",
     "text": [
      "Epoch 1/20 - Train loss: 0.6299, Validation loss: 0.5622\n",
      "best_loss updated from  inf  to  0.5621505618095398\n"
     ]
    },
    {
     "name": "stderr",
     "output_type": "stream",
     "text": [
      "Training: 100%|██████████| 10/10 [00:00<00:00, 100.20it/s]\n",
      "Validation: 100%|██████████| 3/3 [00:00<00:00, 364.97it/s]\n"
     ]
    },
    {
     "name": "stdout",
     "output_type": "stream",
     "text": [
      "Epoch 2/20 - Train loss: 0.5140, Validation loss: 0.4586\n",
      "best_loss updated from  0.5621505618095398  to  0.4586029052734375\n"
     ]
    },
    {
     "name": "stderr",
     "output_type": "stream",
     "text": [
      "Training: 100%|██████████| 10/10 [00:00<00:00, 134.70it/s]\n",
      "Validation: 100%|██████████| 3/3 [00:00<00:00, 458.01it/s]\n"
     ]
    },
    {
     "name": "stdout",
     "output_type": "stream",
     "text": [
      "Epoch 3/20 - Train loss: 0.4186, Validation loss: 0.3743\n",
      "best_loss updated from  0.4586029052734375  to  0.37427269816398623\n"
     ]
    },
    {
     "name": "stderr",
     "output_type": "stream",
     "text": [
      "Training: 100%|██████████| 10/10 [00:00<00:00, 134.74it/s]\n",
      "Validation: 100%|██████████| 3/3 [00:00<00:00, 444.31it/s]\n"
     ]
    },
    {
     "name": "stdout",
     "output_type": "stream",
     "text": [
      "Epoch 4/20 - Train loss: 0.3427, Validation loss: 0.3085\n",
      "best_loss updated from  0.37427269816398623  to  0.3084924817085266\n"
     ]
    },
    {
     "name": "stderr",
     "output_type": "stream",
     "text": [
      "Training: 100%|██████████| 10/10 [00:00<00:00, 136.03it/s]\n",
      "Validation: 100%|██████████| 3/3 [00:00<00:00, 395.63it/s]\n"
     ]
    },
    {
     "name": "stdout",
     "output_type": "stream",
     "text": [
      "Epoch 5/20 - Train loss: 0.2839, Validation loss: 0.2581\n",
      "best_loss updated from  0.3084924817085266  to  0.2581291675567627\n"
     ]
    },
    {
     "name": "stderr",
     "output_type": "stream",
     "text": [
      "Training: 100%|██████████| 10/10 [00:00<00:00, 121.25it/s]\n",
      "Validation: 100%|██████████| 3/3 [00:00<00:00, 438.78it/s]\n"
     ]
    },
    {
     "name": "stdout",
     "output_type": "stream",
     "text": [
      "Epoch 6/20 - Train loss: 0.2393, Validation loss: 0.2197\n",
      "best_loss updated from  0.2581291675567627  to  0.21969647109508514\n"
     ]
    },
    {
     "name": "stderr",
     "output_type": "stream",
     "text": [
      "Training: 100%|██████████| 10/10 [00:00<00:00, 135.91it/s]\n",
      "Validation: 100%|██████████| 3/3 [00:00<00:00, 403.87it/s]\n"
     ]
    },
    {
     "name": "stdout",
     "output_type": "stream",
     "text": [
      "Epoch 7/20 - Train loss: 0.2050, Validation loss: 0.1903\n",
      "best_loss updated from  0.21969647109508514  to  0.19026261568069458\n"
     ]
    },
    {
     "name": "stderr",
     "output_type": "stream",
     "text": [
      "Training: 100%|██████████| 10/10 [00:00<00:00, 131.50it/s]\n",
      "Validation: 100%|██████████| 3/3 [00:00<00:00, 425.53it/s]\n"
     ]
    },
    {
     "name": "stdout",
     "output_type": "stream",
     "text": [
      "Epoch 8/20 - Train loss: 0.1791, Validation loss: 0.1675\n",
      "best_loss updated from  0.19026261568069458  to  0.16749767065048218\n"
     ]
    },
    {
     "name": "stderr",
     "output_type": "stream",
     "text": [
      "Training: 100%|██████████| 10/10 [00:00<00:00, 108.97it/s]\n",
      "Validation: 100%|██████████| 3/3 [00:00<00:00, 424.31it/s]\n"
     ]
    },
    {
     "name": "stdout",
     "output_type": "stream",
     "text": [
      "Epoch 9/20 - Train loss: 0.1586, Validation loss: 0.1497\n",
      "best_loss updated from  0.16749767065048218  to  0.14972898066043855\n"
     ]
    },
    {
     "name": "stderr",
     "output_type": "stream",
     "text": [
      "Training: 100%|██████████| 10/10 [00:00<00:00, 119.63it/s]\n",
      "Validation: 100%|██████████| 3/3 [00:00<00:00, 366.83it/s]\n"
     ]
    },
    {
     "name": "stdout",
     "output_type": "stream",
     "text": [
      "Epoch 10/20 - Train loss: 0.1427, Validation loss: 0.1357\n",
      "best_loss updated from  0.14972898066043855  to  0.13570126593112947\n"
     ]
    },
    {
     "name": "stderr",
     "output_type": "stream",
     "text": [
      "Training: 100%|██████████| 10/10 [00:00<00:00, 116.45it/s]\n",
      "Validation: 100%|██████████| 3/3 [00:00<00:00, 325.62it/s]\n"
     ]
    },
    {
     "name": "stdout",
     "output_type": "stream",
     "text": [
      "Epoch 11/20 - Train loss: 0.1301, Validation loss: 0.1245\n",
      "best_loss updated from  0.13570126593112947  to  0.12448557615280151\n"
     ]
    },
    {
     "name": "stderr",
     "output_type": "stream",
     "text": [
      "Training: 100%|██████████| 10/10 [00:00<00:00, 117.08it/s]\n",
      "Validation: 100%|██████████| 3/3 [00:00<00:00, 435.21it/s]\n"
     ]
    },
    {
     "name": "stdout",
     "output_type": "stream",
     "text": [
      "Epoch 12/20 - Train loss: 0.1198, Validation loss: 0.1155\n",
      "best_loss updated from  0.12448557615280151  to  0.11546342819929123\n"
     ]
    },
    {
     "name": "stderr",
     "output_type": "stream",
     "text": [
      "Training: 100%|██████████| 10/10 [00:00<00:00, 120.30it/s]\n",
      "Validation: 100%|██████████| 3/3 [00:00<00:00, 374.01it/s]\n"
     ]
    },
    {
     "name": "stdout",
     "output_type": "stream",
     "text": [
      "Epoch 13/20 - Train loss: 0.1116, Validation loss: 0.1081\n",
      "best_loss updated from  0.11546342819929123  to  0.1080964297056198\n"
     ]
    },
    {
     "name": "stderr",
     "output_type": "stream",
     "text": [
      "Training: 100%|██████████| 10/10 [00:00<00:00, 114.22it/s]\n",
      "Validation: 100%|██████████| 3/3 [00:00<00:00, 434.58it/s]\n"
     ]
    },
    {
     "name": "stdout",
     "output_type": "stream",
     "text": [
      "Epoch 14/20 - Train loss: 0.1049, Validation loss: 0.1020\n",
      "best_loss updated from  0.1080964297056198  to  0.10203580260276794\n"
     ]
    },
    {
     "name": "stderr",
     "output_type": "stream",
     "text": [
      "Training: 100%|██████████| 10/10 [00:00<00:00, 107.61it/s]\n",
      "Validation: 100%|██████████| 3/3 [00:00<00:00, 428.75it/s]\n"
     ]
    },
    {
     "name": "stdout",
     "output_type": "stream",
     "text": [
      "Epoch 15/20 - Train loss: 0.0993, Validation loss: 0.0970\n",
      "best_loss updated from  0.10203580260276794  to  0.09701014757156372\n"
     ]
    },
    {
     "name": "stderr",
     "output_type": "stream",
     "text": [
      "Training: 100%|██████████| 10/10 [00:00<00:00, 130.24it/s]\n",
      "Validation: 100%|██████████| 3/3 [00:00<00:00, 460.96it/s]\n"
     ]
    },
    {
     "name": "stdout",
     "output_type": "stream",
     "text": [
      "Epoch 16/20 - Train loss: 0.0947, Validation loss: 0.0928\n",
      "best_loss updated from  0.09701014757156372  to  0.0927938163280487\n"
     ]
    },
    {
     "name": "stderr",
     "output_type": "stream",
     "text": [
      "Training: 100%|██████████| 10/10 [00:00<00:00, 129.83it/s]\n",
      "Validation: 100%|██████████| 3/3 [00:00<00:00, 447.38it/s]\n"
     ]
    },
    {
     "name": "stdout",
     "output_type": "stream",
     "text": [
      "Epoch 17/20 - Train loss: 0.0908, Validation loss: 0.0892\n",
      "best_loss updated from  0.0927938163280487  to  0.08924182951450348\n"
     ]
    },
    {
     "name": "stderr",
     "output_type": "stream",
     "text": [
      "Training: 100%|██████████| 10/10 [00:00<00:00, 135.21it/s]\n",
      "Validation: 100%|██████████| 3/3 [00:00<00:00, 452.28it/s]\n"
     ]
    },
    {
     "name": "stdout",
     "output_type": "stream",
     "text": [
      "Epoch 18/20 - Train loss: 0.0875, Validation loss: 0.0862\n",
      "best_loss updated from  0.08924182951450348  to  0.08623283505439758\n"
     ]
    },
    {
     "name": "stderr",
     "output_type": "stream",
     "text": [
      "Training: 100%|██████████| 10/10 [00:00<00:00, 135.31it/s]\n",
      "Validation: 100%|██████████| 3/3 [00:00<00:00, 433.91it/s]\n"
     ]
    },
    {
     "name": "stdout",
     "output_type": "stream",
     "text": [
      "Epoch 19/20 - Train loss: 0.0847, Validation loss: 0.0837\n",
      "best_loss updated from  0.08623283505439758  to  0.08366241008043289\n"
     ]
    },
    {
     "name": "stderr",
     "output_type": "stream",
     "text": [
      "Training: 100%|██████████| 10/10 [00:00<00:00, 126.13it/s]\n",
      "Validation: 100%|██████████| 3/3 [00:00<00:00, 404.41it/s]"
     ]
    },
    {
     "name": "stdout",
     "output_type": "stream",
     "text": [
      "Epoch 20/20 - Train loss: 0.0822, Validation loss: 0.0815\n",
      "best_loss updated from  0.08366241008043289  to  0.08145528137683869\n"
     ]
    },
    {
     "name": "stderr",
     "output_type": "stream",
     "text": [
      "\n"
     ]
    }
   ],
   "source": [
    "def train_model(model, dataloader_train, dataloader_val, criterion, optimizer, device):\n",
    "    train_losses = []\n",
    "    val_losses = []\n",
    "    val_loss = train_loss = 0.0\n",
    "    early_stopper = EarlyStopping(patience=DEA_CONFIG[\"EarlyStoppingPatience\"], min_delta=DEA_CONFIG[\"MinDelta\"], verbose=GLOBAL_CONFIG[\"Verbose\"])\n",
    "\n",
    "    for epoch in range(DEA_CONFIG[\"Epochs\"]):\n",
    "        # Training phase\n",
    "        model.train()\n",
    "        train_loss = run_epoch(\n",
    "            model, dataloader_train, criterion, optimizer,\n",
    "            device, is_training=True, verbose=GLOBAL_CONFIG[\"Verbose\"], scheduler=scheduler\n",
    "        )\n",
    "        train_losses.append(train_loss)\n",
    "\n",
    "        # Validation phase\n",
    "        model.eval()\n",
    "        val_loss = run_epoch(\n",
    "            model, dataloader_val, criterion, optimizer,\n",
    "            device, is_training=False, verbose=GLOBAL_CONFIG[\"Verbose\"], scheduler=scheduler\n",
    "        )\n",
    "        if isinstance(scheduler, torch.optim.lr_scheduler.ReduceLROnPlateau):\n",
    "            scheduler.step(val_loss)\n",
    "        val_losses.append(val_loss)\n",
    "\n",
    "        # Logging\n",
    "        log_metrics(train_loss, val_loss, epoch, DEA_CONFIG[\"Epochs\"])\n",
    "\n",
    "        # Early stopping check\n",
    "        if early_stopper(val_loss):\n",
    "            print(f\"Early stopping triggered at epoch {epoch + 1}\")\n",
    "            break\n",
    "\n",
    "    return train_losses, val_losses\n",
    "\n",
    "def log_metrics(train_loss, val_loss, epoch, total_epochs):\n",
    "    print(f\"Epoch {epoch + 1}/{total_epochs} - \"\n",
    "          f\"Train loss: {train_loss:.4f}, \"\n",
    "          f\"Validation loss: {val_loss:.4f}\")\n",
    "    tb_writer.add_scalar(\"Loss/train\", train_loss, epoch + 1)\n",
    "    tb_writer.add_scalar(\"Loss/validation\", val_loss, epoch + 1)\n",
    "\n",
    "train_losses, val_losses = train_model(\n",
    "    model, dataloader_train, dataloader_val,\n",
    "    criterion, optimizer, compute_device\n",
    "    )"
   ]
  },
  {
   "cell_type": "markdown",
   "metadata": {},
   "source": [
    "## Loss Visualization over Epochs\n",
    "\n",
    "This code snippet generates a plot to visualize the **training loss** and **validation loss** across epochs. It's useful for tracking model performance during training and evaluating if overfitting is occurring (i.e., when validation loss starts increasing while training loss continues to decrease).\n",
    "\n",
    "### Key Elements:\n",
    "1. **Plotting the Losses**: \n",
    "   - The `train_losses` and `val_losses` are plotted over the epochs. \n",
    "   - The **blue line** represents the training loss, and the **red line** represents the validation loss.\n",
    "\n",
    "2. **Legend**: \n",
    "   - A legend is added to distinguish between training and validation losses.\n",
    "\n",
    "3. **Title and Labels**: \n",
    "   - The plot is titled \"Training and Validation Loss over Epochs\" for context.\n",
    "   - **X-axis** represents the epoch number, and **Y-axis** represents the loss value.\n"
   ]
  },
  {
   "cell_type": "code",
   "execution_count": 22,
   "metadata": {},
   "outputs": [
    {
     "data": {
      "image/png": "[encoded data removed]",
      "text/plain": [
       "<Figure size 640x480 with 1 Axes>"
      ]
     },
     "metadata": {},
     "output_type": "display_data"
    }
   ],
   "source": [
    "# Plot the training and validation losses over epochs\n",
    "plt.plot(train_losses, label='Training loss', color='blue')\n",
    "plt.plot(val_losses, label='Validation loss', color='red')\n",
    "\n",
    "# Adding a legend to the plot\n",
    "plt.legend()\n",
    "\n",
    "# Setting the title and labels for clarity\n",
    "plt.title(\"Training and Validation Loss over Epochs\")\n",
    "plt.xlabel(\"Epochs\")\n",
    "plt.ylabel(\"Loss\")\n",
    "\n",
    "# Show the plot\n",
    "plt.show()"
   ]
  },
  {
   "cell_type": "markdown",
   "metadata": {},
   "source": [
    "## Model Inference and 2-Gram Comparison\n",
    "\n",
    "This code performs inference on the test data and compares the predicted 2-grams with the actual 2-grams, providing a performance evaluation based on the **Dice similarity coefficient**.\n",
    "\n",
    "### Key Steps:\n",
    "\n",
    "1. **Prepare for Evaluation**:\n",
    "   - The model is switched to **evaluation mode** (`model.eval()`), ensuring no gradient computation.\n",
    "   \n",
    "2. **Thresholding**:\n",
    "   - A threshold (`DEA_CONFIG[\"FilterThreshold\"]`) is applied to filter out low-probability predictions, retaining only the most confident predictions.\n",
    "\n",
    "3. **Inference and 2-Gram Scoring**:\n",
    "   - The model is applied to the batch, and the **logits** are converted into probabilities using the **sigmoid function**.\n",
    "   - The probabilities are then mapped to **2-gram scores**, and scores below the threshold are discarded.\n",
    "\n",
    "4. **Reconstructing Words**:\n",
    "   - For each sample in the batch, **2-grams** are reconstructed into words based on the filtered scores.\n",
    "\n",
    "5. **Performance Metrics**:\n",
    "   - The actual 2-grams (from the test dataset) are compared with the predicted 2-grams, and the **Dice similarity coefficient** is calculated for each sample.\n",
    "\n",
    "### Result:\n",
    "- The code generates a list `combined_results_performance`, which contains a detailed comparison for each UID, including:\n",
    "  - **Actual 2-grams** (from the test data)\n",
    "  - **Predicted 2-grams** (from the model)\n",
    "  - **Dice similarity** score indicating how similar the actual and predicted 2-grams are."
   ]
  },
  {
   "cell_type": "code",
   "execution_count": 23,
   "metadata": {},
   "outputs": [
    {
     "data": {
      "application/vnd.jupyter.widget-view+json": {
       "model_id": "31097fdbe0d44d8ab7abd06f9eda7d2c",
       "version_major": 2,
       "version_minor": 0
      },
      "text/plain": [
       "Test loop:   0%|          | 0/4 [00:00<?, ?it/s]"
      ]
     },
     "metadata": {},
     "output_type": "display_data"
    },
    {
     "name": "stdout",
     "output_type": "stream",
     "text": [
      "[{'uid': '43574', 'actual_two_grams': ['ar', 'gi', 'il', 'ir', 'la', 'll', 'on', 'rg', 'rs', 'so', 'vi', 'n3', '13', '19', '31', '37', '93'], 'filtered_two_grams': ['19'], 'reconstructed_words': ['19']}, {'uid': '89172', 'actual_two_grams': ['ar', 'et', 'ga', 'hi', 'it', 'ma', 're', 'rg', 'te', 'tw', 'wh', 'e2', '19', '22', '27', '67', '71', '96'], 'filtered_two_grams': ['19'], 'reconstructed_words': ['19']}, {'uid': '44215', 'actual_two_grams': ['al', 'an', 'gh', 'ht', 'ig', 'la', 'nw', 'ri', 'wr', 't1', '01', '13', '19', '30', '88', '98'], 'filtered_two_grams': ['19'], 'reconstructed_words': ['19']}, {'uid': '44134', 'actual_two_grams': ['as', 'do', 'gl', 'in', 'ki', 'la', 'ng', 'ou', 'sk', 'ug', 'g1', '01', '10', '19', '39', '93'], 'filtered_two_grams': ['19'], 'reconstructed_words': ['19']}, {'uid': '6445', 'actual_two_grams': ['bs', 'co', 'di', 'hc', 'it', 'ju', 'mb', 'om', 'th', 'ud', 's7', '19', '24', '39', '41', '72', '93'], 'filtered_two_grams': ['19'], 'reconstructed_words': ['19']}, {'uid': '31209', 'actual_two_grams': ['aa', 'au', 'gi', 'ia', 'in', 'ir', 'ni', 'rg', 'st', 'ti', 'us', 'vi', 'n4', '19', '25', '39', '42', '51', '93'], 'filtered_two_grams': ['19'], 'reconstructed_words': ['19']}, {'uid': '84301', 'actual_two_grams': ['aw', 'ia', 'il', 'is', 'li', 'll', 'lv', 'sy', 'vi', 'wi', 'yl', 's5', '19', '24', '41', '52', '72', '97'], 'filtered_two_grams': ['19'], 'reconstructed_words': ['19']}, {'uid': '55004', 'actual_two_grams': ['bu', 'db', 'ed', 'fr', 'on', 're', 'rt', 'to', 'ur', 'n5', '01', '10', '19', '51', '59', '95'], 'filtered_two_grams': ['19'], 'reconstructed_words': ['19']}, {'uid': '50250', 'actual_two_grams': ['al', 'ea', 'el', 'in', 'le', 'lv', 'me', 'nl', 'vi', 'l7', '19', '29', '52', '72', '91', '95'], 'filtered_two_grams': ['19'], 'reconstructed_words': ['19']}, {'uid': '9889', 'actual_two_grams': ['co', 'er', 'fi', 'he', 'is', 'ot', 'sc', 'sh', 'tf', 'tt', 'r5', '16', '19', '51', '61', '70', '97'], 'filtered_two_grams': ['19'], 'reconstructed_words': ['19']}, {'uid': '35409', 'actual_two_grams': ['an', 'ee', 'el', 'es', 'et', 'le', 'ne', 'nn', 'on', 'so', 'te', 'tt', 'n1', '11', '12', '19', '23', '31', '83', '98'], 'filtered_two_grams': ['19'], 'reconstructed_words': ['19']}, {'uid': '77272', 'actual_two_grams': ['al', 'am', 'ee', 'el', 'la', 'le', 'me', 'pa', 'e2', '13', '19', '21', '31', '42', '94'], 'filtered_two_grams': ['19'], 'reconstructed_words': ['19']}, {'uid': '77732', 'actual_two_grams': ['do', 'hy', 'or', 'ot', 'ro', 'ru', 'sh', 'th', 'us', 'yr', 'h9', '12', '19', '21', '38', '91', '93'], 'filtered_two_grams': ['19'], 'reconstructed_words': ['19']}, {'uid': '44794', 'actual_two_grams': ['ar', 'ch', 'ck', 'dr', 'ed', 'ef', 'fr', 'ha', 'ic', 'lo', 'ot', 're', 'ri', 'rl', 'te', 'tt', 'k8', '17', '19', '45', '71', '81', '94'], 'filtered_two_grams': ['19'], 'reconstructed_words': ['19']}, {'uid': '91756', 'actual_two_grams': ['br', 'eg', 'gg', 'gy', 'ow', 'pe', 'ro', 'wn', 'yb', 'n1', '02', '10', '11', '19', '21', '71', '97'], 'filtered_two_grams': ['19'], 'reconstructed_words': ['19']}, {'uid': '63428', 'actual_two_grams': ['am', 'as', 'be', 'er', 'ga', 'mb', 'on', 'rg', 'st', 'to', 'n5', '12', '19', '21', '51', '71', '97'], 'filtered_two_grams': ['19'], 'reconstructed_words': ['19']}, {'uid': '16065', 'actual_two_grams': ['be', 'dn', 'ee', 'en', 'er', 'ey', 'gr', 'id', 'nb', 'ne', 're', 'rg', 'si', 'yg', 'g1', '11', '12', '19', '21', '77', '97'], 'filtered_two_grams': ['19'], 'reconstructed_words': ['19']}, {'uid': '47954', 'actual_two_grams': ['di', 'er', 'hh', 'ho', 'it', 'ju', 'ou', 'se', 'th', 'ud', 'us', 'r8', '00', '16', '20', '62', '81'], 'filtered_two_grams': ['19'], 'reconstructed_words': ['19']}, {'uid': '30287', 'actual_two_grams': ['am', 'an', 'cl', 'el', 'ev', 'la', 'le', 'mo', 'nc', 'nd', 'on', 'ra', 've', 'd1', '12', '19', '25', '51', '90', '99'], 'filtered_two_grams': ['19'], 'reconstructed_words': ['19']}, {'uid': '88924', 'actual_two_grams': ['al', 'ba', 'dw', 'in', 'ju', 'ld', 'nb', 'st', 'ti', 'us', 'wi', 'n1', '02', '10', '19', '27', '60', '71', '96'], 'filtered_two_grams': ['19'], 'reconstructed_words': ['19']}, {'uid': '65425', 'actual_two_grams': ['el', 'ev', 'ls', 'ly', 'ne', 'nn', 'on', 'so', 've', 'yn', 'n7', '19', '28', '72', '81', '89', '98'], 'filtered_two_grams': ['19'], 'reconstructed_words': ['19']}, {'uid': '55766', 'actual_two_grams': ['es', 'ge', 'hn', 'jo', 'ns', 'oh', 'rg', 'st', 'tu', 'ur', 's8', '19', '27', '46', '71', '82', '94'], 'filtered_two_grams': ['19'], 'reconstructed_words': ['19']}, {'uid': '36253', 'actual_two_grams': ['ar', 'ca', 'ly', 'np', 'ol', 'pa', 'ra', 'ro', 'rr', 'yn', 'a1', '14', '19', '41', '66', '96'], 'filtered_two_grams': ['19'], 'reconstructed_words': ['19']}, {'uid': '98297', 'actual_two_grams': ['ah', 'au', 'er', 'ho', 'la', 'oo', 'ov', 'pa', 'ul', 've', 'r4', '18', '19', '41', '81', '87', '98'], 'filtered_two_grams': ['19'], 'reconstructed_words': ['19']}, {'uid': '89337', 'actual_two_grams': ['ar', 'ca', 'lo', 'mo', 'oo', 'or', 'os', 're', 'rl', 'sm', 'e1', '11', '15', '19', '51', '53', '95'], 'filtered_two_grams': ['19'], 'reconstructed_words': ['19']}, {'uid': '22099', 'actual_two_grams': ['ar', 'be', 'et', 'go', 'rg', 'tt', 'ty', 'ya', 'o6', '18', '19', '37', '61', '81', '93'], 'filtered_two_grams': ['19'], 'reconstructed_words': ['19']}, {'uid': '6681', 'actual_two_grams': ['ar', 'ga', 'hi', 'in', 'jo', 'no', 'oj', 'os', 'ry', 'sa', 'yh', 'a5', '19', '59', '85', '91', '98'], 'filtered_two_grams': ['19'], 'reconstructed_words': ['19']}, {'uid': '635', 'actual_two_grams': ['an', 'ar', 'en', 'gu', 'ia', 'ma', 'ng', 'ri', 'uy', 'ye', 'n1', '11', '12', '19', '21', '91', '99'], 'filtered_two_grams': ['19'], 'reconstructed_words': ['19']}, {'uid': '42413', 'actual_two_grams': ['di', 'ed', 'ep', 'hi', 'in', 'ix', 'jo', 'ne', 'on', 'os', 'ph', 'se', 'xo', 'n1', '11', '12', '19', '25', '51', '98', '99'], 'filtered_two_grams': ['19'], 'reconstructed_words': ['19']}, {'uid': '40477', 'actual_two_grams': ['ar', 'da', 'id', 'ma', 'pa', 'rt', 'ry', 'ti', 'yp', 'a1', '01', '02', '10', '19', '20', '80', '98'], 'filtered_two_grams': ['19'], 'reconstructed_words': ['19']}, {'uid': '46378', 'actual_two_grams': ['ar', 'br', 'en', 'ka', 'nb', 'ow', 're', 'ro', 'wn', 'n3', '18', '19', '31', '81', '99'], 'filtered_two_grams': ['19'], 'reconstructed_words': ['19']}, {'uid': '46737', 'actual_two_grams': ['an', 'as', 'ba', 'da', 'eb', 'ia', 'in', 'li', 'nd', 'se', 'st', 'ti', 'n5', '00', '02', '20', '25', '52'], 'filtered_two_grams': ['19'], 'reconstructed_words': ['19']}, {'uid': '28035', 'actual_two_grams': ['dy', 'el', 'er', 'iv', 'lo', 'me', 'od', 'ra', 'ri', 've', 'yr', 'a8', '01', '10', '19', '60', '81', '96'], 'filtered_two_grams': ['19'], 'reconstructed_words': ['19']}, {'uid': '63195', 'actual_two_grams': ['at', 'be', 'er', 'ma', 'ob', 'ra', 'ro', 'rt', 'te', 'tm', 'tt', 'a1', '12', '17', '19', '21', '54', '71', '95'], 'filtered_two_grams': ['19'], 'reconstructed_words': ['19']}, {'uid': '71121', 'actual_two_grams': ['an', 'de', 'ef', 'eo', 'es', 'fu', 'ge', 'nd', 'or', 'rg', 'sa', 'ur', 'r3', '19', '26', '32', '61', '75', '97'], 'filtered_two_grams': ['19'], 'reconstructed_words': ['19']}, {'uid': '29927', 'actual_two_grams': ['at', 'au', 'ch', 'ci', 'hu', 'ia', 'ic', 'pa', 'pc', 'rc', 'ri', 'tr', 'up', 'ur', 'h9', '19', '41', '45', '94'], 'filtered_two_grams': ['19'], 'reconstructed_words': ['19']}, {'uid': '90203', 'actual_two_grams': ['an', 'ar', 'ce', 'el', 'ho', 'in', 'li', 'ma', 'nh', 'no', 'oo', 'os', 'ov', 'rc', 'se', 'va', 'e5', '13', '19', '31', '51', '64', '96'], 'filtered_two_grams': ['19'], 'reconstructed_words': ['19']}, {'uid': '53281', 'actual_two_grams': ['an', 'br', 'do', 'im', 'mm', 'mo', 'nd', 'ns', 'on', 'ra', 'si', 's1', '01', '10', '18', '19', '81', '87', '98'], 'filtered_two_grams': ['19'], 'reconstructed_words': ['19']}, {'uid': '8850', 'actual_two_grams': ['an', 'cu', 'ha', 'in', 'nc', 'nn', 'no', 'on', 'ri', 'rr', 'sh', 'ur', 'n8', '19', '24', '41', '74', '82', '97'], 'filtered_two_grams': ['19'], 'reconstructed_words': ['19']}, {'uid': '11612', 'actual_two_grams': ['ak', 'an', 'ep', 'er', 'ew', 'ha', 'hi', 'ie', 'it', 'ke', 'ni', 'ph', 'st', 'ta', 'te', 'wh', 'r6', '19', '28', '48', '62', '81', '94'], 'filtered_two_grams': ['19'], 'reconstructed_words': ['19']}, {'uid': '25989', 'actual_two_grams': ['ao', 'at', 'ci', 'en', 'ia', 'ic', 'ow', 'pa', 'ri', 'tr', 'we', 'n3', '19', '34', '41', '69', '96'], 'filtered_two_grams': ['19'], 'reconstructed_words': ['19']}, {'uid': '29446', 'actual_two_grams': ['ac', 'an', 'ck', 'eg', 'gu', 'ie', 'ja', 'ki', 'ma', 'uz', 'zm', 'n1', '01', '11', '13', '19', '30', '47', '94'], 'filtered_two_grams': ['19'], 'reconstructed_words': ['19']}, {'uid': '58810', 'actual_two_grams': ['ar', 'da', 'el', 'en', 'le', 'lu', 'ne', 'rl', 'tz', 'ut', 'z3', '19', '38', '53', '81', '95'], 'filtered_two_grams': ['19'], 'reconstructed_words': ['19']}, {'uid': '33443', 'actual_two_grams': ['eg', 'go', 'gr', 'in', 'ki', 'mp', 'ns', 'om', 'or', 'pk', 're', 'ry', 'to', 'yt', 's7', '01', '19', '30', '51', '73', '95'], 'filtered_two_grams': ['19'], 'reconstructed_words': ['19']}, {'uid': '54706', 'actual_two_grams': ['at', 'ee', 'en', 'hi', 'hl', 'il', 'ka', 'le', 'll', 'nh', 'th', 'l1', '11', '12', '19', '24', '41', '96', '99'], 'filtered_two_grams': ['19'], 'reconstructed_words': ['19']}, {'uid': '54826', 'actual_two_grams': ['ar', 'in', 'it', 'ma', 'np', 'pi', 'rt', 'ti', 'ts', 'tt', 's8', '19', '21', '48', '82', '94'], 'filtered_two_grams': ['19'], 'reconstructed_words': ['19']}, {'uid': '72533', 'actual_two_grams': ['ag', 'ar', 'gu', 'ko', 'la', 'ma', 'ol', 'rk', 'ue', 'e1', '12', '19', '23', '31', '52', '95'], 'filtered_two_grams': ['19'], 'reconstructed_words': ['19']}, {'uid': '43882', 'actual_two_grams': ['an', 'es', 'nt', 'or', 're', 'rr', 'ry', 'to', 'ya', 's4', '01', '10', '19', '41', '57', '95'], 'filtered_two_grams': ['19'], 'reconstructed_words': ['19']}, {'uid': '7183', 'actual_two_grams': ['ax', 'gi', 'ig', 'il', 'ma', 'vi', 'xv', 'l1', '12', '19', '22', '29', '91', '96', '99'], 'filtered_two_grams': ['19'], 'reconstructed_words': ['19']}, {'uid': '7867', 'actual_two_grams': ['an', 'da', 'el', 'ie', 'lr', 'ma', 'ni', 'no', 'om', 'ro', 'o1', '00', '01', '05', '10', '20', '52'], 'filtered_two_grams': ['19'], 'reconstructed_words': ['19']}, {'uid': '67102', 'actual_two_grams': ['ai', 'an', 'cr', 'ee', 'em', 'fr', 'gf', 'ig', 'ma', 'ra', 're', 'n4', '19', '26', '42', '61', '81', '98'], 'filtered_two_grams': ['19'], 'reconstructed_words': ['19']}, {'uid': '79403', 'actual_two_grams': ['ac', 'cs', 'de', 'er', 'is', 'ny', 'sa', 'sn', 'ss', 'yd', 'r7', '19', '23', '31', '50', '72', '95'], 'filtered_two_grams': ['19'], 'reconstructed_words': ['19']}, {'uid': '96261', 'actual_two_grams': ['ad', 'cl', 'dc', 'dr', 'ed', 'fe', 'ff', 'fr', 'if', 'li', 'ra', 're', 'e9', '01', '19', '30', '44', '93', '94'], 'filtered_two_grams': ['19'], 'reconstructed_words': ['19']}, {'uid': '21438', 'actual_two_grams': ['at', 'ea', 'he', 'im', 'ji', 'mm', 'my', 'th', 'yh', 'h7', '19', '31', '50', '73', '95'], 'filtered_two_grams': ['19'], 'reconstructed_words': ['19']}, {'uid': '95991', 'actual_two_grams': ['al', 'ar', 'da', 'er', 'ge', 'ha', 'ld', 'lg', 'ol', 'ro', 'r1', '11', '12', '19', '21', '88', '98'], 'filtered_two_grams': ['19'], 'reconstructed_words': ['19']}, {'uid': '70108', 'actual_two_grams': ['an', 'as', 'ca', 'hn', 'jo', 'nc', 'no', 'oh', 'ov', 'sa', 'va', 'a3', '19', '34', '41', '90', '99'], 'filtered_two_grams': ['19'], 'reconstructed_words': ['19']}, {'uid': '57846', 'actual_two_grams': ['an', 'ew', 'ho', 'is', 'le', 'nt', 'ny', 'on', 'th', 'wi', 'yl', 's1', '12', '19', '21', '91', '93', '99'], 'filtered_two_grams': ['19'], 'reconstructed_words': ['19']}, {'uid': '14249', 'actual_two_grams': ['er', 'ge', 'le', 'og', 'ro', 'rt', 'ty', 'yl', 'r3', '19', '23', '31', '32', '76', '97'], 'filtered_two_grams': ['19'], 'reconstructed_words': ['19']}, {'uid': '4827', 'actual_two_grams': ['al', 'ce', 'ea', 'en', 'er', 'le', 'll', 'nc', 're', 'rr', 'te', 'n5', '19', '41', '54', '72', '97'], 'filtered_two_grams': ['19'], 'reconstructed_words': ['19']}, {'uid': '24062', 'actual_two_grams': ['am', 'en', 'ev', 'ha', 'in', 'li', 'ml', 'nh', 'st', 'te', 've', 'n1', '12', '18', '19', '21', '49', '81', '94'], 'filtered_two_grams': ['19'], 'reconstructed_words': ['19']}, {'uid': '91595', 'actual_two_grams': ['as', 'co', 'de', 'el', 'la', 'll', 'ot', 'sc', 'tt', 't2', '00', '02', '20', '26', '62'], 'filtered_two_grams': ['19'], 'reconstructed_words': ['19']}, {'uid': '54630', 'actual_two_grams': ['an', 'cm', 'er', 'ga', 'ic', 'mo', 'or', 'rg', 'ri', 'n2', '19', '21', '56', '91', '95'], 'filtered_two_grams': ['19'], 'reconstructed_words': ['19']}, {'uid': '60752', 'actual_two_grams': ['al', 'aw', 'ce', 'da', 'en', 'in', 'la', 'li', 'nc', 'nd', 're', 'wr', 'e2', '19', '25', '51', '98', '99'], 'filtered_two_grams': ['19'], 'reconstructed_words': ['19']}, {'uid': '51486', 'actual_two_grams': ['al', 'an', 'do', 'gr', 'il', 'la', 'll', 'lp', 'nd', 'nt', 'pa', 'ra', 'tv', 'vi', 'o8', '19', '61', '78', '86', '97'], 'filtered_two_grams': ['19'], 'reconstructed_words': ['19']}, {'uid': '6566', 'actual_two_grams': ['ac', 'al', 'ci', 'do', 'es', 'io', 'la', 'lo', 'ol', 'or', 'os', 'pa', 're', 'sp', 's1', '11', '17', '19', '63', '71', '96'], 'filtered_two_grams': ['19'], 'reconstructed_words': ['19']}, {'uid': '32542', 'actual_two_grams': ['ay', 'bu', 'cy', 'lu', 'ra', 'rn', 'uc', 'ur', 'yb', 'yr', 'n9', '19', '91', '99'], 'filtered_two_grams': ['19'], 'reconstructed_words': ['19']}, {'uid': '82097', 'actual_two_grams': ['ar', 'bb', 'eb', 'jo', 'ma', 'ow', 'ry', 'we', 'yj', 'b6', '19', '49', '67', '71', '94'], 'filtered_two_grams': ['19'], 'reconstructed_words': ['19']}, {'uid': '38722', 'actual_two_grams': ['an', 'co', 'ec', 'fa', 'ie', 'ni', 'nn', 'on', 'n1', '00', '01', '12', '17', '20', '21', '72'], 'filtered_two_grams': ['19'], 'reconstructed_words': ['19']}, {'uid': '18828', 'actual_two_grams': ['ai', 'an', 'cl', 'ha', 'in', 'ir', 'la', 'nc', 'ns', 'si', 'ss', 'r9', '19', '21', '81', '92', '98'], 'filtered_two_grams': ['19'], 'reconstructed_words': ['19']}, {'uid': '72014', 'actual_two_grams': ['av', 'da', 'dw', 'hi', 'id', 'it', 'te', 'vi', 'wh', 'e4', '19', '27', '42', '71', '73', '97'], 'filtered_two_grams': ['19'], 'reconstructed_words': ['19']}, {'uid': '23828', 'actual_two_grams': ['am', 'el', 'ey', 'la', 'll', 'mo', 'ne', 'on', 'oo', 'st', 'te', 'y2', '19', '22', '28', '39', '81', '93'], 'filtered_two_grams': ['19'], 'reconstructed_words': ['19']}, {'uid': '31559', 'actual_two_grams': ['ar', 'ba', 'ew', 'ha', 'is', 'le', 'nh', 'rn', 'rt', 'sb', 'wi', 't8', '19', '23', '31', '82', '87', '98'], 'filtered_two_grams': ['19'], 'reconstructed_words': ['19']}, {'uid': '85334', 'actual_two_grams': ['de', 'di', 'el', 'en', 'hd', 'it', 'ju', 'lo', 'nz', 'or', 're', 'th', 'ud', 'zo', 'o5', '19', '24', '41', '52', '59', '95'], 'filtered_two_grams': ['19'], 'reconstructed_words': ['19']}, {'uid': '15493', 'actual_two_grams': ['al', 'el', 'lo', 'ls', 'ne', 'nz', 'on', 'so', 'zo', 'n1', '12', '19', '22', '26', '61', '98', '99'], 'filtered_two_grams': ['19'], 'reconstructed_words': ['19']}, {'uid': '57782', 'actual_two_grams': ['ar', 'en', 'ev', 'fa', 'nf', 'ns', 'or', 'rn', 'rt', 'st', 'sw', 'te', 'th', 've', 'wo', 'h1', '12', '19', '29', '82', '91', '98'], 'filtered_two_grams': ['19'], 'reconstructed_words': ['19']}, {'uid': '42998', 'actual_two_grams': ['am', 'ey', 'ia', 'il', 'le', 'li', 'll', 'mt', 'nl', 'ow', 'to', 'wi', 'wn', 'y8', '19', '31', '65', '83', '96'], 'filtered_two_grams': ['19'], 'reconstructed_words': ['19']}, {'uid': '50006', 'actual_two_grams': ['an', 'el', 'io', 'li', 'll', 'ma', 'ne', 'no', 'or', 'ot', 'rm', 't6', '19', '43', '51', '65', '94'], 'filtered_two_grams': ['19'], 'reconstructed_words': ['19']}, {'uid': '25238', 'actual_two_grams': ['al', 'an', 'ce', 'ch', 'ea', 'es', 'fr', 'he', 'ic', 'ls', 'mi', 'nc', 'ra', 'sm', 's6', '19', '61', '91', '99'], 'filtered_two_grams': ['19'], 'reconstructed_words': ['19']}, {'uid': '81894', 'actual_two_grams': ['ah', 'ay', 'es', 'gh', 'he', 'hu', 'ka', 'la', 'ug', 'yl', 's1', '11', '16', '19', '61', '91', '99'], 'filtered_two_grams': ['19'], 'reconstructed_words': ['19']}, {'uid': '29979', 'actual_two_grams': ['as', 'co', 'er', 'ey', 'hl', 'le', 'ne', 'nn', 'on', 'sh', 'yc', 'r1', '11', '12', '19', '24', '41', '57', '95'], 'filtered_two_grams': ['19'], 'reconstructed_words': ['19']}, {'uid': '3796', 'actual_two_grams': ['an', 'ar', 'dy', 'eh', 'ha', 'jo', 'ne', 'nn', 'oa', 'rd', 'y3', '19', '37', '42', '71', '94'], 'filtered_two_grams': ['19'], 'reconstructed_words': ['19']}, {'uid': '23275', 'actual_two_grams': ['am', 'es', 'ez', 'ja', 'me', 'ne', 'nu', 'sn', 'un', 'z3', '19', '37', '60', '71', '96'], 'filtered_two_grams': ['19'], 'reconstructed_words': ['19']}, {'uid': '99334', 'actual_two_grams': ['an', 'dm', 'er', 'go', 'ig', 'ma', 'od', 'oo', 'ri', 'rr', 'te', 'n9', '00', '02', '20', '92'], 'filtered_two_grams': ['19'], 'reconstructed_words': ['19']}, {'uid': '62181', 'actual_two_grams': ['an', 'ce', 'es', 'fr', 'nc', 'ou', 'ra', 'so', 'ss', 'uz', 'za', 'a7', '19', '70', '79', '91', '97'], 'filtered_two_grams': ['19'], 'reconstructed_words': ['19']}, {'uid': '54247', 'actual_two_grams': ['af', 'an', 'ca', 'cc', 'ea', 'er', 'fe', 'ff', 'mc', 'nm', 'rt', 'se', 'ty', 'y3', '19', '37', '48', '71', '94'], 'filtered_two_grams': ['19'], 'reconstructed_words': ['19']}, {'uid': '24302', 'actual_two_grams': ['ap', 'at', 'ee', 'en', 'er', 'hl', 'ka', 'le', 'na', 'nn', 'pe', 'pp', 'th', 'r3', '11', '19', '21', '32', '77', '97'], 'filtered_two_grams': ['19'], 'reconstructed_words': ['19']}, {'uid': '65157', 'actual_two_grams': ['an', 'aw', 'ay', 'do', 'el', 'ga', 'he', 'ld', 'na', 'ng', 'nn', 'on', 'sh', 'wa', 'y1', '12', '19', '29', '60', '91', '96'], 'filtered_two_grams': ['19'], 'reconstructed_words': ['19']}, {'uid': '48691', 'actual_two_grams': ['ar', 'ch', 'dw', 'en', 'ha', 'ic', 'rd', 're', 'ri', 'rr', 'wa', 'n4', '17', '19', '41', '71', '72', '97'], 'filtered_two_grams': ['19'], 'reconstructed_words': ['19']}, {'uid': '43273', 'actual_two_grams': ['ar', 'co', 'gt', 'in', 'ma', 'ng', 'on', 'ov', 'ry', 'to', 'vi', 'yc', 'n6', '19', '23', '31', '62', '86', '98'], 'filtered_two_grams': ['19'], 'reconstructed_words': ['19']}, {'uid': '97651', 'actual_two_grams': ['an', 'fr', 'in', 'kt', 'ng', 'nk', 'op', 'pi', 'pp', 'ra', 'to', 'g1', '02', '10', '19', '24', '41', '98', '99'], 'filtered_two_grams': ['19'], 'reconstructed_words': ['19']}, {'uid': '89238', 'actual_two_grams': ['an', 'de', 'eh', 'er', 'ez', 'gi', 'he', 'ie', 'na', 'nd', 'rg', 'rn', 've', 'z4', '19', '48', '54', '81', '95'], 'filtered_two_grams': ['19'], 'reconstructed_words': ['19']}, {'uid': '32155', 'actual_two_grams': ['an', 'co', 'ia', 'il', 'in', 'li', 'll', 'nc', 'ns', 'ol', 's6', '18', '19', '38', '61', '81', '93'], 'filtered_two_grams': ['19'], 'reconstructed_words': ['19']}, {'uid': '87227', 'actual_two_grams': ['al', 'an', 'co', 'da', 'lc', 'll', 'lo', 'nd', 'ol', 'on', 'ra', 'n2', '11', '19', '21', '22', '81', '98'], 'filtered_two_grams': ['19'], 'reconstructed_words': ['19']}, {'uid': '58620', 'actual_two_grams': ['er', 'es', 'he', 'ou', 'ro', 'rr', 'se', 'st', 'th', 'us', 'e1', '11', '18', '19', '58', '81', '95'], 'filtered_two_grams': ['19'], 'reconstructed_words': ['19']}, {'uid': '79616', 'actual_two_grams': ['ad', 'al', 'ar', 'ba', 'do', 'hn', 'jo', 'lb', 'na', 'oh', 'ra', 'o1', '12', '13', '19', '21', '31', '56', '95'], 'filtered_two_grams': ['19'], 'reconstructed_words': ['19']}, {'uid': '72229', 'actual_two_grams': ['ai', 'cl', 'dn', 'ff', 'fo', 'if', 'ir', 'li', 'na', 'or', 'rd', 'r1', '12', '19', '27', '62', '71', '96'], 'filtered_two_grams': ['19'], 'reconstructed_words': ['19']}, {'uid': '35220', 'actual_two_grams': ['ar', 'ay', 'es', 'is', 'li', 'ra', 'sa', 'ye', 's3', '19', '31', '33', '91', '99'], 'filtered_two_grams': ['19'], 'reconstructed_words': ['19']}, {'uid': '60295', 'actual_two_grams': ['er', 'iz', 'ne', 'nn', 'on', 'ru', 'ui', 'vo', 'yv', 'z3', '19', '21', '22', '32', '94', '99'], 'filtered_two_grams': ['19'], 'reconstructed_words': ['19']}, {'uid': '28072', 'actual_two_grams': ['an', 'au', 'in', 'li', 'ng', 'np', 'pa', 'ry', 'ul', 'ya', 'g3', '11', '19', '31', '66', '96'], 'filtered_two_grams': ['19'], 'reconstructed_words': ['19']}, {'uid': '55942', 'actual_two_grams': ['ar', 'ce', 'dp', 'ho', 'ic', 'ow', 'pr', 'rd', 'ri', 'wa', 'e3', '19', '31', '89', '91', '98'], 'filtered_two_grams': ['19'], 'reconstructed_words': ['19']}, {'uid': '512', 'actual_two_grams': ['an', 'de', 'ei', 'er', 'ez', 'he', 'hh', 'it', 'ke', 'na', 'nd', 'rn', 'th', 'z3', '13', '19', '31', '63', '96'], 'filtered_two_grams': ['19'], 'reconstructed_words': ['19']}, {'uid': '1289', 'actual_two_grams': ['ah', 'an', 'ar', 'ff', 'fm', 'ho', 'ma', 'of', 'ra', 'sa', 'n1', '12', '19', '27', '71', '96', '99'], 'filtered_two_grams': ['19'], 'reconstructed_words': ['19']}, {'uid': '66667', 'actual_two_grams': ['ag', 'ar', 'ea', 'gu', 'ma', 'ry', 'te', 'ue', 'yt', 'e1', '11', '12', '19', '21', '94', '99'], 'filtered_two_grams': ['19'], 'reconstructed_words': ['19']}, {'uid': '57878', 'actual_two_grams': ['es', 'il', 'ip', 'ji', 'll', 'ls', 'pe', 'si', 's9', '19', '23', '31', '72', '92', '97'], 'filtered_two_grams': ['19'], 'reconstructed_words': ['19']}, {'uid': '92574', 'actual_two_grams': ['co', 'ef', 'ey', 'ff', 'fr', 'je', 'ot', 're', 'sc', 'tt', 'ys', 't1', '00', '01', '11', '12', '20', '26', '62'], 'filtered_two_grams': ['19'], 'reconstructed_words': ['19']}, {'uid': '54432', 'actual_two_grams': ['ah', 'an', 'da', 'ho', 'in', 'la', 'li', 'll', 'nd', 'ol', 'd5', '00', '03', '20', '52', '55'], 'filtered_two_grams': ['19'], 'reconstructed_words': ['19']}, {'uid': '30781', 'actual_two_grams': ['al', 'an', 'de', 'er', 'ex', 'le', 'lo', 'nd', 'ow', 'rl', 'we', 'xa', 'e3', '01', '10', '19', '31', '50', '95'], 'filtered_two_grams': ['19'], 'reconstructed_words': ['19']}, {'uid': '80997', 'actual_two_grams': ['ag', 'ef', 'ey', 'ff', 'fr', 'gu', 'ir', 'je', 're', 'rr', 'ui', 'ya', 'e4', '11', '19', '41', '55', '95'], 'filtered_two_grams': ['19'], 'reconstructed_words': ['19']}, {'uid': '37370', 'actual_two_grams': ['be', 'co', 'de', 'er', 'et', 'or', 'rd', 'ro', 'tt', 'ty', 'yc', 'o1', '01', '10', '11', '19', '60', '96'], 'filtered_two_grams': ['19'], 'reconstructed_words': ['19']}, {'uid': '27499', 'actual_two_grams': ['ar', 'at', 'ew', 'fo', 'he', 'ma', 'rr', 'ru', 'th', 'tt', 'uf', 'wm', 'o2', '11', '19', '21', '67', '96'], 'filtered_two_grams': ['19'], 'reconstructed_words': ['19']}, {'uid': '81389', 'actual_two_grams': ['bb', 'bi', 'do', 'ed', 'in', 'jo', 'ns', 'ob', 'oe', 's6', '19', '41', '64', '67', '96'], 'filtered_two_grams': ['19'], 'reconstructed_words': ['19']}, {'uid': '23134', 'actual_two_grams': ['ad', 'do', 'er', 'es', 'le', 'ol', 're', 'sa', 'te', 's4', '11', '19', '41', '66', '96'], 'filtered_two_grams': ['19'], 'reconstructed_words': ['19']}, {'uid': '32508', 'actual_two_grams': ['ah', 'ea', 'ew', 'hl', 'is', 'le', 'wi', 's3', '11', '19', '21', '32', '66', '96'], 'filtered_two_grams': ['19'], 'reconstructed_words': ['19']}, {'uid': '10074', 'actual_two_grams': ['au', 'do', 'en', 'lr', 'nd', 'on', 'pa', 're', 'ul', 'n1', '16', '19', '61', '72', '97'], 'filtered_two_grams': ['19'], 'reconstructed_words': ['19']}, {'uid': '65521', 'actual_two_grams': ['ar', 'de', 'en', 'er', 'he', 'kh', 'ma', 'nd', 'on', 'rk', 'rs', 'so', 'n2', '11', '19', '21', '22', '55', '95'], 'filtered_two_grams': ['19'], 'reconstructed_words': ['19']}, {'uid': '5136', 'actual_two_grams': ['ab', 'at', 'bu', 'in', 'ka', 'na', 'on', 'ri', 'rt', 'to', 'tr', 'ur', 'n1', '11', '19', '80', '91', '98'], 'filtered_two_grams': ['19'], 'reconstructed_words': ['19']}, {'uid': '33629', 'actual_two_grams': ['ar', 'ay', 'en', 'ka', 'mu', 'nm', 'ra', 're', 'rr', 'ur', 'y2', '16', '19', '21', '61', '74', '97'], 'filtered_two_grams': ['19'], 'reconstructed_words': ['19']}, {'uid': '86228', 'actual_two_grams': ['bb', 'bi', 'de', 'ds', 'eb', 'ew', 'ie', 'od', 'oo', 'wo', 's1', '12', '19', '22', '24', '41', '59', '95'], 'filtered_two_grams': ['19'], 'reconstructed_words': ['19']}, {'uid': '49568', 'actual_two_grams': ['ag', 'av', 'en', 'ge', 'he', 'nr', 'ry', 'sa', 'va', 'ys', 'e2', '19', '25', '44', '51', '94'], 'filtered_two_grams': ['19'], 'reconstructed_words': ['19']}, {'uid': '60367', 'actual_two_grams': ['en', 'es', 'eu', 'ev', 'ge', 'ne', 'ns', 'st', 'te', 'ug', 've', 's1', '11', '12', '19', '21', '87', '98'], 'filtered_two_grams': ['19'], 'reconstructed_words': ['19']}, {'uid': '3057', 'actual_two_grams': ['ar', 'do', 'er', 'ke', 'np', 'on', 'pa', 'rk', 'r1', '11', '12', '19', '21', '58', '95'], 'filtered_two_grams': ['19'], 'reconstructed_words': ['19']}, {'uid': '80453', 'actual_two_grams': ['ar', 'be', 'da', 'el', 'gr', 'lg', 'll', 're', 'rr', 'ru', 'ub', 'e6', '19', '41', '64', '71', '97'], 'filtered_two_grams': ['19'], 'reconstructed_words': ['19']}, {'uid': '21451', 'actual_two_grams': ['er', 'ev', 'fu', 'if', 'ke', 'le', 'lk', 'on', 'rs', 'so', 'ul', 'vi', 'n5', '12', '19', '21', '51', '84', '98'], 'filtered_two_grams': ['19'], 'reconstructed_words': ['19']}, {'uid': '85467', 'actual_two_grams': ['am', 'dw', 'ia', 'il', 'li', 'll', 'lo', 'ms', 'oy', 'wi', 'yd', 's1', '12', '19', '21', '52', '91', '95'], 'filtered_two_grams': ['19'], 'reconstructed_words': ['19']}, {'uid': '13379', 'actual_two_grams': ['as', 'au', 'ca', 'en', 'la', 'lu', 'nl', 're', 'uc', 'ur', 's9', '19', '29', '53', '91', '92', '95'], 'filtered_two_grams': ['19'], 'reconstructed_words': ['19']}, {'uid': '28671', 'actual_two_grams': ['ab', 'ar', 'bo', 'ia', 'ma', 'ot', 'ri', 'ts', 'tt', 's6', '01', '10', '19', '41', '61', '94'], 'filtered_two_grams': ['19'], 'reconstructed_words': ['19']}, {'uid': '13761', 'actual_two_grams': ['al', 'dr', 'ei', 'hs', 'in', 'ld', 'na', 'on', 'ot', 'ro', 'st', 'te', 'th', 'n1', '01', '12', '19', '20', '83', '98'], 'filtered_two_grams': ['19'], 'reconstructed_words': ['19']}, {'uid': '5562', 'actual_two_grams': ['ad', 'an', 'da', 'de', 'el', 'ia', 'ie', 'li', 'ni', 'l4', '12', '19', '21', '41', '45', '94'], 'filtered_two_grams': ['19'], 'reconstructed_words': ['19']}, {'uid': '80821', 'actual_two_grams': ['ar', 'as', 'ey', 'go', 'hl', 'la', 'le', 'ma', 'ol', 'rg', 'sh', 'y4', '16', '19', '41', '61', '94', '99'], 'filtered_two_grams': ['19'], 'reconstructed_words': ['19']}, {'uid': '63022', 'actual_two_grams': ['au', 'co', 'er', 'lc', 'os', 'pa', 'pe', 'sp', 'ul', 'r6', '19', '61', '69', '91', '96'], 'filtered_two_grams': ['19'], 'reconstructed_words': ['19']}, {'uid': '7346', 'actual_two_grams': ['ah', 'as', 'at', 'ha', 'hu', 'na', 'nt', 'sh', 'ta', 'un', 't4', '11', '19', '41', '65', '96'], 'filtered_two_grams': ['19'], 'reconstructed_words': ['19']}, {'uid': '44723', 'actual_two_grams': ['er', 'es', 'he', 'hn', 'jo', 'le', 'nl', 'oh', 'sh', 'r1', '12', '19', '21', '91', '92', '99'], 'filtered_two_grams': ['19'], 'reconstructed_words': ['19']}, {'uid': '84782', 'actual_two_grams': ['ah', 'an', 'au', 'ea', 'fm', 'hk', 'ka', 'le', 'ma', 'uf', 'n6', '19', '26', '61', '62', '77', '97'], 'filtered_two_grams': ['19'], 'reconstructed_words': ['19']}, {'uid': '15356', 'actual_two_grams': ['al', 'be', 'ea', 'en', 'er', 'fe', 'if', 'je', 'ni', 'nn', 'rb', 'l4', '19', '24', '41', '42', '77', '97'], 'filtered_two_grams': ['19'], 'reconstructed_words': ['19']}, {'uid': '73140', 'actual_two_grams': ['ar', 'et', 'ga', 'ho', 'ma', 'od', 'oo', 're', 'rg', 'th', 'd1', '14', '19', '41', '79', '97'], 'filtered_two_grams': ['19'], 'reconstructed_words': ['19']}, {'uid': '33403', 'actual_two_grams': ['ai', 'ed', 'en', 'ep', 'eu', 'ge', 'is', 'la', 'ne', 'pl', 'st', 'te', 'ug', 'd7', '19', '29', '51', '72', '91', '95'], 'filtered_two_grams': ['19'], 'reconstructed_words': ['19']}, {'uid': '1877', 'actual_two_grams': ['ac', 'al', 'an', 'ar', 'bl', 'ce', 'ch', 'eb', 'ha', 'la', 'll', 'nc', 'rd', 'wa', 'd1', '12', '19', '25', '51', '70', '97'], 'filtered_two_grams': ['19'], 'reconstructed_words': ['19']}, {'uid': '62424', 'actual_two_grams': ['am', 'ar', 'da', 'ez', 'in', 'li', 'ma', 'nd', 'ne', 'rt', 'ti', 'z9', '01', '19', '20', '55', '92', '95'], 'filtered_two_grams': ['19'], 'reconstructed_words': ['19']}, {'uid': '41936', 'actual_two_grams': ['cc', 'cl', 'dm', 'ed', 'fr', 'lu', 'mc', 're', 'ur', 'e1', '11', '18', '19', '72', '81', '97'], 'filtered_two_grams': ['19'], 'reconstructed_words': ['19']}, {'uid': '73416', 'actual_two_grams': ['es', 'it', 'lu', 'mi', 'pe', 'sm', 'th', 'up', 'h5', '19', '25', '46', '51', '52', '94'], 'filtered_two_grams': ['19'], 'reconstructed_words': ['19']}, {'uid': '26666', 'actual_two_grams': ['an', 'ar', 'ba', 'de', 'ea', 'nb', 'rt', 'th', 'h8', '19', '51', '53', '85', '95'], 'filtered_two_grams': ['19'], 'reconstructed_words': ['19']}, {'uid': '38339', 'actual_two_grams': ['ab', 'at', 'be', 'el', 'et', 'hw', 'iz', 'li', 'th', 'ts', 'tt', 'wa', 'za', 's5', '11', '19', '31', '44', '53', '94'], 'filtered_two_grams': ['19'], 'reconstructed_words': ['19']}, {'uid': '38083', 'actual_two_grams': ['dy', 'ed', 'ee', 'ek', 'en', 'ke', 'le', 'ne', 'nn', 'y6', '19', '41', '64', '86', '98'], 'filtered_two_grams': ['19'], 'reconstructed_words': ['19']}, {'uid': '12398', 'actual_two_grams': ['aa', 'al', 'de', 'en', 'ey', 'le', 'll', 'na', 'y9', '00', '02', '14', '20', '42', '91'], 'filtered_two_grams': ['19'], 'reconstructed_words': ['19']}, {'uid': '74578', 'actual_two_grams': ['ac', 'co', 'en', 'er', 'ke', 'na', 'ok', 're', 'r1', '12', '19', '21', '22', '61', '96'], 'filtered_two_grams': ['19'], 'reconstructed_words': ['19']}, {'uid': '31803', 'actual_two_grams': ['ah', 'bo', 'de', 'eb', 'es', 'hj', 'jo', 'ne', 'on', 'or', 'ra', 's1', '11', '12', '19', '21', '64', '96'], 'filtered_two_grams': ['19'], 'reconstructed_words': ['19']}, {'uid': '10317', 'actual_two_grams': ['ab', 'ai', 'ar', 'ba', 'be', 'el', 'eo', 'ge', 'il', 'la', 'lb', 'll', 'ma', 'on', 'rg', 'n1', '12', '19', '21', '22', '70', '97'], 'filtered_two_grams': ['19'], 'reconstructed_words': ['19']}, {'uid': '8121', 'actual_two_grams': ['am', 'de', 'ee', 'em', 'es', 'ja', 'me', 'sd', 'm3', '19', '39', '61', '91', '96'], 'filtered_two_grams': ['19'], 'reconstructed_words': ['19']}, {'uid': '44405', 'actual_two_grams': ['ad', 'ar', 'du', 'ee', 'pr', 'ra', 're', 'sa', 'up', 'e3', '13', '19', '31', '70', '97'], 'filtered_two_grams': ['19'], 'reconstructed_words': ['19']}, {'uid': '55970', 'actual_two_grams': ['ac', 'ck', 'de', 'en', 'is', 'ja', 'ks', 'ni', 'nn', 'on', 'sj', 'so', 'n1', '02', '10', '19', '23', '31', '70', '97'], 'filtered_two_grams': ['19'], 'reconstructed_words': ['19']}, {'uid': '90160', 'actual_two_grams': ['ac', 'al', 'ar', 'aw', 'ce', 'ia', 'la', 'll', 'ma', 'ri', 'wa', 'e8', '15', '19', '51', '78', '81', '97'], 'filtered_two_grams': ['19'], 'reconstructed_words': ['19']}, {'uid': '51304', 'actual_two_grams': ['er', 'gu', 'hu', 'il', 'le', 'll', 'mo', 'nh', 'oh', 'rm', 'ui', 'uy', 'yn', 'h5', '19', '21', '22', '52', '61', '96'], 'filtered_two_grams': ['19'], 'reconstructed_words': ['19']}, {'uid': '86149', 'actual_two_grams': ['ad', 'dr', 'en', 'ev', 'gi', 'ie', 'ig', 'il', 'ne', 'nn', 'ri', 'vi', 'l4', '19', '41', '44', '82', '98'], 'filtered_two_grams': ['19'], 'reconstructed_words': ['19']}, {'uid': '82716', 'actual_two_grams': ['be', 'ck', 'er', 'gi', 'il', 'ke', 'lb', 'ot', 'rt', 'to', 'tu', 'uc', 'r5', '19', '41', '54', '79', '97'], 'filtered_two_grams': ['19'], 'reconstructed_words': ['19']}, {'uid': '55125', 'actual_two_grams': ['ar', 'di', 'ed', 'il', 'la', 'll', 'ne', 'nn', 'on', 'rd', 'vo', 'yv', 'd5', '19', '57', '71', '99'], 'filtered_two_grams': ['19'], 'reconstructed_words': ['19']}, {'uid': '6958', 'actual_two_grams': ['ag', 'ce', 'ea', 'el', 'es', 'et', 'gu', 'le', 'st', 'te', 'ue', 'e1', '02', '10', '11', '19', '21', '43', '94'], 'filtered_two_grams': ['19'], 'reconstructed_words': ['19']}, {'uid': '9764', 'actual_two_grams': ['an', 'bu', 'er', 'le', 'nb', 'ry', 'tl', 'ut', 'ya', 'r1', '11', '12', '19', '21', '66', '96'], 'filtered_two_grams': ['19'], 'reconstructed_words': ['19']}, {'uid': '88712', 'actual_two_grams': ['ar', 'br', 'de', 'eb', 'ed', 'en', 'et', 'ge', 'ja', 'ng', 'on', 're', 'so', 'ts', 'n9', '19', '21', '22', '60', '92', '96'], 'filtered_two_grams': ['19'], 'reconstructed_words': ['19']}, {'uid': '43162', 'actual_two_grams': ['am', 'an', 'ck', 'dr', 'ea', 'in', 'ki', 'mc', 'nd', 'nn', 'no', 'on', 're', 'n1', '12', '19', '27', '69', '71', '96'], 'filtered_two_grams': ['19'], 'reconstructed_words': ['19']}, {'uid': '27513', 'actual_two_grams': ['bs', 'eb', 'er', 'ev', 'in', 'ke', 'nw', 'st', 'te', 'vi', 'we', 'r6', '19', '21', '22', '38', '62', '93'], 'filtered_two_grams': ['19'], 'reconstructed_words': ['19']}, {'uid': '85116', 'actual_two_grams': ['al', 'an', 'ba', 'dg', 'dr', 'dy', 'ge', 'id', 'ld', 'nd', 'ra', 'ri', 'yb', 'e2', '18', '19', '21', '81', '88', '98'], 'filtered_two_grams': ['19'], 'reconstructed_words': ['19']}, {'uid': '65459', 'actual_two_grams': ['ar', 'ch', 'dd', 'di', 'ha', 'ic', 'ix', 'on', 'rd', 'ri', 'xo', 'n6', '11', '19', '21', '62', '63', '96'], 'filtered_two_grams': ['19'], 'reconstructed_words': ['19']}, {'uid': '40882', 'actual_two_grams': ['ap', 'er', 'et', 'il', 'lp', 'on', 'pe', 'pr', 'ri', 'rs', 'so', 'te', 'n1', '11', '16', '19', '45', '61', '94'], 'filtered_two_grams': ['19'], 'reconstructed_words': ['19']}, {'uid': '31494', 'actual_two_grams': ['ar', 'ck', 'dd', 'di', 'ha', 'ic', 'id', 'nr', 'on', 'ri', 'ro', 'sh', 'k7', '19', '71', '75', '77', '97'], 'filtered_two_grams': ['19'], 'reconstructed_words': ['19']}, {'uid': '89728', 'actual_two_grams': ['ar', 'eg', 'gh', 'gr', 'ha', 're', 'rt', 'tl', 'l1', '12', '19', '24', '41', '85', '98'], 'filtered_two_grams': ['19'], 'reconstructed_words': ['19']}, {'uid': '42674', 'actual_two_grams': ['ar', 'ch', 'es', 'ha', 'in', 'le', 'li', 'mo', 'na', 'ol', 'rl', 'sm', 'a1', '12', '19', '27', '38', '71', '93'], 'filtered_two_grams': ['19'], 'reconstructed_words': ['19']}, {'uid': '77348', 'actual_two_grams': ['an', 'as', 'do', 'gl', 'ja', 'ki', 'ko', 'la', 'nk', 'ou', 'ow', 'sj', 'sk', 'ug', 'ws', 'i6', '19', '29', '54', '62', '91', '95'], 'filtered_two_grams': ['19'], 'reconstructed_words': ['19']}, {'uid': '8237', 'actual_two_grams': ['ad', 'an', 'at', 'dr', 'ia', 'np', 'pa', 'ri', 'tt', 't9', '13', '19', '31', '83', '91', '98'], 'filtered_two_grams': ['19'], 'reconstructed_words': ['19']}, {'uid': '41575', 'actual_two_grams': ['am', 'as', 'el', 'ia', 'il', 'li', 'll', 'ma', 'mm', 'se', 'wi', 'i9', '14', '19', '41', '86', '91', '98'], 'filtered_two_grams': ['19'], 'reconstructed_words': ['19']}, {'uid': '6007', 'actual_two_grams': ['ao', 'el', 'ey', 'he', 'ia', 'li', 'ne', 'on', 'sh', 'y7', '01', '19', '30', '37', '73', '93'], 'filtered_two_grams': ['19'], 'reconstructed_words': ['19']}, {'uid': '12636', 'actual_two_grams': ['ac', 'cq', 'ej', 'el', 'es', 'in', 'ja', 'jo', 'li', 'ne', 'on', 'qu', 'ue', 's1', '11', '12', '19', '21', '22', '41', '94'], 'filtered_two_grams': ['19'], 'reconstructed_words': ['19']}, {'uid': '85773', 'actual_two_grams': ['ar', 'do', 'ea', 'ed', 'es', 'nd', 'ne', 'on', 're', 'rn', 'rr', 'st', 'ta', 'o9', '12', '19', '21', '91', '92', '99'], 'filtered_two_grams': ['19'], 'reconstructed_words': ['19']}, {'uid': '79788', 'actual_two_grams': ['al', 'el', 'fe', 'hf', 'ix', 'li', 'lp', 'ph', 'ra', 'x5', '01', '19', '20', '52', '63', '96'], 'filtered_two_grams': ['19'], 'reconstructed_words': ['19']}, {'uid': '40894', 'actual_two_grams': ['ah', 'an', 'ar', 'ha', 'io', 'ma', 'ni', 'nt', 'om', 'on', 'to', 'r9', '19', '51', '91', '95', '99'], 'filtered_two_grams': ['19'], 'reconstructed_words': ['19']}, {'uid': '70686', 'actual_two_grams': ['ab', 'be', 'ee', 'el', 'en', 'et', 'gr', 'hg', 'iz', 'li', 'ne', 're', 'th', 'za', 'e9', '01', '19', '30', '43', '93', '94'], 'filtered_two_grams': ['19'], 'reconstructed_words': ['19']}, {'uid': '86783', 'actual_two_grams': ['am', 'ar', 'eo', 'ez', 'ge', 'gi', 'ia', 'in', 'ma', 'ne', 'or', 'rg', 'rt', 'ti', 'z1', '12', '17', '19', '21', '71', '90', '99'], 'filtered_two_grams': ['19'], 'reconstructed_words': ['19']}, {'uid': '56270', 'actual_two_grams': ['ar', 'dj', 'dw', 'ed', 'hn', 'jo', 'ns', 'oh', 'on', 'rd', 'so', 'wa', 'n2', '11', '19', '21', '22', '60', '96'], 'filtered_two_grams': ['19'], 'reconstructed_words': ['19']}, {'uid': '73478', 'actual_two_grams': ['br', 'ck', 'de', 'er', 'ic', 'kb', 'ow', 'ri', 'ro', 'rr', 'wn', 'n1', '05', '10', '19', '51', '57', '95'], 'filtered_two_grams': ['19'], 'reconstructed_words': ['19']}, {'uid': '79459', 'actual_two_grams': ['as', 'ch', 'hi', 'ho', 'hu', 'in', 'ma', 'ns', 'om', 'sh', 'tc', 'th', 'ut', 's7', '19', '29', '72', '90', '91', '99'], 'filtered_two_grams': ['19'], 'reconstructed_words': ['19']}, {'uid': '36761', 'actual_two_grams': ['an', 'ar', 'er', 'kt', 'ma', 'ne', 'nn', 'rk', 'ta', 'r9', '00', '02', '16', '20', '62', '91'], 'filtered_two_grams': ['19'], 'reconstructed_words': ['19']}, {'uid': '29690', 'actual_two_grams': ['af', 'do', 'ff', 'fo', 'hy', 'or', 'ot', 'rd', 'ro', 'st', 'ta', 'th', 'ys', 'd8', '19', '61', '86', '89', '98'], 'filtered_two_grams': ['19'], 'reconstructed_words': ['19']}, {'uid': '16774', 'actual_two_grams': ['aj', 'ca', 'en', 'ez', 'ic', 'im', 'ji', 'me', 'mo', 'ne', 'ni', 'on', 'z7', '14', '19', '39', '41', '71', '93'], 'filtered_two_grams': ['19'], 'reconstructed_words': ['19']}, {'uid': '73037', 'actual_two_grams': ['at', 'es', 'ey', 'ia', 'le', 'or', 'sl', 'to', 'vi', 'we', 'yv', 'r1', '12', '19', '21', '22', '93', '99'], 'filtered_two_grams': ['19'], 'reconstructed_words': ['19']}, {'uid': '32815', 'actual_two_grams': ['aw', 'cu', 'da', 'er', 'nc', 'te', 'tt', 'ut', 'wn', 'r1', '11', '13', '19', '31', '98', '99'], 'filtered_two_grams': ['19'], 'reconstructed_words': ['19']}, {'uid': '50293', 'actual_two_grams': ['av', 'be', 'en', 'er', 'ge', 'il', 'is', 'lt', 'mi', 'nb', 'ra', 'rg', 'sm', 'te', 'tr', 'vi', 'r1', '01', '02', '10', '19', '20', '80', '98'], 'filtered_two_grams': ['19'], 'reconstructed_words': ['19']}, {'uid': '22328', 'actual_two_grams': ['dr', 'ed', 'ee', 'es', 'ev', 'il', 'ld', 'mi', 're', 've', 's1', '08', '10', '19', '71', '81', '97'], 'filtered_two_grams': ['19'], 'reconstructed_words': ['19']}, {'uid': '5306', 'actual_two_grams': ['er', 'ho', 'it', 'mp', 'om', 'on', 'ps', 'ri', 'rr', 'so', 'te', 'th', 'n2', '18', '19', '21', '81', '98'], 'filtered_two_grams': ['19'], 'reconstructed_words': ['19']}, {'uid': '7974', 'actual_two_grams': ['am', 'ar', 'be', 'dh', 'er', 'ha', 'il', 'lt', 'mi', 'na', 'on', 'rd', 'rn', 'to', 'n8', '19', '53', '71', '87', '95'], 'filtered_two_grams': ['19'], 'reconstructed_words': ['19']}, {'uid': '71690', 'actual_two_grams': ['au', 'in', 'li', 'ls', 'ng', 'pa', 'pu', 'rl', 'sp', 'ul', 'ur', 'g9', '19', '61', '80', '96', '98'], 'filtered_two_grams': ['19'], 'reconstructed_words': ['19']}, {'uid': '66022', 'actual_two_grams': ['an', 'bb', 'be', 'ck', 'dr', 'en', 'ew', 'ib', 'ki', 'mc', 'nd', 're', 'wm', 'n4', '19', '21', '22', '42', '90', '99'], 'filtered_two_grams': ['19'], 'reconstructed_words': ['19']}, {'uid': '71912', 'actual_two_grams': ['eg', 'eo', 'er', 'ge', 'gl', 'lo', 'or', 'ov', 'rg', 've', 'r3', '19', '21', '32', '62', '96'], 'filtered_two_grams': ['19'], 'reconstructed_words': ['19']}, {'uid': '27845', 'actual_two_grams': ['an', 'as', 'bo', 'ea', 'ep', 'ie', 'le', 'ni', 'nn', 'nt', 'on', 'pl', 'sa', 'ts', 's7', '19', '29', '40', '72', '91', '94'], 'filtered_two_grams': ['19'], 'reconstructed_words': ['19']}, {'uid': '37312', 'actual_two_grams': ['ar', 'eh', 'ht', 'le', 'ma', 'ry', 'to', 'yl', 'o1', '12', '19', '24', '41', '66', '96'], 'filtered_two_grams': ['19'], 'reconstructed_words': ['19']}, {'uid': '4175', 'actual_two_grams': ['be', 'do', 'er', 'ev', 'ly', 'on', 'ot', 'rl', 'so', 'ts', 've', 'yd', 'n1', '01', '10', '19', '85', '91', '98'], 'filtered_two_grams': ['19'], 'reconstructed_words': ['19']}, {'uid': '6142', 'actual_two_grams': ['ey', 'hi', 'ir', 'is', 'le', 'rl', 'se', 'sh', 'wi', 'yw', 'e1', '12', '19', '21', '96', '99'], 'filtered_two_grams': ['19'], 'reconstructed_words': ['19']}, {'uid': '61680', 'actual_two_grams': ['al', 'an', 'ey', 'ga', 'lo', 'ma', 'ne', 'nm', 'og', 'on', 'y4', '14', '19', '41', '55', '95'], 'filtered_two_grams': ['19'], 'reconstructed_words': ['19']}, {'uid': '43570', 'actual_two_grams': ['ar', 'ch', 'cr', 'dc', 'es', 'ha', 'ic', 'po', 'rd', 're', 'ri', 'sp', 'o5', '19', '57', '61', '71', '96'], 'filtered_two_grams': ['19'], 'reconstructed_words': ['19']}, {'uid': '8293', 'actual_two_grams': ['de', 'ds', 'em', 'er', 'ey', 'in', 'li', 'mp', 'nd', 'ps', 'se', 'st', 'te', 'yd', 'r6', '01', '19', '20', '45', '62', '94'], 'filtered_two_grams': ['19'], 'reconstructed_words': ['19']}, {'uid': '17565', 'actual_two_grams': ['at', 'ep', 'er', 'je', 'me', 'om', 'on', 'pa', 'ro', 'rs', 'so', 'te', 'tt', 'n5', '19', '51', '55', '66', '96'], 'filtered_two_grams': ['19'], 'reconstructed_words': ['19']}, {'uid': '32224', 'actual_two_grams': ['ar', 'ch', 'ei', 'es', 'ha', 'il', 'le', 'll', 'ne', 'rl', 'so', 'l5', '11', '19', '37', '51', '93'], 'filtered_two_grams': ['19'], 'reconstructed_words': ['19']}, {'uid': '35399', 'actual_two_grams': ['am', 'aw', 'et', 'ia', 'il', 'li', 'll', 'lo', 'ms', 'or', 're', 'ta', 'tt', 'wi', 's1', '02', '10', '19', '23', '31', '71', '97'], 'filtered_two_grams': ['19'], 'reconstructed_words': ['19']}]\n",
      "Average Precision: 0.9502487562189055\n",
      "Average Recall: 0.054112842861855893\n",
      "Average F1 Score: 0.10232793362668614\n",
      "Average Dice Similarity: 0.10232139303482589\n"
     ]
    }
   ],
   "source": [
    "# List to store decoded 2-gram scores for all test samples\n",
    "decoded_test_results_words = []\n",
    "result = []\n",
    "total_precision = total_recall = total_f1 = total_dice = 0.0\n",
    "n = len(dataloader_test.dataset)\n",
    "\n",
    "# Switch to evaluation mode (no gradient computation during inference)\n",
    "model.eval()\n",
    "\n",
    "# Define Threshold for filtering predictions\n",
    "threshold = DEA_CONFIG[\"FilterThreshold\"]\n",
    "\n",
    "# Loop through the test dataloader for inference\n",
    "with torch.no_grad():  # No need to compute gradients during inference\n",
    "    for data, labels, uid in tqdm(dataloader_test, desc=\"Test loop\") if GLOBAL_CONFIG[\"Verbose\"] else dataloader_test:\n",
    "\n",
    "        actual_two_grams = label_tensors_to_two_grams(two_gram_dict, labels)\n",
    "\n",
    "        # Move data to device and make predictions\n",
    "        data = data.to(compute_device)\n",
    "        logits = model(data)\n",
    "        probabilities = torch.sigmoid(logits)\n",
    "\n",
    "        # Convert probabilities into 2-gram scores\n",
    "        batch_two_gram_scores = convert_to_two_gram_scores(two_gram_dict, probabilities)\n",
    "\n",
    "        # Filter out low-scoring 2-grams\n",
    "        batch_filtered_two_gram_scores = filter_two_grams(batch_two_gram_scores, threshold)\n",
    "\n",
    "        # Calculate performance metrics for evaluation\n",
    "        dice, precision, recall, f1 = calculate_performance_metrics(\n",
    "            actual_two_grams, batch_filtered_two_gram_scores)\n",
    "        total_dice += dice\n",
    "        total_precision += precision\n",
    "        total_recall += recall\n",
    "        total_f1 += f1\n",
    "\n",
    "        # Reconstruct words from the filtered 2-grams for each sample\n",
    "        batch_reconstructed_words = [\n",
    "            reconstruct_words(filtered_scores) for filtered_scores in batch_filtered_two_gram_scores\n",
    "        ]\n",
    "\n",
    "        for two_grams, two_grams_predicted, reconstructed_words, uid in zip(actual_two_grams, batch_filtered_two_gram_scores, batch_reconstructed_words, uid):\n",
    "            # Create a dictionary to store the results for each test sample\n",
    "            result_dict = {\n",
    "                \"uid\": uid,\n",
    "                \"actual_two_grams\": two_grams,\n",
    "                \"filtered_two_grams\": two_grams_predicted,\n",
    "                \"reconstructed_words\": reconstructed_words\n",
    "            }\n",
    "            # Append the result dictionary to the combined results list\n",
    "            result.append(result_dict)\n",
    "\n",
    "        average_precision = total_precision / n\n",
    "        average_recall = total_recall / n\n",
    "        average_f1 = total_f1 / n\n",
    "        average_dice = total_dice / n\n",
    "\n",
    "\n",
    "# Now `combined_results_performance` contains detailed comparison for all test samples\n",
    "print(result)\n",
    "print (f\"Average Precision: {average_precision}\")\n",
    "print (f\"Average Recall: {average_recall}\")\n",
    "print (f\"Average F1 Score: {average_f1}\")\n",
    "print (f\"Average Dice Similarity: {average_dice}\")\n"
   ]
  },
  {
   "cell_type": "markdown",
   "metadata": {},
   "source": [
    "## Visualize Performance for Re-Identification"
   ]
  },
  {
   "cell_type": "code",
   "execution_count": 12,
   "metadata": {},
   "outputs": [
    {
     "data": {
      "image/png": "[encoded data removed]",
      "text/plain": [
       "<Figure size 1000x600 with 1 Axes>"
      ]
     },
     "metadata": {},
     "output_type": "display_data"
    },
    {
     "name": "stdout",
     "output_type": "stream",
     "text": [
      "\n",
      "🔍 Sample Reconstructions (first 5):\n",
      "UID: 32508\n",
      "  Actual 2-grams:       ['ah', 'ea', 'ew', 'hl', 'is', 'le', 'wi', 's3', '11', '19', '21', '32', '66', '96']\n",
      "  Predicted 2-grams:    ['19']\n",
      "  Reconstructed Words:  ['19']\n",
      "------------------------------------------------------------\n",
      "UID: 42413\n",
      "  Actual 2-grams:       ['di', 'ed', 'ep', 'hi', 'in', 'ix', 'jo', 'ne', 'on', 'os', 'ph', 'se', 'xo', 'n1', '11', '12', '19', '25', '51', '98', '99']\n",
      "  Predicted 2-grams:    ['19']\n",
      "  Reconstructed Words:  ['19']\n",
      "------------------------------------------------------------\n",
      "UID: 29927\n",
      "  Actual 2-grams:       ['at', 'au', 'ch', 'ci', 'hu', 'ia', 'ic', 'pa', 'pc', 'rc', 'ri', 'tr', 'up', 'ur', 'h9', '19', '41', '45', '94']\n",
      "  Predicted 2-grams:    ['19']\n",
      "  Reconstructed Words:  ['19']\n",
      "------------------------------------------------------------\n",
      "UID: 10074\n",
      "  Actual 2-grams:       ['au', 'do', 'en', 'lr', 'nd', 'on', 'pa', 're', 'ul', 'n1', '16', '19', '61', '72', '97']\n",
      "  Predicted 2-grams:    ['19']\n",
      "  Reconstructed Words:  ['19']\n",
      "------------------------------------------------------------\n",
      "UID: 8121\n",
      "  Actual 2-grams:       ['am', 'de', 'ee', 'em', 'es', 'ja', 'me', 'sd', 'm3', '19', '39', '61', '91', '96']\n",
      "  Predicted 2-grams:    ['19']\n",
      "  Reconstructed Words:  ['19']\n",
      "------------------------------------------------------------\n"
     ]
    },
    {
     "data": {
      "image/png": "[encoded data removed]",
      "text/plain": [
       "<Figure size 800x500 with 1 Axes>"
      ]
     },
     "metadata": {},
     "output_type": "display_data"
    }
   ],
   "source": [
    "# Convert results to DataFrame\n",
    "results_df = pd.DataFrame(result)\n",
    "\n",
    "# Calculate per-sample 2-gram overlap metrics\n",
    "def two_gram_overlap(row):\n",
    "    actual = set(row['actual_two_grams'])\n",
    "    predicted = set(row['filtered_two_grams'])\n",
    "    intersection = actual & predicted\n",
    "    return {\n",
    "        \"uid\": row[\"uid\"],\n",
    "        \"precision\": len(intersection) / len(predicted) if predicted else 0,\n",
    "        \"recall\": len(intersection) / len(actual) if actual else 0,\n",
    "        \"f1\": 2 * len(intersection) / (len(actual) + len(predicted)) if actual and predicted else 0,\n",
    "        \"actual_len\": len(actual),\n",
    "        \"predicted_len\": len(predicted)\n",
    "    }\n",
    "\n",
    "overlap_df = pd.DataFrame([two_gram_overlap(row) for _, row in results_df.iterrows()])\n",
    "\n",
    "# Plot 1: Distribution of precision, recall, F1\n",
    "plt.figure(figsize=(10, 6))\n",
    "sns.histplot(overlap_df[['precision', 'recall', 'f1']], bins=20, kde=True, palette='Set2', element=\"step\", fill=False)\n",
    "plt.title('Distribution of Precision, Recall, F1 across Samples')\n",
    "plt.xlabel('Score')\n",
    "plt.ylabel('Frequency')\n",
    "plt.legend(['Precision', 'Recall', 'F1'])\n",
    "plt.grid(True)\n",
    "plt.tight_layout()\n",
    "plt.show()\n",
    "\n",
    "# Plot 2: Sample examples of reconstruction\n",
    "print(\"\\n🔍 Sample Reconstructions (first 5):\")\n",
    "for idx, row in results_df.head(5).iterrows():\n",
    "    print(f\"UID: {row['uid']}\")\n",
    "    print(f\"  Actual 2-grams:       {row['actual_two_grams']}\")\n",
    "    print(f\"  Predicted 2-grams:    {row['filtered_two_grams']}\")\n",
    "    print(f\"  Reconstructed Words:  {row['reconstructed_words']}\")\n",
    "    print(\"-\" * 60)\n",
    "\n",
    "# Plot 3: Word length distribution\n",
    "results_df[\"avg_predicted_piece_length\"] = results_df[\"reconstructed_words\"].apply(\n",
    "    lambda x: np.mean([len(piece) for piece in x]) if x else 0\n",
    ")\n",
    "plt.figure(figsize=(8, 5))\n",
    "sns.histplot(results_df[\"avg_predicted_piece_length\"], bins=20, color=\"skyblue\")\n",
    "plt.title('Distribution of Reconstructed Word Lengths')\n",
    "plt.xlabel('Reconstructed Word Length')\n",
    "plt.ylabel('Count')\n",
    "plt.grid(True)\n",
    "plt.tight_layout()\n",
    "plt.show()"
   ]
  },
  {
   "cell_type": "markdown",
   "metadata": {},
   "source": [
    "## Testing Area"
   ]
  },
  {
   "cell_type": "code",
   "execution_count": 13,
   "metadata": {},
   "outputs": [
    {
     "ename": "SystemExit",
     "evalue": "Stopping execution at this cell.",
     "output_type": "error",
     "traceback": [
      "An exception has occurred, use %tb to see the full traceback.\n",
      "\u001b[0;31mSystemExit\u001b[0m\u001b[0;31m:\u001b[0m Stopping execution at this cell.\n"
     ]
    },
    {
     "name": "stderr",
     "output_type": "stream",
     "text": [
      "/Users/I538952/Desktop/master/4-semester-thesis/dataset-extension-attack/.venv/lib/python3.10/site-packages/IPython/core/interactiveshell.py:3587: UserWarning: To exit: use 'exit', 'quit', or Ctrl-D.\n",
      "  warn(\"To exit: use 'exit', 'quit', or Ctrl-D.\", stacklevel=1)\n"
     ]
    }
   ],
   "source": [
    "sys.exit(\"Stopping execution at this cell.\")"
   ]
  }
 ],
 "metadata": {
  "kernelspec": {
   "display_name": ".venv",
   "language": "python",
   "name": "python3"
  },
  "language_info": {
   "codemirror_mode": {
    "name": "ipython",
    "version": 3
   },
   "file_extension": ".py",
   "mimetype": "text/x-python",
   "name": "python",
   "nbconvert_exporter": "python",
   "pygments_lexer": "ipython3",
   "version": "3.10.9"
  }
 },
 "nbformat": 4,
 "nbformat_minor": 2
}
