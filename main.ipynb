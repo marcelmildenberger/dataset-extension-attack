{
 "cells": [
  {
   "cell_type": "markdown",
   "metadata": {},
   "source": [
    "# Privacy-Preserving Record Linkage (PPRL): Investigating Dataset Extension Attacks"
   ]
  },
  {
   "cell_type": "markdown",
   "metadata": {},
   "source": [
    "## Setup"
   ]
  },
  {
   "cell_type": "code",
   "execution_count": 1,
   "metadata": {},
   "outputs": [
    {
     "name": "stdout",
     "output_type": "stream",
     "text": [
      "System Version: 3.10.16 | packaged by conda-forge | (main, Dec  5 2024, 14:20:01) [Clang 18.1.8 ]\n",
      "PyTorch version 2.1.2\n",
      "Torchvision version 0.16.2\n",
      "Numpy version 1.24.4\n",
      "Pandas version 2.0.3\n"
     ]
    }
   ],
   "source": [
    "import torch\n",
    "import torch.nn as nn\n",
    "import torch.optim as optim\n",
    "from torch.utils.data import Dataset, DataLoader, random_split\n",
    "import torchvision\n",
    "import torchvision.transforms as transforms\n",
    "\n",
    "import matplotlib.pyplot as plt # For data viz\n",
    "import pandas as pd\n",
    "import numpy as np\n",
    "import string\n",
    "import sys\n",
    "from tqdm.notebook import tqdm\n",
    "\n",
    "from graphMatching.gma import run_gma\n",
    "\n",
    "print('System Version:', sys.version)\n",
    "print('PyTorch version', torch.__version__)\n",
    "print('Torchvision version', torchvision.__version__)\n",
    "print('Numpy version', np.__version__)\n",
    "print('Pandas version', pd.__version__)"
   ]
  },
  {
   "cell_type": "markdown",
   "metadata": {},
   "source": [
    "## Run GMA"
   ]
  },
  {
   "cell_type": "code",
   "execution_count": 2,
   "metadata": {},
   "outputs": [],
   "source": [
    "# Parameters\n",
    "GLOBAL_CONFIG = {\n",
    "    \"Data\": \"./graphMatching/data/titanic_full.tsv\",\n",
    "    \"Overlap\": 0.7,\n",
    "    \"DropFrom\": \"Both\",\n",
    "    \"DevMode\": False,  # Development Mode, saves some intermediate results to the /dev directory\n",
    "    \"BenchMode\": False,  # Benchmark Mode\n",
    "    \"Verbose\": True,  # Print Status Messages?\n",
    "    \"MatchingMetric\": \"cosine\",\n",
    "    \"Matching\": \"MinWeight\",\n",
    "    \"Workers\": -1,\n",
    "    \"SaveAliceEncs\": True,\n",
    "    \"SaveEveEncs\": True\n",
    "}\n",
    "\n",
    "ENC_CONFIG = {\n",
    "    \"AliceAlgo\": \"BloomFilter\",\n",
    "    \"AliceSecret\": \"SuperSecretSalt1337\",\n",
    "    \"AliceN\": 2,\n",
    "    \"AliceMetric\": \"dice\",\n",
    "    \"EveAlgo\": \"BloomFilter\",\n",
    "    \"EveSecret\": \"ATotallyDifferentString42\",\n",
    "    \"EveN\": 2,\n",
    "    \"EveMetric\": \"dice\",\n",
    "    # For BF encoding\n",
    "    \"AliceBFLength\": 1024,\n",
    "    \"AliceBits\": 10,\n",
    "    \"AliceDiffuse\": False,\n",
    "    \"AliceT\": 10,\n",
    "    \"AliceEldLength\": 1024,\n",
    "    \"EveBFLength\": 1024,\n",
    "    \"EveBits\": 10,\n",
    "    \"EveDiffuse\": False,\n",
    "    \"EveT\": 10,\n",
    "    \"EveEldLength\": 1024,\n",
    "    # For TMH encoding\n",
    "    \"AliceNHash\": 1024,\n",
    "    \"AliceNHashBits\": 64,\n",
    "    \"AliceNSubKeys\": 8,\n",
    "    \"Alice1BitHash\": True,\n",
    "    \"EveNHash\": 1024,\n",
    "    \"EveNHashBits\": 64,\n",
    "    \"EveNSubKeys\": 8,\n",
    "    \"Eve1BitHash\": True,\n",
    "    # For 2SH encoding\n",
    "    \"AliceNHashFunc\": 10,\n",
    "    \"AliceNHashCol\": 1000,\n",
    "    \"AliceRandMode\": \"PNG\",\n",
    "    \"EveNHashFunc\": 10,\n",
    "    \"EveNHashCol\": 1000,\n",
    "    \"EveRandMode\": \"PNG\",\n",
    "    # For PST Encoding\n",
    "    \"AlicePSTK\": 20,\n",
    "    \"AlicePSTL\": 8,\n",
    "    \"AlicePSTP\": None,\n",
    "    \"AliceCharset\": string.printable,\n",
    "    \"EvePSTK\": 20,\n",
    "    \"EvePSTL\": 8,\n",
    "    \"EvePSTP\": None,\n",
    "    \"EveCharset\": string.printable\n",
    "}\n",
    "\n",
    "EMB_CONFIG = {\n",
    "    \"Algo\": \"Node2Vec\",\n",
    "    \"AliceQuantile\": 0.9,\n",
    "    \"AliceDiscretize\": False,\n",
    "    \"AliceDim\": 128,\n",
    "    \"AliceContext\": 10,\n",
    "    \"AliceNegative\": 1,\n",
    "    \"AliceNormalize\": True,\n",
    "    \"EveQuantile\": 0.9,\n",
    "    \"EveDiscretize\": False,\n",
    "    \"EveDim\": 128,\n",
    "    \"EveContext\": 10,\n",
    "    \"EveNegative\": 1,\n",
    "    \"EveNormalize\": True,\n",
    "    # For Node2Vec\n",
    "    \"AliceWalkLen\": 100,\n",
    "    \"AliceNWalks\": 20,\n",
    "    \"AliceP\": 250,\n",
    "    \"AliceQ\": 300,\n",
    "    \"AliceEpochs\": 5,\n",
    "    \"AliceSeed\": 42,\n",
    "    \"EveWalkLen\": 100,\n",
    "    \"EveNWalks\": 20,\n",
    "    \"EveP\": 250,\n",
    "    \"EveQ\": 300,\n",
    "    \"EveEpochs\": 5,\n",
    "    \"EveSeed\": 42\n",
    "}\n",
    "\n",
    "ALIGN_CONFIG = {\n",
    "    \"RegWS\": max(0.1, GLOBAL_CONFIG[\"Overlap\"]/2), #0005\n",
    "    \"RegInit\":1, # For BF 0.25\n",
    "    \"Batchsize\": 1, # 1 = 100%\n",
    "    \"LR\": 200.0,\n",
    "    \"NIterWS\": 100,\n",
    "    \"NIterInit\": 5 ,  # 800\n",
    "    \"NEpochWS\": 100,\n",
    "    \"LRDecay\": 1,\n",
    "    \"Sqrt\": True,\n",
    "    \"EarlyStopping\": 10,\n",
    "    \"Selection\": \"None\",\n",
    "    \"MaxLoad\": None,\n",
    "    \"Wasserstein\": True\n",
    "}"
   ]
  },
  {
   "cell_type": "code",
   "execution_count": 3,
   "metadata": {},
   "outputs": [
    {
     "name": "stdout",
     "output_type": "stream",
     "text": [
      "Found stored data for Alice's encoded records\n",
      "enc_pck {'870': array([False, False, False, ..., False,  True, False]), '889': array([False, False, False, ..., False, False, False]), '549': array([False, False,  True, ..., False,  True, False]), '383': array([False, False,  True, ..., False,  True, False]), '573': array([False, False, False, ..., False,  True, False]), '240': array([False,  True,  True, ..., False, False, False]), '589': array([False, False, False, ..., False, False, False]), '22': array([False,  True, False, ..., False, False, False]), '31': array([False,  True,  True, ...,  True,  True,  True]), '792': array([False, False, False, ..., False,  True, False]), '180': array([False, False, False, ...,  True,  True, False]), '3': array([False, False,  True, ..., False,  True, False]), '768': array([False, False,  True, ..., False, False, False]), '248': array([False, False, False, ..., False, False,  True]), '125': array([False, False,  True, ..., False,  True,  True]), '646': array([False, False, False, ..., False, False, False]), '742': array([False,  True, False, ..., False,  True, False]), '185': array([False,  True, False, ..., False,  True, False]), '312': array([False,  True, False, ..., False, False,  True]), '598': array([False, False, False, ..., False, False, False]), '299': array([False,  True,  True, ..., False, False, False]), '830': array([ True,  True,  True, ..., False,  True, False]), '691': array([False, False, False, ...,  True, False, False]), '515': array([False,  True, False, ..., False,  True,  True]), '863': array([False, False,  True, ..., False,  True, False]), '844': array([False, False, False, ..., False, False, False]), '91': array([False, False,  True, ..., False, False, False]), '595': array([False, False, False, ..., False,  True, False]), '390': array([False,  True,  True, ..., False,  True,  True]), '839': array([False, False, False, ..., False,  True, False]), '463': array([False, False, False, ..., False,  True, False]), '727': array([False, False, False, ..., False, False, False]), '648': array([False,  True,  True, ..., False,  True,  True]), '144': array([False,  True,  True, ..., False,  True, False]), '746': array([False,  True,  True, ..., False, False,  True]), '878': array([False, False, False, ..., False,  True, False]), '37': array([False, False,  True, ..., False,  True, False]), '581': array([False, False, False, ..., False,  True, False]), '253': array([False,  True, False, ..., False, False,  True]), '766': array([False,  True, False, ..., False, False, False]), '154': array([False,  True, False, ..., False, False, False]), '158': array([False, False, False, ..., False, False,  True]), '779': array([ True,  True,  True, ..., False,  True, False]), '513': array([False,  True, False, ..., False, False, False]), '726': array([False, False, False, ..., False,  True, False]), '740': array([ True,  True, False, ..., False,  True, False]), '818': array([ True,  True,  True, ..., False,  True, False]), '446': array([False, False, False, ..., False, False, False]), '647': array([False, False, False, ..., False,  True, False]), '118': array([False, False,  True, ..., False, False, False]), '514': array([False, False, False, ..., False,  True, False]), '476': array([False, False, False, ..., False,  True, False]), '545': array([False,  True,  True, ..., False,  True,  True]), '302': array([False,  True, False, ..., False, False,  True]), '338': array([False,  True,  True, ..., False, False, False]), '159': array([False, False, False, ..., False,  True, False]), '872': array([ True,  True, False, ..., False,  True, False]), '353': array([ True,  True, False, ...,  True, False, False]), '494': array([False,  True,  True, ..., False,  True, False]), '803': array([False, False, False, ..., False,  True, False]), '179': array([False, False, False, ..., False, False, False]), '854': array([False,  True,  True, ..., False,  True, False]), '56': array([False, False,  True, ..., False,  True, False]), '688': array([False,  True,  True, ..., False, False, False]), '464': array([False, False, False, ..., False, False, False]), '23': array([False,  True, False, ..., False, False,  True]), '34': array([False, False,  True, ..., False, False, False]), '678': array([ True,  True, False, ..., False,  True,  True]), '760': array([False,  True, False, ..., False, False, False]), '793': array([False,  True, False, ..., False, False,  True]), '11': array([False, False,  True, ..., False, False, False]), '252': array([False,  True, False, ..., False,  True,  True]), '542': array([False, False,  True, ..., False,  True, False]), '876': array([ True,  True, False, ..., False,  True, False]), '613': array([False, False, False, ..., False, False, False]), '209': array([False, False, False, ..., False,  True, False]), '715': array([ True, False,  True, ..., False, False, False]), '654': array([False,  True, False, ..., False,  True, False]), '816': array([False, False, False, ..., False, False, False]), '851': array([False, False, False, ..., False, False, False]), '436': array([False, False,  True, ..., False, False, False]), '859': array([False, False, False, ..., False, False, False]), '454': array([False,  True, False, ..., False, False, False]), '308': array([False,  True, False, ..., False,  True, False]), '763': array([False,  True,  True, ..., False,  True,  True]), '214': array([False, False, False, ..., False, False, False]), '777': array([False, False,  True, ..., False,  True, False]), '202': array([ True,  True, False, ...,  True,  True, False]), '577': array([False,  True,  True, ..., False,  True,  True]), '297': array([False, False, False, ..., False,  True, False]), '150': array([False,  True, False, ..., False, False, False]), '592': array([False,  True,  True, ..., False,  True,  True]), '862': array([ True,  True, False, ..., False, False,  True]), '732': array([False,  True, False, ..., False, False, False]), '126': array([False,  True, False, ..., False,  True, False]), '470': array([False,  True, False, ..., False, False, False]), '679': array([False,  True,  True, ...,  True, False, False]), '196': array([False,  True, False, ..., False, False, False]), '840': array([False, False,  True, ...,  True,  True, False]), '511': array([False,  True, False, ..., False, False, False]), '405': array([False, False, False, ..., False,  True, False]), '819': array([False, False, False, ..., False,  True, False]), '419': array([False, False, False, ..., False, False, False]), '38': array([False, False, False, ..., False,  True, False]), '626': array([False, False, False, ..., False, False, False]), '491': array([False, False,  True, ..., False, False,  True]), '265': array([False, False,  True, ..., False, False, False]), '847': array([ True, False, False, ..., False,  True, False]), '653': array([False, False, False, ..., False,  True, False]), '568': array([False, False, False, ..., False, False, False]), '241': array([False, False, False, ..., False,  True, False]), '554': array([False, False, False, ..., False, False, False]), '431': array([ True, False, False, ...,  True,  True, False]), '666': array([False, False,  True, ..., False,  True, False]), '30': array([False,  True,  True, ..., False,  True, False]), '474': array([ True, False,  True, ..., False,  True, False]), '702': array([False, False, False, ..., False,  True, False]), '599': array([False, False,  True, ...,  True, False,  True]), '743': array([False,  True, False, ..., False,  True,  True]), '28': array([False, False,  True, ..., False, False, False]), '280': array([ True,  True, False, ..., False, False, False]), '635': array([False, False,  True, ..., False,  True, False]), '492': array([False, False, False, ..., False,  True, False]), '718': array([False, False, False, ..., False,  True, False]), '789': array([False,  True, False, ..., False,  True, False]), '229': array([False, False, False, ..., False, False, False]), '747': array([False, False, False, ..., False, False, False]), '82': array([False, False, False, ..., False, False, False]), '114': array([False, False, False, ...,  True,  True, False]), '552': array([False, False, False, ..., False,  True, False]), '17': array([False,  True,  True, ..., False,  True,  True]), '771': array([False, False, False, ..., False, False,  True]), '809': array([False,  True, False, ..., False, False,  True]), '77': array([False,  True,  True, ..., False,  True, False]), '192': array([False, False, False, ..., False,  True,  True]), '804': array([False, False, False, ..., False, False, False]), '500': array([False, False, False, ..., False,  True, False]), '315': array([False, False,  True, ..., False, False,  True]), '278': array([False, False,  True, ..., False,  True, False]), '396': array([False, False,  True, ..., False, False, False]), '222': array([False, False, False, ..., False,  True, False]), '480': array([False, False, False, ..., False,  True,  True]), '96': array([False,  True, False, ..., False, False, False]), '147': array([False, False, False, ..., False, False, False]), '21': array([False, False, False, ...,  True,  True, False]), '825': array([False, False, False, ..., False, False, False]), '59': array([ True,  True, False, ..., False,  True,  True]), '130': array([False, False, False, ..., False, False, False]), '609': array([False, False,  True, ..., False, False, False]), '730': array([ True,  True,  True, ..., False,  True, False]), '884': array([False, False,  True, ..., False,  True, False]), '590': array([False,  True,  True, ...,  True, False, False]), '813': array([ True,  True,  True, ..., False,  True, False]), '440': array([False,  True,  True, ..., False,  True, False]), '805': array([False, False, False, ..., False, False, False]), '157': array([False, False, False, ..., False,  True, False]), '39': array([False,  True, False, ..., False, False,  True]), '395': array([False, False,  True, ..., False, False, False]), '186': array([ True,  True, False, ..., False, False, False]), '145': array([False, False, False, ..., False, False,  True]), '105': array([ True, False, False, ..., False,  True, False]), '201': array([ True,  True, False, ..., False,  True, False]), '429': array([False, False, False, ..., False, False, False]), '351': array([False,  True, False, ..., False, False,  True]), '40': array([False, False, False, ..., False, False, False]), '254': array([False,  True,  True, ..., False, False,  True]), '580': array([False, False, False, ..., False,  True, False]), '692': array([False,  True, False, ..., False,  True, False]), '53': array([False, False,  True, ..., False, False,  True]), '304': array([False,  True, False, ..., False,  True,  True]), '256': array([False,  True, False, ..., False, False, False]), '671': array([False, False,  True, ..., False, False, False]), '467': array([False,  True,  True, ..., False,  True,  True]), '112': array([False,  True,  True, ..., False, False, False]), '761': array([False, False,  True, ...,  True,  True,  True]), '32': array([False, False, False, ..., False,  True, False]), '537': array([False,  True, False, ..., False,  True, False]), '378': array([False, False, False, ..., False, False, False]), '451': array([False, False, False, ..., False,  True, False]), '484': array([False, False, False, ..., False, False, False]), '857': array([False, False,  True, ..., False,  True, False]), '631': array([False, False,  True, ..., False, False, False]), '333': array([False, False,  True, ..., False, False, False]), '288': array([False, False, False, ..., False,  True, False]), '386': array([False, False, False, ..., False,  True,  True]), '519': array([False, False, False, ..., False,  True, False]), '13': array([False, False, False, ..., False, False, False]), '506': array([ True,  True, False, ..., False, False, False]), '187': array([False, False,  True, ...,  True,  True, False]), '411': array([False,  True, False, ..., False,  True, False]), '652': array([False, False,  True, ..., False,  True, False]), '132': array([False, False, False, ..., False,  True, False]), '108': array([False, False, False, ..., False, False,  True]), '104': array([False, False,  True, ..., False,  True, False]), '643': array([False, False, False, ..., False, False, False]), '219': array([ True,  True, False, ..., False,  True, False]), '852': array([False, False, False, ..., False, False,  True]), '622': array([False, False, False, ...,  True,  True,  True]), '775': array([False, False,  True, ...,  True,  True, False]), '457': array([ True,  True, False, ..., False, False, False]), '605': array([False, False,  True, ..., False, False, False]), '129': array([False, False,  True, ..., False,  True,  True]), '255': array([False, False,  True, ..., False, False,  True]), '410': array([ True, False, False, ..., False,  True, False]), '841': array([False, False, False, ..., False, False, False]), '701': array([False,  True,  True, ...,  True, False, False]), '873': array([False, False, False, ..., False, False, False]), '81': array([False, False, False, ...,  True,  True, False]), '539': array([ True,  True, False, ..., False, False,  True]), '380': array([False, False, False, ..., False,  True, False]), '751': array([False, False, False, ..., False,  True, False]), '75': array([False, False, False, ..., False, False, False]), '301': array([False, False, False, ..., False,  True, False]), '361': array([False, False, False, ..., False,  True, False]), '49': array([ True,  True, False, ...,  True, False, False]), '334': array([ True,  True,  True, ..., False,  True,  True]), '865': array([False, False, False, ..., False,  True, False]), '326': array([False, False, False, ..., False, False,  True]), '243': array([False, False,  True, ..., False,  True, False]), '62': array([False, False, False, ..., False,  True, False]), '0': array([False, False, False, ..., False, False, False]), '490': array([False, False, False, ..., False, False, False]), '466': array([False,  True, False, ..., False, False,  True]), '135': array([False, False,  True, ..., False, False, False]), '322': array([False, False,  True, ..., False,  True, False]), '611': array([False, False, False, ..., False, False,  True]), '341': array([False,  True,  True, ..., False,  True, False]), '95': array([False, False, False, ..., False,  True, False]), '710': array([False,  True,  True, ...,  True, False, False]), '373': array([False, False,  True, ..., False,  True, False]), '882': array([False, False,  True, ..., False, False, False]), '729': array([ True, False,  True, ...,  True,  True, False]), '546': array([False,  True,  True, ..., False, False, False]), '544': array([ True,  True, False, ..., False,  True, False]), '63': array([False, False, False, ..., False,  True, False]), '211': array([False,  True, False, ..., False, False, False]), '388': array([False, False, False, ..., False,  True, False]), '445': array([False,  True, False, ..., False,  True, False]), '538': array([False,  True, False, ..., False,  True, False]), '5': array([False,  True, False, ..., False, False, False]), '738': array([ True, False, False, ..., False,  True, False]), '776': array([False, False, False, ..., False, False, False]), '453': array([False,  True, False, ..., False,  True, False]), '471': array([False, False, False, ..., False, False, False]), '220': array([ True,  True, False, ...,  True, False, False]), '421': array([False,  True,  True, ..., False, False, False]), '165': array([ True,  True, False, ..., False,  True,  True]), '293': array([False, False, False, ..., False,  True, False]), '282': array([False, False, False, ..., False,  True,  True]), '99': array([False, False,  True, ..., False, False, False]), '181': array([False, False, False, ..., False, False, False]), '367': array([False, False,  True, ..., False,  True, False]), '43': array([False, False, False, ..., False, False, False]), '352': array([False, False,  True, ..., False, False, False]), '239': array([False, False,  True, ..., False,  True, False]), '774': array([False, False,  True, ..., False, False,  True]), '360': array([False, False,  True, ..., False, False,  True]), '235': array([False, False, False, ..., False,  True, False]), '55': array([False, False, False, ..., False,  True, False]), '498': array([False,  True,  True, ..., False,  True, False]), '834': array([False, False, False, ..., False,  True, False]), '318': array([False, False, False, ..., False,  True,  True]), '382': array([False,  True, False, ..., False, False, False]), '178': array([False, False, False, ..., False,  True, False]), '543': array([False,  True,  True, ..., False, False, False]), '814': array([False,  True,  True, ..., False,  True, False]), '521': array([False, False, False, ..., False, False, False]), '668': array([False, False, False, ..., False, False, False]), '340': array([False, False,  True, ..., False,  True,  True]), '173': array([False, False,  True, ..., False, False,  True]), '765': array([False, False, False, ..., False, False, False]), '227': array([False, False, False, ..., False,  True, False]), '783': array([False, False, False, ..., False,  True, False]), '617': array([False,  True, False, ..., False,  True,  True]), '430': array([False, False,  True, ...,  True,  True, False]), '425': array([False, False, False, ..., False, False,  True]), '576': array([False, False,  True, ..., False, False, False]), '311': array([False, False,  True, ..., False,  True, False]), '524': array([False, False, False, ..., False, False, False]), '628': array([False, False,  True, ..., False,  True, False]), '101': array([ True, False,  True, ..., False,  True, False]), '122': array([False, False, False, ..., False, False,  True]), '286': array([False, False, False, ..., False, False, False]), '560': array([False,  True, False, ..., False, False, False]), '759': array([ True,  True,  True, ..., False,  True,  True]), '810': array([False,  True, False, ..., False,  True,  True]), '306': array([False, False, False, ..., False, False, False]), '381': array([False, False, False, ...,  True, False,  True]), '377': array([False, False,  True, ..., False,  True,  True]), '156': array([False, False, False, ..., False, False, False]), '716': array([False, False,  True, ..., False, False, False]), '316': array([False,  True,  True, ..., False,  True, False]), '184': array([False, False,  True, ..., False, False, False]), '637': array([False, False, False, ..., False,  True, False]), '344': array([False,  True, False, ..., False,  True, False]), '456': array([ True,  True,  True, ...,  True, False, False]), '29': array([ True, False, False, ..., False,  True, False]), '636': array([False, False,  True, ..., False,  True, False]), '416': array([False,  True, False, ..., False,  True, False]), '54': array([False,  True,  True, ..., False,  True, False]), '183': array([False, False, False, ..., False,  True, False]), '224': array([ True,  True, False, ..., False, False, False]), '4': array([False,  True, False, ..., False,  True,  True]), '579': array([False, False,  True, ..., False, False, False]), '61': array([False,  True, False, ..., False, False, False]), '44': array([False, False, False, ..., False,  True, False]), '619': array([False, False, False, ...,  True,  True, False]), '194': array([False,  True, False, ..., False, False, False]), '633': array([False,  True, False, ..., False,  True,  True]), '408': array([False,  True, False, ..., False, False, False]), '441': array([False,  True, False, ..., False, False, False]), '482': array([False, False, False, ..., False,  True, False]), '364': array([False, False, False, ..., False, False, False]), '374': array([False, False, False, ..., False,  True, False]), '704': array([False, False, False, ..., False, False, False]), '110': array([ True,  True, False, ..., False,  True, False]), '713': array([False, False, False, ..., False,  True, False]), '594': array([False, False, False, ..., False,  True, False]), '393': array([False, False, False, ..., False, False,  True]), '357': array([False, False, False, ..., False, False, False]), '725': array([False, False, False, ..., False, False, False]), '796': array([False,  True, False, ..., False,  True, False]), '127': array([ True,  True, False, ..., False,  True, False]), '488': array([ True,  True, False, ...,  True, False,  True]), '832': array([False,  True, False, ..., False,  True, False]), '94': array([False, False,  True, ..., False, False, False]), '413': array([ True,  True, False, ..., False,  True, False]), '359': array([False, False, False, ..., False,  True, False]), '274': array([False, False, False, ..., False,  True, False]), '355': array([False, False, False, ..., False,  True, False]), '250': array([False,  True, False, ..., False, False, False]), '478': array([False, False, False, ..., False,  True,  True]), '591': array([ True,  True,  True, ..., False,  True, False]), '335': array([ True, False, False, ..., False,  True, False]), '46': array([False, False, False, ..., False, False, False]), '267': array([False, False,  True, ..., False,  True, False]), '90': array([False, False,  True, ..., False,  True, False]), '501': array([False, False, False, ..., False,  True, False]), '16': array([False, False,  True, ..., False,  True, False]), '8': array([False,  True,  True, ..., False,  True, False]), '348': array([False,  True,  True, ..., False,  True,  True]), '641': array([False, False,  True, ..., False,  True, False]), '468': array([False,  True, False, ..., False, False, False]), '744': array([False,  True, False, ..., False,  True, False]), '683': array([False,  True,  True, ..., False, False,  True]), '630': array([False,  True, False, ..., False,  True,  True]), '670': array([False,  True, False, ..., False, False,  True]), '772': array([False, False, False, ..., False, False, False]), '640': array([False, False, False, ..., False, False, False]), '593': array([False, False, False, ..., False,  True, False]), '694': array([False, False, False, ..., False, False, False]), '205': array([False, False,  True, ..., False,  True, False]), '78': array([False, False, False, ..., False,  True, False]), '207': array([False, False, False, ..., False,  True,  True]), '753': array([ True, False, False, ..., False,  True, False]), '258': array([False,  True, False, ..., False, False, False]), '10': array([False, False,  True, ..., False,  True, False]), '190': array([False, False, False, ..., False,  True, False]), '206': array([ True,  True, False, ..., False,  True, False]), '674': array([False,  True,  True, ..., False,  True, False]), '719': array([False, False,  True, ..., False,  True, False]), '855': array([False,  True, False, ...,  True,  True, False]), '175': array([False, False, False, ..., False,  True, False]), '289': array([False, False, False, ..., False,  True, False]), '658': array([False, False,  True, ..., False, False, False]), '69': array([False, False,  True, ...,  True, False, False]), '687': array([False, False,  True, ...,  True, False, False]), '755': array([False,  True, False, ..., False,  True, False]), '401': array([False,  True,  True, ..., False, False, False]), '817': array([False,  True, False, ..., False,  True, False]), '167': array([False,  True, False, ..., False, False,  True]), '806': array([False, False, False, ..., False, False, False]), '68': array([False, False,  True, ..., False,  True, False]), '708': array([False, False, False, ..., False,  True, False]), '700': array([False, False,  True, ..., False,  True, False]), '246': array([False, False,  True, ..., False, False, False]), '285': array([False, False, False, ..., False,  True, False]), '682': array([False, False, False, ..., False, False, False]), '284': array([False,  True, False, ..., False, False,  True]), '295': array([False, False,  True, ..., False,  True, False]), '269': array([False,  True, False, ..., False, False, False]), '266': array([False, False,  True, ..., False,  True, False]), '437': array([False, False, False, ..., False,  True, False]), '231': array([False, False,  True, ..., False, False, False]), '290': array([False, False,  True, ..., False, False, False]), '551': array([False,  True, False, ..., False,  True, False]), '745': array([False,  True,  True, ..., False,  True, False]), '148': array([ True, False, False, ..., False,  True,  True]), '778': array([False, False, False, ..., False, False, False]), '485': array([False, False, False, ..., False, False, False]), '305': array([False, False, False, ..., False,  True, False]), '522': array([False, False, False, ..., False,  True, False]), '292': array([False, False, False, ..., False,  True, False]), '146': array([False, False,  True, ..., False,  True, False]), '829': array([False,  True,  True, ..., False,  True,  True]), '709': array([False,  True, False, ..., False,  True,  True]), '811': array([False,  True, False, ..., False,  True, False]), '271': array([False,  True, False, ..., False,  True,  True]), '510': array([False, False,  True, ..., False,  True, False]), '450': array([False,  True,  True, ..., False,  True, False]), '712': array([False, False,  True, ..., False,  True, False]), '644': array([False, False,  True, ..., False,  True, False]), '245': array([False,  True,  True, ..., False, False,  True]), '172': array([False, False,  True, ..., False, False, False]), '600': array([ True,  True, False, ...,  True,  True, False]), '667': array([False, False, False, ..., False,  True, False]), '151': array([False, False, False, ..., False, False, False]), '455': array([False, False, False, ..., False,  True, False]), '584': array([False,  True, False, ..., False, False, False]), '123': array([False, False, False, ..., False,  True, False]), '676': array([ True,  True, False, ..., False,  True, False]), '849': array([False,  True, False, ..., False,  True,  True]), '627': array([False, False, False, ..., False,  True, False]), '369': array([False,  True,  True, ..., False, False, False]), '119': array([False, False,  True, ..., False, False, False]), '270': array([False, False, False, ..., False,  True, False]), '821': array([False, False, False, ..., False, False,  True]), '423': array([False,  True,  True, ..., False,  True, False]), '497': array([ True,  True, False, ..., False, False,  True]), '536': array([False,  True,  True, ..., False,  True,  True]), '574': array([ True,  True, False, ..., False,  True, False]), '225': array([False, False, False, ..., False, False, False]), '680': array([False, False, False, ..., False, False, False]), '684': array([False,  True, False, ..., False, False,  True]), '698': array([False, False, False, ..., False, False, False]), '741': array([False,  True, False, ..., False, False,  True]), '375': array([False, False,  True, ...,  True,  True, False]), '199': array([False, False, False, ...,  True, False, False]), '651': array([False, False,  True, ..., False, False, False]), '83': array([ True,  True, False, ...,  True, False, False]), '291': array([ True,  True, False, ..., False,  True, False]), '739': array([ True, False, False, ..., False,  True,  True]), '85': array([ True,  True,  True, ..., False,  True, False]), '703': array([False,  True, False, ..., False,  True, False]), '439': array([False, False, False, ..., False, False, False]), '458': array([False, False,  True, ..., False,  True, False]), '188': array([False, False, False, ..., False, False, False]), '384': array([False, False, False, ..., False,  True, False]), '487': array([False,  True,  True, ..., False,  True, False]), '314': array([False,  True, False, ..., False, False, False]), '342': array([False, False,  True, ..., False,  True, False]), '881': array([False, False, False, ..., False, False, False]), '507': array([False,  True, False, ..., False,  True, False]), '559': array([False, False, False, ..., False, False,  True]), '204': array([False, False, False, ..., False,  True, False]), '520': array([ True, False, False, ..., False, False, False]), '794': array([False, False,  True, ..., False,  True, False]), '400': array([False,  True, False, ..., False, False,  True]), '885': array([False,  True, False, ..., False, False,  True]), '343': array([ True,  True, False, ..., False, False,  True]), '861': array([ True,  True,  True, ..., False, False, False]), '261': array([ True, False,  True, ..., False,  True, False]), '121': array([False, False, False, ..., False, False, False]), '566': array([False, False, False, ..., False,  True, False]), '215': array([False, False, False, ..., False, False,  True]), '565': array([ True,  True,  True, ..., False,  True, False]), '807': array([False, False,  True, ..., False,  True,  True]), '113': array([False, False, False, ..., False, False, False]), '548': array([ True,  True, False, ..., False, False,  True]), '795': array([False, False, False, ..., False, False, False]), '371': array([ True,  True, False, ...,  True,  True,  True]), '434': array([False,  True,  True, ..., False,  True,  True]), '728': array([ True,  True, False, ..., False, False, False]), '477': array([False, False, False, ..., False, False,  True]), '48': array([False,  True, False, ..., False,  True, False]), '153': array([False, False, False, ..., False,  True, False]), '886': array([False, False,  True, ..., False, False, False]), '307': array([False,  True,  True, ..., False,  True, False]), '638': array([False,  True,  True, ..., False,  True, False]), '435': array([False,  True, False, ..., False, False, False]), '460': array([False, False, False, ..., False,  True, False]), '337': array([False, False,  True, ..., False, False, False]), '523': array([False,  True,  True, ..., False,  True, False]), '877': array([ True, False, False, ..., False,  True,  True]), '705': array([False,  True, False, ...,  True,  True, False]), '764': array([False, False,  True, ..., False, False,  True]), '392': array([False, False, False, ..., False,  True, False]), '681': array([False,  True, False, ..., False,  True, False]), '155': array([False,  True, False, ..., False, False,  True]), '356': array([False, False,  True, ..., False, False, False]), '823': array([False, False, False, ..., False, False, False]), '310': array([False, False, False, ..., False,  True, False]), '397': array([False, False,  True, ..., False, False, False]), '88': array([False,  True, False, ..., False, False, False]), '616': array([False,  True,  True, ..., False,  True, False]), '465': array([False, False,  True, ...,  True,  True, False]), '875': array([False,  True, False, ..., False, False,  True]), '721': array([False, False,  True, ..., False, False, False]), '717': array([False, False,  True, ..., False, False,  True]), '66': array([False,  True, False, ..., False, False,  True]), '890': array([False, False, False, ..., False,  True, False]), '87': array([ True,  True,  True, ...,  True, False, False]), '164': array([False,  True,  True, ..., False,  True, False]), '736': array([False,  True,  True, ..., False, False, False]), '189': array([False, False, False, ..., False,  True, False]), '784': array([False,  True, False, ..., False,  True,  True]), '780': array([False, False, False, ..., False, False, False]), '389': array([False,  True, False, ..., False, False, False]), '620': array([False,  True,  True, ..., False, False, False]), '73': array([False, False, False, ..., False,  True, False]), '838': array([False, False, False, ..., False, False, False]), '564': array([False, False, False, ..., False, False, False]), '138': array([False, False,  True, ..., False, False, False]), '695': array([False, False, False, ..., False,  True, False]), '42': array([False, False, False, ..., False, False, False]), '294': array([False, False, False, ..., False, False, False]), '587': array([ True,  True, False, ..., False,  True, False]), '853': array([False, False, False, ..., False,  True, False]), '433': array([False, False,  True, ..., False,  True,  True]), '264': array([False, False, False, ..., False,  True, False]), '512': array([False,  True, False, ..., False,  True, False]), '583': array([False, False, False, ..., False,  True, False]), '531': array([False, False, False, ...,  True, False,  True]), '604': array([False, False,  True, ...,  True,  True, False]), '2': array([False, False, False, ..., False, False, False]), '420': array([False, False, False, ..., False,  True, False]), '210': array([False, False, False, ..., False,  True, False]), '432': array([False, False, False, ..., False,  True, False]), '448': array([False, False, False, ..., False, False, False]), '45': array([False,  True, False, ..., False, False,  True]), '106': array([False, False, False, ..., False,  True, False]), '836': array([False, False, False, ...,  True, False, False]), '216': array([False, False,  True, ..., False, False, False]), '845': array([False, False,  True, ..., False,  True, False]), '6': array([False,  True, False, ..., False,  True, False]), '47': array([False,  True, False, ..., False, False, False]), '750': array([False, False, False, ..., False, False, False]), '249': array([False,  True,  True, ..., False,  True, False]), '399': array([False,  True,  True, ..., False, False,  True]), '553': array([False, False,  True, ..., False, False, False]), '102': array([ True,  True, False, ..., False,  True, False]), '329': array([False,  True, False, ..., False, False, False]), '697': array([False, False, False, ..., False, False, False]), '368': array([False, False, False, ...,  True, False, False]), '669': array([False, False,  True, ..., False,  True, False]), '279': array([False, False,  True, ..., False,  True, False]), '757': array([False, False, False, ..., False,  True, False]), '15': array([False, False, False, ..., False,  True, False]), '555': array([False, False, False, ..., False, False, False]), '689': array([False, False, False, ..., False,  True, False]), '660': array([ True,  True,  True, ..., False,  True,  True]), '444': array([False,  True,  True, ..., False, False, False]), '404': array([False, False, False, ..., False, False, False]), '762': array([False, False, False, ..., False, False, False]), '848': array([False, False, False, ..., False, False, False]), '871': array([ True, False, False, ..., False,  True,  True]), '858': array([False, False, False, ..., False, False, False]), '354': array([False,  True, False, ..., False, False, False]), '365': array([False,  True,  True, ..., False, False,  True]), '569': array([False, False, False, ..., False, False, False]), '223': array([ True, False, False, ..., False,  True,  True]), '639': array([ True, False, False, ..., False,  True, False]), '686': array([False, False, False, ...,  True, False, False]), '518': array([False,  True, False, ...,  True,  True,  True]), '162': array([False, False, False, ..., False, False, False]), '656': array([False, False, False, ..., False,  True, False]), '596': array([False, False, False, ..., False, False,  True]), '850': array([False, False,  True, ..., False,  True, False]), '86': array([False,  True, False, ..., False,  True,  True]), '426': array([False, False,  True, ..., False, False,  True]), '238': array([ True,  True, False, ..., False,  True,  True]), '379': array([False, False, False, ..., False,  True, False]), '662': array([False,  True,  True, ..., False,  True, False]), '1': array([False, False, False, ...,  True,  True, False]), '136': array([False, False, False, ..., False,  True,  True]), '283': array([False,  True,  True, ..., False, False, False]), '575': array([False, False, False, ..., False, False, False]), '415': array([False, False, False, ..., False, False,  True]), '97': array([False,  True, False, ..., False, False,  True]), '532': array([False, False,  True, ..., False, False, False]), '447': array([ True,  True, False, ..., False, False, False]), '321': array([ True, False,  True, ..., False,  True, False]), '707': array([False,  True,  True, ..., False,  True, False]), '298': array([False, False, False, ..., False,  True, False]), '143': array([False, False, False, ..., False, False, False]), '525': array([False,  True, False, ..., False, False, False]), '634': array([False, False, False, ..., False, False, False]), '320': array([False,  True, False, ..., False,  True, False]), '422': array([False, False,  True, ..., False, False, False]), '493': array([False,  True, False, ..., False, False, False]), '812': array([False,  True, False, ..., False, False, False]), '268': array([False,  True, False, ..., False, False,  True]), '608': array([False, False, False, ..., False,  True, False]), '124': array([False,  True, False, ..., False,  True, False]), '749': array([False, False, False, ..., False, False, False]), '655': array([False, False, False, ..., False, False, False]), '58': array([False, False, False, ...,  True,  True, False]), '133': array([ True,  True,  True, ...,  True, False, False]), '257': array([False, False, False, ..., False,  True, False]), '237': array([False, False, False, ..., False, False, False]), '7': array([False, False, False, ..., False,  True, False]), '462': array([False,  True, False, ..., False, False, False]), '366': array([ True,  True, False, ..., False,  True, False]), '50': array([False,  True, False, ..., False,  True,  True]), '567': array([False, False,  True, ..., False,  True,  True]), '602': array([False, False, False, ..., False, False, False]), '24': array([False, False,  True, ..., False,  True, False]), '879': array([False, False, False, ..., False,  True,  True]), '526': array([False, False,  True, ..., False,  True, False]), '273': array([False,  True, False, ..., False, False,  True]), '868': array([False, False, False, ..., False, False,  True]), '120': array([False, False, False, ..., False,  True, False]), '752': array([False, False, False, ..., False, False, False]), '800': array([False,  True, False, ..., False, False, False]), '319': array([ True,  True, False, ...,  True,  True, False]), '880': array([False,  True, False, ..., False,  True,  True]), '769': array([False, False,  True, ..., False,  True, False]), '19': array([False, False,  True, ..., False, False, False]), '349': array([False, False, False, ..., False, False, False]), '93': array([ True,  True, False, ..., False, False, False]), '481': array([ True,  True,  True, ..., False,  True, False]), '134': array([False,  True, False, ..., False,  True, False]), '424': array([False,  True, False, ..., False, False, False]), '330': array([False, False, False, ..., False,  True, False]), '203': array([False, False, False, ..., False, False, False]), '826': array([False,  True, False, ..., False, False, False]), '615': array([False, False, False, ..., False,  True, False]), '649': array([False,  True,  True, ...,  True,  True, False]), '867': array([False,  True, False, ..., False,  True, False]), '815': array([ True,  True, False, ..., False,  True, False]), '14': array([False,  True,  True, ..., False,  True, False]), '131': array([False, False, False, ..., False, False, False]), '504': array([False,  True, False, ..., False, False, False]), '328': array([ True,  True, False, ..., False,  True,  True]), '191': array([False,  True, False, ..., False, False,  True]), '236': array([False, False, False, ..., False,  True, False]), '489': array([False, False,  True, ..., False,  True, False]), '675': array([False, False,  True, ..., False,  True, False]), '486': array([ True,  True, False, ..., False, False, False]), '624': array([False, False,  True, ..., False, False, False]), '663': array([False, False, False, ..., False, False, False]), '385': array([False, False,  True, ..., False,  True, False]), '406': array([False, False, False, ..., False, False,  True]), '331': array([False,  True, False, ..., False,  True, False]), '887': array([False,  True,  True, ..., False, False, False]), '67': array([False,  True,  True, ..., False,  True, False]), '797': array([False, False, False, ..., False, False,  True]), '221': array([False,  True, False, ..., False, False, False]), '391': array([ True, False, False, ..., False,  True, False]), '808': array([False, False, False, ..., False,  True, False]), '376': array([False, False, False, ..., False, False, False]), '363': array([False, False, False, ..., False, False, False]), '74': array([False, False, False, ..., False, False, False]), '672': array([False, False, False, ..., False,  True, False]), '685': array([False, False, False, ..., False, False, False]), '176': array([False, False, False, ..., False,  True, False]), '582': array([False,  True,  True, ..., False, False,  True]), '212': array([False, False, False, ..., False,  True, False]), '790': array([False, False, False, ..., False, False, False]), '503': array([ True, False, False, ..., False,  True, False]), '528': array([False, False, False, ..., False,  True, False]), '665': array([False, False, False, ..., False, False,  True]), '116': array([False, False, False, ..., False, False, False]), '837': array([False, False, False, ..., False, False, False]), '275': array([False, False, False, ..., False, False, False]), '588': array([False, False,  True, ..., False, False, False]), '621': array([False, False,  True, ..., False,  True,  True]), '696': array([False,  True, False, ..., False,  True, False]), '57': array([False, False, False, ..., False,  True,  True]), '182': array([False, False, False, ...,  True,  True, False]), '781': array([False,  True, False, ..., False,  True, False]), '773': array([False, False,  True, ..., False, False, False]), '166': array([False,  True, False, ..., False,  True, False]), '18': array([False,  True, False, ..., False, False, False]), '276': array([False, False, False, ..., False,  True, False]), '438': array([False,  True, False, ..., False, False, False]), '629': array([False, False, False, ..., False, False, False]), '866': array([False, False, False, ...,  True,  True, False]), '557': array([False, False, False, ..., False, False, False]), '111': array([False, False,  True, ..., False, False, False]), '550': array([False, False, False, ..., False, False, False]), '572': array([False, False, False, ..., False, False,  True]), '657': array([False, False, False, ..., False, False, False]), '80': array([False,  True, False, ..., False, False, False]), '362': array([False, False,  True, ..., False, False, False]), '822': array([False, False, False, ..., False, False, False]), '469': array([False, False, False, ..., False, False, False]), '414': array([False, False, False, ..., False, False, False]), '52': array([False, False, False, ...,  True,  True, False]), '36': array([False,  True, False, ..., False, False, False]), '758': array([False, False, False, ..., False,  True, False]), '798': array([False,  True, False, ..., False, False, False]), '230': array([False,  True, False, ..., False,  True, False]), '251': array([False, False,  True, ..., False,  True,  True]), '645': array([False, False, False, ..., False,  True, False])}\n",
      "Computing Thresholds and subsetting data for Alice\n",
      "Done processing Alice's data.\n",
      "Found stored data for Eve's encoded records\n",
      "Computing Thresholds and subsetting data for Eve\n",
      "Done processing Eve's data.\n",
      "Found stored data for Alice's embeddings\n",
      "Found stored data for Eve's embeddings\n",
      "Aligning vectors. This may take a while.\n",
      "\n",
      "Computing initial mapping with convex relaxation...\n"
     ]
    },
    {
     "name": "stderr",
     "output_type": "stream",
     "text": [
      "100%|██████████| 5/5 [00:00<00:00, 185.15it/s]\n"
     ]
    },
    {
     "name": "stdout",
     "output_type": "stream",
     "text": [
      "Objective after convex initialization: 102.087608\n",
      "Done [000 sec]\n",
      "\n",
      "Computing mapping with Wasserstein Procrustes...\n"
     ]
    },
    {
     "name": "stderr",
     "output_type": "stream",
     "text": [
      "Iteration: 100%|██████████| 100/100 [00:00<00:00, 110.36it/s]\n"
     ]
    },
    {
     "name": "stdout",
     "output_type": "stream",
     "text": [
      "epoch: 1  obj: 90.895  best: 90.895\n"
     ]
    },
    {
     "name": "stderr",
     "output_type": "stream",
     "text": [
      "Iteration: 100%|██████████| 100/100 [00:00<00:00, 113.00it/s]\n"
     ]
    },
    {
     "name": "stdout",
     "output_type": "stream",
     "text": [
      "epoch: 2  obj: 90.656  best: 90.656\n"
     ]
    },
    {
     "name": "stderr",
     "output_type": "stream",
     "text": [
      "Iteration: 100%|██████████| 100/100 [00:00<00:00, 110.79it/s]\n"
     ]
    },
    {
     "name": "stdout",
     "output_type": "stream",
     "text": [
      "epoch: 3  obj: 90.644  best: 90.644\n"
     ]
    },
    {
     "name": "stderr",
     "output_type": "stream",
     "text": [
      "Iteration: 100%|██████████| 100/100 [00:00<00:00, 106.94it/s]\n"
     ]
    },
    {
     "name": "stdout",
     "output_type": "stream",
     "text": [
      "epoch: 4  obj: 90.614  best: 90.614\n"
     ]
    },
    {
     "name": "stderr",
     "output_type": "stream",
     "text": [
      "Iteration: 100%|██████████| 100/100 [00:00<00:00, 110.29it/s]\n"
     ]
    },
    {
     "name": "stdout",
     "output_type": "stream",
     "text": [
      "epoch: 5  obj: 90.637  best: 90.614\n"
     ]
    },
    {
     "name": "stderr",
     "output_type": "stream",
     "text": [
      "Iteration: 100%|██████████| 100/100 [00:00<00:00, 110.86it/s]\n"
     ]
    },
    {
     "name": "stdout",
     "output_type": "stream",
     "text": [
      "epoch: 6  obj: 90.574  best: 90.574\n"
     ]
    },
    {
     "name": "stderr",
     "output_type": "stream",
     "text": [
      "Iteration: 100%|██████████| 100/100 [00:00<00:00, 110.35it/s]\n"
     ]
    },
    {
     "name": "stdout",
     "output_type": "stream",
     "text": [
      "epoch: 7  obj: 90.472  best: 90.472\n"
     ]
    },
    {
     "name": "stderr",
     "output_type": "stream",
     "text": [
      "Iteration: 100%|██████████| 100/100 [00:00<00:00, 116.37it/s]\n"
     ]
    },
    {
     "name": "stdout",
     "output_type": "stream",
     "text": [
      "epoch: 8  obj: 90.400  best: 90.400\n"
     ]
    },
    {
     "name": "stderr",
     "output_type": "stream",
     "text": [
      "Iteration: 100%|██████████| 100/100 [00:00<00:00, 110.65it/s]\n"
     ]
    },
    {
     "name": "stdout",
     "output_type": "stream",
     "text": [
      "epoch: 9  obj: 90.410  best: 90.400\n"
     ]
    },
    {
     "name": "stderr",
     "output_type": "stream",
     "text": [
      "Iteration: 100%|██████████| 100/100 [00:00<00:00, 116.11it/s]\n"
     ]
    },
    {
     "name": "stdout",
     "output_type": "stream",
     "text": [
      "epoch: 10  obj: 90.397  best: 90.397\n"
     ]
    },
    {
     "name": "stderr",
     "output_type": "stream",
     "text": [
      "Iteration: 100%|██████████| 100/100 [00:00<00:00, 114.47it/s]\n"
     ]
    },
    {
     "name": "stdout",
     "output_type": "stream",
     "text": [
      "epoch: 11  obj: 90.419  best: 90.397\n"
     ]
    },
    {
     "name": "stderr",
     "output_type": "stream",
     "text": [
      "Iteration: 100%|██████████| 100/100 [00:00<00:00, 114.54it/s]\n"
     ]
    },
    {
     "name": "stdout",
     "output_type": "stream",
     "text": [
      "epoch: 12  obj: 90.401  best: 90.397\n"
     ]
    },
    {
     "name": "stderr",
     "output_type": "stream",
     "text": [
      "Iteration: 100%|██████████| 100/100 [00:00<00:00, 114.01it/s]\n"
     ]
    },
    {
     "name": "stdout",
     "output_type": "stream",
     "text": [
      "epoch: 13  obj: 90.411  best: 90.397\n"
     ]
    },
    {
     "name": "stderr",
     "output_type": "stream",
     "text": [
      "Iteration: 100%|██████████| 100/100 [00:00<00:00, 109.78it/s]\n"
     ]
    },
    {
     "name": "stdout",
     "output_type": "stream",
     "text": [
      "epoch: 14  obj: 90.413  best: 90.397\n"
     ]
    },
    {
     "name": "stderr",
     "output_type": "stream",
     "text": [
      "Iteration: 100%|██████████| 100/100 [00:00<00:00, 113.02it/s]\n"
     ]
    },
    {
     "name": "stdout",
     "output_type": "stream",
     "text": [
      "epoch: 15  obj: 90.409  best: 90.397\n"
     ]
    },
    {
     "name": "stderr",
     "output_type": "stream",
     "text": [
      "Iteration: 100%|██████████| 100/100 [00:00<00:00, 114.95it/s]\n"
     ]
    },
    {
     "name": "stdout",
     "output_type": "stream",
     "text": [
      "epoch: 16  obj: 90.403  best: 90.397\n"
     ]
    },
    {
     "name": "stderr",
     "output_type": "stream",
     "text": [
      "Iteration: 100%|██████████| 100/100 [00:00<00:00, 113.79it/s]\n"
     ]
    },
    {
     "name": "stdout",
     "output_type": "stream",
     "text": [
      "epoch: 17  obj: 90.413  best: 90.397\n"
     ]
    },
    {
     "name": "stderr",
     "output_type": "stream",
     "text": [
      "Iteration: 100%|██████████| 100/100 [00:00<00:00, 112.94it/s]\n"
     ]
    },
    {
     "name": "stdout",
     "output_type": "stream",
     "text": [
      "epoch: 18  obj: 90.405  best: 90.397\n",
      "Objective didn't improve for 10 epochs. Early Stopping...\n",
      "Improvement: 6.319992\n",
      "\n",
      "Computing initial mapping with convex relaxation...\n"
     ]
    },
    {
     "name": "stderr",
     "output_type": "stream",
     "text": [
      "100%|██████████| 5/5 [00:00<00:00, 103.36it/s]\n"
     ]
    },
    {
     "name": "stdout",
     "output_type": "stream",
     "text": [
      "Objective after convex initialization: 101.913742\n",
      "Done [000 sec]\n",
      "\n",
      "Computing mapping with Wasserstein Procrustes...\n"
     ]
    },
    {
     "name": "stderr",
     "output_type": "stream",
     "text": [
      "Iteration: 100%|██████████| 100/100 [00:01<00:00, 99.11it/s]\n"
     ]
    },
    {
     "name": "stdout",
     "output_type": "stream",
     "text": [
      "epoch: 1  obj: 89.117  best: 89.117\n"
     ]
    },
    {
     "name": "stderr",
     "output_type": "stream",
     "text": [
      "Iteration: 100%|██████████| 100/100 [00:00<00:00, 104.40it/s]\n"
     ]
    },
    {
     "name": "stdout",
     "output_type": "stream",
     "text": [
      "epoch: 2  obj: 84.748  best: 84.748\n"
     ]
    },
    {
     "name": "stderr",
     "output_type": "stream",
     "text": [
      "Iteration: 100%|██████████| 100/100 [00:00<00:00, 102.32it/s]\n"
     ]
    },
    {
     "name": "stdout",
     "output_type": "stream",
     "text": [
      "epoch: 3  obj: 84.593  best: 84.593\n"
     ]
    },
    {
     "name": "stderr",
     "output_type": "stream",
     "text": [
      "Iteration: 100%|██████████| 100/100 [00:00<00:00, 104.38it/s]\n"
     ]
    },
    {
     "name": "stdout",
     "output_type": "stream",
     "text": [
      "epoch: 4  obj: 84.480  best: 84.480\n"
     ]
    },
    {
     "name": "stderr",
     "output_type": "stream",
     "text": [
      "Iteration: 100%|██████████| 100/100 [00:00<00:00, 105.81it/s]\n"
     ]
    },
    {
     "name": "stdout",
     "output_type": "stream",
     "text": [
      "epoch: 5  obj: 84.477  best: 84.477\n"
     ]
    },
    {
     "name": "stderr",
     "output_type": "stream",
     "text": [
      "Iteration: 100%|██████████| 100/100 [00:00<00:00, 108.67it/s]\n"
     ]
    },
    {
     "name": "stdout",
     "output_type": "stream",
     "text": [
      "epoch: 6  obj: 84.471  best: 84.471\n"
     ]
    },
    {
     "name": "stderr",
     "output_type": "stream",
     "text": [
      "Iteration: 100%|██████████| 100/100 [00:00<00:00, 107.38it/s]\n"
     ]
    },
    {
     "name": "stdout",
     "output_type": "stream",
     "text": [
      "epoch: 7  obj: 84.451  best: 84.451\n"
     ]
    },
    {
     "name": "stderr",
     "output_type": "stream",
     "text": [
      "Iteration: 100%|██████████| 100/100 [00:00<00:00, 100.32it/s]\n"
     ]
    },
    {
     "name": "stdout",
     "output_type": "stream",
     "text": [
      "epoch: 8  obj: 84.439  best: 84.439\n"
     ]
    },
    {
     "name": "stderr",
     "output_type": "stream",
     "text": [
      "Iteration: 100%|██████████| 100/100 [00:00<00:00, 102.70it/s]\n"
     ]
    },
    {
     "name": "stdout",
     "output_type": "stream",
     "text": [
      "epoch: 9  obj: 84.442  best: 84.439\n"
     ]
    },
    {
     "name": "stderr",
     "output_type": "stream",
     "text": [
      "Iteration:   7%|▋         | 7/100 [00:00<00:01, 63.61it/s]\n"
     ]
    },
    {
     "ename": "KeyboardInterrupt",
     "evalue": "",
     "output_type": "error",
     "traceback": [
      "\u001b[0;31m---------------------------------------------------------------------------\u001b[0m",
      "\u001b[0;31mKeyboardInterrupt\u001b[0m                         Traceback (most recent call last)",
      "Cell \u001b[0;32mIn[3], line 1\u001b[0m\n\u001b[0;32m----> 1\u001b[0m \u001b[43mrun_gma\u001b[49m\u001b[43m(\u001b[49m\u001b[43mGLOBAL_CONFIG\u001b[49m\u001b[43m,\u001b[49m\u001b[43m \u001b[49m\u001b[43mENC_CONFIG\u001b[49m\u001b[43m,\u001b[49m\u001b[43m \u001b[49m\u001b[43mEMB_CONFIG\u001b[49m\u001b[43m,\u001b[49m\u001b[43m \u001b[49m\u001b[43mALIGN_CONFIG\u001b[49m\u001b[43m)\u001b[49m\n",
      "File \u001b[0;32m~/Desktop/master/4-semester-thesis/dataset-extension-attack/graphMatching/gma.py:621\u001b[0m, in \u001b[0;36mrun_gma\u001b[0;34m(GLOBAL_CONFIG, ENC_CONFIG, EMB_CONFIG, ALIGN_CONFIG)\u001b[0m\n\u001b[1;32m    618\u001b[0m     aligner \u001b[38;5;241m=\u001b[39m ProcrustesAligner()\n\u001b[1;32m    620\u001b[0m \u001b[38;5;66;03m# Compute transformation matrix\u001b[39;00m\n\u001b[0;32m--> 621\u001b[0m transformation_matrix \u001b[38;5;241m=\u001b[39m \u001b[43maligner\u001b[49m\u001b[38;5;241;43m.\u001b[39;49m\u001b[43malign\u001b[49m\u001b[43m(\u001b[49m\u001b[43malice_sub\u001b[49m\u001b[43m,\u001b[49m\u001b[43m \u001b[49m\u001b[43meve_sub\u001b[49m\u001b[43m)\u001b[49m\n\u001b[1;32m    622\u001b[0m \u001b[38;5;66;03m# Projects Eve's embeddings into Alice's space by multiplying Eve's embeddings with the transformation matrix.\u001b[39;00m\n\u001b[1;32m    623\u001b[0m eve_embeddings \u001b[38;5;241m=\u001b[39m np\u001b[38;5;241m.\u001b[39mdot(eve_embeddings, transformation_matrix\u001b[38;5;241m.\u001b[39mT)\n",
      "File \u001b[0;32m~/Desktop/master/4-semester-thesis/dataset-extension-attack/graphMatching/aligners/wasserstein_procrustes.py:209\u001b[0m, in \u001b[0;36mWassersteinAligner.align\u001b[0;34m(self, src, tgt)\u001b[0m\n\u001b[1;32m    206\u001b[0m     \u001b[38;5;28mprint\u001b[39m(\u001b[38;5;124m\"\u001b[39m\u001b[38;5;124mDone [\u001b[39m\u001b[38;5;132;01m%03d\u001b[39;00m\u001b[38;5;124m sec]\u001b[39m\u001b[38;5;124m\"\u001b[39m \u001b[38;5;241m%\u001b[39m math\u001b[38;5;241m.\u001b[39mfloor(time\u001b[38;5;241m.\u001b[39mtime() \u001b[38;5;241m-\u001b[39m t0))\n\u001b[1;32m    207\u001b[0m     \u001b[38;5;28mprint\u001b[39m(\u001b[38;5;124m\"\u001b[39m\u001b[38;5;130;01m\\n\u001b[39;00m\u001b[38;5;124mComputing mapping with Wasserstein Procrustes...\u001b[39m\u001b[38;5;124m\"\u001b[39m)\n\u001b[0;32m--> 209\u001b[0m tmp_r, tmp_obj, success \u001b[38;5;241m=\u001b[39m \u001b[38;5;28;43mself\u001b[39;49m\u001b[38;5;241;43m.\u001b[39;49m\u001b[43msolve_procrustes\u001b[49m\u001b[43m(\u001b[49m\u001b[43mR0\u001b[49m\u001b[43m)\u001b[49m\n\u001b[1;32m    210\u001b[0m \u001b[38;5;28;01mif\u001b[39;00m tmp_obj \u001b[38;5;241m<\u001b[39m best_obj:\n\u001b[1;32m    211\u001b[0m     R \u001b[38;5;241m=\u001b[39m tmp_r\n",
      "File \u001b[0;32m~/Desktop/master/4-semester-thesis/dataset-extension-attack/graphMatching/aligners/wasserstein_procrustes.py:89\u001b[0m, in \u001b[0;36mWassersteinAligner.solve_procrustes\u001b[0;34m(self, R)\u001b[0m\n\u001b[1;32m     84\u001b[0m     P \u001b[38;5;241m=\u001b[39m ot\u001b[38;5;241m.\u001b[39msinkhorn(torch\u001b[38;5;241m.\u001b[39mones(\u001b[38;5;28mself\u001b[39m\u001b[38;5;241m.\u001b[39mbatchsize, device\u001b[38;5;241m=\u001b[39m\u001b[38;5;124m'\u001b[39m\u001b[38;5;124mcuda\u001b[39m\u001b[38;5;124m'\u001b[39m),\n\u001b[1;32m     85\u001b[0m                     torch\u001b[38;5;241m.\u001b[39mones(\u001b[38;5;28mself\u001b[39m\u001b[38;5;241m.\u001b[39mbatchsize, device\u001b[38;5;241m=\u001b[39m\u001b[38;5;124m'\u001b[39m\u001b[38;5;124mcuda\u001b[39m\u001b[38;5;124m'\u001b[39m), C, \u001b[38;5;28mself\u001b[39m\u001b[38;5;241m.\u001b[39mreg_ws, stopThr\u001b[38;5;241m=\u001b[39mt,\n\u001b[1;32m     86\u001b[0m                     numItermax\u001b[38;5;241m=\u001b[39m\u001b[38;5;241m100000\u001b[39m, method\u001b[38;5;241m=\u001b[39m\u001b[38;5;124m\"\u001b[39m\u001b[38;5;124msinkhorn_log\u001b[39m\u001b[38;5;124m\"\u001b[39m)\n\u001b[1;32m     88\u001b[0m \u001b[38;5;28;01melse\u001b[39;00m:\n\u001b[0;32m---> 89\u001b[0m     P \u001b[38;5;241m=\u001b[39m \u001b[43mot\u001b[49m\u001b[38;5;241;43m.\u001b[39;49m\u001b[43msinkhorn\u001b[49m\u001b[43m(\u001b[49m\u001b[43mtorch\u001b[49m\u001b[38;5;241;43m.\u001b[39;49m\u001b[43mones\u001b[49m\u001b[43m(\u001b[49m\u001b[38;5;28;43mself\u001b[39;49m\u001b[38;5;241;43m.\u001b[39;49m\u001b[43mbatchsize\u001b[49m\u001b[43m)\u001b[49m\u001b[43m,\u001b[49m\u001b[43m \u001b[49m\u001b[43mtorch\u001b[49m\u001b[38;5;241;43m.\u001b[39;49m\u001b[43mones\u001b[49m\u001b[43m(\u001b[49m\u001b[38;5;28;43mself\u001b[39;49m\u001b[38;5;241;43m.\u001b[39;49m\u001b[43mbatchsize\u001b[49m\u001b[43m)\u001b[49m\u001b[43m,\u001b[49m\u001b[43m \u001b[49m\u001b[43mC\u001b[49m\u001b[43m,\u001b[49m\u001b[43m \u001b[49m\u001b[38;5;28;43mself\u001b[39;49m\u001b[38;5;241;43m.\u001b[39;49m\u001b[43mreg_ws\u001b[49m\u001b[43m,\u001b[49m\n\u001b[1;32m     90\u001b[0m \u001b[43m                    \u001b[49m\u001b[43mstopThr\u001b[49m\u001b[38;5;241;43m=\u001b[39;49m\u001b[43mt\u001b[49m\u001b[43m,\u001b[49m\n\u001b[1;32m     91\u001b[0m \u001b[43m                    \u001b[49m\u001b[43mnumItermax\u001b[49m\u001b[38;5;241;43m=\u001b[39;49m\u001b[38;5;241;43m100000\u001b[39;49m\u001b[43m)\u001b[49m\n\u001b[1;32m     93\u001b[0m \u001b[38;5;66;03m# compute gradient\u001b[39;00m\n\u001b[1;32m     94\u001b[0m G \u001b[38;5;241m=\u001b[39m \u001b[38;5;241m-\u001b[39m torch\u001b[38;5;241m.\u001b[39mmatmul(xt\u001b[38;5;241m.\u001b[39mT, torch\u001b[38;5;241m.\u001b[39mmatmul(P, yt))\n",
      "File \u001b[0;32m~/Desktop/master/4-semester-thesis/dataset-extension-attack/.conda/lib/python3.10/site-packages/ot/bregman/_sinkhorn.py:166\u001b[0m, in \u001b[0;36msinkhorn\u001b[0;34m(a, b, M, reg, method, numItermax, stopThr, verbose, log, warn, warmstart, **kwargs)\u001b[0m\n\u001b[1;32m     36\u001b[0m \u001b[38;5;250m\u001b[39m\u001b[38;5;124mr\u001b[39m\u001b[38;5;124;03m\"\"\"\u001b[39;00m\n\u001b[1;32m     37\u001b[0m \u001b[38;5;124;03mSolve the entropic regularization optimal transport problem and return the OT matrix\u001b[39;00m\n\u001b[1;32m     38\u001b[0m \n\u001b[0;32m   (...)\u001b[0m\n\u001b[1;32m    162\u001b[0m \n\u001b[1;32m    163\u001b[0m \u001b[38;5;124;03m\"\"\"\u001b[39;00m\n\u001b[1;32m    165\u001b[0m \u001b[38;5;28;01mif\u001b[39;00m method\u001b[38;5;241m.\u001b[39mlower() \u001b[38;5;241m==\u001b[39m \u001b[38;5;124m\"\u001b[39m\u001b[38;5;124msinkhorn\u001b[39m\u001b[38;5;124m\"\u001b[39m:\n\u001b[0;32m--> 166\u001b[0m     \u001b[38;5;28;01mreturn\u001b[39;00m \u001b[43msinkhorn_knopp\u001b[49m\u001b[43m(\u001b[49m\n\u001b[1;32m    167\u001b[0m \u001b[43m        \u001b[49m\u001b[43ma\u001b[49m\u001b[43m,\u001b[49m\n\u001b[1;32m    168\u001b[0m \u001b[43m        \u001b[49m\u001b[43mb\u001b[49m\u001b[43m,\u001b[49m\n\u001b[1;32m    169\u001b[0m \u001b[43m        \u001b[49m\u001b[43mM\u001b[49m\u001b[43m,\u001b[49m\n\u001b[1;32m    170\u001b[0m \u001b[43m        \u001b[49m\u001b[43mreg\u001b[49m\u001b[43m,\u001b[49m\n\u001b[1;32m    171\u001b[0m \u001b[43m        \u001b[49m\u001b[43mnumItermax\u001b[49m\u001b[38;5;241;43m=\u001b[39;49m\u001b[43mnumItermax\u001b[49m\u001b[43m,\u001b[49m\n\u001b[1;32m    172\u001b[0m \u001b[43m        \u001b[49m\u001b[43mstopThr\u001b[49m\u001b[38;5;241;43m=\u001b[39;49m\u001b[43mstopThr\u001b[49m\u001b[43m,\u001b[49m\n\u001b[1;32m    173\u001b[0m \u001b[43m        \u001b[49m\u001b[43mverbose\u001b[49m\u001b[38;5;241;43m=\u001b[39;49m\u001b[43mverbose\u001b[49m\u001b[43m,\u001b[49m\n\u001b[1;32m    174\u001b[0m \u001b[43m        \u001b[49m\u001b[43mlog\u001b[49m\u001b[38;5;241;43m=\u001b[39;49m\u001b[43mlog\u001b[49m\u001b[43m,\u001b[49m\n\u001b[1;32m    175\u001b[0m \u001b[43m        \u001b[49m\u001b[43mwarn\u001b[49m\u001b[38;5;241;43m=\u001b[39;49m\u001b[43mwarn\u001b[49m\u001b[43m,\u001b[49m\n\u001b[1;32m    176\u001b[0m \u001b[43m        \u001b[49m\u001b[43mwarmstart\u001b[49m\u001b[38;5;241;43m=\u001b[39;49m\u001b[43mwarmstart\u001b[49m\u001b[43m,\u001b[49m\n\u001b[1;32m    177\u001b[0m \u001b[43m        \u001b[49m\u001b[38;5;241;43m*\u001b[39;49m\u001b[38;5;241;43m*\u001b[39;49m\u001b[43mkwargs\u001b[49m\u001b[43m,\u001b[49m\n\u001b[1;32m    178\u001b[0m \u001b[43m    \u001b[49m\u001b[43m)\u001b[49m\n\u001b[1;32m    179\u001b[0m \u001b[38;5;28;01melif\u001b[39;00m method\u001b[38;5;241m.\u001b[39mlower() \u001b[38;5;241m==\u001b[39m \u001b[38;5;124m\"\u001b[39m\u001b[38;5;124msinkhorn_log\u001b[39m\u001b[38;5;124m\"\u001b[39m:\n\u001b[1;32m    180\u001b[0m     \u001b[38;5;28;01mreturn\u001b[39;00m sinkhorn_log(\n\u001b[1;32m    181\u001b[0m         a,\n\u001b[1;32m    182\u001b[0m         b,\n\u001b[0;32m   (...)\u001b[0m\n\u001b[1;32m    191\u001b[0m         \u001b[38;5;241m*\u001b[39m\u001b[38;5;241m*\u001b[39mkwargs,\n\u001b[1;32m    192\u001b[0m     )\n",
      "\u001b[0;31mKeyboardInterrupt\u001b[0m: "
     ]
    }
   ],
   "source": [
    "run_gma(GLOBAL_CONFIG, ENC_CONFIG, EMB_CONFIG, ALIGN_CONFIG)"
   ]
  },
  {
   "cell_type": "markdown",
   "metadata": {},
   "source": [
    "## Define Dataset"
   ]
  },
  {
   "cell_type": "code",
   "execution_count": 2,
   "metadata": {},
   "outputs": [],
   "source": [
    "class BloomFilterDataset(Dataset):\n",
    "    def __init__(self, data_dir, isLabeled=False, all_two_grams=None):\n",
    "        self.isLabeled = isLabeled\n",
    "        self.allTwoGrams = all_two_grams\n",
    "        self.data = pd.read_csv(data_dir, sep='\\t')  # Load TSV data\n",
    "        if self.isLabeled:\n",
    "            # For reidentified data, extract labels (2-grams) from names\n",
    "            self.data['label'] = self.data.apply(lambda row: self.extract_two_grams(row['surname'], row['firstname']), axis=1)\n",
    "    \n",
    "    def __len__(self):\n",
    "        return len(self.data)\n",
    "    \n",
    "    def __getitem__(self, idx):\n",
    "        bloom_filter = self.data.iloc[idx]['bloomfilter']\n",
    "        bloom_filter_tensor = self.bloomfilter_to_tensor(bloom_filter)\n",
    "\n",
    "        if self.isLabeled:\n",
    "            label = self.data.iloc[idx]['label']\n",
    "            label_tensor = self.label_to_tensor(label)\n",
    "            return bloom_filter_tensor, label_tensor\n",
    "        else:\n",
    "            # For unlabeled data (not_reidentified_individuals.tsv), just return the Bloom Filter\n",
    "            return bloom_filter_tensor\n",
    "    \n",
    "    def extract_two_grams(self, surname, firstname):\n",
    "        full_name = f\"{surname} {firstname}\".replace('\"', '').replace('.', '').replace('/', '').strip()\n",
    "        full_name = full_name.lower()  # Normalize to lowercase for consistency\n",
    "        return [full_name[i:i+2] for i in range(len(full_name)-1) if ' ' not in full_name[i:i+2]]\n",
    "    \n",
    "    def bloomfilter_to_tensor(self, bloom_filter_str):\n",
    "        bloom_filter_array = np.array([int(bit) for bit in bloom_filter_str], dtype=np.float32)\n",
    "        return torch.tensor(bloom_filter_array)\n",
    "    \n",
    "    def label_to_tensor(self, label_two_grams):\n",
    "        label_vector = np.zeros(len(self.allTwoGrams), dtype=np.float32)\n",
    "        \n",
    "        # Set 1 for the 2-grams present in the name\n",
    "        for gram in label_two_grams:\n",
    "            if gram in self.allTwoGrams:\n",
    "                index = self.allTwoGrams.index(gram)\n",
    "                label_vector[index] = 1\n",
    "        \n",
    "        return torch.tensor(label_vector)"
   ]
  },
  {
   "cell_type": "markdown",
   "metadata": {},
   "source": [
    "## Create Datasets "
   ]
  },
  {
   "cell_type": "code",
   "execution_count": 3,
   "metadata": {},
   "outputs": [],
   "source": [
    "#Generate all 2-grams\n",
    "alphabet = string.ascii_lowercase\n",
    "all_two_grams = []\n",
    "for a in alphabet:\n",
    "    for b in alphabet:\n",
    "        all_two_grams.append(a+b)\n",
    "# Get a dictionary associating each 2-gram with an index\n",
    "two_gram_dict = {i: two_gram for i, two_gram in enumerate(all_two_grams)}\n",
    "# Create Datasets\n",
    "data_labeled = BloomFilterDataset('./data/eves_information/reidentified_individuals.tsv', isLabeled=True, all_two_grams=all_two_grams)\n",
    "data_not_labeled = BloomFilterDataset('./data/eves_information/not_reidentified_individuals.tsv', isLabeled=False, all_two_grams=all_two_grams)\n",
    "bloomfilter_length = len(data_labeled[0][0])"
   ]
  },
  {
   "cell_type": "markdown",
   "metadata": {},
   "source": [
    "## Create Dataloader"
   ]
  },
  {
   "cell_type": "code",
   "execution_count": 4,
   "metadata": {},
   "outputs": [],
   "source": [
    "# Split proportions\n",
    "train_size = int(0.8 * len(data_labeled))  # 80% training\n",
    "val_size = len(data_labeled) - train_size  # 20% validation\n",
    "\n",
    "# Split dataset\n",
    "data_train, data_val = random_split(data_labeled, [train_size, val_size])\n",
    "dataloader_train = DataLoader(data_train, batch_size=16, shuffle=True)\n",
    "dataloader_val = DataLoader(data_val, batch_size=16, shuffle=True)\n",
    "dataloader_test = DataLoader(data_not_labeled, batch_size=16, shuffle=False)"
   ]
  },
  {
   "cell_type": "markdown",
   "metadata": {},
   "source": [
    "## Pytorch Model"
   ]
  },
  {
   "cell_type": "code",
   "execution_count": 8,
   "metadata": {},
   "outputs": [],
   "source": [
    "class BloomFilterToTwoGramClassifier(nn.Module):\n",
    "    def __init__(self, input_dim, hidden_dim=256, num_two_grams=676):\n",
    "        super(BloomFilterToTwoGramClassifier, self).__init__()\n",
    "        \n",
    "        # Define the layers for multi-label classification of 2-grams\n",
    "        self.model = nn.Sequential(\n",
    "            nn.Linear(input_dim, hidden_dim),   # Input => first hidden layer\n",
    "            nn.ReLU(),                       \n",
    "            nn.Dropout(0.1),                  \n",
    "            nn.Linear(hidden_dim, hidden_dim),  # First hidden layer => second hidden layer\n",
    "            nn.ReLU(),\n",
    "            nn.Dropout(0.1),\n",
    "            nn.Linear(hidden_dim, num_two_grams), # Second hidden layer => output layer\n",
    "            nn.Sigmoid()                       \n",
    "        )\n",
    "\n",
    "    def forward(self, x):\n",
    "        # Forward pass through the model\n",
    "        output = self.model(x)\n",
    "        return output"
   ]
  },
  {
   "cell_type": "code",
   "execution_count": 6,
   "metadata": {},
   "outputs": [],
   "source": [
    "model = BloomFilterToTwoGramClassifier(input_dim=bloomfilter_length)"
   ]
  },
  {
   "cell_type": "markdown",
   "metadata": {},
   "source": [
    "## Training Loop"
   ]
  },
  {
   "cell_type": "code",
   "execution_count": 7,
   "metadata": {},
   "outputs": [],
   "source": [
    "# Define device\n",
    "device = torch.device(\"cuda:0\" if torch.cuda.is_available() else \"cpu\")\n",
    "model.to(device)\n",
    "\n",
    "# Loss function for multi-label classification\n",
    "criterion = nn.BCEWithLogitsLoss()\n",
    "\n",
    "# Optimizer\n",
    "optimizer = optim.Adam(model.parameters(), lr=0.001)\n"
   ]
  },
  {
   "cell_type": "code",
   "execution_count": null,
   "metadata": {},
   "outputs": [],
   "source": [
    "# Number of epochs\n",
    "num_epochs = 5\n",
    "train_losses, val_losses = [], []\n",
    "\n",
    "for epoch in range(num_epochs):\n",
    "    # Training\n",
    "    model.train()\n",
    "    running_loss = 0.0\n",
    "    for bloom_filters, labels in tqdm(dataloader_train, desc=\"Training loop\"):\n",
    "        # Move data to device\n",
    "        bloom_filters, labels = bloom_filters.to(device), labels.to(device)\n",
    "        \n",
    "        optimizer.zero_grad()\n",
    "        outputs = model(bloom_filters)\n",
    "        loss = criterion(outputs, labels)\n",
    "        loss.backward()\n",
    "        optimizer.step()\n",
    "        running_loss += loss.item() * labels.size(0)\n",
    "    train_loss = running_loss / len(dataloader_train.dataset)\n",
    "    train_losses.append(train_loss)\n",
    "\n",
    "    #Validation\n",
    "    model.eval()\n",
    "    running_loss = 0.0\n",
    "    with torch.no_grad():\n",
    "        for bloom_filters, labels in tqdm(dataloader_val, desc=\"Validation loop\"):\n",
    "            # Move data to device\n",
    "            bloom_filters, labels = bloom_filters.to(device), labels.to(device)\n",
    "            \n",
    "            outputs = model(bloom_filters)\n",
    "            loss = criterion(outputs, labels)\n",
    "            running_loss += loss.item() * labels.size(0)\n",
    "        val_loss = running_loss / len(dataloader_val.dataset)\n",
    "        val_losses.append(val_loss)\n",
    "    print(f\"Epoch {epoch+1}/{num_epochs} - Train loss: {train_loss:.4f}, Validation loss: {val_loss:.4f}\")"
   ]
  },
  {
   "cell_type": "markdown",
   "metadata": {},
   "source": [
    "## Visualize Losses"
   ]
  },
  {
   "cell_type": "code",
   "execution_count": null,
   "metadata": {},
   "outputs": [],
   "source": [
    "plt.plot(train_losses, label='Training loss')\n",
    "plt.plot(val_losses, label='Validation loss')\n",
    "plt.legend()\n",
    "plt.title(\"Loss over epochs\")\n",
    "plt.show()"
   ]
  },
  {
   "cell_type": "markdown",
   "metadata": {},
   "source": [
    "## Testing Area"
   ]
  },
  {
   "cell_type": "code",
   "execution_count": null,
   "metadata": {},
   "outputs": [],
   "source": [
    "# First entry for reference (labeled data):\n",
    "# surname                                                  Hegarty\n",
    "# firstname                                    Miss. Hanora \"Nora\"\n",
    "# bloomfilter    0000000010100011000100000101000000000000100000001000000000100111011000001001100100000100000000001000000000000000001000100000000000010010000000000000100010001110110111000000000000100000000100000001010000000000100101000011000010001010000001000000000000000000001000011010011001000100000011100100000000000011000100100000110011000000000010000000000010000000000000110000000110000000000010000000011100000001000000100000001100101011001000000000010000001000000000001000010110110000000001001000100001010111010000000010000000111000000000010010110000000000001000000101010001000000001000001000010000100110000111001110000000001010011110000100000000000100000001100001100000000000010000000000000000000000100000000010000001000000000011100000000000001000101000010100001001000011000000000010001100000000100000001000001000000000100000101000000000000000000010000000100000000100001000000100000000000000011100000001001000000001100010000001000001000000000000010100100000000110101110010000010000010100000000011000001000000001110000101001000010101111\n",
    "# uid                                                          654\n",
    "# Name: 0, dtype: object\n",
    "#print('Length Labeled data:', len(data_labeled))\n",
    "#print('Length Unlabeled data:', len(data_not_labeled))\n",
    "\n",
    "#bloomfilter_tensor, label_tensor = data_labeled[0]\n",
    "\n",
    "#print('Bloom Filter Tensor:', bloomfilter_tensor)\n",
    "#print('Bloom Filter Tensor Shape:', bloomfilter_tensor.shape)\n",
    "#print('Label Tensor:', label_tensor)\n",
    "#print('Label Tensor Shape:', label_tensor.shape)\n",
    "\n",
    "#for bloomfilter_tensors, label_tensors in dataloader_train:\n",
    "#    print('Bloom Filter Tensor Shape:', bloomfilter_tensors.shape)\n",
    "#    print('Label Tensor Shape:', label_tensors.shape)\n",
    "#    print(label_tensors)\n",
    "#    break\n",
    "\n",
    "#print(str(model)[:500])\n",
    "#example_bloom, example_label = data_train[0]\n",
    "#example_out = model(example_bloom)\n",
    "#print(example_out.shape) \n",
    "#loss_function_applied = criterion(example_out, example_label)\n",
    "#print(loss_function_applied)\n",
    "#print(example_out)\n",
    " \n",
    "# Apply model\n",
    "bloomfilter_tensor = data_not_labeled[0]\n",
    "result = model(bloomfilter_tensor)\n",
    "# Result = Tensor of shape 676 with prob. for each 2gram\n",
    "two_gram_scores = {two_gram_dict[i]: score.item() for i, score in enumerate(result)}\n",
    "\n",
    "threshold = 0.000000001\n",
    "filtered_two_gram_scores = {two_gram: score for two_gram, score in two_gram_scores.items() if score > threshold}\n",
    "filtered_two_gram_scores"
   ]
  },
  {
   "cell_type": "code",
   "execution_count": null,
   "metadata": {},
   "outputs": [],
   "source": []
  }
 ],
 "metadata": {
  "kernelspec": {
   "display_name": "Python 3",
   "language": "python",
   "name": "python3"
  },
  "language_info": {
   "codemirror_mode": {
    "name": "ipython",
    "version": 3
   },
   "file_extension": ".py",
   "mimetype": "text/x-python",
   "name": "python",
   "nbconvert_exporter": "python",
   "pygments_lexer": "ipython3",
   "version": "3.10.16"
  }
 },
 "nbformat": 4,
 "nbformat_minor": 2
}
