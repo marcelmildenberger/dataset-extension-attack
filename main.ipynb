{
 "cells": [
  {
   "cell_type": "markdown",
   "metadata": {},
   "source": [
    "# Privacy-Preserving Record Linkage (PPRL): Investigating Dataset Extension Attacks"
   ]
  },
  {
   "cell_type": "markdown",
   "metadata": {},
   "source": [
    "## Imports\n",
    "\n",
    "Import all relevant libraries and classes used throughout the project. Key components include:\n",
    "\n",
    "- **Torch** – for tensor operations and neural network functionality  \n",
    "- **Datasets** – for handling training and evaluation data  \n",
    "- **PyTorch Models** – custom and pre-defined models for the DEA  \n",
    "- **Graph Matching Attack (GMA)** – core logic for the initial re-identification phase\n"
   ]
  },
  {
   "cell_type": "code",
   "execution_count": 1,
   "metadata": {},
   "outputs": [
    {
     "name": "stdout",
     "output_type": "stream",
     "text": [
      "Using NumPy dot (Mac)\n",
      "System Version: 3.10.9 (main, Nov 22 2023, 17:43:49) [Clang 15.0.0 (clang-1500.0.40.1)]\n",
      "PyTorch version 2.2.0\n",
      "Torchvision version 0.17.0\n",
      "Numpy version 1.24.4\n",
      "Pandas version 2.0.3\n"
     ]
    }
   ],
   "source": [
    "import os\n",
    "\n",
    "import torch\n",
    "from torch.utils.tensorboard import SummaryWriter\n",
    "import torch.nn as nn\n",
    "import torch.optim as optim\n",
    "from torch.utils.data import DataLoader, random_split\n",
    "import torchvision\n",
    "\n",
    "from utils import get_hashes, reconstruct_words, run_epoch, convert_to_two_gram_scores, filter_two_grams, calculate_performance_metrics, label_tensors_to_two_grams\n",
    "\n",
    "import matplotlib.pyplot as plt # For data viz\n",
    "import pandas as pd\n",
    "import hickle as hkl\n",
    "import numpy as np\n",
    "import string\n",
    "import sys\n",
    "from tqdm.notebook import tqdm\n",
    "\n",
    "import seaborn as sns\n",
    "\n",
    "from graphMatching.gma import run_gma\n",
    "\n",
    "from datasets.bloom_filter_dataset import BloomFilterDataset\n",
    "from datasets.tab_min_hash_dataset import TabMinHashDataset\n",
    "from datasets.two_step_hash_dataset import TwoStepHashDataset\n",
    "\n",
    "from pytorch_models.bloom_filter_to_two_gram_classifier import BloomFilterToTwoGramClassifier\n",
    "from pytorch_models.tab_min_hash_to_two_gram_classifier import TabMinHashToTwoGramClassifier\n",
    "from pytorch_models.two_step_hash_to_two_gram_classifier import TwoStepHashToTwoGramClassifier\n",
    "from pytorch_models.test_model import TestModel\n",
    "\n",
    "from early_stopping.early_stopping import EarlyStopping\n",
    "\n",
    "print('System Version:', sys.version)\n",
    "print('PyTorch version', torch.__version__)\n",
    "print('Torchvision version', torchvision.__version__)\n",
    "print('Numpy version', np.__version__)\n",
    "print('Pandas version', pd.__version__)"
   ]
  },
  {
   "cell_type": "markdown",
   "metadata": {},
   "source": [
    "## Parameters\n",
    "\n",
    "Configuration and parameters for the Graph Matching Attack (GMA) and Dataset Extension Attack (DEA). For details and possible values, refer to the documentation at ```./docs/parameters.md```."
   ]
  },
  {
   "cell_type": "code",
   "execution_count": 2,
   "metadata": {},
   "outputs": [],
   "source": [
    "# Parameters\n",
    "GLOBAL_CONFIG = {\n",
    "    \"Data\": \"./data/datasets/fakename_1k.tsv\",\n",
    "    \"Overlap\": 0.8,\n",
    "    \"DropFrom\": \"Eve\",\n",
    "    \"Verbose\": True,  # Print Status Messages\n",
    "    \"MatchingMetric\": \"cosine\",\n",
    "    \"Matching\": \"MinWeight\",\n",
    "    \"Workers\": -1,\n",
    "    \"SaveAliceEncs\": False,\n",
    "    \"SaveEveEncs\": False,\n",
    "    \"DevMode\": False,\n",
    "}\n",
    "\n",
    "\n",
    "DEA_CONFIG = {\n",
    "    \"DevMode\": False,\n",
    "    # BCEWithLogitsLoss / MultiLabelSoftMarginLoss\n",
    "    \"LossFunction:\": \"BCEWithLogitsLoss\",\n",
    "    # Adam / AdamW / SGD / RMSprop\n",
    "    \"Optimizer\": \"Adam\",\n",
    "    \"LearningRate\": 0.0005149157768571977,\n",
    "    # SGD only\n",
    "    \"Momentum\": 0.9,\n",
    "    \"BatchSize\": 16,\n",
    "    \"Epochs\": 27,\n",
    "    # TestSize calculated accordingly\n",
    "    \"TrainSize\": 0.8,\n",
    "    \"FilterThreshold\": 0.5,\n",
    "    \"EarlyStoppingPatience\": 10,\n",
    "    \"MinDelta\": 1e-4,\n",
    "    \"TestModel\": True,\n",
    "    # relu / leaky_relu / gelu\n",
    "    \"ActivationFunction\": \"relu\",\n",
    "    # LR Scheduler\n",
    "    \"LRScheduler\": \"ReduceLROnPlateau\",  # StepLR / ExponentialLR / ReduceLROnPlateau / CosineAnnealingLR / CyclicLR / None\n",
    "    # StepLR & ExponentialLR\n",
    "    \"StepSize\": 10,         # Used for StepLR\n",
    "    \"Gamma\": 0.5,           # Used for StepLR & ExponentialLR\n",
    "    # ReduceLROnPlateau\n",
    "    \"Mode\": \"min\",          # Can be \"min\" or \"max\"\n",
    "    \"Factor\": 0.1,          # Multiplicative factor of learning rate decay\n",
    "    \"Patience\": 5,          # Epochs with no improvement before reducing\n",
    "    # CosineAnnealingLR\n",
    "    \"T_max\": 50,            # Maximum number of iterations\n",
    "    # CyclicLR\n",
    "    \"BaseLR\": 1e-5,         # Lower bound of learning rate\n",
    "    \"MaxLR\": 1e-3,          # Upper bound of learning rate\n",
    "    \"StepSizeUp\": 2000,     # Steps to increase LR\n",
    "    \"ModeCyclic\": \"triangular2\",  # Can be \"triangular\", \"triangular2\", \"exp_range\"\n",
    "}\n",
    "\n",
    "ENC_CONFIG = {\n",
    "    # TwoStepHash / TabMinHash / BloomFilter\n",
    "    \"AliceAlgo\": \"BloomFilter\",\n",
    "    \"AliceSecret\": \"SuperSecretSalt1337\",\n",
    "    \"AliceN\": 2,\n",
    "    \"AliceMetric\": \"dice\",\n",
    "    \"EveAlgo\": \"None\",\n",
    "    \"EveSecret\": \"ATotallyDifferentString42\",\n",
    "    \"EveN\": 2,\n",
    "    \"EveMetric\": \"dice\",\n",
    "    # For BF encoding\n",
    "    \"AliceBFLength\": 1024,\n",
    "    \"AliceBits\": 10,\n",
    "    \"AliceDiffuse\": False,\n",
    "    \"AliceT\": 10,\n",
    "    \"AliceEldLength\": 1024,\n",
    "    \"EveBFLength\": 1024,\n",
    "    \"EveBits\": 10,\n",
    "    \"EveDiffuse\": False,\n",
    "    \"EveT\": 10,\n",
    "    \"EveEldLength\": 1024,\n",
    "    # For TMH encoding\n",
    "    \"AliceNHash\": 1024,\n",
    "    \"AliceNHashBits\": 64,\n",
    "    \"AliceNSubKeys\": 8,\n",
    "    \"Alice1BitHash\": True,\n",
    "    \"EveNHash\": 1024,\n",
    "    \"EveNHashBits\": 64,\n",
    "    \"EveNSubKeys\": 8,\n",
    "    \"Eve1BitHash\": True,\n",
    "    # For 2SH encoding\n",
    "    \"AliceNHashFunc\": 10,\n",
    "    \"AliceNHashCol\": 1000,\n",
    "    \"AliceRandMode\": \"PNG\",\n",
    "    \"EveNHashFunc\": 10,\n",
    "    \"EveNHashCol\": 1000,\n",
    "    \"EveRandMode\": \"PNG\",\n",
    "}\n",
    "\n",
    "EMB_CONFIG = {\n",
    "    \"Algo\": \"Node2Vec\",\n",
    "    \"AliceQuantile\": 0.9,\n",
    "    \"AliceDiscretize\": False,\n",
    "    \"AliceDim\": 128,\n",
    "    \"AliceContext\": 10,\n",
    "    \"AliceNegative\": 1,\n",
    "    \"AliceNormalize\": True,\n",
    "    \"EveQuantile\": 0.9,\n",
    "    \"EveDiscretize\": False,\n",
    "    \"EveDim\": 128,\n",
    "    \"EveContext\": 10,\n",
    "    \"EveNegative\": 1,\n",
    "    \"EveNormalize\": True,\n",
    "    # For Node2Vec\n",
    "    \"AliceWalkLen\": 100,\n",
    "    \"AliceNWalks\": 20,\n",
    "    \"AliceP\": 250,\n",
    "    \"AliceQ\": 300,\n",
    "    \"AliceEpochs\": 5,\n",
    "    \"AliceSeed\": 42,\n",
    "    \"EveWalkLen\": 100,\n",
    "    \"EveNWalks\": 20,\n",
    "    \"EveP\": 250,\n",
    "    \"EveQ\": 300,\n",
    "    \"EveEpochs\": 5,\n",
    "    \"EveSeed\": 42\n",
    "}\n",
    "\n",
    "ALIGN_CONFIG = {\n",
    "    \"RegWS\": max(0.1, GLOBAL_CONFIG[\"Overlap\"]/2), #0005\n",
    "    \"RegInit\":1, # For BF 0.25\n",
    "    \"Batchsize\": 1, # 1 = 100%\n",
    "    \"LR\": 200.0,\n",
    "    \"NIterWS\": 100,\n",
    "    \"NIterInit\": 5 ,  # 800\n",
    "    \"NEpochWS\": 100,\n",
    "    \"LRDecay\": 1,\n",
    "    \"Sqrt\": True,\n",
    "    \"EarlyStopping\": 10,\n",
    "    \"Selection\": \"None\",\n",
    "    \"MaxLoad\": None,\n",
    "    \"Wasserstein\": True\n",
    "}"
   ]
  },
  {
   "cell_type": "markdown",
   "metadata": {},
   "source": [
    "## 🔍 Data Preparation: Load or Compute Graph Matching Attack (GMA) Results\n",
    "\n",
    "This code snippet either loads previously computed Graph Matching Attack (GMA) results from disk or runs the attack if no saved data is found.\n",
    "\n",
    "1. **Generate Configuration Hashes:**  \n",
    "   The function `get_hashes` creates unique hash values based on the encoding and embedding configurations. These are used to create distinct filenames for the data.\n",
    "\n",
    "2. **Create File Paths:**  \n",
    "   Based on the configuration hashes, paths are generated for:\n",
    "   - Reidentified individuals\n",
    "   - Not reidentified individuals\n",
    "   - All individuals in Alice’s dataset (with encoding)\n",
    "\n",
    "3. **Load Results from Disk (if available):**  \n",
    "   If the `.h5` files already exist, they are loaded using `hickle` and converted into `pandas.DataFrames`.  \n",
    "   The data format assumes that the first row contains the column headers, and the rest is the data — hence the slicing `[1:]` and `columns=...`.\n",
    "\n",
    "4. **Run GMA If Data Is Not Available:**  \n",
    "   If the files are missing, the GMA is executed via `run_gma()`. The results are again converted to `DataFrames`.\n"
   ]
  },
  {
   "cell_type": "code",
   "execution_count": 3,
   "metadata": {},
   "outputs": [
    {
     "name": "stdout",
     "output_type": "stream",
     "text": [
      "Loading previously saved attack results...\n"
     ]
    }
   ],
   "source": [
    "# Get unique hash identifiers for the encoding and embedding configurations\n",
    "eve_enc_hash, alice_enc_hash, eve_emb_hash, alice_emb_hash = get_hashes(GLOBAL_CONFIG, ENC_CONFIG, EMB_CONFIG)\n",
    "\n",
    "# Define file paths based on the configuration hashes\n",
    "path_reidentified = f\"./data/available_to_eve/reidentified_individuals_{eve_enc_hash}_{alice_enc_hash}_{eve_emb_hash}_{alice_emb_hash}.h5\"\n",
    "path_not_reidentified = f\"./data/available_to_eve/not_reidentified_individuals_{eve_enc_hash}_{alice_enc_hash}_{eve_emb_hash}_{alice_emb_hash}.h5\"\n",
    "path_all = f\"./data/dev/alice_data_complete_with_encoding_{eve_enc_hash}_{alice_enc_hash}_{eve_emb_hash}_{alice_emb_hash}.h5\"\n",
    "\n",
    "# Check if the output files already exist\n",
    "if os.path.isfile(path_reidentified) and os.path.isfile(path_not_reidentified) and os.path.isfile(path_all):\n",
    "    # Load previously saved attack results\n",
    "    print(\"Loading previously saved attack results...\")\n",
    "    reidentified_data = hkl.load(path_reidentified)\n",
    "    not_reidentified_data = hkl.load(path_not_reidentified)\n",
    "    all_data = hkl.load(path_all)\n",
    "\n",
    "else:\n",
    "    # Run Graph Matching Attack if files are not found\n",
    "    reidentified_data, not_reidentified_data, all_data = run_gma(\n",
    "        GLOBAL_CONFIG, ENC_CONFIG, EMB_CONFIG, ALIGN_CONFIG, DEA_CONFIG,\n",
    "        eve_enc_hash, alice_enc_hash, eve_emb_hash, alice_emb_hash\n",
    "    )\n",
    "\n",
    "# Convert lists to DataFrames\n",
    "df_reidentified = pd.DataFrame(reidentified_data[1:], columns=reidentified_data[0])\n",
    "df_not_reidentified = pd.DataFrame(not_reidentified_data[1:], columns=not_reidentified_data[0])\n",
    "df_all = pd.DataFrame(all_data[1:], columns=all_data[0])\n",
    "df_not_reidentified_labeled = df_all[df_all[\"uid\"].isin(df_not_reidentified[\"uid\"])].reset_index(drop=True)"
   ]
  },
  {
   "cell_type": "markdown",
   "metadata": {},
   "source": [
    "## 🔤 Create 2-Gram Dictionary (Letters & Digits)\n",
    "\n",
    "This code creates a comprehensive dictionary of all possible **2-grams** (two-character combinations) that consist of lowercase letters and digits.\n",
    "\n",
    "1. **Character Sets:**\n",
    "   - `string.ascii_lowercase`: the lowercase English alphabet ('a' to 'z')\n",
    "   - `string.digits`: the digits '0' to '9'\n",
    "\n",
    "2. **2-Gram Types Generated:**\n",
    "   - **Letter-Letter (LL):** All combinations like `'aa'`, `'ab'`, ..., `'zz'` (26×26 = 676)\n",
    "   - **Digit-Digit (DD):** All combinations like `'00'`, `'01'`, ..., `'99'` (10×10 = 100)\n",
    "   - **Letter-Digit (LD):** All combinations like `'a0'`, `'a1'`, ..., `'z9'` (26×10 = 260)\n",
    "\n",
    "3. **Combining All 2-Grams:**\n",
    "   - All three types are concatenated into a single list.\n",
    "\n",
    "4. **Indexed Dictionary:**\n",
    "   - The `enumerate()` function is used to assign each 2-gram a unique index in `two_gram_dict`.\n"
   ]
  },
  {
   "cell_type": "code",
   "execution_count": 4,
   "metadata": {},
   "outputs": [],
   "source": [
    "# --- Generate a dictionary of all possible 2-grams from letters and digits ---\n",
    "\n",
    "# Lowercase alphabet: 'a' to 'z'\n",
    "alphabet = string.ascii_lowercase\n",
    "\n",
    "# Digits: '0' to '9'\n",
    "digits = string.digits\n",
    "\n",
    "# Generate all letter-letter 2-grams (e.g., 'aa', 'ab', ..., 'zz')\n",
    "letter_letter_grams = [a + b for a in alphabet for b in alphabet]\n",
    "\n",
    "# Generate all digit-digit 2-grams (e.g., '00', '01', ..., '99')\n",
    "digit_digit_grams = [d1 + d2 for d1 in digits for d2 in digits]\n",
    "\n",
    "# Generate all letter-digit 2-grams (e.g., 'a0', 'a1', ..., 'z9')\n",
    "letter_digit_grams = [l + d for l in alphabet for d in digits]\n",
    "\n",
    "# Combine all generated 2-grams into one list\n",
    "all_two_grams = letter_letter_grams + letter_digit_grams + digit_digit_grams\n",
    "\n",
    "# Create a dictionary mapping index to each 2-gram\n",
    "two_gram_dict = {i: two_gram for i, two_gram in enumerate(all_two_grams)}"
   ]
  },
  {
   "cell_type": "markdown",
   "metadata": {},
   "source": [
    "## 🧩 Dataset Creation Based on Alice’s Encoding Scheme\n",
    "\n",
    "This section initializes the dataset objects depending on which encoding method Alice used. Each encoding requires a different preprocessing strategy for compatibility with downstream neural models.\n",
    "\n",
    "### 1. Bloom Filter (`\"BloomFilter\"`)\n",
    "- Uses binary Bloom filters to represent identifiers.\n",
    "- Loads `BloomFilterDataset` objects.\n",
    "- Stores the bit-length of the bloom filter.\n",
    "\n",
    "### 2. Tabulation MinHash (`\"TabMinHash\"`)\n",
    "- Applies a MinHash-based encoding.\n",
    "- Loads `TabMinHashDataset`.\n",
    "- Captures the length of each encoded vector.\n",
    "\n",
    "### 3. Two-Step Hash with One-Hot Encoding (`\"TwoStepHash\"`)\n",
    "- Extracts all **unique hash values** to build a consistent one-hot vector space.\n",
    "- Constructs datasets using `TwoStepHashDatasetOneHotEncoding`.\n",
    "\n",
    "> ⚙️ All dataset constructors are passed:\n",
    "> - Whether the data is labeled\n",
    "> - The full 2-gram list (used as feature tokens)\n",
    "> - Additional encoding-specific configurations\n",
    "> - Dev mode toggle (for debugging or smaller runs)\n"
   ]
  },
  {
   "cell_type": "code",
   "execution_count": 5,
   "metadata": {},
   "outputs": [],
   "source": [
    "# 1️ Bloom Filter Encoding\n",
    "if ENC_CONFIG[\"AliceAlgo\"] == \"BloomFilter\":\n",
    "    data_labeled = BloomFilterDataset(\n",
    "        df_reidentified,\n",
    "        is_labeled=True,\n",
    "        all_two_grams=all_two_grams,\n",
    "        dev_mode=GLOBAL_CONFIG[\"DevMode\"]\n",
    "    )\n",
    "    data_test = BloomFilterDataset(\n",
    "        df_not_reidentified_labeled,\n",
    "        is_labeled=True,\n",
    "        all_two_grams=all_two_grams,\n",
    "        dev_mode=GLOBAL_CONFIG[\"DevMode\"]\n",
    "    )\n",
    "    bloomfilter_length = len(df_reidentified[\"bloomfilter\"][0])\n",
    "\n",
    "# 2️ Tabulation MinHash Encoding\n",
    "elif ENC_CONFIG[\"AliceAlgo\"] == \"TabMinHash\":\n",
    "    data_labeled = TabMinHashDataset(\n",
    "        df_reidentified,\n",
    "        is_labeled=True,\n",
    "        all_two_grams=all_two_grams,\n",
    "        dev_mode=GLOBAL_CONFIG[\"DevMode\"]\n",
    "    )\n",
    "    data_test = TabMinHashDataset(\n",
    "        df_not_reidentified_labeled,\n",
    "        is_labeled=True,\n",
    "        all_two_grams=all_two_grams,\n",
    "        dev_mode=GLOBAL_CONFIG[\"DevMode\"]\n",
    "    )\n",
    "    tabminhash_length = len(df_reidentified[\"tabminhash\"][0])\n",
    "\n",
    "# 3 Two-Step Hash Encoding (One-Hot Encoding Mode)\n",
    "elif ENC_CONFIG[\"AliceAlgo\"] == \"TwoStepHash\":\n",
    "    # Collect all unique integers across both reidentified and non-reidentified data\n",
    "    unique_ints_reid = set().union(*df_reidentified[\"twostephash\"])\n",
    "    unique_ints_not_reid = set().union(*df_not_reidentified_labeled[\"twostephash\"])\n",
    "    unique_ints_sorted = sorted(unique_ints_reid.union(unique_ints_not_reid))\n",
    "    unique_integers_dict = {i: val for i, val in enumerate(unique_ints_sorted)}\n",
    "\n",
    "    data_labeled = TwoStepHashDataset(\n",
    "        df_reidentified,\n",
    "        is_labeled=True,\n",
    "        all_integers=unique_ints_sorted,\n",
    "        all_two_grams=all_two_grams,\n",
    "        dev_mode=GLOBAL_CONFIG[\"DevMode\"]\n",
    "    )\n",
    "    data_test = TwoStepHashDataset(\n",
    "        df_not_reidentified_labeled,\n",
    "        is_labeled=True,\n",
    "        all_integers=unique_ints_sorted,\n",
    "        all_two_grams=all_two_grams,\n",
    "        dev_mode=GLOBAL_CONFIG[\"DevMode\"]\n",
    "    )"
   ]
  },
  {
   "cell_type": "markdown",
   "metadata": {},
   "source": [
    "## Data Splitting & Loader Setup\n",
    "\n",
    "After preprocessing the encoded data, we divide it into training, validation, and test sets using PyTorch's `DataLoader` and `random_split`.\n",
    "\n",
    "### Dataset Proportions\n",
    "- The proportion for the training set is defined in `DEA_CONFIG[\"TrainSize\"]`.\n",
    "- The remainder is used for validation.\n",
    "\n",
    "### Splitting\n",
    "- `data_labeled` (the reidentified individuals) is split into:\n",
    "  - `data_train` for training\n",
    "  - `data_val` for validation\n",
    "- `data_not_labeled` (unidentified individuals) is used exclusively for testing.\n",
    "\n",
    "### Dataloader Configuration\n",
    "- **Training Loader**: shuffled for learning generalization.\n",
    "- **Validation Loader**: also shuffled to vary batches during evaluation.\n",
    "- **Test Loader**: also shuffled.\n"
   ]
  },
  {
   "cell_type": "code",
   "execution_count": 6,
   "metadata": {},
   "outputs": [],
   "source": [
    "# Define dataset split proportions\n",
    "train_size = int(DEA_CONFIG[\"TrainSize\"] * len(data_labeled))\n",
    "val_size = len(data_labeled) - train_size\n",
    "\n",
    "# Split the reidentified dataset into training and validation sets\n",
    "data_train, data_val = random_split(data_labeled, [train_size, val_size])\n",
    "\n",
    "# Create DataLoaders for training, validation, and testing\n",
    "dataloader_train = DataLoader(\n",
    "    data_train,\n",
    "    batch_size=DEA_CONFIG[\"BatchSize\"],\n",
    "    shuffle=True  # Important for training\n",
    ")\n",
    "\n",
    "dataloader_val = DataLoader(\n",
    "    data_val,\n",
    "    batch_size=DEA_CONFIG[\"BatchSize\"],\n",
    "    shuffle=True  # Allows variation in validation batches\n",
    ")\n",
    "\n",
    "dataloader_test = DataLoader(\n",
    "    data_test,\n",
    "    batch_size=DEA_CONFIG[\"BatchSize\"],\n",
    "    shuffle=True\n",
    ")"
   ]
  },
  {
   "cell_type": "markdown",
   "metadata": {},
   "source": [
    "## Model Instantiation Based on Encoding Scheme\n",
    "\n",
    "The neural network model is selected dynamically based on the encoding technique used for Alice’s data.\n",
    "\n",
    "### Supported Models:\n",
    "\n",
    "- **BloomFilter** → `BloomFilterToTwoGramClassifier`  \n",
    "  - Input: Binary vector (Bloom filter)  \n",
    "  - Output: 2-gram prediction\n",
    "\n",
    "- **TabMinHash** → `TabMinHashToTwoGramClassifier`  \n",
    "  - Input: Tabulated MinHash signature  \n",
    "  - Output: 2-gram prediction\n",
    "\n",
    "- **TwoStepHash** → `TwoStepHashToTwoGramClassifier`  \n",
    "  - Input: Length of the unique integers present\n",
    "  - Output: 2-gram predicition\n",
    "    \n",
    "Each model outputs predictions over the set of all possible 2-grams (`all_two_grams`), and the input dimension is dynamically configured based on the dataset.\n"
   ]
  },
  {
   "cell_type": "code",
   "execution_count": 7,
   "metadata": {},
   "outputs": [],
   "source": [
    "# Instantiate model based on selected encoding scheme\n",
    "\n",
    "if DEA_CONFIG[\"TestModel\"]:\n",
    "    if ENC_CONFIG[\"AliceAlgo\"] == \"BloomFilter\":\n",
    "        model = TestModel(\n",
    "            input_dim=bloomfilter_length,\n",
    "            output_dim=len(all_two_grams),\n",
    "            hidden_layer=2048,\n",
    "            num_layers=1,\n",
    "            dropout_rate=0.220451802221184,\n",
    "            activation_fn=\"relu\"\n",
    "        )\n",
    "    elif ENC_CONFIG[\"AliceAlgo\"] == \"TabMinHash\":\n",
    "        model = TestModel(\n",
    "            input_dim=bloomfilter_length,\n",
    "            output_dim=len(all_two_grams),\n",
    "            hidden_layer=2048,\n",
    "            num_layers=1,\n",
    "            dropout_rate=0.220451802221184,\n",
    "            activation_fn=\"relu\"\n",
    "        )\n",
    "    elif ENC_CONFIG[\"AliceAlgo\"] == \"TwoStepHash\":\n",
    "        model = TestModel(\n",
    "            input_dim=bloomfilter_length,\n",
    "            output_dim=len(all_two_grams),\n",
    "            hidden_layer=2048,\n",
    "            num_layers=1,\n",
    "            dropout_rate=0.220451802221184,\n",
    "            activation_fn=\"relu\"\n",
    "        )\n",
    "\n",
    "elif ENC_CONFIG[\"AliceAlgo\"] == \"BloomFilter\":\n",
    "    model = BloomFilterToTwoGramClassifier(\n",
    "        input_dim=bloomfilter_length,\n",
    "        output_dim=len(all_two_grams)\n",
    "    )\n",
    "\n",
    "elif ENC_CONFIG[\"AliceAlgo\"] == \"TabMinHash\":\n",
    "    model = TabMinHashToTwoGramClassifier(\n",
    "        input_dim=tabminhash_length,\n",
    "        output_dim=len(all_two_grams)\n",
    "    )\n",
    "\n",
    "elif ENC_CONFIG[\"AliceAlgo\"] == \"TwoStepHash\":\n",
    "    model = TwoStepHashToTwoGramClassifier(\n",
    "        input_dim=len(unique_ints_sorted),\n",
    "        output_dim=len(all_two_grams)\n",
    "    )"
   ]
  },
  {
   "cell_type": "markdown",
   "metadata": {},
   "source": [
    "## Training Environment Setup\n",
    "This code initializes the core components needed for training a neural network model.\n",
    "\n",
    "1. TensorBoard Setup\n",
    "    - Creates unique run name by combining:\n",
    "    - Loss function type\n",
    "    - Optimizer choice\n",
    "    - Alice's algorithm\n",
    "    - Initializes TensorBoard writer in runs directory\n",
    "2. Device Configuration\n",
    "    - Automatically selects GPU if available, falls back to CPU\n",
    "    - Moves model to selected device\n",
    "3. Loss Functions\n",
    "    - `BCEWithLogitsLoss`: Binary Cross Entropy with Logits\n",
    "    - `MultiLabelSoftMarginLoss`: Multi-Label Soft Margin Loss\n",
    "4. Optimizers:\n",
    "    - `Adam`: Adaptive Moment Estimation\n",
    "    - `AdamW`: Adam with Weight Decay\n",
    "    - `SGD`: Stochastic Gradient Descent (with momentum)\n",
    "    - `RMSprop`: Root Mean Square Propagation"
   ]
  },
  {
   "cell_type": "code",
   "execution_count": 8,
   "metadata": {},
   "outputs": [],
   "source": [
    "# Setup tensorboard logging\n",
    "run_name = \"\".join([\n",
    "    DEA_CONFIG[\"LossFunction:\"],\n",
    "    DEA_CONFIG[\"Optimizer\"],\n",
    "    ENC_CONFIG[\"AliceAlgo\"],\n",
    "    DEA_CONFIG[\"ActivationFunction\"],\n",
    "])\n",
    "tb_writer = SummaryWriter(f\"runs/{run_name}\")\n",
    "\n",
    "# Setup compute device (GPU/CPU)\n",
    "compute_device = torch.device(\"cuda:0\" if torch.cuda.is_available() else \"cpu\")\n",
    "model.to(compute_device)\n",
    "\n",
    "# Initialize loss function\n",
    "match DEA_CONFIG[\"LossFunction:\"]:\n",
    "    case \"BCEWithLogitsLoss\":\n",
    "        criterion = nn.BCEWithLogitsLoss(reduction='mean')\n",
    "    case \"MultiLabelSoftMarginLoss\":\n",
    "        criterion = nn.MultiLabelSoftMarginLoss(reduction='mean')\n",
    "    case _:\n",
    "        raise ValueError(f\"Unsupported loss function: {DEA_CONFIG['LossFunction:']}\")\n",
    "\n",
    "# Initialize optimizer\n",
    "match DEA_CONFIG[\"Optimizer\"]:\n",
    "    case \"Adam\":\n",
    "        optimizer = optim.Adam(model.parameters(), lr=DEA_CONFIG[\"LearningRate\"])\n",
    "    case \"AdamW\":\n",
    "        optimizer = optim.AdamW(model.parameters(), lr=DEA_CONFIG[\"LearningRate\"])\n",
    "    case \"SGD\":\n",
    "        optimizer = optim.SGD(model.parameters(),\n",
    "                            lr=DEA_CONFIG[\"LearningRate\"],\n",
    "                            momentum=DEA_CONFIG[\"Momentum\"])\n",
    "    case \"RMSprop\":\n",
    "        optimizer = optim.RMSprop(model.parameters(), lr=DEA_CONFIG[\"LearningRate\"])\n",
    "    case _:\n",
    "        raise ValueError(f\"Unsupported optimizer: {DEA_CONFIG['Optimizer']}\")\n",
    "\n",
    "# Initialize learning rate scheduler\n",
    "match DEA_CONFIG[\"LRScheduler\"]:\n",
    "    case \"StepLR\":\n",
    "        scheduler = torch.optim.lr_scheduler.StepLR(\n",
    "            optimizer,\n",
    "            step_size=DEA_CONFIG[\"StepSize\"],\n",
    "            gamma=DEA_CONFIG[\"Gamma\"]\n",
    "        )\n",
    "    case \"ExponentialLR\":\n",
    "        scheduler = torch.optim.lr_scheduler.ExponentialLR(\n",
    "            optimizer,\n",
    "            gamma=DEA_CONFIG[\"Gamma\"]\n",
    "        )\n",
    "    case \"ReduceLROnPlateau\":\n",
    "        scheduler = torch.optim.lr_scheduler.ReduceLROnPlateau(\n",
    "            optimizer,\n",
    "            mode=DEA_CONFIG[\"Mode\"],\n",
    "            factor=DEA_CONFIG[\"Factor\"],\n",
    "            patience=DEA_CONFIG[\"Patience\"]\n",
    "        )\n",
    "    case \"CosineAnnealingLR\":\n",
    "        scheduler = torch.optim.lr_scheduler.CosineAnnealingLR(\n",
    "            optimizer,\n",
    "            T_max=DEA_CONFIG[\"T_max\"]\n",
    "        )\n",
    "    case \"CyclicLR\":\n",
    "        scheduler = torch.optim.lr_scheduler.CyclicLR(\n",
    "            optimizer,\n",
    "            base_lr=DEA_CONFIG[\"BaseLR\"],\n",
    "            max_lr=DEA_CONFIG[\"MaxLR\"],\n",
    "            step_size_up=DEA_CONFIG[\"StepSizeUp\"],\n",
    "            mode=DEA_CONFIG[\"ModeCyclic\"],\n",
    "            cycle_momentum=False  # usually False for Adam/AdamW\n",
    "        )\n",
    "    case None | \"None\":\n",
    "        scheduler = None\n",
    "    case _:\n",
    "        raise ValueError(f\"Unsupported LR scheduler: {DEA_CONFIG['LRScheduler']}\")\n"
   ]
  },
  {
   "cell_type": "markdown",
   "metadata": {},
   "source": [
    "## Model Training with Early Stopping\n",
    "\n",
    "The function `train_model` orchestrates the training process for the neural network, including both training and validation phases for each epoch. It also utilizes **early stopping** to halt training when the validation loss fails to improve over multiple epochs, avoiding overfitting.\n",
    "\n",
    "### Key Phases:\n",
    "1. **Training Phase**: \n",
    "   - The model is trained on the `dataloader_train`, computing the training loss using the specified loss function (`criterion`) and optimizer. Gradients are calculated, and the model parameters are updated.\n",
    "  \n",
    "2. **Validation Phase**:\n",
    "   - The model is evaluated on the `dataloader_val` without updating weights. The validation loss is computed to track model performance on unseen data.\n",
    "\n",
    "3. **Logging**: \n",
    "   - Training and validation losses are logged to both the console and **TensorBoard** for tracking model performance during training.\n",
    "\n",
    "4. **Early Stopping**: \n",
    "   - If the validation loss does not improve after a certain number of epochs (defined by `DEA_CONFIG[\"Patience\"]`), the training process is halted to prevent overfitting.\n",
    "\n",
    "### Helper Functions:\n",
    "- `run_epoch`: Handles a single epoch, either for training or validation, depending on the flag `is_training`.\n",
    "- `log_metrics`: Logs the training and validation losses to the console and TensorBoard for each epoch.\n"
   ]
  },
  {
   "cell_type": "code",
   "execution_count": 9,
   "metadata": {},
   "outputs": [
    {
     "name": "stderr",
     "output_type": "stream",
     "text": [
      "Training: 100%|██████████| 40/40 [00:00<00:00, 110.52it/s]\n",
      "Validation: 100%|██████████| 10/10 [00:00<00:00, 602.84it/s]\n"
     ]
    },
    {
     "name": "stdout",
     "output_type": "stream",
     "text": [
      "Epoch 1/27 - Train loss: 0.1476, Validation loss: 0.0687\n",
      "best_loss updated from  inf  to  0.06865662187337876\n"
     ]
    },
    {
     "name": "stderr",
     "output_type": "stream",
     "text": [
      "Training: 100%|██████████| 40/40 [00:00<00:00, 139.28it/s]\n",
      "Validation: 100%|██████████| 10/10 [00:00<00:00, 596.71it/s]\n"
     ]
    },
    {
     "name": "stdout",
     "output_type": "stream",
     "text": [
      "Epoch 2/27 - Train loss: 0.0623, Validation loss: 0.0599\n",
      "best_loss updated from  0.06865662187337876  to  0.059943842515349385\n"
     ]
    },
    {
     "name": "stderr",
     "output_type": "stream",
     "text": [
      "Training: 100%|██████████| 40/40 [00:00<00:00, 119.24it/s]\n",
      "Validation: 100%|██████████| 10/10 [00:00<00:00, 575.15it/s]\n"
     ]
    },
    {
     "name": "stdout",
     "output_type": "stream",
     "text": [
      "Epoch 3/27 - Train loss: 0.0533, Validation loss: 0.0531\n",
      "best_loss updated from  0.059943842515349385  to  0.05305407829582691\n"
     ]
    },
    {
     "name": "stderr",
     "output_type": "stream",
     "text": [
      "Training: 100%|██████████| 40/40 [00:00<00:00, 140.06it/s]\n",
      "Validation: 100%|██████████| 10/10 [00:00<00:00, 586.61it/s]\n"
     ]
    },
    {
     "name": "stdout",
     "output_type": "stream",
     "text": [
      "Epoch 4/27 - Train loss: 0.0430, Validation loss: 0.0462\n",
      "best_loss updated from  0.05305407829582691  to  0.04622992426156998\n"
     ]
    },
    {
     "name": "stderr",
     "output_type": "stream",
     "text": [
      "Training: 100%|██████████| 40/40 [00:00<00:00, 142.27it/s]\n",
      "Validation: 100%|██████████| 10/10 [00:00<00:00, 651.37it/s]\n"
     ]
    },
    {
     "name": "stdout",
     "output_type": "stream",
     "text": [
      "Epoch 5/27 - Train loss: 0.0332, Validation loss: 0.0408\n",
      "best_loss updated from  0.04622992426156998  to  0.04075410217046738\n"
     ]
    },
    {
     "name": "stderr",
     "output_type": "stream",
     "text": [
      "Training: 100%|██████████| 40/40 [00:00<00:00, 103.47it/s]\n",
      "Validation: 100%|██████████| 10/10 [00:00<00:00, 629.92it/s]\n"
     ]
    },
    {
     "name": "stdout",
     "output_type": "stream",
     "text": [
      "Epoch 6/27 - Train loss: 0.0251, Validation loss: 0.0368\n",
      "best_loss updated from  0.04075410217046738  to  0.03681150674819946\n"
     ]
    },
    {
     "name": "stderr",
     "output_type": "stream",
     "text": [
      "Training: 100%|██████████| 40/40 [00:00<00:00, 141.05it/s]\n",
      "Validation: 100%|██████████| 10/10 [00:00<00:00, 612.25it/s]\n"
     ]
    },
    {
     "name": "stdout",
     "output_type": "stream",
     "text": [
      "Epoch 7/27 - Train loss: 0.0189, Validation loss: 0.0341\n",
      "best_loss updated from  0.03681150674819946  to  0.034099921584129333\n"
     ]
    },
    {
     "name": "stderr",
     "output_type": "stream",
     "text": [
      "Training: 100%|██████████| 40/40 [00:00<00:00, 143.92it/s]\n",
      "Validation: 100%|██████████| 10/10 [00:00<00:00, 512.90it/s]\n"
     ]
    },
    {
     "name": "stdout",
     "output_type": "stream",
     "text": [
      "Epoch 8/27 - Train loss: 0.0141, Validation loss: 0.0322\n",
      "best_loss updated from  0.034099921584129333  to  0.03222373444586992\n"
     ]
    },
    {
     "name": "stderr",
     "output_type": "stream",
     "text": [
      "Training: 100%|██████████| 40/40 [00:00<00:00, 124.50it/s]\n",
      "Validation: 100%|██████████| 10/10 [00:00<00:00, 577.34it/s]\n"
     ]
    },
    {
     "name": "stdout",
     "output_type": "stream",
     "text": [
      "Epoch 9/27 - Train loss: 0.0106, Validation loss: 0.0311\n",
      "best_loss updated from  0.03222373444586992  to  0.031135092489421368\n"
     ]
    },
    {
     "name": "stderr",
     "output_type": "stream",
     "text": [
      "Training: 100%|██████████| 40/40 [00:00<00:00, 135.11it/s]\n",
      "Validation: 100%|██████████| 10/10 [00:00<00:00, 587.78it/s]\n"
     ]
    },
    {
     "name": "stdout",
     "output_type": "stream",
     "text": [
      "Epoch 10/27 - Train loss: 0.0081, Validation loss: 0.0309\n",
      "best_loss updated from  0.031135092489421368  to  0.03085792064666748\n"
     ]
    },
    {
     "name": "stderr",
     "output_type": "stream",
     "text": [
      "Training: 100%|██████████| 40/40 [00:00<00:00, 127.80it/s]\n",
      "Validation: 100%|██████████| 10/10 [00:00<00:00, 552.06it/s]\n"
     ]
    },
    {
     "name": "stdout",
     "output_type": "stream",
     "text": [
      "Epoch 11/27 - Train loss: 0.0064, Validation loss: 0.0311\n",
      "Early stopper counter incremented from  0  to  1 / 10\n"
     ]
    },
    {
     "name": "stderr",
     "output_type": "stream",
     "text": [
      "Training: 100%|██████████| 40/40 [00:00<00:00, 142.41it/s]\n",
      "Validation: 100%|██████████| 10/10 [00:00<00:00, 551.99it/s]\n"
     ]
    },
    {
     "name": "stdout",
     "output_type": "stream",
     "text": [
      "Epoch 12/27 - Train loss: 0.0051, Validation loss: 0.0311\n",
      "Early stopper counter incremented from  1  to  2 / 10\n"
     ]
    },
    {
     "name": "stderr",
     "output_type": "stream",
     "text": [
      "Training: 100%|██████████| 40/40 [00:00<00:00, 132.91it/s]\n",
      "Validation: 100%|██████████| 10/10 [00:00<00:00, 558.50it/s]\n"
     ]
    },
    {
     "name": "stdout",
     "output_type": "stream",
     "text": [
      "Epoch 13/27 - Train loss: 0.0042, Validation loss: 0.0312\n",
      "Early stopper counter incremented from  2  to  3 / 10\n"
     ]
    },
    {
     "name": "stderr",
     "output_type": "stream",
     "text": [
      "Training: 100%|██████████| 40/40 [00:00<00:00, 138.35it/s]\n",
      "Validation: 100%|██████████| 10/10 [00:00<00:00, 621.70it/s]\n"
     ]
    },
    {
     "name": "stdout",
     "output_type": "stream",
     "text": [
      "Epoch 14/27 - Train loss: 0.0035, Validation loss: 0.0319\n",
      "Early stopper counter incremented from  3  to  4 / 10\n"
     ]
    },
    {
     "name": "stderr",
     "output_type": "stream",
     "text": [
      "Training: 100%|██████████| 40/40 [00:00<00:00, 133.24it/s]\n",
      "Validation: 100%|██████████| 10/10 [00:00<00:00, 601.62it/s]\n"
     ]
    },
    {
     "name": "stdout",
     "output_type": "stream",
     "text": [
      "Epoch 15/27 - Train loss: 0.0030, Validation loss: 0.0315\n",
      "Early stopper counter incremented from  4  to  5 / 10\n"
     ]
    },
    {
     "name": "stderr",
     "output_type": "stream",
     "text": [
      "Training: 100%|██████████| 40/40 [00:00<00:00, 91.75it/s] \n",
      "Validation: 100%|██████████| 10/10 [00:00<00:00, 537.52it/s]\n"
     ]
    },
    {
     "name": "stdout",
     "output_type": "stream",
     "text": [
      "Epoch 16/27 - Train loss: 0.0026, Validation loss: 0.0323\n",
      "Early stopper counter incremented from  5  to  6 / 10\n"
     ]
    },
    {
     "name": "stderr",
     "output_type": "stream",
     "text": [
      "Training: 100%|██████████| 40/40 [00:00<00:00, 135.21it/s]\n",
      "Validation: 100%|██████████| 10/10 [00:00<00:00, 585.27it/s]\n"
     ]
    },
    {
     "name": "stdout",
     "output_type": "stream",
     "text": [
      "Epoch 17/27 - Train loss: 0.0022, Validation loss: 0.0325\n",
      "Early stopper counter incremented from  6  to  7 / 10\n"
     ]
    },
    {
     "name": "stderr",
     "output_type": "stream",
     "text": [
      "Training: 100%|██████████| 40/40 [00:00<00:00, 136.11it/s]\n",
      "Validation: 100%|██████████| 10/10 [00:00<00:00, 520.89it/s]\n"
     ]
    },
    {
     "name": "stdout",
     "output_type": "stream",
     "text": [
      "Epoch 18/27 - Train loss: 0.0021, Validation loss: 0.0326\n",
      "Early stopper counter incremented from  7  to  8 / 10\n"
     ]
    },
    {
     "name": "stderr",
     "output_type": "stream",
     "text": [
      "Training: 100%|██████████| 40/40 [00:00<00:00, 138.84it/s]\n",
      "Validation: 100%|██████████| 10/10 [00:00<00:00, 490.03it/s]\n"
     ]
    },
    {
     "name": "stdout",
     "output_type": "stream",
     "text": [
      "Epoch 19/27 - Train loss: 0.0021, Validation loss: 0.0327\n",
      "Early stopper counter incremented from  8  to  9 / 10\n"
     ]
    },
    {
     "name": "stderr",
     "output_type": "stream",
     "text": [
      "Training: 100%|██████████| 40/40 [00:00<00:00, 126.42it/s]\n",
      "Validation: 100%|██████████| 10/10 [00:00<00:00, 512.68it/s]"
     ]
    },
    {
     "name": "stdout",
     "output_type": "stream",
     "text": [
      "Epoch 20/27 - Train loss: 0.0020, Validation loss: 0.0329\n",
      "Early stopper counter incremented from  9  to  10 / 10\n",
      "Early stopping triggered at epoch 20\n"
     ]
    },
    {
     "name": "stderr",
     "output_type": "stream",
     "text": [
      "\n"
     ]
    }
   ],
   "source": [
    "def train_model(model, dataloader_train, dataloader_val, criterion, optimizer, device):\n",
    "    train_losses = []\n",
    "    val_losses = []\n",
    "    val_loss = train_loss = 0.0\n",
    "    early_stopper = EarlyStopping(patience=DEA_CONFIG[\"EarlyStoppingPatience\"], min_delta=DEA_CONFIG[\"MinDelta\"], verbose=GLOBAL_CONFIG[\"Verbose\"])\n",
    "\n",
    "    for epoch in range(DEA_CONFIG[\"Epochs\"]):\n",
    "        # Training phase\n",
    "        model.train()\n",
    "        train_loss = run_epoch(\n",
    "            model, dataloader_train, criterion, optimizer,\n",
    "            device, is_training=True, verbose=GLOBAL_CONFIG[\"Verbose\"], scheduler=scheduler\n",
    "        )\n",
    "        train_losses.append(train_loss)\n",
    "\n",
    "        # Validation phase\n",
    "        model.eval()\n",
    "        val_loss = run_epoch(\n",
    "            model, dataloader_val, criterion, optimizer,\n",
    "            device, is_training=False, verbose=GLOBAL_CONFIG[\"Verbose\"], scheduler=scheduler\n",
    "        )\n",
    "        if isinstance(scheduler, torch.optim.lr_scheduler.ReduceLROnPlateau):\n",
    "            scheduler.step(val_loss)\n",
    "        val_losses.append(val_loss)\n",
    "\n",
    "        # Logging\n",
    "        log_metrics(train_loss, val_loss, epoch, DEA_CONFIG[\"Epochs\"])\n",
    "\n",
    "        # Early stopping check\n",
    "        if early_stopper(val_loss):\n",
    "            print(f\"Early stopping triggered at epoch {epoch + 1}\")\n",
    "            break\n",
    "\n",
    "    return train_losses, val_losses\n",
    "\n",
    "def log_metrics(train_loss, val_loss, epoch, total_epochs):\n",
    "    print(f\"Epoch {epoch + 1}/{total_epochs} - \"\n",
    "          f\"Train loss: {train_loss:.4f}, \"\n",
    "          f\"Validation loss: {val_loss:.4f}\")\n",
    "    tb_writer.add_scalar(\"Loss/train\", train_loss, epoch + 1)\n",
    "    tb_writer.add_scalar(\"Loss/validation\", val_loss, epoch + 1)\n",
    "\n",
    "train_losses, val_losses = train_model(\n",
    "    model, dataloader_train, dataloader_val,\n",
    "    criterion, optimizer, compute_device\n",
    "    )"
   ]
  },
  {
   "cell_type": "markdown",
   "metadata": {},
   "source": [
    "## Loss Visualization over Epochs\n",
    "\n",
    "This code snippet generates a plot to visualize the **training loss** and **validation loss** across epochs. It's useful for tracking model performance during training and evaluating if overfitting is occurring (i.e., when validation loss starts increasing while training loss continues to decrease).\n",
    "\n",
    "### Key Elements:\n",
    "1. **Plotting the Losses**: \n",
    "   - The `train_losses` and `val_losses` are plotted over the epochs. \n",
    "   - The **blue line** represents the training loss, and the **red line** represents the validation loss.\n",
    "\n",
    "2. **Legend**: \n",
    "   - A legend is added to distinguish between training and validation losses.\n",
    "\n",
    "3. **Title and Labels**: \n",
    "   - The plot is titled \"Training and Validation Loss over Epochs\" for context.\n",
    "   - **X-axis** represents the epoch number, and **Y-axis** represents the loss value.\n"
   ]
  },
  {
   "cell_type": "code",
   "execution_count": 10,
   "metadata": {},
   "outputs": [
    {
     "data": {
      "image/png": "[encoded data removed]",
      "text/plain": [
       "<Figure size 640x480 with 1 Axes>"
      ]
     },
     "metadata": {},
     "output_type": "display_data"
    }
   ],
   "source": [
    "# Plot the training and validation losses over epochs\n",
    "plt.plot(train_losses, label='Training loss', color='blue')\n",
    "plt.plot(val_losses, label='Validation loss', color='red')\n",
    "\n",
    "# Adding a legend to the plot\n",
    "plt.legend()\n",
    "\n",
    "# Setting the title and labels for clarity\n",
    "plt.title(\"Training and Validation Loss over Epochs\")\n",
    "plt.xlabel(\"Epochs\")\n",
    "plt.ylabel(\"Loss\")\n",
    "\n",
    "# Show the plot\n",
    "plt.show()"
   ]
  },
  {
   "cell_type": "markdown",
   "metadata": {},
   "source": [
    "## Model Inference and 2-Gram Comparison\n",
    "\n",
    "This code performs inference on the test data and compares the predicted 2-grams with the actual 2-grams, providing a performance evaluation based on the **Dice similarity coefficient**.\n",
    "\n",
    "### Key Steps:\n",
    "\n",
    "1. **Prepare for Evaluation**:\n",
    "   - The model is switched to **evaluation mode** (`model.eval()`), ensuring no gradient computation.\n",
    "   \n",
    "2. **Thresholding**:\n",
    "   - A threshold (`DEA_CONFIG[\"FilterThreshold\"]`) is applied to filter out low-probability predictions, retaining only the most confident predictions.\n",
    "\n",
    "3. **Inference and 2-Gram Scoring**:\n",
    "   - The model is applied to the batch, and the **logits** are converted into probabilities using the **sigmoid function**.\n",
    "   - The probabilities are then mapped to **2-gram scores**, and scores below the threshold are discarded.\n",
    "\n",
    "4. **Reconstructing Words**:\n",
    "   - For each sample in the batch, **2-grams** are reconstructed into words based on the filtered scores.\n",
    "\n",
    "5. **Performance Metrics**:\n",
    "   - The actual 2-grams (from the test dataset) are compared with the predicted 2-grams, and the **Dice similarity coefficient** is calculated for each sample.\n",
    "\n",
    "### Result:\n",
    "- The code generates a list `combined_results_performance`, which contains a detailed comparison for each UID, including:\n",
    "  - **Actual 2-grams** (from the test data)\n",
    "  - **Predicted 2-grams** (from the model)\n",
    "  - **Dice similarity** score indicating how similar the actual and predicted 2-grams are."
   ]
  },
  {
   "cell_type": "code",
   "execution_count": 11,
   "metadata": {},
   "outputs": [
    {
     "data": {
      "application/vnd.jupyter.widget-view+json": {
       "model_id": "6b51b95d66d54cc9803c06e0ec665904",
       "version_major": 2,
       "version_minor": 0
      },
      "text/plain": [
       "Test loop:   0%|          | 0/13 [00:00<?, ?it/s]"
      ]
     },
     "metadata": {},
     "output_type": "display_data"
    },
    {
     "name": "stdout",
     "output_type": "stream",
     "text": [
      "[{'uid': '93383', 'actual_two_grams': ['ab', 'as', 'ba', 'ia', 'lv', 'ss', 'sy', 'vi', 'yl', 's9', '19', '88', '91', '98', '99'], 'filtered_two_grams': ['as', 'ia', '19', '91', '98'], 'reconstructed_words': ['as', 'ia', '191', '98']}, {'uid': '68295', 'actual_two_grams': ['au', 'en', 'er', 'la', 'lu', 'nl', 'ra', 're', 'ue', 'ur', 'a5', '19', '29', '52', '81', '91', '98'], 'filtered_two_grams': ['au', 'en', 'la', 'ra', 're', 'ur', '19', '29', '91', '92', '98'], 'reconstructed_words': ['aura', 'en', 'la', 're', '191', '292', '98']}, {'uid': '88712', 'actual_two_grams': ['ar', 'br', 'de', 'eb', 'ed', 'en', 'et', 'ge', 'ja', 'ng', 'on', 're', 'so', 'ts', 'n9', '19', '21', '22', '60', '92', '96'], 'filtered_two_grams': ['de', 'en', 'on', 'so', '19', '96'], 'reconstructed_words': ['den', 'on', 'so', '196']}, {'uid': '72014', 'actual_two_grams': ['av', 'da', 'dw', 'hi', 'id', 'it', 'te', 'vi', 'wh', 'e4', '19', '27', '42', '71', '73', '97'], 'filtered_two_grams': ['av', 'da', 'id', 'te', 'vi', '19', '27', '71', '97'], 'reconstructed_words': ['avida', 'te', '1971', '27']}, {'uid': '8446', 'actual_two_grams': ['gp', 'hi', 'in', 'ip', 'ir', 'ng', 'ph', 'pp', 'ps', 'rv', 'vi', 's1', '01', '10', '11', '19', '85', '98'], 'filtered_two_grams': ['hi', 'in', 'ng', '10', '19', '98'], 'reconstructed_words': ['hing', '10', '198']}, {'uid': '23513', 'actual_two_grams': ['be', 'co', 'er', 'il', 'lb', 'me', 'os', 'rt', 'sm', 'tc', 'wi', 'e8', '19', '42', '71', '87', '94'], 'filtered_two_grams': ['am', 'be', 'er', 'il', '19', '71', '94'], 'reconstructed_words': ['am', 'ber', 'il', '194', '71']}, {'uid': '96819', 'actual_two_grams': ['an', 'br', 'er', 'ey', 'je', 'le', 'nt', 'ra', 'rr', 'ry', 'tl', 'yb', 'y8', '19', '31', '66', '83', '96'], 'filtered_two_grams': ['an', 'er', 'ey', 'le', 'ra', 'ry', '19', '96'], 'reconstructed_words': ['an', 'era', 'ey', 'le', 'ry', '196']}, {'uid': '94663', 'actual_two_grams': ['ar', 'en', 'et', 'ga', 'la', 'ma', 're', 'rg', 'rs', 'se', 'tl', 'n2', '19', '29', '91', '92', '99'], 'filtered_two_grams': ['ar', 'en', 'et', 'ga', 'la', 'ma', 're', '19', '91', '92', '99'], 'reconstructed_words': ['aren', 'et', 'ga', 'la', 'ma', '191', '92', '99']}, {'uid': '31765', 'actual_two_grams': ['be', 'el', 'ew', 'is', 'le', 'll', 'sb', 'wi', 'l5', '19', '51', '55', '77', '97'], 'filtered_two_grams': ['el', 'is', 'le', 'll', '19', '51', '97'], 'reconstructed_words': ['ele', 'is', 'll', '197', '51']}, {'uid': '50587', 'actual_two_grams': ['ab', 'ar', 'ba', 'br', 'da', 'en', 'es', 'nd', 'ne', 're', 'rn', 's1', '11', '12', '19', '21', '46', '94'], 'filtered_two_grams': ['ar', 'da', 'en', 'es', 'nd', 're', 's1', '11', '12', '19'], 'reconstructed_words': ['arenda', 'es112', '19']}, {'uid': '55980', 'actual_two_grams': ['an', 'dr', 'ew', 'fr', 'nd', 'os', 're', 'ro', 'st', 'wf', 't4', '19', '21', '22', '42', '56', '95'], 'filtered_two_grams': ['an', 'dr', 'ew', 'nd', 're', 'ro', '19', '21', '22', '42', '95'], 'reconstructed_words': ['andrew', 'ro', '195', '21', '22', '42']}, {'uid': '24062', 'actual_two_grams': ['am', 'en', 'ev', 'ha', 'in', 'li', 'ml', 'nh', 'st', 'te', 've', 'n1', '12', '18', '19', '21', '49', '81', '94'], 'filtered_two_grams': ['am', 'en', 'ev', 'in', 'li', 'st', 'te', 've', '12', '19', '94'], 'reconstructed_words': ['am', 'en', 'eve', 'in', 'li', 'ste', '12', '194']}, {'uid': '29690', 'actual_two_grams': ['af', 'do', 'ff', 'fo', 'hy', 'or', 'ot', 'rd', 'ro', 'st', 'ta', 'th', 'ys', 'd8', '19', '61', '86', '89', '98'], 'filtered_two_grams': ['do', 'or', '19', '98'], 'reconstructed_words': ['dor', '198']}, {'uid': '66449', 'actual_two_grams': ['an', 'be', 'et', 'in', 'ma', 'nm', 'tt', 'ty', 'yi', 'n1', '00', '01', '12', '20', '26', '62'], 'filtered_two_grams': ['an', 'be', 'et', 'in', 'ma', 'tt', 'n1', '00', '12', '20', '26'], 'reconstructed_words': ['an1200', 'bett', 'in', 'ma', '26']}, {'uid': '19764', 'actual_two_grams': ['ar', 'ea', 'kl', 'le', 'ma', 'rk', 'a6', '01', '10', '19', '61', '95', '99'], 'filtered_two_grams': ['ar', 'ea', 'le', 'ma', 'rk', '10', '19', '61', '95', '99'], 'reconstructed_words': ['ark', 'ea', 'le', 'ma', '10', '195', '61', '99']}, {'uid': '81604', 'actual_two_grams': ['ar', 'ca', 'cc', 'er', 'es', 'ey', 'le', 'mc', 'rv', 'sl', 've', 'we', 'ym', 'r8', '19', '29', '49', '82', '91', '94'], 'filtered_two_grams': ['ca', 'er', 'le', '19', '29', '91', '94'], 'reconstructed_words': ['ca', 'er', 'le', '191', '294']}, {'uid': '12636', 'actual_two_grams': ['ac', 'cq', 'ej', 'el', 'es', 'in', 'ja', 'jo', 'li', 'ne', 'on', 'qu', 'ue', 's1', '11', '12', '19', '21', '22', '41', '94'], 'filtered_two_grams': ['ac', 'el', 'es', 'in', 'ja', 'jo', 'li', 'ne', 'on', 's1', '11', '12', '19', '21', '94'], 'reconstructed_words': ['ac', 'elines112194', 'ja', 'jon']}, {'uid': '42844', 'actual_two_grams': ['dd', 'di', 'ed', 'ew', 'hi', 'ie', 'it', 'te', 'wh', 'e8', '19', '29', '60', '82', '91', '96'], 'filtered_two_grams': ['di', 'ed', 'hi', 'it', '19', '81', '91', '96'], 'reconstructed_words': ['dit', 'ed', 'hi', '191', '81', '96']}, {'uid': '45776', 'actual_two_grams': ['an', 'ar', 'gr', 'io', 'ma', 'ng', 'nt', 'on', 'ra', 'ri', 't9', '19', '21', '22', '72', '92', '97'], 'filtered_two_grams': ['an', 'ar', 'ma', 'on', '19', '21', '22', '97'], 'reconstructed_words': ['an', 'ar', 'ma', 'on', '197', '21', '22']}, {'uid': '22536', 'actual_two_grams': ['ej', 'en', 'hn', 'ie', 'je', 'jo', 'ni', 'nn', 'ns', 'oh', 'on', 'so', 'n1', '00', '12', '20', '29', '92'], 'filtered_two_grams': ['en', 'hn', 'ie', 'je', 'jo', 'ni', 'nn', 'ns', 'oh', 'on', 'so', 'n1', '00', '20', '29', '91'], 'reconstructed_words': ['enie', 'hnnsoh', 'je', 'jon1', '00', '20', '291']}, {'uid': '58761', 'actual_two_grams': ['bc', 'bo', 'co', 'el', 'll', 'ob', 'or', 're', 'rr', 'l1', '06', '10', '19', '61', '80', '98'], 'filtered_two_grams': ['el', 'll', 'or', 're', 'rr', '01', '10', '19', '61', '96'], 'reconstructed_words': ['ell', 'ore', 'rr', '010', '1961']}, {'uid': '57159', 'actual_two_grams': ['an', 'es', 'fr', 'ge', 'hu', 'kh', 'nk', 'ra', 'ug', 's1', '11', '19', '87', '98'], 'filtered_two_grams': ['an', 'es', 'fr', 'ra', 's1', '11', '19', '98'], 'reconstructed_words': ['an', 'es1198', 'fra']}, {'uid': '34570', 'actual_two_grams': ['al', 'an', 'fl', 'la', 'ly', 'nf', 'y9', '19', '29', '42', '91', '92', '94'], 'filtered_two_grams': ['al', 'an', 'la', '19', '29', '42', '91', '94'], 'reconstructed_words': ['alan', '191', '2942']}, {'uid': '46767', 'actual_two_grams': ['ar', 'aw', 'ch', 'cr', 'dc', 'fo', 'ha', 'ic', 'or', 'ra', 'rd', 'ri', 'wf', 'd3', '12', '19', '21', '31', '94', '99'], 'filtered_two_grams': ['ar', 'ch', 'ha', 'ic', 'or', 'rd', 'ri', '12', '19', '21', '94', '99'], 'reconstructed_words': ['ard', 'cha', 'ic', 'ori', '12194', '99']}, {'uid': '11704', 'actual_two_grams': ['al', 'au', 'dl', 'do', 'er', 'la', 'ld', 'na', 'on', 'ue', 'r9', '19', '31', '92', '93', '99'], 'filtered_two_grams': ['al', 'do', 'er', 'la', 'ld', 'na', 'on', '19', '31', '91', '99'], 'reconstructed_words': ['ala', 'dona', 'er', 'ld', '191', '31', '99']}, {'uid': '7242', 'actual_two_grams': ['ak', 'ba', 'eb', 'eo', 'er', 'ge', 'ke', 'or', 'rg', 'r3', '15', '19', '31', '47', '51', '94'], 'filtered_two_grams': ['ba', 'er', 'ge', 'ke', 'or', 'rg', 'r3', '15', '19', '51', '94'], 'reconstructed_words': ['ba', 'erge', 'ke', 'or3', '15194']}, {'uid': '65375', 'actual_two_grams': ['an', 'ao', 'de', 'en', 'it', 'ju', 'ni', 'od', 'ta', 'ua', 'n1', '13', '19', '31', '49', '94'], 'filtered_two_grams': ['an', 'en', '19', '31', '94'], 'reconstructed_words': ['an', 'en', '194', '31']}, {'uid': '6445', 'actual_two_grams': ['bs', 'co', 'di', 'hc', 'it', 'ju', 'mb', 'om', 'th', 'ud', 's7', '19', '24', '39', '41', '72', '93'], 'filtered_two_grams': ['it', 'th', '19', '41', '93'], 'reconstructed_words': ['ith', '193', '41']}, {'uid': '79403', 'actual_two_grams': ['ac', 'cs', 'de', 'er', 'is', 'ny', 'sa', 'sn', 'ss', 'yd', 'r7', '19', '23', '31', '50', '72', '95'], 'filtered_two_grams': ['de', 'er', 'is', 'sa', '19', '31', '95'], 'reconstructed_words': ['der', 'isa', '195', '31']}, {'uid': '62708', 'actual_two_grams': ['ah', 'ev', 'gs', 'hu', 'in', 'li', 'ne', 'ng', 'ul', 'va', 's3', '13', '19', '31', '84', '98'], 'filtered_two_grams': ['in', 'li', 'ne', 'ng', 'ul', 'va', '13', '19', '31', '98'], 'reconstructed_words': ['ine', 'li', 'ng', 'ul', 'va', '13198']}, {'uid': '90446', 'actual_two_grams': ['an', 'be', 'er', 'nr', 'ob', 'ro', 'rt', 'ry', 'ts', 'ya', 's8', '19', '81', '91', '96', '99'], 'filtered_two_grams': ['an', 'er', 'ob', 'ro', 'rt', 'ry', '19', '96', '99'], 'reconstructed_words': ['an', 'erob', 'rt', 'ry', '196', '99']}, {'uid': '88030', 'actual_two_grams': ['an', 'da', 'el', 'er', 'ho', 'ie', 'lh', 'ni', 'ow', 'ry', 'we', 'y9', '12', '19', '21', '91', '92', '99'], 'filtered_two_grams': ['an', 'da', 'el', 'er', 'ie', 'ni', '12', '19', '21', '91', '99'], 'reconstructed_words': ['aniel', 'da', 'er', '12191', '99']}, {'uid': '36896', 'actual_two_grams': ['ah', 'de', 'di', 'en', 'er', 'he', 'in', 'iv', 'na', 'nd', 'on', 'rs', 'so', 'vi', 'n4', '00', '03', '19', '20', '41', '92'], 'filtered_two_grams': ['de', 'en', 'er', 'nd', 'on', 'rs', 'so', '00', '19', '20'], 'reconstructed_words': ['dend', 'erson', '00', '19', '20']}, {'uid': '70517', 'actual_two_grams': ['am', 'ar', 'br', 'ce', 'cl', 'eg', 'el', 'en', 'ga', 'la', 'll', 'mb', 'nc', 're', 'l6', '11', '19', '21', '62', '85', '98'], 'filtered_two_grams': ['am', 'ar', 'ce', 'en', 'la', 'll', 'nc', 're', '11', '19', '98'], 'reconstructed_words': ['am', 'arence', 'la', 'll', '1198']}, {'uid': '66027', 'actual_two_grams': ['dl', 'en', 'ep', 'ey', 'gr', 'he', 'id', 'le', 'ng', 'ph', 'ri', 'st', 'te', 'y5', '13', '19', '31', '51', '70', '97'], 'filtered_two_grams': ['en', 'ep', 'ey', 'he', 'le', 'ph', 'ri', 'st', '13', '19', '31', '70', '97'], 'reconstructed_words': ['en', 'ephey', 'le', 'ri', 'st', '131970']}, {'uid': '34408', 'actual_two_grams': ['ab', 'an', 'be', 'el', 'et', 'ge', 'la', 'ng', 'ts', 'tt', 's3', '00', '20', '29', '32', '92'], 'filtered_two_grams': ['ab', 'an', 'be', 'el', 'et', 'ge', 'la', 'tt', '00', '20', '31', '91'], 'reconstructed_words': ['abelan', 'ett', 'ge', '00', '20', '31', '91']}, {'uid': '76922', 'actual_two_grams': ['ar', 'dl', 'do', 'dw', 'ed', 'le', 'ou', 'rd', 'ux', 'wa', 'x1', '00', '02', '03', '10', '20', '22'], 'filtered_two_grams': ['ar', 'do', 'rd', 'wa', '00', '01', '02', '10', '20', '22'], 'reconstructed_words': ['ardo', 'wa', '001020', '22']}, {'uid': '81600', 'actual_two_grams': ['an', 'ea', 'em', 'er', 'je', 'me', 'my', 'ns', 're', 'ym', 's1', '11', '12', '19', '21', '22', '37', '93'], 'filtered_two_grams': ['an', 'ea', 'er', 's1', '11', '12', '19'], 'reconstructed_words': ['an', 'ea', 'er', 's112', '19']}, {'uid': '38865', 'actual_two_grams': ['de', 'en', 'hi', 'il', 'ip', 'jo', 'li', 'll', 'or', 'ph', 'pj', 'rd', 'n4', '11', '19', '41', '73', '97'], 'filtered_two_grams': ['en', 'il', 'li', 'll', 'ph', 'rd', '11', '19', '97'], 'reconstructed_words': ['en', 'ili', 'll', 'ph', 'rd', '1197']}, {'uid': '41341', 'actual_two_grams': ['ah', 'bo', 'de', 'eb', 'ho', 'ht', 'mp', 'om', 'on', 'or', 'ps', 'ra', 'so', 'th', 'n9', '11', '19', '41', '91', '94'], 'filtered_two_grams': ['ah', 'bo', 'de', 'eb', 'ho', 'on', 'or', 'ra', 'so', 'th', '11', '19', '91', '94'], 'reconstructed_words': ['ahon', 'bora', 'deb', 'so', 'th', '1191', '94']}, {'uid': '68866', 'actual_two_grams': ['at', 'av', 'da', 'dm', 'id', 'ma', 'ta', 'vi', 'a4', '19', '27', '42', '71', '97'], 'filtered_two_grams': ['av', 'da', 'id', 'ma', 'vi', '19', '41', '71', '97'], 'reconstructed_words': ['avida', 'ma', '1971', '41']}, {'uid': '78487', 'actual_two_grams': ['aa', 'al', 'am', 'an', 'av', 'da', 'll', 'lo', 'ma', 'nd', 'ne', 'on', 'va', 'e7', '19', '24', '41', '66', '72', '96'], 'filtered_two_grams': ['al', 'an', 'da', 'll', 'ma', 'nd', 'on', '19', '71'], 'reconstructed_words': ['all', 'anda', 'ma', 'on', '19', '71']}, {'uid': '70108', 'actual_two_grams': ['an', 'as', 'ca', 'hn', 'jo', 'nc', 'no', 'oh', 'ov', 'sa', 'va', 'a3', '19', '34', '41', '90', '99'], 'filtered_two_grams': ['an', 'as', 'jo', 'sa', '19', '31', '99'], 'reconstructed_words': ['an', 'asa', 'jo', '199', '31']}, {'uid': '78943', 'actual_two_grams': ['ag', 'ba', 'ce', 'eb', 'ey', 'gl', 'jo', 'le', 'oy', 'yc', 'y7', '19', '29', '51', '72', '91', '95'], 'filtered_two_grams': ['ey', 'jo', 'le', '19', '29', '91', '95'], 'reconstructed_words': ['ey', 'jo', 'le', '191', '295']}, {'uid': '885', 'actual_two_grams': ['al', 'an', 'de', 'el', 'es', 'ld', 'lv', 'ma', 'nu', 'ue', 'va', 's1', '11', '12', '19', '29', '44', '91', '94'], 'filtered_two_grams': ['al', 'an', 'el', 'ma', '11', '12', '19', '29', '91', '94'], 'reconstructed_words': ['al', 'an', 'el', 'ma', '1129194']}, {'uid': '91004', 'actual_two_grams': ['ar', 'av', 'da', 'ed', 'en', 'is', 'le', 'ne', 'rl', 'vi', 's1', '00', '02', '12', '20', '21', '22'], 'filtered_two_grams': ['ar', 'av', 'da', 'ed', 'en', 'is', 'le', 'ne', 'vi', 's1', '00', '02', '12', '20', '21', '22'], 'reconstructed_words': ['ar', 'avis120021', 'da', 'ed', 'ene', 'le', '22']}, {'uid': '85676', 'actual_two_grams': ['ac', 'ar', 'ca', 'ce', 'ey', 'il', 'll', 'lo', 'ri', 'rr', 'st', 'ta', 'yc', 'o4', '19', '48', '81', '83', '98'], 'filtered_two_grams': ['ar', 'll', 'lo', 'ri', '19', '81', '98'], 'reconstructed_words': ['ari', 'llo', '1981']}, {'uid': '41681', 'actual_two_grams': ['ad', 'an', 'ck', 'da', 'di', 'ic', 'is', 'ki', 'la', 'nd', 'ol', 'on', 'so', 'yo', 'n8', '19', '31', '69', '83', '96'], 'filtered_two_grams': ['an', 'ck', 'la', 'nd', 'on', '19', '31', '96'], 'reconstructed_words': ['and', 'ck', 'la', 'on', '196', '31']}, {'uid': '37287', 'actual_two_grams': ['ch', 'ep', 'hn', 'ho', 'ic', 'jo', 'ls', 'ni', 'ol', 'os', 'ph', 'se', 's5', '14', '19', '41', '51', '76', '97'], 'filtered_two_grams': ['ch', 'ep', 'jo', 'ls', 'ni', 'os', 'ph', 'se', '19', '51', '97'], 'reconstructed_words': ['ch', 'eph', 'jose', 'ls', 'ni', '197', '51']}, {'uid': '86017', 'actual_two_grams': ['an', 'at', 'de', 'ea', 'el', 'll', 'na', 're', 'ty', 'yr', 'l1', '07', '10', '19', '53', '71', '95'], 'filtered_two_grams': ['an', 'de', 'ea', 'el', 'll', '10', '19', '71', '95'], 'reconstructed_words': ['an', 'dea', 'ell', '10', '195', '71']}, {'uid': '44784', 'actual_two_grams': ['ac', 'al', 'ce', 'ck', 'es', 'ic', 'ks', 'li', 'st', 'ta', 's4', '19', '21', '42', '65', '96'], 'filtered_two_grams': ['ac', 'ce', 'ck', 'es', 'st', '19', '96'], 'reconstructed_words': ['acest', 'ck', '196']}, {'uid': '73665', 'actual_two_grams': ['ac', 'bj', 'co', 'es', 'ja', 'jo', 'ne', 'ob', 'on', 's2', '19', '26', '37', '61', '93'], 'filtered_two_grams': ['ac', 'co', 'es', 'ja', 'jo', 'ne', 'on', '19', '61', '93'], 'reconstructed_words': ['acones', 'ja', 'jo', '193', '61']}, {'uid': '20671', 'actual_two_grams': ['at', 'er', 'in', 'ki', 'ns', 'rr', 'ry', 'te', 'tk', 'wa', 'yw', 's1', '12', '19', '21', '22', '66', '96'], 'filtered_two_grams': ['er', 'in', 'ry', '12', '19', '21', '22', '66', '96'], 'reconstructed_words': ['ery', 'in', '121966', '22']}, {'uid': '13716', 'actual_two_grams': ['al', 'br', 'dg', 'et', 'ge', 'id', 'lt', 'on', 'ri', 'to', 'tw', 'wa', 'n1', '11', '15', '19', '51', '54', '95'], 'filtered_two_grams': ['al', 'on', 'ri', 'to', 'n1', '19', '51', '95'], 'reconstructed_words': ['al', 'on1951', 'ri', 'to']}, {'uid': '83691', 'actual_two_grams': ['aw', 'cy', 'hi', 'ia', 'il', 'ls', 'nt', 'on', 'so', 'th', 'wi', 'yn', 'n1', '11', '19', '46', '94'], 'filtered_two_grams': ['il', 'on', 'so', 'wi', 'n1', '11', '19', '94'], 'reconstructed_words': ['il', 'on1194', 'so', 'wi']}, {'uid': '85617', 'actual_two_grams': ['av', 'aw', 'da', 'dl', 'id', 'la', 'on', 'so', 'vi', 'ws', 'n7', '19', '51', '75', '91', '99'], 'filtered_two_grams': ['av', 'da', 'id', 'la', 'on', 'so', 'vi', '19', '71', '99'], 'reconstructed_words': ['avida', 'la', 'on', 'so', '199', '71']}, {'uid': '45540', 'actual_two_grams': ['av', 'da', 'dl', 'ew', 'id', 'is', 'le', 'vi', 'wi', 's6', '13', '19', '31', '61', '70', '97'], 'filtered_two_grams': ['av', 'da', 'id', 'is', 'le', 'vi', '13', '19', '31', '97'], 'reconstructed_words': ['avida', 'is', 'le', '13197']}, {'uid': '29681', 'actual_two_grams': ['am', 'el', 'll', 'lp', 'mu', 'ow', 'po', 'sa', 'ue', 'we', 'l2', '11', '19', '21', '94', '99'], 'filtered_two_grams': ['am', 'el', 'll', 'mu', 'sa', '11', '19', '21', '94'], 'reconstructed_words': ['amu', 'ell', 'sa', '1194', '21']}, {'uid': '63022', 'actual_two_grams': ['au', 'co', 'er', 'lc', 'os', 'pa', 'pe', 'sp', 'ul', 'r6', '19', '61', '69', '91', '96'], 'filtered_two_grams': ['au', 'er', 'pa', 'ul', '19', '61', '96'], 'reconstructed_words': ['aul', 'er', 'pa', '1961']}, {'uid': '60333', 'actual_two_grams': ['ar', 'at', 'ca', 'ew', 'he', 'lm', 'ma', 'ol', 'ro', 'th', 'tt', 'ws', 's1', '12', '19', '21', '45', '91', '94'], 'filtered_two_grams': ['ar', 'at', 'ew', 'he', 'ma', 'ro', 'th', 'tt', '12', '19', '94'], 'reconstructed_words': ['aro', 'athew', 'ma', 'tt', '12', '194']}, {'uid': '67990', 'actual_two_grams': ['ar', 'br', 'ea', 'it', 'lb', 'on', 'pe', 'ri', 'rl', 'to', 'tt', 'n6', '19', '21', '53', '62', '95'], 'filtered_two_grams': ['ar', 'on', 'ri', 'to', '19', '95'], 'reconstructed_words': ['ari', 'on', 'to', '195']}, {'uid': '11247', 'actual_two_grams': ['ak', 'an', 'ee', 'en', 'gi', 'ia', 'in', 'ir', 'ke', 'na', 'ni', 'rg', 'vi', 'n3', '19', '29', '32', '59', '91', '95'], 'filtered_two_grams': ['an', 'en', 'gi', 'in', 'ir', 'na', 'rg', 'vi', '19', '95'], 'reconstructed_words': ['ana', 'en', 'gin', 'irg', 'vi', '195']}, {'uid': '3821', 'actual_two_grams': ['ay', 'be', 'do', 'er', 'ha', 'ob', 'oh', 'on', 'ro', 'rt', 'to', 'yd', 'n5', '11', '19', '51', '70', '97'], 'filtered_two_grams': ['be', 'er', 'ha', 'ob', 'on', 'ro', 'rt', 'to', '11', '19', '70', '97'], 'reconstructed_words': ['berob', 'ha', 'on', 'rto', '11970']}, {'uid': '43082', 'actual_two_grams': ['er', 'ez', 'il', 'lo', 'op', 'pe', 'ri', 'rr', 'te', 'z9', '12', '19', '21', '64', '91', '96'], 'filtered_two_grams': ['er', 'il', 'lo', 'op', 'pe', 'ri', 'rr', 'te', '19', '21', '96'], 'reconstructed_words': ['erilope', 'rr', 'te', '196', '21']}, {'uid': '14166', 'actual_two_grams': ['ad', 'am', 'de', 'do', 'el', 'ga', 'ia', 'il', 'lg', 'li', 'll', 'md', 'wi', 'o4', '01', '19', '30', '43', '73', '97'], 'filtered_two_grams': ['am', 'el', 'ia', 'il', 'li', 'll', 'wi', '01', '19', '97'], 'reconstructed_words': ['am', 'elia', 'ill', 'wi', '0197']}, {'uid': '14212', 'actual_two_grams': ['ak', 'do', 'eg', 'ie', 'kr', 'na', 'nn', 'on', 'ri', 'g1', '11', '12', '19', '21', '44', '94'], 'filtered_two_grams': ['ie', 'on', 'ri', '11', '12', '19', '21', '94'], 'reconstructed_words': ['ie', 'on', 'ri', '112194']}, {'uid': '42674', 'actual_two_grams': ['ar', 'ch', 'es', 'ha', 'in', 'le', 'li', 'mo', 'na', 'ol', 'rl', 'sm', 'a1', '12', '19', '27', '38', '71', '93'], 'filtered_two_grams': ['ar', 'ch', 'es', 'ha', 'in', 'le', 'li', 'll', 'rl', '12', '19', '21', '71', '93'], 'reconstructed_words': ['arles', 'cha', 'in', 'li', 'll', '12193', '71']}, {'uid': '80327', 'actual_two_grams': ['as', 'ca', 'hn', 'jo', 'lu', 'ns', 'oh', 'on', 'sj', 'so', 'uc', 'n5', '01', '10', '19', '51', '87', '98'], 'filtered_two_grams': ['as', 'hn', 'jo', 'ns', 'oh', 'on', 'so', '01', '10', '19', '98'], 'reconstructed_words': ['asohns', 'jon', '010', '198']}, {'uid': '35122', 'actual_two_grams': ['ar', 'at', 'ea', 'ew', 'he', 'ma', 'rs', 'sh', 'th', 'tt', 'ws', 's1', '01', '10', '16', '19', '61', '89', '98'], 'filtered_two_grams': ['ar', 'at', 'ew', 'he', 'ma', 'th', 'tt', '10', '16', '19', '61', '89', '98'], 'reconstructed_words': ['ar', 'athew', 'ma', 'tt', '10', '161989']}, {'uid': '85538', 'actual_two_grams': ['ac', 'av', 'ck', 'da', 'dh', 'et', 'ha', 'id', 'ke', 'tt', 'vi', 't6', '19', '31', '63', '70', '97'], 'filtered_two_grams': ['av', 'da', 'ha', 'id', 'ke', 'vi', '13', '19', '31', '97'], 'reconstructed_words': ['avida', 'ha', 'ke', '13197']}, {'uid': '56270', 'actual_two_grams': ['ar', 'dj', 'dw', 'ed', 'hn', 'jo', 'ns', 'oh', 'on', 'rd', 'so', 'wa', 'n2', '11', '19', '21', '22', '60', '96'], 'filtered_two_grams': ['ar', 'hn', 'jo', 'ns', 'oh', 'on', 'rd', 'so', 'wa', 'n2', '11', '19', '21', '22', '96'], 'reconstructed_words': ['ard', 'hnsoh', 'jon21196', 'wa', '22']}, {'uid': '68304', 'actual_two_grams': ['am', 'ar', 'ca', 'en', 'es', 'ja', 'me', 'nj', 'rm', 's6', '13', '19', '31', '61', '70', '97'], 'filtered_two_grams': ['am', 'ar', 'ca', 'en', 'es', 'me', '13', '19', '31', '61', '97'], 'reconstructed_words': ['amen', 'ar', 'ca', 'es', '13197', '61']}, {'uid': '77547', 'actual_two_grams': ['an', 'ch', 'da', 'el', 'he', 'ie', 'it', 'll', 'lm', 'mi', 'ni', 'tc', 'l8', '11', '19', '44', '81', '94'], 'filtered_two_grams': ['an', 'ch', 'da', 'el', 'he', 'ie', 'll', 'mi', 'ni', '11', '19', '81', '94'], 'reconstructed_words': ['aniell', 'che', 'da', 'mi', '1194', '81']}, {'uid': '91751', 'actual_two_grams': ['al', 'ao', 'ea', 'il', 'lm', 'ma', 'ne', 'on', 'vi', 'l3', '16', '19', '31', '61', '96', '99'], 'filtered_two_grams': ['al', 'il', 'lm', 'ma', 'ne', 'on', 'vi', '16', '19', '61', '96', '99'], 'reconstructed_words': ['alma', 'il', 'ne', 'on', 'vi', '16196', '99']}, {'uid': '5435', 'actual_two_grams': ['an', 'at', 'er', 'ha', 'he', 'ka', 'ks', 'nh', 'nk', 'rn', 'th', 's1', '11', '19', '81', '98'], 'filtered_two_grams': ['an', 'at', 'er', 'he', 'ka', 'th', '11', '19', '98'], 'reconstructed_words': ['an', 'ather', 'ka', '1198']}, {'uid': '82543', 'actual_two_grams': ['an', 'ar', 'da', 'et', 'ga', 'ma', 'nt', 're', 'rg', 'td', 't1', '07', '10', '19', '54', '71', '95'], 'filtered_two_grams': ['an', 'ar', 'et', 'ga', 'ma', 're', 'rg', '01', '10', '19', '71', '95'], 'reconstructed_words': ['an', 'aret', 'ga', 'ma', 'rg', '010', '195', '71']}, {'uid': '11834', 'actual_two_grams': ['am', 'bu', 'el', 'es', 'ja', 'll', 'me', 're', 'rr', 'sb', 'ur', 'l1', '01', '10', '12', '19', '21', '83', '98'], 'filtered_two_grams': ['am', 'el', 'es', 'll', 're', 'ur', '12', '19', '21', '98'], 'reconstructed_words': ['am', 'ell', 'es', 're', 'ur', '12198']}, {'uid': '55004', 'actual_two_grams': ['bu', 'db', 'ed', 'fr', 'on', 're', 'rt', 'to', 'ur', 'n5', '01', '10', '19', '51', '59', '95'], 'filtered_two_grams': ['ed', 'on', 're', 'rt', 'to', 'ur', '01', '10', '19', '51', '59', '95'], 'reconstructed_words': ['ed', 'on', 're', 'rto', 'ur', '010', '1951', '59']}, {'uid': '76710', 'actual_two_grams': ['an', 'as', 'er', 'he', 'ho', 'ma', 'nt', 'om', 'rm', 'th', 's1', '11', '12', '19', '28', '38', '81', '93'], 'filtered_two_grams': ['an', 'as', 'er', 'he', 'ho', 'ma', 'th', '11', '19', '28', '81', '93'], 'reconstructed_words': ['an', 'as', 'er', 'he', 'ho', 'ma', 'th', '1193', '281']}, {'uid': '98417', 'actual_two_grams': ['al', 'ch', 'en', 'et', 'gr', 'ha', 'he', 'll', 'nh', 're', 'tc', 'l5', '00', '02', '20', '52'], 'filtered_two_grams': ['al', 'en', 'gr', 'ha', 'he', 'll', 're', '00', '01', '02', '20'], 'reconstructed_words': ['all', 'en', 'gre', 'ha', 'he', '001', '020']}, {'uid': '69208', 'actual_two_grams': ['an', 'en', 'er', 'fe', 'if', 'je', 'ma', 'ni', 'nn', 'no', 'om', 'ro', 'rr', 'o6', '11', '19', '61', '99'], 'filtered_two_grams': ['an', 'en', 'er', 'je', 'ni', 'nn', 'ro', '19', '61', '99'], 'reconstructed_words': ['ani', 'enn', 'ero', 'je', '199', '61']}, {'uid': '47395', 'actual_two_grams': ['al', 'df', 'do', 'er', 'fe', 'gu', 'ld', 'na', 'on', 'rg', 'us', 's9', '01', '19', '20', '74', '92', '97'], 'filtered_two_grams': ['al', 'do', 'er', 'ld', 'na', 'on', '01', '19', '20', '97'], 'reconstructed_words': ['aldona', 'er', '0197', '20']}, {'uid': '76831', 'actual_two_grams': ['co', 'eg', 'es', 'gr', 'in', 'ne', 'nn', 'or', 'ov', 'ri', 'ro', 've', 's3', '11', '19', '31', '33', '52', '95'], 'filtered_two_grams': ['es', 'in', 'ne', 'or', 'ri', '13', '19', '31', '95'], 'reconstructed_words': ['es', 'ine', 'ori', '13195']}, {'uid': '15493', 'actual_two_grams': ['al', 'el', 'lo', 'ls', 'ne', 'nz', 'on', 'so', 'zo', 'n1', '12', '19', '22', '26', '61', '98', '99'], 'filtered_two_grams': ['al', 'el', 'ne', 'on', 'so', 'n1', '12', '19', '22', '26', '61', '98', '99'], 'reconstructed_words': ['al', 'el', 'ne', 'on1226198', 'so', '99']}, {'uid': '78196', 'actual_two_grams': ['an', 'fa', 'ff', 'if', 'ny', 'ta', 'ti', 'yt', 'n4', '14', '19', '41', '96', '99'], 'filtered_two_grams': ['an', '14', '19', '41', '96', '99'], 'reconstructed_words': ['an', '14196', '99']}, {'uid': '43685', 'actual_two_grams': ['el', 'ke', 'ku', 'll', 'ly', 'rt', 'tk', 'ur', 'y1', '11', '12', '19', '25', '51', '57', '95'], 'filtered_two_grams': ['el', 'ke', 'll', 'ur', '11', '19', '51', '95'], 'reconstructed_words': ['ell', 'ke', 'ur', '11951']}, {'uid': '31256', 'actual_two_grams': ['an', 'de', 'ea', 'eo', 'er', 'ge', 'nd', 'on', 'or', 'rg', 'rs', 'so', 'n5', '19', '51', '55', '92', '99'], 'filtered_two_grams': ['an', 'de', 'eo', 'er', 'ge', 'nd', 'on', 'or', 'rg', 'rs', 'so', '19', '51', '92', '99'], 'reconstructed_words': ['andeon', 'erge', 'orso', '192', '51', '99']}, {'uid': '42123', 'actual_two_grams': ['am', 'es', 'hi', 'it', 'ja', 'me', 'sw', 'te', 'wh', 'e1', '00', '01', '15', '20', '52'], 'filtered_two_grams': ['am', 'es', 'ja', 'me', '00', '20', '51'], 'reconstructed_words': ['ames', 'ja', '00', '20', '51']}, {'uid': '68297', 'actual_two_grams': ['ad', 'al', 'da', 'ew', 'gu', 'il', 'ls', 'lu', 'on', 'pe', 'so', 'ua', 'up', 'wi', 'n1', '00', '12', '20', '21', '22'], 'filtered_two_grams': ['al', 'il', 'on', 'so', 'n1', '00', '12', '20', '21', '22'], 'reconstructed_words': ['al', 'il', 'on1200', 'so', '21', '22']}, {'uid': '18844', 'actual_two_grams': ['av', 'da', 'dm', 'er', 'id', 'il', 'le', 'll', 'mi', 'vi', 'r6', '19', '25', '50', '51', '62', '95'], 'filtered_two_grams': ['av', 'da', 'er', 'id', 'il', 'le', 'll', 'vi', '19', '51', '95'], 'reconstructed_words': ['avida', 'er', 'ile', 'll', '1951']}, {'uid': '90900', 'actual_two_grams': ['at', 'ce', 'ee', 'el', 'en', 'ge', 'ic', 'ng', 'pa', 'ri', 'tr', 'l2', '11', '19', '21', '89', '98'], 'filtered_two_grams': ['at', 'ce', 'el', 'en', 'ge', 'ic', 'ng', 'pa', 'ri', 'tr', '11', '19', '21', '98'], 'reconstructed_words': ['atricel', 'enge', 'pa', '1198', '21']}, {'uid': '26766', 'actual_two_grams': ['an', 'da', 'el', 'ie', 'll', 'lm', 'ls', 'ma', 'ni', 'pe', 'sp', 'n9', '19', '29', '84', '91', '92', '98'], 'filtered_two_grams': ['an', 'da', 'el', 'ie', 'll', 'ma', 'ni', '19', '91', '98'], 'reconstructed_words': ['aniell', 'da', 'ma', '191', '98']}, {'uid': '25041', 'actual_two_grams': ['am', 'en', 'ev', 'ia', 'il', 'li', 'll', 'ms', 'ns', 'on', 'so', 'st', 'te', 've', 'wi', 'n1', '12', '19', '28', '78', '81', '97'], 'filtered_two_grams': ['am', 'en', 'ia', 'il', 'li', 'll', 'ns', 'on', 'so', 'st', 've', 'wi', 'n1', '19', '28', '81', '97'], 'reconstructed_words': ['am', 'enson197', 'ia', 'ili', 'll', 'st', 've', 'wi', '281']}, {'uid': '32508', 'actual_two_grams': ['ah', 'ea', 'ew', 'hl', 'is', 'le', 'wi', 's3', '11', '19', '21', '32', '66', '96'], 'filtered_two_grams': ['is', 'le', 'wi', '19', '21', '96'], 'reconstructed_words': ['is', 'le', 'wi', '196', '21']}, {'uid': '17606', 'actual_two_grams': ['ar', 'de', 'en', 'es', 'is', 'ni', 'nn', 'pa', 'rz', 'se', 'sp', 'za', 'a6', '11', '19', '61', '73', '97'], 'filtered_two_grams': ['ar', 'de', 'en', 'es', '11', '19', '97'], 'reconstructed_words': ['ar', 'den', 'es', '1197']}, {'uid': '84890', 'actual_two_grams': ['be', 'er', 'hi', 'it', 'ob', 'ro', 'rt', 'te', 'tw', 'wh', 'e1', '11', '16', '19', '49', '61', '94'], 'filtered_two_grams': ['be', 'er', 'ob', 'ro', 'rt', 'te', '19', '61', '94'], 'reconstructed_words': ['berob', 'rte', '194', '61']}, {'uid': '73037', 'actual_two_grams': ['at', 'es', 'ey', 'ia', 'le', 'or', 'sl', 'to', 'vi', 'we', 'yv', 'r1', '12', '19', '21', '22', '93', '99'], 'filtered_two_grams': ['es', 'ia', 'le', 'or', '12', '19', '21', '22', '99'], 'reconstructed_words': ['es', 'ia', 'le', 'or', '12199', '22']}, {'uid': '48691', 'actual_two_grams': ['ar', 'ch', 'dw', 'en', 'ha', 'ic', 'rd', 're', 'ri', 'rr', 'wa', 'n4', '17', '19', '41', '71', '72', '97'], 'filtered_two_grams': ['ar', 'ch', 'en', 'ha', 'ic', 'rd', 're', 'ri', 'rr', '19', '71', '72', '97'], 'reconstructed_words': ['ard', 'cha', 'en', 'ic', 're', 'ri', 'rr', '1971', '72']}, {'uid': '30463', 'actual_two_grams': ['ar', 'du', 'kd', 'ma', 'nn', 'rk', 'un', 'n4', '15', '19', '41', '51', '59', '95'], 'filtered_two_grams': ['ar', 'ma', 'rk', '19', '41', '51', '95'], 'reconstructed_words': ['ark', 'ma', '1951', '41']}, {'uid': '42624', 'actual_two_grams': ['am', 'fl', 'ly', 'mf', 'nn', 'sa', 'yn', 'n3', '18', '19', '31', '81', '89', '98'], 'filtered_two_grams': ['am', '18', '19', '81', '98'], 'reconstructed_words': ['am', '18198']}, {'uid': '83035', 'actual_two_grams': ['an', 'dl', 'es', 'ey', 'le', 'my', 'nd', 'rt', 'st', 'ta', 'tl', 'yr', 'y4', '18', '19', '41', '51', '81', '95'], 'filtered_two_grams': ['an', 'es', 'ey', 'le', 'st', 'ta', '19', '81', '95'], 'reconstructed_words': ['an', 'esta', 'ey', 'le', '195', '81']}, {'uid': '71943', 'actual_two_grams': ['ar', 'el', 'ke', 'la', 'll', 'ly', 'rr', 'ry', 'yk', 'y9', '17', '19', '71', '72', '91', '97'], 'filtered_two_grams': ['ar', 'el', 'la', 'll', 'ry', '19', '71', '72', '97'], 'reconstructed_words': ['ary', 'ela', 'll', '1971', '72']}, {'uid': '76654', 'actual_two_grams': ['an', 'dy', 'en', 'nd', 'nk', 'sw', 'wa', 'we', 'ys', 'k8', '19', '21', '22', '69', '82', '96'], 'filtered_two_grams': ['an', 'en', 'nd', '19', '22', '81', '96'], 'reconstructed_words': ['and', 'en', '196', '22', '81']}, {'uid': '1237', 'actual_two_grams': ['aa', 'an', 'au', 'dr', 'er', 'nd', 'ra', 'sa', 'ue', 'r1', '02', '10', '19', '24', '41', '74', '97'], 'filtered_two_grams': ['an', 'dr', 'er', 'nd', 'ra', 'sa', '01', '10', '19', '41', '97'], 'reconstructed_words': ['andra', 'er', 'sa', '010', '197', '41']}, {'uid': '85782', 'actual_two_grams': ['an', 'av', 'el', 'ge', 'is', 'li', 'ls', 'ng', 'og', 'sa', 'vo', 'g6', '01', '19', '20', '62', '94', '99'], 'filtered_two_grams': ['an', 'el', 'is', 'li', 'sa', '01', '19', '20', '94'], 'reconstructed_words': ['an', 'elisa', '0194', '20']}, {'uid': '95560', 'actual_two_grams': ['at', 'em', 'il', 'ka', 'ly', 'mi', 'tz', 'yk', 'z7', '11', '19', '54', '71', '95'], 'filtered_two_grams': ['em', 'il', 'mi', '11', '19', '95'], 'reconstructed_words': ['emil', '1195']}, {'uid': '54630', 'actual_two_grams': ['an', 'cm', 'er', 'ga', 'ic', 'mo', 'or', 'rg', 'ri', 'n2', '19', '21', '56', '91', '95'], 'filtered_two_grams': ['an', 'er', 'ga', 'ic', 'or', 'rg', 'ri', '19', '95'], 'reconstructed_words': ['an', 'erga', 'ic', 'ori', '195']}, {'uid': '26139', 'actual_two_grams': ['ay', 'cc', 'cr', 'ct', 'ec', 'he', 'mc', 'or', 'ra', 'rm', 'to', 'y7', '01', '10', '19', '67', '71', '96'], 'filtered_two_grams': ['or', 'ra', '01', '10', '19', '71', '96'], 'reconstructed_words': ['ora', '010', '196', '71']}, {'uid': '93915', 'actual_two_grams': ['ae', 'af', 'ch', 'el', 'fa', 'ic', 'lp', 'op', 'ov', 'po', 'ra', 'vi', 'h1', '11', '13', '19', '31', '62', '96'], 'filtered_two_grams': ['ch', 'el', 'ic', 'ra', '11', '13', '19', '96'], 'reconstructed_words': ['ch', 'el', 'ic', 'ra', '113', '196']}, {'uid': '79838', 'actual_two_grams': ['ee', 'eg', 'en', 'go', 'gr', 'or', 're', 'ry', 'yg', 'n1', '12', '19', '22', '24', '41', '61', '96'], 'filtered_two_grams': ['eg', 'en', 'go', 'gr', 'or', 're', 'ry', '12', '19', '21', '24', '41', '61', '96'], 'reconstructed_words': ['egoren', 'gry', '121961', '241']}, {'uid': '5051', 'actual_two_grams': ['an', 'eh', 'ep', 'er', 'ha', 'he', 'hm', 'ie', 'ma', 'ni', 'ph', 'rs', 'sh', 'st', 'te', 'n8', '19', '28', '81', '82', '83', '98'], 'filtered_two_grams': ['an', 'ep', 'er', 'ha', 'he', 'ie', 'ni', 'ph', 'sh', 'st', 'te', '19', '28', '81', '98'], 'reconstructed_words': ['aniepha', 'er', 'he', 'sh', 'ste', '1981', '28']}, {'uid': '55766', 'actual_two_grams': ['es', 'ge', 'hn', 'jo', 'ns', 'oh', 'rg', 'st', 'tu', 'ur', 's8', '19', '27', '46', '71', '82', '94'], 'filtered_two_grams': ['es', 'hn', 'jo', 'ns', 'oh', 'st', '19', '27', '71', '94'], 'reconstructed_words': ['est', 'hns', 'joh', '194', '271']}, {'uid': '35174', 'actual_two_grams': ['es', 'ip', 'ky', 'ms', 'pe', 'si', 'ym', 's1', '01', '12', '19', '20', '52', '95'], 'filtered_two_grams': ['es', 's1', '01', '19', '20', '52', '95'], 'reconstructed_words': ['es195201']}, {'uid': '14974', 'actual_two_grams': ['aw', 'ch', 'el', 'er', 'es', 'ls', 're', 'sa', 'sc', 'te', 'we', 'h9', '00', '03', '20', '42', '94'], 'filtered_two_grams': ['el', 'er', 'es', 're', 'te', '00', '20'], 'reconstructed_words': ['el', 'eres', 'te', '00', '20']}, {'uid': '35737', 'actual_two_grams': ['af', 'am', 'ar', 'fo', 'ma', 'ot', 'ra', 'ta', 'ti', 'i9', '19', '79', '81', '97', '98'], 'filtered_two_grams': ['am', 'ar', 'ma', '19', '81', '91', '97'], 'reconstructed_words': ['amar', '191', '81', '97']}, {'uid': '41575', 'actual_two_grams': ['am', 'as', 'el', 'ia', 'il', 'li', 'll', 'ma', 'mm', 'se', 'wi', 'i9', '14', '19', '41', '86', '91', '98'], 'filtered_two_grams': ['am', 'el', 'ia', 'il', 'li', 'll', 'mm', 'wi', '19', '41', '98'], 'reconstructed_words': ['amm', 'elia', 'ill', 'wi', '198', '41']}, {'uid': '37552', 'actual_two_grams': ['co', 'fu', 'or', 'rr', 'ru', 'ry', 'sc', 'uf', 'us', 'y1', '12', '19', '25', '51', '93', '99'], 'filtered_two_grams': ['co', 'or', 'ry', '11', '19', '25', '99'], 'reconstructed_words': ['cory', '1199', '25']}, {'uid': '28824', 'actual_two_grams': ['ar', 'be', 'ca', 'cc', 'eb', 'ec', 'ol', 'os', 're', 'ro', 'so', 'l3', '11', '19', '31', '39', '93'], 'filtered_two_grams': ['ar', 'be', 'ca', 'eb', 'ec', 're', 'ro', '11', '19', '31', '93'], 'reconstructed_words': ['arebeca', 'ro', '11931']}, {'uid': '85413', 'actual_two_grams': ['ar', 'dg', 'ed', 'ge', 'la', 'le', 'rr', 'ru', 'ry', 'tl', 'ut', 'yr', 'e6', '14', '19', '41', '61', '84', '98'], 'filtered_two_grams': ['ar', 'le', 'rr', 'ry', '19', '41', '98'], 'reconstructed_words': ['arry', 'le', '198', '41']}, {'uid': '66514', 'actual_two_grams': ['as', 'ch', 'es', 'ha', 'is', 'se', 'si', 'sk', 'k4', '11', '19', '41', '48', '94'], 'filtered_two_grams': ['as', 'ch', 'es', 'ha', '11', '19', '41', '94'], 'reconstructed_words': ['as', 'cha', 'es', '11941']}, {'uid': '13554', 'actual_two_grams': ['an', 'as', 'ba', 'ho', 'ma', 'ne', 'om', 'sb', 'th', 'e1', '11', '12', '19', '27', '42', '71', '94'], 'filtered_two_grams': ['an', 'as', 'ma', 'ne', 'th', '11', '19', '71', '94'], 'reconstructed_words': ['ane', 'as', 'ma', 'th', '1194', '71']}, {'uid': '28481', 'actual_two_grams': ['br', 'cl', 'db', 'ff', 'fo', 'if', 'li', 'no', 'or', 'rd', 'ru', 'un', 'o5', '19', '25', '51', '52', '59', '95'], 'filtered_two_grams': ['li', 'or', '19', '25', '51', '95'], 'reconstructed_words': ['li', 'or', '1951', '25']}, {'uid': '82097', 'actual_two_grams': ['ar', 'bb', 'eb', 'jo', 'ma', 'ow', 'ry', 'we', 'yj', 'b6', '19', '49', '67', '71', '94'], 'filtered_two_grams': ['ar', 'ma', 'ry', '19', '61', '71', '94'], 'reconstructed_words': ['ary', 'ma', '194', '61', '71']}, {'uid': '9889', 'actual_two_grams': ['co', 'er', 'fi', 'he', 'is', 'ot', 'sc', 'sh', 'tf', 'tt', 'r5', '16', '19', '51', '61', '70', '97'], 'filtered_two_grams': ['er', 'he', 'sh', 'tt', '16', '19', '61', '97'], 'reconstructed_words': ['er', 'he', 'sh', 'tt', '16197']}, {'uid': '26342', 'actual_two_grams': ['di', 'ed', 'em', 'in', 'jo', 'me', 'na', 'os', 'se', 'a9', '19', '31', '89', '93', '98'], 'filtered_two_grams': ['in', 'jo', 'os', 'se', '19', '31', '98'], 'reconstructed_words': ['in', 'jose', '198', '31']}, {'uid': '44215', 'actual_two_grams': ['al', 'an', 'gh', 'ht', 'ig', 'la', 'nw', 'ri', 'wr', 't1', '01', '13', '19', '30', '88', '98'], 'filtered_two_grams': ['al', 'an', 'gh', 'ht', 'la', 'ri', 'wr', '01', '11', '19', '30', '98'], 'reconstructed_words': ['alan', 'ght', 'ri', 'wr', '01198', '30']}, {'uid': '42267', 'actual_two_grams': ['an', 'do', 'hy', 'ma', 'or', 'ot', 'ro', 'th', 'yh', 'ym', 'n8', '11', '19', '21', '82', '98', '99'], 'filtered_two_grams': ['an', 'ma', 'ro', 'th', '11', '19', '21', '82', '98', '99'], 'reconstructed_words': ['an', 'ma', 'ro', 'th', '119821', '99']}, {'uid': '88065', 'actual_two_grams': ['ai', 'al', 'an', 'cc', 'cl', 'in', 'la', 'mc', 'nm', 'n6', '16', '19', '49', '61', '94'], 'filtered_two_grams': ['al', 'an', 'in', 'la', '16', '19', '61', '94'], 'reconstructed_words': ['alan', 'in', '16194']}, {'uid': '15011', 'actual_two_grams': ['ep', 'er', 'he', 'in', 'nh', 'or', 'pw', 'ri', 'rt', 'th', 'wo', 'h4', '19', '28', '42', '81', '92', '99'], 'filtered_two_grams': ['er', 'he', 'in', 'ri', 'rt', 'th', '19', '81', '99'], 'reconstructed_words': ['erin', 'he', 'rth', '199', '81']}, {'uid': '75074', 'actual_two_grams': ['ag', 'av', 'dn', 'ed', 'es', 'gr', 'na', 'ra', 've', 's4', '15', '19', '37', '41', '51', '93'], 'filtered_two_grams': ['ag', 'es', 'gr', 'na', 'ra', '15', '19', '41', '51', '93'], 'reconstructed_words': ['agra', 'es', 'na', '15193', '41']}, {'uid': '77287', 'actual_two_grams': ['en', 'ev', 'im', 'ke', 'ms', 'ns', 'si', 've', 's1', '11', '19', '86', '98'], 'filtered_two_grams': ['en', 'ev', 'ke', 'ns', 've', 's1', '11', '19', '86', '98'], 'reconstructed_words': ['ens11986', 'eve', 'ke']}, {'uid': '85467', 'actual_two_grams': ['am', 'dw', 'ia', 'il', 'li', 'll', 'lo', 'ms', 'oy', 'wi', 'yd', 's1', '12', '19', '21', '52', '91', '95'], 'filtered_two_grams': ['am', 'ia', 'il', 'li', 'll', 'wi', 's1', '12', '19', '52', '95'], 'reconstructed_words': ['am', 'ia', 'ili', 'll', 'wi', 's12', '1952']}, {'uid': '43882', 'actual_two_grams': ['an', 'es', 'nt', 'or', 're', 'rr', 'ry', 'to', 'ya', 's4', '01', '10', '19', '41', '57', '95'], 'filtered_two_grams': ['an', 'or', 're', 'rr', 'ry', '01', '10', '19', '95'], 'reconstructed_words': ['an', 'ore', 'rry', '010', '195']}, {'uid': '36903', 'actual_two_grams': ['an', 'de', 'er', 'ez', 'ha', 'he', 'na', 'nd', 'nh', 'nn', 'no', 'on', 'rn', 'sh', 'z3', '19', '23', '31', '32', '76', '97'], 'filtered_two_grams': ['an', 'de', 'er', 'ha', 'he', 'na', 'nd', 'nn', 'on', 'sh', '19', '23', '31', '97'], 'reconstructed_words': ['ana', 'der', 'ha', 'he', 'nd', 'nn', 'on', 'sh', '197', '231']}, {'uid': '87747', 'actual_two_grams': ['ac', 'au', 'ba', 'ck', 'ee', 'eg', 'en', 'gr', 'ie', 'ja', 'ki', 'nb', 're', 'um', 'm1', '01', '10', '15', '19', '51', '94', '99'], 'filtered_two_grams': ['ac', 'ck', 'ee', 'en', 're', '01', '10', '19', '51', '94', '99'], 'reconstructed_words': ['ack', 'een', 're', '010', '194', '51', '99']}, {'uid': '7332', 'actual_two_grams': ['as', 'do', 'er', 'gl', 'il', 'la', 'le', 'll', 'mi', 'ou', 'sm', 'ug', 'r8', '19', '29', '74', '82', '91', '97'], 'filtered_two_grams': ['as', 'do', 'er', 'il', 'la', 'le', 'mi', 'ou', 'ug', '19', '29', '74', '91', '97'], 'reconstructed_words': ['as', 'doug', 'er', 'ila', 'le', 'mi', '191', '2974']}, {'uid': '14557', 'actual_two_grams': ['en', 'er', 'fe', 'fl', 'if', 'je', 'ly', 'ni', 'nn', 'rf', 'yn', 'n3', '11', '19', '31', '33', '93', '99'], 'filtered_two_grams': ['en', 'er', 'je', 'nn', '19', '31', '93', '99'], 'reconstructed_words': ['enn', 'er', 'je', '1931', '99']}, {'uid': '82052', 'actual_two_grams': ['ab', 'ad', 'ar', 'ba', 'di', 'en', 'ie', 'ka', 'na', 're', 'e1', '11', '14', '19', '38', '41', '93'], 'filtered_two_grams': ['ab', 'ar', 'en', '11', '19', '41'], 'reconstructed_words': ['ab', 'ar', 'en', '119', '41']}, {'uid': '62424', 'actual_two_grams': ['am', 'ar', 'da', 'ez', 'in', 'li', 'ma', 'nd', 'ne', 'rt', 'ti', 'z9', '01', '19', '20', '55', '92', '95'], 'filtered_two_grams': ['am', 'ar', 'da', 'ez', 'in', 'li', 'ma', 'ne', 'rt', 'ti', '01', '19', '20', '55', '95'], 'reconstructed_words': ['amartinez', 'da', 'li', '01955', '20']}, {'uid': '49899', 'actual_two_grams': ['ek', 'im', 'is', 'ki', 'lo', 'mu', 'ou', 'ra', 'se', 'ui', 'ur', 'a2', '12', '19', '21', '79', '97'], 'filtered_two_grams': ['is', 'ra', 'ur', '19', '21', '97'], 'reconstructed_words': ['is', 'ra', 'ur', '197', '21']}, {'uid': '56171', 'actual_two_grams': ['ac', 'an', 'cu', 'do', 'hm', 'ma', 'na', 'nn', 'on', 'sh', 'us', 'n1', '01', '12', '19', '20', '47', '94'], 'filtered_two_grams': ['an', 'ma', 'na', 'on', 'n1', '01', '12', '19', '20', '94'], 'reconstructed_words': ['ana', 'ma', 'on120194']}, {'uid': '40324', 'actual_two_grams': ['eh', 'eo', 'er', 'ge', 'he', 'og', 'or', 'rg', 'rz', 'zo', 'g1', '18', '19', '54', '81', '95'], 'filtered_two_grams': ['er', 'ge', 'he', 'or', 'rg', '11', '19', '81', '95'], 'reconstructed_words': ['erge', 'he', 'or', '1195', '81']}, {'uid': '65425', 'actual_two_grams': ['el', 'ev', 'ls', 'ly', 'ne', 'nn', 'on', 'so', 've', 'yn', 'n7', '19', '28', '72', '81', '89', '98'], 'filtered_two_grams': ['el', 'ev', 'ne', 'nn', 'on', 'so', '19', '81', '82', '98'], 'reconstructed_words': ['el', 'ev', 'ne', 'nn', 'on', 'so', '1981', '82']}, {'uid': '4564', 'actual_two_grams': ['al', 'at', 'er', 'ew', 'he', 'le', 'll', 'ma', 'th', 'tt', 'wa', 'ww', 'r1', '11', '12', '19', '26', '48', '61', '94'], 'filtered_two_grams': ['al', 'at', 'er', 'ew', 'he', 'le', 'll', 'ma', 'th', 'tt', '11', '12', '19', '26', '61', '94'], 'reconstructed_words': ['aler', 'athew', 'll', 'ma', 'tt', '1126194']}, {'uid': '83181', 'actual_two_grams': ['co', 'hi', 'il', 'ip', 'li', 'll', 'ot', 'ph', 'ps', 'sc', 'tp', 'tt', 's3', '19', '35', '39', '51', '93'], 'filtered_two_grams': ['co', 'il', 'li', 'll', 'tt', '19', '93'], 'reconstructed_words': ['co', 'ili', 'll', 'tt', '193']}, {'uid': '85160', 'actual_two_grams': ['al', 'au', 'ea', 'et', 'gi', 'in', 'le', 'na', 'ne', 'ou', 'rn', 'to', 'ur', 'u1', '00', '02', '12', '20', '22', '25', '52'], 'filtered_two_grams': ['al', 'ea', 'in', 'na', 'ne', 'ur', '00', '02', '12', '20', '22', '25', '51'], 'reconstructed_words': ['al', 'ea', 'ina', 'ne', 'ur', '0020', '12251']}, {'uid': '63428', 'actual_two_grams': ['am', 'as', 'be', 'er', 'ga', 'mb', 'on', 'rg', 'st', 'to', 'n5', '12', '19', '21', '51', '71', '97'], 'filtered_two_grams': ['am', 'as', 'be', 'er', 'on', 'st', 'to', '12', '19', '51', '71', '97'], 'reconstructed_words': ['am', 'aston', 'ber', '12', '1971', '51']}, {'uid': '27855', 'actual_two_grams': ['ao', 'at', 'ee', 'en', 'hl', 'ka', 'le', 'ns', 'sa', 'th', 'o3', '01', '10', '19', '31', '44', '94'], 'filtered_two_grams': ['at', 'ee', 'en', 'ka', 'le', 'th', '01', '10', '19', '94'], 'reconstructed_words': ['ath', 'een', 'ka', 'le', '010', '194']}, {'uid': '60245', 'actual_two_grams': ['bu', 'hn', 'jo', 'mp', 'nb', 'oh', 'um', 'p3', '19', '28', '32', '53', '81', '95'], 'filtered_two_grams': ['hn', 'jo', 'oh', '19', '81', '95'], 'reconstructed_words': ['hn', 'joh', '195', '81']}, {'uid': '15958', 'actual_two_grams': ['ar', 'ez', 'ha', 'in', 'ma', 'ne', 'nm', 'on', 'ro', 'rt', 'sh', 'ti', 'z3', '11', '19', '31', '53', '95'], 'filtered_two_grams': ['ar', 'ez', 'ha', 'in', 'ma', 'ne', 'on', 'ro', 'rt', 'sh', 'ti', '11', '19', '31', '95'], 'reconstructed_words': ['aronez', 'ha', 'in', 'ma', 'rti', 'sh', '1195', '31']}, {'uid': '99334', 'actual_two_grams': ['an', 'dm', 'er', 'go', 'ig', 'ma', 'od', 'oo', 'ri', 'rr', 'te', 'n9', '00', '02', '20', '92'], 'filtered_two_grams': ['an', 'er', 'ri', 'rr', '00', '01', '02', '20', '62'], 'reconstructed_words': ['an', 'eri', 'rr', '001', '020', '62']}, {'uid': '24000', 'actual_two_grams': ['al', 'be', 'er', 'ha', 'll', 'ob', 'ro', 'rt', 'th', 'l6', '19', '24', '41', '47', '62', '94'], 'filtered_two_grams': ['al', 'be', 'er', 'ha', 'll', 'ro', 'rt', 'th', '19', '24', '41', '94'], 'reconstructed_words': ['all', 'bero', 'ha', 'rth', '1941', '24']}, {'uid': '55632', 'actual_two_grams': ['al', 'an', 'el', 'hm', 'lp', 'ma', 'nu', 'ph', 'ra', 'ue', 'l1', '11', '12', '19', '27', '61', '71', '96'], 'filtered_two_grams': ['al', 'an', 'el', 'ma', 'ph', 'ra', 'l1', '11', '12', '19', '71', '96'], 'reconstructed_words': ['al112', 'an', 'el', 'ma', 'ph', 'ra', '196', '71']}, {'uid': '71416', 'actual_two_grams': ['ac', 'ck', 'en', 'et', 'hj', 'ja', 'ke', 'ks', 'ne', 'nn', 'on', 'so', 'th', 'n4', '11', '19', '21', '42', '85', '98'], 'filtered_two_grams': ['ck', 'en', 'et', 'ke', 'ne', 'nn', 'on', 'so', '11', '19', '41', '98'], 'reconstructed_words': ['ckenet', 'nn', 'on', 'so', '1198', '41']}, {'uid': '61389', 'actual_two_grams': ['am', 'fl', 'if', 'ja', 'ly', 'mi', 'nn', 'yn', 'n6', '19', '25', '51', '62', '77', '97'], 'filtered_two_grams': ['am', 'ja', '19', '25', '51', '77', '97'], 'reconstructed_words': ['am', 'ja', '1977', '251']}, {'uid': '10217', 'actual_two_grams': ['co', 'ec', 'er', 'ho', 'ne', 'op', 'os', 'pe', 'sn', 'r1', '02', '10', '19', '21', '57', '95'], 'filtered_two_grams': ['co', 'er', 'op', 'pe', 'r1', '10', '19', '21', '95'], 'reconstructed_words': ['coper10', '195', '21']}, {'uid': '73499', 'actual_two_grams': ['ar', 'em', 'en', 'ez', 'in', 'ir', 'ma', 'ne', 're', 'rt', 'ti', 'z2', '19', '22', '25', '51', '52', '95'], 'filtered_two_grams': ['ar', 'em', 'en', 'ez', 'in', 'ir', 'ma', 'ne', 're', 'rt', '19', '22', '25', '51', '52', '95'], 'reconstructed_words': ['arema', 'enez', 'in', 'irt', '1951', '2252']}, {'uid': '58376', 'actual_two_grams': ['ae', 'ch', 'el', 'ha', 'ic', 'kn', 'lk', 'll', 'mi', 'no', 'ol', 'l1', '02', '10', '19', '27', '71', '89', '98'], 'filtered_two_grams': ['ae', 'ch', 'el', 'ha', 'ic', 'll', 'mi', '10', '19', '71', '98'], 'reconstructed_words': ['aell', 'cha', 'ic', 'mi', '10', '198', '71']}, {'uid': '17565', 'actual_two_grams': ['at', 'ep', 'er', 'je', 'me', 'om', 'on', 'pa', 'ro', 'rs', 'so', 'te', 'tt', 'n5', '19', '51', '55', '66', '96'], 'filtered_two_grams': ['er', 'om', 'on', 'ro', 'rs', 'so', '19', '51', '96'], 'reconstructed_words': ['erom', 'on', 'rso', '196', '51']}, {'uid': '78679', 'actual_two_grams': ['ak', 'an', 'as', 'ck', 'ha', 'ic', 'is', 'ki', 'kl', 'la', 'nd', 'ri', 'sh', 'st', 'tr', 'd6', '19', '44', '61', '66', '94'], 'filtered_two_grams': ['an', 'as', 'ck', 'ic', 'la', 'ri', 'st', '19', '61', '94'], 'reconstructed_words': ['an', 'ast', 'ck', 'ic', 'la', 'ri', '194', '61']}, {'uid': '1984', 'actual_two_grams': ['am', 'ar', 'de', 'ed', 'ep', 'es', 'ie', 'mi', 'mm', 'pa', 're', 'sa', 's1', '11', '16', '19', '60', '61', '96'], 'filtered_two_grams': ['ar', 'es', 're', 's1', '16', '19', '61', '96'], 'reconstructed_words': ['ares16196']}, {'uid': '61112', 'actual_two_grams': ['an', 'co', 'dy', 'er', 'ma', 'nd', 'oo', 'op', 'pe', 'yc', 'r3', '11', '19', '31', '38', '93'], 'filtered_two_grams': ['an', 'co', 'er', 'ma', 'nd', 'oo', 'pe', '11', '19', '31', '38', '93'], 'reconstructed_words': ['and', 'coo', 'er', 'ma', 'pe', '11931', '38']}, {'uid': '24302', 'actual_two_grams': ['ap', 'at', 'ee', 'en', 'er', 'hl', 'ka', 'le', 'na', 'nn', 'pe', 'pp', 'th', 'r3', '11', '19', '21', '32', '77', '97'], 'filtered_two_grams': ['ee', 'en', 'er', 'ka', 'le', 'th', '19', '21', '97'], 'reconstructed_words': ['een', 'er', 'ka', 'le', 'th', '197', '21']}, {'uid': '10366', 'actual_two_grams': ['ai', 'el', 'ga', 'in', 'jo', 'lg', 'oe', 'n6', '19', '60', '69', '91', '96'], 'filtered_two_grams': ['el', 'in', 'jo', '19', '61', '91', '96'], 'reconstructed_words': ['el', 'in', 'jo', '191', '61', '96']}, {'uid': '16782', 'actual_two_grams': ['an', 'ea', 'er', 'ge', 'in', 'li', 'ng', 'nl', 'se', 'r5', '12', '19', '21', '51', '56', '95'], 'filtered_two_grams': ['an', 'er', 'in', 'li', 'ng', '12', '19', '95'], 'reconstructed_words': ['ang', 'er', 'in', 'li', '12', '195']}, {'uid': '57782', 'actual_two_grams': ['ar', 'en', 'ev', 'fa', 'nf', 'ns', 'or', 'rn', 'rt', 'st', 'sw', 'te', 'th', 've', 'wo', 'h1', '12', '19', '29', '82', '91', '98'], 'filtered_two_grams': ['ar', 'en', 'ns', 'st', 'te', '12', '19', '21', '98'], 'reconstructed_words': ['ar', 'enste', '12198']}, {'uid': '22328', 'actual_two_grams': ['dr', 'ed', 'ee', 'es', 'ev', 'il', 'ld', 'mi', 're', 've', 's1', '08', '10', '19', '71', '81', '97'], 'filtered_two_grams': ['ed', 'es', 'ev', 'il', 're', 's1', '10', '19', '71', '81', '97'], 'reconstructed_words': ['ed', 'es10', 'ev', 'il', 're', '1971', '81']}, {'uid': '79459', 'actual_two_grams': ['as', 'ch', 'hi', 'ho', 'hu', 'in', 'ma', 'ns', 'om', 'sh', 'tc', 'th', 'ut', 's7', '19', '29', '72', '90', '91', '99'], 'filtered_two_grams': ['as', 'hi', 'in', 'ma', 'om', 'th', '19', '29', '90', '91', '99'], 'reconstructed_words': ['as', 'hin', 'ma', 'om', 'th', '190', '291', '99']}, {'uid': '83246', 'actual_two_grams': ['ar', 'ep', 'er', 'ha', 'hh', 'jo', 'os', 'pe', 'ph', 'rp', 'se', 'r3', '19', '34', '41', '58', '95'], 'filtered_two_grams': ['ar', 'ep', 'er', 'jo', 'os', 'ph', 'se', '19', '95'], 'reconstructed_words': ['ar', 'eph', 'er', 'jose', '195']}, {'uid': '92285', 'actual_two_grams': ['bu', 'ep', 'et', 'hb', 'jo', 'ke', 'os', 'ph', 'rk', 'se', 'tt', 'ur', 't3', '17', '19', '31', '71', '97'], 'filtered_two_grams': ['ep', 'jo', 'os', 'ph', 'se', '19', '71', '97'], 'reconstructed_words': ['eph', 'jose', '1971']}, {'uid': '91182', 'actual_two_grams': ['ar', 'ek', 'en', 'go', 'il', 'ki', 'le', 'lg', 'ma', 'ne', 'or', 're', 'rl', 'e7', '19', '51', '75', '95', '99'], 'filtered_two_grams': ['ar', 'en', 'le', 'ma', 'or', 're', '19', '51', '95', '99'], 'reconstructed_words': ['aren', 'le', 'ma', 'or', '1951', '99']}, {'uid': '14765', 'actual_two_grams': ['es', 'je', 'le', 'st', 'su', 'tl', 'tt', 'tu', 'us', 'ut', 'e1', '12', '19', '25', '39', '51', '93'], 'filtered_two_grams': ['es', 'le', 'st', '19', '25', '39', '51', '93'], 'reconstructed_words': ['est', 'le', '1939', '251']}, {'uid': '30287', 'actual_two_grams': ['am', 'an', 'cl', 'el', 'ev', 'la', 'le', 'mo', 'nc', 'nd', 'on', 'ra', 've', 'd1', '12', '19', '25', '51', '90', '99'], 'filtered_two_grams': ['am', 'an', 'la', 'on', 'ra', '19', '99'], 'reconstructed_words': ['am', 'an', 'la', 'on', 'ra', '199']}, {'uid': '22099', 'actual_two_grams': ['ar', 'be', 'et', 'go', 'rg', 'tt', 'ty', 'ya', 'o6', '18', '19', '37', '61', '81', '93'], 'filtered_two_grams': ['ar', 'be', 'et', 'tt', 'ty', '18', '19', '81', '93'], 'reconstructed_words': ['ar', 'betty', '18193']}, {'uid': '66642', 'actual_two_grams': ['am', 'at', 'er', 'mm', 'my', 'on', 'pa', 'rs', 'so', 'ta', 'te', 'tt', 'yp', 'n3', '14', '19', '31', '41', '66', '96'], 'filtered_two_grams': ['er', 'on', 'so', 'tt', '19', '31', '41', '96'], 'reconstructed_words': ['er', 'on', 'so', 'tt', '196', '31', '41']}, {'uid': '58169', 'actual_two_grams': ['al', 'an', 'en', 'fr', 'ka', 'le', 'll', 'nk', 'ra', 'n9', '19', '40', '91', '94', '99'], 'filtered_two_grams': ['al', 'an', 'en', 'fr', 'ka', 'le', 'll', 'ra', '19', '91', '94'], 'reconstructed_words': ['alen', 'an', 'fra', 'ka', 'll', '191', '94']}, {'uid': '41963', 'actual_two_grams': ['ar', 'ca', 'cc', 'er', 'hy', 'je', 'mc', 'rr', 'rt', 'ry', 'th', 'ym', 'y5', '11', '19', '31', '53', '62', '96'], 'filtered_two_grams': ['ar', 'er', 'rr', 'rt', '11', '19', '96'], 'reconstructed_words': ['arrt', 'er', '1196']}, {'uid': '37359', 'actual_two_grams': ['co', 'ec', 'er', 'ie', 'in', 'li', 'll', 'ns', 'ol', 'pi', 're', 'rr', 's9', '15', '19', '37', '51', '91', '93'], 'filtered_two_grams': ['er', 'ie', 'in', 'll', 'ol', 're', '19', '93'], 'reconstructed_words': ['ere', 'ie', 'in', 'll', 'ol', '193']}, {'uid': '56667', 'actual_two_grams': ['ee', 'ej', 'es', 'jo', 'le', 'ne', 'on', 's7', '19', '21', '40', '72', '94'], 'filtered_two_grams': ['ee', 'es', 'jo', 'le', 'ne', 'on', '19', '21', '94'], 'reconstructed_words': ['ees', 'jone', 'le', '194', '21']}, {'uid': '60367', 'actual_two_grams': ['en', 'es', 'eu', 'ev', 'ge', 'ne', 'ns', 'st', 'te', 'ug', 've', 's1', '11', '12', '19', '21', '87', '98'], 'filtered_two_grams': ['en', 'es', 'ev', 'ne', 'ns', 'st', 'te', 's1', '11', '12', '19', '21', '98'], 'reconstructed_words': ['enestev', 'ns112198']}, {'uid': '93305', 'actual_two_grams': ['am', 'an', 'di', 'er', 'ia', 'il', 'le', 'll', 'mi', 'na', 'r3', '01', '19', '30', '33', '50', '95'], 'filtered_two_grams': ['am', 'an', 'er', 'ia', 'il', 'le', 'll', '01', '13', '19', '30', '31', '95'], 'reconstructed_words': ['am', 'an', 'er', 'ia', 'ile', 'll', '0130', '195', '31']}, {'uid': '20184', 'actual_two_grams': ['ah', 'ar', 'cl', 'es', 'hy', 'la', 'me', 'ra', 'ym', 's9', '18', '19', '54', '81', '91', '95'], 'filtered_two_grams': ['ar', 'es', 'la', 'me', 'ra', '18', '19', '81', '95'], 'reconstructed_words': ['ara', 'es', 'la', 'me', '18195']}, {'uid': '89557', 'actual_two_grams': ['be', 'er', 'ju', 'ng', 'ob', 'ro', 'rt', 'tj', 'un', 'g3', '19', '28', '32', '66', '81', '96'], 'filtered_two_grams': ['er', 'ng', 'ob', 'ro', 'rt', '19', '81', '96'], 'reconstructed_words': ['erob', 'ng', 'rt', '196', '81']}, {'uid': '20798', 'actual_two_grams': ['di', 'ed', 'er', 'hw', 'il', 'it', 'ke', 'lk', 'me', 'on', 're', 'rs', 'so', 'th', 'wi', 'n4', '19', '48', '81', '88', '98'], 'filtered_two_grams': ['er', 'on', 'rs', 'so', 'th', '19', '81', '98'], 'reconstructed_words': ['erson', 'th', '1981']}, {'uid': '29446', 'actual_two_grams': ['ac', 'an', 'ck', 'eg', 'gu', 'ie', 'ja', 'ki', 'ma', 'uz', 'zm', 'n1', '01', '11', '13', '19', '30', '47', '94'], 'filtered_two_grams': ['ac', 'an', 'ck', 'ie', 'ja', 'n1', '11', '19', '94'], 'reconstructed_words': ['ack', 'an1194', 'ie', 'ja']}, {'uid': '58601', 'actual_two_grams': ['as', 'ee', 'el', 'es', 'et', 'la', 'll', 'st', 'sw', 'te', 'we', 't4', '11', '19', '21', '42', '58', '95'], 'filtered_two_grams': ['as', 'el', 'es', 'la', 'll', 'st', 'te', '11', '19', '95'], 'reconstructed_words': ['astela', 'es', 'll', '1195']}, {'uid': '98952', 'actual_two_grams': ['co', 'do', 'ez', 'hy', 'or', 'ot', 'ro', 'rt', 'te', 'th', 'yc', 'z6', '01', '19', '20', '62', '84', '98'], 'filtered_two_grams': ['or', 'ot', 'ro', 'rt', 'th', '01', '19', '20', '98'], 'reconstructed_words': ['oroth', 'rt', '0198', '20']}, {'uid': '98254', 'actual_two_grams': ['am', 'an', 'es', 'ja', 'la', 'ma', 'me', 'na', 'nn', 'sl', 'a5', '19', '48', '58', '81', '94'], 'filtered_two_grams': ['am', 'an', 'es', 'ja', 'la', 'me', '19', '48', '81', '94'], 'reconstructed_words': ['ames', 'an', 'ja', 'la', '19481']}, {'uid': '94011', 'actual_two_grams': ['ab', 'be', 'el', 'es', 'et', 'gh', 'he', 'hh', 'hu', 'iz', 'li', 'th', 'ug', 'za', 's5', '19', '25', '51', '52', '67', '96'], 'filtered_two_grams': ['ab', 'el', 'es', 'et', 'he', 'li', 'th', '19', '25', '51', '96'], 'reconstructed_words': ['ab', 'eli', 'es', 'ethe', '196', '251']}, {'uid': '71593', 'actual_two_grams': ['ar', 'ay', 'cl', 'kc', 'la', 'ma', 'on', 'rk', 'to', 'yt', 'n8', '19', '41', '82', '84', '98'], 'filtered_two_grams': ['ar', 'la', 'ma', 'on', '19', '41', '81', '82', '98'], 'reconstructed_words': ['ar', 'la', 'ma', 'on', '1981', '41', '82']}, {'uid': '86051', 'actual_two_grams': ['am', 'ca', 'co', 'ec', 'en', 'he', 'il', 'le', 'll', 'mi', 'oh', 'n1', '01', '02', '10', '19', '20', '62', '96'], 'filtered_two_grams': ['am', 'ca', 'en', 'il', 'le', 'll', 'mi', '01', '02', '10', '19', '20', '96'], 'reconstructed_words': ['amilen', 'ca', 'll', '01020', '196']}, {'uid': '89428', 'actual_two_grams': ['ab', 'bn', 'ea', 'ey', 'hi', 'ie', 'ne', 'op', 'ph', 'so', 'y4', '11', '19', '21', '42', '50', '95'], 'filtered_two_grams': ['ne', '11', '19', '95'], 'reconstructed_words': ['ne', '1195']}, {'uid': '21360', 'actual_two_grams': ['as', 'el', 'er', 'he', 'le', 'lm', 'ma', 'ol', 'so', 'th', 'r3', '19', '35', '51', '94', '99'], 'filtered_two_grams': ['as', 'el', 'er', 'he', 'le', 'ma', 'th', '19', '31', '51', '94', '99'], 'reconstructed_words': ['as', 'eler', 'he', 'ma', 'th', '194', '31', '51', '99']}, {'uid': '81389', 'actual_two_grams': ['bb', 'bi', 'do', 'ed', 'in', 'jo', 'ns', 'ob', 'oe', 's6', '19', '41', '64', '67', '96'], 'filtered_two_grams': ['in', 'jo', 'ns', '19', '41', '61', '96'], 'reconstructed_words': ['ins', 'jo', '1961', '41']}, {'uid': '60430', 'actual_two_grams': ['al', 'ch', 'er', 'lt', 'ly', 'nc', 'rl', 'te', 'wa', 'yn', 'h3', '11', '19', '21', '32', '48', '94'], 'filtered_two_grams': ['al', 'er', 'te', 'wa', '11', '19', '31', '94'], 'reconstructed_words': ['al', 'er', 'te', 'wa', '1194', '31']}, {'uid': '52993', 'actual_two_grams': ['cn', 'ee', 'el', 'en', 'ey', 'he', 'le', 'mc', 'ne', 'nm', 'y5', '19', '25', '45', '51', '52', '94'], 'filtered_two_grams': ['ee', 'el', 'en', 'ey', 'he', 'le', 'ne', '19', '25', '51', '94'], 'reconstructed_words': ['eeleney', 'he', '194', '251']}, {'uid': '29998', 'actual_two_grams': ['ad', 'am', 'da', 'ds', 'ei', 'go', 'in', 'ld', 'mg', 'ol', 'st', 'te', 'n8', '11', '19', '31', '79', '83', '97'], 'filtered_two_grams': ['da', 'in', 'st', '11', '19', '97'], 'reconstructed_words': ['da', 'in', 'st', '1197']}, {'uid': '46581', 'actual_two_grams': ['an', 'cd', 'da', 'el', 'ie', 'im', 'ju', 'li', 'mc', 'ni', 'ul', 'l1', '15', '19', '51', '59', '95'], 'filtered_two_grams': ['an', 'el', 'ie', 'li', '19', '51', '59', '95'], 'reconstructed_words': ['an', 'elie', '1951', '59']}, {'uid': '31743', 'actual_two_grams': ['ab', 'bu', 'gg', 'gs', 'is', 'li', 'sa', 'ug', 's7', '19', '28', '72', '81', '98'], 'filtered_two_grams': ['is', 'li', '19', '81', '98'], 'reconstructed_words': ['is', 'li', '1981']}, {'uid': '38221', 'actual_two_grams': ['an', 'hn', 'jo', 'la', 'nn', 'no', 'oh', 'ol', 'n5', '00', '12', '20', '51'], 'filtered_two_grams': ['an', 'hn', 'jo', 'la', 'no', 'oh', 'ol', '00', '20'], 'reconstructed_words': ['anohn', 'jola', '00', '20']}, {'uid': '71912', 'actual_two_grams': ['eg', 'eo', 'er', 'ge', 'gl', 'lo', 'or', 'ov', 'rg', 've', 'r3', '19', '21', '32', '62', '96'], 'filtered_two_grams': ['er', 'ge', 'or', 'rg', 'r3', '19', '21', '22', '32', '96'], 'reconstructed_words': ['erge', 'or32196', '22']}]\n",
      "Average Precision: 0.9776328632671916\n",
      "Average Recall: 0.5430250051570692\n",
      "Average F1 Score: 0.6882800248634992\n",
      "Average Dice Similarity: 0.6882825870646767\n"
     ]
    }
   ],
   "source": [
    "# List to store decoded 2-gram scores for all test samples\n",
    "decoded_test_results_words = []\n",
    "result = []\n",
    "total_precision = total_recall = total_f1 = total_dice = 0.0\n",
    "n = len(dataloader_test.dataset)\n",
    "\n",
    "# Switch to evaluation mode (no gradient computation during inference)\n",
    "model.eval()\n",
    "\n",
    "# Define Threshold for filtering predictions\n",
    "threshold = DEA_CONFIG[\"FilterThreshold\"]\n",
    "\n",
    "# Loop through the test dataloader for inference\n",
    "with torch.no_grad():  # No need to compute gradients during inference\n",
    "    for data, labels, uid in tqdm(dataloader_test, desc=\"Test loop\") if GLOBAL_CONFIG[\"Verbose\"] else dataloader_test:\n",
    "\n",
    "        actual_two_grams = label_tensors_to_two_grams(two_gram_dict, labels)\n",
    "\n",
    "        # Move data to device and make predictions\n",
    "        data = data.to(compute_device)\n",
    "        logits = model(data)\n",
    "        probabilities = torch.sigmoid(logits)\n",
    "\n",
    "        # Convert probabilities into 2-gram scores\n",
    "        batch_two_gram_scores = convert_to_two_gram_scores(two_gram_dict, probabilities)\n",
    "\n",
    "        # Filter out low-scoring 2-grams\n",
    "        batch_filtered_two_gram_scores = filter_two_grams(batch_two_gram_scores, threshold)\n",
    "\n",
    "        # Calculate performance metrics for evaluation\n",
    "        dice, precision, recall, f1 = calculate_performance_metrics(\n",
    "            actual_two_grams, batch_filtered_two_gram_scores)\n",
    "        total_dice += dice\n",
    "        total_precision += precision\n",
    "        total_recall += recall\n",
    "        total_f1 += f1\n",
    "\n",
    "        # Reconstruct words from the filtered 2-grams for each sample\n",
    "        batch_reconstructed_words = [\n",
    "            reconstruct_words(filtered_scores) for filtered_scores in batch_filtered_two_gram_scores\n",
    "        ]\n",
    "\n",
    "        for two_grams, two_grams_predicted, reconstructed_words, uid in zip(actual_two_grams, batch_filtered_two_gram_scores, batch_reconstructed_words, uid):\n",
    "            # Create a dictionary to store the results for each test sample\n",
    "            result_dict = {\n",
    "                \"uid\": uid,\n",
    "                \"actual_two_grams\": two_grams,\n",
    "                \"filtered_two_grams\": two_grams_predicted,\n",
    "                \"reconstructed_words\": reconstructed_words\n",
    "            }\n",
    "            # Append the result dictionary to the combined results list\n",
    "            result.append(result_dict)\n",
    "\n",
    "        average_precision = total_precision / n\n",
    "        average_recall = total_recall / n\n",
    "        average_f1 = total_f1 / n\n",
    "        average_dice = total_dice / n\n",
    "\n",
    "\n",
    "# Now `combined_results_performance` contains detailed comparison for all test samples\n",
    "print(result)\n",
    "print (f\"Average Precision: {average_precision}\")\n",
    "print (f\"Average Recall: {average_recall}\")\n",
    "print (f\"Average F1 Score: {average_f1}\")\n",
    "print (f\"Average Dice Similarity: {average_dice}\")\n"
   ]
  },
  {
   "cell_type": "markdown",
   "metadata": {},
   "source": [
    "## Visualize Performance for Re-Identification"
   ]
  },
  {
   "cell_type": "code",
   "execution_count": 12,
   "metadata": {},
   "outputs": [
    {
     "data": {
      "image/png": "[encoded data removed]",
      "text/plain": [
       "<Figure size 1000x600 with 1 Axes>"
      ]
     },
     "metadata": {},
     "output_type": "display_data"
    },
    {
     "name": "stdout",
     "output_type": "stream",
     "text": [
      "\n",
      "🔍 Sample Reconstructions (first 5):\n",
      "UID: 93383\n",
      "  Actual 2-grams:       ['ab', 'as', 'ba', 'ia', 'lv', 'ss', 'sy', 'vi', 'yl', 's9', '19', '88', '91', '98', '99']\n",
      "  Predicted 2-grams:    ['as', 'ia', '19', '91', '98']\n",
      "  Reconstructed Words:  ['as', 'ia', '191', '98']\n",
      "------------------------------------------------------------\n",
      "UID: 68295\n",
      "  Actual 2-grams:       ['au', 'en', 'er', 'la', 'lu', 'nl', 'ra', 're', 'ue', 'ur', 'a5', '19', '29', '52', '81', '91', '98']\n",
      "  Predicted 2-grams:    ['au', 'en', 'la', 'ra', 're', 'ur', '19', '29', '91', '92', '98']\n",
      "  Reconstructed Words:  ['aura', 'en', 'la', 're', '191', '292', '98']\n",
      "------------------------------------------------------------\n",
      "UID: 88712\n",
      "  Actual 2-grams:       ['ar', 'br', 'de', 'eb', 'ed', 'en', 'et', 'ge', 'ja', 'ng', 'on', 're', 'so', 'ts', 'n9', '19', '21', '22', '60', '92', '96']\n",
      "  Predicted 2-grams:    ['de', 'en', 'on', 'so', '19', '96']\n",
      "  Reconstructed Words:  ['den', 'on', 'so', '196']\n",
      "------------------------------------------------------------\n",
      "UID: 72014\n",
      "  Actual 2-grams:       ['av', 'da', 'dw', 'hi', 'id', 'it', 'te', 'vi', 'wh', 'e4', '19', '27', '42', '71', '73', '97']\n",
      "  Predicted 2-grams:    ['av', 'da', 'id', 'te', 'vi', '19', '27', '71', '97']\n",
      "  Reconstructed Words:  ['avida', 'te', '1971', '27']\n",
      "------------------------------------------------------------\n",
      "UID: 8446\n",
      "  Actual 2-grams:       ['gp', 'hi', 'in', 'ip', 'ir', 'ng', 'ph', 'pp', 'ps', 'rv', 'vi', 's1', '01', '10', '11', '19', '85', '98']\n",
      "  Predicted 2-grams:    ['hi', 'in', 'ng', '10', '19', '98']\n",
      "  Reconstructed Words:  ['hing', '10', '198']\n",
      "------------------------------------------------------------\n"
     ]
    },
    {
     "data": {
      "image/png": "[encoded data removed]",
      "text/plain": [
       "<Figure size 800x500 with 1 Axes>"
      ]
     },
     "metadata": {},
     "output_type": "display_data"
    }
   ],
   "source": [
    "# Convert results to DataFrame\n",
    "results_df = pd.DataFrame(result)\n",
    "\n",
    "# Calculate per-sample 2-gram overlap metrics\n",
    "def two_gram_overlap(row):\n",
    "    actual = set(row['actual_two_grams'])\n",
    "    predicted = set(row['filtered_two_grams'])\n",
    "    intersection = actual & predicted\n",
    "    return {\n",
    "        \"uid\": row[\"uid\"],\n",
    "        \"precision\": len(intersection) / len(predicted) if predicted else 0,\n",
    "        \"recall\": len(intersection) / len(actual) if actual else 0,\n",
    "        \"f1\": 2 * len(intersection) / (len(actual) + len(predicted)) if actual and predicted else 0,\n",
    "        \"actual_len\": len(actual),\n",
    "        \"predicted_len\": len(predicted)\n",
    "    }\n",
    "\n",
    "overlap_df = pd.DataFrame([two_gram_overlap(row) for _, row in results_df.iterrows()])\n",
    "\n",
    "# Plot 1: Distribution of precision, recall, F1\n",
    "plt.figure(figsize=(10, 6))\n",
    "sns.histplot(overlap_df[['precision', 'recall', 'f1']], bins=20, kde=True, palette='Set2', element=\"step\", fill=False)\n",
    "plt.title('Distribution of Precision, Recall, F1 across Samples')\n",
    "plt.xlabel('Score')\n",
    "plt.ylabel('Frequency')\n",
    "plt.legend(['Precision', 'Recall', 'F1'])\n",
    "plt.grid(True)\n",
    "plt.tight_layout()\n",
    "plt.show()\n",
    "\n",
    "# Plot 2: Sample examples of reconstruction\n",
    "print(\"\\n🔍 Sample Reconstructions (first 5):\")\n",
    "for idx, row in results_df.head(5).iterrows():\n",
    "    print(f\"UID: {row['uid']}\")\n",
    "    print(f\"  Actual 2-grams:       {row['actual_two_grams']}\")\n",
    "    print(f\"  Predicted 2-grams:    {row['filtered_two_grams']}\")\n",
    "    print(f\"  Reconstructed Words:  {row['reconstructed_words']}\")\n",
    "    print(\"-\" * 60)\n",
    "\n",
    "# Plot 3: Word length distribution\n",
    "results_df[\"avg_predicted_piece_length\"] = results_df[\"reconstructed_words\"].apply(\n",
    "    lambda x: np.mean([len(piece) for piece in x]) if x else 0\n",
    ")\n",
    "plt.figure(figsize=(8, 5))\n",
    "sns.histplot(results_df[\"avg_predicted_piece_length\"], bins=20, color=\"skyblue\")\n",
    "plt.title('Distribution of Reconstructed Word Lengths')\n",
    "plt.xlabel('Reconstructed Word Length')\n",
    "plt.ylabel('Count')\n",
    "plt.grid(True)\n",
    "plt.tight_layout()\n",
    "plt.show()"
   ]
  },
  {
   "cell_type": "markdown",
   "metadata": {},
   "source": [
    "## Testing Area"
   ]
  },
  {
   "cell_type": "code",
   "execution_count": 13,
   "metadata": {},
   "outputs": [
    {
     "ename": "SystemExit",
     "evalue": "Stopping execution at this cell.",
     "output_type": "error",
     "traceback": [
      "An exception has occurred, use %tb to see the full traceback.\n",
      "\u001b[0;31mSystemExit\u001b[0m\u001b[0;31m:\u001b[0m Stopping execution at this cell.\n"
     ]
    },
    {
     "name": "stderr",
     "output_type": "stream",
     "text": [
      "/Users/I538952/Desktop/master/4-semester-thesis/dataset-extension-attack/.venv/lib/python3.10/site-packages/IPython/core/interactiveshell.py:3587: UserWarning: To exit: use 'exit', 'quit', or Ctrl-D.\n",
      "  warn(\"To exit: use 'exit', 'quit', or Ctrl-D.\", stacklevel=1)\n"
     ]
    }
   ],
   "source": [
    "sys.exit(\"Stopping execution at this cell.\")"
   ]
  }
 ],
 "metadata": {
  "kernelspec": {
   "display_name": ".venv",
   "language": "python",
   "name": "python3"
  },
  "language_info": {
   "codemirror_mode": {
    "name": "ipython",
    "version": 3
   },
   "file_extension": ".py",
   "mimetype": "text/x-python",
   "name": "python",
   "nbconvert_exporter": "python",
   "pygments_lexer": "ipython3",
   "version": "3.10.9"
  }
 },
 "nbformat": 4,
 "nbformat_minor": 2
}
