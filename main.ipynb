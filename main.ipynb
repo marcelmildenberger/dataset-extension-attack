{
 "cells": [
  {
   "cell_type": "markdown",
   "metadata": {},
   "source": [
    "# Privacy-Preserving Record Linkage (PPRL): Investigating Dataset Extension Attacks"
   ]
  },
  {
   "cell_type": "markdown",
   "metadata": {},
   "source": [
    "## Setup"
   ]
  },
  {
   "cell_type": "code",
   "execution_count": 1,
   "metadata": {},
   "outputs": [
    {
     "name": "stdout",
     "output_type": "stream",
     "text": [
      "System Version: 3.10.16 | packaged by conda-forge | (main, Dec  5 2024, 14:20:01) [Clang 18.1.8 ]\n",
      "PyTorch version 2.1.2\n",
      "Torchvision version 0.16.2\n",
      "Numpy version 1.24.4\n",
      "Pandas version 2.0.3\n"
     ]
    }
   ],
   "source": [
    "import torch\n",
    "import torch.nn as nn\n",
    "import torch.optim as optim\n",
    "from torch.utils.data import Dataset, DataLoader, random_split\n",
    "import torchvision\n",
    "import torchvision.transforms as transforms\n",
    "\n",
    "import matplotlib.pyplot as plt # For data viz\n",
    "import pandas as pd\n",
    "import hickle as hkl\n",
    "import numpy as np\n",
    "import string\n",
    "import sys\n",
    "from tqdm.notebook import tqdm\n",
    "\n",
    "from graphMatching.gma import run_gma\n",
    "\n",
    "print('System Version:', sys.version)\n",
    "print('PyTorch version', torch.__version__)\n",
    "print('Torchvision version', torchvision.__version__)\n",
    "print('Numpy version', np.__version__)\n",
    "print('Pandas version', pd.__version__)"
   ]
  },
  {
   "cell_type": "markdown",
   "metadata": {},
   "source": [
    "## Run GMA"
   ]
  },
  {
   "cell_type": "code",
   "execution_count": 3,
   "metadata": {},
   "outputs": [],
   "source": [
    "# Parameters\n",
    "GLOBAL_CONFIG = {\n",
    "    \"Data\": \"./graphMatching/data/fakename_5k.tsv\",\n",
    "    \"Overlap\": 0.8,\n",
    "    \"DropFrom\": \"Both\",\n",
    "    \"DevMode\": False,  # Development Mode, saves some intermediate results to the /dev directory\n",
    "    \"BenchMode\": False,  # Benchmark Mode\n",
    "    \"Verbose\": True,  # Print Status Messages?\n",
    "    \"MatchingMetric\": \"cosine\",\n",
    "    \"Matching\": \"MinWeight\",\n",
    "    \"Workers\": -1,\n",
    "    \"SaveAliceEncs\": False,\n",
    "    \"SaveEveEncs\": False\n",
    "}\n",
    "\n",
    "ENC_CONFIG = {\n",
    "    \"AliceAlgo\": \"BloomFilter\",\n",
    "    \"AliceSecret\": \"SuperSecretSalt1337\",\n",
    "    \"AliceN\": 2,\n",
    "    \"AliceMetric\": \"dice\",\n",
    "    \"EveAlgo\": \"None\",\n",
    "    \"EveSecret\": \"ATotallyDifferentString42\",\n",
    "    \"EveN\": 2,\n",
    "    \"EveMetric\": \"dice\",\n",
    "    # For BF encoding\n",
    "    \"AliceBFLength\": 1024,\n",
    "    \"AliceBits\": 10,\n",
    "    \"AliceDiffuse\": False,\n",
    "    \"AliceT\": 10,\n",
    "    \"AliceEldLength\": 1024,\n",
    "    \"EveBFLength\": 1024,\n",
    "    \"EveBits\": 10,\n",
    "    \"EveDiffuse\": False,\n",
    "    \"EveT\": 10,\n",
    "    \"EveEldLength\": 1024,\n",
    "    # For TMH encoding\n",
    "    \"AliceNHash\": 1024,\n",
    "    \"AliceNHashBits\": 64,\n",
    "    \"AliceNSubKeys\": 8,\n",
    "    \"Alice1BitHash\": True,\n",
    "    \"EveNHash\": 1024,\n",
    "    \"EveNHashBits\": 64,\n",
    "    \"EveNSubKeys\": 8,\n",
    "    \"Eve1BitHash\": True,\n",
    "    # For 2SH encoding\n",
    "    \"AliceNHashFunc\": 10,\n",
    "    \"AliceNHashCol\": 1000,\n",
    "    \"AliceRandMode\": \"PNG\",\n",
    "    \"EveNHashFunc\": 10,\n",
    "    \"EveNHashCol\": 1000,\n",
    "    \"EveRandMode\": \"PNG\",\n",
    "    # For PST Encoding\n",
    "    \"AlicePSTK\": 20,\n",
    "    \"AlicePSTL\": 8,\n",
    "    \"AlicePSTP\": None,\n",
    "    \"AliceCharset\": string.printable,\n",
    "    \"EvePSTK\": 20,\n",
    "    \"EvePSTL\": 8,\n",
    "    \"EvePSTP\": None,\n",
    "    \"EveCharset\": string.printable\n",
    "}\n",
    "\n",
    "EMB_CONFIG = {\n",
    "    \"Algo\": \"Node2Vec\",\n",
    "    \"AliceQuantile\": 0.9,\n",
    "    \"AliceDiscretize\": False,\n",
    "    \"AliceDim\": 128,\n",
    "    \"AliceContext\": 10,\n",
    "    \"AliceNegative\": 1,\n",
    "    \"AliceNormalize\": True,\n",
    "    \"EveQuantile\": 0.9,\n",
    "    \"EveDiscretize\": False,\n",
    "    \"EveDim\": 128,\n",
    "    \"EveContext\": 10,\n",
    "    \"EveNegative\": 1,\n",
    "    \"EveNormalize\": True,\n",
    "    # For Node2Vec\n",
    "    \"AliceWalkLen\": 100,\n",
    "    \"AliceNWalks\": 20,\n",
    "    \"AliceP\": 250,\n",
    "    \"AliceQ\": 300,\n",
    "    \"AliceEpochs\": 5,\n",
    "    \"AliceSeed\": 42,\n",
    "    \"EveWalkLen\": 100,\n",
    "    \"EveNWalks\": 20,\n",
    "    \"EveP\": 250,\n",
    "    \"EveQ\": 300,\n",
    "    \"EveEpochs\": 5,\n",
    "    \"EveSeed\": 42\n",
    "}\n",
    "\n",
    "ALIGN_CONFIG = {\n",
    "    \"RegWS\": max(0.1, GLOBAL_CONFIG[\"Overlap\"]/2), #0005\n",
    "    \"RegInit\":0.25, # For BF 0.25\n",
    "    \"Batchsize\": 1, # 1 = 100%\n",
    "    \"LR\": 200.0,\n",
    "    \"NIterWS\": 100,\n",
    "    \"NIterInit\": 5 ,  # 800\n",
    "    \"NEpochWS\": 100,\n",
    "    \"LRDecay\": 1,\n",
    "    \"Sqrt\": True,\n",
    "    \"EarlyStopping\": 10,\n",
    "    \"Selection\": \"None\",\n",
    "    \"MaxLoad\": None,\n",
    "    \"Wasserstein\": True\n",
    "}"
   ]
  },
  {
   "cell_type": "code",
   "execution_count": null,
   "metadata": {},
   "outputs": [],
   "source": [
    "reidentified_individuals, not_reidentified_individuals = run_gma(GLOBAL_CONFIG, ENC_CONFIG, EMB_CONFIG, ALIGN_CONFIG)\n",
    "\n",
    "df_reidentified_individuals = pd.DataFrame(reidentified_individuals[1:], columns=reidentified_individuals[0])\n",
    "df_not_reidentified_individuals = pd.DataFrame(not_reidentified_individuals[1:], columns=not_reidentified_individuals[0])"
   ]
  },
  {
   "cell_type": "code",
   "execution_count": 2,
   "metadata": {},
   "outputs": [],
   "source": [
    "\n",
    "reidentified_individuals = pd.read_csv('./data/available_to_eve/reidentified_individuals.tsv', delimiter='\\t')\n",
    "df_reidentified_individuals = reidentified_individuals\n",
    "\n",
    "not_reidentified_individuals = hkl.load('./data/available_to_eve/not_reidentified_individuals.h5')\n",
    "df_not_reidentified_individuals = pd.DataFrame(not_reidentified_individuals[1:], columns=not_reidentified_individuals[0])"
   ]
  },
  {
   "cell_type": "code",
   "execution_count": 4,
   "metadata": {},
   "outputs": [
    {
     "name": "stdout",
     "output_type": "stream",
     "text": [
      "Reidentified Individuals:\n",
      "  GivenName  Surname    Birthday  \\\n",
      "0      Todd   Morton    9/9/1969   \n",
      "1     Kevin  Milazzo  10/25/1957   \n",
      "2   Debroah    Hamel    6/2/1999   \n",
      "3     Frank  Elliott   11/8/1955   \n",
      "4   Michael  Goldman   1/16/1987   \n",
      "\n",
      "                                         bloomfilter    uid  \n",
      "0  0000000001000000000010001110100000000001100000...  77675  \n",
      "1  0000000011000000011100000100000000000100110010...  59614  \n",
      "2  0001100000000000000000000110000100101000100110...  16013  \n",
      "3  1000010000000000000000001000010010000010110000...  98431  \n",
      "4  0001011010100100010100000000000010000000100000...  74542  \n",
      "Not Reidentified Individuals:\n",
      "                                         bloomfilter    uid\n",
      "0  0101000001000000000010001110000000100010100000...  85558\n",
      "1  0000000000001000000000001000000000000001100000...  22766\n",
      "2  1000000000000000010101100000000100000100000010...  14271\n",
      "3  0001000000000001100100000000000000000100100010...  75935\n",
      "4  1001010000000001000000000010000110100110100010...  32517\n"
     ]
    }
   ],
   "source": [
    "print('Reidentified Individuals:')\n",
    "print(df_reidentified_individuals.head())  \n",
    "print('Not Reidentified Individuals:')\n",
    "print(df_not_reidentified_individuals.head())"
   ]
  },
  {
   "cell_type": "markdown",
   "metadata": {},
   "source": [
    "## Define Dataset"
   ]
  },
  {
   "cell_type": "code",
   "execution_count": 6,
   "metadata": {},
   "outputs": [],
   "source": [
    "class BloomFilterDataset(Dataset):\n",
    "    def __init__(self, data, isLabeled=False, all_two_grams=None):\n",
    "        self.isLabeled = isLabeled\n",
    "        self.allTwoGrams = all_two_grams\n",
    "        self.data = data  \n",
    "        if self.isLabeled:\n",
    "            # For reidentified data, extract labels (2-grams) from values except last two columns which are encoding and uid\n",
    "            self.data['label'] = self.data.apply(lambda row: self.extract_two_grams(\"\".join(row.iloc[:-3].astype(str))), axis=1)\n",
    "    \n",
    "    def __len__(self):\n",
    "        return len(self.data)\n",
    "    \n",
    "    def __getitem__(self, idx):\n",
    "        bloom_filter = self.data.iloc[idx]['bloomfilter']\n",
    "        bloom_filter_tensor = self.bloomfilter_to_tensor(bloom_filter)\n",
    "\n",
    "        if self.isLabeled:\n",
    "            label = self.data.iloc[idx]['label']\n",
    "            label_tensor = self.label_to_tensor(label)\n",
    "            return bloom_filter_tensor, label_tensor\n",
    "        else:\n",
    "            # For unlabeled data (not_reidentified_individuals.tsv), just return the Bloom Filter\n",
    "            return bloom_filter_tensor\n",
    "    \n",
    "    def extract_two_grams(self, input_string):\n",
    "        input_string_preprocessed = input_string.replace('\"', '').replace('.', '').replace('/', '').strip()\n",
    "        input_string_lower = input_string_preprocessed.lower()  # Normalize to lowercase for consistency\n",
    "        return [input_string_lower[i:i+2] for i in range(len(input_string_lower)-1) if ' ' not in input_string_lower[i:i+2]]\n",
    "    \n",
    "    def bloomfilter_to_tensor(self, bloom_filter_str):\n",
    "        bloom_filter_array = np.array([int(bit) for bit in bloom_filter_str], dtype=np.float32)\n",
    "        return torch.tensor(bloom_filter_array)\n",
    "    \n",
    "    def label_to_tensor(self, label_two_grams):\n",
    "        label_vector = np.zeros(len(self.allTwoGrams), dtype=np.float32)\n",
    "        \n",
    "        # Set 1 for the 2-grams present in the name\n",
    "        for gram in label_two_grams:\n",
    "            if gram in self.allTwoGrams:\n",
    "                index = self.allTwoGrams.index(gram)\n",
    "                label_vector[index] = 1\n",
    "        \n",
    "        return torch.tensor(label_vector)"
   ]
  },
  {
   "cell_type": "markdown",
   "metadata": {},
   "source": [
    "## Create Datasets "
   ]
  },
  {
   "cell_type": "code",
   "execution_count": 7,
   "metadata": {},
   "outputs": [
    {
     "name": "stdout",
     "output_type": "stream",
     "text": [
      "{0: 'aa', 1: 'ab', 2: 'ac', 3: 'ad', 4: 'ae', 5: 'af', 6: 'ag', 7: 'ah', 8: 'ai', 9: 'aj', 10: 'ak', 11: 'al', 12: 'am', 13: 'an', 14: 'ao', 15: 'ap', 16: 'aq', 17: 'ar', 18: 'as', 19: 'at', 20: 'au', 21: 'av', 22: 'aw', 23: 'ax', 24: 'ay', 25: 'az', 26: 'ba', 27: 'bb', 28: 'bc', 29: 'bd', 30: 'be', 31: 'bf', 32: 'bg', 33: 'bh', 34: 'bi', 35: 'bj', 36: 'bk', 37: 'bl', 38: 'bm', 39: 'bn', 40: 'bo', 41: 'bp', 42: 'bq', 43: 'br', 44: 'bs', 45: 'bt', 46: 'bu', 47: 'bv', 48: 'bw', 49: 'bx', 50: 'by', 51: 'bz', 52: 'ca', 53: 'cb', 54: 'cc', 55: 'cd', 56: 'ce', 57: 'cf', 58: 'cg', 59: 'ch', 60: 'ci', 61: 'cj', 62: 'ck', 63: 'cl', 64: 'cm', 65: 'cn', 66: 'co', 67: 'cp', 68: 'cq', 69: 'cr', 70: 'cs', 71: 'ct', 72: 'cu', 73: 'cv', 74: 'cw', 75: 'cx', 76: 'cy', 77: 'cz', 78: 'da', 79: 'db', 80: 'dc', 81: 'dd', 82: 'de', 83: 'df', 84: 'dg', 85: 'dh', 86: 'di', 87: 'dj', 88: 'dk', 89: 'dl', 90: 'dm', 91: 'dn', 92: 'do', 93: 'dp', 94: 'dq', 95: 'dr', 96: 'ds', 97: 'dt', 98: 'du', 99: 'dv', 100: 'dw', 101: 'dx', 102: 'dy', 103: 'dz', 104: 'ea', 105: 'eb', 106: 'ec', 107: 'ed', 108: 'ee', 109: 'ef', 110: 'eg', 111: 'eh', 112: 'ei', 113: 'ej', 114: 'ek', 115: 'el', 116: 'em', 117: 'en', 118: 'eo', 119: 'ep', 120: 'eq', 121: 'er', 122: 'es', 123: 'et', 124: 'eu', 125: 'ev', 126: 'ew', 127: 'ex', 128: 'ey', 129: 'ez', 130: 'fa', 131: 'fb', 132: 'fc', 133: 'fd', 134: 'fe', 135: 'ff', 136: 'fg', 137: 'fh', 138: 'fi', 139: 'fj', 140: 'fk', 141: 'fl', 142: 'fm', 143: 'fn', 144: 'fo', 145: 'fp', 146: 'fq', 147: 'fr', 148: 'fs', 149: 'ft', 150: 'fu', 151: 'fv', 152: 'fw', 153: 'fx', 154: 'fy', 155: 'fz', 156: 'ga', 157: 'gb', 158: 'gc', 159: 'gd', 160: 'ge', 161: 'gf', 162: 'gg', 163: 'gh', 164: 'gi', 165: 'gj', 166: 'gk', 167: 'gl', 168: 'gm', 169: 'gn', 170: 'go', 171: 'gp', 172: 'gq', 173: 'gr', 174: 'gs', 175: 'gt', 176: 'gu', 177: 'gv', 178: 'gw', 179: 'gx', 180: 'gy', 181: 'gz', 182: 'ha', 183: 'hb', 184: 'hc', 185: 'hd', 186: 'he', 187: 'hf', 188: 'hg', 189: 'hh', 190: 'hi', 191: 'hj', 192: 'hk', 193: 'hl', 194: 'hm', 195: 'hn', 196: 'ho', 197: 'hp', 198: 'hq', 199: 'hr', 200: 'hs', 201: 'ht', 202: 'hu', 203: 'hv', 204: 'hw', 205: 'hx', 206: 'hy', 207: 'hz', 208: 'ia', 209: 'ib', 210: 'ic', 211: 'id', 212: 'ie', 213: 'if', 214: 'ig', 215: 'ih', 216: 'ii', 217: 'ij', 218: 'ik', 219: 'il', 220: 'im', 221: 'in', 222: 'io', 223: 'ip', 224: 'iq', 225: 'ir', 226: 'is', 227: 'it', 228: 'iu', 229: 'iv', 230: 'iw', 231: 'ix', 232: 'iy', 233: 'iz', 234: 'ja', 235: 'jb', 236: 'jc', 237: 'jd', 238: 'je', 239: 'jf', 240: 'jg', 241: 'jh', 242: 'ji', 243: 'jj', 244: 'jk', 245: 'jl', 246: 'jm', 247: 'jn', 248: 'jo', 249: 'jp', 250: 'jq', 251: 'jr', 252: 'js', 253: 'jt', 254: 'ju', 255: 'jv', 256: 'jw', 257: 'jx', 258: 'jy', 259: 'jz', 260: 'ka', 261: 'kb', 262: 'kc', 263: 'kd', 264: 'ke', 265: 'kf', 266: 'kg', 267: 'kh', 268: 'ki', 269: 'kj', 270: 'kk', 271: 'kl', 272: 'km', 273: 'kn', 274: 'ko', 275: 'kp', 276: 'kq', 277: 'kr', 278: 'ks', 279: 'kt', 280: 'ku', 281: 'kv', 282: 'kw', 283: 'kx', 284: 'ky', 285: 'kz', 286: 'la', 287: 'lb', 288: 'lc', 289: 'ld', 290: 'le', 291: 'lf', 292: 'lg', 293: 'lh', 294: 'li', 295: 'lj', 296: 'lk', 297: 'll', 298: 'lm', 299: 'ln', 300: 'lo', 301: 'lp', 302: 'lq', 303: 'lr', 304: 'ls', 305: 'lt', 306: 'lu', 307: 'lv', 308: 'lw', 309: 'lx', 310: 'ly', 311: 'lz', 312: 'ma', 313: 'mb', 314: 'mc', 315: 'md', 316: 'me', 317: 'mf', 318: 'mg', 319: 'mh', 320: 'mi', 321: 'mj', 322: 'mk', 323: 'ml', 324: 'mm', 325: 'mn', 326: 'mo', 327: 'mp', 328: 'mq', 329: 'mr', 330: 'ms', 331: 'mt', 332: 'mu', 333: 'mv', 334: 'mw', 335: 'mx', 336: 'my', 337: 'mz', 338: 'na', 339: 'nb', 340: 'nc', 341: 'nd', 342: 'ne', 343: 'nf', 344: 'ng', 345: 'nh', 346: 'ni', 347: 'nj', 348: 'nk', 349: 'nl', 350: 'nm', 351: 'nn', 352: 'no', 353: 'np', 354: 'nq', 355: 'nr', 356: 'ns', 357: 'nt', 358: 'nu', 359: 'nv', 360: 'nw', 361: 'nx', 362: 'ny', 363: 'nz', 364: 'oa', 365: 'ob', 366: 'oc', 367: 'od', 368: 'oe', 369: 'of', 370: 'og', 371: 'oh', 372: 'oi', 373: 'oj', 374: 'ok', 375: 'ol', 376: 'om', 377: 'on', 378: 'oo', 379: 'op', 380: 'oq', 381: 'or', 382: 'os', 383: 'ot', 384: 'ou', 385: 'ov', 386: 'ow', 387: 'ox', 388: 'oy', 389: 'oz', 390: 'pa', 391: 'pb', 392: 'pc', 393: 'pd', 394: 'pe', 395: 'pf', 396: 'pg', 397: 'ph', 398: 'pi', 399: 'pj', 400: 'pk', 401: 'pl', 402: 'pm', 403: 'pn', 404: 'po', 405: 'pp', 406: 'pq', 407: 'pr', 408: 'ps', 409: 'pt', 410: 'pu', 411: 'pv', 412: 'pw', 413: 'px', 414: 'py', 415: 'pz', 416: 'qa', 417: 'qb', 418: 'qc', 419: 'qd', 420: 'qe', 421: 'qf', 422: 'qg', 423: 'qh', 424: 'qi', 425: 'qj', 426: 'qk', 427: 'ql', 428: 'qm', 429: 'qn', 430: 'qo', 431: 'qp', 432: 'qq', 433: 'qr', 434: 'qs', 435: 'qt', 436: 'qu', 437: 'qv', 438: 'qw', 439: 'qx', 440: 'qy', 441: 'qz', 442: 'ra', 443: 'rb', 444: 'rc', 445: 'rd', 446: 're', 447: 'rf', 448: 'rg', 449: 'rh', 450: 'ri', 451: 'rj', 452: 'rk', 453: 'rl', 454: 'rm', 455: 'rn', 456: 'ro', 457: 'rp', 458: 'rq', 459: 'rr', 460: 'rs', 461: 'rt', 462: 'ru', 463: 'rv', 464: 'rw', 465: 'rx', 466: 'ry', 467: 'rz', 468: 'sa', 469: 'sb', 470: 'sc', 471: 'sd', 472: 'se', 473: 'sf', 474: 'sg', 475: 'sh', 476: 'si', 477: 'sj', 478: 'sk', 479: 'sl', 480: 'sm', 481: 'sn', 482: 'so', 483: 'sp', 484: 'sq', 485: 'sr', 486: 'ss', 487: 'st', 488: 'su', 489: 'sv', 490: 'sw', 491: 'sx', 492: 'sy', 493: 'sz', 494: 'ta', 495: 'tb', 496: 'tc', 497: 'td', 498: 'te', 499: 'tf', 500: 'tg', 501: 'th', 502: 'ti', 503: 'tj', 504: 'tk', 505: 'tl', 506: 'tm', 507: 'tn', 508: 'to', 509: 'tp', 510: 'tq', 511: 'tr', 512: 'ts', 513: 'tt', 514: 'tu', 515: 'tv', 516: 'tw', 517: 'tx', 518: 'ty', 519: 'tz', 520: 'ua', 521: 'ub', 522: 'uc', 523: 'ud', 524: 'ue', 525: 'uf', 526: 'ug', 527: 'uh', 528: 'ui', 529: 'uj', 530: 'uk', 531: 'ul', 532: 'um', 533: 'un', 534: 'uo', 535: 'up', 536: 'uq', 537: 'ur', 538: 'us', 539: 'ut', 540: 'uu', 541: 'uv', 542: 'uw', 543: 'ux', 544: 'uy', 545: 'uz', 546: 'va', 547: 'vb', 548: 'vc', 549: 'vd', 550: 've', 551: 'vf', 552: 'vg', 553: 'vh', 554: 'vi', 555: 'vj', 556: 'vk', 557: 'vl', 558: 'vm', 559: 'vn', 560: 'vo', 561: 'vp', 562: 'vq', 563: 'vr', 564: 'vs', 565: 'vt', 566: 'vu', 567: 'vv', 568: 'vw', 569: 'vx', 570: 'vy', 571: 'vz', 572: 'wa', 573: 'wb', 574: 'wc', 575: 'wd', 576: 'we', 577: 'wf', 578: 'wg', 579: 'wh', 580: 'wi', 581: 'wj', 582: 'wk', 583: 'wl', 584: 'wm', 585: 'wn', 586: 'wo', 587: 'wp', 588: 'wq', 589: 'wr', 590: 'ws', 591: 'wt', 592: 'wu', 593: 'wv', 594: 'ww', 595: 'wx', 596: 'wy', 597: 'wz', 598: 'xa', 599: 'xb', 600: 'xc', 601: 'xd', 602: 'xe', 603: 'xf', 604: 'xg', 605: 'xh', 606: 'xi', 607: 'xj', 608: 'xk', 609: 'xl', 610: 'xm', 611: 'xn', 612: 'xo', 613: 'xp', 614: 'xq', 615: 'xr', 616: 'xs', 617: 'xt', 618: 'xu', 619: 'xv', 620: 'xw', 621: 'xx', 622: 'xy', 623: 'xz', 624: 'ya', 625: 'yb', 626: 'yc', 627: 'yd', 628: 'ye', 629: 'yf', 630: 'yg', 631: 'yh', 632: 'yi', 633: 'yj', 634: 'yk', 635: 'yl', 636: 'ym', 637: 'yn', 638: 'yo', 639: 'yp', 640: 'yq', 641: 'yr', 642: 'ys', 643: 'yt', 644: 'yu', 645: 'yv', 646: 'yw', 647: 'yx', 648: 'yy', 649: 'yz', 650: 'za', 651: 'zb', 652: 'zc', 653: 'zd', 654: 'ze', 655: 'zf', 656: 'zg', 657: 'zh', 658: 'zi', 659: 'zj', 660: 'zk', 661: 'zl', 662: 'zm', 663: 'zn', 664: 'zo', 665: 'zp', 666: 'zq', 667: 'zr', 668: 'zs', 669: 'zt', 670: 'zu', 671: 'zv', 672: 'zw', 673: 'zx', 674: 'zy', 675: 'zz', 676: 'a0', 677: 'a1', 678: 'a2', 679: 'a3', 680: 'a4', 681: 'a5', 682: 'a6', 683: 'a7', 684: 'a8', 685: 'a9', 686: 'b0', 687: 'b1', 688: 'b2', 689: 'b3', 690: 'b4', 691: 'b5', 692: 'b6', 693: 'b7', 694: 'b8', 695: 'b9', 696: 'c0', 697: 'c1', 698: 'c2', 699: 'c3', 700: 'c4', 701: 'c5', 702: 'c6', 703: 'c7', 704: 'c8', 705: 'c9', 706: 'd0', 707: 'd1', 708: 'd2', 709: 'd3', 710: 'd4', 711: 'd5', 712: 'd6', 713: 'd7', 714: 'd8', 715: 'd9', 716: 'e0', 717: 'e1', 718: 'e2', 719: 'e3', 720: 'e4', 721: 'e5', 722: 'e6', 723: 'e7', 724: 'e8', 725: 'e9', 726: 'f0', 727: 'f1', 728: 'f2', 729: 'f3', 730: 'f4', 731: 'f5', 732: 'f6', 733: 'f7', 734: 'f8', 735: 'f9', 736: 'g0', 737: 'g1', 738: 'g2', 739: 'g3', 740: 'g4', 741: 'g5', 742: 'g6', 743: 'g7', 744: 'g8', 745: 'g9', 746: 'h0', 747: 'h1', 748: 'h2', 749: 'h3', 750: 'h4', 751: 'h5', 752: 'h6', 753: 'h7', 754: 'h8', 755: 'h9', 756: 'i0', 757: 'i1', 758: 'i2', 759: 'i3', 760: 'i4', 761: 'i5', 762: 'i6', 763: 'i7', 764: 'i8', 765: 'i9', 766: 'j0', 767: 'j1', 768: 'j2', 769: 'j3', 770: 'j4', 771: 'j5', 772: 'j6', 773: 'j7', 774: 'j8', 775: 'j9', 776: 'k0', 777: 'k1', 778: 'k2', 779: 'k3', 780: 'k4', 781: 'k5', 782: 'k6', 783: 'k7', 784: 'k8', 785: 'k9', 786: 'l0', 787: 'l1', 788: 'l2', 789: 'l3', 790: 'l4', 791: 'l5', 792: 'l6', 793: 'l7', 794: 'l8', 795: 'l9', 796: 'm0', 797: 'm1', 798: 'm2', 799: 'm3', 800: 'm4', 801: 'm5', 802: 'm6', 803: 'm7', 804: 'm8', 805: 'm9', 806: 'n0', 807: 'n1', 808: 'n2', 809: 'n3', 810: 'n4', 811: 'n5', 812: 'n6', 813: 'n7', 814: 'n8', 815: 'n9', 816: 'o0', 817: 'o1', 818: 'o2', 819: 'o3', 820: 'o4', 821: 'o5', 822: 'o6', 823: 'o7', 824: 'o8', 825: 'o9', 826: 'p0', 827: 'p1', 828: 'p2', 829: 'p3', 830: 'p4', 831: 'p5', 832: 'p6', 833: 'p7', 834: 'p8', 835: 'p9', 836: 'q0', 837: 'q1', 838: 'q2', 839: 'q3', 840: 'q4', 841: 'q5', 842: 'q6', 843: 'q7', 844: 'q8', 845: 'q9', 846: 'r0', 847: 'r1', 848: 'r2', 849: 'r3', 850: 'r4', 851: 'r5', 852: 'r6', 853: 'r7', 854: 'r8', 855: 'r9', 856: 's0', 857: 's1', 858: 's2', 859: 's3', 860: 's4', 861: 's5', 862: 's6', 863: 's7', 864: 's8', 865: 's9', 866: 't0', 867: 't1', 868: 't2', 869: 't3', 870: 't4', 871: 't5', 872: 't6', 873: 't7', 874: 't8', 875: 't9', 876: 'u0', 877: 'u1', 878: 'u2', 879: 'u3', 880: 'u4', 881: 'u5', 882: 'u6', 883: 'u7', 884: 'u8', 885: 'u9', 886: 'v0', 887: 'v1', 888: 'v2', 889: 'v3', 890: 'v4', 891: 'v5', 892: 'v6', 893: 'v7', 894: 'v8', 895: 'v9', 896: 'w0', 897: 'w1', 898: 'w2', 899: 'w3', 900: 'w4', 901: 'w5', 902: 'w6', 903: 'w7', 904: 'w8', 905: 'w9', 906: 'x0', 907: 'x1', 908: 'x2', 909: 'x3', 910: 'x4', 911: 'x5', 912: 'x6', 913: 'x7', 914: 'x8', 915: 'x9', 916: 'y0', 917: 'y1', 918: 'y2', 919: 'y3', 920: 'y4', 921: 'y5', 922: 'y6', 923: 'y7', 924: 'y8', 925: 'y9', 926: 'z0', 927: 'z1', 928: 'z2', 929: 'z3', 930: 'z4', 931: 'z5', 932: 'z6', 933: 'z7', 934: 'z8', 935: 'z9', 936: '00', 937: '01', 938: '02', 939: '03', 940: '04', 941: '05', 942: '06', 943: '07', 944: '08', 945: '09', 946: '10', 947: '11', 948: '12', 949: '13', 950: '14', 951: '15', 952: '16', 953: '17', 954: '18', 955: '19', 956: '20', 957: '21', 958: '22', 959: '23', 960: '24', 961: '25', 962: '26', 963: '27', 964: '28', 965: '29', 966: '30', 967: '31', 968: '32', 969: '33', 970: '34', 971: '35', 972: '36', 973: '37', 974: '38', 975: '39', 976: '40', 977: '41', 978: '42', 979: '43', 980: '44', 981: '45', 982: '46', 983: '47', 984: '48', 985: '49', 986: '50', 987: '51', 988: '52', 989: '53', 990: '54', 991: '55', 992: '56', 993: '57', 994: '58', 995: '59', 996: '60', 997: '61', 998: '62', 999: '63', 1000: '64', 1001: '65', 1002: '66', 1003: '67', 1004: '68', 1005: '69', 1006: '70', 1007: '71', 1008: '72', 1009: '73', 1010: '74', 1011: '75', 1012: '76', 1013: '77', 1014: '78', 1015: '79', 1016: '80', 1017: '81', 1018: '82', 1019: '83', 1020: '84', 1021: '85', 1022: '86', 1023: '87', 1024: '88', 1025: '89', 1026: '90', 1027: '91', 1028: '92', 1029: '93', 1030: '94', 1031: '95', 1032: '96', 1033: '97', 1034: '98', 1035: '99'}\n"
     ]
    }
   ],
   "source": [
    "#Generate all 2-grams\n",
    "alphabet = string.ascii_lowercase\n",
    "# Generate all letter-letter 2-grams (aa-zz)\n",
    "alphabet = string.ascii_lowercase\n",
    "letter_letter_grams = [a + b for a in alphabet for b in alphabet]\n",
    "\n",
    "# Generate all digit-digit 2-grams (00-99)\n",
    "digits = string.digits\n",
    "digit_digit_grams = [d1 + d2 for d1 in digits for d2 in digits]\n",
    "\n",
    "# Generate all letter-digit 2-grams (a0-z9)\n",
    "letter_digit_grams = [l + d for l in alphabet for d in digits]\n",
    "\n",
    "# Combine all sets\n",
    "all_two_grams = letter_letter_grams  + letter_digit_grams + digit_digit_grams \n",
    "\n",
    "# Get a dictionary associating each 2-gram with an index\n",
    "two_gram_dict = {i: two_gram for i, two_gram in enumerate(all_two_grams)}\n",
    "\n",
    "# Create Datasets\n",
    "data_labeled = BloomFilterDataset(df_reidentified_individuals, isLabeled=True, all_two_grams=all_two_grams)\n",
    "data_not_labeled = BloomFilterDataset(df_not_reidentified_individuals, isLabeled=False, all_two_grams=all_two_grams)\n",
    "bloomfilter_length = len(data_labeled[0][0])"
   ]
  },
  {
   "cell_type": "markdown",
   "metadata": {},
   "source": [
    "## Create Dataloader"
   ]
  },
  {
   "cell_type": "code",
   "execution_count": 8,
   "metadata": {},
   "outputs": [],
   "source": [
    "# Split proportions\n",
    "train_size = int(0.8 * len(data_labeled))  # 80% training\n",
    "val_size = len(data_labeled) - train_size  # 20% validation\n",
    "\n",
    "# Split dataset\n",
    "data_train, data_val = random_split(data_labeled, [train_size, val_size])\n",
    "dataloader_train = DataLoader(data_train, batch_size=32, shuffle=True)\n",
    "dataloader_val = DataLoader(data_val, batch_size=32, shuffle=True)\n",
    "dataloader_test = DataLoader(data_not_labeled, batch_size=32, shuffle=False)"
   ]
  },
  {
   "cell_type": "markdown",
   "metadata": {},
   "source": [
    "## Pytorch Model"
   ]
  },
  {
   "cell_type": "code",
   "execution_count": 9,
   "metadata": {},
   "outputs": [],
   "source": [
    "class BloomFilterToTwoGramClassifier(nn.Module):\n",
    "    def __init__(self, input_dim, num_two_grams, hidden_layer=512):\n",
    "        super(BloomFilterToTwoGramClassifier, self).__init__()\n",
    "        \n",
    "        # Define the layers for multi-label classification of 2-grams\n",
    "        self.model = nn.Sequential(\n",
    "        nn.Linear(input_dim, hidden_layer),  # Input => first hidden layer\n",
    "        nn.ReLU(),\n",
    "        nn.Dropout(0.2),\n",
    "        nn.Linear(hidden_layer, hidden_layer),  # First hidden layer => second hidden layer\n",
    "        nn.ReLU(),\n",
    "        nn.Dropout(0.2),\n",
    "        nn.Linear(hidden_layer, num_two_grams),  # Second hidden layer => output layer\n",
    "        )\n",
    "\n",
    "    def forward(self, x):\n",
    "        # Forward pass through the model\n",
    "        output = self.model(x)\n",
    "        return output"
   ]
  },
  {
   "cell_type": "code",
   "execution_count": 10,
   "metadata": {},
   "outputs": [],
   "source": [
    "model = BloomFilterToTwoGramClassifier(input_dim=bloomfilter_length, num_two_grams=len(all_two_grams))"
   ]
  },
  {
   "cell_type": "markdown",
   "metadata": {},
   "source": [
    "## Training Loop"
   ]
  },
  {
   "cell_type": "code",
   "execution_count": 11,
   "metadata": {},
   "outputs": [],
   "source": [
    "# Define device\n",
    "device = torch.device(\"cuda:0\" if torch.cuda.is_available() else \"cpu\")\n",
    "model.to(device)\n",
    "\n",
    "# Loss function for multi-label classification\n",
    "criterion = nn.BCEWithLogitsLoss()\n",
    "\n",
    "# Optimizer\n",
    "optimizer = optim.Adam(model.parameters(), lr=0.0001)\n"
   ]
  },
  {
   "cell_type": "code",
   "execution_count": 12,
   "metadata": {},
   "outputs": [
    {
     "data": {
      "application/vnd.jupyter.widget-view+json": {
       "model_id": "c9abb404607d45a88c28c09be636a7ff",
       "version_major": 2,
       "version_minor": 0
      },
      "text/plain": [
       "Training loop:   0%|          | 0/167 [00:00<?, ?it/s]"
      ]
     },
     "metadata": {},
     "output_type": "display_data"
    },
    {
     "data": {
      "application/vnd.jupyter.widget-view+json": {
       "model_id": "e681a22660a84380b14d39d45eed4ed8",
       "version_major": 2,
       "version_minor": 0
      },
      "text/plain": [
       "Validation loop:   0%|          | 0/42 [00:00<?, ?it/s]"
      ]
     },
     "metadata": {},
     "output_type": "display_data"
    },
    {
     "name": "stdout",
     "output_type": "stream",
     "text": [
      "Epoch 1/15 - Train loss: 0.1628, Validation loss: 0.0428\n"
     ]
    },
    {
     "data": {
      "application/vnd.jupyter.widget-view+json": {
       "model_id": "e2f06bfe91be4f9e901a3abce48b377a",
       "version_major": 2,
       "version_minor": 0
      },
      "text/plain": [
       "Training loop:   0%|          | 0/167 [00:00<?, ?it/s]"
      ]
     },
     "metadata": {},
     "output_type": "display_data"
    },
    {
     "data": {
      "application/vnd.jupyter.widget-view+json": {
       "model_id": "1115aed8ad7a42648150fd4c50da3ad6",
       "version_major": 2,
       "version_minor": 0
      },
      "text/plain": [
       "Validation loop:   0%|          | 0/42 [00:00<?, ?it/s]"
      ]
     },
     "metadata": {},
     "output_type": "display_data"
    },
    {
     "name": "stdout",
     "output_type": "stream",
     "text": [
      "Epoch 2/15 - Train loss: 0.0443, Validation loss: 0.0419\n"
     ]
    },
    {
     "data": {
      "application/vnd.jupyter.widget-view+json": {
       "model_id": "733e1a21a6154af39758eb2a224943ff",
       "version_major": 2,
       "version_minor": 0
      },
      "text/plain": [
       "Training loop:   0%|          | 0/167 [00:00<?, ?it/s]"
      ]
     },
     "metadata": {},
     "output_type": "display_data"
    },
    {
     "data": {
      "application/vnd.jupyter.widget-view+json": {
       "model_id": "b90551f04fec4583ac0659bdee8dafe6",
       "version_major": 2,
       "version_minor": 0
      },
      "text/plain": [
       "Validation loop:   0%|          | 0/42 [00:00<?, ?it/s]"
      ]
     },
     "metadata": {},
     "output_type": "display_data"
    },
    {
     "name": "stdout",
     "output_type": "stream",
     "text": [
      "Epoch 3/15 - Train loss: 0.0430, Validation loss: 0.0406\n"
     ]
    },
    {
     "data": {
      "application/vnd.jupyter.widget-view+json": {
       "model_id": "7f9f1ec641e649faa6a8c63a5575b748",
       "version_major": 2,
       "version_minor": 0
      },
      "text/plain": [
       "Training loop:   0%|          | 0/167 [00:00<?, ?it/s]"
      ]
     },
     "metadata": {},
     "output_type": "display_data"
    },
    {
     "data": {
      "application/vnd.jupyter.widget-view+json": {
       "model_id": "a10edab6d936490caf88005d752d25b9",
       "version_major": 2,
       "version_minor": 0
      },
      "text/plain": [
       "Validation loop:   0%|          | 0/42 [00:00<?, ?it/s]"
      ]
     },
     "metadata": {},
     "output_type": "display_data"
    },
    {
     "name": "stdout",
     "output_type": "stream",
     "text": [
      "Epoch 4/15 - Train loss: 0.0412, Validation loss: 0.0385\n"
     ]
    },
    {
     "data": {
      "application/vnd.jupyter.widget-view+json": {
       "model_id": "651e9e9085554e808d150972b89de0c6",
       "version_major": 2,
       "version_minor": 0
      },
      "text/plain": [
       "Training loop:   0%|          | 0/167 [00:00<?, ?it/s]"
      ]
     },
     "metadata": {},
     "output_type": "display_data"
    },
    {
     "data": {
      "application/vnd.jupyter.widget-view+json": {
       "model_id": "a9e028b180d141dd8902f8d74355b008",
       "version_major": 2,
       "version_minor": 0
      },
      "text/plain": [
       "Validation loop:   0%|          | 0/42 [00:00<?, ?it/s]"
      ]
     },
     "metadata": {},
     "output_type": "display_data"
    },
    {
     "name": "stdout",
     "output_type": "stream",
     "text": [
      "Epoch 5/15 - Train loss: 0.0386, Validation loss: 0.0358\n"
     ]
    },
    {
     "data": {
      "application/vnd.jupyter.widget-view+json": {
       "model_id": "b4b849fe3f26454191d43aaa841a785a",
       "version_major": 2,
       "version_minor": 0
      },
      "text/plain": [
       "Training loop:   0%|          | 0/167 [00:00<?, ?it/s]"
      ]
     },
     "metadata": {},
     "output_type": "display_data"
    },
    {
     "data": {
      "application/vnd.jupyter.widget-view+json": {
       "model_id": "8b858350f51d4c71be3c3ecd6d7d217f",
       "version_major": 2,
       "version_minor": 0
      },
      "text/plain": [
       "Validation loop:   0%|          | 0/42 [00:00<?, ?it/s]"
      ]
     },
     "metadata": {},
     "output_type": "display_data"
    },
    {
     "name": "stdout",
     "output_type": "stream",
     "text": [
      "Epoch 6/15 - Train loss: 0.0359, Validation loss: 0.0332\n"
     ]
    },
    {
     "data": {
      "application/vnd.jupyter.widget-view+json": {
       "model_id": "42617e37a4c54f3a9137d597cd588e7e",
       "version_major": 2,
       "version_minor": 0
      },
      "text/plain": [
       "Training loop:   0%|          | 0/167 [00:00<?, ?it/s]"
      ]
     },
     "metadata": {},
     "output_type": "display_data"
    },
    {
     "data": {
      "application/vnd.jupyter.widget-view+json": {
       "model_id": "fdc5c2c696c74ec38690fc7851f53aff",
       "version_major": 2,
       "version_minor": 0
      },
      "text/plain": [
       "Validation loop:   0%|          | 0/42 [00:00<?, ?it/s]"
      ]
     },
     "metadata": {},
     "output_type": "display_data"
    },
    {
     "name": "stdout",
     "output_type": "stream",
     "text": [
      "Epoch 7/15 - Train loss: 0.0334, Validation loss: 0.0308\n"
     ]
    },
    {
     "data": {
      "application/vnd.jupyter.widget-view+json": {
       "model_id": "bfec3ee6cfb04cabacdec03bfefe9d70",
       "version_major": 2,
       "version_minor": 0
      },
      "text/plain": [
       "Training loop:   0%|          | 0/167 [00:00<?, ?it/s]"
      ]
     },
     "metadata": {},
     "output_type": "display_data"
    },
    {
     "data": {
      "application/vnd.jupyter.widget-view+json": {
       "model_id": "4fc77e19027d48539dd99fc2f94546eb",
       "version_major": 2,
       "version_minor": 0
      },
      "text/plain": [
       "Validation loop:   0%|          | 0/42 [00:00<?, ?it/s]"
      ]
     },
     "metadata": {},
     "output_type": "display_data"
    },
    {
     "name": "stdout",
     "output_type": "stream",
     "text": [
      "Epoch 8/15 - Train loss: 0.0310, Validation loss: 0.0287\n"
     ]
    },
    {
     "data": {
      "application/vnd.jupyter.widget-view+json": {
       "model_id": "60736f7610fa4d519c988735007f2300",
       "version_major": 2,
       "version_minor": 0
      },
      "text/plain": [
       "Training loop:   0%|          | 0/167 [00:00<?, ?it/s]"
      ]
     },
     "metadata": {},
     "output_type": "display_data"
    },
    {
     "data": {
      "application/vnd.jupyter.widget-view+json": {
       "model_id": "9e47957e0b394f9f93842857c362addc",
       "version_major": 2,
       "version_minor": 0
      },
      "text/plain": [
       "Validation loop:   0%|          | 0/42 [00:00<?, ?it/s]"
      ]
     },
     "metadata": {},
     "output_type": "display_data"
    },
    {
     "name": "stdout",
     "output_type": "stream",
     "text": [
      "Epoch 9/15 - Train loss: 0.0289, Validation loss: 0.0268\n"
     ]
    },
    {
     "data": {
      "application/vnd.jupyter.widget-view+json": {
       "model_id": "4d0c2ce0af5b430fb1fc41409e58326d",
       "version_major": 2,
       "version_minor": 0
      },
      "text/plain": [
       "Training loop:   0%|          | 0/167 [00:00<?, ?it/s]"
      ]
     },
     "metadata": {},
     "output_type": "display_data"
    },
    {
     "data": {
      "application/vnd.jupyter.widget-view+json": {
       "model_id": "8abcbbcc7dbc49d3904de0fb97d0bc1a",
       "version_major": 2,
       "version_minor": 0
      },
      "text/plain": [
       "Validation loop:   0%|          | 0/42 [00:00<?, ?it/s]"
      ]
     },
     "metadata": {},
     "output_type": "display_data"
    },
    {
     "name": "stdout",
     "output_type": "stream",
     "text": [
      "Epoch 10/15 - Train loss: 0.0271, Validation loss: 0.0251\n"
     ]
    },
    {
     "data": {
      "application/vnd.jupyter.widget-view+json": {
       "model_id": "4b378178b06b4f3c80458a3796e413e4",
       "version_major": 2,
       "version_minor": 0
      },
      "text/plain": [
       "Training loop:   0%|          | 0/167 [00:00<?, ?it/s]"
      ]
     },
     "metadata": {},
     "output_type": "display_data"
    },
    {
     "data": {
      "application/vnd.jupyter.widget-view+json": {
       "model_id": "fbc1acce8b8b409a87b2b8e1bd4ec424",
       "version_major": 2,
       "version_minor": 0
      },
      "text/plain": [
       "Validation loop:   0%|          | 0/42 [00:00<?, ?it/s]"
      ]
     },
     "metadata": {},
     "output_type": "display_data"
    },
    {
     "name": "stdout",
     "output_type": "stream",
     "text": [
      "Epoch 11/15 - Train loss: 0.0254, Validation loss: 0.0235\n"
     ]
    },
    {
     "data": {
      "application/vnd.jupyter.widget-view+json": {
       "model_id": "d3cd0e8e00e84f6f8b6c014ef41ea666",
       "version_major": 2,
       "version_minor": 0
      },
      "text/plain": [
       "Training loop:   0%|          | 0/167 [00:00<?, ?it/s]"
      ]
     },
     "metadata": {},
     "output_type": "display_data"
    },
    {
     "data": {
      "application/vnd.jupyter.widget-view+json": {
       "model_id": "b47e02a593694e2b84355a5f95a82d82",
       "version_major": 2,
       "version_minor": 0
      },
      "text/plain": [
       "Validation loop:   0%|          | 0/42 [00:00<?, ?it/s]"
      ]
     },
     "metadata": {},
     "output_type": "display_data"
    },
    {
     "name": "stdout",
     "output_type": "stream",
     "text": [
      "Epoch 12/15 - Train loss: 0.0240, Validation loss: 0.0221\n"
     ]
    },
    {
     "data": {
      "application/vnd.jupyter.widget-view+json": {
       "model_id": "e873f001b4a84929bdb25d2d2e58b3ff",
       "version_major": 2,
       "version_minor": 0
      },
      "text/plain": [
       "Training loop:   0%|          | 0/167 [00:00<?, ?it/s]"
      ]
     },
     "metadata": {},
     "output_type": "display_data"
    },
    {
     "data": {
      "application/vnd.jupyter.widget-view+json": {
       "model_id": "a7b4c622c57f44b794091d75aab5ddf1",
       "version_major": 2,
       "version_minor": 0
      },
      "text/plain": [
       "Validation loop:   0%|          | 0/42 [00:00<?, ?it/s]"
      ]
     },
     "metadata": {},
     "output_type": "display_data"
    },
    {
     "name": "stdout",
     "output_type": "stream",
     "text": [
      "Epoch 13/15 - Train loss: 0.0226, Validation loss: 0.0208\n"
     ]
    },
    {
     "data": {
      "application/vnd.jupyter.widget-view+json": {
       "model_id": "975da7899a724618a6422e9ba8a95a2d",
       "version_major": 2,
       "version_minor": 0
      },
      "text/plain": [
       "Training loop:   0%|          | 0/167 [00:00<?, ?it/s]"
      ]
     },
     "metadata": {},
     "output_type": "display_data"
    },
    {
     "data": {
      "application/vnd.jupyter.widget-view+json": {
       "model_id": "4cdc5f8ca25e4d5ab8b5c81b1836ffec",
       "version_major": 2,
       "version_minor": 0
      },
      "text/plain": [
       "Validation loop:   0%|          | 0/42 [00:00<?, ?it/s]"
      ]
     },
     "metadata": {},
     "output_type": "display_data"
    },
    {
     "name": "stdout",
     "output_type": "stream",
     "text": [
      "Epoch 14/15 - Train loss: 0.0213, Validation loss: 0.0197\n"
     ]
    },
    {
     "data": {
      "application/vnd.jupyter.widget-view+json": {
       "model_id": "bc196abe2a1343d589acc760c03e0121",
       "version_major": 2,
       "version_minor": 0
      },
      "text/plain": [
       "Training loop:   0%|          | 0/167 [00:00<?, ?it/s]"
      ]
     },
     "metadata": {},
     "output_type": "display_data"
    },
    {
     "data": {
      "application/vnd.jupyter.widget-view+json": {
       "model_id": "1b610bafc0c44aa287bb7729fbaf1879",
       "version_major": 2,
       "version_minor": 0
      },
      "text/plain": [
       "Validation loop:   0%|          | 0/42 [00:00<?, ?it/s]"
      ]
     },
     "metadata": {},
     "output_type": "display_data"
    },
    {
     "name": "stdout",
     "output_type": "stream",
     "text": [
      "Epoch 15/15 - Train loss: 0.0202, Validation loss: 0.0186\n"
     ]
    }
   ],
   "source": [
    "# Number of epochs\n",
    "num_epochs = 15\n",
    "train_losses, val_losses = [], []\n",
    "\n",
    "for epoch in range(num_epochs):\n",
    "    # Training\n",
    "    model.train()\n",
    "    running_loss = 0.0\n",
    "    for bloom_filters, labels in tqdm(dataloader_train, desc=\"Training loop\"):\n",
    "        # Move data to device\n",
    "        bloom_filters, labels = bloom_filters.to(device), labels.to(device)\n",
    "        optimizer.zero_grad()\n",
    "        outputs = model(bloom_filters)\n",
    "        loss = criterion(outputs, labels)\n",
    "        loss.backward()\n",
    "        optimizer.step()\n",
    "        running_loss += loss.item() * labels.size(0)\n",
    "    train_loss = running_loss / len(dataloader_train.dataset)\n",
    "    train_losses.append(train_loss)\n",
    "\n",
    "    #Validation\n",
    "    model.eval()\n",
    "    running_loss = 0.0\n",
    "    with torch.no_grad():\n",
    "        for bloom_filters, labels in tqdm(dataloader_val, desc=\"Validation loop\"):\n",
    "            # Move data to device\n",
    "            bloom_filters, labels = bloom_filters.to(device), labels.to(device)\n",
    "            \n",
    "            outputs = model(bloom_filters)\n",
    "            loss = criterion(outputs, labels)\n",
    "            running_loss += loss.item() * labels.size(0)\n",
    "        val_loss = running_loss / len(dataloader_val.dataset)\n",
    "        val_losses.append(val_loss)\n",
    "    print(f\"Epoch {epoch+1}/{num_epochs} - Train loss: {train_loss:.4f}, Validation loss: {val_loss:.4f}\")"
   ]
  },
  {
   "cell_type": "markdown",
   "metadata": {},
   "source": [
    "## Visualize Losses"
   ]
  },
  {
   "cell_type": "code",
   "execution_count": 13,
   "metadata": {},
   "outputs": [
    {
     "data": {
      "image/png": "[encoded data removed]",
      "text/plain": [
       "<Figure size 640x480 with 1 Axes>"
      ]
     },
     "metadata": {},
     "output_type": "display_data"
    }
   ],
   "source": [
    "plt.plot(train_losses, label='Training loss')\n",
    "plt.plot(val_losses, label='Validation loss')\n",
    "plt.legend()\n",
    "plt.title(\"Loss over epochs\")\n",
    "plt.show()"
   ]
  },
  {
   "cell_type": "markdown",
   "metadata": {},
   "source": [
    "## Testing Area"
   ]
  },
  {
   "cell_type": "code",
   "execution_count": null,
   "metadata": {},
   "outputs": [],
   "source": [
    "# First entry for reference (labeled data):\n",
    "# surname                                                  Hegarty\n",
    "# firstname                                    Miss. Hanora \"Nora\"\n",
    "# bloomfilter    0000000010100011000100000101000000000000100000001000000000100111011000001001100100000100000000001000000000000000001000100000000000010010000000000000100010001110110111000000000000100000000100000001010000000000100101000011000010001010000001000000000000000000001000011010011001000100000011100100000000000011000100100000110011000000000010000000000010000000000000110000000110000000000010000000011100000001000000100000001100101011001000000000010000001000000000001000010110110000000001001000100001010111010000000010000000111000000000010010110000000000001000000101010001000000001000001000010000100110000111001110000000001010011110000100000000000100000001100001100000000000010000000000000000000000100000000010000001000000000011100000000000001000101000010100001001000011000000000010001100000000100000001000001000000000100000101000000000000000000010000000100000000100001000000100000000000000011100000001001000000001100010000001000001000000000000010100100000000110101110010000010000010100000000011000001000000001110000101001000010101111\n",
    "# uid                                                          654\n",
    "# Name: 0, dtype: object\n",
    "#print('Length Labeled data:', len(data_labeled))\n",
    "#print('Length Unlabeled data:', len(data_not_labeled))\n",
    "\n",
    "#bloomfilter_tensor, label_tensor = data_labeled[0]\n",
    "\n",
    "#print('Bloom Filter Tensor:', bloomfilter_tensor)\n",
    "#print('Bloom Filter Tensor Shape:', bloomfilter_tensor.shape)\n",
    "#print('Label Tensor:', label_tensor)\n",
    "#print('Label Tensor Shape:', label_tensor.shape)\n",
    "\n",
    "#for bloomfilter_tensors, label_tensors in dataloader_train:\n",
    "#    print('Bloom Filter Tensor Shape:', bloomfilter_tensors.shape)\n",
    "#    print('Label Tensor Shape:', label_tensors.shape)\n",
    "#    print(label_tensors)\n",
    "#    break\n",
    "\n",
    "#print(str(model)[:500])\n",
    "#example_bloom, example_label = data_train[0]\n",
    "#example_out = model(example_bloom)\n",
    "#print(example_out.shape) \n",
    "#loss_function_applied = criterion(example_out, example_label)\n",
    "#print(loss_function_applied)\n",
    "#print(example_out)\n",
    "\n",
    "print(data_labeled[0])\n",
    " \n",
    "# Apply model\n",
    "result = model(bloomfilter_tensor)\n",
    "# Result = Tensor of shape 676 with prob. for each 2gram\n",
    "two_gram_scores = {two_gram_dict[i]: score.item() for i, score in enumerate(result)}\n",
    "\n",
    "threshold = 0.000000001\n",
    "filtered_two_gram_scores = {two_gram: score for two_gram, score in two_gram_scores.items() if score > threshold}\n",
    "filtered_two_gram_scores"
   ]
  },
  {
   "cell_type": "code",
   "execution_count": 18,
   "metadata": {},
   "outputs": [
    {
     "name": "stdout",
     "output_type": "stream",
     "text": [
      "To Decode:  bloomfilter    0000000000001000000000001000000000000001100000...\n",
      "uid                                                        22766\n",
      "Name: 1, dtype: object\n",
      "BF Tensor:  tensor([0., 0., 0.,  ..., 0., 0., 0.])\n",
      "Prob:  tensor([2.0339e-02, 1.1964e-02, 1.9276e-02,  ..., 4.6033e-05, 2.9569e-05,\n",
      "        2.9508e-05], grad_fn=<SigmoidBackward0>)\n",
      "Decoded 2grams:  {'jo': 0.22115670144557953, 'ob': 0.2528606355190277, 'on': 0.9705377221107483, 'ro': 0.9747009873390198, 'so': 0.22710715234279633}\n"
     ]
    }
   ],
   "source": [
    "print(\"To Decode: \",df_not_reidentified_individuals.iloc[1])\n",
    "#torch.set_printoptions(profile=\"full\")\n",
    "#torch.set_printoptions(profile=\"default\")\n",
    "print(\"BF Tensor: \", data_not_labeled[1])\n",
    "# Apply model\n",
    "model.eval()\n",
    "logits = model(data_not_labeled[1])\n",
    "probabilities = torch.sigmoid(logits)\n",
    "print(\"Prob: \", probabilities)\n",
    "two_gram_scores = {two_gram_dict[i]: score.item() for i, score in enumerate(probabilities)}\n",
    "threshold = 0.2\n",
    "filtered_two_gram_scores = {two_gram: score for two_gram, score in two_gram_scores.items() if score > threshold}\n",
    "print(\"Decoded 2grams: \", filtered_two_gram_scores)\n",
    "\n",
    "# person is: Roy\tJeon\t9/19/1975\n",
    "# to or re\n",
    "# at tt "
   ]
  },
  {
   "cell_type": "code",
   "execution_count": null,
   "metadata": {},
   "outputs": [],
   "source": [
    "for bloom_filters, labels in dataloader_train:\n",
    "    print(\"Bloom Filters Batch Shape:\", bloom_filters.shape)\n",
    "    print(\"Labels Batch Shape:\", labels.shape)\n",
    "    break"
   ]
  },
  {
   "cell_type": "code",
   "execution_count": null,
   "metadata": {},
   "outputs": [],
   "source": [
    "model = nn.Linear(20, 5) # predict logits for 5 classes\n",
    "x = torch.randn(1, 20)\n",
    "print(x.shape)\n",
    "y = torch.tensor([[1., 0., 1., 0., 0.]]) # get classA and classC as active\n",
    "print(y.shape)\n",
    "\n",
    "criterion = nn.BCEWithLogitsLoss()\n",
    "optimizer = optim.SGD(model.parameters(), lr=1e-1)\n",
    "\n",
    "for epoch in range(20):\n",
    "    optimizer.zero_grad()\n",
    "    output = model(x)\n",
    "    loss = criterion(output, y)\n",
    "    loss.backward()\n",
    "    optimizer.step()\n",
    "    print('Loss: {:.3f}'.format(loss.item()))"
   ]
  },
  {
   "cell_type": "code",
   "execution_count": null,
   "metadata": {},
   "outputs": [],
   "source": [
    "for bloom_filters, labels in dataloader_train:\n",
    "    print(\"Bloom Filters Batch Shape:\", bloom_filters[0])\n",
    "    print(\"Labels Batch Shape:\", labels[0])\n",
    "    break"
   ]
  }
 ],
 "metadata": {
  "kernelspec": {
   "display_name": "Python 3",
   "language": "python",
   "name": "python3"
  },
  "language_info": {
   "codemirror_mode": {
    "name": "ipython",
    "version": 3
   },
   "file_extension": ".py",
   "mimetype": "text/x-python",
   "name": "python",
   "nbconvert_exporter": "python",
   "pygments_lexer": "ipython3",
   "version": "3.10.16"
  }
 },
 "nbformat": 4,
 "nbformat_minor": 2
}
