{
 "cells": [
  {
   "cell_type": "markdown",
   "metadata": {},
   "source": [
    "# Privacy-Preserving Record Linkage (PPRL): Investigating Dataset Extension Attacks"
   ]
  },
  {
   "cell_type": "markdown",
   "metadata": {},
   "source": [
    "## Imports\n",
    "\n",
    "Import all relevant libraries and classes used throughout the project. Key components include:\n",
    "\n",
    "- **Torch** – for tensor operations and neural network functionality  \n",
    "- **Datasets** – for handling training and evaluation data  \n",
    "- **PyTorch Models** – custom and pre-defined models for the DEA  \n",
    "- **Graph Matching Attack (GMA)** – core logic for the initial re-identification phase\n"
   ]
  },
  {
   "cell_type": "code",
   "execution_count": 1,
   "metadata": {},
   "outputs": [
    {
     "name": "stdout",
     "output_type": "stream",
     "text": [
      "Using NumPy dot (Mac)\n",
      "System Version: 3.10.16 | packaged by conda-forge | (main, Dec  5 2024, 14:20:01) [Clang 18.1.8 ]\n",
      "PyTorch version 2.1.2\n",
      "Torchvision version 0.16.2\n",
      "Numpy version 1.24.4\n",
      "Pandas version 2.0.3\n"
     ]
    }
   ],
   "source": [
    "import os\n",
    "\n",
    "import torch\n",
    "from torch.utils.tensorboard import SummaryWriter\n",
    "import torch.nn as nn\n",
    "import torch.optim as optim\n",
    "from torch.utils.data import DataLoader, random_split\n",
    "import torchvision\n",
    "\n",
    "from utils import *\n",
    "\n",
    "import matplotlib.pyplot as plt # For data viz\n",
    "import pandas as pd\n",
    "import hickle as hkl\n",
    "import numpy as np\n",
    "import string\n",
    "import sys\n",
    "from tqdm.notebook import tqdm\n",
    "\n",
    "from graphMatching.gma import run_gma\n",
    "\n",
    "from datasets.bloom_filter_dataset import BloomFilterDataset\n",
    "from datasets.tab_min_hash_dataset import TabMinHashDataset\n",
    "from datasets.two_step_hash_dataset import TwoStepHashDataset\n",
    "\n",
    "from pytorch_models.bloom_filter_to_two_gram_classifier import BloomFilterToTwoGramClassifier\n",
    "from pytorch_models.tab_min_hash_to_two_gram_classifier import TabMinHashToTwoGramClassifier\n",
    "from pytorch_models.two_step_hash_to_two_gram_classifier import TwoStepHashToTwoGramClassifier\n",
    "from pytorch_models.test_model import TestModel\n",
    "\n",
    "from early_stopping.early_stopping import EarlyStopping\n",
    "\n",
    "print('System Version:', sys.version)\n",
    "print('PyTorch version', torch.__version__)\n",
    "print('Torchvision version', torchvision.__version__)\n",
    "print('Numpy version', np.__version__)\n",
    "print('Pandas version', pd.__version__)"
   ]
  },
  {
   "cell_type": "markdown",
   "metadata": {},
   "source": [
    "## Parameters\n",
    "\n",
    "Configuration and parameters for the Graph Matching Attack (GMA) and Dataset Extension Attack (DEA). For details and possible values, refer to the documentation at ```./docs/parameters.md```."
   ]
  },
  {
   "cell_type": "code",
   "execution_count": 2,
   "metadata": {},
   "outputs": [],
   "source": [
    "# Parameters\n",
    "GLOBAL_CONFIG = {\n",
    "    \"Data\": \"./data/datasets/fakename_1k.tsv\",\n",
    "    \"Overlap\": 0.8,\n",
    "    \"DropFrom\": \"Eve\",\n",
    "    \"Verbose\": True,  # Print Status Messages\n",
    "    \"MatchingMetric\": \"cosine\",\n",
    "    \"Matching\": \"MinWeight\",\n",
    "    \"Workers\": -1,\n",
    "    \"SaveAliceEncs\": False,\n",
    "    \"SaveEveEncs\": False,\n",
    "    \"DevMode\": False,\n",
    "}\n",
    "\n",
    "\n",
    "DEA_CONFIG = {\n",
    "    \"DevMode\": False,\n",
    "    # BCEWithLogitsLoss / MultiLabelSoftMarginLoss\n",
    "    \"LossFunction:\": \"BCEWithLogitsLoss\",\n",
    "    # Adam / AdamW / SGD / RMSprop\n",
    "    \"Optimizer\": \"Adam\",\n",
    "    \"LearningRate\": 0.001,\n",
    "    # SGD only\n",
    "    \"Momentum\": 0.9,\n",
    "    \"BatchSize\": 16,\n",
    "    \"Epochs\": 20,\n",
    "    # TestSize calculated accordingly\n",
    "    \"TrainSize\": 0.8,\n",
    "    \"FilterThreshold\": 0.5,\n",
    "    \"Patience\": 5,\n",
    "    \"MinDelta\": 0.001,\n",
    "}\n",
    "\n",
    "ENC_CONFIG = {\n",
    "    # TwoStepHash / TabMinHash / BloomFilter\n",
    "    \"AliceAlgo\": \"BloomFilter\",\n",
    "    \"AliceSecret\": \"SuperSecretSalt1337\",\n",
    "    \"AliceN\": 2,\n",
    "    \"AliceMetric\": \"dice\",\n",
    "    \"EveAlgo\": \"None\",\n",
    "    \"EveSecret\": \"ATotallyDifferentString42\",\n",
    "    \"EveN\": 2,\n",
    "    \"EveMetric\": \"dice\",\n",
    "    # For BF encoding\n",
    "    \"AliceBFLength\": 1024,\n",
    "    \"AliceBits\": 10,\n",
    "    \"AliceDiffuse\": False,\n",
    "    \"AliceT\": 10,\n",
    "    \"AliceEldLength\": 1024,\n",
    "    \"EveBFLength\": 1024,\n",
    "    \"EveBits\": 10,\n",
    "    \"EveDiffuse\": False,\n",
    "    \"EveT\": 10,\n",
    "    \"EveEldLength\": 1024,\n",
    "    # For TMH encoding\n",
    "    \"AliceNHash\": 1024,\n",
    "    \"AliceNHashBits\": 64,\n",
    "    \"AliceNSubKeys\": 8,\n",
    "    \"Alice1BitHash\": True,\n",
    "    \"EveNHash\": 1024,\n",
    "    \"EveNHashBits\": 64,\n",
    "    \"EveNSubKeys\": 8,\n",
    "    \"Eve1BitHash\": True,\n",
    "    # For 2SH encoding\n",
    "    \"AliceNHashFunc\": 10,\n",
    "    \"AliceNHashCol\": 1000,\n",
    "    \"AliceRandMode\": \"PNG\",\n",
    "    \"EveNHashFunc\": 10,\n",
    "    \"EveNHashCol\": 1000,\n",
    "    \"EveRandMode\": \"PNG\",\n",
    "}\n",
    "\n",
    "EMB_CONFIG = {\n",
    "    \"Algo\": \"Node2Vec\",\n",
    "    \"AliceQuantile\": 0.9,\n",
    "    \"AliceDiscretize\": False,\n",
    "    \"AliceDim\": 128,\n",
    "    \"AliceContext\": 10,\n",
    "    \"AliceNegative\": 1,\n",
    "    \"AliceNormalize\": True,\n",
    "    \"EveQuantile\": 0.9,\n",
    "    \"EveDiscretize\": False,\n",
    "    \"EveDim\": 128,\n",
    "    \"EveContext\": 10,\n",
    "    \"EveNegative\": 1,\n",
    "    \"EveNormalize\": True,\n",
    "    # For Node2Vec\n",
    "    \"AliceWalkLen\": 100,\n",
    "    \"AliceNWalks\": 20,\n",
    "    \"AliceP\": 250,\n",
    "    \"AliceQ\": 300,\n",
    "    \"AliceEpochs\": 5,\n",
    "    \"AliceSeed\": 42,\n",
    "    \"EveWalkLen\": 100,\n",
    "    \"EveNWalks\": 20,\n",
    "    \"EveP\": 250,\n",
    "    \"EveQ\": 300,\n",
    "    \"EveEpochs\": 5,\n",
    "    \"EveSeed\": 42\n",
    "}\n",
    "\n",
    "ALIGN_CONFIG = {\n",
    "    \"RegWS\": max(0.1, GLOBAL_CONFIG[\"Overlap\"]/2), #0005\n",
    "    \"RegInit\":1, # For BF 0.25\n",
    "    \"Batchsize\": 1, # 1 = 100%\n",
    "    \"LR\": 200.0,\n",
    "    \"NIterWS\": 100,\n",
    "    \"NIterInit\": 5 ,  # 800\n",
    "    \"NEpochWS\": 100,\n",
    "    \"LRDecay\": 1,\n",
    "    \"Sqrt\": True,\n",
    "    \"EarlyStopping\": 10,\n",
    "    \"Selection\": \"None\",\n",
    "    \"MaxLoad\": None,\n",
    "    \"Wasserstein\": True\n",
    "}"
   ]
  },
  {
   "cell_type": "markdown",
   "metadata": {},
   "source": [
    "## 🔍 Data Preparation: Load or Compute Graph Matching Attack (GMA) Results\n",
    "\n",
    "This code snippet either loads previously computed Graph Matching Attack (GMA) results from disk or runs the attack if no saved data is found.\n",
    "\n",
    "1. **Generate Configuration Hashes:**  \n",
    "   The function `get_hashes` creates unique hash values based on the encoding and embedding configurations. These are used to create distinct filenames for the data.\n",
    "\n",
    "2. **Create File Paths:**  \n",
    "   Based on the configuration hashes, paths are generated for:\n",
    "   - Reidentified individuals\n",
    "   - Not reidentified individuals\n",
    "   - All individuals in Alice’s dataset (with encoding)\n",
    "\n",
    "3. **Load Results from Disk (if available):**  \n",
    "   If the `.h5` files already exist, they are loaded using `hickle` and converted into `pandas.DataFrames`.  \n",
    "   The data format assumes that the first row contains the column headers, and the rest is the data — hence the slicing `[1:]` and `columns=...`.\n",
    "\n",
    "4. **Run GMA If Data Is Not Available:**  \n",
    "   If the files are missing, the GMA is executed via `run_gma()`. The results are again converted to `DataFrames`.\n"
   ]
  },
  {
   "cell_type": "code",
   "execution_count": 3,
   "metadata": {},
   "outputs": [
    {
     "name": "stdout",
     "output_type": "stream",
     "text": [
      "Loading previously saved attack results...\n"
     ]
    }
   ],
   "source": [
    "# Get unique hash identifiers for the encoding and embedding configurations\n",
    "eve_enc_hash, alice_enc_hash, eve_emb_hash, alice_emb_hash = get_hashes(GLOBAL_CONFIG, ENC_CONFIG, EMB_CONFIG)\n",
    "\n",
    "# Define file paths based on the configuration hashes\n",
    "path_reidentified = f\"./data/available_to_eve/reidentified_individuals_{eve_enc_hash}_{alice_enc_hash}_{eve_emb_hash}_{alice_emb_hash}.h5\"\n",
    "path_not_reidentified = f\"./data/available_to_eve/not_reidentified_individuals_{eve_enc_hash}_{alice_enc_hash}_{eve_emb_hash}_{alice_emb_hash}.h5\"\n",
    "path_all = f\"./data/dev/alice_data_complete_with_encoding_{eve_enc_hash}_{alice_enc_hash}_{eve_emb_hash}_{alice_emb_hash}.h5\"\n",
    "\n",
    "# Check if the output files already exist\n",
    "if os.path.isfile(path_reidentified) and os.path.isfile(path_not_reidentified) and os.path.isfile(path_all):\n",
    "    # Load previously saved attack results\n",
    "    print(\"Loading previously saved attack results...\")\n",
    "    reidentified_data = hkl.load(path_reidentified)\n",
    "    not_reidentified_data = hkl.load(path_not_reidentified)\n",
    "    all_data = hkl.load(path_all)\n",
    "\n",
    "else:\n",
    "    # Run Graph Matching Attack if files are not found\n",
    "    reidentified_data, not_reidentified_data, all_data = run_gma(\n",
    "        GLOBAL_CONFIG, ENC_CONFIG, EMB_CONFIG, ALIGN_CONFIG, DEA_CONFIG,\n",
    "        eve_enc_hash, alice_enc_hash, eve_emb_hash, alice_emb_hash\n",
    "    )\n",
    "\n",
    "# Convert lists to DataFrames\n",
    "df_reidentified = pd.DataFrame(reidentified_data[1:], columns=reidentified_data[0])\n",
    "df_not_reidentified = pd.DataFrame(not_reidentified_data[1:], columns=not_reidentified_data[0])\n",
    "df_all = pd.DataFrame(all_data[1:], columns=all_data[0])"
   ]
  },
  {
   "cell_type": "markdown",
   "metadata": {},
   "source": [
    "## 🔤 Create 2-Gram Dictionary (Letters & Digits)\n",
    "\n",
    "This code creates a comprehensive dictionary of all possible **2-grams** (two-character combinations) that consist of lowercase letters and digits.\n",
    "\n",
    "1. **Character Sets:**\n",
    "   - `string.ascii_lowercase`: the lowercase English alphabet ('a' to 'z')\n",
    "   - `string.digits`: the digits '0' to '9'\n",
    "\n",
    "2. **2-Gram Types Generated:**\n",
    "   - **Letter-Letter (LL):** All combinations like `'aa'`, `'ab'`, ..., `'zz'` (26×26 = 676)\n",
    "   - **Digit-Digit (DD):** All combinations like `'00'`, `'01'`, ..., `'99'` (10×10 = 100)\n",
    "   - **Letter-Digit (LD):** All combinations like `'a0'`, `'a1'`, ..., `'z9'` (26×10 = 260)\n",
    "\n",
    "3. **Combining All 2-Grams:**\n",
    "   - All three types are concatenated into a single list.\n",
    "\n",
    "4. **Indexed Dictionary:**\n",
    "   - The `enumerate()` function is used to assign each 2-gram a unique index in `two_gram_dict`.\n"
   ]
  },
  {
   "cell_type": "code",
   "execution_count": 4,
   "metadata": {},
   "outputs": [],
   "source": [
    "# --- Generate a dictionary of all possible 2-grams from letters and digits ---\n",
    "\n",
    "# Lowercase alphabet: 'a' to 'z'\n",
    "alphabet = string.ascii_lowercase\n",
    "\n",
    "# Digits: '0' to '9'\n",
    "digits = string.digits\n",
    "\n",
    "# Generate all letter-letter 2-grams (e.g., 'aa', 'ab', ..., 'zz')\n",
    "letter_letter_grams = [a + b for a in alphabet for b in alphabet]\n",
    "\n",
    "# Generate all digit-digit 2-grams (e.g., '00', '01', ..., '99')\n",
    "digit_digit_grams = [d1 + d2 for d1 in digits for d2 in digits]\n",
    "\n",
    "# Generate all letter-digit 2-grams (e.g., 'a0', 'a1', ..., 'z9')\n",
    "letter_digit_grams = [l + d for l in alphabet for d in digits]\n",
    "\n",
    "# Combine all generated 2-grams into one list\n",
    "all_two_grams = letter_letter_grams + letter_digit_grams + digit_digit_grams\n",
    "\n",
    "# Create a dictionary mapping index to each 2-gram\n",
    "two_gram_dict = {i: two_gram for i, two_gram in enumerate(all_two_grams)}"
   ]
  },
  {
   "cell_type": "markdown",
   "metadata": {},
   "source": [
    "## 🧩 Dataset Creation Based on Alice’s Encoding Scheme\n",
    "\n",
    "This section initializes the dataset objects depending on which encoding method Alice used. Each encoding requires a different preprocessing strategy for compatibility with downstream neural models.\n",
    "\n",
    "### 1. Bloom Filter (`\"BloomFilter\"`)\n",
    "- Uses binary Bloom filters to represent identifiers.\n",
    "- Loads `BloomFilterDataset` objects.\n",
    "- Stores the bit-length of the bloom filter.\n",
    "\n",
    "### 2. Tabulation MinHash (`\"TabMinHash\"`)\n",
    "- Applies a MinHash-based encoding.\n",
    "- Loads `TabMinHashDataset`.\n",
    "- Captures the length of each encoded vector.\n",
    "\n",
    "### 3. Two-Step Hash with One-Hot Encoding (`\"TwoStepHash\"`)\n",
    "- Extracts all **unique hash values** to build a consistent one-hot vector space.\n",
    "- Constructs datasets using `TwoStepHashDatasetOneHotEncoding`.\n",
    "\n",
    "> ⚙️ All dataset constructors are passed:\n",
    "> - Whether the data is labeled\n",
    "> - The full 2-gram list (used as feature tokens)\n",
    "> - Additional encoding-specific configurations\n",
    "> - Dev mode toggle (for debugging or smaller runs)\n"
   ]
  },
  {
   "cell_type": "code",
   "execution_count": 5,
   "metadata": {},
   "outputs": [],
   "source": [
    "# 1️ Bloom Filter Encoding\n",
    "if ENC_CONFIG[\"AliceAlgo\"] == \"BloomFilter\":\n",
    "    data_labeled = BloomFilterDataset(\n",
    "        df_reidentified,\n",
    "        is_labeled=True,\n",
    "        all_two_grams=all_two_grams,\n",
    "        dev_mode=GLOBAL_CONFIG[\"DevMode\"]\n",
    "    )\n",
    "    data_not_labeled = BloomFilterDataset(\n",
    "        df_not_reidentified,\n",
    "        is_labeled=False,\n",
    "        all_two_grams=all_two_grams,\n",
    "        dev_mode=GLOBAL_CONFIG[\"DevMode\"]\n",
    "    )\n",
    "    bloomfilter_length = len(df_reidentified[\"bloomfilter\"][0])\n",
    "\n",
    "# 2️ Tabulation MinHash Encoding\n",
    "elif ENC_CONFIG[\"AliceAlgo\"] == \"TabMinHash\":\n",
    "    data_labeled = TabMinHashDataset(\n",
    "        df_reidentified,\n",
    "        is_labeled=True,\n",
    "        all_two_grams=all_two_grams,\n",
    "        dev_mode=GLOBAL_CONFIG[\"DevMode\"]\n",
    "    )\n",
    "    data_not_labeled = TabMinHashDataset(\n",
    "        df_not_reidentified,\n",
    "        is_labeled=False,\n",
    "        all_two_grams=all_two_grams,\n",
    "        dev_mode=GLOBAL_CONFIG[\"DevMode\"]\n",
    "    )\n",
    "    tabminhash_length = len(df_reidentified[\"tabminhash\"][0])\n",
    "\n",
    "# 3 Two-Step Hash Encoding (One-Hot Encoding Mode)\n",
    "elif ENC_CONFIG[\"AliceAlgo\"] == \"TwoStepHash\":\n",
    "    # Collect all unique integers across both reidentified and non-reidentified data\n",
    "    unique_ints_reid = set().union(*df_reidentified[\"twostephash\"])\n",
    "    unique_ints_not_reid = set().union(*df_not_reidentified[\"twostephash\"])\n",
    "    unique_ints_sorted = sorted(unique_ints_reid.union(unique_ints_not_reid))\n",
    "    unique_integers_dict = {i: val for i, val in enumerate(unique_ints_sorted)}\n",
    "\n",
    "    data_labeled = TwoStepHashDataset(\n",
    "        df_reidentified,\n",
    "        is_labeled=True,\n",
    "        all_integers=unique_ints_sorted,\n",
    "        all_two_grams=all_two_grams,\n",
    "        dev_mode=GLOBAL_CONFIG[\"DevMode\"]\n",
    "    )\n",
    "    data_not_labeled = TwoStepHashDataset(\n",
    "        df_not_reidentified,\n",
    "        is_labeled=False,\n",
    "        all_integers=unique_ints_sorted,\n",
    "        all_two_grams=all_two_grams,\n",
    "        dev_mode=GLOBAL_CONFIG[\"DevMode\"]\n",
    "    )"
   ]
  },
  {
   "cell_type": "markdown",
   "metadata": {},
   "source": [
    "## Data Splitting & Loader Setup\n",
    "\n",
    "After preprocessing the encoded data, we divide it into training, validation, and test sets using PyTorch's `DataLoader` and `random_split`.\n",
    "\n",
    "### Dataset Proportions\n",
    "- The proportion for the training set is defined in `DEA_CONFIG[\"TrainSize\"]`.\n",
    "- The remainder is used for validation.\n",
    "\n",
    "### Splitting\n",
    "- `data_labeled` (the reidentified individuals) is split into:\n",
    "  - `data_train` for training\n",
    "  - `data_val` for validation\n",
    "- `data_not_labeled` (unidentified individuals) is used exclusively for testing.\n",
    "\n",
    "### Dataloader Configuration\n",
    "- **Training Loader**: shuffled for learning generalization.\n",
    "- **Validation Loader**: also shuffled to vary batches during evaluation.\n",
    "- **Test Loader**: also shuffled.\n"
   ]
  },
  {
   "cell_type": "code",
   "execution_count": 6,
   "metadata": {},
   "outputs": [],
   "source": [
    "# Define dataset split proportions\n",
    "train_size = int(DEA_CONFIG[\"TrainSize\"] * len(data_labeled))\n",
    "val_size = len(data_labeled) - train_size\n",
    "\n",
    "# Split the reidentified dataset into training and validation sets\n",
    "data_train, data_val = random_split(data_labeled, [train_size, val_size])\n",
    "\n",
    "# Create DataLoaders for training, validation, and testing\n",
    "dataloader_train = DataLoader(\n",
    "    data_train,\n",
    "    batch_size=DEA_CONFIG[\"BatchSize\"],\n",
    "    shuffle=True  # Important for training\n",
    ")\n",
    "\n",
    "dataloader_val = DataLoader(\n",
    "    data_val,\n",
    "    batch_size=DEA_CONFIG[\"BatchSize\"],\n",
    "    shuffle=True  # Allows variation in validation batches\n",
    ")\n",
    "\n",
    "dataloader_test = DataLoader(\n",
    "    data_not_labeled,\n",
    "    batch_size=DEA_CONFIG[\"BatchSize\"],\n",
    "    shuffle=True\n",
    ")"
   ]
  },
  {
   "cell_type": "markdown",
   "metadata": {},
   "source": [
    "## Model Instantiation Based on Encoding Scheme\n",
    "\n",
    "The neural network model is selected dynamically based on the encoding technique used for Alice’s data.\n",
    "\n",
    "### Supported Models:\n",
    "\n",
    "- **BloomFilter** → `BloomFilterToTwoGramClassifier`  \n",
    "  - Input: Binary vector (Bloom filter)  \n",
    "  - Output: 2-gram prediction\n",
    "\n",
    "- **TabMinHash** → `TabMinHashToTwoGramClassifier`  \n",
    "  - Input: Tabulated MinHash signature  \n",
    "  - Output: 2-gram prediction\n",
    "\n",
    "- **TwoStepHash** → `TwoStepHashToTwoGramClassifier`  \n",
    "  - Input: Length of the unique integers present\n",
    "  - Output: 2-gram predicition\n",
    "    \n",
    "Each model outputs predictions over the set of all possible 2-grams (`all_two_grams`), and the input dimension is dynamically configured based on the dataset.\n"
   ]
  },
  {
   "cell_type": "code",
   "execution_count": null,
   "metadata": {},
   "outputs": [],
   "source": [
    "model = TestModel(\n",
    "    input_dim=bloomfilter_length,\n",
    "    output_dim=len(all_two_grams),\n",
    ")"
   ]
  },
  {
   "cell_type": "code",
   "execution_count": 7,
   "metadata": {},
   "outputs": [],
   "source": [
    "# Instantiate model based on selected encoding scheme\n",
    "if ENC_CONFIG[\"AliceAlgo\"] == \"BloomFilter\":\n",
    "    model = BloomFilterToTwoGramClassifier(\n",
    "        input_dim=bloomfilter_length,\n",
    "        output_dim=len(all_two_grams)\n",
    "    )\n",
    "\n",
    "elif ENC_CONFIG[\"AliceAlgo\"] == \"TabMinHash\":\n",
    "    model = TabMinHashToTwoGramClassifier(\n",
    "        input_dim=tabminhash_length,\n",
    "        output_dim=len(all_two_grams)\n",
    "    )\n",
    "\n",
    "elif ENC_CONFIG[\"AliceAlgo\"] == \"TwoStepHash\":\n",
    "    model = TwoStepHashToTwoGramClassifier(\n",
    "        input_dim=len(unique_ints_sorted),\n",
    "        output_dim=len(all_two_grams)\n",
    "    )"
   ]
  },
  {
   "cell_type": "markdown",
   "metadata": {},
   "source": [
    "## Training Environment Setup\n",
    "This code initializes the core components needed for training a neural network model.\n",
    "\n",
    "1. TensorBoard Setup\n",
    "    - Creates unique run name by combining:\n",
    "    - Loss function type\n",
    "    - Optimizer choice\n",
    "    - Alice's algorithm\n",
    "    - Initializes TensorBoard writer in runs directory\n",
    "2. Device Configuration\n",
    "    - Automatically selects GPU if available, falls back to CPU\n",
    "    - Moves model to selected device\n",
    "3. Loss Functions\n",
    "    - `BCEWithLogitsLoss`: Binary Cross Entropy with Logits\n",
    "    - `MultiLabelSoftMarginLoss`: Multi-Label Soft Margin Loss\n",
    "4. Optimizers:\n",
    "    - `Adam`: Adaptive Moment Estimation\n",
    "    - `AdamW`: Adam with Weight Decay\n",
    "    - `SGD`: Stochastic Gradient Descent (with momentum)\n",
    "    - `RMSprop`: Root Mean Square Propagation"
   ]
  },
  {
   "cell_type": "code",
   "execution_count": 8,
   "metadata": {},
   "outputs": [],
   "source": [
    "# Setup tensorboard logging\n",
    "run_name = \"\".join([\n",
    "    DEA_CONFIG[\"LossFunction:\"],\n",
    "    DEA_CONFIG[\"Optimizer\"],\n",
    "    ENC_CONFIG[\"AliceAlgo\"],\n",
    "])\n",
    "tb_writer = SummaryWriter(f\"runs/{run_name}\")\n",
    "\n",
    "# Setup compute device (GPU/CPU)\n",
    "compute_device = torch.device(\"cuda:0\" if torch.cuda.is_available() else \"cpu\")\n",
    "model.to(compute_device)\n",
    "\n",
    "# Initialize loss function\n",
    "match DEA_CONFIG[\"LossFunction:\"]:\n",
    "    case \"BCEWithLogitsLoss\":\n",
    "        criterion = nn.BCEWithLogitsLoss(reduction='mean')\n",
    "    case \"MultiLabelSoftMarginLoss\":\n",
    "        criterion = nn.MultiLabelSoftMarginLoss(reduction='mean')\n",
    "    case _:\n",
    "        raise ValueError(f\"Unsupported loss function: {DEA_CONFIG['LossFunction:']}\")\n",
    "\n",
    "# Initialize optimizer\n",
    "match DEA_CONFIG[\"Optimizer\"]:\n",
    "    case \"Adam\":\n",
    "        optimizer = optim.Adam(model.parameters(), lr=DEA_CONFIG[\"LearningRate\"])\n",
    "    case \"AdamW\":\n",
    "        optimizer = optim.AdamW(model.parameters(), lr=DEA_CONFIG[\"LearningRate\"])\n",
    "    case \"SGD\":\n",
    "        optimizer = optim.SGD(model.parameters(),\n",
    "                            lr=DEA_CONFIG[\"LearningRate\"],\n",
    "                            momentum=DEA_CONFIG[\"Momentum\"])\n",
    "    case \"RMSprop\":\n",
    "        optimizer = optim.RMSprop(model.parameters(), lr=DEA_CONFIG[\"LearningRate\"])\n",
    "    case _:\n",
    "        raise ValueError(f\"Unsupported optimizer: {DEA_CONFIG['Optimizer']}\")"
   ]
  },
  {
   "cell_type": "markdown",
   "metadata": {},
   "source": [
    "## Model Training with Early Stopping\n",
    "\n",
    "The function `train_model` orchestrates the training process for the neural network, including both training and validation phases for each epoch. It also utilizes **early stopping** to halt training when the validation loss fails to improve over multiple epochs, avoiding overfitting.\n",
    "\n",
    "### Key Phases:\n",
    "1. **Training Phase**: \n",
    "   - The model is trained on the `dataloader_train`, computing the training loss using the specified loss function (`criterion`) and optimizer. Gradients are calculated, and the model parameters are updated.\n",
    "  \n",
    "2. **Validation Phase**:\n",
    "   - The model is evaluated on the `dataloader_val` without updating weights. The validation loss is computed to track model performance on unseen data.\n",
    "\n",
    "3. **Logging**: \n",
    "   - Training and validation losses are logged to both the console and **TensorBoard** for tracking model performance during training.\n",
    "\n",
    "4. **Early Stopping**: \n",
    "   - If the validation loss does not improve after a certain number of epochs (defined by `DEA_CONFIG[\"Patience\"]`), the training process is halted to prevent overfitting.\n",
    "\n",
    "### Helper Functions:\n",
    "- `run_epoch`: Handles a single epoch, either for training or validation, depending on the flag `is_training`.\n",
    "- `log_metrics`: Logs the training and validation losses to the console and TensorBoard for each epoch.\n"
   ]
  },
  {
   "cell_type": "code",
   "execution_count": 9,
   "metadata": {},
   "outputs": [
    {
     "data": {
      "application/vnd.jupyter.widget-view+json": {
       "model_id": "caf5e5a06abe4aa6beecebdf8d699653",
       "version_major": 2,
       "version_minor": 0
      },
      "text/plain": [
       "Training:   0%|          | 0/40 [00:00<?, ?it/s]"
      ]
     },
     "metadata": {},
     "output_type": "display_data"
    },
    {
     "data": {
      "application/vnd.jupyter.widget-view+json": {
       "model_id": "0926e441189c4267bfca61c59955bb7c",
       "version_major": 2,
       "version_minor": 0
      },
      "text/plain": [
       "Validation:   0%|          | 0/10 [00:00<?, ?it/s]"
      ]
     },
     "metadata": {},
     "output_type": "display_data"
    },
    {
     "name": "stdout",
     "output_type": "stream",
     "text": [
      "Epoch 1/20 - Train loss: 0.1599, Validation loss: 0.0688\n",
      "best_loss updated from  inf  to  0.06879393607378007\n"
     ]
    },
    {
     "data": {
      "application/vnd.jupyter.widget-view+json": {
       "model_id": "8ff20ece621b449fb9ef8e234e84cd59",
       "version_major": 2,
       "version_minor": 0
      },
      "text/plain": [
       "Training:   0%|          | 0/40 [00:00<?, ?it/s]"
      ]
     },
     "metadata": {},
     "output_type": "display_data"
    },
    {
     "data": {
      "application/vnd.jupyter.widget-view+json": {
       "model_id": "75b6c2be31544a72a9f5d0f1c1404e07",
       "version_major": 2,
       "version_minor": 0
      },
      "text/plain": [
       "Validation:   0%|          | 0/10 [00:00<?, ?it/s]"
      ]
     },
     "metadata": {},
     "output_type": "display_data"
    },
    {
     "name": "stdout",
     "output_type": "stream",
     "text": [
      "Epoch 2/20 - Train loss: 0.0668, Validation loss: 0.0656\n",
      "best_loss updated from  0.06879393607378007  to  0.06561637371778488\n"
     ]
    },
    {
     "data": {
      "application/vnd.jupyter.widget-view+json": {
       "model_id": "007146d144e94531b58a01266a3a1d09",
       "version_major": 2,
       "version_minor": 0
      },
      "text/plain": [
       "Training:   0%|          | 0/40 [00:00<?, ?it/s]"
      ]
     },
     "metadata": {},
     "output_type": "display_data"
    },
    {
     "data": {
      "application/vnd.jupyter.widget-view+json": {
       "model_id": "46d66b59d1a34889839ec904fee4cec6",
       "version_major": 2,
       "version_minor": 0
      },
      "text/plain": [
       "Validation:   0%|          | 0/10 [00:00<?, ?it/s]"
      ]
     },
     "metadata": {},
     "output_type": "display_data"
    },
    {
     "name": "stdout",
     "output_type": "stream",
     "text": [
      "Epoch 3/20 - Train loss: 0.0653, Validation loss: 0.0648\n",
      "Early stopper counter incremented from  0  to  1 / 5\n"
     ]
    },
    {
     "data": {
      "application/vnd.jupyter.widget-view+json": {
       "model_id": "c79c67a385814d649f5ec354be945690",
       "version_major": 2,
       "version_minor": 0
      },
      "text/plain": [
       "Training:   0%|          | 0/40 [00:00<?, ?it/s]"
      ]
     },
     "metadata": {},
     "output_type": "display_data"
    },
    {
     "data": {
      "application/vnd.jupyter.widget-view+json": {
       "model_id": "4c2c4efca4f54e019ee081591a413dfb",
       "version_major": 2,
       "version_minor": 0
      },
      "text/plain": [
       "Validation:   0%|          | 0/10 [00:00<?, ?it/s]"
      ]
     },
     "metadata": {},
     "output_type": "display_data"
    },
    {
     "name": "stdout",
     "output_type": "stream",
     "text": [
      "Epoch 4/20 - Train loss: 0.0637, Validation loss: 0.0638\n",
      "best_loss updated from  0.06561637371778488  to  0.06382018886506557\n"
     ]
    },
    {
     "data": {
      "application/vnd.jupyter.widget-view+json": {
       "model_id": "bd485c96e8de4ab2a76a4c215e9de9be",
       "version_major": 2,
       "version_minor": 0
      },
      "text/plain": [
       "Training:   0%|          | 0/40 [00:00<?, ?it/s]"
      ]
     },
     "metadata": {},
     "output_type": "display_data"
    },
    {
     "data": {
      "application/vnd.jupyter.widget-view+json": {
       "model_id": "845e6801358448398b86d52b044ef663",
       "version_major": 2,
       "version_minor": 0
      },
      "text/plain": [
       "Validation:   0%|          | 0/10 [00:00<?, ?it/s]"
      ]
     },
     "metadata": {},
     "output_type": "display_data"
    },
    {
     "name": "stdout",
     "output_type": "stream",
     "text": [
      "Epoch 5/20 - Train loss: 0.0614, Validation loss: 0.0613\n",
      "best_loss updated from  0.06382018886506557  to  0.06130826994776726\n"
     ]
    },
    {
     "data": {
      "application/vnd.jupyter.widget-view+json": {
       "model_id": "dee784e7ec454e7ca59ba0cc29b37f53",
       "version_major": 2,
       "version_minor": 0
      },
      "text/plain": [
       "Training:   0%|          | 0/40 [00:00<?, ?it/s]"
      ]
     },
     "metadata": {},
     "output_type": "display_data"
    },
    {
     "data": {
      "application/vnd.jupyter.widget-view+json": {
       "model_id": "c775555930704a41bbf47caaf6441e75",
       "version_major": 2,
       "version_minor": 0
      },
      "text/plain": [
       "Validation:   0%|          | 0/10 [00:00<?, ?it/s]"
      ]
     },
     "metadata": {},
     "output_type": "display_data"
    },
    {
     "name": "stdout",
     "output_type": "stream",
     "text": [
      "Epoch 6/20 - Train loss: 0.0571, Validation loss: 0.0578\n",
      "best_loss updated from  0.06130826994776726  to  0.05778540074825287\n"
     ]
    },
    {
     "data": {
      "application/vnd.jupyter.widget-view+json": {
       "model_id": "bff92a9d59a64311860e3ca33086bcc8",
       "version_major": 2,
       "version_minor": 0
      },
      "text/plain": [
       "Training:   0%|          | 0/40 [00:00<?, ?it/s]"
      ]
     },
     "metadata": {},
     "output_type": "display_data"
    },
    {
     "data": {
      "application/vnd.jupyter.widget-view+json": {
       "model_id": "e1ca27061ab748ce8a22ed57a0ec961d",
       "version_major": 2,
       "version_minor": 0
      },
      "text/plain": [
       "Validation:   0%|          | 0/10 [00:00<?, ?it/s]"
      ]
     },
     "metadata": {},
     "output_type": "display_data"
    },
    {
     "name": "stdout",
     "output_type": "stream",
     "text": [
      "Epoch 7/20 - Train loss: 0.0522, Validation loss: 0.0542\n",
      "best_loss updated from  0.05778540074825287  to  0.05419020429253578\n"
     ]
    },
    {
     "data": {
      "application/vnd.jupyter.widget-view+json": {
       "model_id": "516433d8dd1f4879b09613d07ab55a0f",
       "version_major": 2,
       "version_minor": 0
      },
      "text/plain": [
       "Training:   0%|          | 0/40 [00:00<?, ?it/s]"
      ]
     },
     "metadata": {},
     "output_type": "display_data"
    },
    {
     "data": {
      "application/vnd.jupyter.widget-view+json": {
       "model_id": "51ebaefafe4a444c9f89277d5f491d79",
       "version_major": 2,
       "version_minor": 0
      },
      "text/plain": [
       "Validation:   0%|          | 0/10 [00:00<?, ?it/s]"
      ]
     },
     "metadata": {},
     "output_type": "display_data"
    },
    {
     "name": "stdout",
     "output_type": "stream",
     "text": [
      "Epoch 8/20 - Train loss: 0.0471, Validation loss: 0.0512\n",
      "best_loss updated from  0.05419020429253578  to  0.0512198630720377\n"
     ]
    },
    {
     "data": {
      "application/vnd.jupyter.widget-view+json": {
       "model_id": "de438f01b0224579a7ca77e37d08eef7",
       "version_major": 2,
       "version_minor": 0
      },
      "text/plain": [
       "Training:   0%|          | 0/40 [00:00<?, ?it/s]"
      ]
     },
     "metadata": {},
     "output_type": "display_data"
    },
    {
     "data": {
      "application/vnd.jupyter.widget-view+json": {
       "model_id": "d5c2a33950c646bfbc86f946684fb02a",
       "version_major": 2,
       "version_minor": 0
      },
      "text/plain": [
       "Validation:   0%|          | 0/10 [00:00<?, ?it/s]"
      ]
     },
     "metadata": {},
     "output_type": "display_data"
    },
    {
     "name": "stdout",
     "output_type": "stream",
     "text": [
      "Epoch 9/20 - Train loss: 0.0422, Validation loss: 0.0482\n",
      "best_loss updated from  0.0512198630720377  to  0.04819736927747727\n"
     ]
    },
    {
     "data": {
      "application/vnd.jupyter.widget-view+json": {
       "model_id": "5bc85cb12bd94d69a74c1d092cc40ec4",
       "version_major": 2,
       "version_minor": 0
      },
      "text/plain": [
       "Training:   0%|          | 0/40 [00:00<?, ?it/s]"
      ]
     },
     "metadata": {},
     "output_type": "display_data"
    },
    {
     "data": {
      "application/vnd.jupyter.widget-view+json": {
       "model_id": "c8b915f30fa242b4b368b3f891b30ef8",
       "version_major": 2,
       "version_minor": 0
      },
      "text/plain": [
       "Validation:   0%|          | 0/10 [00:00<?, ?it/s]"
      ]
     },
     "metadata": {},
     "output_type": "display_data"
    },
    {
     "name": "stdout",
     "output_type": "stream",
     "text": [
      "Epoch 10/20 - Train loss: 0.0375, Validation loss: 0.0460\n",
      "best_loss updated from  0.04819736927747727  to  0.046047579124569894\n"
     ]
    },
    {
     "data": {
      "application/vnd.jupyter.widget-view+json": {
       "model_id": "7b5ddf5e2a3b4b3b98a3cb314db158fe",
       "version_major": 2,
       "version_minor": 0
      },
      "text/plain": [
       "Training:   0%|          | 0/40 [00:00<?, ?it/s]"
      ]
     },
     "metadata": {},
     "output_type": "display_data"
    },
    {
     "data": {
      "application/vnd.jupyter.widget-view+json": {
       "model_id": "d1099ce1907d4376aa0a9ffc676f1f0c",
       "version_major": 2,
       "version_minor": 0
      },
      "text/plain": [
       "Validation:   0%|          | 0/10 [00:00<?, ?it/s]"
      ]
     },
     "metadata": {},
     "output_type": "display_data"
    },
    {
     "name": "stdout",
     "output_type": "stream",
     "text": [
      "Epoch 11/20 - Train loss: 0.0331, Validation loss: 0.0441\n",
      "best_loss updated from  0.046047579124569894  to  0.04409019909799099\n"
     ]
    },
    {
     "data": {
      "application/vnd.jupyter.widget-view+json": {
       "model_id": "9f7b86b1957d4fe5a44dcafc00b0d68f",
       "version_major": 2,
       "version_minor": 0
      },
      "text/plain": [
       "Training:   0%|          | 0/40 [00:00<?, ?it/s]"
      ]
     },
     "metadata": {},
     "output_type": "display_data"
    },
    {
     "data": {
      "application/vnd.jupyter.widget-view+json": {
       "model_id": "df93eba704f34b8c8bbec22d55b844b7",
       "version_major": 2,
       "version_minor": 0
      },
      "text/plain": [
       "Validation:   0%|          | 0/10 [00:00<?, ?it/s]"
      ]
     },
     "metadata": {},
     "output_type": "display_data"
    },
    {
     "name": "stdout",
     "output_type": "stream",
     "text": [
      "Epoch 12/20 - Train loss: 0.0292, Validation loss: 0.0432\n",
      "Early stopper counter incremented from  0  to  1 / 5\n"
     ]
    },
    {
     "data": {
      "application/vnd.jupyter.widget-view+json": {
       "model_id": "03470125dd21411aacbe46c055daac0c",
       "version_major": 2,
       "version_minor": 0
      },
      "text/plain": [
       "Training:   0%|          | 0/40 [00:00<?, ?it/s]"
      ]
     },
     "metadata": {},
     "output_type": "display_data"
    },
    {
     "data": {
      "application/vnd.jupyter.widget-view+json": {
       "model_id": "30105fed61bb4d96b4c71719b4c5e288",
       "version_major": 2,
       "version_minor": 0
      },
      "text/plain": [
       "Validation:   0%|          | 0/10 [00:00<?, ?it/s]"
      ]
     },
     "metadata": {},
     "output_type": "display_data"
    },
    {
     "name": "stdout",
     "output_type": "stream",
     "text": [
      "Epoch 13/20 - Train loss: 0.0259, Validation loss: 0.0431\n",
      "best_loss updated from  0.04409019909799099  to  0.04308016933500767\n"
     ]
    },
    {
     "data": {
      "application/vnd.jupyter.widget-view+json": {
       "model_id": "ea85b5750599498abc60f4f25f85d0cb",
       "version_major": 2,
       "version_minor": 0
      },
      "text/plain": [
       "Training:   0%|          | 0/40 [00:00<?, ?it/s]"
      ]
     },
     "metadata": {},
     "output_type": "display_data"
    },
    {
     "data": {
      "application/vnd.jupyter.widget-view+json": {
       "model_id": "e34480420bb74ff68bb8bcb06f6816ea",
       "version_major": 2,
       "version_minor": 0
      },
      "text/plain": [
       "Validation:   0%|          | 0/10 [00:00<?, ?it/s]"
      ]
     },
     "metadata": {},
     "output_type": "display_data"
    },
    {
     "name": "stdout",
     "output_type": "stream",
     "text": [
      "Epoch 14/20 - Train loss: 0.0230, Validation loss: 0.0420\n",
      "best_loss updated from  0.04308016933500767  to  0.04199034720659256\n"
     ]
    },
    {
     "data": {
      "application/vnd.jupyter.widget-view+json": {
       "model_id": "4ef51f875ed9421b93e844864259b2af",
       "version_major": 2,
       "version_minor": 0
      },
      "text/plain": [
       "Training:   0%|          | 0/40 [00:00<?, ?it/s]"
      ]
     },
     "metadata": {},
     "output_type": "display_data"
    },
    {
     "data": {
      "application/vnd.jupyter.widget-view+json": {
       "model_id": "e106696cfff540a69f3f976454c95bbd",
       "version_major": 2,
       "version_minor": 0
      },
      "text/plain": [
       "Validation:   0%|          | 0/10 [00:00<?, ?it/s]"
      ]
     },
     "metadata": {},
     "output_type": "display_data"
    },
    {
     "name": "stdout",
     "output_type": "stream",
     "text": [
      "Epoch 15/20 - Train loss: 0.0203, Validation loss: 0.0416\n",
      "Early stopper counter incremented from  0  to  1 / 5\n"
     ]
    },
    {
     "data": {
      "application/vnd.jupyter.widget-view+json": {
       "model_id": "a9c486a55be746e4b18dddecc414acf0",
       "version_major": 2,
       "version_minor": 0
      },
      "text/plain": [
       "Training:   0%|          | 0/40 [00:00<?, ?it/s]"
      ]
     },
     "metadata": {},
     "output_type": "display_data"
    },
    {
     "data": {
      "application/vnd.jupyter.widget-view+json": {
       "model_id": "408ac5bd218247b8b6047cda1b9add0f",
       "version_major": 2,
       "version_minor": 0
      },
      "text/plain": [
       "Validation:   0%|          | 0/10 [00:00<?, ?it/s]"
      ]
     },
     "metadata": {},
     "output_type": "display_data"
    },
    {
     "name": "stdout",
     "output_type": "stream",
     "text": [
      "Epoch 16/20 - Train loss: 0.0183, Validation loss: 0.0412\n",
      "Early stopper counter incremented from  1  to  2 / 5\n"
     ]
    },
    {
     "data": {
      "application/vnd.jupyter.widget-view+json": {
       "model_id": "1af8b5de33e84044a89eb96d7f0f5e7e",
       "version_major": 2,
       "version_minor": 0
      },
      "text/plain": [
       "Training:   0%|          | 0/40 [00:00<?, ?it/s]"
      ]
     },
     "metadata": {},
     "output_type": "display_data"
    },
    {
     "data": {
      "application/vnd.jupyter.widget-view+json": {
       "model_id": "b766d95aaa3e4257b7f801fed7f0be15",
       "version_major": 2,
       "version_minor": 0
      },
      "text/plain": [
       "Validation:   0%|          | 0/10 [00:00<?, ?it/s]"
      ]
     },
     "metadata": {},
     "output_type": "display_data"
    },
    {
     "name": "stdout",
     "output_type": "stream",
     "text": [
      "Epoch 17/20 - Train loss: 0.0163, Validation loss: 0.0412\n",
      "Early stopper counter incremented from  2  to  3 / 5\n"
     ]
    },
    {
     "data": {
      "application/vnd.jupyter.widget-view+json": {
       "model_id": "0d881fd3479a4cea8c38f63851f3fff9",
       "version_major": 2,
       "version_minor": 0
      },
      "text/plain": [
       "Training:   0%|          | 0/40 [00:00<?, ?it/s]"
      ]
     },
     "metadata": {},
     "output_type": "display_data"
    },
    {
     "data": {
      "application/vnd.jupyter.widget-view+json": {
       "model_id": "84ed5b7b4d36475e98a1e88213837f8c",
       "version_major": 2,
       "version_minor": 0
      },
      "text/plain": [
       "Validation:   0%|          | 0/10 [00:00<?, ?it/s]"
      ]
     },
     "metadata": {},
     "output_type": "display_data"
    },
    {
     "name": "stdout",
     "output_type": "stream",
     "text": [
      "Epoch 18/20 - Train loss: 0.0145, Validation loss: 0.0409\n",
      "best_loss updated from  0.04199034720659256  to  0.0409008052200079\n"
     ]
    },
    {
     "data": {
      "application/vnd.jupyter.widget-view+json": {
       "model_id": "3e6bb12cd04749e7a11b3c0ed4e06fab",
       "version_major": 2,
       "version_minor": 0
      },
      "text/plain": [
       "Training:   0%|          | 0/40 [00:00<?, ?it/s]"
      ]
     },
     "metadata": {},
     "output_type": "display_data"
    },
    {
     "data": {
      "application/vnd.jupyter.widget-view+json": {
       "model_id": "6a3b96448f46400698dd9b283fc2b8a6",
       "version_major": 2,
       "version_minor": 0
      },
      "text/plain": [
       "Validation:   0%|          | 0/10 [00:00<?, ?it/s]"
      ]
     },
     "metadata": {},
     "output_type": "display_data"
    },
    {
     "name": "stdout",
     "output_type": "stream",
     "text": [
      "Epoch 19/20 - Train loss: 0.0133, Validation loss: 0.0401\n",
      "Early stopper counter incremented from  0  to  1 / 5\n"
     ]
    },
    {
     "data": {
      "application/vnd.jupyter.widget-view+json": {
       "model_id": "77c499ec214b4838b6ba75e25b96a92f",
       "version_major": 2,
       "version_minor": 0
      },
      "text/plain": [
       "Training:   0%|          | 0/40 [00:00<?, ?it/s]"
      ]
     },
     "metadata": {},
     "output_type": "display_data"
    },
    {
     "data": {
      "application/vnd.jupyter.widget-view+json": {
       "model_id": "8d396d8ca03344edbd25cae42f661187",
       "version_major": 2,
       "version_minor": 0
      },
      "text/plain": [
       "Validation:   0%|          | 0/10 [00:00<?, ?it/s]"
      ]
     },
     "metadata": {},
     "output_type": "display_data"
    },
    {
     "name": "stdout",
     "output_type": "stream",
     "text": [
      "Epoch 20/20 - Train loss: 0.0123, Validation loss: 0.0414\n",
      "Early stopper counter incremented from  1  to  2 / 5\n"
     ]
    }
   ],
   "source": [
    "def train_model(model, dataloader_train, dataloader_val, criterion, optimizer, device):\n",
    "    train_losses, val_losses = [], []\n",
    "    early_stopper = EarlyStopping(patience=DEA_CONFIG[\"Patience\"], min_delta=DEA_CONFIG[\"MinDelta\"])\n",
    "\n",
    "    for epoch in range(DEA_CONFIG[\"Epochs\"]):\n",
    "        # Training phase\n",
    "        model.train()\n",
    "        train_loss = run_epoch(\n",
    "            model, dataloader_train, criterion, optimizer,\n",
    "            device, is_training=True\n",
    "        )\n",
    "        train_losses.append(train_loss)\n",
    "\n",
    "        # Validation phase\n",
    "        model.eval()\n",
    "        val_loss = run_epoch(\n",
    "            model, dataloader_val, criterion, optimizer,\n",
    "            device, is_training=False\n",
    "        )\n",
    "        val_losses.append(val_loss)\n",
    "\n",
    "        # Logging\n",
    "        log_metrics(train_loss, val_loss, epoch, DEA_CONFIG[\"Epochs\"])\n",
    "\n",
    "        # Early stopping check\n",
    "        if early_stopper(val_loss):\n",
    "            print(f\"Early stopping triggered at epoch {epoch + 1}\")\n",
    "            break\n",
    "\n",
    "    return train_losses, val_losses\n",
    "\n",
    "def run_epoch(model, dataloader, criterion, optimizer, device, is_training):\n",
    "    running_loss = 0.0\n",
    "    with torch.set_grad_enabled(is_training):\n",
    "        for data, labels, _ in tqdm(dataloader,\n",
    "                                  desc=\"Training\" if is_training else \"Validation\"):\n",
    "            data, labels = data.to(device), labels.to(device)\n",
    "\n",
    "            if is_training:\n",
    "                optimizer.zero_grad()\n",
    "\n",
    "            outputs = model(data)\n",
    "            loss = criterion(outputs, labels)\n",
    "\n",
    "            if is_training:\n",
    "                loss.backward()\n",
    "                optimizer.step()\n",
    "\n",
    "            running_loss += loss.item() * labels.size(0)\n",
    "\n",
    "    return running_loss / len(dataloader.dataset)\n",
    "\n",
    "def log_metrics(train_loss, val_loss, epoch, total_epochs):\n",
    "    print(f\"Epoch {epoch + 1}/{total_epochs} - \"\n",
    "          f\"Train loss: {train_loss:.4f}, \"\n",
    "          f\"Validation loss: {val_loss:.4f}\")\n",
    "    tb_writer.add_scalar(\"Loss/train\", train_loss, epoch + 1)\n",
    "    tb_writer.add_scalar(\"Loss/validation\", val_loss, epoch + 1)\n",
    "\n",
    "train_losses, val_losses = train_model(\n",
    "    model, dataloader_train, dataloader_val,\n",
    "    criterion, optimizer, compute_device\n",
    "    )"
   ]
  },
  {
   "cell_type": "markdown",
   "metadata": {},
   "source": [
    "## Loss Visualization over Epochs\n",
    "\n",
    "This code snippet generates a plot to visualize the **training loss** and **validation loss** across epochs. It's useful for tracking model performance during training and evaluating if overfitting is occurring (i.e., when validation loss starts increasing while training loss continues to decrease).\n",
    "\n",
    "### Key Elements:\n",
    "1. **Plotting the Losses**: \n",
    "   - The `train_losses` and `val_losses` are plotted over the epochs. \n",
    "   - The **blue line** represents the training loss, and the **red line** represents the validation loss.\n",
    "\n",
    "2. **Legend**: \n",
    "   - A legend is added to distinguish between training and validation losses.\n",
    "\n",
    "3. **Title and Labels**: \n",
    "   - The plot is titled \"Training and Validation Loss over Epochs\" for context.\n",
    "   - **X-axis** represents the epoch number, and **Y-axis** represents the loss value.\n"
   ]
  },
  {
   "cell_type": "code",
   "execution_count": 10,
   "metadata": {},
   "outputs": [
    {
     "data": {
      "image/png": "[encoded data removed]",
      "text/plain": [
       "<Figure size 640x480 with 1 Axes>"
      ]
     },
     "metadata": {},
     "output_type": "display_data"
    }
   ],
   "source": [
    "# Plot the training and validation losses over epochs\n",
    "plt.plot(train_losses, label='Training loss', color='blue')\n",
    "plt.plot(val_losses, label='Validation loss', color='red')\n",
    "\n",
    "# Adding a legend to the plot\n",
    "plt.legend()\n",
    "\n",
    "# Setting the title and labels for clarity\n",
    "plt.title(\"Training and Validation Loss over Epochs\")\n",
    "plt.xlabel(\"Epochs\")\n",
    "plt.ylabel(\"Loss\")\n",
    "\n",
    "# Show the plot\n",
    "plt.show()"
   ]
  },
  {
   "cell_type": "markdown",
   "metadata": {},
   "source": [
    "## Model Inference and 2-Gram Comparison\n",
    "\n",
    "This code performs inference on the test data and compares the predicted 2-grams with the actual 2-grams, providing a performance evaluation based on the **Dice similarity coefficient**.\n",
    "\n",
    "### Key Steps:\n",
    "\n",
    "1. **Prepare for Evaluation**:\n",
    "   - The model is switched to **evaluation mode** (`model.eval()`), ensuring no gradient computation.\n",
    "   \n",
    "2. **Thresholding**:\n",
    "   - A threshold (`DEA_CONFIG[\"FilterThreshold\"]`) is applied to filter out low-probability predictions, retaining only the most confident predictions.\n",
    "\n",
    "3. **Inference and 2-Gram Scoring**:\n",
    "   - The model is applied to the batch, and the **logits** are converted into probabilities using the **sigmoid function**.\n",
    "   - The probabilities are then mapped to **2-gram scores**, and scores below the threshold are discarded.\n",
    "\n",
    "4. **Reconstructing Words**:\n",
    "   - For each sample in the batch, **2-grams** are reconstructed into words based on the filtered scores.\n",
    "\n",
    "5. **Performance Metrics**:\n",
    "   - The actual 2-grams (from the test dataset) are compared with the predicted 2-grams, and the **Dice similarity coefficient** is calculated for each sample.\n",
    "\n",
    "### Result:\n",
    "- The code generates a list `combined_results_performance`, which contains a detailed comparison for each UID, including:\n",
    "  - **Actual 2-grams** (from the test data)\n",
    "  - **Predicted 2-grams** (from the model)\n",
    "  - **Dice similarity** score indicating how similar the actual and predicted 2-grams are."
   ]
  },
  {
   "cell_type": "code",
   "execution_count": 11,
   "metadata": {},
   "outputs": [
    {
     "data": {
      "application/vnd.jupyter.widget-view+json": {
       "model_id": "1a85fecd316446acb1ffeb1a1c02f000",
       "version_major": 2,
       "version_minor": 0
      },
      "text/plain": [
       "Test loop:   0%|          | 0/13 [00:00<?, ?it/s]"
      ]
     },
     "metadata": {},
     "output_type": "display_data"
    },
    {
     "name": "stdout",
     "output_type": "stream",
     "text": [
      "[{'uid': '76654', 'actual_two_grams': ['we', 'en', 'nd', 'dy', 'ys', 'sw', 'wa', 'an', 'nk', 'k8', '82', '22', '21', '19', '96', '69'], 'predicted_two_grams': {'81', 'br', 'bb', '19', 'dy', 'an', '96', '21', '22', 'nd'}, 'dice_similarity': 0.5385}, {'uid': '18525', 'actual_two_grams': ['ti', 'ie', 'er', 'rr', 'ra', 'ah', 'ha', 'ad', 'df', 'fi', 'ie', 'el', 'ld', 'd6', '61', '11', '11', '19', '94', '48'], 'predicted_two_grams': {'ra', 'ha', 'er', '19', '94', '12', '11', 'r1'}, 'dice_similarity': 0.4615}, {'uid': '97946', 'actual_two_grams': ['no', 'oa', 'ah', 'hr', 'ro', 'oo', 'os', 'se', 'ev', 've', 'el', 'lt', 't9', '91', '15', '51', '19', '98', '80'], 'predicted_two_grams': {'51', '19', 'ro', 'yd', '98'}, 'dice_similarity': 0.3333}, {'uid': '63361', 'actual_two_grams': ['jo', 'os', 'se', 'ep', 'ph', 'hc', 'cr', 'ro', 'op', 'pp', 'pe', 'er', 'r9', '91', '16', '61', '19', '93', '38'], 'predicted_two_grams': {'pe', 'os', '61', 'ph', '93', 'er', 'op', '19', 'ro', '99', 'ep', '91', 'se'}, 'dice_similarity': 0.75}, {'uid': '17376', 'actual_two_grams': ['fr', 're', 'ed', 'da', 'as', 'si', 'in', 'ng', 'ge', 'er', 'r7', '71', '14', '41', '19', '98', '89'], 'predicted_two_grams': {'in', 're', 'da', '19', '41', 'n4', 'ed', '98'}, 'dice_similarity': 0.56}, {'uid': '73153', 'actual_two_grams': ['me', 'el', 'li', 'is', 'ss', 'sa', 'aw', 'wa', 'ag', 'gn', 'ne', 'er', 'r5', '52', '22', '21', '19', '94', '42'], 'predicted_two_grams': {'25', 'sa', '94', 'aw', '19', 'li', 'ac', 'el', '21', 'is'}, 'dice_similarity': 0.5517}, {'uid': '39036', 'actual_two_grams': ['vi', 'ir', 'rg', 'gi', 'in', 'ni', 'ia', 'as', 'sh', 'ha', 'ap', 'pi', 'ir', 'ro', 'o2', '22', '25', '51', '19', '97', '78'], 'predicted_two_grams': {'51', 'vi', '25', 'in', 'ha', '19', 'ia', 'li', 'rg', '97', 'ir', 'gi', 'ni'}, 'dice_similarity': 0.7273}, {'uid': '22536', 'actual_two_grams': ['je', 'en', 'nn', 'ni', 'ie', 'ej', 'jo', 'oh', 'hn', 'ns', 'so', 'on', 'n1', '12', '29', '92', '20', '00', '00'], 'predicted_two_grams': {'ie', '29', '00', 'n1', 'jo', 'on', 'oh', '11', 'hn', 'en', 'ns', 'so', '91', 'ni', '20'}, 'dice_similarity': 0.7879}, {'uid': '82052', 'actual_two_grams': ['ka', 'ar', 're', 'en', 'na', 'ab', 'ba', 'ad', 'di', 'ie', 'e1', '11', '14', '41', '19', '93', '38'], 'predicted_two_grams': {'ar', '41', '19', '93', 'ke', 'rg', '11', 'ba', 'en'}, 'dice_similarity': 0.5385}, {'uid': '26666', 'actual_two_grams': ['de', 'ea', 'an', 'nb', 'ba', 'ar', 'rt', 'th', 'h8', '85', '51', '19', '95', '53'], 'predicted_two_grams': {'th', '51', 'ar', '19', '53', '95'}, 'dice_similarity': 0.6}, {'uid': '72821', 'actual_two_grams': ['de', 'en', 'nn', 'ni', 'is', 'sb', 'bu', 'ul', 'll', 'la', 'ar', 'rd', 'd4', '42', '21', '11', '19', '95', '53'], 'predicted_two_grams': {'ar', '41', '19', '95', 'rd', 'la', 'll', 'en'}, 'dice_similarity': 0.5185}, {'uid': '5562', 'actual_two_grams': ['de', 'el', 'li', 'ia', 'ad', 'da', 'an', 'ni', 'ie', 'el', 'l4', '41', '12', '21', '19', '94', '45'], 'predicted_two_grams': {'ie', '41', 'da', '19', '94', 'li', 'an', '12', 'el', 'ni'}, 'dice_similarity': 0.7692}, {'uid': '91595', 'actual_two_grams': ['de', 'el', 'll', 'la', 'as', 'sc', 'co', 'ot', 'tt', 't2', '26', '62', '20', '00', '02'], 'predicted_two_grams': {'tt', '00', 'sc', 'la', 'll', '02', 'co', '62', '22', '20'}, 'dice_similarity': 0.72}, {'uid': '14827', 'actual_two_grams': ['ke', 'en', 'nn', 'ne', 'et', 'th', 'hh', 'ha', 'am', 'mm', 'mo', 'on', 'ns', 's9', '91', '11', '11', '19', '97', '70'], 'predicted_two_grams': {'ns', 'th', 'ar', 'ha', 've', '19', 'on', '11', '97', 'en', 'nn', 'ka'}, 'dice_similarity': 0.5806}, {'uid': '80821', 'actual_two_grams': ['ma', 'ar', 'rg', 'go', 'ol', 'la', 'as', 'sh', 'hl', 'le', 'ey', 'y4', '41', '16', '61', '19', '99', '94'], 'predicted_two_grams': {'ar', '61', '94', 'le', '19', 'as', 'sh', 'ey', 'ma', 'la'}, 'dice_similarity': 0.7143}, {'uid': '14776', 'actual_two_grams': ['sa', 'ar', 'ra', 'ah', 'hm', 'mo', 'or', 'rg', 'ga', 'an', 'n3', '32', '22', '21', '19', '99', '93'], 'predicted_two_grams': {'ar', 'sa', '93', '19', 'or', 'an', 'rg', 'ma', '99', '21'}, 'dice_similarity': 0.6667}, {'uid': '37621', 'actual_two_grams': ['al', 'lm', 'ma', 'am', 'mo', 'ot', 'ty', 'yk', 'ka', 'a8', '87', '71', '19', '96', '64'], 'predicted_two_grams': {'19', 'ma', '96', '71'}, 'dice_similarity': 0.4211}, {'uid': '76371', 'actual_two_grams': ['ma', 'ar', 'ri', 'ia', 'an', 'ng', 'gu', 'ul', 'll', 'le', 'et', 'tt', 't8', '81', '18', '81', '19', '94', '40'], 'predicted_two_grams': {'tt', 'ar', 'ri', '94', 'et', '19', 'ia', 'an', 'ma'}, 'dice_similarity': 0.6667}, {'uid': '69454', 'actual_two_grams': ['da', 'av', 'vi', 'id', 'dr', 'ry', 'ya', 'an', 'n1', '12', '22', '22', '21', '19', '96', '65'], 'predicted_two_grams': {'vi', 'da', '19', 'an', '12', '96', '21', 'id', '22', '62', 'av'}, 'dice_similarity': 0.7692}, {'uid': '34111', 'actual_two_grams': ['wi', 'il', 'll', 'li', 'ia', 'am', 'mf', 'fr', 'ra', 'an', 'nk', 'ks', 's1', '11', '11', '11', '19', '99', '93'], 'predicted_two_grams': {'il', '19', 'ia', 'li', 'an', 'wi', '99', '11', 'll', 's1', 'am'}, 'dice_similarity': 0.7857}, {'uid': '92639', 'actual_two_grams': ['ju', 'ud', 'dy', 'ym', 'ma', 'ar', 'rt', 'ti', 'in', 'ne', 'ez', 'z1', '12', '25', '51', '19', '98', '89'], 'predicted_two_grams': {'ar', 'in', 'ti', '19', 'rt', '12', 'st', 'ma', 'ry', '98', 'ne'}, 'dice_similarity': 0.6207}, {'uid': '9693', 'actual_two_grams': ['sa', 'al', 'll', 'ly', 'yw', 'wr', 'ri', 'ig', 'gh', 'ht', 't1', '11', '13', '30', '01', '19', '98', '83'], 'predicted_two_grams': {'30', 'ig', 'ri', 'ht', '19', 'gh', '88', 'wr', 't1', '11', '13', '98', 'al', '01'}, 'dice_similarity': 0.8125}, {'uid': '7631', 'actual_two_grams': ['la', 'au', 'ur', 'ri', 'ie', 'ea', 'ar', 're', 'ev', 'va', 'al', 'lo', 'o6', '61', '18', '81', '19', '94', '44'], 'predicted_two_grams': {'81', 'ur', 'ar', '61', 'au', '94', '19', 'la'}, 'dice_similarity': 0.5926}, {'uid': '85334', 'actual_two_grams': ['ju', 'ud', 'di', 'it', 'th', 'hd', 'de', 'el', 'lo', 'or', 're', 'en', 'nz', 'zo', 'o5', '52', '24', '41', '19', '95', '59'], 'predicted_two_grams': {'th', '51', 're', '19', '95', 'el', 'll', 'en', '54'}, 'dice_similarity': 0.4}, {'uid': '50380', 'actual_two_grams': ['ba', 'ar', 'rb', 'ba', 'ar', 'ra', 'ab', 'by', 'yr', 'rd', 'd8', '83', '30', '01', '19', '98', '85'], 'predicted_two_grams': {'81', 'ar', 'ri', '19', '18', 'rd', '98', 'ba', '01'}, 'dice_similarity': 0.5}, {'uid': '97775', 'actual_two_grams': ['de', 'el', 'll', 'la', 'ar', 'ro', 'oo', 'on', 'ne', 'ey', 'y1', '12', '25', '52', '20', '00', '00'], 'predicted_two_grams': {'ar', '00', '12', 'el', '02', '22', '20'}, 'dice_similarity': 0.4348}, {'uid': '84996', 'actual_two_grams': ['jo', 'oe', 'el', 'lr', 'ro', 'ol', 'lf', 'fe', 'es', 's4', '41', '15', '51', '19', '96', '61'], 'predicted_two_grams': {'51', 'ol', '19', 'jo', '96'}, 'dice_similarity': 0.4762}, {'uid': '15958', 'actual_two_grams': ['sh', 'ha', 'ar', 'ro', 'on', 'nm', 'ma', 'ar', 'rt', 'ti', 'in', 'ne', 'ez', 'z3', '31', '11', '11', '19', '95', '53'], 'predicted_two_grams': {'ar', 'in', 'ha', 'ti', '19', 'on', 'rt', '95', '31', 'ma', '11', 'ez', 'ne'}, 'dice_similarity': 0.8387}, {'uid': '83246', 'actual_two_grams': ['jo', 'os', 'se', 'ep', 'ph', 'hh', 'ha', 'ar', 'rp', 'pe', 'er', 'r3', '34', '41', '19', '95', '58'], 'predicted_two_grams': {'os', 'ar', '19', 'jo', '95', 'ep', '76', 'se'}, 'dice_similarity': 0.56}, {'uid': '22411', 'actual_two_grams': ['ha', 'ar', 'ro', 'ol', 'ld', 'dn', 'ne', 'el', 'ls', 'so', 'on', 'n7', '71', '19', '91', '19', '98', '82'], 'predicted_two_grams': {'27', 'ol', 'ar', 'ha', '19', '71', 'ld', 'on', 'ro', 'el', '98', 'so'}, 'dice_similarity': 0.7586}, {'uid': '23663', 'actual_two_grams': ['ar', 'rt', 'th', 'hu', 'ur', 'rm', 'ma', 'ar', 'rt', 'ti', 'in', 'n1', '10', '02', '28', '81', '19', '96', '69'], 'predicted_two_grams': {'10', 'th', 'ar', '61', 'in', 'ti', '19', 'n1', 'li', 'rt', '12', '96', '69', 'ma'}, 'dice_similarity': 0.7097}, {'uid': '58601', 'actual_two_grams': ['es', 'st', 'te', 'el', 'll', 'la', 'as', 'sw', 'we', 'ee', 'et', 't4', '42', '21', '11', '19', '95', '58'], 'predicted_two_grams': {'il', '19', 'es', 'as', '95', 'st', 'el', '11', 'la', 'll', 'we', 'te'}, 'dice_similarity': 0.7333}, {'uid': '22266', 'actual_two_grams': ['ro', 'og', 'ge', 'er', 'rv', 'va', 'ar', 'rg', 'ga', 'as', 's3', '38', '81', '19', '98', '82'], 'predicted_two_grams': {'32', '81', 'ar', 'er', '19', '18', 'ro', '31', 'ge', 'rg', '82', '98'}, 'dice_similarity': 0.6429}, {'uid': '6445', 'actual_two_grams': ['ju', 'ud', 'di', 'it', 'th', 'hc', 'co', 'om', 'mb', 'bs', 's7', '72', '24', '41', '19', '93', '39'], 'predicted_two_grams': {'27', 'th', 'in', '93', '19', 'om'}, 'dice_similarity': 0.3478}, {'uid': '20184', 'actual_two_grams': ['cl', 'la', 'ar', 'ra', 'ah', 'hy', 'ym', 'me', 'es', 's9', '91', '18', '81', '19', '95', '54'], 'predicted_two_grams': {'81', 'ar', '19', 'es', '18', '95', 'la', '91'}, 'dice_similarity': 0.6667}, {'uid': '20835', 'actual_two_grams': ['ra', 'an', 'nd', 'do', 'ol', 'lp', 'ph', 'hm', 'mi', 'il', 'll', 'le', 'er', 'r1', '11', '18', '81', '19', '97', '71'], 'predicted_two_grams': {'81', 'mi', 'il', 'ra', 'er', 'le', '19', 'do', 'an', 'lp', '11', 'll', '97', 'nd', 'r1'}, 'dice_similarity': 0.8571}, {'uid': '47298', 'actual_two_grams': ['am', 'ma', 'an', 'nd', 'da', 'aw', 'wi', 'il', 'ls', 'so', 'on', 'n1', '11', '11', '14', '41', '19', '98', '87'], 'predicted_two_grams': {'il', '41', 'da', '19', 'an', 'on', 'ma', '11', '98', 'so', 'am'}, 'dice_similarity': 0.7586}, {'uid': '34118', 'actual_two_grams': ['jo', 'os', 'sh', 'hu', 'ua', 'ac', 'ca', 'ar', 'rr', 'ri', 'il', 'll', 'lo', 'o7', '71', '13', '31', '19', '96', '68'], 'predicted_two_grams': {'ar', 'il', '19', '31', '96', 'lo', 'la', 'll', 'ca'}, 'dice_similarity': 0.5517}, {'uid': '61745', 'actual_two_grams': ['jo', 'oh', 'hn', 'nb', 'be', 'ea', 'at', 'tt', 'ty', 'y7', '71', '19', '91', '19', '93', '37'], 'predicted_two_grams': {'be', '19', '71'}, 'dice_similarity': 0.3333}, {'uid': '14864', 'actual_two_grams': ['jo', 'on', 'na', 'at', 'th', 'ha', 'an', 'nc', 'ca', 'as', 'se', 'e5', '59', '91', '19', '98', '89'], 'predicted_two_grams': {'th', 'os', 'ho', '19', 'jo', 'an', 'as', '98', '91'}, 'dice_similarity': 0.5385}, {'uid': '68304', 'actual_two_grams': ['ca', 'ar', 'rm', 'me', 'en', 'nj', 'ja', 'am', 'me', 'es', 's6', '61', '13', '31', '19', '97', '70'], 'predicted_two_grams': {'ar', '19', 'es', '31', 'me', 'ja', '97', 'am'}, 'dice_similarity': 0.6667}, {'uid': '15077', 'actual_two_grams': ['to', 'om', 'mm', 'my', 'yf', 'fo', 'ol', 'ls', 'so', 'om', 'm2', '29', '91', '19', '98', '81'], 'predicted_two_grams': {'ho', '19', 'on', '98', 'so', '91'}, 'dice_similarity': 0.381}, {'uid': '96339', 'actual_two_grams': ['tr', 'ro', 'oy', 'yj', 'je', 'en', 'nn', 'ni', 'in', 'ng', 'gs', 's5', '52', '22', '21', '19', '98', '88'], 'predicted_two_grams': {'in', '19', 'li', 'oy', 'ro', '21', '98', 'en', '22', 'if', 'ni'}, 'dice_similarity': 0.6207}, {'uid': '85068', 'actual_two_grams': ['cr', 'ri', 'is', 'st', 'ti', 'in', 'na', 'am', 'mo', 'oh', 'hr', 'r1', '13', '31', '19', '98', '85'], 'predicted_two_grams': {'ri', 'in', '19', 'li', 'st', '31', '11', '98', 'is'}, 'dice_similarity': 0.5385}, {'uid': '23134', 'actual_two_grams': ['te', 'er', 're', 'es', 'sa', 'ad', 'do', 'ol', 'le', 'es', 's4', '41', '11', '19', '96', '66'], 'predicted_two_grams': {'41', 'le', '19', 're', 'es', '96'}, 'dice_similarity': 0.5714}, {'uid': '44863', 'actual_two_grams': ['ma', 'ar', 'rj', 'jo', 'or', 'ri', 'ie', 'ek', 'ko', 'ov', 'va', 'ar', 'r6', '61', '18', '81', '19', '93', '38'], 'predicted_two_grams': {'38', '81', 'ar', 'ri', '93', '19', 'or', 'an', 'ma', 'mo'}, 'dice_similarity': 0.5714}, {'uid': '43574', 'actual_two_grams': ['vi', 'ir', 'rg', 'gi', 'il', 'll', 'la', 'ar', 'rs', 'so', 'on', 'n3', '31', '13', '31', '19', '93', '37'], 'predicted_two_grams': {'n3', 'vi', 'ar', 'il', '93', '19', 'on', '31', 'la', 'll', 'so'}, 'dice_similarity': 0.7857}, {'uid': '64755', 'actual_two_grams': ['ri', 'ic', 'ch', 'ha', 'ar', 'rd', 'db', 'br', 'ro', 'ow', 'wn', 'n8', '81', '19', '91', '19', '93', '37'], 'predicted_two_grams': {'ar', 'ic', 'ri', 'ha', 'br', 'ow', '19', '93', 'ro', 'rd', 'ch'}, 'dice_similarity': 0.7857}, {'uid': '3812', 'actual_two_grams': ['pa', 'au', 'ul', 'lv', 'va', 'al', 'le', 'er', 'ra', 'a1', '10', '01', '12', '21', '19', '97', '71'], 'predicted_two_grams': {'10', 'ul', '01', 'au', 'ra', 'er', '19', 'ld', '12', 'al', 'pa'}, 'dice_similarity': 0.7143}, {'uid': '89066', 'actual_two_grams': ['sa', 'am', 'ma', 'an', 'nt', 'th', 'ha', 'as', 'sh', 'ho', 'oe', 'em', 'ma', 'ak', 'ke', 'e2', '21', '11', '19', '98', '87'], 'predicted_two_grams': {'th', 'ho', 'sa', '19', 'an', 'as', 'sh', 'om', 'ma', '11', '21', '98'}, 'dice_similarity': 0.6875}, {'uid': '37697', 'actual_two_grams': ['el', 'll', 'la', 'ap', 'pr', 'ro', 'ov', 've', 'en', 'nc', 'ca', 'al', 'l1', '11', '11', '11', '19', '99', '92'], 'predicted_two_grams': {'il', '19', 'el', 'l1', '11', 'la', 'll', '99', 'al', 'en'}, 'dice_similarity': 0.6667}, {'uid': '49542', 'actual_two_grams': ['ca', 'ar', 'ro', 'ol', 'li', 'in', 'ne', 'ek', 'kl', 'li', 'in', 'ne', 'e1', '12', '26', '61', '19', '95', '50'], 'predicted_two_grams': {'ar', 'in', 'ti', '19', 'li', '12', '95', 'ro', '21', 'ne'}, 'dice_similarity': 0.6154}, {'uid': '5136', 'actual_two_grams': ['ka', 'at', 'tr', 'ri', 'in', 'na', 'ab', 'bu', 'ur', 'rt', 'to', 'on', 'n1', '11', '11', '19', '91', '19', '98', '80'], 'predicted_two_grams': {'ur', 'to', 'ri', 'in', '19', 'bu', 'on', 'rt', '12', '11', '98', 'tr', 'pa', 'at'}, 'dice_similarity': 0.75}, {'uid': '34091', 'actual_two_grams': ['po', 'ol', 'll', 'ly', 'yr', 'ri', 'id', 'dl', 'lo', 'on', 'n1', '12', '22', '22', '20', '00', '02'], 'predicted_two_grams': {'ol', 'il', '00', 'n1', '12', '11', 'll', '21', '02', '22', '62', '20'}, 'dice_similarity': 0.5714}, {'uid': '23851', 'actual_two_grams': ['ag', 'gn', 'ne', 'es', 'sc', 'ca', 'am', 'mp', 'p5', '56', '61', '19', '99', '91'], 'predicted_two_grams': {'51', '61', 'ag', '19', 'es', '99', 'ja', 'am', 'ne'}, 'dice_similarity': 0.6087}, {'uid': '62063', 'actual_two_grams': ['tr', 'ra', 'ac', 'ci', 'ie', 'er', 'ro', 'ow', 'wa', 'an', 'n2', '22', '21', '11', '19', '93', '37'], 'predicted_two_grams': {'yb', '93', 'er', '19', 'ro', '11', '21', '22'}, 'dice_similarity': 0.56}, {'uid': '56822', 'actual_two_grams': ['ch', 'hr', 'ri', 'is', 'st', 'ti', 'in', 'ne', 'es', 'sh', 'he', 'er', 'rw', 'wo', 'oo', 'od', 'd8', '81', '13', '31', '19', '96', '60'], 'predicted_two_grams': {'ri', 'in', 'he', 'er', 'ha', '19', 'st', '96', 'ch'}, 'dice_similarity': 0.5}, {'uid': '88811', 'actual_two_grams': ['lu', 'ui', 'is', 'sw', 'wh', 'hi', 'it', 'te', 'e7', '72', '20', '01', '19', '94', '47'], 'predicted_two_grams': {'19', '01', '94', '42'}, 'dice_similarity': 0.3158}, {'uid': '97782', 'actual_two_grams': ['da', 'av', 'vi', 'id', 'dw', 'wi', 'il', 'll', 'li', 'ia', 'am', 'ms', 's1', '11', '13', '30', '01', '19', '96', '68'], 'predicted_two_grams': {'vi', 'il', 'da', '19', 'ia', 'li', 'wi', 'dw', '31', 'll', 'am', '01', 's1', 'av'}, 'dice_similarity': 0.7647}, {'uid': '355', 'actual_two_grams': ['cl', 'la', 'au', 'ud', 'di', 'ia', 'am', 'mo', 'or', 'ra', 'al', 'le', 'es', 's4', '42', '29', '91', '19', '96', '62'], 'predicted_two_grams': {'29', 'au', 'ra', 'le', '19', '91', 'es', 'cl', 'la', '62'}, 'dice_similarity': 0.6667}, {'uid': '48558', 'actual_two_grams': ['mi', 'ic', 'ch', 'he', 'el', 'le', 'es', 'sa', 'au', 'un', 'nd', 'de', 'er', 'rs', 's9', '96', '61', '19', '95', '54'], 'predicted_two_grams': {'mi', '61', 'he', 'er', 'le', '19', 'es', '95', 'de', 'el', 'ch'}, 'dice_similarity': 0.7097}, {'uid': '59175', 'actual_two_grams': ['ja', 'am', 'me', 'es', 'sh', 'hi', 'il', 'll', 'l3', '32', '24', '41', '19', '98', '80'], 'predicted_two_grams': {'il', '19', 'es', 'me', 'ja', 'll', '98', 'am'}, 'dice_similarity': 0.6957}, {'uid': '76710', 'actual_two_grams': ['he', 'er', 'rm', 'ma', 'an', 'nt', 'th', 'ho', 'om', 'ma', 'as', 's1', '11', '12', '28', '81', '19', '93', '38'], 'predicted_two_grams': {'th', 'ho', '93', '19', 'do', 'an', 'as', 'ma', '11', 's1'}, 'dice_similarity': 0.6429}, {'uid': '45611', 'actual_two_grams': ['li', 'in', 'nd', 'da', 'ae', 'en', 'ng', 'ge', 'el', 'lh', 'ha', 'ar', 'rd', 'dt', 't3', '31', '13', '32', '20', '00', '01'], 'predicted_two_grams': {'ar', 'in', 'ha', 'da', '00', '31', 'el', 'rd', '13', 'en', '20'}, 'dice_similarity': 0.6875}, {'uid': '74296', 'actual_two_grams': ['ho', 'ol', 'll', 'ly', 'yh', 'ho', 'oy', 'yt', 't5', '51', '16', '61', '19', '93', '39'], 'predicted_two_grams': {'ol', 'ho', '61', '93', '19', '16', 'll'}, 'dice_similarity': 0.6667}, {'uid': '57644', 'actual_two_grams': ['wi', 'il', 'lb', 'bu', 'ur', 'ry', 'yo', 'od', 'de', 'er', 'r9', '91', '16', '61', '19', '96', '61'], 'predicted_two_grams': {'61', 'il', 've', 'er', '19', '96', '91'}, 'dice_similarity': 0.5217}, {'uid': '53716', 'actual_two_grams': ['du', 'us', 'st', 'ti', 'in', 'nr', 'ru', 'ut', 'tz', 'z9', '91', '11', '11', '19', '98', '81'], 'predicted_two_grams': {'us', 'in', 'ti', '19', 'do', '12', 'st', '11', '98', '91'}, 'dice_similarity': 0.64}, {'uid': '18121', 'actual_two_grams': ['ly', 'yn', 'nn', 'nh', 'hi', 'il', 'll', 'lm', 'ma', 'an', 'n1', '11', '12', '26', '61', '19', '97', '78'], 'predicted_two_grams': {'61', 'il', 've', '19', 'n1', 'an', 'hi', 'ma', '11', 'll', '78', '97', 'nn'}, 'dice_similarity': 0.7742}, {'uid': '69208', 'actual_two_grams': ['je', 'en', 'nn', 'ni', 'if', 'fe', 'er', 'rr', 'ro', 'om', 'ma', 'an', 'no', 'o6', '61', '11', '19', '99', '99'], 'predicted_two_grams': {'ie', '61', 'er', '19', 'an', 'ro', 'je', '99', '11', 'en', 'nn', 'ni'}, 'dice_similarity': 0.7333}, {'uid': '63775', 'actual_two_grams': ['an', 'nt', 'th', 'ho', 'on', 'ny', 'yo', 'ov', 've', 'er', 'rt', 'to', 'on', 'n9', '93', '31', '19', '95', '58'], 'predicted_two_grams': {'n3', 'ho', 've', 'er', '19', 'on', 'an', '95', '31', 'yd'}, 'dice_similarity': 0.5714}, {'uid': '30463', 'actual_two_grams': ['ma', 'ar', 'rk', 'kd', 'du', 'un', 'nn', 'n4', '41', '15', '51', '19', '95', '59'], 'predicted_two_grams': {'51', 'ar', '19', '95', 'ma', 'rk'}, 'dice_similarity': 0.6}, {'uid': '41936', 'actual_two_grams': ['fr', 're', 'ed', 'dm', 'mc', 'cc', 'cl', 'lu', 'ur', 're', 'e1', '11', '18', '81', '19', '97', '72'], 'predicted_two_grams': {'81', 're', '19', '11', '97'}, 'dice_similarity': 0.4762}, {'uid': '24989', 'actual_two_grams': ['li', 'in', 'nd', 'da', 'aj', 'jo', 'on', 'ne', 'es', 's8', '82', '21', '11', '19', '98', '80'], 'predicted_two_grams': {'in', 'da', '19', 'on', '21', '98', 'ne'}, 'dice_similarity': 0.6087}, {'uid': '77547', 'actual_two_grams': ['da', 'an', 'ni', 'ie', 'el', 'lm', 'mi', 'it', 'tc', 'ch', 'he', 'el', 'll', 'l8', '81', '11', '11', '19', '94', '44'], 'predicted_two_grams': {'ie', 'mi', 'tc', 'he', '94', '19', 'an', '45', 'it', 'el', '11', 'll', 'ch', 'ni'}, 'dice_similarity': 0.8125}, {'uid': '63428', 'actual_two_grams': ['am', 'mb', 'be', 'er', 'rg', 'ga', 'as', 'st', 'to', 'on', 'n5', '51', '12', '21', '19', '97', '71'], 'predicted_two_grams': {'to', '71', 'er', '19', 'on', 'ro', 'rg', '21', '97', 'be', 'am'}, 'dice_similarity': 0.7143}, {'uid': '61680', 'actual_two_grams': ['lo', 'og', 'ga', 'an', 'nm', 'ma', 'al', 'lo', 'on', 'ne', 'ey', 'y4', '41', '14', '41', '19', '95', '55'], 'predicted_two_grams': {'55', 'ho', '41', '19', 'an', 'on', '95', 'ma', 'al', 'ne'}, 'dice_similarity': 0.6923}, {'uid': '94663', 'actual_two_grams': ['ma', 'ar', 'rg', 'ga', 'ar', 're', 'et', 'tl', 'la', 'ar', 'rs', 'se', 'en', 'n2', '29', '91', '19', '99', '92'], 'predicted_two_grams': {'29', 'ar', 're', '19', '92', 'rg', 'ma', '99', 'la', 'ga', 'en', '91'}, 'dice_similarity': 0.8276}, {'uid': '63887', 'actual_two_grams': ['am', 'ma', 'an', 'nd', 'da', 'aw', 'wr', 'ri', 'ig', 'gh', 'ht', 't1', '11', '17', '71', '19', '96', '62'], 'predicted_two_grams': {'ri', '71', 'da', '19', 'an', '96', 'ma', '11'}, 'dice_similarity': 0.6154}, {'uid': '31743', 'actual_two_grams': ['li', 'is', 'sa', 'ab', 'bu', 'ug', 'gg', 'gs', 's7', '72', '28', '81', '19', '98', '81'], 'predicted_two_grams': {'81', 'ss', '19', 'li', '98', 'is'}, 'dice_similarity': 0.5}, {'uid': '44791', 'actual_two_grams': ['sh', 'he', 'el', 'li', 'ia', 'as', 'sc', 'co', 'ot', 'tt', 't5', '55', '52', '20', '00', '01'], 'predicted_two_grams': {'tt', 'he', '52', '00', 'li', 'ia', 'as', 'sc', 'sh', '02', '01', 'co', 'ot', '20'}, 'dice_similarity': 0.8667}, {'uid': '65425', 'actual_two_grams': ['ev', 've', 'el', 'ly', 'yn', 'nn', 'ne', 'el', 'ls', 'so', 'on', 'n7', '72', '28', '81', '19', '98', '89'], 'predicted_two_grams': {'81', 've', '19', 'ev', 'on', 'el', 'ly', '98', 'nn'}, 'dice_similarity': 0.6923}, {'uid': '77272', 'actual_two_grams': ['pa', 'am', 'me', 'el', 'la', 'al', 'le', 'ee', 'e2', '21', '13', '31', '19', '94', '42'], 'predicted_two_grams': {'94', '19', 'le', 'el', 'la', 'al'}, 'dice_similarity': 0.5714}, {'uid': '72100', 'actual_two_grams': ['he', 'er', 'rm', 'ma', 'an', 'nz', 'zi', 'ie', 'em', 'me', 'er', 'r3', '33', '31', '19', '95', '52'], 'predicted_two_grams': {'ie', 'er', '19', 'an', '95', '31', 'ma', '13'}, 'dice_similarity': 0.5833}, {'uid': '6000', 'actual_two_grams': ['de', 'en', 'ni', 'is', 'sh', 'ha', 'ab', 'bi', 'ib', 'bl', 'le', 'e7', '74', '41', '19', '96', '64'], 'predicted_two_grams': {'72', 'ha', 'bo', 'le', '19', '41', '96', 'de', 'en', '64', 'is'}, 'dice_similarity': 0.6429}, {'uid': '78301', 'actual_two_grams': ['ma', 'at', 'tt', 'th', 'he', 'ew', 'wv', 'vi', 'il', 'll', 'la', 'ar', 'rr', 're', 'ea', 'al', 'l1', '11', '12', '29', '91', '19', '94', '44'], 'predicted_two_grams': {'th', 'ar', 'il', '94', '19', '12', 'l1', 'ma', '11', 'la', 'll', 'al', '91'}, 'dice_similarity': 0.7027}, {'uid': '7867', 'actual_two_grams': ['da', 'an', 'ni', 'ie', 'el', 'lr', 'ro', 'om', 'ma', 'an', 'no', 'o1', '10', '05', '52', '20', '00', '01'], 'predicted_two_grams': {'10', 'da', '00', '19', 'n1', 'an', 'ro', 'el', 'ma', '02', '01', 'ni', '20'}, 'dice_similarity': 0.6667}, {'uid': '81389', 'actual_two_grams': ['jo', 'oe', 'ed', 'do', 'ob', 'bb', 'bi', 'in', 'ns', 's6', '64', '41', '19', '96', '67'], 'predicted_two_grams': {'61', 'in', '41', '19', 'bb', 'on', '96'}, 'dice_similarity': 0.4545}, {'uid': '19596', 'actual_two_grams': ['ni', 'ic', 'ch', 'ho', 'ol', 'la', 'as', 'sb', 'ba', 'ak', 'ke', 'er', 'r3', '31', '15', '51', '19', '97', '75'], 'predicted_two_grams': {'51', 'ho', 'ic', 'ha', '19', 'ke', 'as', '31', 'r3', '15', 'la', '97', 'ni'}, 'dice_similarity': 0.75}, {'uid': '92248', 'actual_two_grams': ['da', 'av', 'vi', 'id', 'dr', 'ri', 'ic', 'ch', 'ha', 'ar', 'rd', 'ds', 'so', 'on', 'n5', '52', '23', '31', '19', '97', '75'], 'predicted_two_grams': {'51', 'ar', 'ic', 'ri', 'ha', 'da', '19', 'on', '23', '31', '97', 'dd', 'id', 'so', 'av'}, 'dice_similarity': 0.7222}, {'uid': '55766', 'actual_two_grams': ['jo', 'oh', 'hn', 'ns', 'st', 'tu', 'ur', 'rg', 'ge', 'es', 's8', '82', '27', '71', '19', '94', '46'], 'predicted_two_grams': {'27', '71', '19', '94', 'es', 'jo', 'ns'}, 'dice_similarity': 0.5833}, {'uid': '27054', 'actual_two_grams': ['pa', 'am', 'me', 'el', 'la', 'ac', 'co', 'or', 'rt', 't1', '11', '12', '20', '01', '19', '99', '98'], 'predicted_two_grams': {'19', '12', 'ac', 'me', 'el', '11', 'la', '98', '01', 'co'}, 'dice_similarity': 0.7407}, {'uid': '92952', 'actual_two_grams': ['aa', 'ar', 'ro', 'on', 'ns', 'sm', 'mi', 'it', 'th', 'hs', 'so', 'on', 'n3', '32', '21', '11', '19', '99', '90'], 'predicted_two_grams': {'32', 'th', 'mi', 'n3', 'ar', '19', 'on', '23', 'it', 'ro', '31', '99', '11', '21', 'ns', 'so'}, 'dice_similarity': 0.8235}, {'uid': '65142', 'actual_two_grams': ['an', 'nn', 'ni', 'ie', 'eh', 'hy', 'yd', 'de', 'e4', '42', '23', '31', '19', '94', '49'], 'predicted_two_grams': {'ie', 'eh', '94', '19', 'an', '42', 'nn', 'ni'}, 'dice_similarity': 0.6957}, {'uid': '52314', 'actual_two_grams': ['ja', 'am', 'me', 'es', 'sc', 'cu', 'um', 'mm', 'mi', 'in', 'ng', 'gs', 's1', '13', '31', '19', '99', '95'], 'predicted_two_grams': {'in', '19', 'es', '31', '99', 'ja', 'am'}, 'dice_similarity': 0.56}, {'uid': '49197', 'actual_two_grams': ['sa', 'am', 'mu', 'ue', 'el', 'lb', 'bo', 'oc', 'ck', 'k7', '71', '10', '01', '19', '96', '64'], 'predicted_two_grams': {'10', 'sa', '71', 'bo', '19', 'li', '96', 'me', 'el', '01', '64', 'am'}, 'dice_similarity': 0.7143}, {'uid': '48470', 'actual_two_grams': ['wi', 'il', 'll', 'li', 'ia', 'am', 'mj', 'jo', 'on', 'ne', 'es', 's6', '63', '30', '01', '19', '97', '73'], 'predicted_two_grams': {'30', 'il', '73', '19', 'es', 'li', 'ia', 'on', 'wi', 'll', '97', '63', '01', 'am'}, 'dice_similarity': 0.875}, {'uid': '71655', 'actual_two_grams': ['do', 'ol', 'lo', 'or', 're', 'es', 'sd', 'do', 'ou', 'ug', 'gl', 'la', 'as', 's1', '12', '25', '51', '19', '99', '99'], 'predicted_two_grams': {'gl', '93', '19', 'ug', 'or', 'es', 'do', 'as', 'la', 'ou'}, 'dice_similarity': 0.6429}, {'uid': '32326', 'actual_two_grams': ['jo', 'os', 'se', 'ep', 'ph', 'hb', 'br', 'ro', 'oo', 'ok', 'ks', 's6', '61', '10', '01', '19', '96', '61'], 'predicted_two_grams': {'10', 'os', '61', 'ph', 'br', '19', 'jo', 'ro', '96', 'ep', '01', 'cr', 'se'}, 'dice_similarity': 0.8}, {'uid': '58834', 'actual_two_grams': ['sa', 'am', 'ma', 'an', 'nt', 'th', 'ha', 'ap', 'pa', 'ar', 'rk', 'ke', 'er', 'r1', '11', '12', '25', '51', '19', '94', '43'], 'predicted_two_grams': {'th', '51', 'ar', '94', 'er', '19', 'an', '12', '43', 'ma', '11', 'ba', 'r1'}, 'dice_similarity': 0.7059}, {'uid': '16736', 'actual_two_grams': ['je', 'es', 'ss', 'se', 'ef', 'fi', 'ia', 'al', 'la', 'a1', '11', '16', '61', '19', '96', '61'], 'predicted_two_grams': {'61', 'ra', '26', '19', '96', 'al'}, 'dice_similarity': 0.381}, {'uid': '8959', 'actual_two_grams': ['mi', 'ic', 'ch', 'he', 'el', 'll', 'le', 'eh', 'hu', 'us', 'sb', 'ba', 'an', 'nd', 'd1', '10', '01', '11', '19', '94', '46'], 'predicted_two_grams': {'10', 'mi', 'ae', '94', 'le', '19', '43', 'el', 'ba', '01', 'ch'}, 'dice_similarity': 0.5625}, {'uid': '75074', 'actual_two_grams': ['ed', 'dn', 'na', 'ag', 'gr', 'ra', 'av', 've', 'es', 's4', '41', '15', '51', '19', '93', '37'], 'predicted_two_grams': {'51', 'ra', 'ag', '19', 'gr', '41', 'es'}, 'dice_similarity': 0.6087}, {'uid': '8237', 'actual_two_grams': ['ad', 'dr', 'ri', 'ia', 'an', 'np', 'pa', 'at', 'tt', 't9', '91', '13', '31', '19', '98', '83'], 'predicted_two_grams': {'tt', 'ri', '19', 'ad', 'an', '31', '13', 'tr', 'at'}, 'dice_similarity': 0.64}, {'uid': '15011', 'actual_two_grams': ['er', 'ri', 'in', 'nh', 'he', 'ep', 'pw', 'wo', 'or', 'rt', 'th', 'h4', '42', '28', '81', '19', '99', '92'], 'predicted_two_grams': {'th', 'in', 'er', '19', '99'}, 'dice_similarity': 0.4348}, {'uid': '46067', 'actual_two_grams': ['wi', 'il', 'll', 'li', 'ia', 'am', 'mg', 'gr', 're', 'eg', 'go', 'or', 'ry', 'y1', '10', '02', '20', '01', '19', '96', '66'], 'predicted_two_grams': {'10', 'ms', 'il', '19', 'or', 'li', 'ia', 'wi', '96', 'lo', 'll', '01', 'am', '20'}, 'dice_similarity': 0.6857}, {'uid': '39600', 'actual_two_grams': ['al', 'lf', 'fr', 're', 'ed', 'do', 'oy', 'yo', 'ou', 'un', 'ng', 'g1', '12', '23', '31', '19', '94', '48'], 'predicted_two_grams': {'94', '19', '31', '11', 'al'}, 'dice_similarity': 0.3478}, {'uid': '87889', 'actual_two_grams': ['ja', 'ay', 'ym', 'ma', 'ar', 'rr', 'ri', 'io', 'ot', 'tt', 't2', '21', '16', '61', '19', '95', '50'], 'predicted_two_grams': {'ar', '61', 'ri', '19', '95', 'ma'}, 'dice_similarity': 0.5217}, {'uid': '32155', 'actual_two_grams': ['li', 'il', 'll', 'li', 'ia', 'an', 'nc', 'co', 'ol', 'll', 'li', 'in', 'ns', 's6', '61', '18', '81', '19', '93', '38'], 'predicted_two_grams': {'37', '38', '81', 'in', '93', '19', 'ia', 'an', 'li', 'la', 'll', 'ns', 'co'}, 'dice_similarity': 0.7333}, {'uid': '24821', 'actual_two_grams': ['ed', 'di', 'it', 'th', 'hr', 'ro', 'oc', 'ck', 'k1', '11', '13', '30', '01', '19', '97', '77'], 'predicted_two_grams': {'30', 'di', 'th', 'ck', '19', 'ke', 'ro', 'it', '11', '97', '01'}, 'dice_similarity': 0.7407}, {'uid': '14742', 'actual_two_grams': ['ar', 'rm', 'ma', 'an', 'nd', 'do', 'om', 'mc', 'ck', 'ka', 'ay', 'y9', '99', '91', '19', '98', '81'], 'predicted_two_grams': {'ar', '19', 'an', 'ma', '98', '91', 'nd'}, 'dice_similarity': 0.5833}, {'uid': '43589', 'actual_two_grams': ['sh', 'he', 'er', 'rr', 'ry', 'ys', 'st', 'te', 'er', 'rn', 'nb', 'be', 'er', 'rg', 'g4', '41', '13', '31', '19', '98', '85'], 'predicted_two_grams': {'ar', '94', 'er', '19', 'rg', 'ry', '98', 'te'}, 'dice_similarity': 0.4444}, {'uid': '31765', 'actual_two_grams': ['le', 'ew', 'wi', 'is', 'sb', 'be', 'el', 'll', 'l5', '55', '51', '19', '97', '77'], 'predicted_two_grams': {'51', 'le', '19', 'li', 'el', 'ew', 'll', '97', 'is'}, 'dice_similarity': 0.6957}, {'uid': '77287', 'actual_two_grams': ['ke', 'ev', 've', 'en', 'ns', 'si', 'im', 'ms', 's1', '11', '11', '11', '19', '98', '86'], 'predicted_two_grams': {'ve', '19', 'ev', 'ke', 'ly', '11', 'ee', '98', 'en', 'ns', 's1'}, 'dice_similarity': 0.75}, {'uid': '37561', 'actual_two_grams': ['ar', 'rm', 'ma', 'an', 'nd', 'do', 'os', 'se', 'et', 'to', 'o8', '83', '31', '11', '19', '95', '51'], 'predicted_two_grams': {'ar', '19', 'an', '95', '31', '11', 'ma', 'se'}, 'dice_similarity': 0.64}, {'uid': '80997', 'actual_two_grams': ['je', 'ef', 'ff', 'fr', 're', 'ey', 'ya', 'ag', 'gu', 'ui', 'ir', 'rr', 're', 'e4', '41', '11', '19', '95', '55'], 'predicted_two_grams': {'ag', 're', '19', 'gr', '95'}, 'dice_similarity': 0.3478}, {'uid': '96819', 'actual_two_grams': ['je', 'er', 'rr', 'ry', 'yb', 'br', 'ra', 'an', 'nt', 'tl', 'le', 'ey', 'y8', '83', '31', '19', '96', '66'], 'predicted_two_grams': {'er', 'le', 'bu', '19', 'an', '31', '96', 'tl', 'ry', '66'}, 'dice_similarity': 0.6429}, {'uid': '38882', 'actual_two_grams': ['la', 'ar', 'rr', 'ry', 'yd', 'di', 'ia', 'az', 'z9', '96', '61', '19', '94', '47'], 'predicted_two_grams': {'ar', '61', '94', '19', 'la', 'ry', '91'}, 'dice_similarity': 0.5714}, {'uid': '72533', 'actual_two_grams': ['ma', 'ar', 'rk', 'ko', 'ol', 'la', 'ag', 'gu', 'ue', 'e1', '12', '23', '31', '19', '95', '52'], 'predicted_two_grams': {'ar', 'ag', '19', '12', '95', '31', 'ma', '11', 'la', 'rk', '13'}, 'dice_similarity': 0.6667}, {'uid': '91182', 'actual_two_grams': ['ma', 'ar', 'rl', 'le', 'en', 'ne', 'ek', 'ki', 'il', 'lg', 'go', 'or', 're', 'e7', '75', '51', '19', '99', '95'], 'predicted_two_grams': {'51', 'ar', 're', 'le', '19', '71', '95', '99', 'ma', 'en', 'ne'}, 'dice_similarity': 0.6667}, {'uid': '46581', 'actual_two_grams': ['ju', 'ul', 'li', 'im', 'mc', 'cd', 'da', 'an', 'ni', 'ie', 'el', 'l1', '15', '51', '19', '95', '59'], 'predicted_two_grams': {'51', 'ie', '19', 'li', '95', 'el', '11', 'll', '59', 'ni'}, 'dice_similarity': 0.5926}, {'uid': '58620', 'actual_two_grams': ['es', 'st', 'th', 'he', 'er', 'rr', 'ro', 'ou', 'us', 'se', 'e1', '11', '11', '18', '81', '19', '95', '58'], 'predicted_two_grams': {'th', '81', 'he', '93', 'er', '19', '18', '58', '95', '11', 'ot'}, 'dice_similarity': 0.6429}, {'uid': '89896', 'actual_two_grams': ['do', 'on', 'ns', 'sm', 'mi', 'it', 'th', 'h4', '41', '15', '51', '19', '93', '37'], 'predicted_two_grams': {'th', 'mi', '51', '93', '19', 'or', 'do', 'on', 'it', 'ns', '15', 'sm'}, 'dice_similarity': 0.8462}, {'uid': '1131', 'actual_two_grams': ['wi', 'il', 'll', 'li', 'ia', 'am', 'mb', 'ba', 'ar', 'rr', 'ro', 'ow', 'w6', '62', '24', '41', '19', '95', '52'], 'predicted_two_grams': {'ar', 'il', 'ow', '19', 'li', 'ia', 'wi', 'ro', '95', 'll', 'am'}, 'dice_similarity': 0.7333}, {'uid': '1465', 'actual_two_grams': ['gr', 're', 'eg', 'go', 'or', 'ri', 'io', 'op', 'pa', 'ar', 'rk', 'ke', 'er', 'r2', '21', '14', '41', '19', '99', '98'], 'predicted_two_grams': {'ar', 'ri', '41', '19', 'or', 'ge', '99', '21', '98'}, 'dice_similarity': 0.5517}, {'uid': '58465', 'actual_two_grams': ['ed', 'dw', 'wi', 'in', 'nr', 'ri', 'iv', 've', 'er', 'ra', 'a1', '12', '23', '31', '11', '19', '96', '63'], 'predicted_two_grams': {'ri', 'ra', 'in', 've', 'ev', '19', 'do', '12', '96', '11', 'ng'}, 'dice_similarity': 0.5517}, {'uid': '20671', 'actual_two_grams': ['te', 'er', 'rr', 'ry', 'yw', 'wa', 'at', 'tk', 'ki', 'in', 'ns', 's1', '12', '22', '22', '21', '19', '96', '66'], 'predicted_two_grams': {'in', '19', '12', '96', 'ry', '21', '22', '66'}, 'dice_similarity': 0.6154}, {'uid': '14212', 'actual_two_grams': ['do', 'on', 'nn', 'na', 'ak', 'kr', 'ri', 'ie', 'eg', 'g1', '11', '12', '21', '19', '94', '44'], 'predicted_two_grams': {'ri', '94', '19', 'do', 'on', 'an', '12', 'ge', '11', '21'}, 'dice_similarity': 0.6154}, {'uid': '64213', 'actual_two_grams': ['de', 'el', 'll', 'la', 'am', 'ma', 'ar', 'rt', 'ti', 'in', 'n2', '21', '11', '19', '96', '63'], 'predicted_two_grams': {'ar', 'in', '19', 'li', '96', 'el', 'ma', '11', 'la', 'll', 'am'}, 'dice_similarity': 0.7407}, {'uid': '22173', 'actual_two_grams': ['ja', 'ac', 'ck', 'kp', 'pi', 'ie', 'er', 'rc', 'ce', 'e4', '41', '11', '11', '19', '98', '84'], 'predicted_two_grams': {'ie', 'ck', 'ce', 'rc', 'er', '19', '84', 'ac', 'je', '11', '98'}, 'dice_similarity': 0.7692}, {'uid': '31833', 'actual_two_grams': ['li', 'il', 'll', 'li', 'ia', 'an', 'na', 'al', 'll', 'le', 'en', 'n8', '82', '23', '31', '19', '93', '39'], 'predicted_two_grams': {'il', '93', 'le', '19', 'ia', 'an', 'li', 'na', 'll', 'al', 'en'}, 'dice_similarity': 0.8148}, {'uid': '32542', 'actual_two_grams': ['lu', 'uc', 'cy', 'yr', 'ra', 'ay', 'yb', 'bu', 'ur', 'rn', 'n9', '91', '19', '91', '19', '99', '99'], 'predicted_two_grams': {'ur', 'ar', 'au', '19', 'bu', '99', 'la', '91'}, 'dice_similarity': 0.4545}, {'uid': '83494', 'actual_two_grams': ['jo', 'on', 'na', 'ah', 'hj', 'jo', 'on', 'ne', 'es', 's1', '12', '22', '25', '51', '19', '93', '37'], 'predicted_two_grams': {'51', '25', '93', '19', 'es', 'on', 'jo', 'na', '12', '21', '22', 'ne'}, 'dice_similarity': 0.8148}, {'uid': '63404', 'actual_two_grams': ['ir', 'ri', 'is', 'sw', 'wi', 'il', 'll', 'li', 'ia', 'am', 'ms', 's6', '65', '51', '19', '95', '52'], 'predicted_two_grams': {'51', 'ri', 'il', '52', '19', 'li', 'ia', 'wi', '95', 'll', 'am'}, 'dice_similarity': 0.7857}, {'uid': '71211', 'actual_two_grams': ['to', 'om', 'mh', 'ha', 'ar', 'rr', 'ri', 'is', 'so', 'on', 'n2', '22', '25', '51', '19', '96', '69'], 'predicted_two_grams': {'ck', 'ic', 'ar', 'ri', '19', 'on', '96', '69', 'is'}, 'dice_similarity': 0.5385}, {'uid': '40985', 'actual_two_grams': ['ry', 'ya', 'an', 'nb', 'bo', 'ou', 'ur', 'rg', 'ge', 'et', 't2', '27', '71', '19', '95', '57'], 'predicted_two_grams': {'ya', '71', '19', 'or', 'an', '95', 'ge', 'rg', 'ry', 'ou'}, 'dice_similarity': 0.6923}, {'uid': '85617', 'actual_two_grams': ['da', 'av', 'vi', 'id', 'dl', 'la', 'aw', 'ws', 'so', 'on', 'n7', '75', '51', '19', '99', '91'], 'predicted_two_grams': {'51', 'vi', 'n7', '71', 'da', '19', 'on', 'la', 'id', 'so', 'av'}, 'dice_similarity': 0.7407}, {'uid': '36896', 'actual_two_grams': ['di', 'iv', 'vi', 'in', 'na', 'ah', 'he', 'en', 'nd', 'de', 'er', 'rs', 'so', 'on', 'n4', '41', '19', '92', '20', '00', '03'], 'predicted_two_grams': {'in', 'er', 'rs', '00', 'on', 'de', 'en', 'so', 'nd', '20'}, 'dice_similarity': 0.6452}, {'uid': '98417', 'actual_two_grams': ['gr', 're', 'et', 'tc', 'ch', 'he', 'en', 'nh', 'ha', 'al', 'll', 'l5', '52', '20', '02', '20', '00', '00'], 'predicted_two_grams': {'ha', 'le', '00', '02', '20', 'll', 'al', 'en'}, 'dice_similarity': 0.5833}, {'uid': '93848', 'actual_two_grams': ['ma', 'ar', 'ri', 'ie', 'ec', 'co', 'or', 'rn', 'nw', 'we', 'el', 'll', 'l1', '12', '21', '11', '19', '95', '54'], 'predicted_two_grams': {'ar', '19', '95', 'el', 'ma', '11', 'll', '21'}, 'dice_similarity': 0.5926}, {'uid': '68451', 'actual_two_grams': ['ma', 'at', 'tt', 'th', 'he', 'ew', 'wb', 'be', 'en', 'na', 'av', 'vi', 'id', 'de', 'es', 's9', '92', '26', '61', '19', '94', '41'], 'predicted_two_grams': {'th', 'tt', '61', 'he', '26', '19', 'ma', 'at'}, 'dice_similarity': 0.5333}, {'uid': '53093', 'actual_two_grams': ['li', 'in', 'nd', 'da', 'av', 've', 'ei', 'ig', 'ga', 'a9', '91', '11', '11', '19', '97', '79'], 'predicted_two_grams': {'ar', 'in', 've', 'da', '19', '79', '11', '97', '91'}, 'dice_similarity': 0.6667}, {'uid': '35136', 'actual_two_grams': ['ju', 'ul', 'li', 'ia', 'at', 'tu', 'ur', 'rn', 'ne', 'er', 'r1', '12', '22', '21', '19', '95', '56'], 'predicted_two_grams': {'ul', 'ur', 'au', 'er', '19', 'ia', 'li', '12', '95', 'tu', 'r1', 'rn'}, 'dice_similarity': 0.7586}, {'uid': '7463', 'actual_two_grams': ['ra', 'aq', 'qu', 'ue', 'el', 'lr', 'ru', 'us', 'ss', 'se', 'el', 'll', 'l9', '95', '51', '19', '98', '84'], 'predicted_two_grams': {'ps', 'ss', 'sa', '19', '85', 'li', 'el', 'ue', 'll', '98', 'se'}, 'dice_similarity': 0.5}, {'uid': '3868', 'actual_two_grams': ['st', 'te', 'ew', 'wa', 'ar', 'rt', 'tk', 'ko', 'ob', 'be', 'er', 'r3', '31', '13', '31', '19', '99', '93'], 'predicted_two_grams': {'tt', 'ty', 'ar', '93', 'er', '19', 'rt', '23', '31', '99', 'be', 'te'}, 'dice_similarity': 0.6207}, {'uid': '57833', 'actual_two_grams': ['re', 'ey', 'yn', 'na', 'al', 'ld', 'do', 'oc', 'ca', 'ab', 'br', 're', 'er', 'ra', 'a1', '10', '01', '18', '82', '20', '00', '00'], 'predicted_two_grams': {'fe', 'ra', 'er', 'le', 'ld', 'do', '00', '20', 'ey', 'al', '01', '02'}, 'dice_similarity': 0.5625}, {'uid': '47981', 'actual_two_grams': ['le', 'ee', 'ew', 'we', 'el', 'll', 'ls', 's5', '52', '29', '91', '19', '93', '39'], 'predicted_two_grams': {'29', 'le', '19', 'el', 'we', 'll', '91'}, 'dice_similarity': 0.6667}, {'uid': '45199', 'actual_two_grams': ['ma', 'ar', 'ri', 'ie', 'eh', 'ha', 'am', 'mb', 'bl', 'li', 'in', 'n8', '81', '10', '01', '19', '98', '87'], 'predicted_two_grams': {'10', 'ar', 'ri', 'in', 'bl', 'ha', '19', 'li', '98', '01', 'am', 'mb'}, 'dice_similarity': 0.8}, {'uid': '58699', 'actual_two_grams': ['fr', 're', 'ed', 'dd', 'di', 'ie', 'ee', 'ed', 'dw', 'wa', 'ar', 'rd', 'ds', 's9', '91', '10', '01', '19', '97', '70'], 'predicted_two_grams': {'10', 'ar', 're', '19', 'ed', 'rd', '97'}, 'dice_similarity': 0.5385}, {'uid': '96261', 'actual_two_grams': ['fr', 're', 'ed', 'dr', 'ra', 'ad', 'dc', 'cl', 'li', 'if', 'ff', 'fe', 'e9', '93', '30', '01', '19', '94', '44'], 'predicted_two_grams': {'30', 'ri', 'ra', 'dr', 'fr', 're', '19', '94', 'an', 'en', '01'}, 'dice_similarity': 0.5333}, {'uid': '61674', 'actual_two_grams': ['wi', 'il', 'll', 'li', 'ia', 'am', 'mr', 'ri', 'ic', 'co', 'o2', '24', '41', '19', '95', '53'], 'predicted_two_grams': {'ri', 'il', '19', 'li', 'ia', 'wi', '95', 'll', 'co', 'am'}, 'dice_similarity': 0.7692}, {'uid': '37354', 'actual_two_grams': ['ju', 'ud', 'dy', 'yj', 'jo', 'oh', 'hn', 'ns', 'so', 'on', 'n5', '52', '22', '21', '19', '98', '86'], 'predicted_two_grams': {'19', '98', 'on', 'jo', 'oh', '21', 'hn', 'ns', 'so', '22'}, 'dice_similarity': 0.7407}, {'uid': '3570', 'actual_two_grams': ['wi', 'il', 'll', 'li', 'ia', 'am', 'ml', 'le', 'es', 'ss', 'sa', 'ar', 'rd', 'd7', '72', '25', '51', '19', '98', '80'], 'predicted_two_grams': {'51', 'ar', 'il', '19', 'li', 'ia', 'wi', 'll', '98', 'am'}, 'dice_similarity': 0.6667}, {'uid': '28187', 'actual_two_grams': ['ma', 'at', 'tt', 'th', 'he', 'ew', 'wp', 'pu', 'ur', 'rs', 'se', 'el', 'll', 'l2', '28', '81', '19', '96', '64'], 'predicted_two_grams': {'th', 'tt', 'he', '19', '96', 'el', 'ma', 'll'}, 'dice_similarity': 0.5926}, {'uid': '69257', 'actual_two_grams': ['ba', 'ar', 'rb', 'ba', 'ar', 'ra', 'ad', 'do', 'os', 'ss', 's8', '81', '19', '92', '20', '00', '02'], 'predicted_two_grams': {'ar', '02', '00', 'ba', '91', '20'}, 'dice_similarity': 0.4762}, {'uid': '72281', 'actual_two_grams': ['al', 'lv', 'vi', 'in', 'nc', 'cl', 'la', 'ar', 'rk', 'k1', '10', '03', '31', '19', '96', '63'], 'predicted_two_grams': {'30', 'ar', 'in', '19', '63', '31', '13', 'la', 'al', '01'}, 'dice_similarity': 0.5385}, {'uid': '52283', 'actual_two_grams': ['re', 'en', 'ne', 'em', 'mi', 'il', 'le', 'es', 's2', '21', '14', '41', '19', '97', '70'], 'predicted_two_grams': {'mi', 'il', 're', 'le', '19', '41', 'es', 'em', '14', 'ee', '97', 'en', 'ne'}, 'dice_similarity': 0.8571}, {'uid': '6680', 'actual_two_grams': ['st', 'te', 'ep', 'ph', 'he', 'en', 'nm', 'me', 'ey', 'ye', 'er', 'r4', '42', '28', '81', '19', '95', '57'], 'predicted_two_grams': {'81', 've', 'er', '19', '95', 'st', 'en'}, 'dice_similarity': 0.48}, {'uid': '44367', 'actual_two_grams': ['be', 'et', 'tt', 'ty', 'yl', 'lo', 'op', 'pp', 'p1', '12', '22', '26', '61', '19', '94', '40'], 'predicted_two_grams': {'pe', 'tt', 'ty', '26', '94', 'et', '19', 'be'}, 'dice_similarity': 0.5833}, {'uid': '28072', 'actual_two_grams': ['ry', 'ya', 'an', 'np', 'pa', 'au', 'ul', 'li', 'in', 'ng', 'g3', '31', '11', '11', '19', '96', '66'], 'predicted_two_grams': {'ul', 'ya', 'in', '19', 'an', '31', '69', 'ah', '96', 'ry', '66', 'ng'}, 'dice_similarity': 0.7143}, {'uid': '85137', 'actual_two_grams': ['an', 'nn', 'ne', 'eu', 'ur', 'rb', 'ba', 'an', 'ns', 'sk', 'ki', 'i2', '22', '28', '81', '19', '98', '82'], 'predicted_two_grams': {'19', '98', 'an', 'nn', '21', '82', 'ns', 'ni'}, 'dice_similarity': 0.48}, {'uid': '88712', 'actual_two_grams': ['ja', 'ar', 're', 'ed', 'de', 'en', 'ng', 'ge', 'eb', 'br', 're', 'et', 'ts', 'so', 'on', 'n9', '92', '22', '21', '19', '96', '60'], 'predicted_two_grams': {'29', 'ar', 're', '19', 'on', '96', 'de', '60', 'en', 'so', '91'}, 'dice_similarity': 0.5625}, {'uid': '69356', 'actual_two_grams': ['ch', 'he', 'er', 'ry', 'yl', 'lr', 're', 'ed', 'dd', 'di', 'in', 'ng', 'g7', '78', '81', '19', '98', '85'], 'predicted_two_grams': {'di', '81', 'in', 're', '19', 'ed', '98', 'ch'}, 'dice_similarity': 0.6154}, {'uid': '55970', 'actual_two_grams': ['de', 'en', 'nn', 'ni', 'is', 'sj', 'ja', 'ac', 'ck', 'ks', 'so', 'on', 'n1', '10', '02', '23', '31', '19', '97', '70'], 'predicted_two_grams': {'ck', '19', 'on', 'ac', '31', 'aj', 'so'}, 'dice_similarity': 0.4444}, {'uid': '24843', 'actual_two_grams': ['fr', 'ra', 'an', 'nk', 'ka', 'al', 'le', 'ex', 'xa', 'an', 'nd', 'de', 'er', 'r8', '81', '10', '01', '19', '99', '96'], 'predicted_two_grams': {'10', 'ra', 'er', 'le', '19', 'an', 'de', '99', 'al', '01', 'nd'}, 'dice_similarity': 0.7333}, {'uid': '42998', 'actual_two_grams': ['wi', 'il', 'll', 'li', 'ia', 'am', 'mt', 'to', 'ow', 'wn', 'nl', 'le', 'ey', 'y8', '83', '31', '19', '96', '65'], 'predicted_two_grams': {'il', '19', 'li', 'ia', 'wi', '31', 'll', 'am'}, 'dice_similarity': 0.5926}, {'uid': '48525', 'actual_two_grams': ['li', 'is', 'sa', 'ad', 'da', 'av', 'vi', 'is', 's8', '82', '23', '32', '20', '00', '01'], 'predicted_two_grams': {'vi', 'da', 'av', '00', 'li', '23', 's3', '31', '02', 'is', '20'}, 'dice_similarity': 0.64}, {'uid': '67990', 'actual_two_grams': ['pe', 'ea', 'ar', 'rl', 'lb', 'br', 'ri', 'it', 'tt', 'to', 'on', 'n6', '62', '21', '19', '95', '53'], 'predicted_two_grams': {'tt', 'ar', 'ri', 'to', 'et', '19', 'on', '95', 'ma', '22'}, 'dice_similarity': 0.5185}, {'uid': '82543', 'actual_two_grams': ['ma', 'ar', 'rg', 'ga', 'ar', 're', 'et', 'td', 'da', 'an', 'nt', 't1', '10', '07', '71', '19', '95', '54'], 'predicted_two_grams': {'10', 'ar', 're', '19', '71', 'an', '95', 'rg', 'ma', 'ga', '01'}, 'dice_similarity': 0.7143}, {'uid': '40924', 'actual_two_grams': ['ma', 'ar', 'rk', 'kb', 'bo', 'oy', 'yd', 'd2', '22', '21', '19', '97', '76'], 'predicted_two_grams': {'ar', 'ri', '19', 'oy', 'ma', 'ry', '21', '97'}, 'dice_similarity': 0.5714}, {'uid': '10074', 'actual_two_grams': ['pa', 'au', 'ul', 'lr', 're', 'en', 'nd', 'do', 'on', 'n1', '16', '61', '19', '97', '72'], 'predicted_two_grams': {'ul', '61', 'au', 're', '19', 'do', 'n1', 'on', '16', 'la', '97', 'pa', '62'}, 'dice_similarity': 0.7857}, {'uid': '18579', 'actual_two_grams': ['do', 'or', 'ri', 'is', 'sg', 'go', 'or', 'rm', 'ma', 'an', 'n2', '21', '10', '01', '19', '94', '45'], 'predicted_two_grams': {'10', 'us', 'ri', '94', '19', 'or', 'do', 'an', 'ma', '01', 'ot'}, 'dice_similarity': 0.6667}, {'uid': '56171', 'actual_two_grams': ['do', 'on', 'nn', 'na', 'ac', 'cu', 'us', 'sh', 'hm', 'ma', 'an', 'n1', '12', '20', '01', '19', '94', '47'], 'predicted_two_grams': {'94', '19', 'do', 'n1', 'on', 'an', 'na', '12', 'ma', '01'}, 'dice_similarity': 0.7143}, {'uid': '47954', 'actual_two_grams': ['ju', 'ud', 'di', 'it', 'th', 'hh', 'ho', 'ou', 'us', 'se', 'er', 'r8', '81', '16', '62', '20', '00', '00'], 'predicted_two_grams': {'di', 'th', 'er', '00', '16', 'eb', '02', '62', '20'}, 'dice_similarity': 0.5385}, {'uid': '52891', 'actual_two_grams': ['be', 'et', 'th', 'hj', 'ja', 'ac', 'ck', 'ks', 'so', 'on', 'n1', '12', '22', '20', '01', '19', '98', '85'], 'predicted_two_grams': {'ck', 'so', 'et', '19', 'n1', 'on', 'ac', '12', 'be', 'ks'}, 'dice_similarity': 0.7143}, {'uid': '11908', 'actual_two_grams': ['je', 'en', 'nn', 'ni', 'if', 'fe', 'er', 'rs', 'so', 'ol', 'lo', 'om', 'mo', 'on', 'n1', '10', '02', '25', '51', '19', '99', '91'], 'predicted_two_grams': {'ns', '10', '51', 'er', '19', 'n1', 'on', 'je', 'en', 'nn', 'so', 'ni'}, 'dice_similarity': 0.6471}, {'uid': '60412', 'actual_two_grams': ['el', 'li', 'iz', 'za', 'ab', 'be', 'et', 'th', 'hd', 'de', 'es', 'sr', 'ro', 'os', 'si', 'ie', 'er', 'rs', 's6', '62', '25', '52', '20', '00', '03'], 'predicted_two_grams': {'th', 'tt', '25', '51', '52', 'et', 'ab', '19', 'li', 'ro', 'sc', 'de', 'eb', 'be', 'co', 'ot', '02'}, 'dice_similarity': 0.4286}, {'uid': '1346', 'actual_two_grams': ['fl', 'lo', 'or', 're', 'en', 'nc', 'ce', 'eb', 'bo', 'os', 'sw', 'we', 'el', 'll', 'l4', '41', '19', '91', '19', '97', '79'], 'predicted_two_grams': {'ce', 'rr', 're', 'bo', '19', 'or', 'el', 'lo', 'll', '97', 'en', '91', 'nc'}, 'dice_similarity': 0.7273}, {'uid': '54060', 'actual_two_grams': ['ea', 'ar', 'rl', 'lw', 'wh', 'ha', 'ar', 'rt', 'to', 'on', 'n6', '69', '91', '19', '97', '73'], 'predicted_two_grams': {'ar', 'ha', '19', 'on', '97'}, 'dice_similarity': 0.5}, {'uid': '1877', 'actual_two_grams': ['wa', 'al', 'll', 'la', 'ac', 'ce', 'eb', 'bl', 'la', 'an', 'nc', 'ch', 'ha', 'ar', 'rd', 'd1', '12', '25', '51', '19', '97', '70'], 'predicted_two_grams': {'51', 'ar', 'ce', 'bl', 'ha', '19', 'an', 'ac', 'wa', 'rd', 'la', '97', 'nc', 'ch'}, 'dice_similarity': 0.8}, {'uid': '87747', 'actual_two_grams': ['ja', 'ac', 'ck', 'ki', 'ie', 'eg', 'gr', 're', 'ee', 'en', 'nb', 'ba', 'au', 'um', 'm1', '10', '01', '15', '51', '19', '99', '94'], 'predicted_two_grams': {'51', 'ck', '94', '19', 're'}, 'dice_similarity': 0.3704}, {'uid': '39750', 'actual_two_grams': ['ga', 'ar', 'ry', 'yj', 'jo', 'oh', 'hn', 'ns', 'so', 'on', 'n1', '11', '11', '18', '81', '19', '98', '86'], 'predicted_two_grams': {'ar', '19', '98', 'jo', 'on', 'oh', '11', 'ry', 'hn', 'ns', 'so'}, 'dice_similarity': 0.7857}, {'uid': '47539', 'actual_two_grams': ['lu', 'uc', 'ci', 'il', 'll', 'le', 'es', 'st', 'te', 'ev', 've', 'en', 'ns', 'so', 'on', 'n4', '41', '12', '21', '19', '94', '47'], 'predicted_two_grams': {'nl', 'il', 've', 'le', 'ev', '19', '41', '94', 'on', '12', 'te', 'st', 'en', 'ns', 'so'}, 'dice_similarity': 0.7568}, {'uid': '89059', 'actual_two_grams': ['be', 'er', 'rn', 'na', 'ar', 'rd', 'dr', 'ri', 'ic', 'ch', 'hm', 'mo', 'on', 'nd', 'd1', '12', '23', '31', '19', '97', '77'], 'predicted_two_grams': {'ar', 'ri', 'ha', 'er', '19', 'on', '23', '31', 'rd', 'rn'}, 'dice_similarity': 0.5806}, {'uid': '90854', 'actual_two_grams': ['be', 'er', 'rn', 'na', 'ad', 'de', 'et', 'tt', 'te', 'eh', 'ho', 'ol', 'll', 'le', 'en', 'nb', 'be', 'ec', 'ck', 'k2', '24', '41', '19', '98', '86'], 'predicted_two_grams': {'tt', '41', 'er', 'le', 'et', '19', 'de', 'en', 'rn'}, 'dice_similarity': 0.5455}, {'uid': '66027', 'actual_two_grams': ['st', 'te', 'ep', 'ph', 'he', 'en', 'ng', 'gr', 'ri', 'id', 'dl', 'le', 'ey', 'y5', '51', '13', '31', '19', '97', '70'], 'predicted_two_grams': {'51', 'ri', 'le', '19', 'ey', '97', 'ng'}, 'dice_similarity': 0.5185}, {'uid': '5435', 'actual_two_grams': ['ka', 'at', 'th', 'he', 'er', 'rn', 'nh', 'ha', 'an', 'nk', 'ks', 's1', '11', '11', '11', '19', '98', '81'], 'predicted_two_grams': {'th', '61', '19', 'an', '12', '11', '98', 'ka'}, 'dice_similarity': 0.5}, {'uid': '79229', 'actual_two_grams': ['be', 'er', 'rt', 'th', 'ha', 'aj', 'ja', 'am', 'me', 'es', 's3', '31', '13', '31', '19', '98', '80'], 'predicted_two_grams': {'er', '19', 'es', 'rt', '31', 'me', 'ja', '98', 'be'}, 'dice_similarity': 0.72}, {'uid': '65375', 'actual_two_grams': ['ju', 'ua', 'an', 'ni', 'it', 'ta', 'ao', 'od', 'de', 'en', 'n1', '13', '31', '19', '94', '49'], 'predicted_two_grams': {'94', '19', 'an', '31', '11', '13', 'en', 'nn', 'ni'}, 'dice_similarity': 0.56}, {'uid': '79776', 'actual_two_grams': ['el', 'li', 'iz', 'za', 'ab', 'be', 'et', 'th', 'hw', 'wa', 'as', 'sh', 'hi', 'in', 'ng', 'gt', 'to', 'on', 'n1', '12', '23', '30', '01', '19', '96', '69'], 'predicted_two_grams': {'th', 'in', 'et', 'ab', '19', 'n1', 'li', 'on', 'wa', '12', '96', '69', 'el', 'be', 'ng'}, 'dice_similarity': 0.7317}, {'uid': '36903', 'actual_two_grams': ['sh', 'ha', 'an', 'nn', 'no', 'on', 'nh', 'he', 'er', 'rn', 'na', 'an', 'nd', 'de', 'ez', 'z3', '32', '23', '31', '19', '97', '76'], 'predicted_two_grams': {'32', 'ha', 'er', '19', 'n8', 'an', 'na', 'on', 'nn', 'de', 'sh', '23', '31', '97', 'ez', 'rn'}, 'dice_similarity': 0.8108}, {'uid': '42694', 'actual_two_grams': ['be', 'ev', 've', 'er', 'rl', 'ly', 'yl', 'lu', 'us', 'sk', 'k1', '12', '21', '12', '21', '19', '98', '81'], 'predicted_two_grams': {'81', 've', 'er', 'ev', '19', '12', '21', '98', 'be', 'en'}, 'dice_similarity': 0.6923}, {'uid': '89271', 'actual_two_grams': ['fe', 'er', 'rn', 'na', 'an', 'nd', 'do', 'ol', 'la', 'am', 'mp', 'pk', 'ki', 'in', 'ns', 's1', '10', '08', '81', '19', '95', '59'], 'predicted_two_grams': {'10', '81', 'in', '19', 'do', 'an', '95', 'la', '01', 'nd'}, 'dice_similarity': 0.5625}, {'uid': '60237', 'actual_two_grams': ['ch', 'hr', 'ri', 'is', 'st', 'to', 'op', 'ph', 'he', 'er', 'rh', 'ha', 'ay', 'yd', 'do', 'on', 'n1', '11', '10', '01', '19', '97', '70'], 'predicted_two_grams': {'10', 'ri', 'ha', 'er', '19', 'yd', '11', '97', '01', 'ch', 'r1'}, 'dice_similarity': 0.5882}, {'uid': '25347', 'actual_two_grams': ['pa', 'at', 'tr', 'ri', 'ic', 'ck', 'kg', 'ga', 'as', 'ss', 's1', '10', '02', '20', '01', '19', '94', '40'], 'predicted_two_grams': {'10', 'ck', 'ic', 'ri', '94', '19', 'as', 'tr', '01', 'at', '20'}, 'dice_similarity': 0.7586}, {'uid': '45540', 'actual_two_grams': ['da', 'av', 'vi', 'id', 'dl', 'le', 'ew', 'wi', 'is', 's6', '61', '13', '31', '19', '97', '70'], 'predicted_two_grams': {'vi', 'da', 'le', 'av', '19', '31', '97', 'id', 'is'}, 'dice_similarity': 0.72}, {'uid': '25966', 'actual_two_grams': ['ca', 'ar', 'rl', 'lg', 'go', 'on', 'nz', 'za', 'al', 'le', 'ez', 'z4', '41', '18', '81', '19', '98', '81'], 'predicted_two_grams': {'81', 'ar', '41', 'le', '19', '18', '98', '48'}, 'dice_similarity': 0.56}, {'uid': '81965', 'actual_two_grams': ['ja', 'an', 'ni', 'ic', 'ce', 'eh', 'hi', 'in', 'ns', 'so', 'on', 'n4', '46', '61', '19', '94', '41'], 'predicted_two_grams': {'ck', 'ic', 'in', '41', '19', 'bb', '94', 'an', 'as', 'on', 'n4', 'aj', 'ja', 'ns', 'so', 'ni'}, 'dice_similarity': 0.7273}, {'uid': '43685', 'actual_two_grams': ['ku', 'ur', 'rt', 'tk', 'ke', 'el', 'll', 'ly', 'y1', '11', '12', '25', '51', '19', '95', '57'], 'predicted_two_grams': {'ur', '19', '53', 'ke', '12', '95', 'el', '11', 'll'}, 'dice_similarity': 0.64}, {'uid': '73499', 'actual_two_grams': ['ir', 're', 'en', 'ne', 'em', 'ma', 'ar', 'rt', 'ti', 'in', 'ne', 'ez', 'z2', '22', '25', '51', '19', '95', '52'], 'predicted_two_grams': {'51', '25', 'ar', 'in', 'ti', '19', 'em', '95', 'ma', 'ir', 'en', 'ne'}, 'dice_similarity': 0.8}, {'uid': '85184', 'actual_two_grams': ['st', 'te', 'ev', 've', 'en', 'nr', 'ra', 'am', 'mi', 'ir', 're', 'ez', 'z6', '63', '30', '01', '19', '93', '37'], 'predicted_two_grams': {'30', '61', 've', '19', 'ev', '95', 'st', 'en', '01'}, 'dice_similarity': 0.5}, {'uid': '18593', 'actual_two_grams': ['mi', 'ic', 'ch', 'he', 'el', 'll', 'le', 'ek', 'ko', 'or', 'ra', 'an', 'nd', 'do', 'o1', '11', '13', '30', '01', '19', '98', '82'], 'predicted_two_grams': {'10', 'mi', 'ra', 'le', '19', 'an', 'el', '11', 'll', '98', '01'}, 'dice_similarity': 0.6061}, {'uid': '47734', 'actual_two_grams': ['la', 'au', 'ur', 'ra', 'am', 'me', 'en', 'nd', 'do', 'oz', 'za', 'a3', '31', '17', '71', '19', '95', '53'], 'predicted_two_grams': {'ur', 'au', 'ra', 're', '19', '71', '95', 'de', 'la', 'en', 'am'}, 'dice_similarity': 0.6207}, {'uid': '16774', 'actual_two_grams': ['mo', 'on', 'ni', 'ic', 'ca', 'aj', 'ji', 'im', 'me', 'en', 'ne', 'ez', 'z7', '71', '14', '41', '19', '93', '39'], 'predicted_two_grams': {'n7', '41', '19', '93', 'on', 'en', 'ni'}, 'dice_similarity': 0.4615}]\n"
     ]
    }
   ],
   "source": [
    "# List to store decoded 2-gram scores for all test samples\n",
    "decoded_test_results_words = []\n",
    "combined_results_performance = []\n",
    "\n",
    "# Switch to evaluation mode (no gradient computation during inference)\n",
    "model.eval()\n",
    "\n",
    "# Define Threshold for filtering predictions\n",
    "threshold = DEA_CONFIG[\"FilterThreshold\"]\n",
    "\n",
    "# Loop through the test dataloader for inference\n",
    "with torch.no_grad():  # No need to compute gradients during inference\n",
    "    for data_batch, uids in tqdm(dataloader_test, desc=\"Test loop\"):\n",
    "        # Filter relevant individuals from the dataset based on UIDs\n",
    "        filtered_df = df_all[df_all[\"uid\"].isin(uids)].drop(df_all.columns[-2], axis=1) # Drop encoding column\n",
    "\n",
    "        # Extract 2-grams from actual data for comparison\n",
    "        actual_two_grams_batch = []\n",
    "        for _, entry in filtered_df.iterrows():\n",
    "            row = entry[:-1]  # Exclude UID from row\n",
    "            extracted_two_grams = extract_two_grams(\"\".join(map(str, row)))  # Extract 2-grams from the row\n",
    "            actual_two_grams_batch.append({\"uid\": entry[\"uid\"], \"two_grams\": extracted_two_grams})\n",
    "\n",
    "        # Move the batch of data to the device (e.g., GPU)\n",
    "        data_batch = data_batch.to(compute_device)\n",
    "\n",
    "        # Apply the model to get logits (raw predictions)\n",
    "        logits = model(data_batch)\n",
    "\n",
    "        # Convert logits to probabilities using sigmoid (binary classification)\n",
    "        probabilities = torch.sigmoid(logits)\n",
    "\n",
    "        # Convert probabilities into 2-gram scores (using the two_gram_dict to map to 2-gram labels)\n",
    "        batch_two_gram_scores = [\n",
    "            {two_gram_dict[j]: score.item() for j, score in enumerate(probabilities[i])}  # Map each probability to its 2-gram\n",
    "            for i in range(probabilities.size(0))  # Iterate over each sample in the batch\n",
    "        ]\n",
    "\n",
    "        # Apply threshold to filter out low-scoring 2-grams\n",
    "        batch_filtered_two_gram_scores = [\n",
    "            {two_gram: score for two_gram, score in two_gram_scores.items() if score > threshold}  # Only keep scores above threshold\n",
    "            for two_gram_scores in batch_two_gram_scores\n",
    "        ]\n",
    "\n",
    "        # Filtered 2-grams per UID in the batch\n",
    "        filtered_two_grams = [\n",
    "            {\"uid\": uid, \"two_grams\": {key for key in two_grams.keys()}}  # Only keep the 2-gram keys (no scores)\n",
    "            for uid, two_grams in zip(uids, batch_filtered_two_gram_scores)\n",
    "        ]\n",
    "\n",
    "        # Reconstruct words from the filtered 2-grams for each sample\n",
    "        batch_reconstructed_words = [\n",
    "            reconstruct_words(filtered_scores) for filtered_scores in batch_filtered_two_gram_scores\n",
    "        ]\n",
    "\n",
    "        # Append the reconstructed words to the results list\n",
    "        decoded_test_results_words.extend(batch_reconstructed_words)\n",
    "\n",
    "        # Compare predicted 2-grams with actual 2-grams and calculate performance metrics\n",
    "        for entry_two_grams_batch in actual_two_grams_batch:  # Loop through each UID in the batch\n",
    "            for entry_filtered_two_grams in filtered_two_grams:\n",
    "                if entry_two_grams_batch[\"uid\"] == entry_filtered_two_grams[\"uid\"]:\n",
    "                    # Calculate Dice similarity between actual and predicted 2-grams\n",
    "                    combined_results_performance.append({\n",
    "                        \"uid\": entry_two_grams_batch[\"uid\"],\n",
    "                        \"actual_two_grams\": entry_two_grams_batch[\"two_grams\"],  # Get actual 2-grams for this UID\n",
    "                        \"predicted_two_grams\": entry_filtered_two_grams[\"two_grams\"],  # Get predicted 2-grams for this UID\n",
    "                        \"dice_similarity\": dice_coefficient(entry_two_grams_batch[\"two_grams\"], entry_filtered_two_grams[\"two_grams\"]),\n",
    "                    })\n",
    "\n",
    "# Now `combined_results_performance` contains detailed comparison for all test samples\n",
    "print(combined_results_performance)\n"
   ]
  },
  {
   "cell_type": "code",
   "execution_count": 12,
   "metadata": {},
   "outputs": [
    {
     "ename": "SystemExit",
     "evalue": "Stopping execution at this cell.",
     "output_type": "error",
     "traceback": [
      "An exception has occurred, use %tb to see the full traceback.\n",
      "\u001b[0;31mSystemExit\u001b[0m\u001b[0;31m:\u001b[0m Stopping execution at this cell.\n"
     ]
    },
    {
     "name": "stderr",
     "output_type": "stream",
     "text": [
      "/Users/I538952/Desktop/master/4-semester-thesis/dataset-extension-attack/.conda/lib/python3.10/site-packages/IPython/core/interactiveshell.py:3587: UserWarning: To exit: use 'exit', 'quit', or Ctrl-D.\n",
      "  warn(\"To exit: use 'exit', 'quit', or Ctrl-D.\", stacklevel=1)\n"
     ]
    }
   ],
   "source": [
    "sys.exit(\"Stopping execution at this cell.\")"
   ]
  },
  {
   "cell_type": "markdown",
   "metadata": {},
   "source": [
    "## Visualize Performance for Re-Identification"
   ]
  },
  {
   "cell_type": "markdown",
   "metadata": {},
   "source": [
    "## Testing Area"
   ]
  },
  {
   "cell_type": "code",
   "execution_count": null,
   "metadata": {},
   "outputs": [],
   "source": [
    "print('Reidentified Individuals:')\n",
    "print(df_reidentified.head())\n",
    "print('Not Reidentified Individuals:')\n",
    "print(df_not_reidentified.head())"
   ]
  },
  {
   "cell_type": "code",
   "execution_count": null,
   "metadata": {},
   "outputs": [],
   "source": [
    "data_labeled.labelTensors[1]"
   ]
  },
  {
   "cell_type": "code",
   "execution_count": null,
   "metadata": {},
   "outputs": [],
   "source": [
    "for data, labels in dataloader_train:\n",
    "    data, labels = data.to(compute_device), labels.to(compute_device)\n",
    "    print(data.shape)\n",
    "    print(labels.shape)\n",
    "    break"
   ]
  },
  {
   "cell_type": "code",
   "execution_count": null,
   "metadata": {},
   "outputs": [],
   "source": [
    "print(\"To Decode: \",df_not_reidentified.iloc[1])\n",
    "torch.set_printoptions(profile=\"full\")\n",
    "#torch.set_printoptions(profile=\"default\")\n",
    "print(\"Tensor: \", data_not_labeled[1])\n",
    "# Apply model\n",
    "model.eval()\n",
    "logits = model(data_not_labeled[1])\n",
    "probabilities = torch.sigmoid(logits)\n",
    "print(\"Prob: \", probabilities)\n",
    "two_gram_scores = {two_gram_dict[i]: score.item() for i, score in enumerate(probabilities)}\n",
    "threshold = 0.5\n",
    "filtered_two_gram_scores = {two_gram: score for two_gram, score in two_gram_scores.items() if score > threshold}\n",
    "print(\"Decoded 2grams: \", filtered_two_gram_scores)\n",
    "\n",
    "print(reconstruct_words(filtered_two_gram_scores))\n",
    "\n",
    "# person is: Ray Haywood 9/27/1959\n",
    "# ra -"
   ]
  },
  {
   "cell_type": "code",
   "execution_count": null,
   "metadata": {},
   "outputs": [],
   "source": [
    "model = nn.Linear(20, 5) # predict logits for 5 classes\n",
    "x = torch.randn(1, 20)\n",
    "print(x.shape)\n",
    "y = torch.tensor([[1., 0., 1., 0., 0.]]) # get classA and classC as active\n",
    "print(y.shape)\n",
    "\n",
    "criterion = nn.BCEWithLogitsLoss()\n",
    "optimizer = optim.SGD(model.parameters(), lr=1e-1)\n",
    "\n",
    "for epoch in range(20):\n",
    "    optimizer.zero_grad()\n",
    "    output = model(x)\n",
    "    loss = criterion(output, y)\n",
    "    loss.backward()\n",
    "    optimizer.step()\n",
    "    print('Loss: {:.3f}'.format(loss.item()))"
   ]
  }
 ],
 "metadata": {
  "kernelspec": {
   "display_name": "Python 3",
   "language": "python",
   "name": "python3"
  },
  "language_info": {
   "codemirror_mode": {
    "name": "ipython",
    "version": 3
   },
   "file_extension": ".py",
   "mimetype": "text/x-python",
   "name": "python",
   "nbconvert_exporter": "python",
   "pygments_lexer": "ipython3",
   "version": "3.10.16"
  }
 },
 "nbformat": 4,
 "nbformat_minor": 2
}
