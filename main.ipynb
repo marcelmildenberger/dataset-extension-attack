{
 "cells": [
  {
   "cell_type": "markdown",
   "metadata": {},
   "source": [
    "# Privacy-Preserving Record Linkage (PPRL): Investigating Dataset Extension Attacks"
   ]
  },
  {
   "cell_type": "markdown",
   "metadata": {},
   "source": [
    "## Setup"
   ]
  },
  {
   "cell_type": "code",
   "execution_count": 1,
   "metadata": {},
   "outputs": [
    {
     "name": "stdout",
     "output_type": "stream",
     "text": [
      "System Version: 3.10.16 | packaged by conda-forge | (main, Dec  5 2024, 14:20:01) [Clang 18.1.8 ]\n",
      "PyTorch version 2.1.2\n",
      "Torchvision version 0.16.2\n",
      "Numpy version 1.24.4\n",
      "Pandas version 2.0.3\n"
     ]
    }
   ],
   "source": [
    "import os\n",
    "\n",
    "import torch\n",
    "import torch.nn as nn\n",
    "import torch.optim as optim\n",
    "from torch.utils.data import DataLoader, random_split\n",
    "import torchvision\n",
    "\n",
    "from utils import *\n",
    "\n",
    "import matplotlib.pyplot as plt # For data viz\n",
    "import pandas as pd\n",
    "import hickle as hkl\n",
    "import numpy as np\n",
    "import string\n",
    "import sys\n",
    "from tqdm.notebook import tqdm\n",
    "\n",
    "from graphMatching.gma import run_gma\n",
    "\n",
    "from datasets.bloom_filter_dataset import BloomFilterDataset\n",
    "from datasets.tab_min_hash_dataset import TabMinHashDataset\n",
    "from datasets.two_step_hash_dataset_padding import TwoStepHashDatasetPadding\n",
    "from datasets.two_step_hash_dataset_frequency_string import TwoStepHashDatasetFrequencyString\n",
    "\n",
    "from pytorch_models.bloom_filter_to_two_gram_classifier import BloomFilterToTwoGramClassifier\n",
    "from pytorch_models.tab_min_hash_to_two_gram_classifier import TabMinHashToTwoGramClassifier\n",
    "from pytorch_models.two_step_hash_to_two_gram_classifier import TwoStepHashToTwoGramClassifier\n",
    "\n",
    "print('System Version:', sys.version)\n",
    "print('PyTorch version', torch.__version__)\n",
    "print('Torchvision version', torchvision.__version__)\n",
    "print('Numpy version', np.__version__)\n",
    "print('Pandas version', pd.__version__)"
   ]
  },
  {
   "cell_type": "markdown",
   "metadata": {},
   "source": [
    "## Run GMA"
   ]
  },
  {
   "cell_type": "code",
   "execution_count": 2,
   "metadata": {},
   "outputs": [],
   "source": [
    "# Parameters\n",
    "GLOBAL_CONFIG = {\n",
    "    \"Data\": \"./data/datasets/fakename_5k.tsv\",\n",
    "    \"Overlap\": 0.9,\n",
    "    \"DropFrom\": \"Both\",\n",
    "    \"Verbose\": True,  # Print Status Messages\n",
    "    \"MatchingMetric\": \"cosine\",\n",
    "    \"Matching\": \"MinWeight\",\n",
    "    \"Workers\": -1,\n",
    "    \"SaveAliceEncs\": False,\n",
    "    \"SaveEveEncs\": False,\n",
    "    \"DevMode\": True,\n",
    "}\n",
    "\n",
    "DEA_CONFIG = {\n",
    "    \"TSHPadding\": True,\n",
    "    \"DevMode\": True,\n",
    "}\n",
    "\n",
    "ENC_CONFIG = {\n",
    "    \"AliceAlgo\": \"BloomFilter\",\n",
    "    \"AliceSecret\": \"SuperSecretSalt1337\",\n",
    "    \"AliceN\": 2,\n",
    "    \"AliceMetric\": \"dice\",\n",
    "    \"EveAlgo\": \"BloomFilter\",\n",
    "    \"EveSecret\": \"ATotallyDifferentString42\",\n",
    "    \"EveN\": 2,\n",
    "    \"EveMetric\": \"dice\",\n",
    "    # For BF encoding\n",
    "    \"AliceBFLength\": 1024,\n",
    "    \"AliceBits\": 10,\n",
    "    \"AliceDiffuse\": False,\n",
    "    \"AliceT\": 10,\n",
    "    \"AliceEldLength\": 1024,\n",
    "    \"EveBFLength\": 1024,\n",
    "    \"EveBits\": 10,\n",
    "    \"EveDiffuse\": False,\n",
    "    \"EveT\": 10,\n",
    "    \"EveEldLength\": 1024,\n",
    "    # For TMH encoding\n",
    "    \"AliceNHash\": 1024,\n",
    "    \"AliceNHashBits\": 64,\n",
    "    \"AliceNSubKeys\": 8,\n",
    "    \"Alice1BitHash\": True,\n",
    "    \"EveNHash\": 1024,\n",
    "    \"EveNHashBits\": 64,\n",
    "    \"EveNSubKeys\": 8,\n",
    "    \"Eve1BitHash\": True,\n",
    "    # For 2SH encoding\n",
    "    \"AliceNHashFunc\": 10,\n",
    "    \"AliceNHashCol\": 1000,\n",
    "    \"AliceRandMode\": \"PNG\",\n",
    "    \"EveNHashFunc\": 10,\n",
    "    \"EveNHashCol\": 1000,\n",
    "    \"EveRandMode\": \"PNG\",\n",
    "}\n",
    "\n",
    "EMB_CONFIG = {\n",
    "    \"Algo\": \"Node2Vec\",\n",
    "    \"AliceQuantile\": 0.9,\n",
    "    \"AliceDiscretize\": False,\n",
    "    \"AliceDim\": 128,\n",
    "    \"AliceContext\": 10,\n",
    "    \"AliceNegative\": 1,\n",
    "    \"AliceNormalize\": True,\n",
    "    \"EveQuantile\": 0.9,\n",
    "    \"EveDiscretize\": False,\n",
    "    \"EveDim\": 128,\n",
    "    \"EveContext\": 10,\n",
    "    \"EveNegative\": 1,\n",
    "    \"EveNormalize\": True,\n",
    "    # For Node2Vec\n",
    "    \"AliceWalkLen\": 100,\n",
    "    \"AliceNWalks\": 20,\n",
    "    \"AliceP\": 250,\n",
    "    \"AliceQ\": 300,\n",
    "    \"AliceEpochs\": 5,\n",
    "    \"AliceSeed\": 42,\n",
    "    \"EveWalkLen\": 100,\n",
    "    \"EveNWalks\": 20,\n",
    "    \"EveP\": 250,\n",
    "    \"EveQ\": 300,\n",
    "    \"EveEpochs\": 5,\n",
    "    \"EveSeed\": 42\n",
    "}\n",
    "\n",
    "ALIGN_CONFIG = {\n",
    "    \"RegWS\": max(0.1, GLOBAL_CONFIG[\"Overlap\"]/2), #0005\n",
    "    \"RegInit\":1, # For BF 0.25\n",
    "    \"Batchsize\": 1, # 1 = 100%\n",
    "    \"LR\": 200.0,\n",
    "    \"NIterWS\": 100,\n",
    "    \"NIterInit\": 5 ,  # 800\n",
    "    \"NEpochWS\": 100,\n",
    "    \"LRDecay\": 1,\n",
    "    \"Sqrt\": True,\n",
    "    \"EarlyStopping\": 10,\n",
    "    \"Selection\": \"None\",\n",
    "    \"MaxLoad\": None,\n",
    "    \"Wasserstein\": True\n",
    "}"
   ]
  },
  {
   "cell_type": "code",
   "execution_count": 3,
   "metadata": {},
   "outputs": [],
   "source": [
    "eve_enc_hash, alice_enc_hash, eve_emb_hash, alice_emb_hash = get_hashes(GLOBAL_CONFIG, ENC_CONFIG, EMB_CONFIG)\n",
    "\n",
    "if(os.path.isfile(\"./data/available_to_eve/reidentified_individuals_%s_%s_%s_%s.tsv\" % (eve_enc_hash, alice_enc_hash, eve_emb_hash, alice_emb_hash)) & os.path.isfile(\"./data/available_to_eve/not_reidentified_individuals_%s_%s_%s_%s.h5\" % (eve_enc_hash, alice_enc_hash, eve_emb_hash, alice_emb_hash))):\n",
    "    #Load Disk From Data\n",
    "    #TODO: Replace pd.read_csv with hkl.load\n",
    "    reidentified_individuals = pd.read_csv('./data/available_to_eve/reidentified_individuals_%s_%s_%s_%s.tsv' % (eve_enc_hash, alice_enc_hash, eve_emb_hash, alice_emb_hash), delimiter='\\t')\n",
    "    df_reidentified_individuals = reidentified_individuals\n",
    "\n",
    "    not_reidentified_individuals = hkl.load('./data/available_to_eve/not_reidentified_individuals_%s_%s_%s_%s.h5' % (eve_enc_hash, alice_enc_hash, eve_emb_hash, alice_emb_hash))\n",
    "    df_not_reidentified_individuals = pd.DataFrame(not_reidentified_individuals[1:], columns=not_reidentified_individuals[0])\n",
    "\n",
    "else:\n",
    "    reidentified_individuals, not_reidentified_individuals = run_gma(GLOBAL_CONFIG, ENC_CONFIG, EMB_CONFIG, ALIGN_CONFIG, eve_enc_hash, alice_enc_hash, eve_emb_hash, alice_emb_hash)\n",
    "\n",
    "    df_reidentified_individuals = pd.DataFrame(reidentified_individuals[1:], columns=reidentified_individuals[0])\n",
    "    df_not_reidentified_individuals = pd.DataFrame(not_reidentified_individuals[1:], columns=not_reidentified_individuals[0])"
   ]
  },
  {
   "cell_type": "code",
   "execution_count": 4,
   "metadata": {},
   "outputs": [
    {
     "name": "stdout",
     "output_type": "stream",
     "text": [
      "Reidentified Individuals:\n",
      "  GivenName    Surname    Birthday  \\\n",
      "0    Glenda     Davila  10/23/1977   \n",
      "1    Robert      Oates   4/27/1971   \n",
      "2     Tammy   Humphrey   11/1/1976   \n",
      "3    Martin  Steinberg    2/9/1962   \n",
      "4  Clarence    Lombard   2/20/1941   \n",
      "\n",
      "                                         bloomfilter    uid  \n",
      "0  0010000000001100011100000000100000000100100010...   9228  \n",
      "1  1000001000001100000000011110000000100100100010...  14541  \n",
      "2  0001011010001001100000100000100110000010100000...  80251  \n",
      "3  0000110001100000010000010100000100101000100000...  62614  \n",
      "4  1000010010000100010100000000000110000100100010...  49239  \n",
      "Not Reidentified Individuals:\n",
      "                                         bloomfilter    uid\n",
      "0  0001010000000000010100000110100010101010110000...  45832\n",
      "1  0000111011100000000100000000100110000000100000...  78181\n",
      "2  0001000010101001000000000011100000001000110010...  29666\n",
      "3  1001000000001000000001010010000000000100100010...  20797\n",
      "4  0010000001000001010100111000100000000100100010...  83176\n"
     ]
    }
   ],
   "source": [
    "print('Reidentified Individuals:')\n",
    "print(df_reidentified_individuals.head())\n",
    "print('Not Reidentified Individuals:')\n",
    "print(df_not_reidentified_individuals.head())"
   ]
  },
  {
   "cell_type": "markdown",
   "metadata": {},
   "source": [
    "## Create Datasets "
   ]
  },
  {
   "cell_type": "code",
   "execution_count": 5,
   "metadata": {},
   "outputs": [],
   "source": [
    "#Create the 2-grams with dictionary\n",
    "\n",
    "#Generate all 2-grams\n",
    "alphabet = string.ascii_lowercase\n",
    "\n",
    "# Generate all letter-letter 2-grams (aa-zz)\n",
    "alphabet = string.ascii_lowercase\n",
    "letter_letter_grams = [a + b for a in alphabet for b in alphabet]\n",
    "\n",
    "# Generate all digit-digit 2-grams (00-99)\n",
    "digits = string.digits\n",
    "digit_digit_grams = [d1 + d2 for d1 in digits for d2 in digits]\n",
    "\n",
    "# Generate all letter-digit 2-grams (a0-z9)\n",
    "letter_digit_grams = [l + d for l in alphabet for d in digits]\n",
    "\n",
    "# Combine all sets\n",
    "all_two_grams = letter_letter_grams  + letter_digit_grams + digit_digit_grams\n",
    "\n",
    "# Get a dictionary associating each 2-gram with an index\n",
    "two_gram_dict = {i: two_gram for i, two_gram in enumerate(all_two_grams)}"
   ]
  },
  {
   "cell_type": "code",
   "execution_count": 6,
   "metadata": {},
   "outputs": [],
   "source": [
    "# Create Datasets based on chosen encoding\n",
    "if ENC_CONFIG[\"AliceAlgo\"] == \"BloomFilter\":\n",
    "    data_labeled = BloomFilterDataset(df_reidentified_individuals, isLabeled=True, all_two_grams=all_two_grams, dev_mode=GLOBAL_CONFIG[\"DevMode\"])\n",
    "    data_not_labeled = BloomFilterDataset(df_not_reidentified_individuals, isLabeled=False, all_two_grams=all_two_grams, dev_mode=GLOBAL_CONFIG[\"DevMode\"])\n",
    "    bloomfilter_length = len(df_reidentified_individuals[\"bloomfilter\"][0])\n",
    "\n",
    "if ENC_CONFIG[\"AliceAlgo\"] == \"TabMinHash\":\n",
    "    data_labeled = TabMinHashDataset(df_reidentified_individuals, isLabeled=True, all_two_grams=all_two_grams, dev_mode=GLOBAL_CONFIG[\"DevMode\"])\n",
    "    data_not_labeled = TabMinHashDataset(df_not_reidentified_individuals, isLabeled=False, all_two_grams=all_two_grams, dev_mode=GLOBAL_CONFIG[\"DevMode\"])\n",
    "    tabminhash_length = len(data_labeled[0][0])\n",
    "\n",
    "if (ENC_CONFIG[\"AliceAlgo\"] == \"TwoStepHash\") & DEA_CONFIG[\"TSHPadding\"]:\n",
    "    max_length_reidentified = df_reidentified_individuals[\"twostephash\"].apply(lambda x: len(list(x))).max()\n",
    "    max_length_not_reidentified = df_not_reidentified_individuals[\"twostephash\"].apply(lambda x: len(list(x))).max()\n",
    "    max_twostephash_length = max(max_length_reidentified, max_length_not_reidentified)\n",
    "    data_labeled = TwoStepHashDatasetPadding(df_reidentified_individuals, isLabeled=True, all_two_grams=all_two_grams, max_set_size=max_twostephash_length, dev_mode=GLOBAL_CONFIG[\"DevMode\"])\n",
    "    data_not_labeled = TwoStepHashDatasetPadding(df_not_reidentified_individuals, isLabeled=False, all_two_grams=all_two_grams, max_set_size=max_twostephash_length, dev_mode=GLOBAL_CONFIG[\"DevMode\"])\n",
    "\n",
    "if (ENC_CONFIG[\"AliceAlgo\"] == \"TwoStepHash\") &  (not DEA_CONFIG[\"TSHPadding\"]):\n",
    "    max_length_reidentified = df_reidentified_individuals[\"twostephash\"].apply(lambda x: max(x)).max()\n",
    "    max_length_not_reidentified = df_not_reidentified_individuals[\"twostephash\"].apply(lambda x: max(x)).max()\n",
    "    max_twostephash_length = max(max_length_reidentified, max_length_not_reidentified)\n",
    "    data_labeled = TwoStepHashDatasetFrequencyString(df_reidentified_individuals, isLabeled=True, all_two_grams=all_two_grams, frequency_string_length=max_twostephash_length, dev_mode=GLOBAL_CONFIG[\"DevMode\"])\n",
    "    data_not_labeled = TwoStepHashDatasetFrequencyString(df_not_reidentified_individuals, isLabeled=False, all_two_grams=all_two_grams, max_length=max_twostephash_length, dev_mode=GLOBAL_CONFIG[\"DevMode\"])"
   ]
  },
  {
   "cell_type": "markdown",
   "metadata": {},
   "source": [
    "## Create Dataloader"
   ]
  },
  {
   "cell_type": "code",
   "execution_count": 7,
   "metadata": {},
   "outputs": [],
   "source": [
    "# Split proportions\n",
    "train_size = int(0.8 * len(data_labeled))  # 80% training\n",
    "val_size = len(data_labeled) - train_size  # 20% validation\n",
    "\n",
    "#Split dataset of reidentified individuals\n",
    "data_train, data_val = random_split(data_labeled, [train_size, val_size])"
   ]
  },
  {
   "cell_type": "code",
   "execution_count": 8,
   "metadata": {},
   "outputs": [],
   "source": [
    "# Create dataloader\n",
    "dataloader_train = DataLoader(data_train, batch_size=32, shuffle=True)\n",
    "dataloader_val = DataLoader(data_val, batch_size=32, shuffle=True)\n",
    "dataloader_test = DataLoader(data_not_labeled, batch_size=32, shuffle=False)"
   ]
  },
  {
   "cell_type": "markdown",
   "metadata": {},
   "source": [
    "## Pytorch Model"
   ]
  },
  {
   "cell_type": "code",
   "execution_count": 9,
   "metadata": {},
   "outputs": [],
   "source": [
    "# Create Models based on chosen encoding scheme\n",
    "if ENC_CONFIG[\"AliceAlgo\"] == \"BloomFilter\":\n",
    "    model = BloomFilterToTwoGramClassifier(input_dim=bloomfilter_length, num_two_grams=len(all_two_grams))\n",
    "\n",
    "if ENC_CONFIG[\"AliceAlgo\"] == \"TabMinHash\":\n",
    "    model = TabMinHashToTwoGramClassifier(input_dim=tabminhash_length, num_two_grams=len(all_two_grams))\n",
    "\n",
    "if (ENC_CONFIG[\"AliceAlgo\"] == \"TwoStepHash\") & DEA_CONFIG[\"TSHPadding\"]:\n",
    "    model = TwoStepHashToTwoGramClassifier(input_dim=max_twostephash_length, num_two_grams=len(all_two_grams))\n",
    "\n",
    "if (ENC_CONFIG[\"AliceAlgo\"] == \"TwoStepHash\") & (not DEA_CONFIG[\"TSHPadding\"]):\n",
    "    model = TabMinHashToTwoGramClassifier(input_dim=tabminhash_length, num_two_grams=len(all_two_grams))\n"
   ]
  },
  {
   "cell_type": "markdown",
   "metadata": {},
   "source": [
    "## Training Loop"
   ]
  },
  {
   "cell_type": "code",
   "execution_count": 10,
   "metadata": {},
   "outputs": [],
   "source": [
    "# Setup\n",
    "\n",
    "# Define device\n",
    "device = torch.device(\"cuda:0\" if torch.cuda.is_available() else \"cpu\")\n",
    "model.to(device)\n",
    "\n",
    "# Loss function for multi-label classification\n",
    "criterion = nn.BCEWithLogitsLoss()\n",
    "\n",
    "# Optimizer\n",
    "optimizer = optim.Adam(model.parameters(), lr=0.001)"
   ]
  },
  {
   "cell_type": "code",
   "execution_count": 11,
   "metadata": {},
   "outputs": [
    {
     "data": {
      "application/vnd.jupyter.widget-view+json": {
       "model_id": "c33a65ede7294bce9be714f54300f06c",
       "version_major": 2,
       "version_minor": 0
      },
      "text/plain": [
       "Training loop:   0%|          | 0/103 [00:00<?, ?it/s]"
      ]
     },
     "metadata": {},
     "output_type": "display_data"
    },
    {
     "data": {
      "application/vnd.jupyter.widget-view+json": {
       "model_id": "a606712c8618417bb208adb3c0fa2aa9",
       "version_major": 2,
       "version_minor": 0
      },
      "text/plain": [
       "Validation loop:   0%|          | 0/26 [00:00<?, ?it/s]"
      ]
     },
     "metadata": {},
     "output_type": "display_data"
    },
    {
     "name": "stdout",
     "output_type": "stream",
     "text": [
      "Epoch 1/15 - Train loss: 0.1020, Validation loss: 0.0638\n"
     ]
    },
    {
     "data": {
      "application/vnd.jupyter.widget-view+json": {
       "model_id": "381ffa0a1dff40d29ef90298fb661999",
       "version_major": 2,
       "version_minor": 0
      },
      "text/plain": [
       "Training loop:   0%|          | 0/103 [00:00<?, ?it/s]"
      ]
     },
     "metadata": {},
     "output_type": "display_data"
    },
    {
     "data": {
      "application/vnd.jupyter.widget-view+json": {
       "model_id": "98bf9094c6eb42b19884eb7e0c6505e1",
       "version_major": 2,
       "version_minor": 0
      },
      "text/plain": [
       "Validation loop:   0%|          | 0/26 [00:00<?, ?it/s]"
      ]
     },
     "metadata": {},
     "output_type": "display_data"
    },
    {
     "name": "stdout",
     "output_type": "stream",
     "text": [
      "Epoch 2/15 - Train loss: 0.0630, Validation loss: 0.0589\n"
     ]
    },
    {
     "data": {
      "application/vnd.jupyter.widget-view+json": {
       "model_id": "68c6a832bb58440b93ecb3205849c56a",
       "version_major": 2,
       "version_minor": 0
      },
      "text/plain": [
       "Training loop:   0%|          | 0/103 [00:00<?, ?it/s]"
      ]
     },
     "metadata": {},
     "output_type": "display_data"
    },
    {
     "data": {
      "application/vnd.jupyter.widget-view+json": {
       "model_id": "b18f828e0d7647728659d427bd2cdf5a",
       "version_major": 2,
       "version_minor": 0
      },
      "text/plain": [
       "Validation loop:   0%|          | 0/26 [00:00<?, ?it/s]"
      ]
     },
     "metadata": {},
     "output_type": "display_data"
    },
    {
     "name": "stdout",
     "output_type": "stream",
     "text": [
      "Epoch 3/15 - Train loss: 0.0555, Validation loss: 0.0498\n"
     ]
    },
    {
     "data": {
      "application/vnd.jupyter.widget-view+json": {
       "model_id": "a606e647bfd3430e9417d03a7557eff1",
       "version_major": 2,
       "version_minor": 0
      },
      "text/plain": [
       "Training loop:   0%|          | 0/103 [00:00<?, ?it/s]"
      ]
     },
     "metadata": {},
     "output_type": "display_data"
    },
    {
     "data": {
      "application/vnd.jupyter.widget-view+json": {
       "model_id": "683b487c8ecc4abba31c252472e15a8a",
       "version_major": 2,
       "version_minor": 0
      },
      "text/plain": [
       "Validation loop:   0%|          | 0/26 [00:00<?, ?it/s]"
      ]
     },
     "metadata": {},
     "output_type": "display_data"
    },
    {
     "name": "stdout",
     "output_type": "stream",
     "text": [
      "Epoch 4/15 - Train loss: 0.0466, Validation loss: 0.0421\n"
     ]
    },
    {
     "data": {
      "application/vnd.jupyter.widget-view+json": {
       "model_id": "244fe31492684ea095ed933f200d98c3",
       "version_major": 2,
       "version_minor": 0
      },
      "text/plain": [
       "Training loop:   0%|          | 0/103 [00:00<?, ?it/s]"
      ]
     },
     "metadata": {},
     "output_type": "display_data"
    },
    {
     "data": {
      "application/vnd.jupyter.widget-view+json": {
       "model_id": "0d626c9974b24cc190ed78c433946a1a",
       "version_major": 2,
       "version_minor": 0
      },
      "text/plain": [
       "Validation loop:   0%|          | 0/26 [00:00<?, ?it/s]"
      ]
     },
     "metadata": {},
     "output_type": "display_data"
    },
    {
     "name": "stdout",
     "output_type": "stream",
     "text": [
      "Epoch 5/15 - Train loss: 0.0394, Validation loss: 0.0362\n"
     ]
    },
    {
     "data": {
      "application/vnd.jupyter.widget-view+json": {
       "model_id": "aa3315372f214d2484af676c65c82cf6",
       "version_major": 2,
       "version_minor": 0
      },
      "text/plain": [
       "Training loop:   0%|          | 0/103 [00:00<?, ?it/s]"
      ]
     },
     "metadata": {},
     "output_type": "display_data"
    },
    {
     "data": {
      "application/vnd.jupyter.widget-view+json": {
       "model_id": "de92d6a69ace4f47b9d8e9d40f794476",
       "version_major": 2,
       "version_minor": 0
      },
      "text/plain": [
       "Validation loop:   0%|          | 0/26 [00:00<?, ?it/s]"
      ]
     },
     "metadata": {},
     "output_type": "display_data"
    },
    {
     "name": "stdout",
     "output_type": "stream",
     "text": [
      "Epoch 6/15 - Train loss: 0.0339, Validation loss: 0.0324\n"
     ]
    },
    {
     "data": {
      "application/vnd.jupyter.widget-view+json": {
       "model_id": "a94d52a22db547eabbf812ffeac9778b",
       "version_major": 2,
       "version_minor": 0
      },
      "text/plain": [
       "Training loop:   0%|          | 0/103 [00:00<?, ?it/s]"
      ]
     },
     "metadata": {},
     "output_type": "display_data"
    },
    {
     "data": {
      "application/vnd.jupyter.widget-view+json": {
       "model_id": "b40fa73293c64f6683ab0f543600b57d",
       "version_major": 2,
       "version_minor": 0
      },
      "text/plain": [
       "Validation loop:   0%|          | 0/26 [00:00<?, ?it/s]"
      ]
     },
     "metadata": {},
     "output_type": "display_data"
    },
    {
     "name": "stdout",
     "output_type": "stream",
     "text": [
      "Epoch 7/15 - Train loss: 0.0297, Validation loss: 0.0293\n"
     ]
    },
    {
     "data": {
      "application/vnd.jupyter.widget-view+json": {
       "model_id": "6d0ab626701d4ec3b13110c774983941",
       "version_major": 2,
       "version_minor": 0
      },
      "text/plain": [
       "Training loop:   0%|          | 0/103 [00:00<?, ?it/s]"
      ]
     },
     "metadata": {},
     "output_type": "display_data"
    },
    {
     "data": {
      "application/vnd.jupyter.widget-view+json": {
       "model_id": "9f868e6c436944aaad6f46566cfc1257",
       "version_major": 2,
       "version_minor": 0
      },
      "text/plain": [
       "Validation loop:   0%|          | 0/26 [00:00<?, ?it/s]"
      ]
     },
     "metadata": {},
     "output_type": "display_data"
    },
    {
     "name": "stdout",
     "output_type": "stream",
     "text": [
      "Epoch 8/15 - Train loss: 0.0262, Validation loss: 0.0269\n"
     ]
    },
    {
     "data": {
      "application/vnd.jupyter.widget-view+json": {
       "model_id": "b55e0e21a1e246598d3f417958d086c3",
       "version_major": 2,
       "version_minor": 0
      },
      "text/plain": [
       "Training loop:   0%|          | 0/103 [00:00<?, ?it/s]"
      ]
     },
     "metadata": {},
     "output_type": "display_data"
    },
    {
     "data": {
      "application/vnd.jupyter.widget-view+json": {
       "model_id": "46cf0d66ae274eb88690bfceead512d4",
       "version_major": 2,
       "version_minor": 0
      },
      "text/plain": [
       "Validation loop:   0%|          | 0/26 [00:00<?, ?it/s]"
      ]
     },
     "metadata": {},
     "output_type": "display_data"
    },
    {
     "name": "stdout",
     "output_type": "stream",
     "text": [
      "Epoch 9/15 - Train loss: 0.0234, Validation loss: 0.0251\n"
     ]
    },
    {
     "data": {
      "application/vnd.jupyter.widget-view+json": {
       "model_id": "b060b87d5fe64b5085f2c547d855accf",
       "version_major": 2,
       "version_minor": 0
      },
      "text/plain": [
       "Training loop:   0%|          | 0/103 [00:00<?, ?it/s]"
      ]
     },
     "metadata": {},
     "output_type": "display_data"
    },
    {
     "data": {
      "application/vnd.jupyter.widget-view+json": {
       "model_id": "6d292311820e4bd49bcbf18005da5427",
       "version_major": 2,
       "version_minor": 0
      },
      "text/plain": [
       "Validation loop:   0%|          | 0/26 [00:00<?, ?it/s]"
      ]
     },
     "metadata": {},
     "output_type": "display_data"
    },
    {
     "name": "stdout",
     "output_type": "stream",
     "text": [
      "Epoch 10/15 - Train loss: 0.0212, Validation loss: 0.0236\n"
     ]
    },
    {
     "data": {
      "application/vnd.jupyter.widget-view+json": {
       "model_id": "167b600725d349d295e288300ff8e8e6",
       "version_major": 2,
       "version_minor": 0
      },
      "text/plain": [
       "Training loop:   0%|          | 0/103 [00:00<?, ?it/s]"
      ]
     },
     "metadata": {},
     "output_type": "display_data"
    },
    {
     "data": {
      "application/vnd.jupyter.widget-view+json": {
       "model_id": "033dc3fe4805407bbc176939e473497b",
       "version_major": 2,
       "version_minor": 0
      },
      "text/plain": [
       "Validation loop:   0%|          | 0/26 [00:00<?, ?it/s]"
      ]
     },
     "metadata": {},
     "output_type": "display_data"
    },
    {
     "name": "stdout",
     "output_type": "stream",
     "text": [
      "Epoch 11/15 - Train loss: 0.0192, Validation loss: 0.0227\n"
     ]
    },
    {
     "data": {
      "application/vnd.jupyter.widget-view+json": {
       "model_id": "4db0385d024443efbc4393a378d7720a",
       "version_major": 2,
       "version_minor": 0
      },
      "text/plain": [
       "Training loop:   0%|          | 0/103 [00:00<?, ?it/s]"
      ]
     },
     "metadata": {},
     "output_type": "display_data"
    },
    {
     "data": {
      "application/vnd.jupyter.widget-view+json": {
       "model_id": "095d2bfac42a4204a79c071ffa242479",
       "version_major": 2,
       "version_minor": 0
      },
      "text/plain": [
       "Validation loop:   0%|          | 0/26 [00:00<?, ?it/s]"
      ]
     },
     "metadata": {},
     "output_type": "display_data"
    },
    {
     "name": "stdout",
     "output_type": "stream",
     "text": [
      "Epoch 12/15 - Train loss: 0.0175, Validation loss: 0.0220\n"
     ]
    },
    {
     "data": {
      "application/vnd.jupyter.widget-view+json": {
       "model_id": "12de5f3ae14b46b6b1eeb6bc7701b02b",
       "version_major": 2,
       "version_minor": 0
      },
      "text/plain": [
       "Training loop:   0%|          | 0/103 [00:00<?, ?it/s]"
      ]
     },
     "metadata": {},
     "output_type": "display_data"
    },
    {
     "data": {
      "application/vnd.jupyter.widget-view+json": {
       "model_id": "c25d3f15ce0543859e23c9e45d1aa4e5",
       "version_major": 2,
       "version_minor": 0
      },
      "text/plain": [
       "Validation loop:   0%|          | 0/26 [00:00<?, ?it/s]"
      ]
     },
     "metadata": {},
     "output_type": "display_data"
    },
    {
     "name": "stdout",
     "output_type": "stream",
     "text": [
      "Epoch 13/15 - Train loss: 0.0162, Validation loss: 0.0212\n"
     ]
    },
    {
     "data": {
      "application/vnd.jupyter.widget-view+json": {
       "model_id": "bf93184c04464ecb8ba9ba30abd2b5ab",
       "version_major": 2,
       "version_minor": 0
      },
      "text/plain": [
       "Training loop:   0%|          | 0/103 [00:00<?, ?it/s]"
      ]
     },
     "metadata": {},
     "output_type": "display_data"
    },
    {
     "data": {
      "application/vnd.jupyter.widget-view+json": {
       "model_id": "9769e4c5125d48fab532d3b41effb0ca",
       "version_major": 2,
       "version_minor": 0
      },
      "text/plain": [
       "Validation loop:   0%|          | 0/26 [00:00<?, ?it/s]"
      ]
     },
     "metadata": {},
     "output_type": "display_data"
    },
    {
     "name": "stdout",
     "output_type": "stream",
     "text": [
      "Epoch 14/15 - Train loss: 0.0150, Validation loss: 0.0204\n"
     ]
    },
    {
     "data": {
      "application/vnd.jupyter.widget-view+json": {
       "model_id": "f32e2c8a8ab24b31a3b1a1d1ed09080b",
       "version_major": 2,
       "version_minor": 0
      },
      "text/plain": [
       "Training loop:   0%|          | 0/103 [00:00<?, ?it/s]"
      ]
     },
     "metadata": {},
     "output_type": "display_data"
    },
    {
     "data": {
      "application/vnd.jupyter.widget-view+json": {
       "model_id": "bd474612106c49ce9e465cacdcaef42a",
       "version_major": 2,
       "version_minor": 0
      },
      "text/plain": [
       "Validation loop:   0%|          | 0/26 [00:00<?, ?it/s]"
      ]
     },
     "metadata": {},
     "output_type": "display_data"
    },
    {
     "name": "stdout",
     "output_type": "stream",
     "text": [
      "Epoch 15/15 - Train loss: 0.0140, Validation loss: 0.0202\n"
     ]
    }
   ],
   "source": [
    "# Number of epochs\n",
    "num_epochs = 15\n",
    "train_losses, val_losses = [], []\n",
    "\n",
    "for epoch in range(num_epochs):\n",
    "    # Training\n",
    "    model.train()\n",
    "    running_loss = 0.0\n",
    "    for data, labels in tqdm(dataloader_train, desc=\"Training loop\"):\n",
    "        # Move data to device\n",
    "        data, labels = data.to(device), labels.to(device)\n",
    "        optimizer.zero_grad()\n",
    "        outputs = model(data)\n",
    "        loss = criterion(outputs, labels)\n",
    "        loss.backward()\n",
    "        optimizer.step()\n",
    "        running_loss += loss.item() * labels.size(0)\n",
    "    train_loss = running_loss / len(dataloader_train.dataset)\n",
    "    train_losses.append(train_loss)\n",
    "\n",
    "    #Validation\n",
    "    model.eval()\n",
    "    running_loss = 0.0\n",
    "    with torch.no_grad():\n",
    "        for data, labels in tqdm(dataloader_val, desc=\"Validation loop\"):\n",
    "            # Move data to device\n",
    "            data, labels = data.to(device), labels.to(device)\n",
    "\n",
    "            outputs = model(data)\n",
    "            loss = criterion(outputs, labels)\n",
    "            running_loss += loss.item() * labels.size(0)\n",
    "        val_loss = running_loss / len(dataloader_val.dataset)\n",
    "        val_losses.append(val_loss)\n",
    "    print(f\"Epoch {epoch+1}/{num_epochs} - Train loss: {train_loss:.4f}, Validation loss: {val_loss:.4f}\")"
   ]
  },
  {
   "cell_type": "markdown",
   "metadata": {},
   "source": [
    "## Visualize Losses and Performance Metrics"
   ]
  },
  {
   "cell_type": "code",
   "execution_count": 12,
   "metadata": {},
   "outputs": [
    {
     "data": {
      "image/png": "[encoded data removed]",
      "text/plain": [
       "<Figure size 640x480 with 1 Axes>"
      ]
     },
     "metadata": {},
     "output_type": "display_data"
    }
   ],
   "source": [
    "plt.plot(train_losses, label='Training loss')\n",
    "plt.plot(val_losses, label='Validation loss')\n",
    "plt.legend()\n",
    "plt.title(\"Loss over epochs\")\n",
    "plt.show()"
   ]
  },
  {
   "cell_type": "markdown",
   "metadata": {},
   "source": [
    "## Re-Identify Not-Reidentified Individuals"
   ]
  },
  {
   "cell_type": "markdown",
   "metadata": {},
   "source": [
    "## Visualize Performance for Re-Identification"
   ]
  },
  {
   "cell_type": "markdown",
   "metadata": {},
   "source": [
    "## Testing Area"
   ]
  },
  {
   "cell_type": "code",
   "execution_count": null,
   "metadata": {},
   "outputs": [],
   "source": [
    "# First entry for reference (labeled data):\n",
    "# surname                                                  Hegarty\n",
    "# firstname                                    Miss. Hanora \"Nora\"\n",
    "# bloomfilter    0000000010100011000100000101000000000000100000001000000000100111011000001001100100000100000000001000000000000000001000100000000000010010000000000000100010001110110111000000000000100000000100000001010000000000100101000011000010001010000001000000000000000000001000011010011001000100000011100100000000000011000100100000110011000000000010000000000010000000000000110000000110000000000010000000011100000001000000100000001100101011001000000000010000001000000000001000010110110000000001001000100001010111010000000010000000111000000000010010110000000000001000000101010001000000001000001000010000100110000111001110000000001010011110000100000000000100000001100001100000000000010000000000000000000000100000000010000001000000000011100000000000001000101000010100001001000011000000000010001100000000100000001000001000000000100000101000000000000000000010000000100000000100001000000100000000000000011100000001001000000001100010000001000001000000000000010100100000000110101110010000010000010100000000011000001000000001110000101001000010101111\n",
    "# uid                                                          654\n",
    "# Name: 0, dtype: object\n",
    "#print('Length Labeled data:', len(data_labeled))\n",
    "#print('Length Unlabeled data:', len(data_not_labeled))\n",
    "\n",
    "#bloomfilter_tensor, label_tensor = data_labeled[0]\n",
    "\n",
    "#print('Bloom Filter Tensor:', bloomfilter_tensor)\n",
    "#print('Bloom Filter Tensor Shape:', bloomfilter_tensor.shape)\n",
    "#print('Label Tensor:', label_tensor)\n",
    "#print('Label Tensor Shape:', label_tensor.shape)\n",
    "\n",
    "#for bloomfilter_tensors, label_tensors in dataloader_train:\n",
    "#    print('Bloom Filter Tensor Shape:', bloomfilter_tensors.shape)\n",
    "#    print('Label Tensor Shape:', label_tensors.shape)\n",
    "#    print(label_tensors)\n",
    "#    break\n",
    "\n",
    "#print(str(model)[:500])\n",
    "#example_bloom, example_label = data_train[0]\n",
    "#example_out = model(example_bloom)\n",
    "#print(example_out.shape)\n",
    "#loss_function_applied = criterion(example_out, example_label)\n",
    "#print(loss_function_applied)\n",
    "#print(example_out)\n",
    "\n",
    "print(data_labeled[0])\n",
    "\n",
    "# Apply model\n",
    "result = model(bloomfilter_tensor)\n",
    "# Result = Tensor of shape 676 with prob. for each 2gram\n",
    "two_gram_scores = {two_gram_dict[i]: score.item() for i, score in enumerate(result)}\n",
    "\n",
    "threshold = 0.000000001\n",
    "filtered_two_gram_scores = {two_gram: score for two_gram, score in two_gram_scores.items() if score > threshold}\n",
    "filtered_two_gram_scores"
   ]
  },
  {
   "cell_type": "code",
   "execution_count": 16,
   "metadata": {},
   "outputs": [
    {
     "name": "stdout",
     "output_type": "stream",
     "text": [
      "To Decode:  bloomfilter    0000111011100000000100000000100110000000100000...\n",
      "uid                                                        78181\n",
      "label                                                         []\n",
      "Name: 1, dtype: object\n",
      "BF Tensor:  tensor([0., 0., 0., 0., 1., 1., 1., 0., 1., 1., 1., 0., 0., 0., 0., 0., 0., 0.,\n",
      "        0., 1., 0., 0., 0., 0., 0., 0., 0., 0., 1., 0., 0., 1., 1., 0., 0., 0.,\n",
      "        0., 0., 0., 0., 1., 0., 0., 0., 0., 0., 0., 0., 0., 0., 0., 0., 0., 1.,\n",
      "        0., 1., 1., 0., 0., 0., 0., 0., 0., 0., 0., 0., 0., 0., 0., 0., 1., 0.,\n",
      "        0., 0., 0., 0., 0., 0., 0., 0., 0., 0., 0., 0., 1., 0., 0., 0., 0., 0.,\n",
      "        0., 0., 0., 0., 1., 0., 0., 0., 0., 1., 0., 0., 0., 0., 0., 0., 0., 0.,\n",
      "        0., 0., 1., 0., 0., 0., 0., 0., 0., 0., 1., 0., 0., 0., 0., 0., 0., 0.,\n",
      "        0., 0., 0., 0., 0., 0., 0., 0., 0., 0., 0., 1., 0., 0., 0., 0., 0., 0.,\n",
      "        0., 0., 0., 0., 0., 1., 0., 1., 0., 1., 0., 0., 0., 0., 0., 0., 0., 0.,\n",
      "        0., 0., 0., 0., 0., 0., 0., 1., 0., 0., 0., 0., 0., 1., 0., 1., 0., 0.,\n",
      "        0., 0., 0., 1., 1., 0., 0., 0., 0., 0., 0., 1., 0., 0., 0., 0., 1., 0.,\n",
      "        0., 0., 0., 0., 0., 1., 0., 0., 0., 0., 0., 1., 0., 0., 0., 0., 0., 0.,\n",
      "        1., 0., 1., 0., 0., 0., 1., 0., 1., 0., 1., 1., 0., 0., 0., 0., 0., 0.,\n",
      "        1., 1., 0., 0., 0., 0., 0., 0., 0., 0., 0., 1., 0., 0., 0., 0., 1., 0.,\n",
      "        0., 0., 0., 0., 0., 0., 0., 0., 0., 1., 0., 0., 0., 0., 0., 0., 0., 0.,\n",
      "        0., 0., 0., 0., 1., 0., 0., 0., 1., 0., 0., 0., 1., 0., 0., 0., 0., 0.,\n",
      "        0., 1., 0., 0., 0., 1., 0., 1., 0., 0., 0., 0., 0., 0., 1., 0., 0., 0.,\n",
      "        0., 0., 0., 0., 1., 0., 0., 0., 0., 0., 0., 1., 0., 0., 1., 1., 0., 0.,\n",
      "        0., 0., 0., 0., 0., 0., 0., 1., 1., 0., 0., 0., 0., 0., 0., 0., 0., 0.,\n",
      "        1., 0., 0., 0., 1., 0., 0., 1., 0., 0., 0., 0., 1., 0., 0., 0., 0., 0.,\n",
      "        0., 0., 1., 0., 0., 0., 0., 1., 0., 0., 0., 1., 0., 0., 0., 1., 0., 0.,\n",
      "        0., 0., 0., 0., 0., 0., 0., 0., 0., 0., 0., 1., 0., 0., 0., 0., 0., 0.,\n",
      "        0., 1., 1., 0., 1., 0., 1., 1., 0., 0., 0., 0., 0., 0., 0., 0., 0., 1.,\n",
      "        1., 1., 0., 1., 0., 0., 1., 0., 0., 0., 0., 1., 1., 0., 0., 0., 0., 0.,\n",
      "        1., 0., 0., 1., 0., 0., 0., 0., 0., 0., 1., 0., 0., 0., 0., 1., 0., 1.,\n",
      "        0., 0., 0., 0., 0., 0., 1., 0., 0., 0., 0., 0., 0., 0., 0., 0., 0., 1.,\n",
      "        0., 0., 0., 0., 0., 0., 0., 0., 1., 0., 0., 0., 0., 0., 0., 1., 0., 0.,\n",
      "        0., 0., 0., 0., 1., 0., 0., 0., 0., 0., 0., 0., 0., 1., 0., 0., 0., 1.,\n",
      "        0., 0., 0., 0., 0., 0., 0., 0., 0., 0., 0., 1., 0., 1., 0., 0., 0., 0.,\n",
      "        0., 0., 0., 0., 1., 1., 0., 0., 1., 0., 0., 0., 0., 0., 0., 0., 0., 0.,\n",
      "        0., 0., 0., 0., 0., 1., 0., 0., 0., 0., 0., 0., 0., 0., 0., 0., 0., 0.,\n",
      "        0., 0., 0., 0., 0., 0., 0., 0., 0., 0., 0., 0., 0., 0., 0., 0., 0., 0.,\n",
      "        0., 0., 0., 0., 0., 1., 0., 0., 1., 0., 1., 0., 0., 1., 0., 0., 1., 0.,\n",
      "        0., 0., 0., 0., 0., 1., 1., 0., 0., 0., 0., 0., 0., 0., 0., 1., 0., 0.,\n",
      "        0., 0., 1., 0., 0., 1., 0., 0., 0., 0., 0., 0., 0., 0., 0., 0., 0., 0.,\n",
      "        0., 0., 0., 0., 0., 0., 0., 1., 1., 0., 0., 0., 0., 0., 0., 1., 1., 0.,\n",
      "        0., 1., 0., 0., 0., 0., 0., 0., 0., 0., 0., 0., 1., 0., 0., 1., 0., 0.,\n",
      "        0., 0., 0., 0., 0., 0., 1., 0., 0., 0., 1., 0., 0., 0., 0., 0., 0., 0.,\n",
      "        1., 0., 1., 0., 0., 0., 0., 0., 1., 0., 0., 1., 0., 0., 1., 0., 0., 0.,\n",
      "        0., 0., 0., 1., 0., 0., 0., 0., 0., 0., 1., 0., 0., 0., 1., 0., 1., 0.,\n",
      "        0., 0., 0., 0., 0., 0., 0., 1., 0., 0., 0., 0., 0., 1., 1., 1., 0., 0.,\n",
      "        0., 1., 0., 0., 0., 1., 0., 1., 0., 0., 0., 0., 0., 0., 0., 0., 0., 0.,\n",
      "        1., 1., 0., 1., 0., 0., 0., 0., 0., 0., 0., 0., 0., 0., 1., 1., 1., 1.,\n",
      "        1., 0., 1., 1., 0., 0., 0., 0., 0., 0., 1., 0., 1., 0., 0., 0., 0., 1.,\n",
      "        0., 0., 1., 0., 0., 0., 0., 0., 1., 0., 0., 0., 0., 1., 0., 0., 1., 0.,\n",
      "        0., 0., 0., 0., 0., 0., 0., 0., 0., 0., 0., 0., 0., 0., 0., 0., 0., 1.,\n",
      "        1., 1., 0., 0., 0., 0., 1., 0., 0., 0., 0., 0., 0., 0., 0., 0., 0., 0.,\n",
      "        1., 1., 1., 0., 0., 1., 0., 0., 0., 1., 0., 0., 1., 0., 0., 0., 0., 0.,\n",
      "        0., 1., 0., 0., 1., 0., 0., 0., 0., 0., 0., 0., 0., 0., 0., 0., 0., 0.,\n",
      "        0., 0., 0., 0., 1., 0., 0., 0., 1., 0., 0., 0., 0., 0., 0., 0., 0., 0.,\n",
      "        0., 0., 0., 1., 0., 1., 1., 1., 0., 1., 0., 0., 0., 0., 0., 0., 0., 0.,\n",
      "        0., 0., 0., 0., 1., 0., 0., 0., 0., 0., 0., 0., 1., 0., 0., 0., 0., 0.,\n",
      "        0., 1., 0., 0., 0., 0., 0., 0., 1., 0., 0., 0., 0., 0., 0., 0., 1., 0.,\n",
      "        1., 1., 0., 0., 0., 0., 0., 0., 0., 0., 0., 0., 0., 0., 0., 0., 0., 1.,\n",
      "        0., 0., 1., 1., 0., 0., 0., 0., 0., 0., 0., 0., 0., 0., 1., 0., 0., 0.,\n",
      "        0., 1., 0., 0., 0., 0., 0., 0., 0., 0., 0., 1., 0., 0., 0., 0., 0., 0.,\n",
      "        0., 0., 0., 0., 1., 0., 0., 0., 0., 0., 0., 0., 1., 0., 1., 0.])\n",
      "Prob:  tensor([4.6722e-05, 3.6322e-06, 1.3552e-02, 4.7597e-05, 9.7773e-01, 1.8389e-04,\n",
      "        4.4378e-05, 5.9315e-05, 1.4945e-04, 2.7390e-05, 9.4911e-06, 3.4454e-03,\n",
      "        6.4550e-03, 2.5305e-03, 1.6981e-05, 1.5704e-04, 1.3318e-05, 4.0339e-04,\n",
      "        1.2070e-03, 1.4370e-04, 7.2320e-07, 1.7774e-04, 1.2250e-02, 8.0395e-05,\n",
      "        1.5630e-03, 7.4262e-05, 7.9083e-05, 5.3091e-06, 3.1204e-07, 2.5879e-07,\n",
      "        9.0052e-05, 5.7394e-05, 3.1266e-07, 7.9953e-06, 4.0370e-04, 7.4011e-07,\n",
      "        4.1499e-06, 6.3931e-03, 5.9346e-07, 4.9715e-07, 1.5689e-06, 4.2882e-07,\n",
      "        1.2470e-07, 3.8459e-05, 1.0204e-05, 2.1027e-06, 1.1533e-04, 1.7889e-07,\n",
      "        2.5982e-05, 3.5156e-07, 8.8530e-05, 2.7174e-06, 1.9982e-04, 9.7579e-06,\n",
      "        1.2806e-05, 3.6123e-04, 8.2677e-02, 4.3040e-05, 2.8368e-05, 9.9804e-01,\n",
      "        6.6457e-04, 7.5174e-07, 5.2069e-03, 7.6991e-04, 6.4368e-05, 6.7586e-04,\n",
      "        3.2097e-02, 7.7755e-07, 5.9880e-05, 2.6782e-04, 2.4094e-05, 1.4319e-05,\n",
      "        3.5067e-06, 3.4957e-04, 2.7802e-07, 1.0668e-07, 2.8516e-05, 6.5420e-07,\n",
      "        5.1790e-04, 3.7430e-03, 1.7666e-04, 3.4555e-04, 1.0119e-03, 1.8041e-03,\n",
      "        4.8484e-07, 5.3708e-06, 6.9945e-06, 1.2558e-05, 1.0842e-05, 2.0751e-03,\n",
      "        2.2112e-04, 6.1378e-05, 2.6309e-04, 1.2235e-04, 8.6926e-07, 4.1230e-05,\n",
      "        1.1413e-02, 3.0151e-04, 1.7956e-04, 1.8629e-05, 2.3738e-06, 1.1859e-06,\n",
      "        5.6926e-04, 9.9812e-07, 3.6213e-05, 2.4784e-05, 2.7199e-04, 3.2848e-03,\n",
      "        1.4762e-03, 1.1935e-03, 4.1282e-06, 3.2376e-02, 2.0018e-03, 2.6068e-06,\n",
      "        2.1080e-04, 9.9886e-01, 9.9340e-05, 1.0580e-02, 2.5766e-05, 3.3314e-06,\n",
      "        4.3025e-06, 2.1664e-04, 5.3575e-03, 6.1774e-04, 1.0094e-05, 2.5105e-06,\n",
      "        1.0041e-04, 4.3416e-05, 9.9218e-01, 1.8312e-05, 2.9462e-04, 1.0446e-06,\n",
      "        2.9112e-07, 2.8473e-06, 3.0455e-03, 8.8886e-04, 3.5564e-06, 1.1943e-06,\n",
      "        2.0033e-04, 7.3701e-07, 2.7592e-07, 4.8281e-04, 1.2686e-06, 9.8366e-07,\n",
      "        3.8881e-05, 1.4632e-06, 1.4764e-07, 5.6117e-02, 4.6839e-05, 5.6697e-05,\n",
      "        3.1137e-05, 1.8021e-06, 3.4853e-07, 6.0023e-07, 2.4832e-05, 2.8235e-07,\n",
      "        7.1003e-05, 2.5925e-07, 1.1417e-06, 1.7250e-04, 1.4544e-05, 1.2890e-05,\n",
      "        1.7529e-05, 1.4550e-03, 8.3889e-06, 7.2351e-06, 4.7924e-07, 6.6495e-04,\n",
      "        1.0416e-04, 3.0864e-05, 5.3904e-06, 3.9383e-06, 4.3780e-07, 1.8844e-04,\n",
      "        8.8507e-05, 2.7017e-07, 3.9787e-05, 1.9514e-06, 1.3185e-07, 1.0136e-06,\n",
      "        1.1275e-04, 1.3186e-07, 9.9847e-01, 7.9272e-05, 9.1151e-06, 3.0999e-06,\n",
      "        7.5797e-05, 1.6027e-06, 2.5061e-06, 5.2382e-06, 2.6271e-04, 6.8017e-07,\n",
      "        7.4692e-05, 2.5319e-02, 1.2469e-05, 4.5257e-04, 1.3760e-03, 1.6241e-06,\n",
      "        3.2240e-07, 1.0116e-03, 3.3221e-03, 6.9697e-04, 5.3864e-04, 7.7255e-06,\n",
      "        5.4015e-05, 6.0630e-08, 3.5999e-07, 8.7761e-07, 1.7558e-04, 4.0195e-04,\n",
      "        9.9835e-01, 9.6053e-03, 3.0051e-05, 7.5747e-05, 2.0482e-04, 1.3879e-06,\n",
      "        9.5835e-08, 8.2248e-08, 3.3256e-07, 3.0476e-02, 3.1019e-04, 1.1329e-05,\n",
      "        2.3019e-04, 1.7342e-04, 2.0219e-07, 1.6121e-02, 1.2004e-03, 7.7942e-04,\n",
      "        3.6082e-06, 1.0512e-07, 8.0269e-06, 3.2046e-03, 7.6226e-07, 1.0566e-04,\n",
      "        3.2734e-04, 7.4405e-07, 3.7836e-05, 1.8959e-07, 8.9984e-04, 3.7078e-07,\n",
      "        2.0562e-07, 6.8542e-08, 3.9299e-04, 8.7095e-07, 9.0107e-08, 1.4922e-06,\n",
      "        4.0826e-06, 2.0659e-06, 5.5146e-05, 1.3582e-07, 2.0415e-07, 4.2584e-07,\n",
      "        1.0196e-06, 5.4016e-07, 1.3763e-04, 2.6862e-07, 5.1968e-07, 5.2211e-07,\n",
      "        7.4977e-07, 3.4478e-07, 8.0570e-07, 4.8709e-05, 4.2735e-05, 3.2600e-06,\n",
      "        4.3892e-03, 5.4700e-07, 3.9852e-06, 3.6976e-04, 1.3298e-04, 8.7956e-07,\n",
      "        3.4459e-06, 2.0657e-02, 2.7988e-03, 2.8413e-04, 1.0763e-04, 1.3455e-05,\n",
      "        3.5530e-07, 3.6187e-03, 4.4732e-04, 3.7010e-05, 6.7807e-07, 4.3979e-07,\n",
      "        4.5445e-05, 1.5228e-06, 5.2872e-04, 5.7706e-07, 3.7336e-04, 1.8737e-03,\n",
      "        9.2501e-03, 3.5869e-04, 9.9046e-01, 5.8553e-05, 6.7862e-04, 8.6961e-04,\n",
      "        1.8669e-04, 4.9738e-06, 7.4082e-05, 1.6816e-01, 8.4733e-02, 9.1455e-04,\n",
      "        1.1771e-02, 9.0072e-04, 3.1363e-07, 1.1774e-04, 3.7125e-01, 1.5793e-05,\n",
      "        8.8074e-03, 9.6425e-04, 1.6124e-01, 2.4335e-07, 3.7123e-03, 2.9883e-06,\n",
      "        2.7346e-04, 1.2474e-03, 2.5166e-03, 6.2297e-06, 3.3663e-03, 1.4666e-05,\n",
      "        2.8219e-07, 3.9878e-06, 9.9603e-01, 4.0319e-06, 1.7103e-06, 3.7806e-04,\n",
      "        3.2414e-05, 1.8152e-04, 1.2253e-03, 1.5341e-02, 3.6311e-07, 3.5818e-06,\n",
      "        2.4356e-07, 6.9636e-06, 1.2411e-05, 7.6214e-06, 1.1754e-06, 5.1927e-07,\n",
      "        6.2106e-05, 6.8058e-07, 1.4052e-03, 4.8602e-06, 1.2438e-02, 7.4794e-06,\n",
      "        2.0590e-02, 2.7961e-05, 1.4590e-04, 1.7409e-03, 1.4296e-03, 2.4020e-05,\n",
      "        1.3746e-02, 1.0033e-03, 1.7581e-03, 6.8580e-03, 1.2188e-05, 4.8191e-07,\n",
      "        4.7164e-07, 2.3798e-06, 2.1953e-05, 1.6369e-04, 7.2808e-05, 6.1714e-05,\n",
      "        3.5289e-06, 1.5174e-07, 5.8781e-05, 2.0833e-05, 1.8280e-09, 2.0479e-05,\n",
      "        3.6131e-04, 9.3317e-06, 3.1025e-02, 2.5536e-03, 2.1931e-06, 1.0921e-04,\n",
      "        6.5905e-05, 9.9960e-06, 1.9912e-03, 5.8965e-04, 9.0824e-03, 1.3708e-04,\n",
      "        2.8633e-04, 1.2750e-04, 4.0185e-07, 9.9910e-04, 3.9062e-05, 8.2013e-06,\n",
      "        1.4247e-05, 1.3802e-05, 3.5416e-04, 2.2570e-05, 2.2886e-04, 6.0318e-07,\n",
      "        3.8780e-05, 2.3518e-03, 1.0800e-05, 1.8116e-06, 2.1067e-04, 2.4448e-07,\n",
      "        3.7700e-07, 1.2135e-05, 2.7647e-06, 4.3075e-07, 1.1976e-06, 1.3317e-05,\n",
      "        1.2259e-05, 1.0428e-06, 3.1588e-03, 1.8507e-04, 1.5780e-06, 3.2445e-05,\n",
      "        3.6142e-05, 1.0156e-05, 4.9511e-07, 7.5299e-08, 4.5730e-06, 1.2830e-06,\n",
      "        8.8925e-08, 1.4093e-06, 1.1466e-06, 2.2277e-06, 2.5262e-07, 4.5085e-07,\n",
      "        5.8192e-07, 6.0444e-07, 1.2497e-07, 2.0497e-06, 3.3916e-07, 2.1969e-07,\n",
      "        3.2046e-07, 1.5547e-07, 6.4549e-07, 3.2509e-07, 4.1838e-07, 6.9959e-07,\n",
      "        9.8613e-08, 2.3282e-07, 6.9851e-07, 1.1785e-06, 3.1642e-07, 5.1172e-07,\n",
      "        1.2934e-06, 3.3290e-07, 7.6567e-07, 1.8899e-07, 1.0469e-03, 3.1076e-04,\n",
      "        1.0359e-03, 3.6973e-03, 1.1277e-02, 2.1711e-05, 3.1115e-05, 1.5414e-04,\n",
      "        1.0872e-02, 1.8866e-08, 1.3265e-03, 1.8135e-04, 6.0795e-05, 4.4318e-06,\n",
      "        1.8212e-05, 1.3612e-05, 2.2550e-06, 7.6258e-05, 4.9470e-06, 2.2168e-05,\n",
      "        4.0638e-05, 5.4577e-04, 1.8479e-05, 9.7789e-07, 4.7557e-05, 2.8952e-06,\n",
      "        5.7045e-06, 8.0101e-04, 1.5232e-02, 3.0313e-04, 2.7658e-04, 1.4259e-06,\n",
      "        3.3187e-05, 3.2237e-02, 2.2406e-04, 1.2324e-05, 3.6847e-05, 6.7440e-04,\n",
      "        8.4677e-03, 5.4793e-04, 5.9746e-05, 2.2011e-06, 8.4004e-07, 2.0784e-05,\n",
      "        2.2757e-04, 1.5452e-02, 3.4556e-05, 4.7644e-04, 1.5922e-05, 3.1544e-07,\n",
      "        3.8004e-06, 4.6466e-06, 1.6160e-03, 2.6911e-08, 1.0507e-04, 1.3330e-06,\n",
      "        1.1676e-04, 3.5726e-06, 1.7905e-05, 3.2751e-04, 5.4035e-05, 1.3247e-06,\n",
      "        6.6702e-05, 7.4753e-04, 1.9308e-04, 7.1652e-05, 5.1104e-04, 5.6234e-06,\n",
      "        1.4856e-06, 2.5067e-04, 1.7401e-05, 6.3482e-06, 9.0411e-06, 1.0564e-04,\n",
      "        4.0138e-04, 4.0417e-07, 9.1640e-05, 1.6035e-03, 1.4338e-04, 2.3594e-06,\n",
      "        2.5327e-03, 2.0071e-05, 1.4104e-05, 2.2281e-05, 1.8234e-04, 1.0950e-04,\n",
      "        1.2432e-05, 6.3439e-07, 6.4149e-06, 1.3258e-06, 2.8876e-04, 2.7742e-04,\n",
      "        5.5074e-06, 1.8131e-04, 3.1077e-07, 2.0482e-06, 6.4729e-05, 1.5492e-04,\n",
      "        1.4321e-06, 2.4575e-04, 1.4185e-06, 2.4810e-08, 5.2129e-07, 5.0255e-05,\n",
      "        6.0456e-06, 8.3339e-07, 1.0055e-06, 2.4401e-07, 2.7795e-04, 1.0240e-06,\n",
      "        2.9502e-06, 8.5009e-08, 3.8812e-04, 4.1146e-07, 2.8809e-07, 1.1760e-04,\n",
      "        3.1299e-07, 4.7872e-07, 4.8429e-04, 1.1871e-06, 5.4732e-07, 7.5860e-08,\n",
      "        2.5425e-06, 5.2895e-07, 9.4082e-07, 3.4450e-07, 2.8965e-07, 5.8795e-07,\n",
      "        3.9941e-04, 3.0767e-06, 2.4323e-05, 7.0767e-07, 9.9734e-06, 1.0744e-06,\n",
      "        3.5371e-04, 2.1429e-04, 2.0486e-07, 1.9770e-05, 1.6811e-03, 1.2757e-06,\n",
      "        8.6690e-05, 8.3265e-04, 1.1610e-04, 5.9830e-05, 1.0584e-03, 1.2956e-06,\n",
      "        8.9718e-07, 4.2964e-02, 2.1860e-07, 9.8905e-08, 8.7837e-07, 3.9172e-07,\n",
      "        2.7033e-07, 1.3265e-06, 1.8059e-05, 2.6067e-07, 3.1455e-06, 1.2651e-06,\n",
      "        5.0619e-07, 5.1199e-07, 7.8615e-05, 2.4271e-06, 1.6687e-06, 8.4167e-07,\n",
      "        1.6548e-05, 4.6336e-08, 4.0530e-05, 9.4641e-05, 1.2301e-06, 1.2313e-07,\n",
      "        3.6833e-04, 6.2722e-07, 1.2838e-07, 9.6054e-07, 7.0337e-06, 5.2813e-07,\n",
      "        7.0611e-07, 1.7057e-06, 7.9787e-05, 2.0818e-04, 3.6832e-07, 5.3375e-07,\n",
      "        3.5287e-06, 2.5996e-04, 2.3634e-04, 1.3839e-03, 9.9587e-05, 2.4315e-03,\n",
      "        5.8901e-05, 3.3071e-03, 2.1465e-06, 5.0495e-06, 3.6607e-05, 2.1718e-04,\n",
      "        2.3173e-03, 1.4933e-04, 3.6859e-05, 9.5538e-05, 2.6928e-06, 5.3243e-06,\n",
      "        1.8588e-04, 2.2773e-05, 2.7841e-06, 9.3775e-06, 2.9260e-04, 1.1853e-07,\n",
      "        2.0790e-05, 2.3182e-03, 2.2283e-04, 4.2285e-07, 5.3141e-05, 2.7800e-07,\n",
      "        1.4688e-03, 7.7598e-07, 6.7607e-06, 3.4910e-06, 1.5428e-05, 1.0782e-07,\n",
      "        5.9005e-07, 7.2376e-07, 1.3608e-07, 2.7341e-07, 8.8993e-06, 2.1300e-05,\n",
      "        7.0386e-07, 1.3617e-07, 7.9399e-08, 2.4237e-07, 2.0855e-05, 3.7364e-07,\n",
      "        8.6543e-07, 5.8948e-07, 2.4043e-05, 1.8193e-05, 2.8905e-07, 2.4003e-05,\n",
      "        1.6752e-04, 9.1574e-06, 4.6486e-06, 1.7782e-06, 1.2849e-06, 6.5000e-07,\n",
      "        1.6305e-06, 2.3662e-03, 1.5994e-07, 2.0515e-04, 1.7807e-05, 5.2845e-07,\n",
      "        9.2676e-08, 2.4518e-08, 1.3941e-05, 1.9551e-07, 2.8289e-07, 3.6266e-07,\n",
      "        8.9302e-07, 1.9719e-07, 4.3007e-08, 1.0067e-06, 1.0186e-06, 2.5445e-06,\n",
      "        2.9068e-08, 1.6092e-06, 5.3415e-07, 5.5200e-07, 1.1663e-06, 3.8193e-04,\n",
      "        5.4014e-05, 3.3814e-06, 1.1229e-03, 9.0939e-06, 8.8434e-06, 4.2190e-04,\n",
      "        7.8608e-04, 6.2473e-06, 5.9472e-07, 1.2126e-03, 1.3117e-05, 2.7540e-05,\n",
      "        1.8995e-06, 1.0993e-04, 5.7143e-04, 6.9757e-04, 3.4575e-05, 2.6224e-02,\n",
      "        2.5362e-07, 2.5262e-05, 1.2667e-06, 1.0872e-06, 8.4009e-07, 5.7286e-06,\n",
      "        2.5059e-07, 4.2831e-07, 4.0324e-06, 1.9444e-07, 4.9060e-07, 6.1275e-05,\n",
      "        6.7067e-07, 4.7064e-07, 3.1883e-06, 3.5812e-07, 8.1655e-07, 8.9233e-07,\n",
      "        2.5769e-07, 2.4938e-03, 5.9486e-07, 1.5363e-04, 8.0396e-04, 4.2445e-04,\n",
      "        8.8667e-04, 1.7481e-03, 1.1653e-02, 8.1582e-04, 3.2318e-05, 6.1112e-04,\n",
      "        2.8003e-07, 4.2852e-07, 1.7699e-06, 4.5509e-08, 1.1887e-06, 1.6314e-07,\n",
      "        8.8007e-07, 8.1302e-06, 2.2556e-06, 3.4362e-05, 7.7785e-07, 1.4875e-06,\n",
      "        3.9528e-07, 2.9143e-07, 5.0266e-07, 3.1792e-07, 2.0483e-06, 1.4349e-07,\n",
      "        3.7401e-07, 1.5944e-07, 1.3140e-07, 1.0341e-03, 4.4894e-06, 5.6696e-05,\n",
      "        6.9563e-05, 5.2552e-06, 3.2867e-05, 7.2392e-07, 1.1011e-04, 1.8466e-03,\n",
      "        1.5008e-07, 7.7439e-04, 9.2882e-04, 2.4868e-06, 6.5613e-04, 3.0346e-04,\n",
      "        3.2714e-04, 2.6284e-03, 9.9455e-04, 2.7795e-03, 2.4616e-07, 7.0013e-05,\n",
      "        1.3950e-05, 8.1310e-07, 8.6626e-06, 7.0700e-06, 6.2482e-06, 4.9715e-04,\n",
      "        1.2511e-04, 5.7110e-07, 4.0354e-07, 7.2740e-04, 2.1208e-05, 4.4512e-06,\n",
      "        7.7136e-05, 4.6708e-05, 2.4562e-06, 2.4119e-04, 4.3431e-05, 2.5588e-05,\n",
      "        1.4678e-06, 2.8441e-06, 9.5015e-07, 2.0540e-06, 2.7326e-04, 2.5095e-05,\n",
      "        1.3528e-04, 9.9433e-06, 1.6836e-04, 1.6520e-03, 1.7879e-06, 2.4538e-05,\n",
      "        2.1809e-04, 4.3093e-06, 1.9387e-07, 7.4735e-05, 5.8026e-06, 9.5243e-08,\n",
      "        6.4785e-05, 3.2623e-05, 3.3464e-07, 9.5079e-08, 2.9570e-07, 3.8079e-07,\n",
      "        6.8694e-07, 1.3550e-06, 1.9241e-07, 4.8417e-07, 6.1480e-07, 1.3596e-06,\n",
      "        1.5621e-06, 1.9590e-04, 1.2653e-05, 2.7411e-06, 1.6222e-04, 3.1051e-05,\n",
      "        4.8248e-06, 1.9967e-06, 9.4043e-05, 4.5613e-04, 5.1769e-07, 5.8742e-05,\n",
      "        3.3673e-04, 7.7138e-05, 6.5614e-04, 6.7356e-06, 3.5653e-04, 5.8561e-07,\n",
      "        2.1690e-03, 3.0190e-03, 7.0085e-08, 2.7672e-04, 1.1401e-05, 1.4577e-07,\n",
      "        6.7122e-07, 2.3964e-04, 8.1922e-04, 1.9719e-05, 3.2285e-07, 3.9602e-04,\n",
      "        9.0412e-07, 5.4312e-06, 2.8986e-07, 1.5373e-07, 1.9930e-05, 3.9145e-08,\n",
      "        2.9670e-07, 6.2078e-07, 8.2207e-07, 3.8198e-07, 9.0595e-08, 3.4162e-07,\n",
      "        2.4803e-07, 1.1021e-06, 1.9866e-06, 2.3050e-07, 1.2282e-07, 4.4953e-07,\n",
      "        1.1573e-06, 1.1640e-06, 6.6666e-07, 1.1155e-04, 5.3945e-04, 1.2539e-05,\n",
      "        1.1804e-06, 7.6971e-06, 3.9006e-07, 1.2697e-06, 1.8033e-06, 1.5175e-07,\n",
      "        1.8662e-07, 2.9861e-06, 2.7384e-07, 4.5958e-06, 1.9406e-06, 9.3997e-08,\n",
      "        9.3867e-07, 1.2999e-06, 2.3364e-05, 3.2159e-05, 1.3657e-06, 4.9099e-02,\n",
      "        4.8475e-03, 1.3959e-04, 3.0966e-02, 2.7918e-03, 2.4590e-02, 6.5205e-03,\n",
      "        2.7211e-03, 4.4808e-02, 2.0125e-06, 5.1014e-05, 2.0329e-05, 4.4280e-06,\n",
      "        4.2552e-08, 3.8579e-07, 2.7541e-06, 7.0106e-07, 3.9608e-05, 3.5391e-04,\n",
      "        3.6106e-03, 8.6768e-04, 1.8290e-03, 9.1773e-05, 2.1017e-06, 2.2917e-08,\n",
      "        2.3558e-06, 2.2947e-06, 3.9026e-07, 7.3291e-06, 3.4015e-04, 9.9402e-01,\n",
      "        5.1854e-03, 4.3522e-05, 4.0619e-05, 9.7685e-03, 2.2200e-03, 1.4475e-03,\n",
      "        4.3679e-04, 9.9895e-01, 4.2242e-04, 2.5386e-02, 1.5563e-04, 2.8073e-06,\n",
      "        1.7938e-06, 1.2212e-04, 7.2448e-04, 1.0881e-04, 6.0750e-04, 3.8178e-01,\n",
      "        2.6450e-07, 7.7713e-05, 3.5431e-04, 1.1743e-08, 1.0654e-06, 2.0786e-06,\n",
      "        1.6175e-06, 2.0680e-04, 1.7758e-04, 2.3354e-04, 7.6702e-05, 5.5455e-04,\n",
      "        1.1915e-02, 1.4805e-03, 2.6983e-03, 2.4505e-05, 4.7978e-05, 3.6581e-05,\n",
      "        1.5497e-03, 7.5893e-03, 1.7946e-04, 2.3865e-03, 1.5285e-03, 1.0942e-04,\n",
      "        4.1210e-05, 1.5103e-05, 1.9660e-04, 3.1961e-04, 8.8890e-05, 2.3231e-04,\n",
      "        2.1189e-03, 1.2698e-02, 5.5871e-02, 3.8688e-03, 4.9392e-03, 1.2729e-02,\n",
      "        9.8280e-03, 2.8322e-03, 3.8245e-04, 1.0398e-03, 1.9425e-04, 8.2820e-03,\n",
      "        9.6548e-03, 1.0783e-05, 1.9921e-05, 2.4010e-06, 6.7818e-04, 9.9576e-05,\n",
      "        1.2985e-04, 1.3633e-03, 2.8880e-05, 1.3576e-02, 9.5291e-03, 3.2659e-04,\n",
      "        5.3431e-05, 9.8055e-06, 5.1845e-05, 7.4028e-05, 4.9053e-04, 1.6221e-04,\n",
      "        1.2994e-04, 9.5510e-01, 7.2652e-02, 8.9408e-04, 2.3992e-02, 7.1628e-05,\n",
      "        9.1815e-01, 8.2481e-04, 1.8204e-04, 1.1338e-02],\n",
      "       grad_fn=<SigmoidBackward0>)\n",
      "Decoded 2grams:  {'ae': 0.9777281284332275, 'ch': 0.9980443716049194, 'el': 0.9988592863082886, 'ey': 0.9921789169311523, 'ha': 0.9984729886054993, 'ic': 0.9983470439910889, 'le': 0.99045729637146, 'll': 0.16815508902072906, 'ls': 0.37125101685523987, 'lw': 0.16124239563941956, 'mi': 0.9960281848907471, '11': 0.9940160512924194, '19': 0.9989542961120605, '29': 0.38177669048309326, '91': 0.9550968408584595, '96': 0.9181474447250366}\n"
     ]
    }
   ],
   "source": [
    "print(\"To Decode: \",df_not_reidentified_individuals.iloc[1])\n",
    "torch.set_printoptions(profile=\"full\")\n",
    "#torch.set_printoptions(profile=\"default\")\n",
    "print(\"BF Tensor: \", data_not_labeled[1])\n",
    "# Apply model\n",
    "model.eval()\n",
    "logits = model(data_not_labeled[1])\n",
    "probabilities = torch.sigmoid(logits)\n",
    "print(\"Prob: \", probabilities)\n",
    "two_gram_scores = {two_gram_dict[i]: score.item() for i, score in enumerate(probabilities)}\n",
    "threshold = 0.1\n",
    "filtered_two_gram_scores = {two_gram: score for two_gram, score in two_gram_scores.items() if score > threshold}\n",
    "print(\"Decoded 2grams: \", filtered_two_gram_scores)\n",
    "\n",
    "# person is: Michael\tSchley\t1/9/1962"
   ]
  },
  {
   "cell_type": "code",
   "execution_count": 21,
   "metadata": {},
   "outputs": [
    {
     "name": "stdout",
     "output_type": "stream",
     "text": [
      "Bloom Filters Batch Shape: torch.Size([32, 1024])\n",
      "Labels Batch Shape: torch.Size([32, 1036])\n",
      "tensor([0., 0., 0.,  ..., 0., 0., 0.])\n"
     ]
    }
   ],
   "source": [
    "for bloom_filters, labels in dataloader_train:\n",
    "    print(\"Bloom Filters Batch Shape:\", bloom_filters.shape)\n",
    "    print(\"Labels Batch Shape:\", labels.shape)\n",
    "    print(bloom_filters[0])\n",
    "    break"
   ]
  },
  {
   "cell_type": "code",
   "execution_count": null,
   "metadata": {},
   "outputs": [],
   "source": [
    "model = nn.Linear(20, 5) # predict logits for 5 classes\n",
    "x = torch.randn(1, 20)\n",
    "print(x.shape)\n",
    "y = torch.tensor([[1., 0., 1., 0., 0.]]) # get classA and classC as active\n",
    "print(y.shape)\n",
    "\n",
    "criterion = nn.BCEWithLogitsLoss()\n",
    "optimizer = optim.SGD(model.parameters(), lr=1e-1)\n",
    "\n",
    "for epoch in range(20):\n",
    "    optimizer.zero_grad()\n",
    "    output = model(x)\n",
    "    loss = criterion(output, y)\n",
    "    loss.backward()\n",
    "    optimizer.step()\n",
    "    print('Loss: {:.3f}'.format(loss.item()))"
   ]
  },
  {
   "cell_type": "code",
   "execution_count": null,
   "metadata": {},
   "outputs": [],
   "source": [
    "for bloom_filters, labels in dataloader_train:\n",
    "    print(\"Bloom Filters Batch Shape:\", bloom_filters[0])\n",
    "    print(\"Labels Batch Shape:\", labels[0])\n",
    "    break"
   ]
  },
  {
   "cell_type": "code",
   "execution_count": 12,
   "metadata": {},
   "outputs": [
    {
     "data": {
      "text/plain": [
       "4090"
      ]
     },
     "execution_count": 12,
     "metadata": {},
     "output_type": "execute_result"
    }
   ],
   "source": [
    "len(data_labeled)"
   ]
  },
  {
   "cell_type": "code",
   "execution_count": null,
   "metadata": {},
   "outputs": [],
   "source": []
  }
 ],
 "metadata": {
  "kernelspec": {
   "display_name": "Python 3",
   "language": "python",
   "name": "python3"
  },
  "language_info": {
   "codemirror_mode": {
    "name": "ipython",
    "version": 3
   },
   "file_extension": ".py",
   "mimetype": "text/x-python",
   "name": "python",
   "nbconvert_exporter": "python",
   "pygments_lexer": "ipython3",
   "version": "3.10.16"
  }
 },
 "nbformat": 4,
 "nbformat_minor": 2
}
