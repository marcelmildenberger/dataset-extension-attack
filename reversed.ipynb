{
 "cells": [
  {
   "cell_type": "markdown",
   "metadata": {},
   "source": [
    "# Privacy-Preserving Record Linkage (PPRL): Investigating Dataset Extension Attacks"
   ]
  },
  {
   "cell_type": "code",
   "execution_count": 1,
   "metadata": {},
   "outputs": [
    {
     "name": "stdout",
     "output_type": "stream",
     "text": [
      "Using NumPy dot (Mac)\n",
      "System Version: 3.10.16 | packaged by conda-forge | (main, Dec  5 2024, 14:20:01) [Clang 18.1.8 ]\n",
      "PyTorch version 2.1.2\n",
      "Torchvision version 0.16.2\n",
      "Numpy version 1.24.4\n",
      "Pandas version 2.0.3\n"
     ]
    }
   ],
   "source": [
    "import os\n",
    "\n",
    "import torch\n",
    "from torch.utils.tensorboard import SummaryWriter\n",
    "import torch.nn as nn\n",
    "import torch.optim as optim\n",
    "from torch.utils.data import DataLoader, random_split\n",
    "import torchvision\n",
    "\n",
    "from utils import *\n",
    "\n",
    "import matplotlib.pyplot as plt # For data viz\n",
    "import pandas as pd\n",
    "import hickle as hkl\n",
    "import numpy as np\n",
    "import string\n",
    "import sys\n",
    "from tqdm.notebook import tqdm\n",
    "\n",
    "from graphMatching.gma import run_gma\n",
    "\n",
    "from datasets.bloom_filter_dataset_reversed import BloomFilterDatasetReversed\n",
    "from datasets.tab_min_hash_dataset import TabMinHashDataset\n",
    "from datasets.two_step_hash_dataset import TwoStepHashDataset\n",
    "\n",
    "from pytorch_models.bloom_filter_to_two_gram_classifier import BloomFilterToTwoGramClassifier\n",
    "from pytorch_models.tab_min_hash_to_two_gram_classifier import TabMinHashToTwoGramClassifier\n",
    "from pytorch_models.two_step_hash_to_two_gram_classifier import TwoStepHashToTwoGramClassifier\n",
    "\n",
    "from early_stopping.early_stopping import EarlyStopping\n",
    "\n",
    "print('System Version:', sys.version)\n",
    "print('PyTorch version', torch.__version__)\n",
    "print('Torchvision version', torchvision.__version__)\n",
    "print('Numpy version', np.__version__)\n",
    "print('Pandas version', pd.__version__)"
   ]
  },
  {
   "cell_type": "code",
   "execution_count": 2,
   "metadata": {},
   "outputs": [],
   "source": [
    "# Parameters\n",
    "GLOBAL_CONFIG = {\n",
    "    \"Data\": \"./data/datasets/fakename_1k.tsv\",\n",
    "    \"Overlap\": 0.8,\n",
    "    \"DropFrom\": \"Eve\",\n",
    "    \"Verbose\": True,  # Print Status Messages\n",
    "    \"MatchingMetric\": \"cosine\",\n",
    "    \"Matching\": \"MinWeight\",\n",
    "    \"Workers\": -1,\n",
    "    \"SaveAliceEncs\": False,\n",
    "    \"SaveEveEncs\": False,\n",
    "    \"DevMode\": False,\n",
    "}\n",
    "\n",
    "\n",
    "DEA_CONFIG = {\n",
    "    \"DevMode\": False,\n",
    "    # BCEWithLogitsLoss / MultiLabelSoftMarginLoss\n",
    "    \"LossFunction:\": \"BCEWithLogitsLoss\",\n",
    "    # Adam / AdamW / SGD / RMSprop\n",
    "    \"Optimizer\": \"Adam\",\n",
    "    \"LearningRate\": 0.001,\n",
    "    # SGD only\n",
    "    \"Momentum\": 0.9,\n",
    "    \"BatchSize\": 16,\n",
    "    \"Epochs\": 20,\n",
    "    # TestSize calculated accordingly\n",
    "    \"TrainSize\": 0.8,\n",
    "    \"FilterThreshold\": 0.5,\n",
    "    \"Patience\": 5,\n",
    "    \"MinDelta\": 0.001,\n",
    "}\n",
    "\n",
    "ENC_CONFIG = {\n",
    "    # TwoStepHash / TabMinHash / BloomFilter\n",
    "    \"AliceAlgo\": \"BloomFilter\",\n",
    "    \"AliceSecret\": \"SuperSecretSalt1337\",\n",
    "    \"AliceN\": 2,\n",
    "    \"AliceMetric\": \"dice\",\n",
    "    \"EveAlgo\": \"None\",\n",
    "    \"EveSecret\": \"ATotallyDifferentString42\",\n",
    "    \"EveN\": 2,\n",
    "    \"EveMetric\": \"dice\",\n",
    "    # For BF encoding\n",
    "    \"AliceBFLength\": 1024,\n",
    "    \"AliceBits\": 10,\n",
    "    \"AliceDiffuse\": False,\n",
    "    \"AliceT\": 10,\n",
    "    \"AliceEldLength\": 1024,\n",
    "    \"EveBFLength\": 1024,\n",
    "    \"EveBits\": 10,\n",
    "    \"EveDiffuse\": False,\n",
    "    \"EveT\": 10,\n",
    "    \"EveEldLength\": 1024,\n",
    "    # For TMH encoding\n",
    "    \"AliceNHash\": 1024,\n",
    "    \"AliceNHashBits\": 64,\n",
    "    \"AliceNSubKeys\": 8,\n",
    "    \"Alice1BitHash\": True,\n",
    "    \"EveNHash\": 1024,\n",
    "    \"EveNHashBits\": 64,\n",
    "    \"EveNSubKeys\": 8,\n",
    "    \"Eve1BitHash\": True,\n",
    "    # For 2SH encoding\n",
    "    \"AliceNHashFunc\": 10,\n",
    "    \"AliceNHashCol\": 1000,\n",
    "    \"AliceRandMode\": \"PNG\",\n",
    "    \"EveNHashFunc\": 10,\n",
    "    \"EveNHashCol\": 1000,\n",
    "    \"EveRandMode\": \"PNG\",\n",
    "}\n",
    "\n",
    "EMB_CONFIG = {\n",
    "    \"Algo\": \"Node2Vec\",\n",
    "    \"AliceQuantile\": 0.9,\n",
    "    \"AliceDiscretize\": False,\n",
    "    \"AliceDim\": 128,\n",
    "    \"AliceContext\": 10,\n",
    "    \"AliceNegative\": 1,\n",
    "    \"AliceNormalize\": True,\n",
    "    \"EveQuantile\": 0.9,\n",
    "    \"EveDiscretize\": False,\n",
    "    \"EveDim\": 128,\n",
    "    \"EveContext\": 10,\n",
    "    \"EveNegative\": 1,\n",
    "    \"EveNormalize\": True,\n",
    "    # For Node2Vec\n",
    "    \"AliceWalkLen\": 100,\n",
    "    \"AliceNWalks\": 20,\n",
    "    \"AliceP\": 250,\n",
    "    \"AliceQ\": 300,\n",
    "    \"AliceEpochs\": 5,\n",
    "    \"AliceSeed\": 42,\n",
    "    \"EveWalkLen\": 100,\n",
    "    \"EveNWalks\": 20,\n",
    "    \"EveP\": 250,\n",
    "    \"EveQ\": 300,\n",
    "    \"EveEpochs\": 5,\n",
    "    \"EveSeed\": 42\n",
    "}\n",
    "\n",
    "ALIGN_CONFIG = {\n",
    "    \"RegWS\": max(0.1, GLOBAL_CONFIG[\"Overlap\"]/2), #0005\n",
    "    \"RegInit\":1, # For BF 0.25\n",
    "    \"Batchsize\": 1, # 1 = 100%\n",
    "    \"LR\": 200.0,\n",
    "    \"NIterWS\": 100,\n",
    "    \"NIterInit\": 5 ,  # 800\n",
    "    \"NEpochWS\": 100,\n",
    "    \"LRDecay\": 1,\n",
    "    \"Sqrt\": True,\n",
    "    \"EarlyStopping\": 10,\n",
    "    \"Selection\": \"None\",\n",
    "    \"MaxLoad\": None,\n",
    "    \"Wasserstein\": True\n",
    "}"
   ]
  },
  {
   "cell_type": "code",
   "execution_count": 3,
   "metadata": {},
   "outputs": [
    {
     "name": "stdout",
     "output_type": "stream",
     "text": [
      "Loading previously saved attack results...\n"
     ]
    }
   ],
   "source": [
    "# Get unique hash identifiers for the encoding and embedding configurations\n",
    "eve_enc_hash, alice_enc_hash, eve_emb_hash, alice_emb_hash = get_hashes(GLOBAL_CONFIG, ENC_CONFIG, EMB_CONFIG)\n",
    "\n",
    "# Define file paths based on the configuration hashes\n",
    "path_reidentified = f\"./data/available_to_eve/reidentified_individuals_{eve_enc_hash}_{alice_enc_hash}_{eve_emb_hash}_{alice_emb_hash}.h5\"\n",
    "path_not_reidentified = f\"./data/available_to_eve/not_reidentified_individuals_{eve_enc_hash}_{alice_enc_hash}_{eve_emb_hash}_{alice_emb_hash}.h5\"\n",
    "path_all = f\"./data/dev/alice_data_complete_with_encoding_{eve_enc_hash}_{alice_enc_hash}_{eve_emb_hash}_{alice_emb_hash}.h5\"\n",
    "\n",
    "# Check if the output files already exist\n",
    "if os.path.isfile(path_reidentified) and os.path.isfile(path_not_reidentified) and os.path.isfile(path_all):\n",
    "    # Load previously saved attack results\n",
    "    print(\"Loading previously saved attack results...\")\n",
    "    reidentified_data = hkl.load(path_reidentified)\n",
    "    not_reidentified_data = hkl.load(path_not_reidentified)\n",
    "    all_data = hkl.load(path_all)\n",
    "\n",
    "else:\n",
    "    # Run Graph Matching Attack if files are not found\n",
    "    reidentified_data, not_reidentified_data, all_data = run_gma(\n",
    "        GLOBAL_CONFIG, ENC_CONFIG, EMB_CONFIG, ALIGN_CONFIG, DEA_CONFIG,\n",
    "        eve_enc_hash, alice_enc_hash, eve_emb_hash, alice_emb_hash\n",
    "    )\n",
    "\n",
    "# Convert lists to DataFrames\n",
    "df_reidentified = pd.DataFrame(reidentified_data[1:], columns=reidentified_data[0])\n",
    "df_not_reidentified = pd.DataFrame(not_reidentified_data[1:], columns=not_reidentified_data[0])\n",
    "df_all = pd.DataFrame(all_data[1:], columns=all_data[0])"
   ]
  },
  {
   "cell_type": "code",
   "execution_count": 4,
   "metadata": {},
   "outputs": [],
   "source": [
    "# --- Generate a dictionary of all possible 2-grams from letters and digits ---\n",
    "\n",
    "# Lowercase alphabet: 'a' to 'z'\n",
    "alphabet = string.ascii_lowercase\n",
    "\n",
    "# Digits: '0' to '9'\n",
    "digits = string.digits\n",
    "\n",
    "# Generate all letter-letter 2-grams (e.g., 'aa', 'ab', ..., 'zz')\n",
    "letter_letter_grams = [a + b for a in alphabet for b in alphabet]\n",
    "\n",
    "# Generate all digit-digit 2-grams (e.g., '00', '01', ..., '99')\n",
    "digit_digit_grams = [d1 + d2 for d1 in digits for d2 in digits]\n",
    "\n",
    "# Generate all letter-digit 2-grams (e.g., 'a0', 'a1', ..., 'z9')\n",
    "letter_digit_grams = [l + d for l in alphabet for d in digits]\n",
    "\n",
    "# Combine all generated 2-grams into one list\n",
    "all_two_grams = letter_letter_grams + letter_digit_grams + digit_digit_grams\n",
    "\n",
    "# Create a dictionary mapping index to each 2-gram\n",
    "two_gram_dict = {i: two_gram for i, two_gram in enumerate(all_two_grams)}"
   ]
  },
  {
   "cell_type": "code",
   "execution_count": 5,
   "metadata": {},
   "outputs": [],
   "source": [
    "# 1️ Bloom Filter Encoding\n",
    "if ENC_CONFIG[\"AliceAlgo\"] == \"BloomFilter\":\n",
    "    data_labeled = BloomFilterDatasetReversed(\n",
    "        df_reidentified,\n",
    "        is_labeled=True,\n",
    "        all_two_grams=all_two_grams,\n",
    "    )\n",
    "    data_not_labeled = BloomFilterDatasetReversed(\n",
    "        df_not_reidentified,\n",
    "        is_labeled=False,\n",
    "        all_two_grams=all_two_grams,\n",
    "    )\n",
    "    bloomfilter_length = len(df_reidentified[\"bloomfilter\"][0])\n",
    "\n",
    "# 2️ Tabulation MinHash Encoding\n",
    "elif ENC_CONFIG[\"AliceAlgo\"] == \"TabMinHash\":\n",
    "    data_labeled = TabMinHashDataset(\n",
    "        df_reidentified,\n",
    "        is_labeled=True,\n",
    "        all_two_grams=all_two_grams,\n",
    "        dev_mode=GLOBAL_CONFIG[\"DevMode\"]\n",
    "    )\n",
    "    data_not_labeled = TabMinHashDataset(\n",
    "        df_not_reidentified,\n",
    "        is_labeled=False,\n",
    "        all_two_grams=all_two_grams,\n",
    "        dev_mode=GLOBAL_CONFIG[\"DevMode\"]\n",
    "    )\n",
    "    tabminhash_length = len(df_reidentified[\"tabminhash\"][0])\n",
    "\n",
    "# 3 Two-Step Hash Encoding (One-Hot Encoding Mode)\n",
    "elif ENC_CONFIG[\"AliceAlgo\"] == \"TwoStepHash\":\n",
    "    # Collect all unique integers across both reidentified and non-reidentified data\n",
    "    unique_ints_reid = set().union(*df_reidentified[\"twostephash\"])\n",
    "    unique_ints_not_reid = set().union(*df_not_reidentified[\"twostephash\"])\n",
    "    unique_ints_sorted = sorted(unique_ints_reid.union(unique_ints_not_reid))\n",
    "    unique_integers_dict = {i: val for i, val in enumerate(unique_ints_sorted)}\n",
    "\n",
    "    data_labeled = TwoStepHashDataset(\n",
    "        df_reidentified,\n",
    "        is_labeled=True,\n",
    "        all_integers=unique_ints_sorted,\n",
    "        all_two_grams=all_two_grams,\n",
    "        dev_mode=GLOBAL_CONFIG[\"DevMode\"]\n",
    "    )\n",
    "    data_not_labeled = TwoStepHashDataset(\n",
    "        df_not_reidentified,\n",
    "        is_labeled=False,\n",
    "        all_integers=unique_ints_sorted,\n",
    "        all_two_grams=all_two_grams,\n",
    "        dev_mode=GLOBAL_CONFIG[\"DevMode\"]\n",
    "    )"
   ]
  },
  {
   "cell_type": "code",
   "execution_count": 6,
   "metadata": {},
   "outputs": [],
   "source": [
    "# Define dataset split proportions\n",
    "train_size = int(DEA_CONFIG[\"TrainSize\"] * len(data_labeled))\n",
    "val_size = len(data_labeled) - train_size\n",
    "\n",
    "# Split the reidentified dataset into training and validation sets\n",
    "data_train, data_val = random_split(data_labeled, [train_size, val_size])\n",
    "\n",
    "# Create DataLoaders for training, validation, and testing\n",
    "dataloader_train = DataLoader(\n",
    "    data_train,\n",
    "    batch_size=DEA_CONFIG[\"BatchSize\"],\n",
    "    shuffle=True  # Important for training\n",
    ")\n",
    "\n",
    "dataloader_val = DataLoader(\n",
    "    data_val,\n",
    "    batch_size=DEA_CONFIG[\"BatchSize\"],\n",
    "    shuffle=True  # Allows variation in validation batches\n",
    ")\n",
    "\n",
    "dataloader_test = DataLoader(\n",
    "    data_not_labeled,\n",
    "    batch_size=DEA_CONFIG[\"BatchSize\"],\n",
    "    shuffle=True\n",
    ")"
   ]
  },
  {
   "cell_type": "code",
   "execution_count": 7,
   "metadata": {},
   "outputs": [],
   "source": [
    "# Instantiate model based on selected encoding scheme\n",
    "if ENC_CONFIG[\"AliceAlgo\"] == \"BloomFilter\":\n",
    "    model = BloomFilterToTwoGramClassifier(\n",
    "        input_dim=len(all_two_grams),\n",
    "        output_dim=bloomfilter_length\n",
    "    )\n",
    "\n",
    "elif ENC_CONFIG[\"AliceAlgo\"] == \"TabMinHash\":\n",
    "    model = TabMinHashToTwoGramClassifier(\n",
    "        input_dim=len(all_two_grams),\n",
    "        output_dim=tabminhash_length\n",
    "    )\n",
    "\n",
    "elif ENC_CONFIG[\"AliceAlgo\"] == \"TwoStepHash\":\n",
    "    model = TabMinHashToTwoGramClassifier(\n",
    "        input_dim=len(all_two_grams),\n",
    "        output_dim=len(unique_ints_sorted)\n",
    "    )"
   ]
  },
  {
   "cell_type": "code",
   "execution_count": 8,
   "metadata": {},
   "outputs": [],
   "source": [
    "# Setup tensorboard logging\n",
    "run_name = \"\".join([\n",
    "    DEA_CONFIG[\"LossFunction:\"],\n",
    "    DEA_CONFIG[\"Optimizer\"],\n",
    "    ENC_CONFIG[\"AliceAlgo\"],\n",
    "])\n",
    "tb_writer = SummaryWriter(f\"runs/{run_name}\")\n",
    "\n",
    "# Setup compute device (GPU/CPU)\n",
    "compute_device = torch.device(\"cuda:0\" if torch.cuda.is_available() else \"cpu\")\n",
    "model.to(compute_device)\n",
    "\n",
    "# Initialize loss function\n",
    "match DEA_CONFIG[\"LossFunction:\"]:\n",
    "    case \"BCEWithLogitsLoss\":\n",
    "        criterion = nn.BCEWithLogitsLoss(reduction='mean')\n",
    "    case \"MultiLabelSoftMarginLoss\":\n",
    "        criterion = nn.MultiLabelSoftMarginLoss(reduction='mean')\n",
    "    case _:\n",
    "        raise ValueError(f\"Unsupported loss function: {DEA_CONFIG['LossFunction:']}\")\n",
    "\n",
    "# Initialize optimizer\n",
    "match DEA_CONFIG[\"Optimizer\"]:\n",
    "    case \"Adam\":\n",
    "        optimizer = optim.Adam(model.parameters(), lr=DEA_CONFIG[\"LearningRate\"])\n",
    "    case \"AdamW\":\n",
    "        optimizer = optim.AdamW(model.parameters(), lr=DEA_CONFIG[\"LearningRate\"])\n",
    "    case \"SGD\":\n",
    "        optimizer = optim.SGD(model.parameters(),\n",
    "                            lr=DEA_CONFIG[\"LearningRate\"],\n",
    "                            momentum=DEA_CONFIG[\"Momentum\"])\n",
    "    case \"RMSprop\":\n",
    "        optimizer = optim.RMSprop(model.parameters(), lr=DEA_CONFIG[\"LearningRate\"])\n",
    "    case _:\n",
    "        raise ValueError(f\"Unsupported optimizer: {DEA_CONFIG['Optimizer']}\")"
   ]
  },
  {
   "cell_type": "code",
   "execution_count": 9,
   "metadata": {},
   "outputs": [
    {
     "data": {
      "application/vnd.jupyter.widget-view+json": {
       "model_id": "c3f9bee4f2644159a5029aa97f3abae3",
       "version_major": 2,
       "version_minor": 0
      },
      "text/plain": [
       "Training:   0%|          | 0/40 [00:00<?, ?it/s]"
      ]
     },
     "metadata": {},
     "output_type": "display_data"
    },
    {
     "data": {
      "application/vnd.jupyter.widget-view+json": {
       "model_id": "242a354fd9d344e29a4756ecf725af8d",
       "version_major": 2,
       "version_minor": 0
      },
      "text/plain": [
       "Validation:   0%|          | 0/10 [00:00<?, ?it/s]"
      ]
     },
     "metadata": {},
     "output_type": "display_data"
    },
    {
     "name": "stdout",
     "output_type": "stream",
     "text": [
      "Epoch 1/20 - Train loss: 0.4828, Validation loss: 0.4166\n",
      "best_loss updated from  inf  to  0.4166346251964569\n"
     ]
    },
    {
     "data": {
      "application/vnd.jupyter.widget-view+json": {
       "model_id": "1a97c54bb2da4a059fe6ec19d6493b9b",
       "version_major": 2,
       "version_minor": 0
      },
      "text/plain": [
       "Training:   0%|          | 0/40 [00:00<?, ?it/s]"
      ]
     },
     "metadata": {},
     "output_type": "display_data"
    },
    {
     "data": {
      "application/vnd.jupyter.widget-view+json": {
       "model_id": "838e0ce304ad479f8ab07d9277309549",
       "version_major": 2,
       "version_minor": 0
      },
      "text/plain": [
       "Validation:   0%|          | 0/10 [00:00<?, ?it/s]"
      ]
     },
     "metadata": {},
     "output_type": "display_data"
    },
    {
     "name": "stdout",
     "output_type": "stream",
     "text": [
      "Epoch 2/20 - Train loss: 0.4137, Validation loss: 0.4106\n",
      "best_loss updated from  0.4166346251964569  to  0.41062030494213103\n"
     ]
    },
    {
     "data": {
      "application/vnd.jupyter.widget-view+json": {
       "model_id": "afcd8c7d9bef430aaebf3c10d5aebefd",
       "version_major": 2,
       "version_minor": 0
      },
      "text/plain": [
       "Training:   0%|          | 0/40 [00:00<?, ?it/s]"
      ]
     },
     "metadata": {},
     "output_type": "display_data"
    },
    {
     "data": {
      "application/vnd.jupyter.widget-view+json": {
       "model_id": "8d273f4b535e4c84b887a08f5a0f2d80",
       "version_major": 2,
       "version_minor": 0
      },
      "text/plain": [
       "Validation:   0%|          | 0/10 [00:00<?, ?it/s]"
      ]
     },
     "metadata": {},
     "output_type": "display_data"
    },
    {
     "name": "stdout",
     "output_type": "stream",
     "text": [
      "Epoch 3/20 - Train loss: 0.4093, Validation loss: 0.4080\n",
      "best_loss updated from  0.41062030494213103  to  0.4080361187458038\n"
     ]
    },
    {
     "data": {
      "application/vnd.jupyter.widget-view+json": {
       "model_id": "921d3e85fb344119a616951c216097e7",
       "version_major": 2,
       "version_minor": 0
      },
      "text/plain": [
       "Training:   0%|          | 0/40 [00:00<?, ?it/s]"
      ]
     },
     "metadata": {},
     "output_type": "display_data"
    },
    {
     "data": {
      "application/vnd.jupyter.widget-view+json": {
       "model_id": "5fd7ac414bea4fd8b1b0413935778255",
       "version_major": 2,
       "version_minor": 0
      },
      "text/plain": [
       "Validation:   0%|          | 0/10 [00:00<?, ?it/s]"
      ]
     },
     "metadata": {},
     "output_type": "display_data"
    },
    {
     "name": "stdout",
     "output_type": "stream",
     "text": [
      "Epoch 4/20 - Train loss: 0.4049, Validation loss: 0.4032\n",
      "best_loss updated from  0.4080361187458038  to  0.4032308131456375\n"
     ]
    },
    {
     "data": {
      "application/vnd.jupyter.widget-view+json": {
       "model_id": "3e800a721b944e8f95fc993f03d4ac03",
       "version_major": 2,
       "version_minor": 0
      },
      "text/plain": [
       "Training:   0%|          | 0/40 [00:00<?, ?it/s]"
      ]
     },
     "metadata": {},
     "output_type": "display_data"
    },
    {
     "data": {
      "application/vnd.jupyter.widget-view+json": {
       "model_id": "a4a308ef34f44cef8e50441b7c66abe4",
       "version_major": 2,
       "version_minor": 0
      },
      "text/plain": [
       "Validation:   0%|          | 0/10 [00:00<?, ?it/s]"
      ]
     },
     "metadata": {},
     "output_type": "display_data"
    },
    {
     "name": "stdout",
     "output_type": "stream",
     "text": [
      "Epoch 5/20 - Train loss: 0.3941, Validation loss: 0.3902\n",
      "best_loss updated from  0.4032308131456375  to  0.390218111872673\n"
     ]
    },
    {
     "data": {
      "application/vnd.jupyter.widget-view+json": {
       "model_id": "2d615b0522ca43adae8d6caeed07f62e",
       "version_major": 2,
       "version_minor": 0
      },
      "text/plain": [
       "Training:   0%|          | 0/40 [00:00<?, ?it/s]"
      ]
     },
     "metadata": {},
     "output_type": "display_data"
    },
    {
     "data": {
      "application/vnd.jupyter.widget-view+json": {
       "model_id": "cff95830f317455980afb2450b1d2219",
       "version_major": 2,
       "version_minor": 0
      },
      "text/plain": [
       "Validation:   0%|          | 0/10 [00:00<?, ?it/s]"
      ]
     },
     "metadata": {},
     "output_type": "display_data"
    },
    {
     "name": "stdout",
     "output_type": "stream",
     "text": [
      "Epoch 6/20 - Train loss: 0.3699, Validation loss: 0.3703\n",
      "best_loss updated from  0.390218111872673  to  0.3702801465988159\n"
     ]
    },
    {
     "data": {
      "application/vnd.jupyter.widget-view+json": {
       "model_id": "d119224b06f446169546b28a065fa311",
       "version_major": 2,
       "version_minor": 0
      },
      "text/plain": [
       "Training:   0%|          | 0/40 [00:00<?, ?it/s]"
      ]
     },
     "metadata": {},
     "output_type": "display_data"
    },
    {
     "data": {
      "application/vnd.jupyter.widget-view+json": {
       "model_id": "8fef64b82f2848ea8363e9901808587a",
       "version_major": 2,
       "version_minor": 0
      },
      "text/plain": [
       "Validation:   0%|          | 0/10 [00:00<?, ?it/s]"
      ]
     },
     "metadata": {},
     "output_type": "display_data"
    },
    {
     "name": "stdout",
     "output_type": "stream",
     "text": [
      "Epoch 7/20 - Train loss: 0.3442, Validation loss: 0.3540\n",
      "best_loss updated from  0.3702801465988159  to  0.3540319502353668\n"
     ]
    },
    {
     "data": {
      "application/vnd.jupyter.widget-view+json": {
       "model_id": "54e270212fcc4b5baa262cb45eb68e25",
       "version_major": 2,
       "version_minor": 0
      },
      "text/plain": [
       "Training:   0%|          | 0/40 [00:00<?, ?it/s]"
      ]
     },
     "metadata": {},
     "output_type": "display_data"
    },
    {
     "data": {
      "application/vnd.jupyter.widget-view+json": {
       "model_id": "d699e116be234409800a27802509f853",
       "version_major": 2,
       "version_minor": 0
      },
      "text/plain": [
       "Validation:   0%|          | 0/10 [00:00<?, ?it/s]"
      ]
     },
     "metadata": {},
     "output_type": "display_data"
    },
    {
     "name": "stdout",
     "output_type": "stream",
     "text": [
      "Epoch 8/20 - Train loss: 0.3216, Validation loss: 0.3398\n",
      "best_loss updated from  0.3540319502353668  to  0.33982694447040557\n"
     ]
    },
    {
     "data": {
      "application/vnd.jupyter.widget-view+json": {
       "model_id": "e03fb7d5661b44ef9612095fec842e46",
       "version_major": 2,
       "version_minor": 0
      },
      "text/plain": [
       "Training:   0%|          | 0/40 [00:00<?, ?it/s]"
      ]
     },
     "metadata": {},
     "output_type": "display_data"
    },
    {
     "data": {
      "application/vnd.jupyter.widget-view+json": {
       "model_id": "95dd8d3b30e74f8d87e1169d7c806249",
       "version_major": 2,
       "version_minor": 0
      },
      "text/plain": [
       "Validation:   0%|          | 0/10 [00:00<?, ?it/s]"
      ]
     },
     "metadata": {},
     "output_type": "display_data"
    },
    {
     "name": "stdout",
     "output_type": "stream",
     "text": [
      "Epoch 9/20 - Train loss: 0.3020, Validation loss: 0.3298\n",
      "best_loss updated from  0.33982694447040557  to  0.32977530658245086\n"
     ]
    },
    {
     "data": {
      "application/vnd.jupyter.widget-view+json": {
       "model_id": "2e6e69f2b13b40c4a26837cf17d98ffc",
       "version_major": 2,
       "version_minor": 0
      },
      "text/plain": [
       "Training:   0%|          | 0/40 [00:00<?, ?it/s]"
      ]
     },
     "metadata": {},
     "output_type": "display_data"
    },
    {
     "data": {
      "application/vnd.jupyter.widget-view+json": {
       "model_id": "74ee60d6e0cc4bdaa4f6afdd2b63d3c3",
       "version_major": 2,
       "version_minor": 0
      },
      "text/plain": [
       "Validation:   0%|          | 0/10 [00:00<?, ?it/s]"
      ]
     },
     "metadata": {},
     "output_type": "display_data"
    },
    {
     "name": "stdout",
     "output_type": "stream",
     "text": [
      "Epoch 10/20 - Train loss: 0.2860, Validation loss: 0.3206\n",
      "best_loss updated from  0.32977530658245086  to  0.32061841487884524\n"
     ]
    },
    {
     "data": {
      "application/vnd.jupyter.widget-view+json": {
       "model_id": "c5b26e2ec6ca47b3b6017a597132c294",
       "version_major": 2,
       "version_minor": 0
      },
      "text/plain": [
       "Training:   0%|          | 0/40 [00:00<?, ?it/s]"
      ]
     },
     "metadata": {},
     "output_type": "display_data"
    },
    {
     "data": {
      "application/vnd.jupyter.widget-view+json": {
       "model_id": "697371df08d843fe99f9057d40fb453c",
       "version_major": 2,
       "version_minor": 0
      },
      "text/plain": [
       "Validation:   0%|          | 0/10 [00:00<?, ?it/s]"
      ]
     },
     "metadata": {},
     "output_type": "display_data"
    },
    {
     "name": "stdout",
     "output_type": "stream",
     "text": [
      "Epoch 11/20 - Train loss: 0.2708, Validation loss: 0.3144\n",
      "best_loss updated from  0.32061841487884524  to  0.31437515616416933\n"
     ]
    },
    {
     "data": {
      "application/vnd.jupyter.widget-view+json": {
       "model_id": "d3b25b5925104c3b9716977aecb889d9",
       "version_major": 2,
       "version_minor": 0
      },
      "text/plain": [
       "Training:   0%|          | 0/40 [00:00<?, ?it/s]"
      ]
     },
     "metadata": {},
     "output_type": "display_data"
    },
    {
     "data": {
      "application/vnd.jupyter.widget-view+json": {
       "model_id": "2b4e6436bf934838b42ea11b516cf1ba",
       "version_major": 2,
       "version_minor": 0
      },
      "text/plain": [
       "Validation:   0%|          | 0/10 [00:00<?, ?it/s]"
      ]
     },
     "metadata": {},
     "output_type": "display_data"
    },
    {
     "name": "stdout",
     "output_type": "stream",
     "text": [
      "Epoch 12/20 - Train loss: 0.2576, Validation loss: 0.3076\n",
      "best_loss updated from  0.31437515616416933  to  0.3075788408517838\n"
     ]
    },
    {
     "data": {
      "application/vnd.jupyter.widget-view+json": {
       "model_id": "6c1193e59996466f955ce630e900424f",
       "version_major": 2,
       "version_minor": 0
      },
      "text/plain": [
       "Training:   0%|          | 0/40 [00:00<?, ?it/s]"
      ]
     },
     "metadata": {},
     "output_type": "display_data"
    },
    {
     "data": {
      "application/vnd.jupyter.widget-view+json": {
       "model_id": "b44eb908223d497a949e1221587c9bd3",
       "version_major": 2,
       "version_minor": 0
      },
      "text/plain": [
       "Validation:   0%|          | 0/10 [00:00<?, ?it/s]"
      ]
     },
     "metadata": {},
     "output_type": "display_data"
    },
    {
     "name": "stdout",
     "output_type": "stream",
     "text": [
      "Epoch 13/20 - Train loss: 0.2462, Validation loss: 0.3018\n",
      "best_loss updated from  0.3075788408517838  to  0.30183480083942416\n"
     ]
    },
    {
     "data": {
      "application/vnd.jupyter.widget-view+json": {
       "model_id": "a856c7cd1ed148ccb50dfb83d923c6fc",
       "version_major": 2,
       "version_minor": 0
      },
      "text/plain": [
       "Training:   0%|          | 0/40 [00:00<?, ?it/s]"
      ]
     },
     "metadata": {},
     "output_type": "display_data"
    },
    {
     "data": {
      "application/vnd.jupyter.widget-view+json": {
       "model_id": "a2fc3a001ec14395b7e28880772aadef",
       "version_major": 2,
       "version_minor": 0
      },
      "text/plain": [
       "Validation:   0%|          | 0/10 [00:00<?, ?it/s]"
      ]
     },
     "metadata": {},
     "output_type": "display_data"
    },
    {
     "name": "stdout",
     "output_type": "stream",
     "text": [
      "Epoch 14/20 - Train loss: 0.2341, Validation loss: 0.2965\n",
      "best_loss updated from  0.30183480083942416  to  0.29648575484752654\n"
     ]
    },
    {
     "data": {
      "application/vnd.jupyter.widget-view+json": {
       "model_id": "7f529f70d84148ab985143ae196bea2b",
       "version_major": 2,
       "version_minor": 0
      },
      "text/plain": [
       "Training:   0%|          | 0/40 [00:00<?, ?it/s]"
      ]
     },
     "metadata": {},
     "output_type": "display_data"
    },
    {
     "data": {
      "application/vnd.jupyter.widget-view+json": {
       "model_id": "822126aa0a9f472d9d293b1c00b026c7",
       "version_major": 2,
       "version_minor": 0
      },
      "text/plain": [
       "Validation:   0%|          | 0/10 [00:00<?, ?it/s]"
      ]
     },
     "metadata": {},
     "output_type": "display_data"
    },
    {
     "name": "stdout",
     "output_type": "stream",
     "text": [
      "Epoch 15/20 - Train loss: 0.2243, Validation loss: 0.2929\n",
      "best_loss updated from  0.29648575484752654  to  0.2929284512996674\n"
     ]
    },
    {
     "data": {
      "application/vnd.jupyter.widget-view+json": {
       "model_id": "d460b3cc2e434b2391656e9ae5a142cb",
       "version_major": 2,
       "version_minor": 0
      },
      "text/plain": [
       "Training:   0%|          | 0/40 [00:00<?, ?it/s]"
      ]
     },
     "metadata": {},
     "output_type": "display_data"
    },
    {
     "data": {
      "application/vnd.jupyter.widget-view+json": {
       "model_id": "9058532253ff4e7f888a8fb80b911412",
       "version_major": 2,
       "version_minor": 0
      },
      "text/plain": [
       "Validation:   0%|          | 0/10 [00:00<?, ?it/s]"
      ]
     },
     "metadata": {},
     "output_type": "display_data"
    },
    {
     "name": "stdout",
     "output_type": "stream",
     "text": [
      "Epoch 16/20 - Train loss: 0.2137, Validation loss: 0.2889\n",
      "best_loss updated from  0.2929284512996674  to  0.28894869685173036\n"
     ]
    },
    {
     "data": {
      "application/vnd.jupyter.widget-view+json": {
       "model_id": "c0c2084e5c1741cc89dadb3fb16afc27",
       "version_major": 2,
       "version_minor": 0
      },
      "text/plain": [
       "Training:   0%|          | 0/40 [00:00<?, ?it/s]"
      ]
     },
     "metadata": {},
     "output_type": "display_data"
    },
    {
     "data": {
      "application/vnd.jupyter.widget-view+json": {
       "model_id": "406c6f3f81014dbbb926477d8be2678f",
       "version_major": 2,
       "version_minor": 0
      },
      "text/plain": [
       "Validation:   0%|          | 0/10 [00:00<?, ?it/s]"
      ]
     },
     "metadata": {},
     "output_type": "display_data"
    },
    {
     "name": "stdout",
     "output_type": "stream",
     "text": [
      "Epoch 17/20 - Train loss: 0.2057, Validation loss: 0.2853\n",
      "best_loss updated from  0.28894869685173036  to  0.2852890074253082\n"
     ]
    },
    {
     "data": {
      "application/vnd.jupyter.widget-view+json": {
       "model_id": "b3f02f85a95e4999a820527ecff49954",
       "version_major": 2,
       "version_minor": 0
      },
      "text/plain": [
       "Training:   0%|          | 0/40 [00:00<?, ?it/s]"
      ]
     },
     "metadata": {},
     "output_type": "display_data"
    },
    {
     "data": {
      "application/vnd.jupyter.widget-view+json": {
       "model_id": "3d1684912fa4477aa2e07e593d0a98b3",
       "version_major": 2,
       "version_minor": 0
      },
      "text/plain": [
       "Validation:   0%|          | 0/10 [00:00<?, ?it/s]"
      ]
     },
     "metadata": {},
     "output_type": "display_data"
    },
    {
     "name": "stdout",
     "output_type": "stream",
     "text": [
      "Epoch 18/20 - Train loss: 0.1968, Validation loss: 0.2827\n",
      "best_loss updated from  0.2852890074253082  to  0.2826510727405548\n"
     ]
    },
    {
     "data": {
      "application/vnd.jupyter.widget-view+json": {
       "model_id": "6ba66ce5162441cbb57201b9d1d76021",
       "version_major": 2,
       "version_minor": 0
      },
      "text/plain": [
       "Training:   0%|          | 0/40 [00:00<?, ?it/s]"
      ]
     },
     "metadata": {},
     "output_type": "display_data"
    },
    {
     "data": {
      "application/vnd.jupyter.widget-view+json": {
       "model_id": "db663e73e737495a9fd589d4e0d22f3f",
       "version_major": 2,
       "version_minor": 0
      },
      "text/plain": [
       "Validation:   0%|          | 0/10 [00:00<?, ?it/s]"
      ]
     },
     "metadata": {},
     "output_type": "display_data"
    },
    {
     "name": "stdout",
     "output_type": "stream",
     "text": [
      "Epoch 19/20 - Train loss: 0.1883, Validation loss: 0.2798\n",
      "best_loss updated from  0.2826510727405548  to  0.2798235833644867\n"
     ]
    },
    {
     "data": {
      "application/vnd.jupyter.widget-view+json": {
       "model_id": "81e235ef2f0540a594f56d3c7629875a",
       "version_major": 2,
       "version_minor": 0
      },
      "text/plain": [
       "Training:   0%|          | 0/40 [00:00<?, ?it/s]"
      ]
     },
     "metadata": {},
     "output_type": "display_data"
    },
    {
     "data": {
      "application/vnd.jupyter.widget-view+json": {
       "model_id": "66551081157a4d778e437a1814f84acc",
       "version_major": 2,
       "version_minor": 0
      },
      "text/plain": [
       "Validation:   0%|          | 0/10 [00:00<?, ?it/s]"
      ]
     },
     "metadata": {},
     "output_type": "display_data"
    },
    {
     "name": "stdout",
     "output_type": "stream",
     "text": [
      "Epoch 20/20 - Train loss: 0.1820, Validation loss: 0.2770\n",
      "best_loss updated from  0.2798235833644867  to  0.2770300775766373\n"
     ]
    }
   ],
   "source": [
    "def train_model(model, dataloader_train, dataloader_val, criterion, optimizer, device):\n",
    "    train_losses, val_losses = [], []\n",
    "    early_stopper = EarlyStopping(patience=DEA_CONFIG[\"Patience\"], min_delta=DEA_CONFIG[\"MinDelta\"])\n",
    "\n",
    "    for epoch in range(DEA_CONFIG[\"Epochs\"]):\n",
    "        # Training phase\n",
    "        model.train()\n",
    "        train_loss = run_epoch(\n",
    "            model, dataloader_train, criterion, optimizer,\n",
    "            device, is_training=True\n",
    "        )\n",
    "        train_losses.append(train_loss)\n",
    "\n",
    "        # Validation phase\n",
    "        model.eval()\n",
    "        val_loss = run_epoch(\n",
    "            model, dataloader_val, criterion, optimizer,\n",
    "            device, is_training=False\n",
    "        )\n",
    "        val_losses.append(val_loss)\n",
    "\n",
    "        # Logging\n",
    "        log_metrics(train_loss, val_loss, epoch, DEA_CONFIG[\"Epochs\"])\n",
    "\n",
    "        # Early stopping check\n",
    "        if early_stopper(val_loss):\n",
    "            print(f\"Early stopping triggered at epoch {epoch + 1}\")\n",
    "            break\n",
    "\n",
    "    return train_losses, val_losses\n",
    "\n",
    "def run_epoch(model, dataloader, criterion, optimizer, device, is_training):\n",
    "    running_loss = 0.0\n",
    "    with torch.set_grad_enabled(is_training):\n",
    "        for data, labels, _ in tqdm(dataloader,\n",
    "                                  desc=\"Training\" if is_training else \"Validation\"):\n",
    "            data, labels = data.to(device), labels.to(device)\n",
    "\n",
    "            if is_training:\n",
    "                optimizer.zero_grad()\n",
    "\n",
    "            outputs = model(data)\n",
    "            loss = criterion(outputs, labels)\n",
    "\n",
    "            if is_training:\n",
    "                loss.backward()\n",
    "                optimizer.step()\n",
    "\n",
    "            running_loss += loss.item() * labels.size(0)\n",
    "\n",
    "    return running_loss / len(dataloader.dataset)\n",
    "\n",
    "def log_metrics(train_loss, val_loss, epoch, total_epochs):\n",
    "    print(f\"Epoch {epoch + 1}/{total_epochs} - \"\n",
    "          f\"Train loss: {train_loss:.4f}, \"\n",
    "          f\"Validation loss: {val_loss:.4f}\")\n",
    "    tb_writer.add_scalar(\"Loss/train\", train_loss, epoch + 1)\n",
    "    tb_writer.add_scalar(\"Loss/validation\", val_loss, epoch + 1)\n",
    "\n",
    "train_losses, val_losses = train_model(\n",
    "    model, dataloader_train, dataloader_val,\n",
    "    criterion, optimizer, compute_device\n",
    "    )"
   ]
  },
  {
   "cell_type": "code",
   "execution_count": 10,
   "metadata": {},
   "outputs": [
    {
     "data": {
      "image/png": "[encoded data removed]",
      "text/plain": [
       "<Figure size 640x480 with 1 Axes>"
      ]
     },
     "metadata": {},
     "output_type": "display_data"
    }
   ],
   "source": [
    "# Plot the training and validation losses over epochs\n",
    "plt.plot(train_losses, label='Training loss', color='blue')\n",
    "plt.plot(val_losses, label='Validation loss', color='red')\n",
    "\n",
    "# Adding a legend to the plot\n",
    "plt.legend()\n",
    "\n",
    "# Setting the title and labels for clarity\n",
    "plt.title(\"Training and Validation Loss over Epochs\")\n",
    "plt.xlabel(\"Epochs\")\n",
    "plt.ylabel(\"Loss\")\n",
    "\n",
    "# Show the plot\n",
    "plt.show()"
   ]
  },
  {
   "cell_type": "code",
   "execution_count": 11,
   "metadata": {},
   "outputs": [
    {
     "data": {
      "application/vnd.jupyter.widget-view+json": {
       "model_id": "43bfe1f23a2b4e588250f308cc0e250f",
       "version_major": 2,
       "version_minor": 0
      },
      "text/plain": [
       "Test loop:   0%|          | 0/13 [00:00<?, ?it/s]"
      ]
     },
     "metadata": {},
     "output_type": "display_data"
    },
    {
     "name": "stdout",
     "output_type": "stream",
     "text": [
      "[{'uid': '72100', 'actual_two_grams': ['he', 'er', 'rm', 'ma', 'an', 'nz', 'zi', 'ie', 'em', 'me', 'er', 'r3', '33', '31', '19', '95', '52'], 'predicted_two_grams': {'io', 'pb', 'w9', 'ne', 'w7', 'wd', 'cj', '29', 'f8', 'tj', 'mf', 'p1', 'fx', 'p4', 'cd', 'mi', 's9', 'hb', 'ug', 'p2', 'p8', 'sw', 'k8', 'ld', 'dq', 'k1', 'xa', 'f9', 'l5', 'eg', 'r9', '35', 'bo', 'g9', 'i3'}, 'dice_similarity': 0.0}, {'uid': '87747', 'actual_two_grams': ['ja', 'ac', 'ck', 'ki', 'ie', 'eg', 'gr', 're', 'ee', 'en', 'nb', 'ba', 'au', 'um', 'm1', '10', '01', '15', '51', '19', '99', '94'], 'predicted_two_grams': {'io', 'pb', 'w9', 'ne', 'w7', 'wd', 'cj', '29', 'f8', 'tj', 'mf', 'p1', 'fx', 'p4', 'cd', 'mi', 's9', 'hb', 'ug', 'p2', 'p8', 'sw', 'k8', 'ld', 'dq', 'k1', 'xa', 'f9', 'l5', 'eg', 'r9', '35', 'bo', 'g9', 'i3'}, 'dice_similarity': 0.0351}, {'uid': '31833', 'actual_two_grams': ['li', 'il', 'll', 'li', 'ia', 'an', 'na', 'al', 'll', 'le', 'en', 'n8', '82', '23', '31', '19', '93', '39'], 'predicted_two_grams': {'io', 'pb', 'w9', 'ne', 'w7', 'wd', 'cj', '29', 'f8', 'tj', 'mf', 'p1', 'fx', 'p4', 'cd', 'mi', 's9', 'hb', 'ug', 'p2', 'p8', 'sw', 'k8', 'ld', 'dq', 'k1', 'xa', 'f9', 'l5', 'eg', 'r9', '35', 'bo', 'g9', 'i3'}, 'dice_similarity': 0.0}, {'uid': '92248', 'actual_two_grams': ['da', 'av', 'vi', 'id', 'dr', 'ri', 'ic', 'ch', 'ha', 'ar', 'rd', 'ds', 'so', 'on', 'n5', '52', '23', '31', '19', '97', '75'], 'predicted_two_grams': {'io', 'pb', 'w9', 'ne', 'w7', 'wd', 'cj', '29', 'f8', 'tj', 'mf', 'p1', 'fx', 'p4', 'cd', 'mi', 's9', 'hb', 'ug', 'p2', 'p8', 'sw', 'k8', 'ld', 'dq', 'k1', 'xa', 'f9', 'l5', 'eg', 'r9', '35', 'bo', 'g9', 'i3'}, 'dice_similarity': 0.0}, {'uid': '75074', 'actual_two_grams': ['ed', 'dn', 'na', 'ag', 'gr', 'ra', 'av', 've', 'es', 's4', '41', '15', '51', '19', '93', '37'], 'predicted_two_grams': {'io', 'pb', 'w9', 'ne', 'w7', 'wd', 'cj', '29', 'f8', 'tj', 'mf', 'p1', 'fx', 'p4', 'cd', 'mi', 's9', 'hb', 'ug', 'p2', 'p8', 'sw', 'k8', 'ld', 'dq', 'k1', 'xa', 'f9', 'l5', 'eg', 'r9', '35', 'bo', 'g9', 'i3'}, 'dice_similarity': 0.0}, {'uid': '63775', 'actual_two_grams': ['an', 'nt', 'th', 'ho', 'on', 'ny', 'yo', 'ov', 've', 'er', 'rt', 'to', 'on', 'n9', '93', '31', '19', '95', '58'], 'predicted_two_grams': {'io', 'pb', 'w9', 'ne', 'w7', 'wd', 'cj', '29', 'f8', 'tj', 'mf', 'p1', 'fx', 'p4', 'cd', 'mi', 's9', 'hb', 'ug', 'p2', 'p8', 'sw', 'k8', 'ld', 'dq', 'k1', 'xa', 'f9', 'l5', 'eg', 'r9', '35', 'bo', 'g9', 'i3'}, 'dice_similarity': 0.0}, {'uid': '25966', 'actual_two_grams': ['ca', 'ar', 'rl', 'lg', 'go', 'on', 'nz', 'za', 'al', 'le', 'ez', 'z4', '41', '18', '81', '19', '98', '81'], 'predicted_two_grams': {'io', 'pb', 'w9', 'ne', 'w7', 'wd', 'cj', '29', 'f8', 'tj', 'mf', 'p1', 'fx', 'p4', 'cd', 'mi', 's9', 'hb', 'ug', 'p2', 'p8', 'sw', 'k8', 'ld', 'dq', 'k1', 'xa', 'f9', 'l5', 'eg', 'r9', '35', 'bo', 'g9', 'i3'}, 'dice_similarity': 0.0}, {'uid': '37354', 'actual_two_grams': ['ju', 'ud', 'dy', 'yj', 'jo', 'oh', 'hn', 'ns', 'so', 'on', 'n5', '52', '22', '21', '19', '98', '86'], 'predicted_two_grams': {'io', 'pb', 'w9', 'ne', 'w7', 'wd', 'cj', '29', 'f8', 'tj', 'mf', 'p1', 'fx', 'p4', 'cd', 'mi', 's9', 'hb', 'ug', 'p2', 'p8', 'sw', 'k8', 'ld', 'dq', 'k1', 'xa', 'f9', 'l5', 'eg', 'r9', '35', 'bo', 'g9', 'i3'}, 'dice_similarity': 0.0}, {'uid': '84996', 'actual_two_grams': ['jo', 'oe', 'el', 'lr', 'ro', 'ol', 'lf', 'fe', 'es', 's4', '41', '15', '51', '19', '96', '61'], 'predicted_two_grams': {'io', 'pb', 'w9', 'ne', 'w7', 'wd', 'cj', '29', 'f8', 'tj', 'mf', 'p1', 'fx', 'p4', 'cd', 'mi', 's9', 'hb', 'ug', 'p2', 'p8', 'sw', 'k8', 'ld', 'dq', 'k1', 'xa', 'f9', 'l5', 'eg', 'r9', '35', 'bo', 'g9', 'i3'}, 'dice_similarity': 0.0}, {'uid': '24821', 'actual_two_grams': ['ed', 'di', 'it', 'th', 'hr', 'ro', 'oc', 'ck', 'k1', '11', '13', '30', '01', '19', '97', '77'], 'predicted_two_grams': {'io', 'pb', 'w9', 'ne', 'w7', 'wd', 'cj', '29', 'f8', 'tj', 'mf', 'p1', 'fx', 'p4', 'cd', 'mi', 's9', 'hb', 'ug', 'p2', 'p8', 'sw', 'k8', 'ld', 'dq', 'k1', 'xa', 'f9', 'l5', 'eg', 'r9', '35', 'bo', 'g9', 'i3'}, 'dice_similarity': 0.0392}, {'uid': '83246', 'actual_two_grams': ['jo', 'os', 'se', 'ep', 'ph', 'hh', 'ha', 'ar', 'rp', 'pe', 'er', 'r3', '34', '41', '19', '95', '58'], 'predicted_two_grams': {'io', 'pb', 'w9', 'ne', 'w7', 'wd', 'cj', '29', 'f8', 'tj', 'mf', 'p1', 'fx', 'p4', 'cd', 'mi', 's9', 'hb', 'ug', 'p2', 'p8', 'sw', 'k8', 'ld', 'dq', 'k1', 'xa', 'f9', 'l5', 'eg', 'r9', '35', 'bo', 'g9', 'i3'}, 'dice_similarity': 0.0}, {'uid': '52283', 'actual_two_grams': ['re', 'en', 'ne', 'em', 'mi', 'il', 'le', 'es', 's2', '21', '14', '41', '19', '97', '70'], 'predicted_two_grams': {'io', 'pb', 'w9', 'ne', 'w7', 'wd', 'cj', '29', 'f8', 'tj', 'mf', 'p1', 'fx', 'p4', 'cd', 'mi', 's9', 'hb', 'ug', 'p2', 'p8', 'sw', 'k8', 'ld', 'dq', 'k1', 'xa', 'f9', 'l5', 'eg', 'r9', '35', 'bo', 'g9', 'i3'}, 'dice_similarity': 0.08}, {'uid': '48470', 'actual_two_grams': ['wi', 'il', 'll', 'li', 'ia', 'am', 'mj', 'jo', 'on', 'ne', 'es', 's6', '63', '30', '01', '19', '97', '73'], 'predicted_two_grams': {'io', 'pb', 'w9', 'ne', 'w7', 'wd', 'cj', '29', 'f8', 'tj', 'mf', 'p1', 'fx', 'p4', 'cd', 'mi', 's9', 'hb', 'ug', 'p2', 'p8', 'sw', 'k8', 'ld', 'dq', 'k1', 'xa', 'f9', 'l5', 'eg', 'r9', '35', 'bo', 'g9', 'i3'}, 'dice_similarity': 0.0377}, {'uid': '14212', 'actual_two_grams': ['do', 'on', 'nn', 'na', 'ak', 'kr', 'ri', 'ie', 'eg', 'g1', '11', '12', '21', '19', '94', '44'], 'predicted_two_grams': {'io', 'pb', 'w9', 'ne', 'w7', 'wd', 'cj', '29', 'f8', 'tj', 'mf', 'p1', 'fx', 'p4', 'cd', 'mi', 's9', 'hb', 'ug', 'p2', 'p8', 'sw', 'k8', 'ld', 'dq', 'k1', 'xa', 'f9', 'l5', 'eg', 'r9', '35', 'bo', 'g9', 'i3'}, 'dice_similarity': 0.0392}, {'uid': '64213', 'actual_two_grams': ['de', 'el', 'll', 'la', 'am', 'ma', 'ar', 'rt', 'ti', 'in', 'n2', '21', '11', '19', '96', '63'], 'predicted_two_grams': {'io', 'pb', 'w9', 'ne', 'w7', 'wd', 'cj', '29', 'f8', 'tj', 'mf', 'p1', 'fx', 'p4', 'cd', 'mi', 's9', 'hb', 'ug', 'p2', 'p8', 'sw', 'k8', 'ld', 'dq', 'k1', 'xa', 'f9', 'l5', 'eg', 'r9', '35', 'bo', 'g9', 'i3'}, 'dice_similarity': 0.0}, {'uid': '64755', 'actual_two_grams': ['ri', 'ic', 'ch', 'ha', 'ar', 'rd', 'db', 'br', 'ro', 'ow', 'wn', 'n8', '81', '19', '91', '19', '93', '37'], 'predicted_two_grams': {'io', 'pb', 'w9', 'ne', 'w7', 'wd', 'cj', '29', 'f8', 'tj', 'mf', 'p1', 'fx', 'p4', 'cd', 'mi', 's9', 'hb', 'ug', 'p2', 'p8', 'sw', 'k8', 'ld', 'dq', 'k1', 'xa', 'f9', 'l5', 'eg', 'r9', '35', 'bo', 'g9', 'i3'}, 'dice_similarity': 0.0}, {'uid': '77272', 'actual_two_grams': ['pa', 'am', 'me', 'el', 'la', 'al', 'le', 'ee', 'e2', '21', '13', '31', '19', '94', '42'], 'predicted_two_grams': {'io', 'pb', 'w9', 'ne', 'w7', 'wd', 'cj', '29', 'f8', 'tj', 'mf', 'p1', 'fx', 'p4', 'cd', 'mi', 's9', 'hb', 'ug', 'p2', 'p8', 'sw', 'k8', 'ld', 'dq', 'k1', 'xa', 'f9', 'l5', 'eg', 'r9', '35', 'bo', 'g9', 'i3'}, 'dice_similarity': 0.0}, {'uid': '47298', 'actual_two_grams': ['am', 'ma', 'an', 'nd', 'da', 'aw', 'wi', 'il', 'ls', 'so', 'on', 'n1', '11', '11', '14', '41', '19', '98', '87'], 'predicted_two_grams': {'io', 'pb', 'w9', 'ne', 'w7', 'wd', 'cj', '29', 'f8', 'tj', 'mf', 'p1', 'fx', 'p4', 'cd', 'mi', 's9', 'hb', 'ug', 'p2', 'p8', 'sw', 'k8', 'ld', 'dq', 'k1', 'xa', 'f9', 'l5', 'eg', 'r9', '35', 'bo', 'g9', 'i3'}, 'dice_similarity': 0.0}, {'uid': '76371', 'actual_two_grams': ['ma', 'ar', 'ri', 'ia', 'an', 'ng', 'gu', 'ul', 'll', 'le', 'et', 'tt', 't8', '81', '18', '81', '19', '94', '40'], 'predicted_two_grams': {'io', 'pb', 'w9', 'ne', 'w7', 'wd', 'cj', '29', 'f8', 'tj', 'mf', 'p1', 'fx', 'p4', 'cd', 'mi', 's9', 'hb', 'ug', 'p2', 'p8', 'sw', 'k8', 'ld', 'dq', 'k1', 'xa', 'f9', 'l5', 'eg', 'r9', '35', 'bo', 'g9', 'i3'}, 'dice_similarity': 0.0}, {'uid': '17376', 'actual_two_grams': ['fr', 're', 'ed', 'da', 'as', 'si', 'in', 'ng', 'ge', 'er', 'r7', '71', '14', '41', '19', '98', '89'], 'predicted_two_grams': {'io', 'pb', 'w9', 'ne', 'w7', 'wd', 'cj', '29', 'f8', 'tj', 'mf', 'p1', 'fx', 'p4', 'cd', 'mi', 's9', 'hb', 'ug', 'p2', 'p8', 'sw', 'k8', 'ld', 'dq', 'k1', 'xa', 'f9', 'l5', 'eg', 'r9', '35', 'bo', 'g9', 'i3'}, 'dice_similarity': 0.0}, {'uid': '96819', 'actual_two_grams': ['je', 'er', 'rr', 'ry', 'yb', 'br', 'ra', 'an', 'nt', 'tl', 'le', 'ey', 'y8', '83', '31', '19', '96', '66'], 'predicted_two_grams': {'io', 'pb', 'w9', 'ne', 'w7', 'wd', 'cj', '29', 'f8', 'tj', 'mf', 'p1', 'fx', 'p4', 'cd', 'mi', 's9', 'hb', 'ug', 'p2', 'p8', 'sw', 'k8', 'ld', 'dq', 'k1', 'xa', 'f9', 'l5', 'eg', 'r9', '35', 'bo', 'g9', 'i3'}, 'dice_similarity': 0.0}, {'uid': '39036', 'actual_two_grams': ['vi', 'ir', 'rg', 'gi', 'in', 'ni', 'ia', 'as', 'sh', 'ha', 'ap', 'pi', 'ir', 'ro', 'o2', '22', '25', '51', '19', '97', '78'], 'predicted_two_grams': {'io', 'pb', 'w9', 'ne', 'w7', 'wd', 'cj', '29', 'f8', 'tj', 'mf', 'p1', 'fx', 'p4', 'cd', 'mi', 's9', 'hb', 'ug', 'p2', 'p8', 'sw', 'k8', 'ld', 'dq', 'k1', 'xa', 'f9', 'l5', 'eg', 'r9', '35', 'bo', 'g9', 'i3'}, 'dice_similarity': 0.0}, {'uid': '89059', 'actual_two_grams': ['be', 'er', 'rn', 'na', 'ar', 'rd', 'dr', 'ri', 'ic', 'ch', 'hm', 'mo', 'on', 'nd', 'd1', '12', '23', '31', '19', '97', '77'], 'predicted_two_grams': {'io', 'pb', 'w9', 'ne', 'w7', 'wd', 'cj', '29', 'f8', 'tj', 'mf', 'p1', 'fx', 'p4', 'cd', 'mi', 's9', 'hb', 'ug', 'p2', 'p8', 'sw', 'k8', 'ld', 'dq', 'k1', 'xa', 'f9', 'l5', 'eg', 'r9', '35', 'bo', 'g9', 'i3'}, 'dice_similarity': 0.0}, {'uid': '45199', 'actual_two_grams': ['ma', 'ar', 'ri', 'ie', 'eh', 'ha', 'am', 'mb', 'bl', 'li', 'in', 'n8', '81', '10', '01', '19', '98', '87'], 'predicted_two_grams': {'io', 'pb', 'w9', 'ne', 'w7', 'wd', 'cj', '29', 'f8', 'tj', 'mf', 'p1', 'fx', 'p4', 'cd', 'mi', 's9', 'hb', 'ug', 'p2', 'p8', 'sw', 'k8', 'ld', 'dq', 'k1', 'xa', 'f9', 'l5', 'eg', 'r9', '35', 'bo', 'g9', 'i3'}, 'dice_similarity': 0.0}, {'uid': '52314', 'actual_two_grams': ['ja', 'am', 'me', 'es', 'sc', 'cu', 'um', 'mm', 'mi', 'in', 'ng', 'gs', 's1', '13', '31', '19', '99', '95'], 'predicted_two_grams': {'io', 'pb', 'w9', 'ne', 'w7', 'wd', 'cj', '29', 'f8', 'tj', 'mf', 'p1', 'fx', 'p4', 'cd', 'mi', 's9', 'hb', 'ug', 'p2', 'p8', 'sw', 'k8', 'ld', 'dq', 'k1', 'xa', 'f9', 'l5', 'eg', 'r9', '35', 'bo', 'g9', 'i3'}, 'dice_similarity': 0.0377}, {'uid': '96261', 'actual_two_grams': ['fr', 're', 'ed', 'dr', 'ra', 'ad', 'dc', 'cl', 'li', 'if', 'ff', 'fe', 'e9', '93', '30', '01', '19', '94', '44'], 'predicted_two_grams': {'io', 'pb', 'w9', 'ne', 'w7', 'wd', 'cj', '29', 'f8', 'tj', 'mf', 'p1', 'fx', 'p4', 'cd', 'mi', 's9', 'hb', 'ug', 'p2', 'p8', 'sw', 'k8', 'ld', 'dq', 'k1', 'xa', 'f9', 'l5', 'eg', 'r9', '35', 'bo', 'g9', 'i3'}, 'dice_similarity': 0.0}, {'uid': '72821', 'actual_two_grams': ['de', 'en', 'nn', 'ni', 'is', 'sb', 'bu', 'ul', 'll', 'la', 'ar', 'rd', 'd4', '42', '21', '11', '19', '95', '53'], 'predicted_two_grams': {'io', 'pb', 'w9', 'ne', 'w7', 'wd', 'cj', '29', 'f8', 'tj', 'mf', 'p1', 'fx', 'p4', 'cd', 'mi', 's9', 'hb', 'ug', 'p2', 'p8', 'sw', 'k8', 'ld', 'dq', 'k1', 'xa', 'f9', 'l5', 'eg', 'r9', '35', 'bo', 'g9', 'i3'}, 'dice_similarity': 0.0}, {'uid': '3570', 'actual_two_grams': ['wi', 'il', 'll', 'li', 'ia', 'am', 'ml', 'le', 'es', 'ss', 'sa', 'ar', 'rd', 'd7', '72', '25', '51', '19', '98', '80'], 'predicted_two_grams': {'io', 'pb', 'w9', 'ne', 'w7', 'wd', 'cj', '29', 'f8', 'tj', 'mf', 'p1', 'fx', 'p4', 'cd', 'mi', 's9', 'hb', 'ug', 'p2', 'p8', 'sw', 'k8', 'ld', 'dq', 'k1', 'xa', 'f9', 'l5', 'eg', 'r9', '35', 'bo', 'g9', 'i3'}, 'dice_similarity': 0.0}, {'uid': '23134', 'actual_two_grams': ['te', 'er', 're', 'es', 'sa', 'ad', 'do', 'ol', 'le', 'es', 's4', '41', '11', '19', '96', '66'], 'predicted_two_grams': {'io', 'pb', 'w9', 'ne', 'w7', 'wd', 'cj', '29', 'f8', 'tj', 'mf', 'p1', 'fx', 'p4', 'cd', 'mi', 's9', 'hb', 'ug', 'p2', 'p8', 'sw', 'k8', 'ld', 'dq', 'k1', 'xa', 'f9', 'l5', 'eg', 'r9', '35', 'bo', 'g9', 'i3'}, 'dice_similarity': 0.0}, {'uid': '43589', 'actual_two_grams': ['sh', 'he', 'er', 'rr', 'ry', 'ys', 'st', 'te', 'er', 'rn', 'nb', 'be', 'er', 'rg', 'g4', '41', '13', '31', '19', '98', '85'], 'predicted_two_grams': {'io', 'pb', 'w9', 'ne', 'w7', 'wd', 'cj', '29', 'f8', 'tj', 'mf', 'p1', 'fx', 'p4', 'cd', 'mi', 's9', 'hb', 'ug', 'p2', 'p8', 'sw', 'k8', 'ld', 'dq', 'k1', 'xa', 'f9', 'l5', 'eg', 'r9', '35', 'bo', 'g9', 'i3'}, 'dice_similarity': 0.0}, {'uid': '53093', 'actual_two_grams': ['li', 'in', 'nd', 'da', 'av', 've', 'ei', 'ig', 'ga', 'a9', '91', '11', '11', '19', '97', '79'], 'predicted_two_grams': {'io', 'pb', 'w9', 'ne', 'w7', 'wd', 'cj', '29', 'f8', 'tj', 'mf', 'p1', 'fx', 'p4', 'cd', 'mi', 's9', 'hb', 'ug', 'p2', 'p8', 'sw', 'k8', 'ld', 'dq', 'k1', 'xa', 'f9', 'l5', 'eg', 'r9', '35', 'bo', 'g9', 'i3'}, 'dice_similarity': 0.0}, {'uid': '35136', 'actual_two_grams': ['ju', 'ul', 'li', 'ia', 'at', 'tu', 'ur', 'rn', 'ne', 'er', 'r1', '12', '22', '21', '19', '95', '56'], 'predicted_two_grams': {'io', 'pb', 'w9', 'ne', 'w7', 'wd', 'cj', '29', 'f8', 'tj', 'mf', 'p1', 'fx', 'p4', 'cd', 'mi', 's9', 'hb', 'ug', 'p2', 'p8', 'sw', 'k8', 'ld', 'dq', 'k1', 'xa', 'f9', 'l5', 'eg', 'r9', '35', 'bo', 'g9', 'i3'}, 'dice_similarity': 0.0385}, {'uid': '37697', 'actual_two_grams': ['el', 'll', 'la', 'ap', 'pr', 'ro', 'ov', 've', 'en', 'nc', 'ca', 'al', 'l1', '11', '11', '11', '19', '99', '92'], 'predicted_two_grams': {'io', 'pb', 'w9', 'ne', 'w7', 'wd', 'cj', '29', 'f8', 'tj', 'mf', 'p1', 'fx', 'p4', 'cd', 'mi', 's9', 'hb', 'ug', 'p2', 'p8', 'sw', 'k8', 'ld', 'dq', 'k1', 'xa', 'f9', 'l5', 'eg', 'r9', '35', 'bo', 'g9', 'i3'}, 'dice_similarity': 0.0}, {'uid': '63361', 'actual_two_grams': ['jo', 'os', 'se', 'ep', 'ph', 'hc', 'cr', 'ro', 'op', 'pp', 'pe', 'er', 'r9', '91', '16', '61', '19', '93', '38'], 'predicted_two_grams': {'io', 'pb', 'w9', 'ne', 'w7', 'wd', 'cj', '29', 'f8', 'tj', 'mf', 'p1', 'fx', 'p4', 'cd', 'mi', 's9', 'hb', 'ug', 'p2', 'p8', 'sw', 'k8', 'ld', 'dq', 'k1', 'xa', 'f9', 'l5', 'eg', 'r9', '35', 'bo', 'g9', 'i3'}, 'dice_similarity': 0.037}, {'uid': '20184', 'actual_two_grams': ['cl', 'la', 'ar', 'ra', 'ah', 'hy', 'ym', 'me', 'es', 's9', '91', '18', '81', '19', '95', '54'], 'predicted_two_grams': {'io', 'pb', 'w9', 'ne', 'w7', 'wd', 'cj', '29', 'f8', 'tj', 'mf', 'p1', 'fx', 'p4', 'cd', 'mi', 's9', 'hb', 'ug', 'p2', 'p8', 'sw', 'k8', 'ld', 'dq', 'k1', 'xa', 'f9', 'l5', 'eg', 'r9', '35', 'bo', 'g9', 'i3'}, 'dice_similarity': 0.0392}, {'uid': '69356', 'actual_two_grams': ['ch', 'he', 'er', 'ry', 'yl', 'lr', 're', 'ed', 'dd', 'di', 'in', 'ng', 'g7', '78', '81', '19', '98', '85'], 'predicted_two_grams': {'io', 'pb', 'w9', 'ne', 'w7', 'wd', 'cj', '29', 'f8', 'tj', 'mf', 'p1', 'fx', 'p4', 'cd', 'mi', 's9', 'hb', 'ug', 'p2', 'p8', 'sw', 'k8', 'ld', 'dq', 'k1', 'xa', 'f9', 'l5', 'eg', 'r9', '35', 'bo', 'g9', 'i3'}, 'dice_similarity': 0.0}, {'uid': '8959', 'actual_two_grams': ['mi', 'ic', 'ch', 'he', 'el', 'll', 'le', 'eh', 'hu', 'us', 'sb', 'ba', 'an', 'nd', 'd1', '10', '01', '11', '19', '94', '46'], 'predicted_two_grams': {'io', 'pb', 'w9', 'ne', 'w7', 'wd', 'cj', '29', 'f8', 'tj', 'mf', 'p1', 'fx', 'p4', 'cd', 'mi', 's9', 'hb', 'ug', 'p2', 'p8', 'sw', 'k8', 'ld', 'dq', 'k1', 'xa', 'f9', 'l5', 'eg', 'r9', '35', 'bo', 'g9', 'i3'}, 'dice_similarity': 0.0357}, {'uid': '47539', 'actual_two_grams': ['lu', 'uc', 'ci', 'il', 'll', 'le', 'es', 'st', 'te', 'ev', 've', 'en', 'ns', 'so', 'on', 'n4', '41', '12', '21', '19', '94', '47'], 'predicted_two_grams': {'io', 'pb', 'w9', 'ne', 'w7', 'wd', 'cj', '29', 'f8', 'tj', 'mf', 'p1', 'fx', 'p4', 'cd', 'mi', 's9', 'hb', 'ug', 'p2', 'p8', 'sw', 'k8', 'ld', 'dq', 'k1', 'xa', 'f9', 'l5', 'eg', 'r9', '35', 'bo', 'g9', 'i3'}, 'dice_similarity': 0.0}, {'uid': '22536', 'actual_two_grams': ['je', 'en', 'nn', 'ni', 'ie', 'ej', 'jo', 'oh', 'hn', 'ns', 'so', 'on', 'n1', '12', '29', '92', '20', '00', '00'], 'predicted_two_grams': {'io', 'pb', 'w9', 'ne', 'w7', 'wd', 'cj', '29', 'f8', 'tj', 'mf', 'p1', 'fx', 'p4', 'cd', 'mi', 's9', 'hb', 'ug', 'p2', 'p8', 'sw', 'k8', 'ld', 'dq', 'k1', 'xa', 'f9', 'l5', 'eg', 'r9', '35', 'bo', 'g9', 'i3'}, 'dice_similarity': 0.0377}, {'uid': '27054', 'actual_two_grams': ['pa', 'am', 'me', 'el', 'la', 'ac', 'co', 'or', 'rt', 't1', '11', '12', '20', '01', '19', '99', '98'], 'predicted_two_grams': {'io', 'pb', 'w9', 'ne', 'w7', 'wd', 'cj', '29', 'f8', 'tj', 'mf', 'p1', 'fx', 'p4', 'cd', 'mi', 's9', 'hb', 'ug', 'p2', 'p8', 'sw', 'k8', 'ld', 'dq', 'k1', 'xa', 'f9', 'l5', 'eg', 'r9', '35', 'bo', 'g9', 'i3'}, 'dice_similarity': 0.0}, {'uid': '15077', 'actual_two_grams': ['to', 'om', 'mm', 'my', 'yf', 'fo', 'ol', 'ls', 'so', 'om', 'm2', '29', '91', '19', '98', '81'], 'predicted_two_grams': {'io', 'pb', 'w9', 'ne', 'w7', 'wd', 'cj', '29', 'f8', 'tj', 'mf', 'p1', 'fx', 'p4', 'cd', 'mi', 's9', 'hb', 'ug', 'p2', 'p8', 'sw', 'k8', 'ld', 'dq', 'k1', 'xa', 'f9', 'l5', 'eg', 'r9', '35', 'bo', 'g9', 'i3'}, 'dice_similarity': 0.04}, {'uid': '32155', 'actual_two_grams': ['li', 'il', 'll', 'li', 'ia', 'an', 'nc', 'co', 'ol', 'll', 'li', 'in', 'ns', 's6', '61', '18', '81', '19', '93', '38'], 'predicted_two_grams': {'io', 'pb', 'w9', 'ne', 'w7', 'wd', 'cj', '29', 'f8', 'tj', 'mf', 'p1', 'fx', 'p4', 'cd', 'mi', 's9', 'hb', 'ug', 'p2', 'p8', 'sw', 'k8', 'ld', 'dq', 'k1', 'xa', 'f9', 'l5', 'eg', 'r9', '35', 'bo', 'g9', 'i3'}, 'dice_similarity': 0.0}, {'uid': '88811', 'actual_two_grams': ['lu', 'ui', 'is', 'sw', 'wh', 'hi', 'it', 'te', 'e7', '72', '20', '01', '19', '94', '47'], 'predicted_two_grams': {'io', 'pb', 'w9', 'ne', 'w7', 'wd', 'cj', '29', 'f8', 'tj', 'mf', 'p1', 'fx', 'p4', 'cd', 'mi', 's9', 'hb', 'ug', 'p2', 'p8', 'sw', 'k8', 'ld', 'dq', 'k1', 'xa', 'f9', 'l5', 'eg', 'r9', '35', 'bo', 'g9', 'i3'}, 'dice_similarity': 0.04}, {'uid': '14742', 'actual_two_grams': ['ar', 'rm', 'ma', 'an', 'nd', 'do', 'om', 'mc', 'ck', 'ka', 'ay', 'y9', '99', '91', '19', '98', '81'], 'predicted_two_grams': {'io', 'pb', 'w9', 'ne', 'w7', 'wd', 'cj', '29', 'f8', 'tj', 'mf', 'p1', 'fx', 'p4', 'cd', 'mi', 's9', 'hb', 'ug', 'p2', 'p8', 'sw', 'k8', 'ld', 'dq', 'k1', 'xa', 'f9', 'l5', 'eg', 'r9', '35', 'bo', 'g9', 'i3'}, 'dice_similarity': 0.0}, {'uid': '5562', 'actual_two_grams': ['de', 'el', 'li', 'ia', 'ad', 'da', 'an', 'ni', 'ie', 'el', 'l4', '41', '12', '21', '19', '94', '45'], 'predicted_two_grams': {'io', 'pb', 'w9', 'ne', 'w7', 'wd', 'cj', '29', 'f8', 'tj', 'mf', 'p1', 'fx', 'p4', 'cd', 'mi', 's9', 'hb', 'ug', 'p2', 'p8', 'sw', 'k8', 'ld', 'dq', 'k1', 'xa', 'f9', 'l5', 'eg', 'r9', '35', 'bo', 'g9', 'i3'}, 'dice_similarity': 0.0}, {'uid': '89271', 'actual_two_grams': ['fe', 'er', 'rn', 'na', 'an', 'nd', 'do', 'ol', 'la', 'am', 'mp', 'pk', 'ki', 'in', 'ns', 's1', '10', '08', '81', '19', '95', '59'], 'predicted_two_grams': {'io', 'pb', 'w9', 'ne', 'w7', 'wd', 'cj', '29', 'f8', 'tj', 'mf', 'p1', 'fx', 'p4', 'cd', 'mi', 's9', 'hb', 'ug', 'p2', 'p8', 'sw', 'k8', 'ld', 'dq', 'k1', 'xa', 'f9', 'l5', 'eg', 'r9', '35', 'bo', 'g9', 'i3'}, 'dice_similarity': 0.0}, {'uid': '355', 'actual_two_grams': ['cl', 'la', 'au', 'ud', 'di', 'ia', 'am', 'mo', 'or', 'ra', 'al', 'le', 'es', 's4', '42', '29', '91', '19', '96', '62'], 'predicted_two_grams': {'io', 'pb', 'w9', 'ne', 'w7', 'wd', 'cj', '29', 'f8', 'tj', 'mf', 'p1', 'fx', 'p4', 'cd', 'mi', 's9', 'hb', 'ug', 'p2', 'p8', 'sw', 'k8', 'ld', 'dq', 'k1', 'xa', 'f9', 'l5', 'eg', 'r9', '35', 'bo', 'g9', 'i3'}, 'dice_similarity': 0.0364}, {'uid': '47954', 'actual_two_grams': ['ju', 'ud', 'di', 'it', 'th', 'hh', 'ho', 'ou', 'us', 'se', 'er', 'r8', '81', '16', '62', '20', '00', '00'], 'predicted_two_grams': {'io', 'pb', 'w9', 'ne', 'w7', 'wd', 'cj', '29', 'f8', 'tj', 'mf', 'p1', 'fx', 'p4', 'cd', 'mi', 's9', 'hb', 'ug', 'p2', 'p8', 'sw', 'k8', 'ld', 'dq', 'k1', 'xa', 'f9', 'l5', 'eg', 'r9', '35', 'bo', 'g9', 'i3'}, 'dice_similarity': 0.0}, {'uid': '54060', 'actual_two_grams': ['ea', 'ar', 'rl', 'lw', 'wh', 'ha', 'ar', 'rt', 'to', 'on', 'n6', '69', '91', '19', '97', '73'], 'predicted_two_grams': {'io', 'pb', 'w9', 'ne', 'w7', 'wd', 'cj', '29', 'f8', 'tj', 'mf', 'p1', 'fx', 'p4', 'cd', 'mi', 's9', 'hb', 'ug', 'p2', 'p8', 'sw', 'k8', 'ld', 'dq', 'k1', 'xa', 'f9', 'l5', 'eg', 'r9', '35', 'bo', 'g9', 'i3'}, 'dice_similarity': 0.0}, {'uid': '37621', 'actual_two_grams': ['al', 'lm', 'ma', 'am', 'mo', 'ot', 'ty', 'yk', 'ka', 'a8', '87', '71', '19', '96', '64'], 'predicted_two_grams': {'io', 'pb', 'w9', 'ne', 'w7', 'wd', 'cj', '29', 'f8', 'tj', 'mf', 'p1', 'fx', 'p4', 'cd', 'mi', 's9', 'hb', 'ug', 'p2', 'p8', 'sw', 'k8', 'ld', 'dq', 'k1', 'xa', 'f9', 'l5', 'eg', 'r9', '35', 'bo', 'g9', 'i3'}, 'dice_similarity': 0.0}, {'uid': '88712', 'actual_two_grams': ['ja', 'ar', 're', 'ed', 'de', 'en', 'ng', 'ge', 'eb', 'br', 're', 'et', 'ts', 'so', 'on', 'n9', '92', '22', '21', '19', '96', '60'], 'predicted_two_grams': {'io', 'pb', 'w9', 'ne', 'w7', 'wd', 'cj', '29', 'f8', 'tj', 'mf', 'p1', 'fx', 'p4', 'cd', 'mi', 's9', 'hb', 'ug', 'p2', 'p8', 'sw', 'k8', 'ld', 'dq', 'k1', 'xa', 'f9', 'l5', 'eg', 'r9', '35', 'bo', 'g9', 'i3'}, 'dice_similarity': 0.0}, {'uid': '20835', 'actual_two_grams': ['ra', 'an', 'nd', 'do', 'ol', 'lp', 'ph', 'hm', 'mi', 'il', 'll', 'le', 'er', 'r1', '11', '18', '81', '19', '97', '71'], 'predicted_two_grams': {'io', 'pb', 'w9', 'ne', 'w7', 'wd', 'cj', '29', 'f8', 'tj', 'mf', 'p1', 'fx', 'p4', 'cd', 'mi', 's9', 'hb', 'ug', 'p2', 'p8', 'sw', 'k8', 'ld', 'dq', 'k1', 'xa', 'f9', 'l5', 'eg', 'r9', '35', 'bo', 'g9', 'i3'}, 'dice_similarity': 0.0364}, {'uid': '47981', 'actual_two_grams': ['le', 'ee', 'ew', 'we', 'el', 'll', 'ls', 's5', '52', '29', '91', '19', '93', '39'], 'predicted_two_grams': {'io', 'pb', 'w9', 'ne', 'w7', 'wd', 'cj', '29', 'f8', 'tj', 'mf', 'p1', 'fx', 'p4', 'cd', 'mi', 's9', 'hb', 'ug', 'p2', 'p8', 'sw', 'k8', 'ld', 'dq', 'k1', 'xa', 'f9', 'l5', 'eg', 'r9', '35', 'bo', 'g9', 'i3'}, 'dice_similarity': 0.0408}, {'uid': '66027', 'actual_two_grams': ['st', 'te', 'ep', 'ph', 'he', 'en', 'ng', 'gr', 'ri', 'id', 'dl', 'le', 'ey', 'y5', '51', '13', '31', '19', '97', '70'], 'predicted_two_grams': {'io', 'pb', 'w9', 'ne', 'w7', 'wd', 'cj', '29', 'f8', 'tj', 'mf', 'p1', 'fx', 'p4', 'cd', 'mi', 's9', 'hb', 'ug', 'p2', 'p8', 'sw', 'k8', 'ld', 'dq', 'k1', 'xa', 'f9', 'l5', 'eg', 'r9', '35', 'bo', 'g9', 'i3'}, 'dice_similarity': 0.0}, {'uid': '96339', 'actual_two_grams': ['tr', 'ro', 'oy', 'yj', 'je', 'en', 'nn', 'ni', 'in', 'ng', 'gs', 's5', '52', '22', '21', '19', '98', '88'], 'predicted_two_grams': {'io', 'pb', 'w9', 'ne', 'w7', 'wd', 'cj', '29', 'f8', 'tj', 'mf', 'p1', 'fx', 'p4', 'cd', 'mi', 's9', 'hb', 'ug', 'p2', 'p8', 'sw', 'k8', 'ld', 'dq', 'k1', 'xa', 'f9', 'l5', 'eg', 'r9', '35', 'bo', 'g9', 'i3'}, 'dice_similarity': 0.0}, {'uid': '92952', 'actual_two_grams': ['aa', 'ar', 'ro', 'on', 'ns', 'sm', 'mi', 'it', 'th', 'hs', 'so', 'on', 'n3', '32', '21', '11', '19', '99', '90'], 'predicted_two_grams': {'io', 'pb', 'w9', 'ne', 'w7', 'wd', 'cj', '29', 'f8', 'tj', 'mf', 'p1', 'fx', 'p4', 'cd', 'mi', 's9', 'hb', 'ug', 'p2', 'p8', 'sw', 'k8', 'ld', 'dq', 'k1', 'xa', 'f9', 'l5', 'eg', 'r9', '35', 'bo', 'g9', 'i3'}, 'dice_similarity': 0.0377}, {'uid': '26666', 'actual_two_grams': ['de', 'ea', 'an', 'nb', 'ba', 'ar', 'rt', 'th', 'h8', '85', '51', '19', '95', '53'], 'predicted_two_grams': {'io', 'pb', 'w9', 'ne', 'w7', 'wd', 'cj', '29', 'f8', 'tj', 'mf', 'p1', 'fx', 'p4', 'cd', 'mi', 's9', 'hb', 'ug', 'p2', 'p8', 'sw', 'k8', 'ld', 'dq', 'k1', 'xa', 'f9', 'l5', 'eg', 'r9', '35', 'bo', 'g9', 'i3'}, 'dice_similarity': 0.0}, {'uid': '61674', 'actual_two_grams': ['wi', 'il', 'll', 'li', 'ia', 'am', 'mr', 'ri', 'ic', 'co', 'o2', '24', '41', '19', '95', '53'], 'predicted_two_grams': {'io', 'pb', 'w9', 'ne', 'w7', 'wd', 'cj', '29', 'f8', 'tj', 'mf', 'p1', 'fx', 'p4', 'cd', 'mi', 's9', 'hb', 'ug', 'p2', 'p8', 'sw', 'k8', 'ld', 'dq', 'k1', 'xa', 'f9', 'l5', 'eg', 'r9', '35', 'bo', 'g9', 'i3'}, 'dice_similarity': 0.0}, {'uid': '68451', 'actual_two_grams': ['ma', 'at', 'tt', 'th', 'he', 'ew', 'wb', 'be', 'en', 'na', 'av', 'vi', 'id', 'de', 'es', 's9', '92', '26', '61', '19', '94', '41'], 'predicted_two_grams': {'io', 'pb', 'w9', 'ne', 'w7', 'wd', 'cj', '29', 'f8', 'tj', 'mf', 'p1', 'fx', 'p4', 'cd', 'mi', 's9', 'hb', 'ug', 'p2', 'p8', 'sw', 'k8', 'ld', 'dq', 'k1', 'xa', 'f9', 'l5', 'eg', 'r9', '35', 'bo', 'g9', 'i3'}, 'dice_similarity': 0.0351}, {'uid': '22411', 'actual_two_grams': ['ha', 'ar', 'ro', 'ol', 'ld', 'dn', 'ne', 'el', 'ls', 'so', 'on', 'n7', '71', '19', '91', '19', '98', '82'], 'predicted_two_grams': {'io', 'pb', 'w9', 'ne', 'w7', 'wd', 'cj', '29', 'f8', 'tj', 'mf', 'p1', 'fx', 'p4', 'cd', 'mi', 's9', 'hb', 'ug', 'p2', 'p8', 'sw', 'k8', 'ld', 'dq', 'k1', 'xa', 'f9', 'l5', 'eg', 'r9', '35', 'bo', 'g9', 'i3'}, 'dice_similarity': 0.0769}, {'uid': '44863', 'actual_two_grams': ['ma', 'ar', 'rj', 'jo', 'or', 'ri', 'ie', 'ek', 'ko', 'ov', 'va', 'ar', 'r6', '61', '18', '81', '19', '93', '38'], 'predicted_two_grams': {'io', 'pb', 'w9', 'ne', 'w7', 'wd', 'cj', '29', 'f8', 'tj', 'mf', 'p1', 'fx', 'p4', 'cd', 'mi', 's9', 'hb', 'ug', 'p2', 'p8', 'sw', 'k8', 'ld', 'dq', 'k1', 'xa', 'f9', 'l5', 'eg', 'r9', '35', 'bo', 'g9', 'i3'}, 'dice_similarity': 0.0}, {'uid': '58601', 'actual_two_grams': ['es', 'st', 'te', 'el', 'll', 'la', 'as', 'sw', 'we', 'ee', 'et', 't4', '42', '21', '11', '19', '95', '58'], 'predicted_two_grams': {'io', 'pb', 'w9', 'ne', 'w7', 'wd', 'cj', '29', 'f8', 'tj', 'mf', 'p1', 'fx', 'p4', 'cd', 'mi', 's9', 'hb', 'ug', 'p2', 'p8', 'sw', 'k8', 'ld', 'dq', 'k1', 'xa', 'f9', 'l5', 'eg', 'r9', '35', 'bo', 'g9', 'i3'}, 'dice_similarity': 0.0377}, {'uid': '14827', 'actual_two_grams': ['ke', 'en', 'nn', 'ne', 'et', 'th', 'hh', 'ha', 'am', 'mm', 'mo', 'on', 'ns', 's9', '91', '11', '11', '19', '97', '70'], 'predicted_two_grams': {'io', 'pb', 'w9', 'ne', 'w7', 'wd', 'cj', '29', 'f8', 'tj', 'mf', 'p1', 'fx', 'p4', 'cd', 'mi', 's9', 'hb', 'ug', 'p2', 'p8', 'sw', 'k8', 'ld', 'dq', 'k1', 'xa', 'f9', 'l5', 'eg', 'r9', '35', 'bo', 'g9', 'i3'}, 'dice_similarity': 0.0741}, {'uid': '59175', 'actual_two_grams': ['ja', 'am', 'me', 'es', 'sh', 'hi', 'il', 'll', 'l3', '32', '24', '41', '19', '98', '80'], 'predicted_two_grams': {'io', 'pb', 'w9', 'ne', 'w7', 'wd', 'cj', '29', 'f8', 'tj', 'mf', 'p1', 'fx', 'p4', 'cd', 'mi', 's9', 'hb', 'ug', 'p2', 'p8', 'sw', 'k8', 'ld', 'dq', 'k1', 'xa', 'f9', 'l5', 'eg', 'r9', '35', 'bo', 'g9', 'i3'}, 'dice_similarity': 0.0}, {'uid': '57644', 'actual_two_grams': ['wi', 'il', 'lb', 'bu', 'ur', 'ry', 'yo', 'od', 'de', 'er', 'r9', '91', '16', '61', '19', '96', '61'], 'predicted_two_grams': {'io', 'pb', 'w9', 'ne', 'w7', 'wd', 'cj', '29', 'f8', 'tj', 'mf', 'p1', 'fx', 'p4', 'cd', 'mi', 's9', 'hb', 'ug', 'p2', 'p8', 'sw', 'k8', 'ld', 'dq', 'k1', 'xa', 'f9', 'l5', 'eg', 'r9', '35', 'bo', 'g9', 'i3'}, 'dice_similarity': 0.0392}, {'uid': '78301', 'actual_two_grams': ['ma', 'at', 'tt', 'th', 'he', 'ew', 'wv', 'vi', 'il', 'll', 'la', 'ar', 'rr', 're', 'ea', 'al', 'l1', '11', '12', '29', '91', '19', '94', '44'], 'predicted_two_grams': {'io', 'pb', 'w9', 'ne', 'w7', 'wd', 'cj', '29', 'f8', 'tj', 'mf', 'p1', 'fx', 'p4', 'cd', 'mi', 's9', 'hb', 'ug', 'p2', 'p8', 'sw', 'k8', 'ld', 'dq', 'k1', 'xa', 'f9', 'l5', 'eg', 'r9', '35', 'bo', 'g9', 'i3'}, 'dice_similarity': 0.0339}, {'uid': '38882', 'actual_two_grams': ['la', 'ar', 'rr', 'ry', 'yd', 'di', 'ia', 'az', 'z9', '96', '61', '19', '94', '47'], 'predicted_two_grams': {'io', 'pb', 'w9', 'ne', 'w7', 'wd', 'cj', '29', 'f8', 'tj', 'mf', 'p1', 'fx', 'p4', 'cd', 'mi', 's9', 'hb', 'ug', 'p2', 'p8', 'sw', 'k8', 'ld', 'dq', 'k1', 'xa', 'f9', 'l5', 'eg', 'r9', '35', 'bo', 'g9', 'i3'}, 'dice_similarity': 0.0}, {'uid': '19596', 'actual_two_grams': ['ni', 'ic', 'ch', 'ho', 'ol', 'la', 'as', 'sb', 'ba', 'ak', 'ke', 'er', 'r3', '31', '15', '51', '19', '97', '75'], 'predicted_two_grams': {'io', 'pb', 'w9', 'ne', 'w7', 'wd', 'cj', '29', 'f8', 'tj', 'mf', 'p1', 'fx', 'p4', 'cd', 'mi', 's9', 'hb', 'ug', 'p2', 'p8', 'sw', 'k8', 'ld', 'dq', 'k1', 'xa', 'f9', 'l5', 'eg', 'r9', '35', 'bo', 'g9', 'i3'}, 'dice_similarity': 0.0}, {'uid': '42998', 'actual_two_grams': ['wi', 'il', 'll', 'li', 'ia', 'am', 'mt', 'to', 'ow', 'wn', 'nl', 'le', 'ey', 'y8', '83', '31', '19', '96', '65'], 'predicted_two_grams': {'io', 'pb', 'w9', 'ne', 'w7', 'wd', 'cj', '29', 'f8', 'tj', 'mf', 'p1', 'fx', 'p4', 'cd', 'mi', 's9', 'hb', 'ug', 'p2', 'p8', 'sw', 'k8', 'ld', 'dq', 'k1', 'xa', 'f9', 'l5', 'eg', 'r9', '35', 'bo', 'g9', 'i3'}, 'dice_similarity': 0.0}, {'uid': '55766', 'actual_two_grams': ['jo', 'oh', 'hn', 'ns', 'st', 'tu', 'ur', 'rg', 'ge', 'es', 's8', '82', '27', '71', '19', '94', '46'], 'predicted_two_grams': {'io', 'pb', 'w9', 'ne', 'w7', 'wd', 'cj', '29', 'f8', 'tj', 'mf', 'p1', 'fx', 'p4', 'cd', 'mi', 's9', 'hb', 'ug', 'p2', 'p8', 'sw', 'k8', 'ld', 'dq', 'k1', 'xa', 'f9', 'l5', 'eg', 'r9', '35', 'bo', 'g9', 'i3'}, 'dice_similarity': 0.0}, {'uid': '34111', 'actual_two_grams': ['wi', 'il', 'll', 'li', 'ia', 'am', 'mf', 'fr', 'ra', 'an', 'nk', 'ks', 's1', '11', '11', '11', '19', '99', '93'], 'predicted_two_grams': {'io', 'pb', 'w9', 'ne', 'w7', 'wd', 'cj', '29', 'f8', 'tj', 'mf', 'p1', 'fx', 'p4', 'cd', 'mi', 's9', 'hb', 'ug', 'p2', 'p8', 'sw', 'k8', 'ld', 'dq', 'k1', 'xa', 'f9', 'l5', 'eg', 'r9', '35', 'bo', 'g9', 'i3'}, 'dice_similarity': 0.0385}, {'uid': '81965', 'actual_two_grams': ['ja', 'an', 'ni', 'ic', 'ce', 'eh', 'hi', 'in', 'ns', 'so', 'on', 'n4', '46', '61', '19', '94', '41'], 'predicted_two_grams': {'io', 'pb', 'w9', 'ne', 'w7', 'wd', 'cj', '29', 'f8', 'tj', 'mf', 'p1', 'fx', 'p4', 'cd', 'mi', 's9', 'hb', 'ug', 'p2', 'p8', 'sw', 'k8', 'ld', 'dq', 'k1', 'xa', 'f9', 'l5', 'eg', 'r9', '35', 'bo', 'g9', 'i3'}, 'dice_similarity': 0.0}, {'uid': '46581', 'actual_two_grams': ['ju', 'ul', 'li', 'im', 'mc', 'cd', 'da', 'an', 'ni', 'ie', 'el', 'l1', '15', '51', '19', '95', '59'], 'predicted_two_grams': {'io', 'pb', 'w9', 'ne', 'w7', 'wd', 'cj', '29', 'f8', 'tj', 'mf', 'p1', 'fx', 'p4', 'cd', 'mi', 's9', 'hb', 'ug', 'p2', 'p8', 'sw', 'k8', 'ld', 'dq', 'k1', 'xa', 'f9', 'l5', 'eg', 'r9', '35', 'bo', 'g9', 'i3'}, 'dice_similarity': 0.0385}, {'uid': '1131', 'actual_two_grams': ['wi', 'il', 'll', 'li', 'ia', 'am', 'mb', 'ba', 'ar', 'rr', 'ro', 'ow', 'w6', '62', '24', '41', '19', '95', '52'], 'predicted_two_grams': {'io', 'pb', 'w9', 'ne', 'w7', 'wd', 'cj', '29', 'f8', 'tj', 'mf', 'p1', 'fx', 'p4', 'cd', 'mi', 's9', 'hb', 'ug', 'p2', 'p8', 'sw', 'k8', 'ld', 'dq', 'k1', 'xa', 'f9', 'l5', 'eg', 'r9', '35', 'bo', 'g9', 'i3'}, 'dice_similarity': 0.0}, {'uid': '63428', 'actual_two_grams': ['am', 'mb', 'be', 'er', 'rg', 'ga', 'as', 'st', 'to', 'on', 'n5', '51', '12', '21', '19', '97', '71'], 'predicted_two_grams': {'io', 'pb', 'w9', 'ne', 'w7', 'wd', 'cj', '29', 'f8', 'tj', 'mf', 'p1', 'fx', 'p4', 'cd', 'mi', 's9', 'hb', 'ug', 'p2', 'p8', 'sw', 'k8', 'ld', 'dq', 'k1', 'xa', 'f9', 'l5', 'eg', 'r9', '35', 'bo', 'g9', 'i3'}, 'dice_similarity': 0.0}, {'uid': '23663', 'actual_two_grams': ['ar', 'rt', 'th', 'hu', 'ur', 'rm', 'ma', 'ar', 'rt', 'ti', 'in', 'n1', '10', '02', '28', '81', '19', '96', '69'], 'predicted_two_grams': {'io', 'pb', 'w9', 'ne', 'w7', 'wd', 'cj', '29', 'f8', 'tj', 'mf', 'p1', 'fx', 'p4', 'cd', 'mi', 's9', 'hb', 'ug', 'p2', 'p8', 'sw', 'k8', 'ld', 'dq', 'k1', 'xa', 'f9', 'l5', 'eg', 'r9', '35', 'bo', 'g9', 'i3'}, 'dice_similarity': 0.0}, {'uid': '52891', 'actual_two_grams': ['be', 'et', 'th', 'hj', 'ja', 'ac', 'ck', 'ks', 'so', 'on', 'n1', '12', '22', '20', '01', '19', '98', '85'], 'predicted_two_grams': {'io', 'pb', 'w9', 'ne', 'w7', 'wd', 'cj', '29', 'f8', 'tj', 'mf', 'p1', 'fx', 'p4', 'cd', 'mi', 's9', 'hb', 'ug', 'p2', 'p8', 'sw', 'k8', 'ld', 'dq', 'k1', 'xa', 'f9', 'l5', 'eg', 'r9', '35', 'bo', 'g9', 'i3'}, 'dice_similarity': 0.0}, {'uid': '48558', 'actual_two_grams': ['mi', 'ic', 'ch', 'he', 'el', 'le', 'es', 'sa', 'au', 'un', 'nd', 'de', 'er', 'rs', 's9', '96', '61', '19', '95', '54'], 'predicted_two_grams': {'io', 'pb', 'w9', 'ne', 'w7', 'wd', 'cj', '29', 'f8', 'tj', 'mf', 'p1', 'fx', 'p4', 'cd', 'mi', 's9', 'hb', 'ug', 'p2', 'p8', 'sw', 'k8', 'ld', 'dq', 'k1', 'xa', 'f9', 'l5', 'eg', 'r9', '35', 'bo', 'g9', 'i3'}, 'dice_similarity': 0.0727}, {'uid': '44791', 'actual_two_grams': ['sh', 'he', 'el', 'li', 'ia', 'as', 'sc', 'co', 'ot', 'tt', 't5', '55', '52', '20', '00', '01'], 'predicted_two_grams': {'io', 'pb', 'w9', 'ne', 'w7', 'wd', 'cj', '29', 'f8', 'tj', 'mf', 'p1', 'fx', 'p4', 'cd', 'mi', 's9', 'hb', 'ug', 'p2', 'p8', 'sw', 'k8', 'ld', 'dq', 'k1', 'xa', 'f9', 'l5', 'eg', 'r9', '35', 'bo', 'g9', 'i3'}, 'dice_similarity': 0.0}, {'uid': '3868', 'actual_two_grams': ['st', 'te', 'ew', 'wa', 'ar', 'rt', 'tk', 'ko', 'ob', 'be', 'er', 'r3', '31', '13', '31', '19', '99', '93'], 'predicted_two_grams': {'io', 'pb', 'w9', 'ne', 'w7', 'wd', 'cj', '29', 'f8', 'tj', 'mf', 'p1', 'fx', 'p4', 'cd', 'mi', 's9', 'hb', 'ug', 'p2', 'p8', 'sw', 'k8', 'ld', 'dq', 'k1', 'xa', 'f9', 'l5', 'eg', 'r9', '35', 'bo', 'g9', 'i3'}, 'dice_similarity': 0.0}, {'uid': '22266', 'actual_two_grams': ['ro', 'og', 'ge', 'er', 'rv', 'va', 'ar', 'rg', 'ga', 'as', 's3', '38', '81', '19', '98', '82'], 'predicted_two_grams': {'io', 'pb', 'w9', 'ne', 'w7', 'wd', 'cj', '29', 'f8', 'tj', 'mf', 'p1', 'fx', 'p4', 'cd', 'mi', 's9', 'hb', 'ug', 'p2', 'p8', 'sw', 'k8', 'ld', 'dq', 'k1', 'xa', 'f9', 'l5', 'eg', 'r9', '35', 'bo', 'g9', 'i3'}, 'dice_similarity': 0.0}, {'uid': '61745', 'actual_two_grams': ['jo', 'oh', 'hn', 'nb', 'be', 'ea', 'at', 'tt', 'ty', 'y7', '71', '19', '91', '19', '93', '37'], 'predicted_two_grams': {'io', 'pb', 'w9', 'ne', 'w7', 'wd', 'cj', '29', 'f8', 'tj', 'mf', 'p1', 'fx', 'p4', 'cd', 'mi', 's9', 'hb', 'ug', 'p2', 'p8', 'sw', 'k8', 'ld', 'dq', 'k1', 'xa', 'f9', 'l5', 'eg', 'r9', '35', 'bo', 'g9', 'i3'}, 'dice_similarity': 0.0}, {'uid': '63404', 'actual_two_grams': ['ir', 'ri', 'is', 'sw', 'wi', 'il', 'll', 'li', 'ia', 'am', 'ms', 's6', '65', '51', '19', '95', '52'], 'predicted_two_grams': {'io', 'pb', 'w9', 'ne', 'w7', 'wd', 'cj', '29', 'f8', 'tj', 'mf', 'p1', 'fx', 'p4', 'cd', 'mi', 's9', 'hb', 'ug', 'p2', 'p8', 'sw', 'k8', 'ld', 'dq', 'k1', 'xa', 'f9', 'l5', 'eg', 'r9', '35', 'bo', 'g9', 'i3'}, 'dice_similarity': 0.0385}, {'uid': '72533', 'actual_two_grams': ['ma', 'ar', 'rk', 'ko', 'ol', 'la', 'ag', 'gu', 'ue', 'e1', '12', '23', '31', '19', '95', '52'], 'predicted_two_grams': {'io', 'pb', 'w9', 'ne', 'w7', 'wd', 'cj', '29', 'f8', 'tj', 'mf', 'p1', 'fx', 'p4', 'cd', 'mi', 's9', 'hb', 'ug', 'p2', 'p8', 'sw', 'k8', 'ld', 'dq', 'k1', 'xa', 'f9', 'l5', 'eg', 'r9', '35', 'bo', 'g9', 'i3'}, 'dice_similarity': 0.0}, {'uid': '69454', 'actual_two_grams': ['da', 'av', 'vi', 'id', 'dr', 'ry', 'ya', 'an', 'n1', '12', '22', '22', '21', '19', '96', '65'], 'predicted_two_grams': {'io', 'pb', 'w9', 'ne', 'w7', 'wd', 'cj', '29', 'f8', 'tj', 'mf', 'p1', 'fx', 'p4', 'cd', 'mi', 's9', 'hb', 'ug', 'p2', 'p8', 'sw', 'k8', 'ld', 'dq', 'k1', 'xa', 'f9', 'l5', 'eg', 'r9', '35', 'bo', 'g9', 'i3'}, 'dice_similarity': 0.0}, {'uid': '48525', 'actual_two_grams': ['li', 'is', 'sa', 'ad', 'da', 'av', 'vi', 'is', 's8', '82', '23', '32', '20', '00', '01'], 'predicted_two_grams': {'io', 'pb', 'w9', 'ne', 'w7', 'wd', 'cj', '29', 'f8', 'tj', 'mf', 'p1', 'fx', 'p4', 'cd', 'mi', 's9', 'hb', 'ug', 'p2', 'p8', 'sw', 'k8', 'ld', 'dq', 'k1', 'xa', 'f9', 'l5', 'eg', 'r9', '35', 'bo', 'g9', 'i3'}, 'dice_similarity': 0.0}, {'uid': '91182', 'actual_two_grams': ['ma', 'ar', 'rl', 'le', 'en', 'ne', 'ek', 'ki', 'il', 'lg', 'go', 'or', 're', 'e7', '75', '51', '19', '99', '95'], 'predicted_two_grams': {'io', 'pb', 'w9', 'ne', 'w7', 'wd', 'cj', '29', 'f8', 'tj', 'mf', 'p1', 'fx', 'p4', 'cd', 'mi', 's9', 'hb', 'ug', 'p2', 'p8', 'sw', 'k8', 'ld', 'dq', 'k1', 'xa', 'f9', 'l5', 'eg', 'r9', '35', 'bo', 'g9', 'i3'}, 'dice_similarity': 0.037}, {'uid': '58699', 'actual_two_grams': ['fr', 're', 'ed', 'dd', 'di', 'ie', 'ee', 'ed', 'dw', 'wa', 'ar', 'rd', 'ds', 's9', '91', '10', '01', '19', '97', '70'], 'predicted_two_grams': {'io', 'pb', 'w9', 'ne', 'w7', 'wd', 'cj', '29', 'f8', 'tj', 'mf', 'p1', 'fx', 'p4', 'cd', 'mi', 's9', 'hb', 'ug', 'p2', 'p8', 'sw', 'k8', 'ld', 'dq', 'k1', 'xa', 'f9', 'l5', 'eg', 'r9', '35', 'bo', 'g9', 'i3'}, 'dice_similarity': 0.037}, {'uid': '40985', 'actual_two_grams': ['ry', 'ya', 'an', 'nb', 'bo', 'ou', 'ur', 'rg', 'ge', 'et', 't2', '27', '71', '19', '95', '57'], 'predicted_two_grams': {'io', 'pb', 'w9', 'ne', 'w7', 'wd', 'cj', '29', 'f8', 'tj', 'mf', 'p1', 'fx', 'p4', 'cd', 'mi', 's9', 'hb', 'ug', 'p2', 'p8', 'sw', 'k8', 'ld', 'dq', 'k1', 'xa', 'f9', 'l5', 'eg', 'r9', '35', 'bo', 'g9', 'i3'}, 'dice_similarity': 0.0392}, {'uid': '50380', 'actual_two_grams': ['ba', 'ar', 'rb', 'ba', 'ar', 'ra', 'ab', 'by', 'yr', 'rd', 'd8', '83', '30', '01', '19', '98', '85'], 'predicted_two_grams': {'io', 'pb', 'w9', 'ne', 'w7', 'wd', 'cj', '29', 'f8', 'tj', 'mf', 'p1', 'fx', 'p4', 'cd', 'mi', 's9', 'hb', 'ug', 'p2', 'p8', 'sw', 'k8', 'ld', 'dq', 'k1', 'xa', 'f9', 'l5', 'eg', 'r9', '35', 'bo', 'g9', 'i3'}, 'dice_similarity': 0.0}, {'uid': '65142', 'actual_two_grams': ['an', 'nn', 'ni', 'ie', 'eh', 'hy', 'yd', 'de', 'e4', '42', '23', '31', '19', '94', '49'], 'predicted_two_grams': {'io', 'pb', 'w9', 'ne', 'w7', 'wd', 'cj', '29', 'f8', 'tj', 'mf', 'p1', 'fx', 'p4', 'cd', 'mi', 's9', 'hb', 'ug', 'p2', 'p8', 'sw', 'k8', 'ld', 'dq', 'k1', 'xa', 'f9', 'l5', 'eg', 'r9', '35', 'bo', 'g9', 'i3'}, 'dice_similarity': 0.0}, {'uid': '87889', 'actual_two_grams': ['ja', 'ay', 'ym', 'ma', 'ar', 'rr', 'ri', 'io', 'ot', 'tt', 't2', '21', '16', '61', '19', '95', '50'], 'predicted_two_grams': {'io', 'pb', 'w9', 'ne', 'w7', 'wd', 'cj', '29', 'f8', 'tj', 'mf', 'p1', 'fx', 'p4', 'cd', 'mi', 's9', 'hb', 'ug', 'p2', 'p8', 'sw', 'k8', 'ld', 'dq', 'k1', 'xa', 'f9', 'l5', 'eg', 'r9', '35', 'bo', 'g9', 'i3'}, 'dice_similarity': 0.0385}, {'uid': '93848', 'actual_two_grams': ['ma', 'ar', 'ri', 'ie', 'ec', 'co', 'or', 'rn', 'nw', 'we', 'el', 'll', 'l1', '12', '21', '11', '19', '95', '54'], 'predicted_two_grams': {'io', 'pb', 'w9', 'ne', 'w7', 'wd', 'cj', '29', 'f8', 'tj', 'mf', 'p1', 'fx', 'p4', 'cd', 'mi', 's9', 'hb', 'ug', 'p2', 'p8', 'sw', 'k8', 'ld', 'dq', 'k1', 'xa', 'f9', 'l5', 'eg', 'r9', '35', 'bo', 'g9', 'i3'}, 'dice_similarity': 0.0}, {'uid': '47734', 'actual_two_grams': ['la', 'au', 'ur', 'ra', 'am', 'me', 'en', 'nd', 'do', 'oz', 'za', 'a3', '31', '17', '71', '19', '95', '53'], 'predicted_two_grams': {'io', 'pb', 'w9', 'ne', 'w7', 'wd', 'cj', '29', 'f8', 'tj', 'mf', 'p1', 'fx', 'p4', 'cd', 'mi', 's9', 'hb', 'ug', 'p2', 'p8', 'sw', 'k8', 'ld', 'dq', 'k1', 'xa', 'f9', 'l5', 'eg', 'r9', '35', 'bo', 'g9', 'i3'}, 'dice_similarity': 0.0}, {'uid': '72281', 'actual_two_grams': ['al', 'lv', 'vi', 'in', 'nc', 'cl', 'la', 'ar', 'rk', 'k1', '10', '03', '31', '19', '96', '63'], 'predicted_two_grams': {'io', 'pb', 'w9', 'ne', 'w7', 'wd', 'cj', '29', 'f8', 'tj', 'mf', 'p1', 'fx', 'p4', 'cd', 'mi', 's9', 'hb', 'ug', 'p2', 'p8', 'sw', 'k8', 'ld', 'dq', 'k1', 'xa', 'f9', 'l5', 'eg', 'r9', '35', 'bo', 'g9', 'i3'}, 'dice_similarity': 0.0392}, {'uid': '7463', 'actual_two_grams': ['ra', 'aq', 'qu', 'ue', 'el', 'lr', 'ru', 'us', 'ss', 'se', 'el', 'll', 'l9', '95', '51', '19', '98', '84'], 'predicted_two_grams': {'io', 'pb', 'w9', 'ne', 'w7', 'wd', 'cj', '29', 'f8', 'tj', 'mf', 'p1', 'fx', 'p4', 'cd', 'mi', 's9', 'hb', 'ug', 'p2', 'p8', 'sw', 'k8', 'ld', 'dq', 'k1', 'xa', 'f9', 'l5', 'eg', 'r9', '35', 'bo', 'g9', 'i3'}, 'dice_similarity': 0.0}, {'uid': '77287', 'actual_two_grams': ['ke', 'ev', 've', 'en', 'ns', 'si', 'im', 'ms', 's1', '11', '11', '11', '19', '98', '86'], 'predicted_two_grams': {'io', 'pb', 'w9', 'ne', 'w7', 'wd', 'cj', '29', 'f8', 'tj', 'mf', 'p1', 'fx', 'p4', 'cd', 'mi', 's9', 'hb', 'ug', 'p2', 'p8', 'sw', 'k8', 'ld', 'dq', 'k1', 'xa', 'f9', 'l5', 'eg', 'r9', '35', 'bo', 'g9', 'i3'}, 'dice_similarity': 0.0}, {'uid': '6000', 'actual_two_grams': ['de', 'en', 'ni', 'is', 'sh', 'ha', 'ab', 'bi', 'ib', 'bl', 'le', 'e7', '74', '41', '19', '96', '64'], 'predicted_two_grams': {'io', 'pb', 'w9', 'ne', 'w7', 'wd', 'cj', '29', 'f8', 'tj', 'mf', 'p1', 'fx', 'p4', 'cd', 'mi', 's9', 'hb', 'ug', 'p2', 'p8', 'sw', 'k8', 'ld', 'dq', 'k1', 'xa', 'f9', 'l5', 'eg', 'r9', '35', 'bo', 'g9', 'i3'}, 'dice_similarity': 0.0}, {'uid': '18121', 'actual_two_grams': ['ly', 'yn', 'nn', 'nh', 'hi', 'il', 'll', 'lm', 'ma', 'an', 'n1', '11', '12', '26', '61', '19', '97', '78'], 'predicted_two_grams': {'io', 'pb', 'w9', 'ne', 'w7', 'wd', 'cj', '29', 'f8', 'tj', 'mf', 'p1', 'fx', 'p4', 'cd', 'mi', 's9', 'hb', 'ug', 'p2', 'p8', 'sw', 'k8', 'ld', 'dq', 'k1', 'xa', 'f9', 'l5', 'eg', 'r9', '35', 'bo', 'g9', 'i3'}, 'dice_similarity': 0.0}, {'uid': '83494', 'actual_two_grams': ['jo', 'on', 'na', 'ah', 'hj', 'jo', 'on', 'ne', 'es', 's1', '12', '22', '25', '51', '19', '93', '37'], 'predicted_two_grams': {'io', 'pb', 'w9', 'ne', 'w7', 'wd', 'cj', '29', 'f8', 'tj', 'mf', 'p1', 'fx', 'p4', 'cd', 'mi', 's9', 'hb', 'ug', 'p2', 'p8', 'sw', 'k8', 'ld', 'dq', 'k1', 'xa', 'f9', 'l5', 'eg', 'r9', '35', 'bo', 'g9', 'i3'}, 'dice_similarity': 0.04}, {'uid': '90854', 'actual_two_grams': ['be', 'er', 'rn', 'na', 'ad', 'de', 'et', 'tt', 'te', 'eh', 'ho', 'ol', 'll', 'le', 'en', 'nb', 'be', 'ec', 'ck', 'k2', '24', '41', '19', '98', '86'], 'predicted_two_grams': {'io', 'pb', 'w9', 'ne', 'w7', 'wd', 'cj', '29', 'f8', 'tj', 'mf', 'p1', 'fx', 'p4', 'cd', 'mi', 's9', 'hb', 'ug', 'p2', 'p8', 'sw', 'k8', 'ld', 'dq', 'k1', 'xa', 'f9', 'l5', 'eg', 'r9', '35', 'bo', 'g9', 'i3'}, 'dice_similarity': 0.0}, {'uid': '15011', 'actual_two_grams': ['er', 'ri', 'in', 'nh', 'he', 'ep', 'pw', 'wo', 'or', 'rt', 'th', 'h4', '42', '28', '81', '19', '99', '92'], 'predicted_two_grams': {'io', 'pb', 'w9', 'ne', 'w7', 'wd', 'cj', '29', 'f8', 'tj', 'mf', 'p1', 'fx', 'p4', 'cd', 'mi', 's9', 'hb', 'ug', 'p2', 'p8', 'sw', 'k8', 'ld', 'dq', 'k1', 'xa', 'f9', 'l5', 'eg', 'r9', '35', 'bo', 'g9', 'i3'}, 'dice_similarity': 0.0}, {'uid': '79229', 'actual_two_grams': ['be', 'er', 'rt', 'th', 'ha', 'aj', 'ja', 'am', 'me', 'es', 's3', '31', '13', '31', '19', '98', '80'], 'predicted_two_grams': {'io', 'pb', 'w9', 'ne', 'w7', 'wd', 'cj', '29', 'f8', 'tj', 'mf', 'p1', 'fx', 'p4', 'cd', 'mi', 's9', 'hb', 'ug', 'p2', 'p8', 'sw', 'k8', 'ld', 'dq', 'k1', 'xa', 'f9', 'l5', 'eg', 'r9', '35', 'bo', 'g9', 'i3'}, 'dice_similarity': 0.0}, {'uid': '62063', 'actual_two_grams': ['tr', 'ra', 'ac', 'ci', 'ie', 'er', 'ro', 'ow', 'wa', 'an', 'n2', '22', '21', '11', '19', '93', '37'], 'predicted_two_grams': {'io', 'pb', 'w9', 'ne', 'w7', 'wd', 'cj', '29', 'f8', 'tj', 'mf', 'p1', 'fx', 'p4', 'cd', 'mi', 's9', 'hb', 'ug', 'p2', 'p8', 'sw', 'k8', 'ld', 'dq', 'k1', 'xa', 'f9', 'l5', 'eg', 'r9', '35', 'bo', 'g9', 'i3'}, 'dice_similarity': 0.0}, {'uid': '58620', 'actual_two_grams': ['es', 'st', 'th', 'he', 'er', 'rr', 'ro', 'ou', 'us', 'se', 'e1', '11', '11', '18', '81', '19', '95', '58'], 'predicted_two_grams': {'io', 'pb', 'w9', 'ne', 'w7', 'wd', 'cj', '29', 'f8', 'tj', 'mf', 'p1', 'fx', 'p4', 'cd', 'mi', 's9', 'hb', 'ug', 'p2', 'p8', 'sw', 'k8', 'ld', 'dq', 'k1', 'xa', 'f9', 'l5', 'eg', 'r9', '35', 'bo', 'g9', 'i3'}, 'dice_similarity': 0.0}, {'uid': '82543', 'actual_two_grams': ['ma', 'ar', 'rg', 'ga', 'ar', 're', 'et', 'td', 'da', 'an', 'nt', 't1', '10', '07', '71', '19', '95', '54'], 'predicted_two_grams': {'io', 'pb', 'w9', 'ne', 'w7', 'wd', 'cj', '29', 'f8', 'tj', 'mf', 'p1', 'fx', 'p4', 'cd', 'mi', 's9', 'hb', 'ug', 'p2', 'p8', 'sw', 'k8', 'ld', 'dq', 'k1', 'xa', 'f9', 'l5', 'eg', 'r9', '35', 'bo', 'g9', 'i3'}, 'dice_similarity': 0.0}, {'uid': '85617', 'actual_two_grams': ['da', 'av', 'vi', 'id', 'dl', 'la', 'aw', 'ws', 'so', 'on', 'n7', '75', '51', '19', '99', '91'], 'predicted_two_grams': {'io', 'pb', 'w9', 'ne', 'w7', 'wd', 'cj', '29', 'f8', 'tj', 'mf', 'p1', 'fx', 'p4', 'cd', 'mi', 's9', 'hb', 'ug', 'p2', 'p8', 'sw', 'k8', 'ld', 'dq', 'k1', 'xa', 'f9', 'l5', 'eg', 'r9', '35', 'bo', 'g9', 'i3'}, 'dice_similarity': 0.0}, {'uid': '18593', 'actual_two_grams': ['mi', 'ic', 'ch', 'he', 'el', 'll', 'le', 'ek', 'ko', 'or', 'ra', 'an', 'nd', 'do', 'o1', '11', '13', '30', '01', '19', '98', '82'], 'predicted_two_grams': {'io', 'pb', 'w9', 'ne', 'w7', 'wd', 'cj', '29', 'f8', 'tj', 'mf', 'p1', 'fx', 'p4', 'cd', 'mi', 's9', 'hb', 'ug', 'p2', 'p8', 'sw', 'k8', 'ld', 'dq', 'k1', 'xa', 'f9', 'l5', 'eg', 'r9', '35', 'bo', 'g9', 'i3'}, 'dice_similarity': 0.0351}, {'uid': '15958', 'actual_two_grams': ['sh', 'ha', 'ar', 'ro', 'on', 'nm', 'ma', 'ar', 'rt', 'ti', 'in', 'ne', 'ez', 'z3', '31', '11', '11', '19', '95', '53'], 'predicted_two_grams': {'io', 'pb', 'w9', 'ne', 'w7', 'wd', 'cj', '29', 'f8', 'tj', 'mf', 'p1', 'fx', 'p4', 'cd', 'mi', 's9', 'hb', 'ug', 'p2', 'p8', 'sw', 'k8', 'ld', 'dq', 'k1', 'xa', 'f9', 'l5', 'eg', 'r9', '35', 'bo', 'g9', 'i3'}, 'dice_similarity': 0.0377}, {'uid': '42694', 'actual_two_grams': ['be', 'ev', 've', 'er', 'rl', 'ly', 'yl', 'lu', 'us', 'sk', 'k1', '12', '21', '12', '21', '19', '98', '81'], 'predicted_two_grams': {'io', 'pb', 'w9', 'ne', 'w7', 'wd', 'cj', '29', 'f8', 'tj', 'mf', 'p1', 'fx', 'p4', 'cd', 'mi', 's9', 'hb', 'ug', 'p2', 'p8', 'sw', 'k8', 'ld', 'dq', 'k1', 'xa', 'f9', 'l5', 'eg', 'r9', '35', 'bo', 'g9', 'i3'}, 'dice_similarity': 0.0392}, {'uid': '94663', 'actual_two_grams': ['ma', 'ar', 'rg', 'ga', 'ar', 're', 'et', 'tl', 'la', 'ar', 'rs', 'se', 'en', 'n2', '29', '91', '19', '99', '92'], 'predicted_two_grams': {'io', 'pb', 'w9', 'ne', 'w7', 'wd', 'cj', '29', 'f8', 'tj', 'mf', 'p1', 'fx', 'p4', 'cd', 'mi', 's9', 'hb', 'ug', 'p2', 'p8', 'sw', 'k8', 'ld', 'dq', 'k1', 'xa', 'f9', 'l5', 'eg', 'r9', '35', 'bo', 'g9', 'i3'}, 'dice_similarity': 0.0385}, {'uid': '31743', 'actual_two_grams': ['li', 'is', 'sa', 'ab', 'bu', 'ug', 'gg', 'gs', 's7', '72', '28', '81', '19', '98', '81'], 'predicted_two_grams': {'io', 'pb', 'w9', 'ne', 'w7', 'wd', 'cj', '29', 'f8', 'tj', 'mf', 'p1', 'fx', 'p4', 'cd', 'mi', 's9', 'hb', 'ug', 'p2', 'p8', 'sw', 'k8', 'ld', 'dq', 'k1', 'xa', 'f9', 'l5', 'eg', 'r9', '35', 'bo', 'g9', 'i3'}, 'dice_similarity': 0.0408}, {'uid': '6445', 'actual_two_grams': ['ju', 'ud', 'di', 'it', 'th', 'hc', 'co', 'om', 'mb', 'bs', 's7', '72', '24', '41', '19', '93', '39'], 'predicted_two_grams': {'io', 'pb', 'w9', 'ne', 'w7', 'wd', 'cj', '29', 'f8', 'tj', 'mf', 'p1', 'fx', 'p4', 'cd', 'mi', 's9', 'hb', 'ug', 'p2', 'p8', 'sw', 'k8', 'ld', 'dq', 'k1', 'xa', 'f9', 'l5', 'eg', 'r9', '35', 'bo', 'g9', 'i3'}, 'dice_similarity': 0.0}, {'uid': '1877', 'actual_two_grams': ['wa', 'al', 'll', 'la', 'ac', 'ce', 'eb', 'bl', 'la', 'an', 'nc', 'ch', 'ha', 'ar', 'rd', 'd1', '12', '25', '51', '19', '97', '70'], 'predicted_two_grams': {'io', 'pb', 'w9', 'ne', 'w7', 'wd', 'cj', '29', 'f8', 'tj', 'mf', 'p1', 'fx', 'p4', 'cd', 'mi', 's9', 'hb', 'ug', 'p2', 'p8', 'sw', 'k8', 'ld', 'dq', 'k1', 'xa', 'f9', 'l5', 'eg', 'r9', '35', 'bo', 'g9', 'i3'}, 'dice_similarity': 0.0}, {'uid': '25347', 'actual_two_grams': ['pa', 'at', 'tr', 'ri', 'ic', 'ck', 'kg', 'ga', 'as', 'ss', 's1', '10', '02', '20', '01', '19', '94', '40'], 'predicted_two_grams': {'io', 'pb', 'w9', 'ne', 'w7', 'wd', 'cj', '29', 'f8', 'tj', 'mf', 'p1', 'fx', 'p4', 'cd', 'mi', 's9', 'hb', 'ug', 'p2', 'p8', 'sw', 'k8', 'ld', 'dq', 'k1', 'xa', 'f9', 'l5', 'eg', 'r9', '35', 'bo', 'g9', 'i3'}, 'dice_similarity': 0.0}, {'uid': '39750', 'actual_two_grams': ['ga', 'ar', 'ry', 'yj', 'jo', 'oh', 'hn', 'ns', 'so', 'on', 'n1', '11', '11', '18', '81', '19', '98', '86'], 'predicted_two_grams': {'io', 'pb', 'w9', 'ne', 'w7', 'wd', 'cj', '29', 'f8', 'tj', 'mf', 'p1', 'fx', 'p4', 'cd', 'mi', 's9', 'hb', 'ug', 'p2', 'p8', 'sw', 'k8', 'ld', 'dq', 'k1', 'xa', 'f9', 'l5', 'eg', 'r9', '35', 'bo', 'g9', 'i3'}, 'dice_similarity': 0.0}, {'uid': '34118', 'actual_two_grams': ['jo', 'os', 'sh', 'hu', 'ua', 'ac', 'ca', 'ar', 'rr', 'ri', 'il', 'll', 'lo', 'o7', '71', '13', '31', '19', '96', '68'], 'predicted_two_grams': {'io', 'pb', 'w9', 'ne', 'w7', 'wd', 'cj', '29', 'f8', 'tj', 'mf', 'p1', 'fx', 'p4', 'cd', 'mi', 's9', 'hb', 'ug', 'p2', 'p8', 'sw', 'k8', 'ld', 'dq', 'k1', 'xa', 'f9', 'l5', 'eg', 'r9', '35', 'bo', 'g9', 'i3'}, 'dice_similarity': 0.0}, {'uid': '49542', 'actual_two_grams': ['ca', 'ar', 'ro', 'ol', 'li', 'in', 'ne', 'ek', 'kl', 'li', 'in', 'ne', 'e1', '12', '26', '61', '19', '95', '50'], 'predicted_two_grams': {'io', 'pb', 'w9', 'ne', 'w7', 'wd', 'cj', '29', 'f8', 'tj', 'mf', 'p1', 'fx', 'p4', 'cd', 'mi', 's9', 'hb', 'ug', 'p2', 'p8', 'sw', 'k8', 'ld', 'dq', 'k1', 'xa', 'f9', 'l5', 'eg', 'r9', '35', 'bo', 'g9', 'i3'}, 'dice_similarity': 0.0392}, {'uid': '16736', 'actual_two_grams': ['je', 'es', 'ss', 'se', 'ef', 'fi', 'ia', 'al', 'la', 'a1', '11', '16', '61', '19', '96', '61'], 'predicted_two_grams': {'io', 'pb', 'w9', 'ne', 'w7', 'wd', 'cj', '29', 'f8', 'tj', 'mf', 'p1', 'fx', 'p4', 'cd', 'mi', 's9', 'hb', 'ug', 'p2', 'p8', 'sw', 'k8', 'ld', 'dq', 'k1', 'xa', 'f9', 'l5', 'eg', 'r9', '35', 'bo', 'g9', 'i3'}, 'dice_similarity': 0.0}, {'uid': '5136', 'actual_two_grams': ['ka', 'at', 'tr', 'ri', 'in', 'na', 'ab', 'bu', 'ur', 'rt', 'to', 'on', 'n1', '11', '11', '19', '91', '19', '98', '80'], 'predicted_two_grams': {'io', 'pb', 'w9', 'ne', 'w7', 'wd', 'cj', '29', 'f8', 'tj', 'mf', 'p1', 'fx', 'p4', 'cd', 'mi', 's9', 'hb', 'ug', 'p2', 'p8', 'sw', 'k8', 'ld', 'dq', 'k1', 'xa', 'f9', 'l5', 'eg', 'r9', '35', 'bo', 'g9', 'i3'}, 'dice_similarity': 0.0}, {'uid': '71211', 'actual_two_grams': ['to', 'om', 'mh', 'ha', 'ar', 'rr', 'ri', 'is', 'so', 'on', 'n2', '22', '25', '51', '19', '96', '69'], 'predicted_two_grams': {'io', 'pb', 'w9', 'ne', 'w7', 'wd', 'cj', '29', 'f8', 'tj', 'mf', 'p1', 'fx', 'p4', 'cd', 'mi', 's9', 'hb', 'ug', 'p2', 'p8', 'sw', 'k8', 'ld', 'dq', 'k1', 'xa', 'f9', 'l5', 'eg', 'r9', '35', 'bo', 'g9', 'i3'}, 'dice_similarity': 0.0}, {'uid': '9693', 'actual_two_grams': ['sa', 'al', 'll', 'ly', 'yw', 'wr', 'ri', 'ig', 'gh', 'ht', 't1', '11', '13', '30', '01', '19', '98', '83'], 'predicted_two_grams': {'io', 'pb', 'w9', 'ne', 'w7', 'wd', 'cj', '29', 'f8', 'tj', 'mf', 'p1', 'fx', 'p4', 'cd', 'mi', 's9', 'hb', 'ug', 'p2', 'p8', 'sw', 'k8', 'ld', 'dq', 'k1', 'xa', 'f9', 'l5', 'eg', 'r9', '35', 'bo', 'g9', 'i3'}, 'dice_similarity': 0.0}, {'uid': '30463', 'actual_two_grams': ['ma', 'ar', 'rk', 'kd', 'du', 'un', 'nn', 'n4', '41', '15', '51', '19', '95', '59'], 'predicted_two_grams': {'io', 'pb', 'w9', 'ne', 'w7', 'wd', 'cj', '29', 'f8', 'tj', 'mf', 'p1', 'fx', 'p4', 'cd', 'mi', 's9', 'hb', 'ug', 'p2', 'p8', 'sw', 'k8', 'ld', 'dq', 'k1', 'xa', 'f9', 'l5', 'eg', 'r9', '35', 'bo', 'g9', 'i3'}, 'dice_similarity': 0.0}, {'uid': '40924', 'actual_two_grams': ['ma', 'ar', 'rk', 'kb', 'bo', 'oy', 'yd', 'd2', '22', '21', '19', '97', '76'], 'predicted_two_grams': {'io', 'pb', 'w9', 'ne', 'w7', 'wd', 'cj', '29', 'f8', 'tj', 'mf', 'p1', 'fx', 'p4', 'cd', 'mi', 's9', 'hb', 'ug', 'p2', 'p8', 'sw', 'k8', 'ld', 'dq', 'k1', 'xa', 'f9', 'l5', 'eg', 'r9', '35', 'bo', 'g9', 'i3'}, 'dice_similarity': 0.0417}, {'uid': '77547', 'actual_two_grams': ['da', 'an', 'ni', 'ie', 'el', 'lm', 'mi', 'it', 'tc', 'ch', 'he', 'el', 'll', 'l8', '81', '11', '11', '19', '94', '44'], 'predicted_two_grams': {'io', 'pb', 'w9', 'ne', 'w7', 'wd', 'cj', '29', 'f8', 'tj', 'mf', 'p1', 'fx', 'p4', 'cd', 'mi', 's9', 'hb', 'ug', 'p2', 'p8', 'sw', 'k8', 'ld', 'dq', 'k1', 'xa', 'f9', 'l5', 'eg', 'r9', '35', 'bo', 'g9', 'i3'}, 'dice_similarity': 0.0377}, {'uid': '11908', 'actual_two_grams': ['je', 'en', 'nn', 'ni', 'if', 'fe', 'er', 'rs', 'so', 'ol', 'lo', 'om', 'mo', 'on', 'n1', '10', '02', '25', '51', '19', '99', '91'], 'predicted_two_grams': {'io', 'pb', 'w9', 'ne', 'w7', 'wd', 'cj', '29', 'f8', 'tj', 'mf', 'p1', 'fx', 'p4', 'cd', 'mi', 's9', 'hb', 'ug', 'p2', 'p8', 'sw', 'k8', 'ld', 'dq', 'k1', 'xa', 'f9', 'l5', 'eg', 'r9', '35', 'bo', 'g9', 'i3'}, 'dice_similarity': 0.0}, {'uid': '31765', 'actual_two_grams': ['le', 'ew', 'wi', 'is', 'sb', 'be', 'el', 'll', 'l5', '55', '51', '19', '97', '77'], 'predicted_two_grams': {'io', 'pb', 'w9', 'ne', 'w7', 'wd', 'cj', '29', 'f8', 'tj', 'mf', 'p1', 'fx', 'p4', 'cd', 'mi', 's9', 'hb', 'ug', 'p2', 'p8', 'sw', 'k8', 'ld', 'dq', 'k1', 'xa', 'f9', 'l5', 'eg', 'r9', '35', 'bo', 'g9', 'i3'}, 'dice_similarity': 0.0408}, {'uid': '85137', 'actual_two_grams': ['an', 'nn', 'ne', 'eu', 'ur', 'rb', 'ba', 'an', 'ns', 'sk', 'ki', 'i2', '22', '28', '81', '19', '98', '82'], 'predicted_two_grams': {'io', 'pb', 'w9', 'ne', 'w7', 'wd', 'cj', '29', 'f8', 'tj', 'mf', 'p1', 'fx', 'p4', 'cd', 'mi', 's9', 'hb', 'ug', 'p2', 'p8', 'sw', 'k8', 'ld', 'dq', 'k1', 'xa', 'f9', 'l5', 'eg', 'r9', '35', 'bo', 'g9', 'i3'}, 'dice_similarity': 0.0385}, {'uid': '22173', 'actual_two_grams': ['ja', 'ac', 'ck', 'kp', 'pi', 'ie', 'er', 'rc', 'ce', 'e4', '41', '11', '11', '19', '98', '84'], 'predicted_two_grams': {'io', 'pb', 'w9', 'ne', 'w7', 'wd', 'cj', '29', 'f8', 'tj', 'mf', 'p1', 'fx', 'p4', 'cd', 'mi', 's9', 'hb', 'ug', 'p2', 'p8', 'sw', 'k8', 'ld', 'dq', 'k1', 'xa', 'f9', 'l5', 'eg', 'r9', '35', 'bo', 'g9', 'i3'}, 'dice_similarity': 0.0}, {'uid': '65425', 'actual_two_grams': ['ev', 've', 'el', 'ly', 'yn', 'nn', 'ne', 'el', 'ls', 'so', 'on', 'n7', '72', '28', '81', '19', '98', '89'], 'predicted_two_grams': {'io', 'pb', 'w9', 'ne', 'w7', 'wd', 'cj', '29', 'f8', 'tj', 'mf', 'p1', 'fx', 'p4', 'cd', 'mi', 's9', 'hb', 'ug', 'p2', 'p8', 'sw', 'k8', 'ld', 'dq', 'k1', 'xa', 'f9', 'l5', 'eg', 'r9', '35', 'bo', 'g9', 'i3'}, 'dice_similarity': 0.0385}, {'uid': '60237', 'actual_two_grams': ['ch', 'hr', 'ri', 'is', 'st', 'to', 'op', 'ph', 'he', 'er', 'rh', 'ha', 'ay', 'yd', 'do', 'on', 'n1', '11', '10', '01', '19', '97', '70'], 'predicted_two_grams': {'io', 'pb', 'w9', 'ne', 'w7', 'wd', 'cj', '29', 'f8', 'tj', 'mf', 'p1', 'fx', 'p4', 'cd', 'mi', 's9', 'hb', 'ug', 'p2', 'p8', 'sw', 'k8', 'ld', 'dq', 'k1', 'xa', 'f9', 'l5', 'eg', 'r9', '35', 'bo', 'g9', 'i3'}, 'dice_similarity': 0.0}, {'uid': '58834', 'actual_two_grams': ['sa', 'am', 'ma', 'an', 'nt', 'th', 'ha', 'ap', 'pa', 'ar', 'rk', 'ke', 'er', 'r1', '11', '12', '25', '51', '19', '94', '43'], 'predicted_two_grams': {'io', 'pb', 'w9', 'ne', 'w7', 'wd', 'cj', '29', 'f8', 'tj', 'mf', 'p1', 'fx', 'p4', 'cd', 'mi', 's9', 'hb', 'ug', 'p2', 'p8', 'sw', 'k8', 'ld', 'dq', 'k1', 'xa', 'f9', 'l5', 'eg', 'r9', '35', 'bo', 'g9', 'i3'}, 'dice_similarity': 0.0}, {'uid': '53716', 'actual_two_grams': ['du', 'us', 'st', 'ti', 'in', 'nr', 'ru', 'ut', 'tz', 'z9', '91', '11', '11', '19', '98', '81'], 'predicted_two_grams': {'io', 'pb', 'w9', 'ne', 'w7', 'wd', 'cj', '29', 'f8', 'tj', 'mf', 'p1', 'fx', 'p4', 'cd', 'mi', 's9', 'hb', 'ug', 'p2', 'p8', 'sw', 'k8', 'ld', 'dq', 'k1', 'xa', 'f9', 'l5', 'eg', 'r9', '35', 'bo', 'g9', 'i3'}, 'dice_similarity': 0.0}, {'uid': '24843', 'actual_two_grams': ['fr', 'ra', 'an', 'nk', 'ka', 'al', 'le', 'ex', 'xa', 'an', 'nd', 'de', 'er', 'r8', '81', '10', '01', '19', '99', '96'], 'predicted_two_grams': {'io', 'pb', 'w9', 'ne', 'w7', 'wd', 'cj', '29', 'f8', 'tj', 'mf', 'p1', 'fx', 'p4', 'cd', 'mi', 's9', 'hb', 'ug', 'p2', 'p8', 'sw', 'k8', 'ld', 'dq', 'k1', 'xa', 'f9', 'l5', 'eg', 'r9', '35', 'bo', 'g9', 'i3'}, 'dice_similarity': 0.037}, {'uid': '73153', 'actual_two_grams': ['me', 'el', 'li', 'is', 'ss', 'sa', 'aw', 'wa', 'ag', 'gn', 'ne', 'er', 'r5', '52', '22', '21', '19', '94', '42'], 'predicted_two_grams': {'io', 'pb', 'w9', 'ne', 'w7', 'wd', 'cj', '29', 'f8', 'tj', 'mf', 'p1', 'fx', 'p4', 'cd', 'mi', 's9', 'hb', 'ug', 'p2', 'p8', 'sw', 'k8', 'ld', 'dq', 'k1', 'xa', 'f9', 'l5', 'eg', 'r9', '35', 'bo', 'g9', 'i3'}, 'dice_similarity': 0.037}, {'uid': '82052', 'actual_two_grams': ['ka', 'ar', 're', 'en', 'na', 'ab', 'ba', 'ad', 'di', 'ie', 'e1', '11', '14', '41', '19', '93', '38'], 'predicted_two_grams': {'io', 'pb', 'w9', 'ne', 'w7', 'wd', 'cj', '29', 'f8', 'tj', 'mf', 'p1', 'fx', 'p4', 'cd', 'mi', 's9', 'hb', 'ug', 'p2', 'p8', 'sw', 'k8', 'ld', 'dq', 'k1', 'xa', 'f9', 'l5', 'eg', 'r9', '35', 'bo', 'g9', 'i3'}, 'dice_similarity': 0.0}, {'uid': '65375', 'actual_two_grams': ['ju', 'ua', 'an', 'ni', 'it', 'ta', 'ao', 'od', 'de', 'en', 'n1', '13', '31', '19', '94', '49'], 'predicted_two_grams': {'io', 'pb', 'w9', 'ne', 'w7', 'wd', 'cj', '29', 'f8', 'tj', 'mf', 'p1', 'fx', 'p4', 'cd', 'mi', 's9', 'hb', 'ug', 'p2', 'p8', 'sw', 'k8', 'ld', 'dq', 'k1', 'xa', 'f9', 'l5', 'eg', 'r9', '35', 'bo', 'g9', 'i3'}, 'dice_similarity': 0.0}, {'uid': '36896', 'actual_two_grams': ['di', 'iv', 'vi', 'in', 'na', 'ah', 'he', 'en', 'nd', 'de', 'er', 'rs', 'so', 'on', 'n4', '41', '19', '92', '20', '00', '03'], 'predicted_two_grams': {'io', 'pb', 'w9', 'ne', 'w7', 'wd', 'cj', '29', 'f8', 'tj', 'mf', 'p1', 'fx', 'p4', 'cd', 'mi', 's9', 'hb', 'ug', 'p2', 'p8', 'sw', 'k8', 'ld', 'dq', 'k1', 'xa', 'f9', 'l5', 'eg', 'r9', '35', 'bo', 'g9', 'i3'}, 'dice_similarity': 0.0}, {'uid': '98417', 'actual_two_grams': ['gr', 're', 'et', 'tc', 'ch', 'he', 'en', 'nh', 'ha', 'al', 'll', 'l5', '52', '20', '02', '20', '00', '00'], 'predicted_two_grams': {'io', 'pb', 'w9', 'ne', 'w7', 'wd', 'cj', '29', 'f8', 'tj', 'mf', 'p1', 'fx', 'p4', 'cd', 'mi', 's9', 'hb', 'ug', 'p2', 'p8', 'sw', 'k8', 'ld', 'dq', 'k1', 'xa', 'f9', 'l5', 'eg', 'r9', '35', 'bo', 'g9', 'i3'}, 'dice_similarity': 0.0392}, {'uid': '89896', 'actual_two_grams': ['do', 'on', 'ns', 'sm', 'mi', 'it', 'th', 'h4', '41', '15', '51', '19', '93', '37'], 'predicted_two_grams': {'io', 'pb', 'w9', 'ne', 'w7', 'wd', 'cj', '29', 'f8', 'tj', 'mf', 'p1', 'fx', 'p4', 'cd', 'mi', 's9', 'hb', 'ug', 'p2', 'p8', 'sw', 'k8', 'ld', 'dq', 'k1', 'xa', 'f9', 'l5', 'eg', 'r9', '35', 'bo', 'g9', 'i3'}, 'dice_similarity': 0.0408}, {'uid': '85068', 'actual_two_grams': ['cr', 'ri', 'is', 'st', 'ti', 'in', 'na', 'am', 'mo', 'oh', 'hr', 'r1', '13', '31', '19', '98', '85'], 'predicted_two_grams': {'io', 'pb', 'w9', 'ne', 'w7', 'wd', 'cj', '29', 'f8', 'tj', 'mf', 'p1', 'fx', 'p4', 'cd', 'mi', 's9', 'hb', 'ug', 'p2', 'p8', 'sw', 'k8', 'ld', 'dq', 'k1', 'xa', 'f9', 'l5', 'eg', 'r9', '35', 'bo', 'g9', 'i3'}, 'dice_similarity': 0.0}, {'uid': '61680', 'actual_two_grams': ['lo', 'og', 'ga', 'an', 'nm', 'ma', 'al', 'lo', 'on', 'ne', 'ey', 'y4', '41', '14', '41', '19', '95', '55'], 'predicted_two_grams': {'io', 'pb', 'w9', 'ne', 'w7', 'wd', 'cj', '29', 'f8', 'tj', 'mf', 'p1', 'fx', 'p4', 'cd', 'mi', 's9', 'hb', 'ug', 'p2', 'p8', 'sw', 'k8', 'ld', 'dq', 'k1', 'xa', 'f9', 'l5', 'eg', 'r9', '35', 'bo', 'g9', 'i3'}, 'dice_similarity': 0.0392}, {'uid': '80821', 'actual_two_grams': ['ma', 'ar', 'rg', 'go', 'ol', 'la', 'as', 'sh', 'hl', 'le', 'ey', 'y4', '41', '16', '61', '19', '99', '94'], 'predicted_two_grams': {'io', 'pb', 'w9', 'ne', 'w7', 'wd', 'cj', '29', 'f8', 'tj', 'mf', 'p1', 'fx', 'p4', 'cd', 'mi', 's9', 'hb', 'ug', 'p2', 'p8', 'sw', 'k8', 'ld', 'dq', 'k1', 'xa', 'f9', 'l5', 'eg', 'r9', '35', 'bo', 'g9', 'i3'}, 'dice_similarity': 0.0}, {'uid': '76710', 'actual_two_grams': ['he', 'er', 'rm', 'ma', 'an', 'nt', 'th', 'ho', 'om', 'ma', 'as', 's1', '11', '12', '28', '81', '19', '93', '38'], 'predicted_two_grams': {'io', 'pb', 'w9', 'ne', 'w7', 'wd', 'cj', '29', 'f8', 'tj', 'mf', 'p1', 'fx', 'p4', 'cd', 'mi', 's9', 'hb', 'ug', 'p2', 'p8', 'sw', 'k8', 'ld', 'dq', 'k1', 'xa', 'f9', 'l5', 'eg', 'r9', '35', 'bo', 'g9', 'i3'}, 'dice_similarity': 0.0}, {'uid': '89066', 'actual_two_grams': ['sa', 'am', 'ma', 'an', 'nt', 'th', 'ha', 'as', 'sh', 'ho', 'oe', 'em', 'ma', 'ak', 'ke', 'e2', '21', '11', '19', '98', '87'], 'predicted_two_grams': {'io', 'pb', 'w9', 'ne', 'w7', 'wd', 'cj', '29', 'f8', 'tj', 'mf', 'p1', 'fx', 'p4', 'cd', 'mi', 's9', 'hb', 'ug', 'p2', 'p8', 'sw', 'k8', 'ld', 'dq', 'k1', 'xa', 'f9', 'l5', 'eg', 'r9', '35', 'bo', 'g9', 'i3'}, 'dice_similarity': 0.0}, {'uid': '32326', 'actual_two_grams': ['jo', 'os', 'se', 'ep', 'ph', 'hb', 'br', 'ro', 'oo', 'ok', 'ks', 's6', '61', '10', '01', '19', '96', '61'], 'predicted_two_grams': {'io', 'pb', 'w9', 'ne', 'w7', 'wd', 'cj', '29', 'f8', 'tj', 'mf', 'p1', 'fx', 'p4', 'cd', 'mi', 's9', 'hb', 'ug', 'p2', 'p8', 'sw', 'k8', 'ld', 'dq', 'k1', 'xa', 'f9', 'l5', 'eg', 'r9', '35', 'bo', 'g9', 'i3'}, 'dice_similarity': 0.0385}, {'uid': '69208', 'actual_two_grams': ['je', 'en', 'nn', 'ni', 'if', 'fe', 'er', 'rr', 'ro', 'om', 'ma', 'an', 'no', 'o6', '61', '11', '19', '99', '99'], 'predicted_two_grams': {'io', 'pb', 'w9', 'ne', 'w7', 'wd', 'cj', '29', 'f8', 'tj', 'mf', 'p1', 'fx', 'p4', 'cd', 'mi', 's9', 'hb', 'ug', 'p2', 'p8', 'sw', 'k8', 'ld', 'dq', 'k1', 'xa', 'f9', 'l5', 'eg', 'r9', '35', 'bo', 'g9', 'i3'}, 'dice_similarity': 0.0}, {'uid': '14864', 'actual_two_grams': ['jo', 'on', 'na', 'at', 'th', 'ha', 'an', 'nc', 'ca', 'as', 'se', 'e5', '59', '91', '19', '98', '89'], 'predicted_two_grams': {'io', 'pb', 'w9', 'ne', 'w7', 'wd', 'cj', '29', 'f8', 'tj', 'mf', 'p1', 'fx', 'p4', 'cd', 'mi', 's9', 'hb', 'ug', 'p2', 'p8', 'sw', 'k8', 'ld', 'dq', 'k1', 'xa', 'f9', 'l5', 'eg', 'r9', '35', 'bo', 'g9', 'i3'}, 'dice_similarity': 0.0}, {'uid': '34091', 'actual_two_grams': ['po', 'ol', 'll', 'ly', 'yr', 'ri', 'id', 'dl', 'lo', 'on', 'n1', '12', '22', '22', '20', '00', '02'], 'predicted_two_grams': {'io', 'pb', 'w9', 'ne', 'w7', 'wd', 'cj', '29', 'f8', 'tj', 'mf', 'p1', 'fx', 'p4', 'cd', 'mi', 's9', 'hb', 'ug', 'p2', 'p8', 'sw', 'k8', 'ld', 'dq', 'k1', 'xa', 'f9', 'l5', 'eg', 'r9', '35', 'bo', 'g9', 'i3'}, 'dice_similarity': 0.0}, {'uid': '85334', 'actual_two_grams': ['ju', 'ud', 'di', 'it', 'th', 'hd', 'de', 'el', 'lo', 'or', 're', 'en', 'nz', 'zo', 'o5', '52', '24', '41', '19', '95', '59'], 'predicted_two_grams': {'io', 'pb', 'w9', 'ne', 'w7', 'wd', 'cj', '29', 'f8', 'tj', 'mf', 'p1', 'fx', 'p4', 'cd', 'mi', 's9', 'hb', 'ug', 'p2', 'p8', 'sw', 'k8', 'ld', 'dq', 'k1', 'xa', 'f9', 'l5', 'eg', 'r9', '35', 'bo', 'g9', 'i3'}, 'dice_similarity': 0.0}, {'uid': '23851', 'actual_two_grams': ['ag', 'gn', 'ne', 'es', 'sc', 'ca', 'am', 'mp', 'p5', '56', '61', '19', '99', '91'], 'predicted_two_grams': {'io', 'pb', 'w9', 'ne', 'w7', 'wd', 'cj', '29', 'f8', 'tj', 'mf', 'p1', 'fx', 'p4', 'cd', 'mi', 's9', 'hb', 'ug', 'p2', 'p8', 'sw', 'k8', 'ld', 'dq', 'k1', 'xa', 'f9', 'l5', 'eg', 'r9', '35', 'bo', 'g9', 'i3'}, 'dice_similarity': 0.0408}, {'uid': '46067', 'actual_two_grams': ['wi', 'il', 'll', 'li', 'ia', 'am', 'mg', 'gr', 're', 'eg', 'go', 'or', 'ry', 'y1', '10', '02', '20', '01', '19', '96', '66'], 'predicted_two_grams': {'io', 'pb', 'w9', 'ne', 'w7', 'wd', 'cj', '29', 'f8', 'tj', 'mf', 'p1', 'fx', 'p4', 'cd', 'mi', 's9', 'hb', 'ug', 'p2', 'p8', 'sw', 'k8', 'ld', 'dq', 'k1', 'xa', 'f9', 'l5', 'eg', 'r9', '35', 'bo', 'g9', 'i3'}, 'dice_similarity': 0.0357}, {'uid': '41936', 'actual_two_grams': ['fr', 're', 'ed', 'dm', 'mc', 'cc', 'cl', 'lu', 'ur', 're', 'e1', '11', '18', '81', '19', '97', '72'], 'predicted_two_grams': {'io', 'pb', 'w9', 'ne', 'w7', 'wd', 'cj', '29', 'f8', 'tj', 'mf', 'p1', 'fx', 'p4', 'cd', 'mi', 's9', 'hb', 'ug', 'p2', 'p8', 'sw', 'k8', 'ld', 'dq', 'k1', 'xa', 'f9', 'l5', 'eg', 'r9', '35', 'bo', 'g9', 'i3'}, 'dice_similarity': 0.0}, {'uid': '56822', 'actual_two_grams': ['ch', 'hr', 'ri', 'is', 'st', 'ti', 'in', 'ne', 'es', 'sh', 'he', 'er', 'rw', 'wo', 'oo', 'od', 'd8', '81', '13', '31', '19', '96', '60'], 'predicted_two_grams': {'io', 'pb', 'w9', 'ne', 'w7', 'wd', 'cj', '29', 'f8', 'tj', 'mf', 'p1', 'fx', 'p4', 'cd', 'mi', 's9', 'hb', 'ug', 'p2', 'p8', 'sw', 'k8', 'ld', 'dq', 'k1', 'xa', 'f9', 'l5', 'eg', 'r9', '35', 'bo', 'g9', 'i3'}, 'dice_similarity': 0.0345}, {'uid': '39600', 'actual_two_grams': ['al', 'lf', 'fr', 're', 'ed', 'do', 'oy', 'yo', 'ou', 'un', 'ng', 'g1', '12', '23', '31', '19', '94', '48'], 'predicted_two_grams': {'io', 'pb', 'w9', 'ne', 'w7', 'wd', 'cj', '29', 'f8', 'tj', 'mf', 'p1', 'fx', 'p4', 'cd', 'mi', 's9', 'hb', 'ug', 'p2', 'p8', 'sw', 'k8', 'ld', 'dq', 'k1', 'xa', 'f9', 'l5', 'eg', 'r9', '35', 'bo', 'g9', 'i3'}, 'dice_similarity': 0.0}, {'uid': '10074', 'actual_two_grams': ['pa', 'au', 'ul', 'lr', 're', 'en', 'nd', 'do', 'on', 'n1', '16', '61', '19', '97', '72'], 'predicted_two_grams': {'io', 'pb', 'w9', 'ne', 'w7', 'wd', 'cj', '29', 'f8', 'tj', 'mf', 'p1', 'fx', 'p4', 'cd', 'mi', 's9', 'hb', 'ug', 'p2', 'p8', 'sw', 'k8', 'ld', 'dq', 'k1', 'xa', 'f9', 'l5', 'eg', 'r9', '35', 'bo', 'g9', 'i3'}, 'dice_similarity': 0.0}, {'uid': '69257', 'actual_two_grams': ['ba', 'ar', 'rb', 'ba', 'ar', 'ra', 'ad', 'do', 'os', 'ss', 's8', '81', '19', '92', '20', '00', '02'], 'predicted_two_grams': {'io', 'pb', 'w9', 'ne', 'w7', 'wd', 'cj', '29', 'f8', 'tj', 'mf', 'p1', 'fx', 'p4', 'cd', 'mi', 's9', 'hb', 'ug', 'p2', 'p8', 'sw', 'k8', 'ld', 'dq', 'k1', 'xa', 'f9', 'l5', 'eg', 'r9', '35', 'bo', 'g9', 'i3'}, 'dice_similarity': 0.0}, {'uid': '44367', 'actual_two_grams': ['be', 'et', 'tt', 'ty', 'yl', 'lo', 'op', 'pp', 'p1', '12', '22', '26', '61', '19', '94', '40'], 'predicted_two_grams': {'io', 'pb', 'w9', 'ne', 'w7', 'wd', 'cj', '29', 'f8', 'tj', 'mf', 'p1', 'fx', 'p4', 'cd', 'mi', 's9', 'hb', 'ug', 'p2', 'p8', 'sw', 'k8', 'ld', 'dq', 'k1', 'xa', 'f9', 'l5', 'eg', 'r9', '35', 'bo', 'g9', 'i3'}, 'dice_similarity': 0.0392}, {'uid': '63887', 'actual_two_grams': ['am', 'ma', 'an', 'nd', 'da', 'aw', 'wr', 'ri', 'ig', 'gh', 'ht', 't1', '11', '17', '71', '19', '96', '62'], 'predicted_two_grams': {'io', 'pb', 'w9', 'ne', 'w7', 'wd', 'cj', '29', 'f8', 'tj', 'mf', 'p1', 'fx', 'p4', 'cd', 'mi', 's9', 'hb', 'ug', 'p2', 'p8', 'sw', 'k8', 'ld', 'dq', 'k1', 'xa', 'f9', 'l5', 'eg', 'r9', '35', 'bo', 'g9', 'i3'}, 'dice_similarity': 0.0}, {'uid': '45611', 'actual_two_grams': ['li', 'in', 'nd', 'da', 'ae', 'en', 'ng', 'ge', 'el', 'lh', 'ha', 'ar', 'rd', 'dt', 't3', '31', '13', '32', '20', '00', '01'], 'predicted_two_grams': {'io', 'pb', 'w9', 'ne', 'w7', 'wd', 'cj', '29', 'f8', 'tj', 'mf', 'p1', 'fx', 'p4', 'cd', 'mi', 's9', 'hb', 'ug', 'p2', 'p8', 'sw', 'k8', 'ld', 'dq', 'k1', 'xa', 'f9', 'l5', 'eg', 'r9', '35', 'bo', 'g9', 'i3'}, 'dice_similarity': 0.0}, {'uid': '74296', 'actual_two_grams': ['ho', 'ol', 'll', 'ly', 'yh', 'ho', 'oy', 'yt', 't5', '51', '16', '61', '19', '93', '39'], 'predicted_two_grams': {'io', 'pb', 'w9', 'ne', 'w7', 'wd', 'cj', '29', 'f8', 'tj', 'mf', 'p1', 'fx', 'p4', 'cd', 'mi', 's9', 'hb', 'ug', 'p2', 'p8', 'sw', 'k8', 'ld', 'dq', 'k1', 'xa', 'f9', 'l5', 'eg', 'r9', '35', 'bo', 'g9', 'i3'}, 'dice_similarity': 0.0}, {'uid': '7867', 'actual_two_grams': ['da', 'an', 'ni', 'ie', 'el', 'lr', 'ro', 'om', 'ma', 'an', 'no', 'o1', '10', '05', '52', '20', '00', '01'], 'predicted_two_grams': {'io', 'pb', 'w9', 'ne', 'w7', 'wd', 'cj', '29', 'f8', 'tj', 'mf', 'p1', 'fx', 'p4', 'cd', 'mi', 's9', 'hb', 'ug', 'p2', 'p8', 'sw', 'k8', 'ld', 'dq', 'k1', 'xa', 'f9', 'l5', 'eg', 'r9', '35', 'bo', 'g9', 'i3'}, 'dice_similarity': 0.0}, {'uid': '81389', 'actual_two_grams': ['jo', 'oe', 'ed', 'do', 'ob', 'bb', 'bi', 'in', 'ns', 's6', '64', '41', '19', '96', '67'], 'predicted_two_grams': {'io', 'pb', 'w9', 'ne', 'w7', 'wd', 'cj', '29', 'f8', 'tj', 'mf', 'p1', 'fx', 'p4', 'cd', 'mi', 's9', 'hb', 'ug', 'p2', 'p8', 'sw', 'k8', 'ld', 'dq', 'k1', 'xa', 'f9', 'l5', 'eg', 'r9', '35', 'bo', 'g9', 'i3'}, 'dice_similarity': 0.0}, {'uid': '45540', 'actual_two_grams': ['da', 'av', 'vi', 'id', 'dl', 'le', 'ew', 'wi', 'is', 's6', '61', '13', '31', '19', '97', '70'], 'predicted_two_grams': {'io', 'pb', 'w9', 'ne', 'w7', 'wd', 'cj', '29', 'f8', 'tj', 'mf', 'p1', 'fx', 'p4', 'cd', 'mi', 's9', 'hb', 'ug', 'p2', 'p8', 'sw', 'k8', 'ld', 'dq', 'k1', 'xa', 'f9', 'l5', 'eg', 'r9', '35', 'bo', 'g9', 'i3'}, 'dice_similarity': 0.0}, {'uid': '92639', 'actual_two_grams': ['ju', 'ud', 'dy', 'ym', 'ma', 'ar', 'rt', 'ti', 'in', 'ne', 'ez', 'z1', '12', '25', '51', '19', '98', '89'], 'predicted_two_grams': {'io', 'pb', 'w9', 'ne', 'w7', 'wd', 'cj', '29', 'f8', 'tj', 'mf', 'p1', 'fx', 'p4', 'cd', 'mi', 's9', 'hb', 'ug', 'p2', 'p8', 'sw', 'k8', 'ld', 'dq', 'k1', 'xa', 'f9', 'l5', 'eg', 'r9', '35', 'bo', 'g9', 'i3'}, 'dice_similarity': 0.0377}, {'uid': '7631', 'actual_two_grams': ['la', 'au', 'ur', 'ri', 'ie', 'ea', 'ar', 're', 'ev', 'va', 'al', 'lo', 'o6', '61', '18', '81', '19', '94', '44'], 'predicted_two_grams': {'io', 'pb', 'w9', 'ne', 'w7', 'wd', 'cj', '29', 'f8', 'tj', 'mf', 'p1', 'fx', 'p4', 'cd', 'mi', 's9', 'hb', 'ug', 'p2', 'p8', 'sw', 'k8', 'ld', 'dq', 'k1', 'xa', 'f9', 'l5', 'eg', 'r9', '35', 'bo', 'g9', 'i3'}, 'dice_similarity': 0.0}, {'uid': '5435', 'actual_two_grams': ['ka', 'at', 'th', 'he', 'er', 'rn', 'nh', 'ha', 'an', 'nk', 'ks', 's1', '11', '11', '11', '19', '98', '81'], 'predicted_two_grams': {'io', 'pb', 'w9', 'ne', 'w7', 'wd', 'cj', '29', 'f8', 'tj', 'mf', 'p1', 'fx', 'p4', 'cd', 'mi', 's9', 'hb', 'ug', 'p2', 'p8', 'sw', 'k8', 'ld', 'dq', 'k1', 'xa', 'f9', 'l5', 'eg', 'r9', '35', 'bo', 'g9', 'i3'}, 'dice_similarity': 0.0}, {'uid': '97775', 'actual_two_grams': ['de', 'el', 'll', 'la', 'ar', 'ro', 'oo', 'on', 'ne', 'ey', 'y1', '12', '25', '52', '20', '00', '00'], 'predicted_two_grams': {'io', 'pb', 'w9', 'ne', 'w7', 'wd', 'cj', '29', 'f8', 'tj', 'mf', 'p1', 'fx', 'p4', 'cd', 'mi', 's9', 'hb', 'ug', 'p2', 'p8', 'sw', 'k8', 'ld', 'dq', 'k1', 'xa', 'f9', 'l5', 'eg', 'r9', '35', 'bo', 'g9', 'i3'}, 'dice_similarity': 0.0392}, {'uid': '73499', 'actual_two_grams': ['ir', 're', 'en', 'ne', 'em', 'ma', 'ar', 'rt', 'ti', 'in', 'ne', 'ez', 'z2', '22', '25', '51', '19', '95', '52'], 'predicted_two_grams': {'io', 'pb', 'w9', 'ne', 'w7', 'wd', 'cj', '29', 'f8', 'tj', 'mf', 'p1', 'fx', 'p4', 'cd', 'mi', 's9', 'hb', 'ug', 'p2', 'p8', 'sw', 'k8', 'ld', 'dq', 'k1', 'xa', 'f9', 'l5', 'eg', 'r9', '35', 'bo', 'g9', 'i3'}, 'dice_similarity': 0.0377}, {'uid': '28187', 'actual_two_grams': ['ma', 'at', 'tt', 'th', 'he', 'ew', 'wp', 'pu', 'ur', 'rs', 'se', 'el', 'll', 'l2', '28', '81', '19', '96', '64'], 'predicted_two_grams': {'io', 'pb', 'w9', 'ne', 'w7', 'wd', 'cj', '29', 'f8', 'tj', 'mf', 'p1', 'fx', 'p4', 'cd', 'mi', 's9', 'hb', 'ug', 'p2', 'p8', 'sw', 'k8', 'ld', 'dq', 'k1', 'xa', 'f9', 'l5', 'eg', 'r9', '35', 'bo', 'g9', 'i3'}, 'dice_similarity': 0.0}, {'uid': '79776', 'actual_two_grams': ['el', 'li', 'iz', 'za', 'ab', 'be', 'et', 'th', 'hw', 'wa', 'as', 'sh', 'hi', 'in', 'ng', 'gt', 'to', 'on', 'n1', '12', '23', '30', '01', '19', '96', '69'], 'predicted_two_grams': {'io', 'pb', 'w9', 'ne', 'w7', 'wd', 'cj', '29', 'f8', 'tj', 'mf', 'p1', 'fx', 'p4', 'cd', 'mi', 's9', 'hb', 'ug', 'p2', 'p8', 'sw', 'k8', 'ld', 'dq', 'k1', 'xa', 'f9', 'l5', 'eg', 'r9', '35', 'bo', 'g9', 'i3'}, 'dice_similarity': 0.0}, {'uid': '97782', 'actual_two_grams': ['da', 'av', 'vi', 'id', 'dw', 'wi', 'il', 'll', 'li', 'ia', 'am', 'ms', 's1', '11', '13', '30', '01', '19', '96', '68'], 'predicted_two_grams': {'io', 'pb', 'w9', 'ne', 'w7', 'wd', 'cj', '29', 'f8', 'tj', 'mf', 'p1', 'fx', 'p4', 'cd', 'mi', 's9', 'hb', 'ug', 'p2', 'p8', 'sw', 'k8', 'ld', 'dq', 'k1', 'xa', 'f9', 'l5', 'eg', 'r9', '35', 'bo', 'g9', 'i3'}, 'dice_similarity': 0.0}, {'uid': '16774', 'actual_two_grams': ['mo', 'on', 'ni', 'ic', 'ca', 'aj', 'ji', 'im', 'me', 'en', 'ne', 'ez', 'z7', '71', '14', '41', '19', '93', '39'], 'predicted_two_grams': {'io', 'pb', 'w9', 'ne', 'w7', 'wd', 'cj', '29', 'f8', 'tj', 'mf', 'p1', 'fx', 'p4', 'cd', 'mi', 's9', 'hb', 'ug', 'p2', 'p8', 'sw', 'k8', 'ld', 'dq', 'k1', 'xa', 'f9', 'l5', 'eg', 'r9', '35', 'bo', 'g9', 'i3'}, 'dice_similarity': 0.037}, {'uid': '91595', 'actual_two_grams': ['de', 'el', 'll', 'la', 'as', 'sc', 'co', 'ot', 'tt', 't2', '26', '62', '20', '00', '02'], 'predicted_two_grams': {'io', 'pb', 'w9', 'ne', 'w7', 'wd', 'cj', '29', 'f8', 'tj', 'mf', 'p1', 'fx', 'p4', 'cd', 'mi', 's9', 'hb', 'ug', 'p2', 'p8', 'sw', 'k8', 'ld', 'dq', 'k1', 'xa', 'f9', 'l5', 'eg', 'r9', '35', 'bo', 'g9', 'i3'}, 'dice_similarity': 0.0}, {'uid': '6680', 'actual_two_grams': ['st', 'te', 'ep', 'ph', 'he', 'en', 'nm', 'me', 'ey', 'ye', 'er', 'r4', '42', '28', '81', '19', '95', '57'], 'predicted_two_grams': {'io', 'pb', 'w9', 'ne', 'w7', 'wd', 'cj', '29', 'f8', 'tj', 'mf', 'p1', 'fx', 'p4', 'cd', 'mi', 's9', 'hb', 'ug', 'p2', 'p8', 'sw', 'k8', 'ld', 'dq', 'k1', 'xa', 'f9', 'l5', 'eg', 'r9', '35', 'bo', 'g9', 'i3'}, 'dice_similarity': 0.0}, {'uid': '28072', 'actual_two_grams': ['ry', 'ya', 'an', 'np', 'pa', 'au', 'ul', 'li', 'in', 'ng', 'g3', '31', '11', '11', '19', '96', '66'], 'predicted_two_grams': {'io', 'pb', 'w9', 'ne', 'w7', 'wd', 'cj', '29', 'f8', 'tj', 'mf', 'p1', 'fx', 'p4', 'cd', 'mi', 's9', 'hb', 'ug', 'p2', 'p8', 'sw', 'k8', 'ld', 'dq', 'k1', 'xa', 'f9', 'l5', 'eg', 'r9', '35', 'bo', 'g9', 'i3'}, 'dice_similarity': 0.0}, {'uid': '3812', 'actual_two_grams': ['pa', 'au', 'ul', 'lv', 'va', 'al', 'le', 'er', 'ra', 'a1', '10', '01', '12', '21', '19', '97', '71'], 'predicted_two_grams': {'io', 'pb', 'w9', 'ne', 'w7', 'wd', 'cj', '29', 'f8', 'tj', 'mf', 'p1', 'fx', 'p4', 'cd', 'mi', 's9', 'hb', 'ug', 'p2', 'p8', 'sw', 'k8', 'ld', 'dq', 'k1', 'xa', 'f9', 'l5', 'eg', 'r9', '35', 'bo', 'g9', 'i3'}, 'dice_similarity': 0.0}, {'uid': '18525', 'actual_two_grams': ['ti', 'ie', 'er', 'rr', 'ra', 'ah', 'ha', 'ad', 'df', 'fi', 'ie', 'el', 'ld', 'd6', '61', '11', '11', '19', '94', '48'], 'predicted_two_grams': {'io', 'pb', 'w9', 'ne', 'w7', 'wd', 'cj', '29', 'f8', 'tj', 'mf', 'p1', 'fx', 'p4', 'cd', 'mi', 's9', 'hb', 'ug', 'p2', 'p8', 'sw', 'k8', 'ld', 'dq', 'k1', 'xa', 'f9', 'l5', 'eg', 'r9', '35', 'bo', 'g9', 'i3'}, 'dice_similarity': 0.0377}, {'uid': '97946', 'actual_two_grams': ['no', 'oa', 'ah', 'hr', 'ro', 'oo', 'os', 'se', 'ev', 've', 'el', 'lt', 't9', '91', '15', '51', '19', '98', '80'], 'predicted_two_grams': {'io', 'pb', 'w9', 'ne', 'w7', 'wd', 'cj', '29', 'f8', 'tj', 'mf', 'p1', 'fx', 'p4', 'cd', 'mi', 's9', 'hb', 'ug', 'p2', 'p8', 'sw', 'k8', 'ld', 'dq', 'k1', 'xa', 'f9', 'l5', 'eg', 'r9', '35', 'bo', 'g9', 'i3'}, 'dice_similarity': 0.0}, {'uid': '71655', 'actual_two_grams': ['do', 'ol', 'lo', 'or', 're', 'es', 'sd', 'do', 'ou', 'ug', 'gl', 'la', 'as', 's1', '12', '25', '51', '19', '99', '99'], 'predicted_two_grams': {'io', 'pb', 'w9', 'ne', 'w7', 'wd', 'cj', '29', 'f8', 'tj', 'mf', 'p1', 'fx', 'p4', 'cd', 'mi', 's9', 'hb', 'ug', 'p2', 'p8', 'sw', 'k8', 'ld', 'dq', 'k1', 'xa', 'f9', 'l5', 'eg', 'r9', '35', 'bo', 'g9', 'i3'}, 'dice_similarity': 0.0377}, {'uid': '32542', 'actual_two_grams': ['lu', 'uc', 'cy', 'yr', 'ra', 'ay', 'yb', 'bu', 'ur', 'rn', 'n9', '91', '19', '91', '19', '99', '99'], 'predicted_two_grams': {'io', 'pb', 'w9', 'ne', 'w7', 'wd', 'cj', '29', 'f8', 'tj', 'mf', 'p1', 'fx', 'p4', 'cd', 'mi', 's9', 'hb', 'ug', 'p2', 'p8', 'sw', 'k8', 'ld', 'dq', 'k1', 'xa', 'f9', 'l5', 'eg', 'r9', '35', 'bo', 'g9', 'i3'}, 'dice_similarity': 0.0}, {'uid': '37561', 'actual_two_grams': ['ar', 'rm', 'ma', 'an', 'nd', 'do', 'os', 'se', 'et', 'to', 'o8', '83', '31', '11', '19', '95', '51'], 'predicted_two_grams': {'io', 'pb', 'w9', 'ne', 'w7', 'wd', 'cj', '29', 'f8', 'tj', 'mf', 'p1', 'fx', 'p4', 'cd', 'mi', 's9', 'hb', 'ug', 'p2', 'p8', 'sw', 'k8', 'ld', 'dq', 'k1', 'xa', 'f9', 'l5', 'eg', 'r9', '35', 'bo', 'g9', 'i3'}, 'dice_similarity': 0.0}, {'uid': '80997', 'actual_two_grams': ['je', 'ef', 'ff', 'fr', 're', 'ey', 'ya', 'ag', 'gu', 'ui', 'ir', 'rr', 're', 'e4', '41', '11', '19', '95', '55'], 'predicted_two_grams': {'io', 'pb', 'w9', 'ne', 'w7', 'wd', 'cj', '29', 'f8', 'tj', 'mf', 'p1', 'fx', 'p4', 'cd', 'mi', 's9', 'hb', 'ug', 'p2', 'p8', 'sw', 'k8', 'ld', 'dq', 'k1', 'xa', 'f9', 'l5', 'eg', 'r9', '35', 'bo', 'g9', 'i3'}, 'dice_similarity': 0.0}, {'uid': '8237', 'actual_two_grams': ['ad', 'dr', 'ri', 'ia', 'an', 'np', 'pa', 'at', 'tt', 't9', '91', '13', '31', '19', '98', '83'], 'predicted_two_grams': {'io', 'pb', 'w9', 'ne', 'w7', 'wd', 'cj', '29', 'f8', 'tj', 'mf', 'p1', 'fx', 'p4', 'cd', 'mi', 's9', 'hb', 'ug', 'p2', 'p8', 'sw', 'k8', 'ld', 'dq', 'k1', 'xa', 'f9', 'l5', 'eg', 'r9', '35', 'bo', 'g9', 'i3'}, 'dice_similarity': 0.0}, {'uid': '68304', 'actual_two_grams': ['ca', 'ar', 'rm', 'me', 'en', 'nj', 'ja', 'am', 'me', 'es', 's6', '61', '13', '31', '19', '97', '70'], 'predicted_two_grams': {'io', 'pb', 'w9', 'ne', 'w7', 'wd', 'cj', '29', 'f8', 'tj', 'mf', 'p1', 'fx', 'p4', 'cd', 'mi', 's9', 'hb', 'ug', 'p2', 'p8', 'sw', 'k8', 'ld', 'dq', 'k1', 'xa', 'f9', 'l5', 'eg', 'r9', '35', 'bo', 'g9', 'i3'}, 'dice_similarity': 0.0}, {'uid': '67990', 'actual_two_grams': ['pe', 'ea', 'ar', 'rl', 'lb', 'br', 'ri', 'it', 'tt', 'to', 'on', 'n6', '62', '21', '19', '95', '53'], 'predicted_two_grams': {'io', 'pb', 'w9', 'ne', 'w7', 'wd', 'cj', '29', 'f8', 'tj', 'mf', 'p1', 'fx', 'p4', 'cd', 'mi', 's9', 'hb', 'ug', 'p2', 'p8', 'sw', 'k8', 'ld', 'dq', 'k1', 'xa', 'f9', 'l5', 'eg', 'r9', '35', 'bo', 'g9', 'i3'}, 'dice_similarity': 0.0}, {'uid': '18579', 'actual_two_grams': ['do', 'or', 'ri', 'is', 'sg', 'go', 'or', 'rm', 'ma', 'an', 'n2', '21', '10', '01', '19', '94', '45'], 'predicted_two_grams': {'io', 'pb', 'w9', 'ne', 'w7', 'wd', 'cj', '29', 'f8', 'tj', 'mf', 'p1', 'fx', 'p4', 'cd', 'mi', 's9', 'hb', 'ug', 'p2', 'p8', 'sw', 'k8', 'ld', 'dq', 'k1', 'xa', 'f9', 'l5', 'eg', 'r9', '35', 'bo', 'g9', 'i3'}, 'dice_similarity': 0.0}, {'uid': '56171', 'actual_two_grams': ['do', 'on', 'nn', 'na', 'ac', 'cu', 'us', 'sh', 'hm', 'ma', 'an', 'n1', '12', '20', '01', '19', '94', '47'], 'predicted_two_grams': {'io', 'pb', 'w9', 'ne', 'w7', 'wd', 'cj', '29', 'f8', 'tj', 'mf', 'p1', 'fx', 'p4', 'cd', 'mi', 's9', 'hb', 'ug', 'p2', 'p8', 'sw', 'k8', 'ld', 'dq', 'k1', 'xa', 'f9', 'l5', 'eg', 'r9', '35', 'bo', 'g9', 'i3'}, 'dice_similarity': 0.0}, {'uid': '36903', 'actual_two_grams': ['sh', 'ha', 'an', 'nn', 'no', 'on', 'nh', 'he', 'er', 'rn', 'na', 'an', 'nd', 'de', 'ez', 'z3', '32', '23', '31', '19', '97', '76'], 'predicted_two_grams': {'io', 'pb', 'w9', 'ne', 'w7', 'wd', 'cj', '29', 'f8', 'tj', 'mf', 'p1', 'fx', 'p4', 'cd', 'mi', 's9', 'hb', 'ug', 'p2', 'p8', 'sw', 'k8', 'ld', 'dq', 'k1', 'xa', 'f9', 'l5', 'eg', 'r9', '35', 'bo', 'g9', 'i3'}, 'dice_similarity': 0.0}, {'uid': '20671', 'actual_two_grams': ['te', 'er', 'rr', 'ry', 'yw', 'wa', 'at', 'tk', 'ki', 'in', 'ns', 's1', '12', '22', '22', '21', '19', '96', '66'], 'predicted_two_grams': {'io', 'pb', 'w9', 'ne', 'w7', 'wd', 'cj', '29', 'f8', 'tj', 'mf', 'p1', 'fx', 'p4', 'cd', 'mi', 's9', 'hb', 'ug', 'p2', 'p8', 'sw', 'k8', 'ld', 'dq', 'k1', 'xa', 'f9', 'l5', 'eg', 'r9', '35', 'bo', 'g9', 'i3'}, 'dice_similarity': 0.0}, {'uid': '60412', 'actual_two_grams': ['el', 'li', 'iz', 'za', 'ab', 'be', 'et', 'th', 'hd', 'de', 'es', 'sr', 'ro', 'os', 'si', 'ie', 'er', 'rs', 's6', '62', '25', '52', '20', '00', '03'], 'predicted_two_grams': {'io', 'pb', 'w9', 'ne', 'w7', 'wd', 'cj', '29', 'f8', 'tj', 'mf', 'p1', 'fx', 'p4', 'cd', 'mi', 's9', 'hb', 'ug', 'p2', 'p8', 'sw', 'k8', 'ld', 'dq', 'k1', 'xa', 'f9', 'l5', 'eg', 'r9', '35', 'bo', 'g9', 'i3'}, 'dice_similarity': 0.0}, {'uid': '14776', 'actual_two_grams': ['sa', 'ar', 'ra', 'ah', 'hm', 'mo', 'or', 'rg', 'ga', 'an', 'n3', '32', '22', '21', '19', '99', '93'], 'predicted_two_grams': {'io', 'pb', 'w9', 'ne', 'w7', 'wd', 'cj', '29', 'f8', 'tj', 'mf', 'p1', 'fx', 'p4', 'cd', 'mi', 's9', 'hb', 'ug', 'p2', 'p8', 'sw', 'k8', 'ld', 'dq', 'k1', 'xa', 'f9', 'l5', 'eg', 'r9', '35', 'bo', 'g9', 'i3'}, 'dice_similarity': 0.0}, {'uid': '1346', 'actual_two_grams': ['fl', 'lo', 'or', 're', 'en', 'nc', 'ce', 'eb', 'bo', 'os', 'sw', 'we', 'el', 'll', 'l4', '41', '19', '91', '19', '97', '79'], 'predicted_two_grams': {'io', 'pb', 'w9', 'ne', 'w7', 'wd', 'cj', '29', 'f8', 'tj', 'mf', 'p1', 'fx', 'p4', 'cd', 'mi', 's9', 'hb', 'ug', 'p2', 'p8', 'sw', 'k8', 'ld', 'dq', 'k1', 'xa', 'f9', 'l5', 'eg', 'r9', '35', 'bo', 'g9', 'i3'}, 'dice_similarity': 0.0727}, {'uid': '76654', 'actual_two_grams': ['we', 'en', 'nd', 'dy', 'ys', 'sw', 'wa', 'an', 'nk', 'k8', '82', '22', '21', '19', '96', '69'], 'predicted_two_grams': {'io', 'pb', 'w9', 'ne', 'w7', 'wd', 'cj', '29', 'f8', 'tj', 'mf', 'p1', 'fx', 'p4', 'cd', 'mi', 's9', 'hb', 'ug', 'p2', 'p8', 'sw', 'k8', 'ld', 'dq', 'k1', 'xa', 'f9', 'l5', 'eg', 'r9', '35', 'bo', 'g9', 'i3'}, 'dice_similarity': 0.0784}, {'uid': '57833', 'actual_two_grams': ['re', 'ey', 'yn', 'na', 'al', 'ld', 'do', 'oc', 'ca', 'ab', 'br', 're', 'er', 'ra', 'a1', '10', '01', '18', '82', '20', '00', '00'], 'predicted_two_grams': {'io', 'pb', 'w9', 'ne', 'w7', 'wd', 'cj', '29', 'f8', 'tj', 'mf', 'p1', 'fx', 'p4', 'cd', 'mi', 's9', 'hb', 'ug', 'p2', 'p8', 'sw', 'k8', 'ld', 'dq', 'k1', 'xa', 'f9', 'l5', 'eg', 'r9', '35', 'bo', 'g9', 'i3'}, 'dice_similarity': 0.0364}, {'uid': '55970', 'actual_two_grams': ['de', 'en', 'nn', 'ni', 'is', 'sj', 'ja', 'ac', 'ck', 'ks', 'so', 'on', 'n1', '10', '02', '23', '31', '19', '97', '70'], 'predicted_two_grams': {'io', 'pb', 'w9', 'ne', 'w7', 'wd', 'cj', '29', 'f8', 'tj', 'mf', 'p1', 'fx', 'p4', 'cd', 'mi', 's9', 'hb', 'ug', 'p2', 'p8', 'sw', 'k8', 'ld', 'dq', 'k1', 'xa', 'f9', 'l5', 'eg', 'r9', '35', 'bo', 'g9', 'i3'}, 'dice_similarity': 0.0}, {'uid': '43685', 'actual_two_grams': ['ku', 'ur', 'rt', 'tk', 'ke', 'el', 'll', 'ly', 'y1', '11', '12', '25', '51', '19', '95', '57'], 'predicted_two_grams': {'io', 'pb', 'w9', 'ne', 'w7', 'wd', 'cj', '29', 'f8', 'tj', 'mf', 'p1', 'fx', 'p4', 'cd', 'mi', 's9', 'hb', 'ug', 'p2', 'p8', 'sw', 'k8', 'ld', 'dq', 'k1', 'xa', 'f9', 'l5', 'eg', 'r9', '35', 'bo', 'g9', 'i3'}, 'dice_similarity': 0.0}, {'uid': '24989', 'actual_two_grams': ['li', 'in', 'nd', 'da', 'aj', 'jo', 'on', 'ne', 'es', 's8', '82', '21', '11', '19', '98', '80'], 'predicted_two_grams': {'io', 'pb', 'w9', 'ne', 'w7', 'wd', 'cj', '29', 'f8', 'tj', 'mf', 'p1', 'fx', 'p4', 'cd', 'mi', 's9', 'hb', 'ug', 'p2', 'p8', 'sw', 'k8', 'ld', 'dq', 'k1', 'xa', 'f9', 'l5', 'eg', 'r9', '35', 'bo', 'g9', 'i3'}, 'dice_similarity': 0.0392}, {'uid': '49197', 'actual_two_grams': ['sa', 'am', 'mu', 'ue', 'el', 'lb', 'bo', 'oc', 'ck', 'k7', '71', '10', '01', '19', '96', '64'], 'predicted_two_grams': {'io', 'pb', 'w9', 'ne', 'w7', 'wd', 'cj', '29', 'f8', 'tj', 'mf', 'p1', 'fx', 'p4', 'cd', 'mi', 's9', 'hb', 'ug', 'p2', 'p8', 'sw', 'k8', 'ld', 'dq', 'k1', 'xa', 'f9', 'l5', 'eg', 'r9', '35', 'bo', 'g9', 'i3'}, 'dice_similarity': 0.0392}, {'uid': '85184', 'actual_two_grams': ['st', 'te', 'ev', 've', 'en', 'nr', 'ra', 'am', 'mi', 'ir', 're', 'ez', 'z6', '63', '30', '01', '19', '93', '37'], 'predicted_two_grams': {'io', 'pb', 'w9', 'ne', 'w7', 'wd', 'cj', '29', 'f8', 'tj', 'mf', 'p1', 'fx', 'p4', 'cd', 'mi', 's9', 'hb', 'ug', 'p2', 'p8', 'sw', 'k8', 'ld', 'dq', 'k1', 'xa', 'f9', 'l5', 'eg', 'r9', '35', 'bo', 'g9', 'i3'}, 'dice_similarity': 0.037}, {'uid': '1465', 'actual_two_grams': ['gr', 're', 'eg', 'go', 'or', 'ri', 'io', 'op', 'pa', 'ar', 'rk', 'ke', 'er', 'r2', '21', '14', '41', '19', '99', '98'], 'predicted_two_grams': {'io', 'pb', 'w9', 'ne', 'w7', 'wd', 'cj', '29', 'f8', 'tj', 'mf', 'p1', 'fx', 'p4', 'cd', 'mi', 's9', 'hb', 'ug', 'p2', 'p8', 'sw', 'k8', 'ld', 'dq', 'k1', 'xa', 'f9', 'l5', 'eg', 'r9', '35', 'bo', 'g9', 'i3'}, 'dice_similarity': 0.0727}, {'uid': '58465', 'actual_two_grams': ['ed', 'dw', 'wi', 'in', 'nr', 'ri', 'iv', 've', 'er', 'ra', 'a1', '12', '23', '31', '11', '19', '96', '63'], 'predicted_two_grams': {'io', 'pb', 'w9', 'ne', 'w7', 'wd', 'cj', '29', 'f8', 'tj', 'mf', 'p1', 'fx', 'p4', 'cd', 'mi', 's9', 'hb', 'ug', 'p2', 'p8', 'sw', 'k8', 'ld', 'dq', 'k1', 'xa', 'f9', 'l5', 'eg', 'r9', '35', 'bo', 'g9', 'i3'}, 'dice_similarity': 0.0}, {'uid': '43574', 'actual_two_grams': ['vi', 'ir', 'rg', 'gi', 'il', 'll', 'la', 'ar', 'rs', 'so', 'on', 'n3', '31', '13', '31', '19', '93', '37'], 'predicted_two_grams': {'io', 'pb', 'w9', 'ne', 'w7', 'wd', 'cj', '29', 'f8', 'tj', 'mf', 'p1', 'fx', 'p4', 'cd', 'mi', 's9', 'hb', 'ug', 'p2', 'p8', 'sw', 'k8', 'ld', 'dq', 'k1', 'xa', 'f9', 'l5', 'eg', 'r9', '35', 'bo', 'g9', 'i3'}, 'dice_similarity': 0.0}]\n"
     ]
    }
   ],
   "source": [
    "# List to store decoded 2-gram scores for all test samples\n",
    "decoded_test_results_words = []\n",
    "combined_results_performance = []\n",
    "\n",
    "# Switch to evaluation mode (no gradient computation during inference)\n",
    "model.eval()\n",
    "\n",
    "# Define Threshold for filtering predictions\n",
    "threshold = DEA_CONFIG[\"FilterThreshold\"]\n",
    "\n",
    "# Loop through the test dataloader for inference\n",
    "with torch.no_grad():  # No need to compute gradients during inference\n",
    "    for data_batch, uids in tqdm(dataloader_test, desc=\"Test loop\"):\n",
    "        # Filter relevant individuals from the dataset based on UIDs\n",
    "        filtered_df = df_all[df_all[\"uid\"].isin(uids)].drop(df_all.columns[-2], axis=1) # Drop encoding column\n",
    "\n",
    "        # Extract 2-grams from actual data for comparison\n",
    "        actual_two_grams_batch = []\n",
    "        for _, entry in filtered_df.iterrows():\n",
    "            row = entry[:-1]  # Exclude UID from row\n",
    "            extracted_two_grams = extract_two_grams(\"\".join(map(str, row)))  # Extract 2-grams from the row\n",
    "            actual_two_grams_batch.append({\"uid\": entry[\"uid\"], \"two_grams\": extracted_two_grams})\n",
    "\n",
    "        # Move the batch of data to the device (e.g., GPU)\n",
    "        data_batch = data_batch.to(compute_device)\n",
    "\n",
    "        # Apply the model to get logits (raw predictions)\n",
    "        logits = model(data_batch)\n",
    "\n",
    "        # Convert logits to probabilities using sigmoid (binary classification)\n",
    "        probabilities = torch.sigmoid(logits)\n",
    "\n",
    "        # Convert probabilities into 2-gram scores (using the two_gram_dict to map to 2-gram labels)\n",
    "        batch_two_gram_scores = [\n",
    "            {two_gram_dict[j]: score.item() for j, score in enumerate(probabilities[i])}  # Map each probability to its 2-gram\n",
    "            for i in range(probabilities.size(0))  # Iterate over each sample in the batch\n",
    "        ]\n",
    "\n",
    "        # Apply threshold to filter out low-scoring 2-grams\n",
    "        batch_filtered_two_gram_scores = [\n",
    "            {two_gram: score for two_gram, score in two_gram_scores.items() if score > threshold}  # Only keep scores above threshold\n",
    "            for two_gram_scores in batch_two_gram_scores\n",
    "        ]\n",
    "\n",
    "        # Filtered 2-grams per UID in the batch\n",
    "        filtered_two_grams = [\n",
    "            {\"uid\": uid, \"two_grams\": {key for key in two_grams.keys()}}  # Only keep the 2-gram keys (no scores)\n",
    "            for uid, two_grams in zip(uids, batch_filtered_two_gram_scores)\n",
    "        ]\n",
    "\n",
    "        # Reconstruct words from the filtered 2-grams for each sample\n",
    "        batch_reconstructed_words = [\n",
    "            reconstruct_words(filtered_scores) for filtered_scores in batch_filtered_two_gram_scores\n",
    "        ]\n",
    "\n",
    "        # Append the reconstructed words to the results list\n",
    "        decoded_test_results_words.extend(batch_reconstructed_words)\n",
    "\n",
    "        # Compare predicted 2-grams with actual 2-grams and calculate performance metrics\n",
    "        for entry_two_grams_batch in actual_two_grams_batch:  # Loop through each UID in the batch\n",
    "            for entry_filtered_two_grams in filtered_two_grams:\n",
    "                if entry_two_grams_batch[\"uid\"] == entry_filtered_two_grams[\"uid\"]:\n",
    "                    # Calculate Dice similarity between actual and predicted 2-grams\n",
    "                    combined_results_performance.append({\n",
    "                        \"uid\": entry_two_grams_batch[\"uid\"],\n",
    "                        \"actual_two_grams\": entry_two_grams_batch[\"two_grams\"],  # Get actual 2-grams for this UID\n",
    "                        \"predicted_two_grams\": entry_filtered_two_grams[\"two_grams\"],  # Get predicted 2-grams for this UID\n",
    "                        \"dice_similarity\": dice_coefficient(entry_two_grams_batch[\"two_grams\"], entry_filtered_two_grams[\"two_grams\"]),\n",
    "                    })\n",
    "\n",
    "# Now `combined_results_performance` contains detailed comparison for all test samples\n",
    "print(combined_results_performance)\n"
   ]
  }
 ],
 "metadata": {
  "kernelspec": {
   "display_name": "Python 3",
   "language": "python",
   "name": "python3"
  },
  "language_info": {
   "codemirror_mode": {
    "name": "ipython",
    "version": 3
   },
   "file_extension": ".py",
   "mimetype": "text/x-python",
   "name": "python",
   "nbconvert_exporter": "python",
   "pygments_lexer": "ipython3",
   "version": "3.10.16"
  }
 },
 "nbformat": 4,
 "nbformat_minor": 2
}
